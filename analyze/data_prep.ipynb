{
 "cells": [
  {
   "cell_type": "code",
   "execution_count": 6,
   "metadata": {},
   "outputs": [],
   "source": [
    "from pyhive import hive\n",
    "import pymysql\n",
    "conn = hive.Connection(host='127.0.0.1', port=10000, username='hadoop')\n",
    "cursor = conn.cursor()"
   ]
  },
  {
   "cell_type": "code",
   "execution_count": 2,
   "metadata": {},
   "outputs": [],
   "source": [
    "def exec_sql(sql):\n",
    "    cursor.execute(sql)\n",
    "    for result in cursor.fetchall():\n",
    "        print(result)"
   ]
  },
  {
   "cell_type": "markdown",
   "metadata": {},
   "source": [
    "# 实现hive和hbase映射"
   ]
  },
  {
   "cell_type": "code",
   "execution_count": 8,
   "metadata": {},
   "outputs": [],
   "source": [
    "cursor.execute(\"DROP TABLE IF EXISTS film44\")"
   ]
  },
  {
   "cell_type": "code",
   "execution_count": 9,
   "metadata": {},
   "outputs": [],
   "source": [
    "mapping_from_hbase_to_hive_sql = '''CREATE EXTERNAL TABLE film44(id string, \n",
    "name string, \n",
    "male float, \n",
    "female float, \n",
    "under20 float, \n",
    "20to24 float, \n",
    "25to29 float, \n",
    "30to34 float, \n",
    "35to39 float, \n",
    "above40 float, \n",
    "degree_high float, \n",
    "degree_low float, \n",
    "city1 float, \n",
    "city2 float, \n",
    "city3 float, \n",
    "city4 float, \n",
    "occupation_whitecollar float, \n",
    "occupation_student float, \n",
    "occupation_others float, \n",
    "preference_action float, \n",
    "preference_comedy float, \n",
    "preference_romance float, \n",
    "occupation_science float, \n",
    "occupation_animate float, \n",
    "director string, \n",
    "actor1 string, \n",
    "actor2 string, \n",
    "actor3 string, \n",
    "actor4 string, \n",
    "t_romance int, \n",
    "t_comedy int, \n",
    "t_animate int, \n",
    "t_plot int, \n",
    "t_horror int, \n",
    "t_thriller int, \n",
    "t_science int, \n",
    "t_action int, \n",
    "t_suspense int, \n",
    "t_crime int, \n",
    "t_adventure int, \n",
    "t_war int, \n",
    "t_fantasy int, \n",
    "t_sports int, \n",
    "t_family int, \n",
    "t_costume int, \n",
    "t_sword int, \n",
    "t_cowboy int, \n",
    "t_history int, \n",
    "t_biography int, \n",
    "t_dance int, \n",
    "t_dark int, \n",
    "t_short int, \n",
    "t_documentary int, \n",
    "t_others int, \n",
    "c_Mainland int, \n",
    "c_America int, \n",
    "c_Korea int, \n",
    "c_Japan int, \n",
    "c_Hongkong int, \n",
    "c_Taiwan int, \n",
    "c_Thailand int, \n",
    "c_India int, \n",
    "c_France int, \n",
    "c_England int, \n",
    "c_Russia int, \n",
    "c_Italy int, \n",
    "c_Spain int, \n",
    "c_Germany int, \n",
    "c_Poland int, \n",
    "c_Australia int, \n",
    "c_Iran int, \n",
    "c_Others int, \n",
    "boxoffice float, \n",
    "mdate string, \n",
    "length int, \n",
    "score float, \n",
    "score_people float) \n",
    "STORED BY 'org.apache.hadoop.hive.hbase.HBaseStorageHandler' WITH SERDEPROPERTIES (\"hbase.columns.mapping\" = \":key,\n",
    "f:n,\n",
    "f:m,\n",
    "f:fm,\n",
    "f:un20,\n",
    "f:20to24,\n",
    "f:25to29,\n",
    "f:30to34,\n",
    "f:35to39,\n",
    "f:ab40,\n",
    "f:dg_h,\n",
    "f:dg_l,\n",
    "f:ct1,\n",
    "f:ct2,\n",
    "f:ct3,\n",
    "f:ct4,\n",
    "f:oc_w,\n",
    "f:oc_s,\n",
    "f:oc_o,\n",
    "f:pf_ac,\n",
    "f:pf_co,\n",
    "f:pf_ro,\n",
    "f:pf_sc,\n",
    "f:pf_an,\n",
    "f:dr,\n",
    "f:a1,\n",
    "f:a2,\n",
    "f:a3,\n",
    "f:a4,\n",
    "f:t_aq,\n",
    "f:t_xj,\n",
    "f:t_dh,\n",
    "f:t_jq,\n",
    "f:t_kb,\n",
    "f:t_js,\n",
    "f:t_kh,\n",
    "f:t_dz,\n",
    "f:t_xy,\n",
    "f:t_fz,\n",
    "f:t_mx,\n",
    "f:t_zz,\n",
    "f:t_qh,\n",
    "f:t_yd,\n",
    "f:t_jt,\n",
    "f:t_gz,\n",
    "f:t_wx,\n",
    "f:t_xb,\n",
    "f:t_ls,\n",
    "f:t_zj,\n",
    "f:t_gw,\n",
    "f:t_hs,\n",
    "f:t_dp,\n",
    "f:t_jl,\n",
    "f:t_qt,\n",
    "f:c_dl,\n",
    "f:c_mg,\n",
    "f:c_hg,\n",
    "f:c_rb,\n",
    "f:c_xg,\n",
    "f:c_tw,\n",
    "f:c_tg,\n",
    "f:c_yd,\n",
    "f:c_fg,\n",
    "f:c_yg,\n",
    "f:c_els,\n",
    "f:c_ydl,\n",
    "f:c_xby,\n",
    "f:c_dg,\n",
    "f:c_bl,\n",
    "f:c_ad,\n",
    "f:c_yl,\n",
    "f:c_qt,\n",
    "f:bof,\n",
    "f:da,\n",
    "f:len,\n",
    "f:sc,\n",
    "f:sc_p\") TBLPROPERTIES(\"hbase.table.name\" = \"film22\")\n",
    "'''"
   ]
  },
  {
   "cell_type": "code",
   "execution_count": null,
   "metadata": {},
   "outputs": [],
   "source": [
    "cursor.execute(mapping_from_hbase_to_hive_sql)"
   ]
  },
  {
   "cell_type": "code",
   "execution_count": null,
   "metadata": {},
   "outputs": [],
   "source": [
    "exec_sql('select * from film44 limit 3')"
   ]
  },
  {
   "cell_type": "code",
   "execution_count": null,
   "metadata": {},
   "outputs": [],
   "source": [
    "exec_sql('select count(*) from film44')"
   ]
  },
  {
   "cell_type": "raw",
   "metadata": {},
   "source": [
    "由于已在爬虫阶段进行了数据清洗，所以此处数据清洗不再重复进行"
   ]
  },
  {
   "cell_type": "markdown",
   "metadata": {},
   "source": [
    "# 依据需求文档进行数据提取"
   ]
  },
  {
   "cell_type": "markdown",
   "metadata": {},
   "source": [
    "# table_1_district(地区分布）"
   ]
  },
  {
   "cell_type": "code",
   "execution_count": null,
   "metadata": {},
   "outputs": [],
   "source": [
    "district_sql = '''SELECT (t2.v / t4.s) * 100.0,(t6.v / t8.s) * 100.0,(t10.v / t12.s) * 100.0,(t14.v / t16.s) * 100.0   FROM (SELECT SUM(t1.city1) AS v FROM film44 t1) t2 JOIN (SELECT count(t3.city1) as s FROM film44 t3) t4 JOIN (SELECT SUM(t5.city2) AS v FROM film44 t5) t6 JOIN (SELECT count(t7.city2) as s FROM film44 t7) t8 JOIN (SELECT SUM(t9.city3) AS v FROM film44 t9) t10 JOIN (SELECT count(t11.city3) as s FROM film44 t11) t12 JOIN (SELECT SUM(t13.city4) AS v FROM film44 t13) t14 JOIN (SELECT count(t15.city4) as s FROM film44 t15) t16'''"
   ]
  },
  {
   "cell_type": "code",
   "execution_count": null,
   "metadata": {},
   "outputs": [],
   "source": [
    "exec_sql(district_sql)"
   ]
  },
  {
   "cell_type": "code",
   "execution_count": null,
   "metadata": {},
   "outputs": [],
   "source": [
    "del district_sql"
   ]
  },
  {
   "cell_type": "markdown",
   "metadata": {},
   "source": [
    "# table_2_relation_bet_gen_and_bo（性别和票房的关系）"
   ]
  },
  {
   "cell_type": "code",
   "execution_count": null,
   "metadata": {},
   "outputs": [],
   "source": [
    "relation_bet_gen_and_bo_sql = '''select male*100,female*100,boxoffice from film44'''"
   ]
  },
  {
   "cell_type": "code",
   "execution_count": null,
   "metadata": {},
   "outputs": [],
   "source": [
    "exec_sql(relation_bet_gen_and_bo_sql)"
   ]
  },
  {
   "cell_type": "code",
   "execution_count": null,
   "metadata": {},
   "outputs": [],
   "source": [
    "del relation_bet_gen_and_bo_sql"
   ]
  },
  {
   "cell_type": "markdown",
   "metadata": {},
   "source": [
    "# table_3_female_per_by_hyear(每半年统计一次）"
   ]
  },
  {
   "cell_type": "raw",
   "metadata": {},
   "source": [
    "2016上半年"
   ]
  },
  {
   "cell_type": "code",
   "execution_count": null,
   "metadata": {},
   "outputs": [],
   "source": [
    "sixt_fh_sql ='''SELECT '2016fh',(t2.v / t4.s) * 100.0 FROM (SELECT SUM(t1.female) AS v FROM film44 t1 WHERE t1.mdate <='2016-05-31' AND t1.mdate>='2016-01-01') t2 JOIN (SELECT sum(t3.female) as s FROM film44 t3 WHERE t3.mdate <='2016-12-31' AND t3.mdate>='2016-01-01') t4'''"
   ]
  },
  {
   "cell_type": "code",
   "execution_count": null,
   "metadata": {},
   "outputs": [],
   "source": [
    "exec_sql(sixt_fh_sql)"
   ]
  },
  {
   "cell_type": "code",
   "execution_count": null,
   "metadata": {},
   "outputs": [],
   "source": [
    "del sixt_fh_sql"
   ]
  },
  {
   "cell_type": "raw",
   "metadata": {},
   "source": [
    "2016下半年"
   ]
  },
  {
   "cell_type": "code",
   "execution_count": null,
   "metadata": {},
   "outputs": [],
   "source": [
    "sixt_sh_sql = '''SELECT '2016sh',(t2.v / t4.s) * 100.0 FROM (SELECT SUM(t1.female) AS v FROM film44 t1 WHERE t1.mdate <'2016-12-31' AND t1.mdate>'2016-06-01') t2 JOIN (SELECT sum(t3.female) as s FROM film44 t3 WHERE t3.mdate <='2016-12-31' AND t3.mdate>='2016-01-01') t4'''"
   ]
  },
  {
   "cell_type": "code",
   "execution_count": null,
   "metadata": {},
   "outputs": [],
   "source": [
    "exec_sql(sixt_sh_sql)"
   ]
  },
  {
   "cell_type": "code",
   "execution_count": null,
   "metadata": {},
   "outputs": [],
   "source": [
    "del sixt_sh_sql"
   ]
  },
  {
   "cell_type": "raw",
   "metadata": {},
   "source": [
    "2017上半年"
   ]
  },
  {
   "cell_type": "code",
   "execution_count": null,
   "metadata": {},
   "outputs": [],
   "source": [
    "sevente_fh_sql = '''SELECT '2017fh',(t2.v / t4.s) * 100.0 FROM (SELECT SUM(t1.female) AS v FROM film44 t1 WHERE t1.mdate <='2017-05-31' AND t1.mdate>='2017-01-01') t2 JOIN (SELECT sum(t3.female) as s FROM film44 t3 WHERE t3.mdate <='2017-12-31' AND t3.mdate>='2017-01-01') t4'''"
   ]
  },
  {
   "cell_type": "code",
   "execution_count": null,
   "metadata": {},
   "outputs": [],
   "source": [
    "exec_sql(sevente_fh_sql)"
   ]
  },
  {
   "cell_type": "code",
   "execution_count": null,
   "metadata": {},
   "outputs": [],
   "source": [
    "del sevente_fh_sql"
   ]
  },
  {
   "cell_type": "raw",
   "metadata": {},
   "source": [
    "2017下半年"
   ]
  },
  {
   "cell_type": "code",
   "execution_count": null,
   "metadata": {},
   "outputs": [],
   "source": [
    "sevent_sh_sql= '''SELECT '2017sh',(t2.v / t4.s) * 100.0 FROM (SELECT SUM(t1.female) AS v FROM film44 t1 WHERE t1.mdate <='2017-12-31' AND t1.mdate>='2017-06-01') t2 JOIN (SELECT sum(t3.female) as s FROM film44 t3 WHERE t3.mdate <='2017-12-31' AND t3.mdate>='2017-01-01') t4'''"
   ]
  },
  {
   "cell_type": "code",
   "execution_count": null,
   "metadata": {},
   "outputs": [],
   "source": [
    "exec_sql(sevent_sh_sql)"
   ]
  },
  {
   "cell_type": "code",
   "execution_count": null,
   "metadata": {},
   "outputs": [],
   "source": [
    "del sevent_sh_sql"
   ]
  },
  {
   "cell_type": "raw",
   "metadata": {},
   "source": [
    "2018上半年"
   ]
  },
  {
   "cell_type": "code",
   "execution_count": null,
   "metadata": {},
   "outputs": [],
   "source": [
    "eighte_fh_sql = '''SELECT '2018fh',(t2.v / t4.s) * 100.0 FROM (SELECT SUM(t1.female) AS v FROM film44 t1 WHERE t1.mdate <='2018-05-31' AND t1.mdate>='2018-01-01') t2 JOIN (SELECT sum(t3.female) as s FROM film44 t3 WHERE t3.mdate <='2018-12-31' AND t3.mdate>='2018-01-01') t4'''"
   ]
  },
  {
   "cell_type": "code",
   "execution_count": null,
   "metadata": {},
   "outputs": [],
   "source": [
    "exec_sql(eighte_fh_sql)"
   ]
  },
  {
   "cell_type": "code",
   "execution_count": null,
   "metadata": {},
   "outputs": [],
   "source": [
    "del eighte_fh_sql"
   ]
  },
  {
   "cell_type": "raw",
   "metadata": {},
   "source": [
    "2018下半年"
   ]
  },
  {
   "cell_type": "code",
   "execution_count": null,
   "metadata": {},
   "outputs": [],
   "source": [
    "eighte_sh_sql = '''SELECT '2018sh',(t2.v / t4.s) * 100.0 FROM (SELECT SUM(t1.female) AS v FROM film44 t1 WHERE t1.mdate <='2018-12-31' AND t1.mdate>='2018-06-01') t2 JOIN (SELECT sum(t3.female) as s FROM film44 t3 WHERE t3.mdate <='2018-12-31' AND t3.mdate>='2018-01-01') t4'''"
   ]
  },
  {
   "cell_type": "code",
   "execution_count": null,
   "metadata": {},
   "outputs": [],
   "source": [
    "exec_sql(eighte_sh_sql)"
   ]
  },
  {
   "cell_type": "code",
   "execution_count": null,
   "metadata": {},
   "outputs": [],
   "source": [
    "del eighte_sh_sql"
   ]
  },
  {
   "cell_type": "markdown",
   "metadata": {},
   "source": [
    "# table_4_relation_bet_gen_and_class(性别和电影种类的关系)"
   ]
  },
  {
   "cell_type": "raw",
   "metadata": {},
   "source": [
    "爱情片"
   ]
  },
  {
   "cell_type": "code",
   "execution_count": null,
   "metadata": {},
   "outputs": [],
   "source": [
    "t_romance_sql = '''SELECT 't_romance',(t2.v / t4.s) * 100.0,(t6.v / t8.s) * 100.0 FROM (SELECT SUM(t1.male) AS v FROM film44 t1 WHERE t1.t_romance =1) t2 JOIN (SELECT count(t3.male) as s FROM film44 t3 WHERE t3.t_romance =1) t4 JOIN (SELECT SUM(t5.female) AS v FROM film44 t5 WHERE t5.t_romance =1) t6 JOIN (SELECT count(t7.female) as s FROM film44 t7 WHERE t7.t_romance =1) t8'''"
   ]
  },
  {
   "cell_type": "code",
   "execution_count": null,
   "metadata": {},
   "outputs": [],
   "source": [
    "exec_sql(t_romance_sql)"
   ]
  },
  {
   "cell_type": "code",
   "execution_count": null,
   "metadata": {},
   "outputs": [],
   "source": [
    "del t_romance_sql"
   ]
  },
  {
   "cell_type": "raw",
   "metadata": {},
   "source": [
    "喜剧"
   ]
  },
  {
   "cell_type": "code",
   "execution_count": null,
   "metadata": {},
   "outputs": [],
   "source": [
    "t_comedy_sql='''SELECT 't_comedy',(t2.v / t4.s) * 100.0,(t6.v / t8.s) * 100.0 FROM (SELECT SUM(t1.male) AS v FROM film44 t1 WHERE t1.t_comedy =1) t2 JOIN (SELECT count(t3.male) as s FROM film44 t3 WHERE t3.t_comedy =1) t4 JOIN (SELECT SUM(t5.female) AS v FROM film44 t5 WHERE t5.t_comedy =1) t6 JOIN (SELECT count(t7.female) as s FROM film44 t7 WHERE t7.t_comedy =1) t8'''"
   ]
  },
  {
   "cell_type": "code",
   "execution_count": null,
   "metadata": {},
   "outputs": [],
   "source": [
    "exec_sql(t_comedy_sql)"
   ]
  },
  {
   "cell_type": "code",
   "execution_count": null,
   "metadata": {},
   "outputs": [],
   "source": [
    "del t_comedy_sql"
   ]
  },
  {
   "cell_type": "raw",
   "metadata": {},
   "source": [
    "动画"
   ]
  },
  {
   "cell_type": "code",
   "execution_count": null,
   "metadata": {},
   "outputs": [],
   "source": [
    "t_animate_sql = '''SELECT 't_animate',(t2.v / t4.s) * 100.0,(t6.v / t8.s) * 100.0 FROM (SELECT SUM(t1.male) AS v FROM film44 t1 WHERE t1.t_animate =1) t2 JOIN (SELECT count(t3.male) as s FROM film44 t3 WHERE t3.t_animate =1) t4 JOIN (SELECT SUM(t5.female) AS v FROM film44 t5 WHERE t5.t_animate =1) t6 JOIN (SELECT count(t7.female) as s FROM film44 t7 WHERE t7.t_animate =1) t8'''"
   ]
  },
  {
   "cell_type": "code",
   "execution_count": null,
   "metadata": {},
   "outputs": [],
   "source": [
    "exec_sql(t_animate_sql)"
   ]
  },
  {
   "cell_type": "code",
   "execution_count": null,
   "metadata": {},
   "outputs": [],
   "source": [
    "del t_animate_sql"
   ]
  },
  {
   "cell_type": "raw",
   "metadata": {},
   "source": [
    "剧情"
   ]
  },
  {
   "cell_type": "code",
   "execution_count": null,
   "metadata": {},
   "outputs": [],
   "source": [
    "t_plot_sql = '''SELECT 't_plot',(t2.v / t4.s) * 100.0,(t6.v / t8.s) * 100.0 FROM (SELECT SUM(t1.male) AS v FROM film44 t1 WHERE t1.t_plot =1) t2 JOIN (SELECT count(t3.male) as s FROM film44 t3 WHERE t3.t_plot =1) t4 JOIN (SELECT SUM(t5.female) AS v FROM film44 t5 WHERE t5.t_plot =1) t6 JOIN (SELECT count(t7.female) as s FROM film44 t7 WHERE t7.t_plot =1) t8'''"
   ]
  },
  {
   "cell_type": "code",
   "execution_count": null,
   "metadata": {},
   "outputs": [],
   "source": [
    "exec_sql(t_plot_sql)"
   ]
  },
  {
   "cell_type": "code",
   "execution_count": null,
   "metadata": {},
   "outputs": [],
   "source": [
    "del t_plot_sql"
   ]
  },
  {
   "cell_type": "raw",
   "metadata": {},
   "source": [
    "恐怖"
   ]
  },
  {
   "cell_type": "code",
   "execution_count": null,
   "metadata": {},
   "outputs": [],
   "source": [
    "t_horrors_sql = '''SELECT 't_horror',(t2.v / t4.s) * 100.0,(t6.v / t8.s) * 100.0 FROM (SELECT SUM(t1.male) AS v FROM film44 t1 WHERE t1.t_horror =1) t2 JOIN (SELECT count(t3.male) as s FROM film44 t3 WHERE t3.t_horror =1) t4 JOIN (SELECT SUM(t5.female) AS v FROM film44 t5 WHERE t5.t_horror =1) t6 JOIN (SELECT count(t7.female) as s FROM film44 t7 WHERE t7.t_horror =1) t8'''"
   ]
  },
  {
   "cell_type": "code",
   "execution_count": null,
   "metadata": {},
   "outputs": [],
   "source": [
    "exec_sql(t_horrors_sql)"
   ]
  },
  {
   "cell_type": "code",
   "execution_count": null,
   "metadata": {},
   "outputs": [],
   "source": [
    "del t_horrors_sql"
   ]
  },
  {
   "cell_type": "raw",
   "metadata": {},
   "source": [
    "惊悚"
   ]
  },
  {
   "cell_type": "code",
   "execution_count": null,
   "metadata": {},
   "outputs": [],
   "source": [
    "t_thriller_sql = '''SELECT 't_thriller',(t2.v / t4.s) * 100.0,(t6.v / t8.s) * 100.0 FROM (SELECT SUM(t1.male) AS v FROM film44 t1 WHERE t1.t_thriller =1) t2 JOIN (SELECT count(t3.male) as s FROM film44 t3 WHERE t3.t_thriller =1) t4 JOIN (SELECT SUM(t5.female) AS v FROM film44 t5 WHERE t5.t_thriller =1) t6 JOIN (SELECT count(t7.female) as s FROM film44 t7 WHERE t7.t_thriller =1) t8'''"
   ]
  },
  {
   "cell_type": "code",
   "execution_count": null,
   "metadata": {},
   "outputs": [],
   "source": [
    "exec_sql(t_thriller_sql)"
   ]
  },
  {
   "cell_type": "code",
   "execution_count": null,
   "metadata": {},
   "outputs": [],
   "source": [
    "del t_thriller_sql"
   ]
  },
  {
   "cell_type": "raw",
   "metadata": {},
   "source": [
    "科幻"
   ]
  },
  {
   "cell_type": "code",
   "execution_count": null,
   "metadata": {},
   "outputs": [],
   "source": [
    "t_science_sql = '''SELECT 't_science',(t2.v / t4.s) * 100.0,(t6.v / t8.s) * 100.0 FROM (SELECT SUM(t1.male) AS v FROM film44 t1 WHERE t1.t_science =1) t2 JOIN (SELECT count(t3.male) as s FROM film44 t3 WHERE t3.t_science =1) t4 JOIN (SELECT SUM(t5.female) AS v FROM film44 t5 WHERE t5.t_science =1) t6 JOIN (SELECT count(t7.female) as s FROM film44 t7 WHERE t7.t_science =1) t8'''"
   ]
  },
  {
   "cell_type": "code",
   "execution_count": null,
   "metadata": {},
   "outputs": [],
   "source": [
    "exec_sql(t_science_sql)"
   ]
  },
  {
   "cell_type": "code",
   "execution_count": null,
   "metadata": {},
   "outputs": [],
   "source": [
    "del t_science_sql"
   ]
  },
  {
   "cell_type": "raw",
   "metadata": {},
   "source": [
    "动作"
   ]
  },
  {
   "cell_type": "code",
   "execution_count": null,
   "metadata": {},
   "outputs": [],
   "source": [
    "t_action_sql = '''SELECT 't_action',(t2.v / t4.s) * 100.0,(t6.v / t8.s) * 100.0 FROM (SELECT SUM(t1.male) AS v FROM film44 t1 WHERE t1.t_action =1) t2 JOIN (SELECT count(t3.male) as s FROM film44 t3 WHERE t3.t_action =1) t4 JOIN (SELECT SUM(t5.female) AS v FROM film44 t5 WHERE t5.t_action =1) t6 JOIN (SELECT count(t7.female) as s FROM film44 t7 WHERE t7.t_action =1) t8'''"
   ]
  },
  {
   "cell_type": "code",
   "execution_count": null,
   "metadata": {},
   "outputs": [],
   "source": [
    "exec_sql(t_action_sql)"
   ]
  },
  {
   "cell_type": "code",
   "execution_count": null,
   "metadata": {},
   "outputs": [],
   "source": [
    "del t_action_sql"
   ]
  },
  {
   "cell_type": "raw",
   "metadata": {},
   "source": [
    "悬疑"
   ]
  },
  {
   "cell_type": "code",
   "execution_count": null,
   "metadata": {},
   "outputs": [],
   "source": [
    "t_suspense_sql = '''SELECT 't_suspense',(t2.v / t4.s) * 100.0,(t6.v / t8.s) * 100.0 FROM (SELECT SUM(t1.male) AS v FROM film44 t1 WHERE t1.t_suspense =1) t2 JOIN (SELECT count(t3.male) as s FROM film44 t3 WHERE t3.t_suspense =1) t4 JOIN (SELECT SUM(t5.female) AS v FROM film44 t5 WHERE t5.t_suspense =1) t6 JOIN (SELECT count(t7.female) as s FROM film44 t7 WHERE t7.t_suspense =1) t8'''"
   ]
  },
  {
   "cell_type": "code",
   "execution_count": null,
   "metadata": {},
   "outputs": [],
   "source": [
    "exec_sql(t_suspense_sql)"
   ]
  },
  {
   "cell_type": "code",
   "execution_count": null,
   "metadata": {},
   "outputs": [],
   "source": [
    "del t_suspense_sql"
   ]
  },
  {
   "cell_type": "raw",
   "metadata": {},
   "source": [
    "犯罪"
   ]
  },
  {
   "cell_type": "code",
   "execution_count": null,
   "metadata": {},
   "outputs": [],
   "source": [
    "t_crime_sql = '''SELECT 't_crime',(t2.v / t4.s) * 100.0,(t6.v / t8.s) * 100.0 FROM (SELECT SUM(t1.male) AS v FROM film44 t1 WHERE t1.t_crime =1) t2 JOIN (SELECT count(t3.male) as s FROM film44 t3 WHERE t3.t_crime =1) t4 JOIN (SELECT SUM(t5.female) AS v FROM film44 t5 WHERE t5.t_crime =1) t6 JOIN (SELECT count(t7.female) as s FROM film44 t7 WHERE t7.t_crime =1) t8'''"
   ]
  },
  {
   "cell_type": "code",
   "execution_count": null,
   "metadata": {},
   "outputs": [],
   "source": [
    "exec_sql(t_crime_sql)"
   ]
  },
  {
   "cell_type": "code",
   "execution_count": null,
   "metadata": {},
   "outputs": [],
   "source": [
    "del t_crime_sql"
   ]
  },
  {
   "cell_type": "raw",
   "metadata": {},
   "source": [
    "冒险"
   ]
  },
  {
   "cell_type": "code",
   "execution_count": null,
   "metadata": {},
   "outputs": [],
   "source": [
    "t_adventure_sql = '''SELECT 't_adventure',(t2.v / t4.s) * 100.0,(t6.v / t8.s) * 100.0 FROM (SELECT SUM(t1.male) AS v FROM film44 t1 WHERE t1.t_adventure =1) t2 JOIN (SELECT count(t3.male) as s FROM film44 t3 WHERE t3.t_adventure =1) t4 JOIN (SELECT SUM(t5.female) AS v FROM film44 t5 WHERE t5.t_adventure =1) t6 JOIN (SELECT count(t7.female) as s FROM film44 t7 WHERE t7.t_adventure =1) t8'''"
   ]
  },
  {
   "cell_type": "code",
   "execution_count": null,
   "metadata": {},
   "outputs": [],
   "source": [
    "exec_sql(t_adventure_sql)"
   ]
  },
  {
   "cell_type": "code",
   "execution_count": null,
   "metadata": {},
   "outputs": [],
   "source": [
    "del t_adventure_sql"
   ]
  },
  {
   "cell_type": "raw",
   "metadata": {},
   "source": [
    "战争"
   ]
  },
  {
   "cell_type": "code",
   "execution_count": null,
   "metadata": {},
   "outputs": [],
   "source": [
    "t_war_sql = '''SELECT 't_war',(t2.v / t4.s) * 100.0,(t6.v / t8.s) * 100.0 FROM (SELECT SUM(t1.male) AS v FROM film44 t1 WHERE t1.t_war =1) t2 JOIN (SELECT count(t3.male) as s FROM film44 t3 WHERE t3.t_war =1) t4 JOIN (SELECT SUM(t5.female) AS v FROM film44 t5 WHERE t5.t_war =1) t6 JOIN (SELECT count(t7.female) as s FROM film44 t7 WHERE t7.t_war =1) t8'''"
   ]
  },
  {
   "cell_type": "code",
   "execution_count": null,
   "metadata": {},
   "outputs": [],
   "source": [
    "exec_sql(t_war_sql)"
   ]
  },
  {
   "cell_type": "code",
   "execution_count": null,
   "metadata": {},
   "outputs": [],
   "source": [
    "del t_war_sql"
   ]
  },
  {
   "cell_type": "raw",
   "metadata": {},
   "source": [
    "奇幻"
   ]
  },
  {
   "cell_type": "code",
   "execution_count": null,
   "metadata": {},
   "outputs": [],
   "source": [
    "t_fantasy_sql = '''SELECT 't_fantasy',(t2.v / t4.s) * 100.0,(t6.v / t8.s) * 100.0 FROM (SELECT SUM(t1.male) AS v FROM film44 t1 WHERE t1.t_fantasy =1) t2 JOIN (SELECT count(t3.male) as s FROM film44 t3 WHERE t3.t_fantasy =1) t4 JOIN (SELECT SUM(t5.female) AS v FROM film44 t5 WHERE t5.t_fantasy =1) t6 JOIN (SELECT count(t7.female) as s FROM film44 t7 WHERE t7.t_fantasy =1) t8'''"
   ]
  },
  {
   "cell_type": "code",
   "execution_count": null,
   "metadata": {},
   "outputs": [],
   "source": [
    "exec_sql(t_fantasy_sql)"
   ]
  },
  {
   "cell_type": "code",
   "execution_count": null,
   "metadata": {},
   "outputs": [],
   "source": [
    "del t_fantasy_sql"
   ]
  },
  {
   "cell_type": "raw",
   "metadata": {},
   "source": [
    "运动"
   ]
  },
  {
   "cell_type": "code",
   "execution_count": null,
   "metadata": {},
   "outputs": [],
   "source": [
    "t_sports_sql = '''SELECT 't_sports',(t2.v / t4.s) * 100.0,(t6.v / t8.s) * 100.0 FROM (SELECT SUM(t1.male) AS v FROM film44 t1 WHERE t1.t_sports =1) t2 JOIN (SELECT count(t3.male) as s FROM film44 t3 WHERE t3.t_sports =1) t4 JOIN (SELECT SUM(t5.female) AS v FROM film44 t5 WHERE t5.t_sports =1) t6 JOIN (SELECT count(t7.female) as s FROM film44 t7 WHERE t7.t_sports =1) t8'''"
   ]
  },
  {
   "cell_type": "code",
   "execution_count": null,
   "metadata": {},
   "outputs": [],
   "source": [
    "exec_sql(t_sports_sql)"
   ]
  },
  {
   "cell_type": "code",
   "execution_count": null,
   "metadata": {},
   "outputs": [],
   "source": [
    "del t_sports_sql"
   ]
  },
  {
   "cell_type": "raw",
   "metadata": {},
   "source": [
    "家庭"
   ]
  },
  {
   "cell_type": "code",
   "execution_count": null,
   "metadata": {},
   "outputs": [],
   "source": [
    "t_family_sql = '''SELECT 't_family',(t2.v / t4.s) * 100.0,(t6.v / t8.s) * 100.0 FROM (SELECT SUM(t1.male) AS v FROM film44 t1 WHERE t1.t_family =1) t2 JOIN (SELECT count(t3.male) as s FROM film44 t3 WHERE t3.t_family =1) t4 JOIN (SELECT SUM(t5.female) AS v FROM film44 t5 WHERE t5.t_family =1) t6 JOIN (SELECT count(t7.female) as s FROM film44 t7 WHERE t7.t_family =1) t8'''"
   ]
  },
  {
   "cell_type": "code",
   "execution_count": null,
   "metadata": {},
   "outputs": [],
   "source": [
    "exec_sql(t_family_sql)"
   ]
  },
  {
   "cell_type": "code",
   "execution_count": null,
   "metadata": {},
   "outputs": [],
   "source": [
    "del t_family_sql"
   ]
  },
  {
   "cell_type": "raw",
   "metadata": {},
   "source": [
    "古装"
   ]
  },
  {
   "cell_type": "code",
   "execution_count": null,
   "metadata": {},
   "outputs": [],
   "source": [
    "t_costume_sql = '''SELECT 't_costume',(t2.v / t4.s) * 100.0,(t6.v / t8.s) * 100.0 FROM (SELECT SUM(t1.male) AS v FROM film44 t1 WHERE t1.t_costume =1) t2 JOIN (SELECT count(t3.male) as s FROM film44 t3 WHERE t3.t_costume =1) t4 JOIN (SELECT SUM(t5.female) AS v FROM film44 t5 WHERE t5.t_costume =1) t6 JOIN (SELECT count(t7.female) as s FROM film44 t7 WHERE t7.t_costume =1) t8'''"
   ]
  },
  {
   "cell_type": "code",
   "execution_count": null,
   "metadata": {},
   "outputs": [],
   "source": [
    "exec_sql(t_costume_sql)"
   ]
  },
  {
   "cell_type": "code",
   "execution_count": null,
   "metadata": {},
   "outputs": [],
   "source": [
    "del t_costume_sql"
   ]
  },
  {
   "cell_type": "raw",
   "metadata": {},
   "source": [
    "武侠"
   ]
  },
  {
   "cell_type": "code",
   "execution_count": null,
   "metadata": {},
   "outputs": [],
   "source": [
    "t_sword_sql = '''SELECT 't_sword',(t2.v / t4.s) * 100.0,(t6.v / t8.s) * 100.0 FROM (SELECT SUM(t1.male) AS v FROM film44 t1 WHERE t1.t_sword =1) t2 JOIN (SELECT count(t3.male) as s FROM film44 t3 WHERE t3.t_sword =1) t4 JOIN (SELECT SUM(t5.female) AS v FROM film44 t5 WHERE t5.t_sword =1) t6 JOIN (SELECT count(t7.female) as s FROM film44 t7 WHERE t7.t_sword =1) t8'''"
   ]
  },
  {
   "cell_type": "code",
   "execution_count": null,
   "metadata": {},
   "outputs": [],
   "source": [
    "exec_sql(t_sword_sql)"
   ]
  },
  {
   "cell_type": "code",
   "execution_count": null,
   "metadata": {},
   "outputs": [],
   "source": [
    "del t_sword_sql"
   ]
  },
  {
   "cell_type": "raw",
   "metadata": {},
   "source": [
    "西部"
   ]
  },
  {
   "cell_type": "code",
   "execution_count": null,
   "metadata": {},
   "outputs": [],
   "source": [
    "t_cowboy_sql = '''SELECT 't_cowboy',(t2.v / t4.s) * 100.0,(t6.v / t8.s) * 100.0 FROM (SELECT SUM(t1.male) AS v FROM film44 t1 WHERE t1.t_cowboy =1) t2 JOIN (SELECT count(t3.male) as s FROM film44 t3 WHERE t3.t_cowboy =1) t4 JOIN (SELECT SUM(t5.female) AS v FROM film44 t5 WHERE t5.t_cowboy =1) t6 JOIN (SELECT count(t7.female) as s FROM film44 t7 WHERE t7.t_cowboy =1) t8'''"
   ]
  },
  {
   "cell_type": "code",
   "execution_count": null,
   "metadata": {},
   "outputs": [],
   "source": [
    "exec_sql(t_cowboy_sql)"
   ]
  },
  {
   "cell_type": "code",
   "execution_count": null,
   "metadata": {},
   "outputs": [],
   "source": [
    "del t_cowboy_sql"
   ]
  },
  {
   "cell_type": "raw",
   "metadata": {},
   "source": [
    "历史"
   ]
  },
  {
   "cell_type": "code",
   "execution_count": null,
   "metadata": {},
   "outputs": [],
   "source": [
    "t_history_sql = '''SELECT 't_history',(t2.v / t4.s) * 100.0,(t6.v / t8.s) * 100.0 FROM (SELECT SUM(t1.male) AS v FROM film44 t1 WHERE t1.t_history =1) t2 JOIN (SELECT count(t3.male) as s FROM film44 t3 WHERE t3.t_history =1) t4 JOIN (SELECT SUM(t5.female) AS v FROM film44 t5 WHERE t5.t_history =1) t6 JOIN (SELECT count(t7.female) as s FROM film44 t7 WHERE t7.t_history =1) t8'''"
   ]
  },
  {
   "cell_type": "code",
   "execution_count": null,
   "metadata": {},
   "outputs": [],
   "source": [
    "exec_sql(t_history_sql)"
   ]
  },
  {
   "cell_type": "code",
   "execution_count": null,
   "metadata": {},
   "outputs": [],
   "source": [
    "del t_history_sql"
   ]
  },
  {
   "cell_type": "raw",
   "metadata": {},
   "source": [
    "传记"
   ]
  },
  {
   "cell_type": "code",
   "execution_count": null,
   "metadata": {},
   "outputs": [],
   "source": [
    "t_biography_sql = '''SELECT 't_biography',(t2.v / t4.s) * 100.0,(t6.v / t8.s) * 100.0 FROM (SELECT SUM(t1.male) AS v FROM film44 t1 WHERE t1.t_biography =1) t2 JOIN (SELECT count(t3.male) as s FROM film44 t3 WHERE t3.t_biography =1) t4 JOIN (SELECT SUM(t5.female) AS v FROM film44 t5 WHERE t5.t_biography =1) t6 JOIN (SELECT count(t7.female) as s FROM film44 t7 WHERE t7.t_biography =1) t8'''"
   ]
  },
  {
   "cell_type": "code",
   "execution_count": null,
   "metadata": {},
   "outputs": [],
   "source": [
    "exec_sql(t_biography_sql)"
   ]
  },
  {
   "cell_type": "code",
   "execution_count": null,
   "metadata": {},
   "outputs": [],
   "source": [
    "del t_biography_sql"
   ]
  },
  {
   "cell_type": "raw",
   "metadata": {},
   "source": [
    "歌舞"
   ]
  },
  {
   "cell_type": "code",
   "execution_count": null,
   "metadata": {},
   "outputs": [],
   "source": [
    "t_dance_sql = '''SELECT 't_dance',(t2.v / t4.s) * 100.0,(t6.v / t8.s) * 100.0 FROM (SELECT SUM(t1.male) AS v FROM film44 t1 WHERE t1.t_dance =1) t2 JOIN (SELECT count(t3.male) as s FROM film44 t3 WHERE t3.t_dance =1) t4 JOIN (SELECT SUM(t5.female) AS v FROM film44 t5 WHERE t5.t_dance =1) t6 JOIN (SELECT count(t7.female) as s FROM film44 t7 WHERE t7.t_dance =1) t8'''"
   ]
  },
  {
   "cell_type": "code",
   "execution_count": null,
   "metadata": {},
   "outputs": [],
   "source": [
    "exec_sql(t_dance_sql)"
   ]
  },
  {
   "cell_type": "code",
   "execution_count": null,
   "metadata": {},
   "outputs": [],
   "source": [
    "del t_dance_sql"
   ]
  },
  {
   "cell_type": "raw",
   "metadata": {},
   "source": [
    "黑色电影"
   ]
  },
  {
   "cell_type": "code",
   "execution_count": null,
   "metadata": {},
   "outputs": [],
   "source": [
    "t_dark_sql = '''SELECT 't_dark',(t2.v / t4.s) * 100.0,(t6.v / t8.s) * 100.0 FROM (SELECT SUM(t1.male) AS v FROM film44 t1 WHERE t1.t_dark =1) t2 JOIN (SELECT count(t3.male) as s FROM film44 t3 WHERE t3.t_dark =1) t4 JOIN (SELECT SUM(t5.female) AS v FROM film44 t5 WHERE t5.t_dark =1) t6 JOIN (SELECT count(t7.female) as s FROM film44 t7 WHERE t7.t_dark =1) t8'''"
   ]
  },
  {
   "cell_type": "code",
   "execution_count": null,
   "metadata": {},
   "outputs": [],
   "source": [
    "exec_sql(t_dark_sql)"
   ]
  },
  {
   "cell_type": "code",
   "execution_count": null,
   "metadata": {},
   "outputs": [],
   "source": [
    "del t_dark_sql"
   ]
  },
  {
   "cell_type": "raw",
   "metadata": {},
   "source": [
    "短片"
   ]
  },
  {
   "cell_type": "code",
   "execution_count": null,
   "metadata": {},
   "outputs": [],
   "source": [
    "t_short_sql = '''SELECT 't_short',(t2.v / t4.s) * 100.0,(t6.v / t8.s) * 100.0 FROM (SELECT SUM(t1.male) AS v FROM film44 t1 WHERE t1.t_short =1) t2 JOIN (SELECT count(t3.male) as s FROM film44 t3 WHERE t3.t_short=1) t4 JOIN (SELECT SUM(t5.female) AS v FROM film44 t5 WHERE t5.t_short=1) t6 JOIN (SELECT count(t7.female) as s FROM film44 t7 WHERE t7.t_short=1) t8'''"
   ]
  },
  {
   "cell_type": "code",
   "execution_count": null,
   "metadata": {},
   "outputs": [],
   "source": [
    "exec_sql(t_short_sql)"
   ]
  },
  {
   "cell_type": "code",
   "execution_count": null,
   "metadata": {},
   "outputs": [],
   "source": [
    "del t_short_sql"
   ]
  },
  {
   "cell_type": "raw",
   "metadata": {},
   "source": [
    "纪录片"
   ]
  },
  {
   "cell_type": "code",
   "execution_count": null,
   "metadata": {},
   "outputs": [],
   "source": [
    "t_documentary_sql = '''SELECT 't_documentary',(t2.v / t4.s) * 100.0,(t6.v / t8.s) * 100.0 FROM (SELECT SUM(t1.male) AS v FROM film44 t1 WHERE t1.t_documentary =1) t2 JOIN (SELECT count(t3.male) as s FROM film44 t3 WHERE t3.t_documentary=1) t4 JOIN (SELECT SUM(t5.female) AS v FROM film44 t5 WHERE t5.t_documentary=1) t6 JOIN (SELECT count(t7.female) as s FROM film44 t7 WHERE t7.t_documentary=1) t8'''"
   ]
  },
  {
   "cell_type": "code",
   "execution_count": null,
   "metadata": {},
   "outputs": [],
   "source": [
    "exec_sql(t_documentary_sql)"
   ]
  },
  {
   "cell_type": "code",
   "execution_count": null,
   "metadata": {},
   "outputs": [],
   "source": [
    "del t_documentary_sql"
   ]
  },
  {
   "cell_type": "raw",
   "metadata": {},
   "source": [
    "其他"
   ]
  },
  {
   "cell_type": "code",
   "execution_count": null,
   "metadata": {},
   "outputs": [],
   "source": [
    "t_others_sql = '''SELECT 't_others',(t2.v / t4.s) * 100.0,(t6.v / t8.s) * 100.0 FROM (SELECT SUM(t1.male) AS v FROM film44 t1 WHERE t1.t_others =1) t2 JOIN (SELECT count(t3.male) as s FROM film44 t3 WHERE t3.t_others=1) t4 JOIN (SELECT SUM(t5.female) AS v FROM film44 t5 WHERE t5.t_others=1) t6 JOIN (SELECT count(t7.female) as s FROM film44 t7 WHERE t7.t_others=1) t8'''"
   ]
  },
  {
   "cell_type": "code",
   "execution_count": null,
   "metadata": {},
   "outputs": [],
   "source": [
    "exec_sql(t_others_sql)"
   ]
  },
  {
   "cell_type": "code",
   "execution_count": null,
   "metadata": {},
   "outputs": [],
   "source": [
    "del t_others_sql"
   ]
  },
  {
   "cell_type": "raw",
   "metadata": {},
   "source": [
    "大陆"
   ]
  },
  {
   "cell_type": "code",
   "execution_count": null,
   "metadata": {},
   "outputs": [],
   "source": [
    "c_Mainland_sql = '''SELECT 'c_Mainland',(t2.v / t4.s) * 100.0,(t6.v / t8.s) * 100.0 FROM (SELECT SUM(t1.male) AS v FROM film44 t1 WHERE t1.c_Mainland =1) t2 JOIN (SELECT count(t3.male) as s FROM film44 t3 WHERE t3.c_Mainland=1) t4 JOIN (SELECT SUM(t5.female) AS v FROM film44 t5 WHERE t5.c_Mainland=1) t6 JOIN (SELECT count(t7.female) as s FROM film44 t7 WHERE t7.c_Mainland=1) t8'''"
   ]
  },
  {
   "cell_type": "code",
   "execution_count": null,
   "metadata": {},
   "outputs": [],
   "source": [
    "exec_sql(c_Mainland_sql)"
   ]
  },
  {
   "cell_type": "code",
   "execution_count": null,
   "metadata": {},
   "outputs": [],
   "source": [
    "del c_Mainland_sql"
   ]
  },
  {
   "cell_type": "raw",
   "metadata": {},
   "source": [
    "美国"
   ]
  },
  {
   "cell_type": "code",
   "execution_count": null,
   "metadata": {},
   "outputs": [],
   "source": [
    "c_America_sql = '''SELECT 'c_America',(t2.v / t4.s) * 100.0,(t6.v / t8.s) * 100.0 FROM (SELECT SUM(t1.male) AS v FROM film44 t1 WHERE t1.c_America =1) t2 JOIN (SELECT count(t3.male) as s FROM film44 t3 WHERE t3.c_America=1) t4 JOIN (SELECT SUM(t5.female) AS v FROM film44 t5 WHERE t5.c_America=1) t6 JOIN (SELECT count(t7.female) as s FROM film44 t7 WHERE t7.c_America=1) t8'''"
   ]
  },
  {
   "cell_type": "code",
   "execution_count": null,
   "metadata": {},
   "outputs": [],
   "source": [
    "exec_sql(c_America_sql)"
   ]
  },
  {
   "cell_type": "code",
   "execution_count": null,
   "metadata": {},
   "outputs": [],
   "source": [
    "del c_America_sql"
   ]
  },
  {
   "cell_type": "raw",
   "metadata": {},
   "source": [
    "韩国"
   ]
  },
  {
   "cell_type": "code",
   "execution_count": null,
   "metadata": {},
   "outputs": [],
   "source": [
    "c_Korea_sql ='''SELECT 'c_Korea',(t2.v / t4.s) * 100.0,(t6.v / t8.s) * 100.0 FROM (SELECT SUM(t1.male) AS v FROM film44 t1 WHERE t1.c_Korea =1) t2 JOIN (SELECT count(t3.male) as s FROM film44 t3 WHERE t3.c_Korea=1) t4 JOIN (SELECT SUM(t5.female) AS v FROM film44 t5 WHERE t5.c_Korea=1) t6 JOIN (SELECT count(t7.female) as s FROM film44 t7 WHERE t7.c_Korea=1) t8'''"
   ]
  },
  {
   "cell_type": "code",
   "execution_count": null,
   "metadata": {},
   "outputs": [],
   "source": [
    "exec_sql(c_Korea_sql)"
   ]
  },
  {
   "cell_type": "code",
   "execution_count": null,
   "metadata": {},
   "outputs": [],
   "source": [
    "del c_Korea_sql"
   ]
  },
  {
   "cell_type": "raw",
   "metadata": {},
   "source": [
    "日本"
   ]
  },
  {
   "cell_type": "code",
   "execution_count": null,
   "metadata": {},
   "outputs": [],
   "source": [
    "c_Japan_sql ='''SELECT 'c_Japan',(t2.v / t4.s) * 100.0,(t6.v / t8.s) * 100.0 FROM (SELECT SUM(t1.male) AS v FROM film44 t1 WHERE t1.c_Japan =1) t2 JOIN (SELECT count(t3.male) as s FROM film44 t3 WHERE t3.c_Japan=1) t4 JOIN (SELECT SUM(t5.female) AS v FROM film44 t5 WHERE t5.c_Japan=1) t6 JOIN (SELECT count(t7.female) as s FROM film44 t7 WHERE t7.c_Japan=1) t8'''"
   ]
  },
  {
   "cell_type": "code",
   "execution_count": null,
   "metadata": {},
   "outputs": [],
   "source": [
    "exec_sql(c_Japan_sql)"
   ]
  },
  {
   "cell_type": "code",
   "execution_count": null,
   "metadata": {},
   "outputs": [],
   "source": [
    "del c_Japan_sql"
   ]
  },
  {
   "cell_type": "raw",
   "metadata": {},
   "source": [
    "香港"
   ]
  },
  {
   "cell_type": "code",
   "execution_count": null,
   "metadata": {},
   "outputs": [],
   "source": [
    "c_Hongkong_sql = '''SELECT 'c_Hongkong',(t2.v / t4.s) * 100.0,(t6.v / t8.s) * 100.0 FROM (SELECT SUM(t1.male) AS v FROM film44 t1 WHERE t1.c_Hongkong =1) t2 JOIN (SELECT count(t3.male) as s FROM film44 t3 WHERE t3.c_Hongkong=1) t4 JOIN (SELECT SUM(t5.female) AS v FROM film44 t5 WHERE t5.c_Hongkong=1) t6 JOIN (SELECT count(t7.female) as s FROM film44 t7 WHERE t7.c_Hongkong=1) t8'''"
   ]
  },
  {
   "cell_type": "code",
   "execution_count": null,
   "metadata": {},
   "outputs": [],
   "source": [
    "exec_sql(c_Hongkong_sql)"
   ]
  },
  {
   "cell_type": "code",
   "execution_count": null,
   "metadata": {},
   "outputs": [],
   "source": [
    "del c_Hongkong_sql"
   ]
  },
  {
   "cell_type": "raw",
   "metadata": {},
   "source": [
    "台湾"
   ]
  },
  {
   "cell_type": "code",
   "execution_count": null,
   "metadata": {},
   "outputs": [],
   "source": [
    "c_Taiwan_sql = '''SELECT 'c_Taiwan',(t2.v / t4.s) * 100.0,(t6.v / t8.s) * 100.0 FROM (SELECT SUM(t1.male) AS v FROM film44 t1 WHERE t1.c_Taiwan =1) t2 JOIN (SELECT count(t3.male) as s FROM film44 t3 WHERE t3.c_Taiwan=1) t4 JOIN (SELECT SUM(t5.female) AS v FROM film44 t5 WHERE t5.c_Taiwan=1) t6 JOIN (SELECT count(t7.female) as s FROM film44 t7 WHERE t7.c_Taiwan=1) t8'''"
   ]
  },
  {
   "cell_type": "code",
   "execution_count": null,
   "metadata": {},
   "outputs": [],
   "source": [
    "exec_sql(c_Taiwan_sql)"
   ]
  },
  {
   "cell_type": "code",
   "execution_count": null,
   "metadata": {},
   "outputs": [],
   "source": [
    "del c_Taiwan_sql"
   ]
  },
  {
   "cell_type": "raw",
   "metadata": {},
   "source": [
    "泰国"
   ]
  },
  {
   "cell_type": "code",
   "execution_count": null,
   "metadata": {},
   "outputs": [],
   "source": [
    "c_Thailand_sql = '''SELECT 'c_Thailand',(t2.v / t4.s) * 100.0,(t6.v / t8.s) * 100.0 FROM (SELECT SUM(t1.male) AS v FROM film44 t1 WHERE t1.c_Thailand =1) t2 JOIN (SELECT count(t3.male) as s FROM film44 t3 WHERE t3.c_Thailand=1) t4 JOIN (SELECT SUM(t5.female) AS v FROM film44 t5 WHERE t5.c_Thailand=1) t6 JOIN (SELECT count(t7.female) as s FROM film44 t7 WHERE t7.c_Thailand=1) t8'''"
   ]
  },
  {
   "cell_type": "code",
   "execution_count": null,
   "metadata": {},
   "outputs": [],
   "source": [
    "exec_sql(c_Thailand_sql)"
   ]
  },
  {
   "cell_type": "code",
   "execution_count": null,
   "metadata": {},
   "outputs": [],
   "source": [
    "del c_Thailand_sql"
   ]
  },
  {
   "cell_type": "raw",
   "metadata": {},
   "source": [
    "印度"
   ]
  },
  {
   "cell_type": "code",
   "execution_count": null,
   "metadata": {},
   "outputs": [],
   "source": [
    "c_India_sql = '''SELECT 'c_India',(t2.v / t4.s) * 100.0,(t6.v / t8.s) * 100.0 FROM (SELECT SUM(t1.male) AS v FROM film44 t1 WHERE t1.c_India =1) t2 JOIN (SELECT count(t3.male) as s FROM film44 t3 WHERE t3.c_India=1) t4 JOIN (SELECT SUM(t5.female) AS v FROM film44 t5 WHERE t5.c_India=1) t6 JOIN (SELECT count(t7.female) as s FROM film44 t7 WHERE t7.c_India=1) t8'''"
   ]
  },
  {
   "cell_type": "code",
   "execution_count": null,
   "metadata": {},
   "outputs": [],
   "source": [
    "exec_sql(c_India_sql)"
   ]
  },
  {
   "cell_type": "code",
   "execution_count": null,
   "metadata": {},
   "outputs": [],
   "source": [
    "del c_India_sql"
   ]
  },
  {
   "cell_type": "raw",
   "metadata": {},
   "source": [
    "法国"
   ]
  },
  {
   "cell_type": "code",
   "execution_count": null,
   "metadata": {},
   "outputs": [],
   "source": [
    "c_France_sql = '''SELECT 'c_France',(t2.v / t4.s) * 100.0,(t6.v / t8.s) * 100.0 FROM (SELECT SUM(t1.male) AS v FROM film44 t1 WHERE t1.c_France =1) t2 JOIN (SELECT count(t3.male) as s FROM film44 t3 WHERE t3.c_France=1) t4 JOIN (SELECT SUM(t5.female) AS v FROM film44 t5 WHERE t5.c_France=1) t6 JOIN (SELECT count(t7.female) as s FROM film44 t7 WHERE t7.c_France=1) t8'''"
   ]
  },
  {
   "cell_type": "code",
   "execution_count": null,
   "metadata": {},
   "outputs": [],
   "source": [
    "exec_sql(c_France_sql)"
   ]
  },
  {
   "cell_type": "code",
   "execution_count": null,
   "metadata": {},
   "outputs": [],
   "source": [
    "del c_France_sql"
   ]
  },
  {
   "cell_type": "raw",
   "metadata": {},
   "source": [
    "英国"
   ]
  },
  {
   "cell_type": "code",
   "execution_count": null,
   "metadata": {},
   "outputs": [],
   "source": [
    "c_England_sql = '''SELECT 'c_England',(t2.v / t4.s) * 100.0,(t6.v / t8.s) * 100.0 FROM (SELECT SUM(t1.male) AS v FROM film44 t1 WHERE t1.c_England =1) t2 JOIN (SELECT count(t3.male) as s FROM film44 t3 WHERE t3.c_England=1) t4 JOIN (SELECT SUM(t5.female) AS v FROM film44 t5 WHERE t5.c_England=1) t6 JOIN (SELECT count(t7.female) as s FROM film44 t7 WHERE t7.c_England=1) t8'''"
   ]
  },
  {
   "cell_type": "code",
   "execution_count": null,
   "metadata": {},
   "outputs": [],
   "source": [
    "exec_sql(c_England_sql)"
   ]
  },
  {
   "cell_type": "code",
   "execution_count": null,
   "metadata": {},
   "outputs": [],
   "source": [
    "del c_England_sql"
   ]
  },
  {
   "cell_type": "raw",
   "metadata": {},
   "source": [
    "俄罗斯"
   ]
  },
  {
   "cell_type": "code",
   "execution_count": null,
   "metadata": {},
   "outputs": [],
   "source": [
    "c_Russia_sql = '''SELECT 'c_Russia',(t2.v / t4.s) * 100.0,(t6.v / t8.s) * 100.0 FROM (SELECT SUM(t1.male) AS v FROM film44 t1 WHERE t1.c_Russia =1) t2 JOIN (SELECT count(t3.male) as s FROM film44 t3 WHERE t3.c_Russia=1) t4 JOIN (SELECT SUM(t5.female) AS v FROM film44 t5 WHERE t5.c_Russia=1) t6 JOIN (SELECT count(t7.female) as s FROM film44 t7 WHERE t7.c_Russia=1) t8'''"
   ]
  },
  {
   "cell_type": "code",
   "execution_count": null,
   "metadata": {},
   "outputs": [],
   "source": [
    "exec_sql(c_Russia_sql)"
   ]
  },
  {
   "cell_type": "code",
   "execution_count": null,
   "metadata": {},
   "outputs": [],
   "source": [
    "del c_Russia_sql"
   ]
  },
  {
   "cell_type": "raw",
   "metadata": {},
   "source": [
    "意大利"
   ]
  },
  {
   "cell_type": "code",
   "execution_count": null,
   "metadata": {},
   "outputs": [],
   "source": [
    "c_Italy_sql = '''SELECT 'c_Italy',(t2.v / t4.s) * 100.0,(t6.v / t8.s) * 100.0 FROM (SELECT SUM(t1.male) AS v FROM film44 t1 WHERE t1.c_Italy =1) t2 JOIN (SELECT count(t3.male) as s FROM film44 t3 WHERE t3.c_Italy =1) t4 JOIN (SELECT SUM(t5.female) AS v FROM film44 t5 WHERE t5.c_Italy =1) t6 JOIN (SELECT count(t7.female) as s FROM film44 t7 WHERE t7.c_Italy =1) t8'''"
   ]
  },
  {
   "cell_type": "code",
   "execution_count": null,
   "metadata": {},
   "outputs": [],
   "source": [
    "exec_sql(c_Italy_sql)"
   ]
  },
  {
   "cell_type": "code",
   "execution_count": null,
   "metadata": {},
   "outputs": [],
   "source": [
    "del c_Italy_sql"
   ]
  },
  {
   "cell_type": "raw",
   "metadata": {},
   "source": [
    "西班牙"
   ]
  },
  {
   "cell_type": "code",
   "execution_count": null,
   "metadata": {},
   "outputs": [],
   "source": [
    "c_Spain_sql = '''SELECT 'c_Spain',(t2.v / t4.s) * 100.0,(t6.v / t8.s) * 100.0 FROM (SELECT SUM(t1.male) AS v FROM film44 t1 WHERE t1.c_Spain =1) t2 JOIN (SELECT count(t3.male) as s FROM film44 t3 WHERE t3.c_Spain=1) t4 JOIN (SELECT SUM(t5.female) AS v FROM film44 t5 WHERE t5.c_Spain=1) t6 JOIN (SELECT count(t7.female) as s FROM film44 t7 WHERE t7.c_Spain =1) t8'''"
   ]
  },
  {
   "cell_type": "code",
   "execution_count": null,
   "metadata": {},
   "outputs": [],
   "source": [
    "exec_sql(c_Spain_sql)"
   ]
  },
  {
   "cell_type": "code",
   "execution_count": null,
   "metadata": {},
   "outputs": [],
   "source": [
    "del c_Spain_sql"
   ]
  },
  {
   "cell_type": "raw",
   "metadata": {},
   "source": [
    "德国"
   ]
  },
  {
   "cell_type": "code",
   "execution_count": null,
   "metadata": {},
   "outputs": [],
   "source": [
    "c_Germany_sql = '''SELECT 'c_Germany',(t2.v / t4.s) * 100.0,(t6.v / t8.s) * 100.0 FROM (SELECT SUM(t1.male) AS v FROM film44 t1 WHERE t1.c_Germany=1) t2 JOIN (SELECT count(t3.male) as s FROM film44 t3 WHERE t3.c_Germany=1) t4 JOIN (SELECT SUM(t5.female) AS v FROM film44 t5 WHERE t5.c_Germany=1) t6 JOIN (SELECT count(t7.female) as s FROM film44 t7 WHERE t7.c_Germany=1) t8'''"
   ]
  },
  {
   "cell_type": "code",
   "execution_count": null,
   "metadata": {},
   "outputs": [],
   "source": [
    "exec_sql(c_Germany_sql)"
   ]
  },
  {
   "cell_type": "code",
   "execution_count": null,
   "metadata": {},
   "outputs": [],
   "source": [
    "del c_Germany_sql"
   ]
  },
  {
   "cell_type": "raw",
   "metadata": {},
   "source": [
    "波兰"
   ]
  },
  {
   "cell_type": "code",
   "execution_count": null,
   "metadata": {},
   "outputs": [],
   "source": [
    "c_Poland_sql = '''SELECT 'c_Poland',(t2.v / t4.s) * 100.0,(t6.v / t8.s) * 100.0 FROM (SELECT SUM(t1.male) AS v FROM film44 t1 WHERE t1.c_Poland=1) t2 JOIN (SELECT count(t3.male) as s FROM film44 t3 WHERE t3.c_Poland=1) t4 JOIN (SELECT SUM(t5.female) AS v FROM film44 t5 WHERE t5.c_Poland=1) t6 JOIN (SELECT count(t7.female) as s FROM film44 t7 WHERE t7.c_Poland=1) t8'''"
   ]
  },
  {
   "cell_type": "code",
   "execution_count": null,
   "metadata": {},
   "outputs": [],
   "source": [
    "exec_sql(c_Poland_sql)"
   ]
  },
  {
   "cell_type": "code",
   "execution_count": null,
   "metadata": {},
   "outputs": [],
   "source": [
    "del c_Poland_sql"
   ]
  },
  {
   "cell_type": "raw",
   "metadata": {},
   "source": [
    "澳大利亚"
   ]
  },
  {
   "cell_type": "code",
   "execution_count": null,
   "metadata": {},
   "outputs": [],
   "source": [
    "c_Australia_sql = '''SELECT 'c_Australia',(t2.v / t4.s) * 100.0,(t6.v / t8.s) * 100.0 FROM (SELECT SUM(t1.male) AS v FROM film44 t1 WHERE t1.c_Australia=1) t2 JOIN (SELECT count(t3.male) as s FROM film44 t3 WHERE t3.c_Australia=1) t4 JOIN (SELECT SUM(t5.female) AS v FROM film44 t5 WHERE t5.c_Australia=1) t6 JOIN (SELECT count(t7.female) as s FROM film44 t7 WHERE t7.c_Australia=1) t8'''"
   ]
  },
  {
   "cell_type": "code",
   "execution_count": null,
   "metadata": {},
   "outputs": [],
   "source": [
    "exec_sql(c_Australia_sql)"
   ]
  },
  {
   "cell_type": "code",
   "execution_count": null,
   "metadata": {},
   "outputs": [],
   "source": [
    "del c_Australia_sql"
   ]
  },
  {
   "cell_type": "raw",
   "metadata": {},
   "source": [
    "伊朗"
   ]
  },
  {
   "cell_type": "code",
   "execution_count": null,
   "metadata": {},
   "outputs": [],
   "source": [
    "c_Iran_sql = '''SELECT 'c_Iran',(t2.v / t4.s) * 100.0,(t6.v / t8.s) * 100.0 FROM (SELECT SUM(t1.male) AS v FROM film44 t1 WHERE t1.c_Iran=1) t2 JOIN (SELECT count(t3.male) as s FROM film44 t3 WHERE t3.c_Iran=1) t4 JOIN (SELECT SUM(t5.female) AS v FROM film44 t5 WHERE t5.c_Iran=1) t6 JOIN (SELECT count(t7.female) as s FROM film44 t7 WHERE t7.c_Iran=1) t8'''"
   ]
  },
  {
   "cell_type": "code",
   "execution_count": null,
   "metadata": {},
   "outputs": [],
   "source": [
    "exec_sql(c_Iran_sql)"
   ]
  },
  {
   "cell_type": "code",
   "execution_count": null,
   "metadata": {},
   "outputs": [],
   "source": [
    "del c_Iran_sql"
   ]
  },
  {
   "cell_type": "raw",
   "metadata": {},
   "source": [
    "其他"
   ]
  },
  {
   "cell_type": "code",
   "execution_count": null,
   "metadata": {},
   "outputs": [],
   "source": [
    "c_Others_sql = '''SELECT 'c_Others',(t2.v / t4.s) * 100.0,(t6.v / t8.s) * 100.0 FROM (SELECT SUM(t1.male) AS v FROM film44 t1 WHERE t1.c_Others=1) t2 JOIN (SELECT count(t3.male) as s FROM film44 t3 WHERE t3.c_Others=1) t4 JOIN (SELECT SUM(t5.female) AS v FROM film44 t5 WHERE t5.c_Others=1) t6 JOIN (SELECT count(t7.female) as s FROM film44 t7 WHERE t7.c_Others=1) t8'''"
   ]
  },
  {
   "cell_type": "code",
   "execution_count": null,
   "metadata": {},
   "outputs": [],
   "source": [
    "exec_sql(c_Others_sql)"
   ]
  },
  {
   "cell_type": "code",
   "execution_count": null,
   "metadata": {},
   "outputs": [],
   "source": [
    "del c_Others_sql"
   ]
  },
  {
   "cell_type": "markdown",
   "metadata": {},
   "source": [
    "# table_5_relation_bet_age_and_class(年龄和类别的关系）"
   ]
  },
  {
   "cell_type": "raw",
   "metadata": {},
   "source": [
    "爱情"
   ]
  },
  {
   "cell_type": "code",
   "execution_count": null,
   "metadata": {},
   "outputs": [],
   "source": [
    "t_romance_sql = '''SELECT 't_romance',(t2.v / t4.s) * 100.0,(t6.v / t8.s) * 100.0,(t10.v / t12.s) * 100.0,(t14.v / t16.s) * 100.0,(t18.v / t20.s) * 100.0,(t22.v / t24.s) * 100.0               FROM (SELECT SUM(t1.under20) AS v FROM film44 t1 WHERE t1.t_romance=1) t2 JOIN (SELECT count(t3.under20) as s FROM film44 t3 WHERE t3.t_romance=1) t4 JOIN (SELECT SUM(t5.20to24) AS v FROM film44 t5 WHERE t5.t_romance=1) t6 JOIN (SELECT count(t7.20to24) as s FROM film44 t7 WHERE t7.t_romance=1) t8 JOIN (SELECT SUM(t9.25to29) AS v FROM film44 t9 WHERE t9.t_romance=1) t10 JOIN (SELECT count(t11.25to29) as s FROM film44 t11 WHERE t11.t_romance=1) t12 JOIN (SELECT SUM(t13.30to34) AS v FROM film44 t13 WHERE t13.t_romance=1) t14 JOIN (SELECT count(t15.30to34) as s FROM film44 t15 WHERE t15.t_romance=1) t16 JOIN (SELECT SUM(t17.35to39) AS v FROM film44 t17 WHERE t17.t_romance=1) t18 JOIN (SELECT count(t19.35to39) as s FROM film44 t19 WHERE t19.t_romance=1) t20 JOIN (SELECT SUM(t21.above40) AS v FROM film44 t21 WHERE t21.t_romance=1) t22 JOIN (SELECT count(t23.above40) as s FROM film44 t23 WHERE t23.t_romance=1) t24'''"
   ]
  },
  {
   "cell_type": "code",
   "execution_count": null,
   "metadata": {},
   "outputs": [],
   "source": [
    "exec_sql(t_romance_sql)"
   ]
  },
  {
   "cell_type": "code",
   "execution_count": null,
   "metadata": {},
   "outputs": [],
   "source": [
    "del t_romance_sql"
   ]
  },
  {
   "cell_type": "raw",
   "metadata": {},
   "source": [
    "喜剧"
   ]
  },
  {
   "cell_type": "code",
   "execution_count": null,
   "metadata": {},
   "outputs": [],
   "source": [
    "t_comedy_sql = '''SELECT 't_comedy',(t2.v / t4.s) * 100.0,(t6.v / t8.s) * 100.0,(t10.v / t12.s) * 100.0,(t14.v / t16.s) * 100.0,(t18.v / t20.s) * 100.0,(t22.v / t24.s) * 100.0               FROM (SELECT SUM(t1.under20) AS v FROM film44 t1 WHERE t1.t_comedy=1) t2 JOIN (SELECT count(t3.under20) as s FROM film44 t3 WHERE t3.t_comedy=1) t4 JOIN (SELECT SUM(t5.20to24) AS v FROM film44 t5 WHERE t5.t_comedy=1) t6 JOIN (SELECT count(t7.20to24) as s FROM film44 t7 WHERE t7.t_comedy=1) t8 JOIN (SELECT SUM(t9.25to29) AS v FROM film44 t9 WHERE t9.t_comedy=1) t10 JOIN (SELECT count(t11.25to29) as s FROM film44 t11 WHERE t11.t_comedy=1) t12 JOIN (SELECT SUM(t13.30to34) AS v FROM film44 t13 WHERE t13.t_comedy=1) t14 JOIN (SELECT count(t15.30to34) as s FROM film44 t15 WHERE t15.t_comedy=1) t16 JOIN (SELECT SUM(t17.35to39) AS v FROM film44 t17 WHERE t17.t_comedy=1) t18 JOIN (SELECT count(t19.35to39) as s FROM film44 t19 WHERE t19.t_comedy=1) t20 JOIN (SELECT SUM(t21.above40) AS v FROM film44 t21 WHERE t21.t_comedy=1) t22 JOIN (SELECT count(t23.above40) as s FROM film44 t23 WHERE t23.t_comedy=1) t24'''"
   ]
  },
  {
   "cell_type": "code",
   "execution_count": null,
   "metadata": {},
   "outputs": [],
   "source": [
    "exec_sql(t_comedy_sql)"
   ]
  },
  {
   "cell_type": "code",
   "execution_count": null,
   "metadata": {},
   "outputs": [],
   "source": [
    "del t_comedy_sql"
   ]
  },
  {
   "cell_type": "raw",
   "metadata": {},
   "source": [
    "动画"
   ]
  },
  {
   "cell_type": "code",
   "execution_count": null,
   "metadata": {},
   "outputs": [],
   "source": [
    "t_animate_sql = '''SELECT 't_animate',(t2.v / t4.s) * 100.0,(t6.v / t8.s) * 100.0,(t10.v / t12.s) * 100.0,(t14.v / t16.s) * 100.0,(t18.v / t20.s) * 100.0,(t22.v / t24.s) * 100.0               FROM (SELECT SUM(t1.under20) AS v FROM film44 t1 WHERE t1.t_animate=1) t2 JOIN (SELECT count(t3.under20) as s FROM film44 t3 WHERE t3.t_animate=1) t4 JOIN (SELECT SUM(t5.20to24) AS v FROM film44 t5 WHERE t5.t_animate=1) t6 JOIN (SELECT count(t7.20to24) as s FROM film44 t7 WHERE t7.t_animate=1) t8 JOIN (SELECT SUM(t9.25to29) AS v FROM film44 t9 WHERE t9.t_animate=1) t10 JOIN (SELECT count(t11.25to29) as s FROM film44 t11 WHERE t11.t_animate=1) t12 JOIN (SELECT SUM(t13.30to34) AS v FROM film44 t13 WHERE t13.t_animate=1) t14 JOIN (SELECT count(t15.30to34) as s FROM film44 t15 WHERE t15.t_animate=1) t16 JOIN (SELECT SUM(t17.35to39) AS v FROM film44 t17 WHERE t17.t_animate=1) t18 JOIN (SELECT count(t19.35to39) as s FROM film44 t19 WHERE t19.t_animate=1) t20 JOIN (SELECT SUM(t21.above40) AS v FROM film44 t21 WHERE t21.t_animate=1) t22 JOIN (SELECT count(t23.above40) as s FROM film44 t23 WHERE t23.t_animate=1) t24'''"
   ]
  },
  {
   "cell_type": "code",
   "execution_count": null,
   "metadata": {},
   "outputs": [],
   "source": [
    "exec_sql(t_animate_sql)"
   ]
  },
  {
   "cell_type": "code",
   "execution_count": null,
   "metadata": {},
   "outputs": [],
   "source": [
    "del t_animate_sql"
   ]
  },
  {
   "cell_type": "raw",
   "metadata": {},
   "source": [
    "剧情"
   ]
  },
  {
   "cell_type": "code",
   "execution_count": null,
   "metadata": {},
   "outputs": [],
   "source": [
    "t_plot_sql = '''SELECT 't_plot',(t2.v / t4.s) * 100.0,(t6.v / t8.s) * 100.0,(t10.v / t12.s) * 100.0,(t14.v / t16.s) * 100.0,(t18.v / t20.s) * 100.0,(t22.v / t24.s) * 100.0               FROM (SELECT SUM(t1.under20) AS v FROM film44 t1 WHERE t1.t_plot=1) t2 JOIN (SELECT count(t3.under20) as s FROM film44 t3 WHERE t3.t_plot=1) t4 JOIN (SELECT SUM(t5.20to24) AS v FROM film44 t5 WHERE t5.t_plot=1) t6 JOIN (SELECT count(t7.20to24) as s FROM film44 t7 WHERE t7.t_plot=1) t8 JOIN (SELECT SUM(t9.25to29) AS v FROM film44 t9 WHERE t9.t_plot=1) t10 JOIN (SELECT count(t11.25to29) as s FROM film44 t11 WHERE t11.t_plot=1) t12 JOIN (SELECT SUM(t13.30to34) AS v FROM film44 t13 WHERE t13.t_plot=1) t14 JOIN (SELECT count(t15.30to34) as s FROM film44 t15 WHERE t15.t_plot=1) t16 JOIN (SELECT SUM(t17.35to39) AS v FROM film44 t17 WHERE t17.t_plot=1) t18 JOIN (SELECT count(t19.35to39) as s FROM film44 t19 WHERE t19.t_plot=1) t20 JOIN (SELECT SUM(t21.above40) AS v FROM film44 t21 WHERE t21.t_plot=1) t22 JOIN (SELECT count(t23.above40) as s FROM film44 t23 WHERE t23.t_plot=1) t24'''"
   ]
  },
  {
   "cell_type": "code",
   "execution_count": null,
   "metadata": {},
   "outputs": [],
   "source": [
    "exec_sql(t_plot_sql)"
   ]
  },
  {
   "cell_type": "code",
   "execution_count": null,
   "metadata": {},
   "outputs": [],
   "source": [
    "del t_plot_sql"
   ]
  },
  {
   "cell_type": "raw",
   "metadata": {},
   "source": [
    "恐怖"
   ]
  },
  {
   "cell_type": "code",
   "execution_count": null,
   "metadata": {},
   "outputs": [],
   "source": [
    "t_horror_sql = ''' SELECT 't_horror',(t2.v / t4.s) * 100.0,(t6.v / t8.s) * 100.0,(t10.v / t12.s) * 100.0,(t14.v / t16.s) * 100.0,(t18.v / t20.s) * 100.0,(t22.v / t24.s) * 100.0               FROM (SELECT SUM(t1.under20) AS v FROM film44 t1 WHERE t1.t_horror=1) t2 JOIN (SELECT count(t3.under20) as s FROM film44 t3 WHERE t3.t_horror=1) t4 JOIN (SELECT SUM(t5.20to24) AS v FROM film44 t5 WHERE t5.t_horror=1) t6 JOIN (SELECT count(t7.20to24) as s FROM film44 t7 WHERE t7.t_horror=1) t8 JOIN (SELECT SUM(t9.25to29) AS v FROM film44 t9 WHERE t9.t_horror=1) t10 JOIN (SELECT count(t11.25to29) as s FROM film44 t11 WHERE t11.t_horror=1) t12 JOIN (SELECT SUM(t13.30to34) AS v FROM film44 t13 WHERE t13.t_horror=1) t14 JOIN (SELECT count(t15.30to34) as s FROM film44 t15 WHERE t15.t_horror=1) t16 JOIN (SELECT SUM(t17.35to39) AS v FROM film44 t17 WHERE t17.t_horror=1) t18 JOIN (SELECT count(t19.35to39) as s FROM film44 t19 WHERE t19.t_horror=1) t20 JOIN (SELECT SUM(t21.above40) AS v FROM film44 t21 WHERE t21.t_horror=1) t22 JOIN (SELECT count(t23.above40) as s FROM film44 t23 WHERE t23.t_horror=1) t24'''"
   ]
  },
  {
   "cell_type": "code",
   "execution_count": null,
   "metadata": {},
   "outputs": [],
   "source": [
    "exec_sql(t_horror_sql)"
   ]
  },
  {
   "cell_type": "code",
   "execution_count": null,
   "metadata": {},
   "outputs": [],
   "source": [
    "del t_horror_sql"
   ]
  },
  {
   "cell_type": "raw",
   "metadata": {},
   "source": [
    "惊悚"
   ]
  },
  {
   "cell_type": "code",
   "execution_count": null,
   "metadata": {},
   "outputs": [],
   "source": [
    "t_thriller_sql = '''SELECT 't_thriller',(t2.v / t4.s) * 100.0,(t6.v / t8.s) * 100.0,(t10.v / t12.s) * 100.0,(t14.v / t16.s) * 100.0,(t18.v / t20.s) * 100.0,(t22.v / t24.s) * 100.0               FROM (SELECT SUM(t1.under20) AS v FROM film44 t1 WHERE t1.t_thriller=1) t2 JOIN (SELECT count(t3.under20) as s FROM film44 t3 WHERE t3.t_thriller=1) t4 JOIN (SELECT SUM(t5.20to24) AS v FROM film44 t5 WHERE t5.t_thriller=1) t6 JOIN (SELECT count(t7.20to24) as s FROM film44 t7 WHERE t7.t_thriller=1) t8 JOIN (SELECT SUM(t9.25to29) AS v FROM film44 t9 WHERE t9.t_thriller=1) t10 JOIN (SELECT count(t11.25to29) as s FROM film44 t11 WHERE t11.t_thriller=1) t12 JOIN (SELECT SUM(t13.30to34) AS v FROM film44 t13 WHERE t13.t_thriller=1) t14 JOIN (SELECT count(t15.30to34) as s FROM film44 t15 WHERE t15.t_thriller=1) t16 JOIN (SELECT SUM(t17.35to39) AS v FROM film44 t17 WHERE t17.t_thriller=1) t18 JOIN (SELECT count(t19.35to39) as s FROM film44 t19 WHERE t19.t_thriller=1) t20 JOIN (SELECT SUM(t21.above40) AS v FROM film44 t21 WHERE t21.t_thriller=1) t22 JOIN (SELECT count(t23.above40) as s FROM film44 t23 WHERE t23.t_thriller=1) t24'''"
   ]
  },
  {
   "cell_type": "code",
   "execution_count": null,
   "metadata": {},
   "outputs": [],
   "source": [
    "exec_sql(t_thriller_sql)"
   ]
  },
  {
   "cell_type": "code",
   "execution_count": null,
   "metadata": {},
   "outputs": [],
   "source": [
    "del t_thriller_sql"
   ]
  },
  {
   "cell_type": "raw",
   "metadata": {},
   "source": [
    "科幻"
   ]
  },
  {
   "cell_type": "code",
   "execution_count": null,
   "metadata": {},
   "outputs": [],
   "source": [
    "t_science_sql = '''SELECT 't_science',(t2.v / t4.s) * 100.0,(t6.v / t8.s) * 100.0,(t10.v / t12.s) * 100.0,(t14.v / t16.s) * 100.0,(t18.v / t20.s) * 100.0,(t22.v / t24.s) * 100.0               FROM (SELECT SUM(t1.under20) AS v FROM film44 t1 WHERE t1.t_science=1) t2 JOIN (SELECT count(t3.under20) as s FROM film44 t3 WHERE t3.t_science=1) t4 JOIN (SELECT SUM(t5.20to24) AS v FROM film44 t5 WHERE t5.t_science=1) t6 JOIN (SELECT count(t7.20to24) as s FROM film44 t7 WHERE t7.t_science=1) t8 JOIN (SELECT SUM(t9.25to29) AS v FROM film44 t9 WHERE t9.t_science=1) t10 JOIN (SELECT count(t11.25to29) as s FROM film44 t11 WHERE t11.t_science=1) t12 JOIN (SELECT SUM(t13.30to34) AS v FROM film44 t13 WHERE t13.t_science=1) t14 JOIN (SELECT count(t15.30to34) as s FROM film44 t15 WHERE t15.t_science=1) t16 JOIN (SELECT SUM(t17.35to39) AS v FROM film44 t17 WHERE t17.t_science=1) t18 JOIN (SELECT count(t19.35to39) as s FROM film44 t19 WHERE t19.t_science=1) t20 JOIN (SELECT SUM(t21.above40) AS v FROM film44 t21 WHERE t21.t_science=1) t22 JOIN (SELECT count(t23.above40) as s FROM film44 t23 WHERE t23.t_science=1) t24'''"
   ]
  },
  {
   "cell_type": "code",
   "execution_count": null,
   "metadata": {},
   "outputs": [],
   "source": [
    "exec_sql(t_science_sql)"
   ]
  },
  {
   "cell_type": "code",
   "execution_count": null,
   "metadata": {},
   "outputs": [],
   "source": [
    "del t_science_sql"
   ]
  },
  {
   "cell_type": "raw",
   "metadata": {},
   "source": [
    "动作"
   ]
  },
  {
   "cell_type": "code",
   "execution_count": null,
   "metadata": {},
   "outputs": [],
   "source": [
    "t_action_sql = '''SELECT 't_action',(t2.v / t4.s) * 100.0,(t6.v / t8.s) * 100.0,(t10.v / t12.s) * 100.0,(t14.v / t16.s) * 100.0,(t18.v / t20.s) * 100.0,(t22.v / t24.s) * 100.0               FROM (SELECT SUM(t1.under20) AS v FROM film44 t1 WHERE t1.t_action=1) t2 JOIN (SELECT count(t3.under20) as s FROM film44 t3 WHERE t3.t_action=1) t4 JOIN (SELECT SUM(t5.20to24) AS v FROM film44 t5 WHERE t5.t_action=1) t6 JOIN (SELECT count(t7.20to24) as s FROM film44 t7 WHERE t7.t_action=1) t8 JOIN (SELECT SUM(t9.25to29) AS v FROM film44 t9 WHERE t9.t_action=1) t10 JOIN (SELECT count(t11.25to29) as s FROM film44 t11 WHERE t11.t_action=1) t12 JOIN (SELECT SUM(t13.30to34) AS v FROM film44 t13 WHERE t13.t_action=1) t14 JOIN (SELECT count(t15.30to34) as s FROM film44 t15 WHERE t15.t_action=1) t16 JOIN (SELECT SUM(t17.35to39) AS v FROM film44 t17 WHERE t17.t_action=1) t18 JOIN (SELECT count(t19.35to39) as s FROM film44 t19 WHERE t19.t_action=1) t20 JOIN (SELECT SUM(t21.above40) AS v FROM film44 t21 WHERE t21.t_action=1) t22 JOIN (SELECT count(t23.above40) as s FROM film44 t23 WHERE t23.t_action=1) t24'''"
   ]
  },
  {
   "cell_type": "code",
   "execution_count": null,
   "metadata": {},
   "outputs": [],
   "source": [
    "exec_sql(t_action_sql)"
   ]
  },
  {
   "cell_type": "code",
   "execution_count": null,
   "metadata": {},
   "outputs": [],
   "source": [
    "del t_action_sql"
   ]
  },
  {
   "cell_type": "raw",
   "metadata": {},
   "source": [
    "悬疑"
   ]
  },
  {
   "cell_type": "code",
   "execution_count": null,
   "metadata": {},
   "outputs": [],
   "source": [
    "t_suspense_sql = '''SELECT 't_suspense',(t2.v / t4.s) * 100.0,(t6.v / t8.s) * 100.0,(t10.v / t12.s) * 100.0,(t14.v / t16.s) * 100.0,(t18.v / t20.s) * 100.0,(t22.v / t24.s) * 100.0               FROM (SELECT SUM(t1.under20) AS v FROM film44 t1 WHERE t1.t_suspense=1) t2 JOIN (SELECT count(t3.under20) as s FROM film44 t3 WHERE t3.t_suspense=1) t4 JOIN (SELECT SUM(t5.20to24) AS v FROM film44 t5 WHERE t5.t_suspense=1) t6 JOIN (SELECT count(t7.20to24) as s FROM film44 t7 WHERE t7.t_suspense=1) t8 JOIN (SELECT SUM(t9.25to29) AS v FROM film44 t9 WHERE t9.t_suspense=1) t10 JOIN (SELECT count(t11.25to29) as s FROM film44 t11 WHERE t11.t_suspense=1) t12 JOIN (SELECT SUM(t13.30to34) AS v FROM film44 t13 WHERE t13.t_suspense=1) t14 JOIN (SELECT count(t15.30to34) as s FROM film44 t15 WHERE t15.t_suspense=1) t16 JOIN (SELECT SUM(t17.35to39) AS v FROM film44 t17 WHERE t17.t_suspense=1) t18 JOIN (SELECT count(t19.35to39) as s FROM film44 t19 WHERE t19.t_suspense=1) t20 JOIN (SELECT SUM(t21.above40) AS v FROM film44 t21 WHERE t21.t_suspense=1) t22 JOIN (SELECT count(t23.above40) as s FROM film44 t23 WHERE t23.t_suspense=1) t24'''"
   ]
  },
  {
   "cell_type": "code",
   "execution_count": null,
   "metadata": {},
   "outputs": [],
   "source": [
    "exec_sql(t_suspense_sql)"
   ]
  },
  {
   "cell_type": "code",
   "execution_count": null,
   "metadata": {},
   "outputs": [],
   "source": [
    "del t_suspense_sql"
   ]
  },
  {
   "cell_type": "raw",
   "metadata": {},
   "source": [
    "犯罪"
   ]
  },
  {
   "cell_type": "code",
   "execution_count": null,
   "metadata": {},
   "outputs": [],
   "source": [
    "t_crime_sql = '''SELECT 't_crime',(t2.v / t4.s) * 100.0,(t6.v / t8.s) * 100.0,(t10.v / t12.s) * 100.0,(t14.v / t16.s) * 100.0,(t18.v / t20.s) * 100.0,(t22.v / t24.s) * 100.0               FROM (SELECT SUM(t1.under20) AS v FROM film44 t1 WHERE t1.t_crime=1) t2 JOIN (SELECT count(t3.under20) as s FROM film44 t3 WHERE t3.t_crime=1) t4 JOIN (SELECT SUM(t5.20to24) AS v FROM film44 t5 WHERE t5.t_crime=1) t6 JOIN (SELECT count(t7.20to24) as s FROM film44 t7 WHERE t7.t_crime=1) t8 JOIN (SELECT SUM(t9.25to29) AS v FROM film44 t9 WHERE t9.t_crime=1) t10 JOIN (SELECT count(t11.25to29) as s FROM film44 t11 WHERE t11.t_crime=1) t12 JOIN (SELECT SUM(t13.30to34) AS v FROM film44 t13 WHERE t13.t_crime=1) t14 JOIN (SELECT count(t15.30to34) as s FROM film44 t15 WHERE t15.t_crime=1) t16 JOIN (SELECT SUM(t17.35to39) AS v FROM film44 t17 WHERE t17.t_crime=1) t18 JOIN (SELECT count(t19.35to39) as s FROM film44 t19 WHERE t19.t_crime=1) t20 JOIN (SELECT SUM(t21.above40) AS v FROM film44 t21 WHERE t21.t_crime=1) t22 JOIN (SELECT count(t23.above40) as s FROM film44 t23 WHERE t23.t_crime=1) t24'''"
   ]
  },
  {
   "cell_type": "code",
   "execution_count": null,
   "metadata": {},
   "outputs": [],
   "source": [
    "exec_sql(t_crime_sql)"
   ]
  },
  {
   "cell_type": "code",
   "execution_count": null,
   "metadata": {},
   "outputs": [],
   "source": [
    "del t_crime_sql"
   ]
  },
  {
   "cell_type": "raw",
   "metadata": {},
   "source": [
    "冒险"
   ]
  },
  {
   "cell_type": "code",
   "execution_count": null,
   "metadata": {},
   "outputs": [],
   "source": [
    "t_adventure_sql = '''SELECT 't_adventure',(t2.v / t4.s) * 100.0,(t6.v / t8.s) * 100.0,(t10.v / t12.s) * 100.0,(t14.v / t16.s) * 100.0,(t18.v / t20.s) * 100.0,(t22.v / t24.s) * 100.0               FROM (SELECT SUM(t1.under20) AS v FROM film44 t1 WHERE t1.t_adventure=1) t2 JOIN (SELECT count(t3.under20) as s FROM film44 t3 WHERE t3.t_adventure=1) t4 JOIN (SELECT SUM(t5.20to24) AS v FROM film44 t5 WHERE t5.t_adventure=1) t6 JOIN (SELECT count(t7.20to24) as s FROM film44 t7 WHERE t7.t_adventure=1) t8 JOIN (SELECT SUM(t9.25to29) AS v FROM film44 t9 WHERE t9.t_adventure=1) t10 JOIN (SELECT count(t11.25to29) as s FROM film44 t11 WHERE t11.t_adventure=1) t12 JOIN (SELECT SUM(t13.30to34) AS v FROM film44 t13 WHERE t13.t_adventure=1) t14 JOIN (SELECT count(t15.30to34) as s FROM film44 t15 WHERE t15.t_adventure=1) t16 JOIN (SELECT SUM(t17.35to39) AS v FROM film44 t17 WHERE t17.t_adventure=1) t18 JOIN (SELECT count(t19.35to39) as s FROM film44 t19 WHERE t19.t_adventure=1) t20 JOIN (SELECT SUM(t21.above40) AS v FROM film44 t21 WHERE t21.t_adventure=1) t22 JOIN (SELECT count(t23.above40) as s FROM film44 t23 WHERE t23.t_adventure=1) t24'''"
   ]
  },
  {
   "cell_type": "code",
   "execution_count": null,
   "metadata": {},
   "outputs": [],
   "source": [
    "exec_sql(t_adventure_sql)"
   ]
  },
  {
   "cell_type": "code",
   "execution_count": null,
   "metadata": {},
   "outputs": [],
   "source": [
    "del t_adventure_sql"
   ]
  },
  {
   "cell_type": "raw",
   "metadata": {},
   "source": [
    "战争"
   ]
  },
  {
   "cell_type": "code",
   "execution_count": null,
   "metadata": {},
   "outputs": [],
   "source": [
    "t_war_sql = '''SELECT 't_war',(t2.v / t4.s) * 100.0,(t6.v / t8.s) * 100.0,(t10.v / t12.s) * 100.0,(t14.v / t16.s) * 100.0,(t18.v / t20.s) * 100.0,(t22.v / t24.s) * 100.0               FROM (SELECT SUM(t1.under20) AS v FROM film44 t1 WHERE t1.t_war=1) t2 JOIN (SELECT count(t3.under20) as s FROM film44 t3 WHERE t3.t_war=1) t4 JOIN (SELECT SUM(t5.20to24) AS v FROM film44 t5 WHERE t5.t_war=1) t6 JOIN (SELECT count(t7.20to24) as s FROM film44 t7 WHERE t7.t_war=1) t8 JOIN (SELECT SUM(t9.25to29) AS v FROM film44 t9 WHERE t9.t_war=1) t10 JOIN (SELECT count(t11.25to29) as s FROM film44 t11 WHERE t11.t_war=1) t12 JOIN (SELECT SUM(t13.30to34) AS v FROM film44 t13 WHERE t13.t_war=1) t14 JOIN (SELECT count(t15.30to34) as s FROM film44 t15 WHERE t15.t_war=1) t16 JOIN (SELECT SUM(t17.35to39) AS v FROM film44 t17 WHERE t17.t_war=1) t18 JOIN (SELECT count(t19.35to39) as s FROM film44 t19 WHERE t19.t_war=1) t20 JOIN (SELECT SUM(t21.above40) AS v FROM film44 t21 WHERE t21.t_war=1) t22 JOIN (SELECT count(t23.above40) as s FROM film44 t23 WHERE t23.t_war=1) t24'''"
   ]
  },
  {
   "cell_type": "code",
   "execution_count": null,
   "metadata": {},
   "outputs": [],
   "source": [
    "exec_sql(t_war_sql)"
   ]
  },
  {
   "cell_type": "code",
   "execution_count": null,
   "metadata": {},
   "outputs": [],
   "source": [
    "del t_war_sql"
   ]
  },
  {
   "cell_type": "raw",
   "metadata": {},
   "source": [
    "奇幻"
   ]
  },
  {
   "cell_type": "code",
   "execution_count": null,
   "metadata": {},
   "outputs": [],
   "source": [
    "t_fantasy_sql = '''SELECT 't_fantasy',(t2.v / t4.s) * 100.0,(t6.v / t8.s) * 100.0,(t10.v / t12.s) * 100.0,(t14.v / t16.s) * 100.0,(t18.v / t20.s) * 100.0,(t22.v / t24.s) * 100.0               FROM (SELECT SUM(t1.under20) AS v FROM film44 t1 WHERE t1.t_fantasy=1) t2 JOIN (SELECT count(t3.under20) as s FROM film44 t3 WHERE t3.t_fantasy=1) t4 JOIN (SELECT SUM(t5.20to24) AS v FROM film44 t5 WHERE t5.t_fantasy=1) t6 JOIN (SELECT count(t7.20to24) as s FROM film44 t7 WHERE t7.t_fantasy=1) t8 JOIN (SELECT SUM(t9.25to29) AS v FROM film44 t9 WHERE t9.t_fantasy=1) t10 JOIN (SELECT count(t11.25to29) as s FROM film44 t11 WHERE t11.t_fantasy=1) t12 JOIN (SELECT SUM(t13.30to34) AS v FROM film44 t13 WHERE t13.t_fantasy=1) t14 JOIN (SELECT count(t15.30to34) as s FROM film44 t15 WHERE t15.t_fantasy=1) t16 JOIN (SELECT SUM(t17.35to39) AS v FROM film44 t17 WHERE t17.t_fantasy=1) t18 JOIN (SELECT count(t19.35to39) as s FROM film44 t19 WHERE t19.t_fantasy=1) t20 JOIN (SELECT SUM(t21.above40) AS v FROM film44 t21 WHERE t21.t_fantasy=1) t22 JOIN (SELECT count(t23.above40) as s FROM film44 t23 WHERE t23.t_fantasy=1) t24'''"
   ]
  },
  {
   "cell_type": "code",
   "execution_count": null,
   "metadata": {},
   "outputs": [],
   "source": [
    "exec_sql(t_fantasy_sql)"
   ]
  },
  {
   "cell_type": "code",
   "execution_count": null,
   "metadata": {},
   "outputs": [],
   "source": [
    "del t_fantasy_sql"
   ]
  },
  {
   "cell_type": "raw",
   "metadata": {},
   "source": [
    "运动"
   ]
  },
  {
   "cell_type": "code",
   "execution_count": null,
   "metadata": {},
   "outputs": [],
   "source": [
    "t_sports_sql = '''SELECT 't_sports',(t2.v / t4.s) * 100.0,(t6.v / t8.s) * 100.0,(t10.v / t12.s) * 100.0,(t14.v / t16.s) * 100.0,(t18.v / t20.s) * 100.0,(t22.v / t24.s) * 100.0               FROM (SELECT SUM(t1.under20) AS v FROM film44 t1 WHERE t1.t_sports=1) t2 JOIN (SELECT count(t3.under20) as s FROM film44 t3 WHERE t3.t_sports=1) t4 JOIN (SELECT SUM(t5.20to24) AS v FROM film44 t5 WHERE t5.t_sports=1) t6 JOIN (SELECT count(t7.20to24) as s FROM film44 t7 WHERE t7.t_sports=1) t8 JOIN (SELECT SUM(t9.25to29) AS v FROM film44 t9 WHERE t9.t_sports=1) t10 JOIN (SELECT count(t11.25to29) as s FROM film44 t11 WHERE t11.t_sports=1) t12 JOIN (SELECT SUM(t13.30to34) AS v FROM film44 t13 WHERE t13.t_sports=1) t14 JOIN (SELECT count(t15.30to34) as s FROM film44 t15 WHERE t15.t_sports=1) t16 JOIN (SELECT SUM(t17.35to39) AS v FROM film44 t17 WHERE t17.t_sports=1) t18 JOIN (SELECT count(t19.35to39) as s FROM film44 t19 WHERE t19.t_sports=1) t20 JOIN (SELECT SUM(t21.above40) AS v FROM film44 t21 WHERE t21.t_sports=1) t22 JOIN (SELECT count(t23.above40) as s FROM film44 t23 WHERE t23.t_sports=1) t24'''"
   ]
  },
  {
   "cell_type": "code",
   "execution_count": null,
   "metadata": {},
   "outputs": [],
   "source": [
    "exec_sql(t_sports_sql)"
   ]
  },
  {
   "cell_type": "code",
   "execution_count": null,
   "metadata": {},
   "outputs": [],
   "source": [
    "del t_sports_sql"
   ]
  },
  {
   "cell_type": "raw",
   "metadata": {},
   "source": [
    "家庭"
   ]
  },
  {
   "cell_type": "code",
   "execution_count": null,
   "metadata": {},
   "outputs": [],
   "source": [
    "t_family_sql = '''SELECT 't_family',(t2.v / t4.s) * 100.0,(t6.v / t8.s) * 100.0,(t10.v / t12.s) * 100.0,(t14.v / t16.s) * 100.0,(t18.v / t20.s) * 100.0,(t22.v / t24.s) * 100.0               FROM (SELECT SUM(t1.under20) AS v FROM film44 t1 WHERE t1.t_family=1) t2 JOIN (SELECT count(t3.under20) as s FROM film44 t3 WHERE t3.t_family=1) t4 JOIN (SELECT SUM(t5.20to24) AS v FROM film44 t5 WHERE t5.t_family=1) t6 JOIN (SELECT count(t7.20to24) as s FROM film44 t7 WHERE t7.t_family=1) t8 JOIN (SELECT SUM(t9.25to29) AS v FROM film44 t9 WHERE t9.t_family=1) t10 JOIN (SELECT count(t11.25to29) as s FROM film44 t11 WHERE t11.t_family=1) t12 JOIN (SELECT SUM(t13.30to34) AS v FROM film44 t13 WHERE t13.t_family=1) t14 JOIN (SELECT count(t15.30to34) as s FROM film44 t15 WHERE t15.t_family=1) t16 JOIN (SELECT SUM(t17.35to39) AS v FROM film44 t17 WHERE t17.t_family=1) t18 JOIN (SELECT count(t19.35to39) as s FROM film44 t19 WHERE t19.t_family=1) t20 JOIN (SELECT SUM(t21.above40) AS v FROM film44 t21 WHERE t21.t_family=1) t22 JOIN (SELECT count(t23.above40) as s FROM film44 t23 WHERE t23.t_family=1) t24'''"
   ]
  },
  {
   "cell_type": "code",
   "execution_count": null,
   "metadata": {},
   "outputs": [],
   "source": [
    "exec_sql(t_family_sql)"
   ]
  },
  {
   "cell_type": "code",
   "execution_count": null,
   "metadata": {},
   "outputs": [],
   "source": [
    "del t_family_sql"
   ]
  },
  {
   "cell_type": "raw",
   "metadata": {},
   "source": [
    "古装"
   ]
  },
  {
   "cell_type": "code",
   "execution_count": null,
   "metadata": {},
   "outputs": [],
   "source": [
    "t_costume_sql = '''SELECT 't_costume',(t2.v / t4.s) * 100.0,(t6.v / t8.s) * 100.0,(t10.v / t12.s) * 100.0,(t14.v / t16.s) * 100.0,(t18.v / t20.s) * 100.0,(t22.v / t24.s) * 100.0               FROM (SELECT SUM(t1.under20) AS v FROM film44 t1 WHERE t1.t_costume=1) t2 JOIN (SELECT count(t3.under20) as s FROM film44 t3 WHERE t3.t_costume=1) t4 JOIN (SELECT SUM(t5.20to24) AS v FROM film44 t5 WHERE t5.t_costume=1) t6 JOIN (SELECT count(t7.20to24) as s FROM film44 t7 WHERE t7.t_costume=1) t8 JOIN (SELECT SUM(t9.25to29) AS v FROM film44 t9 WHERE t9.t_costume=1) t10 JOIN (SELECT count(t11.25to29) as s FROM film44 t11 WHERE t11.t_costume=1) t12 JOIN (SELECT SUM(t13.30to34) AS v FROM film44 t13 WHERE t13.t_costume=1) t14 JOIN (SELECT count(t15.30to34) as s FROM film44 t15 WHERE t15.t_costume=1) t16 JOIN (SELECT SUM(t17.35to39) AS v FROM film44 t17 WHERE t17.t_costume=1) t18 JOIN (SELECT count(t19.35to39) as s FROM film44 t19 WHERE t19.t_costume=1) t20 JOIN (SELECT SUM(t21.above40) AS v FROM film44 t21 WHERE t21.t_costume=1) t22 JOIN (SELECT count(t23.above40) as s FROM film44 t23 WHERE t23.t_costume=1) t24'''"
   ]
  },
  {
   "cell_type": "code",
   "execution_count": null,
   "metadata": {},
   "outputs": [],
   "source": [
    "exec_sql(t_costume_sql)"
   ]
  },
  {
   "cell_type": "code",
   "execution_count": null,
   "metadata": {},
   "outputs": [],
   "source": [
    "del t_costume_sql"
   ]
  },
  {
   "cell_type": "raw",
   "metadata": {},
   "source": [
    "武侠"
   ]
  },
  {
   "cell_type": "code",
   "execution_count": null,
   "metadata": {},
   "outputs": [],
   "source": [
    "t_sword_sql = '''SELECT 't_sword',(t2.v / t4.s) * 100.0,(t6.v / t8.s) * 100.0,(t10.v / t12.s) * 100.0,(t14.v / t16.s) * 100.0,(t18.v / t20.s) * 100.0,(t22.v / t24.s) * 100.0               FROM (SELECT SUM(t1.under20) AS v FROM film44 t1 WHERE t1.t_sword=1) t2 JOIN (SELECT count(t3.under20) as s FROM film44 t3 WHERE t3.t_sword=1) t4 JOIN (SELECT SUM(t5.20to24) AS v FROM film44 t5 WHERE t5.t_sword=1) t6 JOIN (SELECT count(t7.20to24) as s FROM film44 t7 WHERE t7.t_sword=1) t8 JOIN (SELECT SUM(t9.25to29) AS v FROM film44 t9 WHERE t9.t_sword=1) t10 JOIN (SELECT count(t11.25to29) as s FROM film44 t11 WHERE t11.t_sword=1) t12 JOIN (SELECT SUM(t13.30to34) AS v FROM film44 t13 WHERE t13.t_sword=1) t14 JOIN (SELECT count(t15.30to34) as s FROM film44 t15 WHERE t15.t_sword=1) t16 JOIN (SELECT SUM(t17.35to39) AS v FROM film44 t17 WHERE t17.t_sword=1) t18 JOIN (SELECT count(t19.35to39) as s FROM film44 t19 WHERE t19.t_sword=1) t20 JOIN (SELECT SUM(t21.above40) AS v FROM film44 t21 WHERE t21.t_sword=1) t22 JOIN (SELECT count(t23.above40) as s FROM film44 t23 WHERE t23.t_sword=1) t24'''"
   ]
  },
  {
   "cell_type": "code",
   "execution_count": null,
   "metadata": {},
   "outputs": [],
   "source": [
    "exec_sql(t_sword_sql)"
   ]
  },
  {
   "cell_type": "code",
   "execution_count": null,
   "metadata": {},
   "outputs": [],
   "source": [
    "del t_sword_sql"
   ]
  },
  {
   "cell_type": "raw",
   "metadata": {},
   "source": [
    "西部"
   ]
  },
  {
   "cell_type": "code",
   "execution_count": null,
   "metadata": {},
   "outputs": [],
   "source": [
    "t_cowboy_sql = '''SELECT 't_cowboy',(t2.v / t4.s) * 100.0,(t6.v / t8.s) * 100.0,(t10.v / t12.s) * 100.0,(t14.v / t16.s) * 100.0,(t18.v / t20.s) * 100.0,(t22.v / t24.s) * 100.0               FROM (SELECT SUM(t1.under20) AS v FROM film44 t1 WHERE t1.t_cowboy=1) t2 JOIN (SELECT count(t3.under20) as s FROM film44 t3 WHERE t3.t_cowboy=1) t4 JOIN (SELECT SUM(t5.20to24) AS v FROM film44 t5 WHERE t5.t_cowboy=1) t6 JOIN (SELECT count(t7.20to24) as s FROM film44 t7 WHERE t7.t_cowboy=1) t8 JOIN (SELECT SUM(t9.25to29) AS v FROM film44 t9 WHERE t9.t_cowboy=1) t10 JOIN (SELECT count(t11.25to29) as s FROM film44 t11 WHERE t11.t_cowboy=1) t12 JOIN (SELECT SUM(t13.30to34) AS v FROM film44 t13 WHERE t13.t_cowboy=1) t14 JOIN (SELECT count(t15.30to34) as s FROM film44 t15 WHERE t15.t_cowboy=1) t16 JOIN (SELECT SUM(t17.35to39) AS v FROM film44 t17 WHERE t17.t_cowboy=1) t18 JOIN (SELECT count(t19.35to39) as s FROM film44 t19 WHERE t19.t_cowboy=1) t20 JOIN (SELECT SUM(t21.above40) AS v FROM film44 t21 WHERE t21.t_cowboy=1) t22 JOIN (SELECT count(t23.above40) as s FROM film44 t23 WHERE t23.t_cowboy=1) t24'''"
   ]
  },
  {
   "cell_type": "code",
   "execution_count": null,
   "metadata": {},
   "outputs": [],
   "source": [
    "exec_sql(t_cowboy_sql)"
   ]
  },
  {
   "cell_type": "code",
   "execution_count": null,
   "metadata": {},
   "outputs": [],
   "source": [
    "del t_cowboy_sql"
   ]
  },
  {
   "cell_type": "raw",
   "metadata": {},
   "source": [
    "历史"
   ]
  },
  {
   "cell_type": "code",
   "execution_count": null,
   "metadata": {},
   "outputs": [],
   "source": [
    "t_history_sql = '''SELECT 't_history',(t2.v / t4.s) * 100.0,(t6.v / t8.s) * 100.0,(t10.v / t12.s) * 100.0,(t14.v / t16.s) * 100.0,(t18.v / t20.s) * 100.0,(t22.v / t24.s) * 100.0               FROM (SELECT SUM(t1.under20) AS v FROM film44 t1 WHERE t1.t_history=1) t2 JOIN (SELECT count(t3.under20) as s FROM film44 t3 WHERE t3.t_history=1) t4 JOIN (SELECT SUM(t5.20to24) AS v FROM film44 t5 WHERE t5.t_history=1) t6 JOIN (SELECT count(t7.20to24) as s FROM film44 t7 WHERE t7.t_history=1) t8 JOIN (SELECT SUM(t9.25to29) AS v FROM film44 t9 WHERE t9.t_history=1) t10 JOIN (SELECT count(t11.25to29) as s FROM film44 t11 WHERE t11.t_history=1) t12 JOIN (SELECT SUM(t13.30to34) AS v FROM film44 t13 WHERE t13.t_history=1) t14 JOIN (SELECT count(t15.30to34) as s FROM film44 t15 WHERE t15.t_history=1) t16 JOIN (SELECT SUM(t17.35to39) AS v FROM film44 t17 WHERE t17.t_history=1) t18 JOIN (SELECT count(t19.35to39) as s FROM film44 t19 WHERE t19.t_history=1) t20 JOIN (SELECT SUM(t21.above40) AS v FROM film44 t21 WHERE t21.t_history=1) t22 JOIN (SELECT count(t23.above40) as s FROM film44 t23 WHERE t23.t_history=1) t24'''"
   ]
  },
  {
   "cell_type": "code",
   "execution_count": null,
   "metadata": {},
   "outputs": [],
   "source": [
    "exec_sql(t_history_sql)"
   ]
  },
  {
   "cell_type": "code",
   "execution_count": null,
   "metadata": {},
   "outputs": [],
   "source": [
    "del t_history_sql"
   ]
  },
  {
   "cell_type": "raw",
   "metadata": {},
   "source": [
    "传记"
   ]
  },
  {
   "cell_type": "code",
   "execution_count": null,
   "metadata": {},
   "outputs": [],
   "source": [
    "t_biography_sql = '''SELECT 't_biography',(t2.v / t4.s) * 100.0,(t6.v / t8.s) * 100.0,(t10.v / t12.s) * 100.0,(t14.v / t16.s) * 100.0,(t18.v / t20.s) * 100.0,(t22.v / t24.s) * 100.0               FROM (SELECT SUM(t1.under20) AS v FROM film44 t1 WHERE t1.t_biography=1) t2 JOIN (SELECT count(t3.under20) as s FROM film44 t3 WHERE t3.t_biography=1) t4 JOIN (SELECT SUM(t5.20to24) AS v FROM film44 t5 WHERE t5.t_biography=1) t6 JOIN (SELECT count(t7.20to24) as s FROM film44 t7 WHERE t7.t_biography=1) t8 JOIN (SELECT SUM(t9.25to29) AS v FROM film44 t9 WHERE t9.t_biography=1) t10 JOIN (SELECT count(t11.25to29) as s FROM film44 t11 WHERE t11.t_biography=1) t12 JOIN (SELECT SUM(t13.30to34) AS v FROM film44 t13 WHERE t13.t_biography=1) t14 JOIN (SELECT count(t15.30to34) as s FROM film44 t15 WHERE t15.t_biography=1) t16 JOIN (SELECT SUM(t17.35to39) AS v FROM film44 t17 WHERE t17.t_biography=1) t18 JOIN (SELECT count(t19.35to39) as s FROM film44 t19 WHERE t19.t_biography=1) t20 JOIN (SELECT SUM(t21.above40) AS v FROM film44 t21 WHERE t21.t_biography=1) t22 JOIN (SELECT count(t23.above40) as s FROM film44 t23 WHERE t23.t_biography=1) t24'''"
   ]
  },
  {
   "cell_type": "code",
   "execution_count": null,
   "metadata": {},
   "outputs": [],
   "source": [
    "exec_sql(t_biography_sql)"
   ]
  },
  {
   "cell_type": "code",
   "execution_count": null,
   "metadata": {},
   "outputs": [],
   "source": [
    "del t_biography_sql"
   ]
  },
  {
   "cell_type": "raw",
   "metadata": {},
   "source": [
    "歌舞"
   ]
  },
  {
   "cell_type": "code",
   "execution_count": null,
   "metadata": {},
   "outputs": [],
   "source": [
    "t_dance_sql = '''SELECT 't_dance',(t2.v / t4.s) * 100.0,(t6.v / t8.s) * 100.0,(t10.v / t12.s) * 100.0,(t14.v / t16.s) * 100.0,(t18.v / t20.s) * 100.0,(t22.v / t24.s) * 100.0               FROM (SELECT SUM(t1.under20) AS v FROM film44 t1 WHERE t1.t_dance=1) t2 JOIN (SELECT count(t3.under20) as s FROM film44 t3 WHERE t3.t_dance=1) t4 JOIN (SELECT SUM(t5.20to24) AS v FROM film44 t5 WHERE t5.t_dance=1) t6 JOIN (SELECT count(t7.20to24) as s FROM film44 t7 WHERE t7.t_dance=1) t8 JOIN (SELECT SUM(t9.25to29) AS v FROM film44 t9 WHERE t9.t_dance=1) t10 JOIN (SELECT count(t11.25to29) as s FROM film44 t11 WHERE t11.t_dance=1) t12 JOIN (SELECT SUM(t13.30to34) AS v FROM film44 t13 WHERE t13.t_dance=1) t14 JOIN (SELECT count(t15.30to34) as s FROM film44 t15 WHERE t15.t_dance=1) t16 JOIN (SELECT SUM(t17.35to39) AS v FROM film44 t17 WHERE t17.t_dance=1) t18 JOIN (SELECT count(t19.35to39) as s FROM film44 t19 WHERE t19.t_dance=1) t20 JOIN (SELECT SUM(t21.above40) AS v FROM film44 t21 WHERE t21.t_dance=1) t22 JOIN (SELECT count(t23.above40) as s FROM film44 t23 WHERE t23.t_dance=1) t24'''"
   ]
  },
  {
   "cell_type": "code",
   "execution_count": null,
   "metadata": {},
   "outputs": [],
   "source": [
    "exec_sql(t_dance_sql)"
   ]
  },
  {
   "cell_type": "code",
   "execution_count": null,
   "metadata": {},
   "outputs": [],
   "source": [
    "del t_dance_sql"
   ]
  },
  {
   "cell_type": "raw",
   "metadata": {},
   "source": [
    "黑色电影"
   ]
  },
  {
   "cell_type": "code",
   "execution_count": null,
   "metadata": {},
   "outputs": [],
   "source": [
    "t_dark_sql = '''SELECT 't_dark',(t2.v / t4.s) * 100.0,(t6.v / t8.s) * 100.0,(t10.v / t12.s) * 100.0,(t14.v / t16.s) * 100.0,(t18.v / t20.s) * 100.0,(t22.v / t24.s) * 100.0               FROM (SELECT SUM(t1.under20) AS v FROM film44 t1 WHERE t1.t_dark=1) t2 JOIN (SELECT count(t3.under20) as s FROM film44 t3 WHERE t3.t_dark=1) t4 JOIN (SELECT SUM(t5.20to24) AS v FROM film44 t5 WHERE t5.t_dark=1) t6 JOIN (SELECT count(t7.20to24) as s FROM film44 t7 WHERE t7.t_dark=1) t8 JOIN (SELECT SUM(t9.25to29) AS v FROM film44 t9 WHERE t9.t_dark=1) t10 JOIN (SELECT count(t11.25to29) as s FROM film44 t11 WHERE t11.t_dark=1) t12 JOIN (SELECT SUM(t13.30to34) AS v FROM film44 t13 WHERE t13.t_dark=1) t14 JOIN (SELECT count(t15.30to34) as s FROM film44 t15 WHERE t15.t_dark=1) t16 JOIN (SELECT SUM(t17.35to39) AS v FROM film44 t17 WHERE t17.t_dark=1) t18 JOIN (SELECT count(t19.35to39) as s FROM film44 t19 WHERE t19.t_dark=1) t20 JOIN (SELECT SUM(t21.above40) AS v FROM film44 t21 WHERE t21.t_dark=1) t22 JOIN (SELECT count(t23.above40) as s FROM film44 t23 WHERE t23.t_dark=1) t24'''"
   ]
  },
  {
   "cell_type": "code",
   "execution_count": null,
   "metadata": {},
   "outputs": [],
   "source": [
    "exec_sql(t_dark_sql)"
   ]
  },
  {
   "cell_type": "code",
   "execution_count": null,
   "metadata": {},
   "outputs": [],
   "source": [
    "del t_dark_sql"
   ]
  },
  {
   "cell_type": "raw",
   "metadata": {},
   "source": [
    "短片"
   ]
  },
  {
   "cell_type": "code",
   "execution_count": null,
   "metadata": {},
   "outputs": [],
   "source": [
    "t_short_sql = '''SELECT 't_short',(t2.v / t4.s) * 100.0,(t6.v / t8.s) * 100.0,(t10.v / t12.s) * 100.0,(t14.v / t16.s) * 100.0,(t18.v / t20.s) * 100.0,(t22.v / t24.s) * 100.0               FROM (SELECT SUM(t1.under20) AS v FROM film44 t1 WHERE t1.t_short=1) t2 JOIN (SELECT count(t3.under20) as s FROM film44 t3 WHERE t3.t_short=1) t4 JOIN (SELECT SUM(t5.20to24) AS v FROM film44 t5 WHERE t5.t_short=1) t6 JOIN (SELECT count(t7.20to24) as s FROM film44 t7 WHERE t7.t_short=1) t8 JOIN (SELECT SUM(t9.25to29) AS v FROM film44 t9 WHERE t9.t_short=1) t10 JOIN (SELECT count(t11.25to29) as s FROM film44 t11 WHERE t11.t_short=1) t12 JOIN (SELECT SUM(t13.30to34) AS v FROM film44 t13 WHERE t13.t_short=1) t14 JOIN (SELECT count(t15.30to34) as s FROM film44 t15 WHERE t15.t_short=1) t16 JOIN (SELECT SUM(t17.35to39) AS v FROM film44 t17 WHERE t17.t_short=1) t18 JOIN (SELECT count(t19.35to39) as s FROM film44 t19 WHERE t19.t_short=1) t20 JOIN (SELECT SUM(t21.above40) AS v FROM film44 t21 WHERE t21.t_short=1) t22 JOIN (SELECT count(t23.above40) as s FROM film44 t23 WHERE t23.t_short=1) t24'''"
   ]
  },
  {
   "cell_type": "code",
   "execution_count": null,
   "metadata": {},
   "outputs": [],
   "source": [
    "exec_sql(t_short_sql)"
   ]
  },
  {
   "cell_type": "code",
   "execution_count": null,
   "metadata": {},
   "outputs": [],
   "source": [
    "del t_short_sql"
   ]
  },
  {
   "cell_type": "raw",
   "metadata": {},
   "source": [
    "纪录片"
   ]
  },
  {
   "cell_type": "code",
   "execution_count": null,
   "metadata": {},
   "outputs": [],
   "source": [
    "t_documentary_sql = '''SELECT 't_documentary',(t2.v / t4.s) * 100.0,(t6.v / t8.s) * 100.0,(t10.v / t12.s) * 100.0,(t14.v / t16.s) * 100.0,(t18.v / t20.s) * 100.0,(t22.v / t24.s) * 100.0               FROM (SELECT SUM(t1.under20) AS v FROM film44 t1 WHERE t1.t_documentary=1) t2 JOIN (SELECT count(t3.under20) as s FROM film44 t3 WHERE t3.t_documentary=1) t4 JOIN (SELECT SUM(t5.20to24) AS v FROM film44 t5 WHERE t5.t_documentary=1) t6 JOIN (SELECT count(t7.20to24) as s FROM film44 t7 WHERE t7.t_documentary=1) t8 JOIN (SELECT SUM(t9.25to29) AS v FROM film44 t9 WHERE t9.t_documentary=1) t10 JOIN (SELECT count(t11.25to29) as s FROM film44 t11 WHERE t11.t_documentary=1) t12 JOIN (SELECT SUM(t13.30to34) AS v FROM film44 t13 WHERE t13.t_documentary=1) t14 JOIN (SELECT count(t15.30to34) as s FROM film44 t15 WHERE t15.t_documentary=1) t16 JOIN (SELECT SUM(t17.35to39) AS v FROM film44 t17 WHERE t17.t_documentary=1) t18 JOIN (SELECT count(t19.35to39) as s FROM film44 t19 WHERE t19.t_documentary=1) t20 JOIN (SELECT SUM(t21.above40) AS v FROM film44 t21 WHERE t21.t_documentary=1) t22 JOIN (SELECT count(t23.above40) as s FROM film44 t23 WHERE t23.t_documentary=1) t24'''"
   ]
  },
  {
   "cell_type": "code",
   "execution_count": null,
   "metadata": {},
   "outputs": [],
   "source": [
    "exec_sql(t_documentary_sql)"
   ]
  },
  {
   "cell_type": "code",
   "execution_count": null,
   "metadata": {},
   "outputs": [],
   "source": [
    "del t_documentary_sql"
   ]
  },
  {
   "cell_type": "raw",
   "metadata": {},
   "source": [
    "其他"
   ]
  },
  {
   "cell_type": "code",
   "execution_count": null,
   "metadata": {},
   "outputs": [],
   "source": [
    "t_others_sql = '''SELECT 't_others',(t2.v / t4.s) * 100.0,(t6.v / t8.s) * 100.0,(t10.v / t12.s) * 100.0,(t14.v / t16.s) * 100.0,(t18.v / t20.s) * 100.0,(t22.v / t24.s) * 100.0               FROM (SELECT SUM(t1.under20) AS v FROM film44 t1 WHERE t1.t_others=1) t2 JOIN (SELECT count(t3.under20) as s FROM film44 t3 WHERE t3.t_others=1) t4 JOIN (SELECT SUM(t5.20to24) AS v FROM film44 t5 WHERE t5.t_others=1) t6 JOIN (SELECT count(t7.20to24) as s FROM film44 t7 WHERE t7.t_others=1) t8 JOIN (SELECT SUM(t9.25to29) AS v FROM film44 t9 WHERE t9.t_others=1) t10 JOIN (SELECT count(t11.25to29) as s FROM film44 t11 WHERE t11.t_others=1) t12 JOIN (SELECT SUM(t13.30to34) AS v FROM film44 t13 WHERE t13.t_others=1) t14 JOIN (SELECT count(t15.30to34) as s FROM film44 t15 WHERE t15.t_others=1) t16 JOIN (SELECT SUM(t17.35to39) AS v FROM film44 t17 WHERE t17.t_others=1) t18 JOIN (SELECT count(t19.35to39) as s FROM film44 t19 WHERE t19.t_others=1) t20 JOIN (SELECT SUM(t21.above40) AS v FROM film44 t21 WHERE t21.t_others=1) t22 JOIN (SELECT count(t23.above40) as s FROM film44 t23 WHERE t23.t_others=1) t24'''"
   ]
  },
  {
   "cell_type": "code",
   "execution_count": null,
   "metadata": {},
   "outputs": [],
   "source": [
    "exec_sql(t_others_sql)"
   ]
  },
  {
   "cell_type": "code",
   "execution_count": null,
   "metadata": {},
   "outputs": [],
   "source": [
    "del t_others_sql"
   ]
  },
  {
   "cell_type": "raw",
   "metadata": {},
   "source": [
    "大陆"
   ]
  },
  {
   "cell_type": "code",
   "execution_count": null,
   "metadata": {},
   "outputs": [],
   "source": [
    "c_Mainland_sql = '''SELECT 'c_Mainland',(t2.v / t4.s) * 100.0,(t6.v / t8.s) * 100.0,(t10.v / t12.s) * 100.0,(t14.v / t16.s) * 100.0,(t18.v / t20.s) * 100.0,(t22.v / t24.s) * 100.0               FROM (SELECT SUM(t1.under20) AS v FROM film44 t1 WHERE t1.c_Mainland=1) t2 JOIN (SELECT count(t3.under20) as s FROM film44 t3 WHERE t3.c_Mainland=1) t4 JOIN (SELECT SUM(t5.20to24) AS v FROM film44 t5 WHERE t5.c_Mainland=1) t6 JOIN (SELECT count(t7.20to24) as s FROM film44 t7 WHERE t7.c_Mainland=1) t8 JOIN (SELECT SUM(t9.25to29) AS v FROM film44 t9 WHERE t9.c_Mainland=1) t10 JOIN (SELECT count(t11.25to29) as s FROM film44 t11 WHERE t11.c_Mainland=1) t12 JOIN (SELECT SUM(t13.30to34) AS v FROM film44 t13 WHERE t13.c_Mainland=1) t14 JOIN (SELECT count(t15.30to34) as s FROM film44 t15 WHERE t15.c_Mainland=1) t16 JOIN (SELECT SUM(t17.35to39) AS v FROM film44 t17 WHERE t17.c_Mainland=1) t18 JOIN (SELECT count(t19.35to39) as s FROM film44 t19 WHERE t19.c_Mainland=1) t20 JOIN (SELECT SUM(t21.above40) AS v FROM film44 t21 WHERE t21.c_Mainland=1) t22 JOIN (SELECT count(t23.above40) as s FROM film44 t23 WHERE t23.c_Mainland=1) t24'''"
   ]
  },
  {
   "cell_type": "code",
   "execution_count": null,
   "metadata": {},
   "outputs": [],
   "source": [
    "exec_sql(c_Mainland_sql)"
   ]
  },
  {
   "cell_type": "code",
   "execution_count": null,
   "metadata": {},
   "outputs": [],
   "source": [
    "del c_Mainland_sql"
   ]
  },
  {
   "cell_type": "raw",
   "metadata": {},
   "source": [
    "美国"
   ]
  },
  {
   "cell_type": "code",
   "execution_count": null,
   "metadata": {},
   "outputs": [],
   "source": [
    "c_America_sql = '''SELECT 'c_America',(t2.v / t4.s) * 100.0,(t6.v / t8.s) * 100.0,(t10.v / t12.s) * 100.0,(t14.v / t16.s) * 100.0,(t18.v / t20.s) * 100.0,(t22.v / t24.s) * 100.0               FROM (SELECT SUM(t1.under20) AS v FROM film44 t1 WHERE t1.c_America=1) t2 JOIN (SELECT count(t3.under20) as s FROM film44 t3 WHERE t3.c_America=1) t4 JOIN (SELECT SUM(t5.20to24) AS v FROM film44 t5 WHERE t5.c_America=1) t6 JOIN (SELECT count(t7.20to24) as s FROM film44 t7 WHERE t7.c_America=1) t8 JOIN (SELECT SUM(t9.25to29) AS v FROM film44 t9 WHERE t9.c_America=1) t10 JOIN (SELECT count(t11.25to29) as s FROM film44 t11 WHERE t11.c_America=1) t12 JOIN (SELECT SUM(t13.30to34) AS v FROM film44 t13 WHERE t13.c_America=1) t14 JOIN (SELECT count(t15.30to34) as s FROM film44 t15 WHERE t15.c_America=1) t16 JOIN (SELECT SUM(t17.35to39) AS v FROM film44 t17 WHERE t17.c_America=1) t18 JOIN (SELECT count(t19.35to39) as s FROM film44 t19 WHERE t19.c_America=1) t20 JOIN (SELECT SUM(t21.above40) AS v FROM film44 t21 WHERE t21.c_America=1) t22 JOIN (SELECT count(t23.above40) as s FROM film44 t23 WHERE t23.c_America=1) t24'''"
   ]
  },
  {
   "cell_type": "code",
   "execution_count": null,
   "metadata": {},
   "outputs": [],
   "source": [
    "exec_sql(c_America_sql)"
   ]
  },
  {
   "cell_type": "code",
   "execution_count": null,
   "metadata": {},
   "outputs": [],
   "source": [
    "del c_America_sql"
   ]
  },
  {
   "cell_type": "raw",
   "metadata": {},
   "source": [
    "韩国"
   ]
  },
  {
   "cell_type": "code",
   "execution_count": null,
   "metadata": {},
   "outputs": [],
   "source": [
    "c_Korea_sql = '''SELECT 'c_Korea',(t2.v / t4.s) * 100.0,(t6.v / t8.s) * 100.0,(t10.v / t12.s) * 100.0,(t14.v / t16.s) * 100.0,(t18.v / t20.s) * 100.0,(t22.v / t24.s) * 100.0               FROM (SELECT SUM(t1.under20) AS v FROM film44 t1 WHERE t1.c_Korea=1) t2 JOIN (SELECT count(t3.under20) as s FROM film44 t3 WHERE t3.c_Korea=1) t4 JOIN (SELECT SUM(t5.20to24) AS v FROM film44 t5 WHERE t5.c_Korea=1) t6 JOIN (SELECT count(t7.20to24) as s FROM film44 t7 WHERE t7.c_Korea=1) t8 JOIN (SELECT SUM(t9.25to29) AS v FROM film44 t9 WHERE t9.c_Korea=1) t10 JOIN (SELECT count(t11.25to29) as s FROM film44 t11 WHERE t11.c_Korea=1) t12 JOIN (SELECT SUM(t13.30to34) AS v FROM film44 t13 WHERE t13.c_Korea=1) t14 JOIN (SELECT count(t15.30to34) as s FROM film44 t15 WHERE t15.c_Korea=1) t16 JOIN (SELECT SUM(t17.35to39) AS v FROM film44 t17 WHERE t17.c_Korea=1) t18 JOIN (SELECT count(t19.35to39) as s FROM film44 t19 WHERE t19.c_Korea=1) t20 JOIN (SELECT SUM(t21.above40) AS v FROM film44 t21 WHERE t21.c_Korea=1) t22 JOIN (SELECT count(t23.above40) as s FROM film44 t23 WHERE t23.c_Korea=1) t24'''"
   ]
  },
  {
   "cell_type": "code",
   "execution_count": null,
   "metadata": {},
   "outputs": [],
   "source": [
    "exec_sql(c_Korea_sql)"
   ]
  },
  {
   "cell_type": "code",
   "execution_count": null,
   "metadata": {},
   "outputs": [],
   "source": [
    "del c_Korea_sql"
   ]
  },
  {
   "cell_type": "raw",
   "metadata": {},
   "source": [
    "日本"
   ]
  },
  {
   "cell_type": "code",
   "execution_count": null,
   "metadata": {},
   "outputs": [],
   "source": [
    "c_Japan_sql = '''SELECT 'c_Japan',(t2.v / t4.s) * 100.0,(t6.v / t8.s) * 100.0,(t10.v / t12.s) * 100.0,(t14.v / t16.s) * 100.0,(t18.v / t20.s) * 100.0,(t22.v / t24.s) * 100.0               FROM (SELECT SUM(t1.under20) AS v FROM film44 t1 WHERE t1.c_Japan=1) t2 JOIN (SELECT count(t3.under20) as s FROM film44 t3 WHERE t3.c_Japan=1) t4 JOIN (SELECT SUM(t5.20to24) AS v FROM film44 t5 WHERE t5.c_Japan=1) t6 JOIN (SELECT count(t7.20to24) as s FROM film44 t7 WHERE t7.c_Japan=1) t8 JOIN (SELECT SUM(t9.25to29) AS v FROM film44 t9 WHERE t9.c_Japan=1) t10 JOIN (SELECT count(t11.25to29) as s FROM film44 t11 WHERE t11.c_Japan=1) t12 JOIN (SELECT SUM(t13.30to34) AS v FROM film44 t13 WHERE t13.c_Japan=1) t14 JOIN (SELECT count(t15.30to34) as s FROM film44 t15 WHERE t15.c_Japan=1) t16 JOIN (SELECT SUM(t17.35to39) AS v FROM film44 t17 WHERE t17.c_Japan=1) t18 JOIN (SELECT count(t19.35to39) as s FROM film44 t19 WHERE t19.c_Japan=1) t20 JOIN (SELECT SUM(t21.above40) AS v FROM film44 t21 WHERE t21.c_Japan=1) t22 JOIN (SELECT count(t23.above40) as s FROM film44 t23 WHERE t23.c_Japan=1) t24'''"
   ]
  },
  {
   "cell_type": "code",
   "execution_count": null,
   "metadata": {},
   "outputs": [],
   "source": [
    "exec_sql(c_Japan_sql)"
   ]
  },
  {
   "cell_type": "code",
   "execution_count": null,
   "metadata": {},
   "outputs": [],
   "source": [
    "del c_Japan_sql"
   ]
  },
  {
   "cell_type": "raw",
   "metadata": {},
   "source": [
    "香港"
   ]
  },
  {
   "cell_type": "code",
   "execution_count": null,
   "metadata": {},
   "outputs": [],
   "source": [
    "c_Hongkong_sql = '''SELECT 'c_Hongkong',(t2.v / t4.s) * 100.0,(t6.v / t8.s) * 100.0,(t10.v / t12.s) * 100.0,(t14.v / t16.s) * 100.0,(t18.v / t20.s) * 100.0,(t22.v / t24.s) * 100.0               FROM (SELECT SUM(t1.under20) AS v FROM film44 t1 WHERE t1.c_Hongkong=1) t2 JOIN (SELECT count(t3.under20) as s FROM film44 t3 WHERE t3.c_Hongkong=1) t4 JOIN (SELECT SUM(t5.20to24) AS v FROM film44 t5 WHERE t5.c_Hongkong=1) t6 JOIN (SELECT count(t7.20to24) as s FROM film44 t7 WHERE t7.c_Hongkong=1) t8 JOIN (SELECT SUM(t9.25to29) AS v FROM film44 t9 WHERE t9.c_Hongkong=1) t10 JOIN (SELECT count(t11.25to29) as s FROM film44 t11 WHERE t11.c_Hongkong=1) t12 JOIN (SELECT SUM(t13.30to34) AS v FROM film44 t13 WHERE t13.c_Hongkong=1) t14 JOIN (SELECT count(t15.30to34) as s FROM film44 t15 WHERE t15.c_Hongkong=1) t16 JOIN (SELECT SUM(t17.35to39) AS v FROM film44 t17 WHERE t17.c_Hongkong=1) t18 JOIN (SELECT count(t19.35to39) as s FROM film44 t19 WHERE t19.c_Hongkong=1) t20 JOIN (SELECT SUM(t21.above40) AS v FROM film44 t21 WHERE t21.c_Hongkong=1) t22 JOIN (SELECT count(t23.above40) as s FROM film44 t23 WHERE t23.c_Hongkong=1) t24'''"
   ]
  },
  {
   "cell_type": "code",
   "execution_count": null,
   "metadata": {},
   "outputs": [],
   "source": [
    "exec_sql(c_Hongkong_sql)"
   ]
  },
  {
   "cell_type": "code",
   "execution_count": null,
   "metadata": {},
   "outputs": [],
   "source": [
    "del c_Hongkong_sql"
   ]
  },
  {
   "cell_type": "raw",
   "metadata": {},
   "source": [
    "台湾"
   ]
  },
  {
   "cell_type": "code",
   "execution_count": null,
   "metadata": {},
   "outputs": [],
   "source": [
    "c_Taiwan_sql = '''SELECT 'c_Taiwan',(t2.v / t4.s) * 100.0,(t6.v / t8.s) * 100.0,(t10.v / t12.s) * 100.0,(t14.v / t16.s) * 100.0,(t18.v / t20.s) * 100.0,(t22.v / t24.s) * 100.0               FROM (SELECT SUM(t1.under20) AS v FROM film44 t1 WHERE t1.c_Taiwan=1) t2 JOIN (SELECT count(t3.under20) as s FROM film44 t3 WHERE t3.c_Taiwan=1) t4 JOIN (SELECT SUM(t5.20to24) AS v FROM film44 t5 WHERE t5.c_Taiwan=1) t6 JOIN (SELECT count(t7.20to24) as s FROM film44 t7 WHERE t7.c_Taiwan=1) t8 JOIN (SELECT SUM(t9.25to29) AS v FROM film44 t9 WHERE t9.c_Taiwan=1) t10 JOIN (SELECT count(t11.25to29) as s FROM film44 t11 WHERE t11.c_Taiwan=1) t12 JOIN (SELECT SUM(t13.30to34) AS v FROM film44 t13 WHERE t13.c_Taiwan=1) t14 JOIN (SELECT count(t15.30to34) as s FROM film44 t15 WHERE t15.c_Taiwan=1) t16 JOIN (SELECT SUM(t17.35to39) AS v FROM film44 t17 WHERE t17.c_Taiwan=1) t18 JOIN (SELECT count(t19.35to39) as s FROM film44 t19 WHERE t19.c_Taiwan=1) t20 JOIN (SELECT SUM(t21.above40) AS v FROM film44 t21 WHERE t21.c_Taiwan=1) t22 JOIN (SELECT count(t23.above40) as s FROM film44 t23 WHERE t23.c_Taiwan=1) t24'''"
   ]
  },
  {
   "cell_type": "code",
   "execution_count": null,
   "metadata": {},
   "outputs": [],
   "source": [
    "exec_sql(c_Taiwan_sql)"
   ]
  },
  {
   "cell_type": "code",
   "execution_count": null,
   "metadata": {},
   "outputs": [],
   "source": [
    "del c_Taiwan_sql"
   ]
  },
  {
   "cell_type": "raw",
   "metadata": {},
   "source": [
    "泰国"
   ]
  },
  {
   "cell_type": "code",
   "execution_count": null,
   "metadata": {},
   "outputs": [],
   "source": [
    "c_Thailand_sql = '''SELECT 'c_Thailand',(t2.v / t4.s) * 100.0,(t6.v / t8.s) * 100.0,(t10.v / t12.s) * 100.0,(t14.v / t16.s) * 100.0,(t18.v / t20.s) * 100.0,(t22.v / t24.s) * 100.0               FROM (SELECT SUM(t1.under20) AS v FROM film44 t1 WHERE t1.c_Thailand=1) t2 JOIN (SELECT count(t3.under20) as s FROM film44 t3 WHERE t3.c_Thailand=1) t4 JOIN (SELECT SUM(t5.20to24) AS v FROM film44 t5 WHERE t5.c_Thailand=1) t6 JOIN (SELECT count(t7.20to24) as s FROM film44 t7 WHERE t7.c_Thailand=1) t8 JOIN (SELECT SUM(t9.25to29) AS v FROM film44 t9 WHERE t9.c_Thailand=1) t10 JOIN (SELECT count(t11.25to29) as s FROM film44 t11 WHERE t11.c_Thailand=1) t12 JOIN (SELECT SUM(t13.30to34) AS v FROM film44 t13 WHERE t13.c_Thailand=1) t14 JOIN (SELECT count(t15.30to34) as s FROM film44 t15 WHERE t15.c_Thailand=1) t16 JOIN (SELECT SUM(t17.35to39) AS v FROM film44 t17 WHERE t17.c_Thailand=1) t18 JOIN (SELECT count(t19.35to39) as s FROM film44 t19 WHERE t19.c_Thailand=1) t20 JOIN (SELECT SUM(t21.above40) AS v FROM film44 t21 WHERE t21.c_Thailand=1) t22 JOIN (SELECT count(t23.above40) as s FROM film44 t23 WHERE t23.c_Thailand=1) t24'''"
   ]
  },
  {
   "cell_type": "code",
   "execution_count": null,
   "metadata": {},
   "outputs": [],
   "source": [
    "exec_sql(c_Thailand_sql)"
   ]
  },
  {
   "cell_type": "code",
   "execution_count": null,
   "metadata": {},
   "outputs": [],
   "source": [
    "del c_Thailand_sql"
   ]
  },
  {
   "cell_type": "raw",
   "metadata": {},
   "source": [
    "印度"
   ]
  },
  {
   "cell_type": "code",
   "execution_count": null,
   "metadata": {},
   "outputs": [],
   "source": [
    "c_India_sql = '''SELECT 'c_India',(t2.v / t4.s) * 100.0,(t6.v / t8.s) * 100.0,(t10.v / t12.s) * 100.0,(t14.v / t16.s) * 100.0,(t18.v / t20.s) * 100.0,(t22.v / t24.s) * 100.0               FROM (SELECT SUM(t1.under20) AS v FROM film44 t1 WHERE t1.c_India=1) t2 JOIN (SELECT count(t3.under20) as s FROM film44 t3 WHERE t3.c_India=1) t4 JOIN (SELECT SUM(t5.20to24) AS v FROM film44 t5 WHERE t5.c_India=1) t6 JOIN (SELECT count(t7.20to24) as s FROM film44 t7 WHERE t7.c_India=1) t8 JOIN (SELECT SUM(t9.25to29) AS v FROM film44 t9 WHERE t9.c_India=1) t10 JOIN (SELECT count(t11.25to29) as s FROM film44 t11 WHERE t11.c_India=1) t12 JOIN (SELECT SUM(t13.30to34) AS v FROM film44 t13 WHERE t13.c_India=1) t14 JOIN (SELECT count(t15.30to34) as s FROM film44 t15 WHERE t15.c_India=1) t16 JOIN (SELECT SUM(t17.35to39) AS v FROM film44 t17 WHERE t17.c_India=1) t18 JOIN (SELECT count(t19.35to39) as s FROM film44 t19 WHERE t19.c_India=1) t20 JOIN (SELECT SUM(t21.above40) AS v FROM film44 t21 WHERE t21.c_India=1) t22 JOIN (SELECT count(t23.above40) as s FROM film44 t23 WHERE t23.c_India=1) t24'''"
   ]
  },
  {
   "cell_type": "code",
   "execution_count": null,
   "metadata": {},
   "outputs": [],
   "source": [
    "exec_sql(c_India_sql)"
   ]
  },
  {
   "cell_type": "code",
   "execution_count": null,
   "metadata": {},
   "outputs": [],
   "source": [
    "del c_India_sql"
   ]
  },
  {
   "cell_type": "raw",
   "metadata": {},
   "source": [
    "法国"
   ]
  },
  {
   "cell_type": "code",
   "execution_count": null,
   "metadata": {},
   "outputs": [],
   "source": [
    "c_France_sql = '''SELECT 'c_France',(t2.v / t4.s) * 100.0,(t6.v / t8.s) * 100.0,(t10.v / t12.s) * 100.0,(t14.v / t16.s) * 100.0,(t18.v / t20.s) * 100.0,(t22.v / t24.s) * 100.0               FROM (SELECT SUM(t1.under20) AS v FROM film44 t1 WHERE t1.c_France=1) t2 JOIN (SELECT count(t3.under20) as s FROM film44 t3 WHERE t3.c_France=1) t4 JOIN (SELECT SUM(t5.20to24) AS v FROM film44 t5 WHERE t5.c_France=1) t6 JOIN (SELECT count(t7.20to24) as s FROM film44 t7 WHERE t7.c_France=1) t8 JOIN (SELECT SUM(t9.25to29) AS v FROM film44 t9 WHERE t9.c_France=1) t10 JOIN (SELECT count(t11.25to29) as s FROM film44 t11 WHERE t11.c_France=1) t12 JOIN (SELECT SUM(t13.30to34) AS v FROM film44 t13 WHERE t13.c_France=1) t14 JOIN (SELECT count(t15.30to34) as s FROM film44 t15 WHERE t15.c_France=1) t16 JOIN (SELECT SUM(t17.35to39) AS v FROM film44 t17 WHERE t17.c_France=1) t18 JOIN (SELECT count(t19.35to39) as s FROM film44 t19 WHERE t19.c_France=1) t20 JOIN (SELECT SUM(t21.above40) AS v FROM film44 t21 WHERE t21.c_France=1) t22 JOIN (SELECT count(t23.above40) as s FROM film44 t23 WHERE t23.c_France=1) t24'''"
   ]
  },
  {
   "cell_type": "code",
   "execution_count": null,
   "metadata": {},
   "outputs": [],
   "source": [
    "exec_sql(c_France_sql)"
   ]
  },
  {
   "cell_type": "code",
   "execution_count": null,
   "metadata": {},
   "outputs": [],
   "source": [
    "del c_France_sql"
   ]
  },
  {
   "cell_type": "raw",
   "metadata": {},
   "source": [
    "英国"
   ]
  },
  {
   "cell_type": "code",
   "execution_count": null,
   "metadata": {},
   "outputs": [],
   "source": [
    "c_England_sql = '''SELECT 'c_England',(t2.v / t4.s) * 100.0,(t6.v / t8.s) * 100.0,(t10.v / t12.s) * 100.0,(t14.v / t16.s) * 100.0,(t18.v / t20.s) * 100.0,(t22.v / t24.s) * 100.0               FROM (SELECT SUM(t1.under20) AS v FROM film44 t1 WHERE t1.c_England=1) t2 JOIN (SELECT count(t3.under20) as s FROM film44 t3 WHERE t3.c_England=1) t4 JOIN (SELECT SUM(t5.20to24) AS v FROM film44 t5 WHERE t5.c_England=1) t6 JOIN (SELECT count(t7.20to24) as s FROM film44 t7 WHERE t7.c_England=1) t8 JOIN (SELECT SUM(t9.25to29) AS v FROM film44 t9 WHERE t9.c_England=1) t10 JOIN (SELECT count(t11.25to29) as s FROM film44 t11 WHERE t11.c_England=1) t12 JOIN (SELECT SUM(t13.30to34) AS v FROM film44 t13 WHERE t13.c_England=1) t14 JOIN (SELECT count(t15.30to34) as s FROM film44 t15 WHERE t15.c_England=1) t16 JOIN (SELECT SUM(t17.35to39) AS v FROM film44 t17 WHERE t17.c_England=1) t18 JOIN (SELECT count(t19.35to39) as s FROM film44 t19 WHERE t19.c_England=1) t20 JOIN (SELECT SUM(t21.above40) AS v FROM film44 t21 WHERE t21.c_England=1) t22 JOIN (SELECT count(t23.above40) as s FROM film44 t23 WHERE t23.c_England=1) t24'''"
   ]
  },
  {
   "cell_type": "code",
   "execution_count": null,
   "metadata": {},
   "outputs": [],
   "source": [
    "exec_sql(c_England_sql)"
   ]
  },
  {
   "cell_type": "code",
   "execution_count": null,
   "metadata": {},
   "outputs": [],
   "source": [
    "del c_England_sql"
   ]
  },
  {
   "cell_type": "raw",
   "metadata": {},
   "source": [
    "俄罗斯"
   ]
  },
  {
   "cell_type": "code",
   "execution_count": null,
   "metadata": {},
   "outputs": [],
   "source": [
    "c_Russia_sql = '''SELECT 'c_Russia',(t2.v / t4.s) * 100.0,(t6.v / t8.s) * 100.0,(t10.v / t12.s) * 100.0,(t14.v / t16.s) * 100.0,(t18.v / t20.s) * 100.0,(t22.v / t24.s) * 100.0               FROM (SELECT SUM(t1.under20) AS v FROM film44 t1 WHERE t1.c_Russia=1) t2 JOIN (SELECT count(t3.under20) as s FROM film44 t3 WHERE t3.c_Russia=1) t4 JOIN (SELECT SUM(t5.20to24) AS v FROM film44 t5 WHERE t5.c_Russia=1) t6 JOIN (SELECT count(t7.20to24) as s FROM film44 t7 WHERE t7.c_Russia=1) t8 JOIN (SELECT SUM(t9.25to29) AS v FROM film44 t9 WHERE t9.c_Russia=1) t10 JOIN (SELECT count(t11.25to29) as s FROM film44 t11 WHERE t11.c_Russia=1) t12 JOIN (SELECT SUM(t13.30to34) AS v FROM film44 t13 WHERE t13.c_Russia=1) t14 JOIN (SELECT count(t15.30to34) as s FROM film44 t15 WHERE t15.c_Russia=1) t16 JOIN (SELECT SUM(t17.35to39) AS v FROM film44 t17 WHERE t17.c_Russia=1) t18 JOIN (SELECT count(t19.35to39) as s FROM film44 t19 WHERE t19.c_Russia=1) t20 JOIN (SELECT SUM(t21.above40) AS v FROM film44 t21 WHERE t21.c_Russia=1) t22 JOIN (SELECT count(t23.above40) as s FROM film44 t23 WHERE t23.c_Russia=1) t24'''"
   ]
  },
  {
   "cell_type": "code",
   "execution_count": null,
   "metadata": {},
   "outputs": [],
   "source": [
    "exec_sql(c_Russia_sql)"
   ]
  },
  {
   "cell_type": "code",
   "execution_count": null,
   "metadata": {},
   "outputs": [],
   "source": [
    "del c_Russia_sql"
   ]
  },
  {
   "cell_type": "raw",
   "metadata": {},
   "source": [
    "意大利"
   ]
  },
  {
   "cell_type": "code",
   "execution_count": null,
   "metadata": {},
   "outputs": [],
   "source": [
    "c_Italy_sql = '''SELECT 'c_Italy',(t2.v / t4.s) * 100.0,(t6.v / t8.s) * 100.0,(t10.v / t12.s) * 100.0,(t14.v / t16.s) * 100.0,(t18.v / t20.s) * 100.0,(t22.v / t24.s) * 100.0               FROM (SELECT SUM(t1.under20) AS v FROM film44 t1 WHERE t1.c_Italy=1) t2 JOIN (SELECT count(t3.under20) as s FROM film44 t3 WHERE t3.c_Italy=1) t4 JOIN (SELECT SUM(t5.20to24) AS v FROM film44 t5 WHERE t5.c_Italy=1) t6 JOIN (SELECT count(t7.20to24) as s FROM film44 t7 WHERE t7.c_Italy=1) t8 JOIN (SELECT SUM(t9.25to29) AS v FROM film44 t9 WHERE t9.c_Italy=1) t10 JOIN (SELECT count(t11.25to29) as s FROM film44 t11 WHERE t11.c_Italy=1) t12 JOIN (SELECT SUM(t13.30to34) AS v FROM film44 t13 WHERE t13.c_Italy=1) t14 JOIN (SELECT count(t15.30to34) as s FROM film44 t15 WHERE t15.c_Italy=1) t16 JOIN (SELECT SUM(t17.35to39) AS v FROM film44 t17 WHERE t17.c_Italy=1) t18 JOIN (SELECT count(t19.35to39) as s FROM film44 t19 WHERE t19.c_Italy=1) t20 JOIN (SELECT SUM(t21.above40) AS v FROM film44 t21 WHERE t21.c_Italy=1) t22 JOIN (SELECT count(t23.above40) as s FROM film44 t23 WHERE t23.c_Italy=1) t24'''"
   ]
  },
  {
   "cell_type": "code",
   "execution_count": null,
   "metadata": {},
   "outputs": [],
   "source": [
    "exec_sql(c_Italy_sql)"
   ]
  },
  {
   "cell_type": "code",
   "execution_count": null,
   "metadata": {},
   "outputs": [],
   "source": [
    "del c_Italy_sql"
   ]
  },
  {
   "cell_type": "raw",
   "metadata": {},
   "source": [
    "西班牙"
   ]
  },
  {
   "cell_type": "code",
   "execution_count": null,
   "metadata": {},
   "outputs": [],
   "source": [
    "c_Spain_sql = '''SELECT 'c_Spain',(t2.v / t4.s) * 100.0,(t6.v / t8.s) * 100.0,(t10.v / t12.s) * 100.0,(t14.v / t16.s) * 100.0,(t18.v / t20.s) * 100.0,(t22.v / t24.s) * 100.0               FROM (SELECT SUM(t1.under20) AS v FROM film44 t1 WHERE t1.c_Spain=1) t2 JOIN (SELECT count(t3.under20) as s FROM film44 t3 WHERE t3.c_Spain=1) t4 JOIN (SELECT SUM(t5.20to24) AS v FROM film44 t5 WHERE t5.c_Spain=1) t6 JOIN (SELECT count(t7.20to24) as s FROM film44 t7 WHERE t7.c_Spain=1) t8 JOIN (SELECT SUM(t9.25to29) AS v FROM film44 t9 WHERE t9.c_Spain=1) t10 JOIN (SELECT count(t11.25to29) as s FROM film44 t11 WHERE t11.c_Spain=1) t12 JOIN (SELECT SUM(t13.30to34) AS v FROM film44 t13 WHERE t13.c_Spain=1) t14 JOIN (SELECT count(t15.30to34) as s FROM film44 t15 WHERE t15.c_Spain=1) t16 JOIN (SELECT SUM(t17.35to39) AS v FROM film44 t17 WHERE t17.c_Spain=1) t18 JOIN (SELECT count(t19.35to39) as s FROM film44 t19 WHERE t19.c_Spain=1) t20 JOIN (SELECT SUM(t21.above40) AS v FROM film44 t21 WHERE t21.c_Spain=1) t22 JOIN (SELECT count(t23.above40) as s FROM film44 t23 WHERE t23.c_Spain=1) t24'''"
   ]
  },
  {
   "cell_type": "code",
   "execution_count": null,
   "metadata": {},
   "outputs": [],
   "source": [
    "exec_sql(c_Spain_sql)"
   ]
  },
  {
   "cell_type": "code",
   "execution_count": null,
   "metadata": {},
   "outputs": [],
   "source": [
    "del c_Spain_sql"
   ]
  },
  {
   "cell_type": "raw",
   "metadata": {},
   "source": [
    "德国"
   ]
  },
  {
   "cell_type": "code",
   "execution_count": null,
   "metadata": {},
   "outputs": [],
   "source": [
    "c_Germany_sql = '''SELECT 'c_Germany',(t2.v / t4.s) * 100.0,(t6.v / t8.s) * 100.0,(t10.v / t12.s) * 100.0,(t14.v / t16.s) * 100.0,(t18.v / t20.s) * 100.0,(t22.v / t24.s) * 100.0               FROM (SELECT SUM(t1.under20) AS v FROM film44 t1 WHERE t1.c_Germany=1) t2 JOIN (SELECT count(t3.under20) as s FROM film44 t3 WHERE t3.c_Germany=1) t4 JOIN (SELECT SUM(t5.20to24) AS v FROM film44 t5 WHERE t5.c_Germany=1) t6 JOIN (SELECT count(t7.20to24) as s FROM film44 t7 WHERE t7.c_Germany=1) t8 JOIN (SELECT SUM(t9.25to29) AS v FROM film44 t9 WHERE t9.c_Germany=1) t10 JOIN (SELECT count(t11.25to29) as s FROM film44 t11 WHERE t11.c_Germany=1) t12 JOIN (SELECT SUM(t13.30to34) AS v FROM film44 t13 WHERE t13.c_Germany=1) t14 JOIN (SELECT count(t15.30to34) as s FROM film44 t15 WHERE t15.c_Germany=1) t16 JOIN (SELECT SUM(t17.35to39) AS v FROM film44 t17 WHERE t17.c_Germany=1) t18 JOIN (SELECT count(t19.35to39) as s FROM film44 t19 WHERE t19.c_Germany=1) t20 JOIN (SELECT SUM(t21.above40) AS v FROM film44 t21 WHERE t21.c_Germany=1) t22 JOIN (SELECT count(t23.above40) as s FROM film44 t23 WHERE t23.c_Germany=1) t24'''"
   ]
  },
  {
   "cell_type": "code",
   "execution_count": null,
   "metadata": {},
   "outputs": [],
   "source": [
    "exec_sql(c_Germany_sql)"
   ]
  },
  {
   "cell_type": "code",
   "execution_count": null,
   "metadata": {},
   "outputs": [],
   "source": [
    "del c_Germany_sql"
   ]
  },
  {
   "cell_type": "raw",
   "metadata": {},
   "source": [
    "波兰"
   ]
  },
  {
   "cell_type": "code",
   "execution_count": null,
   "metadata": {},
   "outputs": [],
   "source": [
    "c_Poland_sql = '''SELECT 'c_Poland',(t2.v / t4.s) * 100.0,(t6.v / t8.s) * 100.0,(t10.v / t12.s) * 100.0,(t14.v / t16.s) * 100.0,(t18.v / t20.s) * 100.0,(t22.v / t24.s) * 100.0               FROM (SELECT SUM(t1.under20) AS v FROM film44 t1 WHERE t1.c_Poland=1) t2 JOIN (SELECT count(t3.under20) as s FROM film44 t3 WHERE t3.c_Poland=1) t4 JOIN (SELECT SUM(t5.20to24) AS v FROM film44 t5 WHERE t5.c_Poland=1) t6 JOIN (SELECT count(t7.20to24) as s FROM film44 t7 WHERE t7.c_Poland=1) t8 JOIN (SELECT SUM(t9.25to29) AS v FROM film44 t9 WHERE t9.c_Poland=1) t10 JOIN (SELECT count(t11.25to29) as s FROM film44 t11 WHERE t11.c_Poland=1) t12 JOIN (SELECT SUM(t13.30to34) AS v FROM film44 t13 WHERE t13.c_Poland=1) t14 JOIN (SELECT count(t15.30to34) as s FROM film44 t15 WHERE t15.c_Poland=1) t16 JOIN (SELECT SUM(t17.35to39) AS v FROM film44 t17 WHERE t17.c_Poland=1) t18 JOIN (SELECT count(t19.35to39) as s FROM film44 t19 WHERE t19.c_Poland=1) t20 JOIN (SELECT SUM(t21.above40) AS v FROM film44 t21 WHERE t21.c_Poland=1) t22 JOIN (SELECT count(t23.above40) as s FROM film44 t23 WHERE t23.c_Poland=1) t24'''"
   ]
  },
  {
   "cell_type": "code",
   "execution_count": null,
   "metadata": {},
   "outputs": [],
   "source": [
    "exec_sql(c_Poland_sql)"
   ]
  },
  {
   "cell_type": "code",
   "execution_count": null,
   "metadata": {},
   "outputs": [],
   "source": [
    "del c_Poland_sql"
   ]
  },
  {
   "cell_type": "raw",
   "metadata": {},
   "source": [
    "澳大利亚"
   ]
  },
  {
   "cell_type": "code",
   "execution_count": null,
   "metadata": {},
   "outputs": [],
   "source": [
    "c_Australia_sql = '''SELECT 'c_Australia',(t2.v / t4.s) * 100.0,(t6.v / t8.s) * 100.0,(t10.v / t12.s) * 100.0,(t14.v / t16.s) * 100.0,(t18.v / t20.s) * 100.0,(t22.v / t24.s) * 100.0               FROM (SELECT SUM(t1.under20) AS v FROM film44 t1 WHERE t1.c_Australia=1) t2 JOIN (SELECT count(t3.under20) as s FROM film44 t3 WHERE t3.c_Australia=1) t4 JOIN (SELECT SUM(t5.20to24) AS v FROM film44 t5 WHERE t5.c_Australia=1) t6 JOIN (SELECT count(t7.20to24) as s FROM film44 t7 WHERE t7.c_Australia=1) t8 JOIN (SELECT SUM(t9.25to29) AS v FROM film44 t9 WHERE t9.c_Australia=1) t10 JOIN (SELECT count(t11.25to29) as s FROM film44 t11 WHERE t11.c_Australia=1) t12 JOIN (SELECT SUM(t13.30to34) AS v FROM film44 t13 WHERE t13.c_Australia=1) t14 JOIN (SELECT count(t15.30to34) as s FROM film44 t15 WHERE t15.c_Australia=1) t16 JOIN (SELECT SUM(t17.35to39) AS v FROM film44 t17 WHERE t17.c_Australia=1) t18 JOIN (SELECT count(t19.35to39) as s FROM film44 t19 WHERE t19.c_Australia=1) t20 JOIN (SELECT SUM(t21.above40) AS v FROM film44 t21 WHERE t21.c_Australia=1) t22 JOIN (SELECT count(t23.above40) as s FROM film44 t23 WHERE t23.c_Australia=1) t24'''"
   ]
  },
  {
   "cell_type": "code",
   "execution_count": null,
   "metadata": {},
   "outputs": [],
   "source": [
    "\n",
    "exec_sql(c_Australia_sql)"
   ]
  },
  {
   "cell_type": "code",
   "execution_count": null,
   "metadata": {},
   "outputs": [],
   "source": [
    "del c_Australia_sql"
   ]
  },
  {
   "cell_type": "raw",
   "metadata": {},
   "source": [
    "伊朗"
   ]
  },
  {
   "cell_type": "code",
   "execution_count": null,
   "metadata": {},
   "outputs": [],
   "source": [
    "c_Iran_sql = '''SELECT 'c_Iran',(t2.v / t4.s) * 100.0,(t6.v / t8.s) * 100.0,(t10.v / t12.s) * 100.0,(t14.v / t16.s) * 100.0,(t18.v / t20.s) * 100.0,(t22.v / t24.s) * 100.0               FROM (SELECT SUM(t1.under20) AS v FROM film44 t1 WHERE t1.c_Iran=1) t2 JOIN (SELECT count(t3.under20) as s FROM film44 t3 WHERE t3.c_Iran=1) t4 JOIN (SELECT SUM(t5.20to24) AS v FROM film44 t5 WHERE t5.c_Iran=1) t6 JOIN (SELECT count(t7.20to24) as s FROM film44 t7 WHERE t7.c_Iran=1) t8 JOIN (SELECT SUM(t9.25to29) AS v FROM film44 t9 WHERE t9.c_Iran=1) t10 JOIN (SELECT count(t11.25to29) as s FROM film44 t11 WHERE t11.c_Iran=1) t12 JOIN (SELECT SUM(t13.30to34) AS v FROM film44 t13 WHERE t13.c_Iran=1) t14 JOIN (SELECT count(t15.30to34) as s FROM film44 t15 WHERE t15.c_Iran=1) t16 JOIN (SELECT SUM(t17.35to39) AS v FROM film44 t17 WHERE t17.c_Iran=1) t18 JOIN (SELECT count(t19.35to39) as s FROM film44 t19 WHERE t19.c_Iran=1) t20 JOIN (SELECT SUM(t21.above40) AS v FROM film44 t21 WHERE t21.c_Iran=1) t22 JOIN (SELECT count(t23.above40) as s FROM film44 t23 WHERE t23.c_Iran=1) t24'''"
   ]
  },
  {
   "cell_type": "code",
   "execution_count": null,
   "metadata": {},
   "outputs": [],
   "source": [
    "exec_sql(c_Iran_sql)"
   ]
  },
  {
   "cell_type": "code",
   "execution_count": null,
   "metadata": {},
   "outputs": [],
   "source": [
    "del c_Iran_sql"
   ]
  },
  {
   "cell_type": "raw",
   "metadata": {},
   "source": [
    "其他"
   ]
  },
  {
   "cell_type": "code",
   "execution_count": null,
   "metadata": {},
   "outputs": [],
   "source": [
    "c_Others_sql = '''SELECT 'c_Others',(t2.v / t4.s) * 100.0,(t6.v / t8.s) * 100.0,(t10.v / t12.s) * 100.0,(t14.v / t16.s) * 100.0,(t18.v / t20.s) * 100.0,(t22.v / t24.s) * 100.0               FROM (SELECT SUM(t1.under20) AS v FROM film44 t1 WHERE t1.c_Others=1) t2 JOIN (SELECT count(t3.under20) as s FROM film44 t3 WHERE t3.c_Others=1) t4 JOIN (SELECT SUM(t5.20to24) AS v FROM film44 t5 WHERE t5.c_Others=1) t6 JOIN (SELECT count(t7.20to24) as s FROM film44 t7 WHERE t7.c_Others=1) t8 JOIN (SELECT SUM(t9.25to29) AS v FROM film44 t9 WHERE t9.c_Others=1) t10 JOIN (SELECT count(t11.25to29) as s FROM film44 t11 WHERE t11.c_Others=1) t12 JOIN (SELECT SUM(t13.30to34) AS v FROM film44 t13 WHERE t13.c_Others=1) t14 JOIN (SELECT count(t15.30to34) as s FROM film44 t15 WHERE t15.c_Others=1) t16 JOIN (SELECT SUM(t17.35to39) AS v FROM film44 t17 WHERE t17.c_Others=1) t18 JOIN (SELECT count(t19.35to39) as s FROM film44 t19 WHERE t19.c_Others=1) t20 JOIN (SELECT SUM(t21.above40) AS v FROM film44 t21 WHERE t21.c_Others=1) t22 JOIN (SELECT count(t23.above40) as s FROM film44 t23 WHERE t23.c_Others=1) t24'''"
   ]
  },
  {
   "cell_type": "code",
   "execution_count": null,
   "metadata": {},
   "outputs": [],
   "source": [
    "exec_sql(c_Others_sql)"
   ]
  },
  {
   "cell_type": "code",
   "execution_count": null,
   "metadata": {},
   "outputs": [],
   "source": [
    "del c_Others_sql"
   ]
  },
  {
   "cell_type": "markdown",
   "metadata": {},
   "source": [
    "# table_6_"
   ]
  },
  {
   "cell_type": "markdown",
   "metadata": {},
   "source": [
    "# 写进数据库"
   ]
  },
  {
   "cell_type": "raw",
   "metadata": {},
   "source": [
    "cd /usr/local/sqoop"
   ]
  },
  {
   "cell_type": "raw",
   "metadata": {},
   "source": [
    "#table1\n",
    "bin/sqoop export --connect jdbc:mysql://localhost:3306/comex --username root --password 123456 --table district --export-dir '/user/hive/warehouse/district' --fields-terminated-by ',';"
   ]
  },
  {
   "cell_type": "raw",
   "metadata": {},
   "source": [
    "#table2\n",
    "bin/sqoop export --connect jdbc:mysql://localhost:3306/comex --username root --password 123456 --table relation_bet_gen_and_bo --export-dir '/user/hive/warehouse/relation_bet_gen_and_bo' --fields-terminated-by ',';"
   ]
  },
  {
   "cell_type": "raw",
   "metadata": {},
   "source": [
    "#table3\n",
    "bin/sqoop export --connect jdbc:mysql://localhost:3306/comex --username root --password 123456 --table female_per_by_hyear --export-dir '/user/hive/warehouse/female_per_by_hyear' --fields-terminated-by ',';"
   ]
  },
  {
   "cell_type": "raw",
   "metadata": {},
   "source": [
    "#table4\n",
    "bin/sqoop export --connect jdbc:mysql://localhost:3306/comex --username root --password 123456 --table relation_bet_gen_and_class --export-dir '/user/hive/warehouse/relation_bet_gen_and_class' --fields-terminated-by ',';"
   ]
  },
  {
   "cell_type": "raw",
   "metadata": {},
   "source": [
    "#table5\n",
    "bin/sqoop export --connect jdbc:mysql://localhost:3306/comex --username root --password 123456 --table relation_bet_age_and_class --export-dir '/user/hive/warehouse/relation_bet_age_and_class' --fields-terminated-by ',';"
   ]
  },
  {
   "cell_type": "raw",
   "metadata": {},
   "source": [
    "#table6\n",
    "bin/sqoop export --connect jdbc:mysql://localhost:3306/comex --username root --password 123456 --table relation_bet_gen_and_class --export-dir '/user/hive/warehouse/relation_bet_gen_and_class' --fields-terminated-by ',';"
   ]
  },
  {
   "cell_type": "raw",
   "metadata": {},
   "source": [
    "#table7\n",
    "bin/sqoop export --connect jdbc:mysql://localhost:3306/comex --username root --password 123456 --table relation_bet_degree_and_class --export-dir '/user/hive/warehouse/relation_bet_degree_and_class' --fields-terminated-by ',';"
   ]
  },
  {
   "cell_type": "raw",
   "metadata": {},
   "source": [
    "#table8\n",
    "bin/sqoop export --connect jdbc:mysql://localhost:3306/comex --username root --password 123456 --table gross_boxo_and_top_boxo_changes --export-dir '/user/hive/warehouse/gross_boxo_and_top_boxo_changes' --fields-terminated-by ',';"
   ]
  },
  {
   "cell_type": "raw",
   "metadata": {},
   "source": [
    "#table9\n",
    "bin/sqoop export --connect jdbc:mysql://localhost:3306/comex --username root --password 123456 --table relation_among_sdate_class_boxo --export-dir '/user/hive/warehouse/relation_among_sdate_class_boxo' --fields-terminated-by ',';"
   ]
  }
 ],
 "metadata": {
  "kernelspec": {
   "display_name": "Python 3",
   "language": "python",
   "name": "python3"
  },
  "language_info": {
   "codemirror_mode": {
    "name": "ipython",
    "version": 3
   },
   "file_extension": ".py",
   "mimetype": "text/x-python",
   "name": "python",
   "nbconvert_exporter": "python",
   "pygments_lexer": "ipython3",
   "version": "3.5.2"
  }
 },
 "nbformat": 4,
 "nbformat_minor": 2
}
