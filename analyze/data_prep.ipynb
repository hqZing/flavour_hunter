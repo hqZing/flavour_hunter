{
 "cells": [
  {
   "cell_type": "code",
   "execution_count": 1,
   "metadata": {},
   "outputs": [],
   "source": [
    "from pyhive import hive\n",
    "import pymysql\n",
    "conn = hive.Connection(host='127.0.0.1', port=10000, username='hadoop')\n",
    "cursor = conn.cursor()"
   ]
  },
  {
   "cell_type": "code",
   "execution_count": 2,
   "metadata": {},
   "outputs": [],
   "source": [
    "def exec_sql(sql):\n",
    "    cursor.execute(sql)\n",
    "    for result in cursor.fetchall():\n",
    "        print(result)"
   ]
  },
  {
   "cell_type": "markdown",
   "metadata": {},
   "source": [
    "# 对缺失项进行预处理"
   ]
  },
  {
   "cell_type": "raw",
   "metadata": {},
   "source": [
    "hive->alter table film44 SET SERDEPROPERTIES('serialization.null.format' = 'NULL'); \n",
    "hive->alter table film44 set serdeproperties('serialization.null.format' = '\\N');"
   ]
  },
  {
   "cell_type": "markdown",
   "metadata": {},
   "source": [
    "# 实现hive和hbase映射"
   ]
  },
  {
   "cell_type": "code",
   "execution_count": 3,
   "metadata": {},
   "outputs": [],
   "source": [
    "cursor.execute(\"DROP TABLE IF EXISTS film44\")"
   ]
  },
  {
   "cell_type": "code",
   "execution_count": 4,
   "metadata": {},
   "outputs": [],
   "source": [
    "mapping_from_hbase_to_hive_sql = '''CREATE EXTERNAL TABLE film44(id STRING, \n",
    "name string, \n",
    "male float,\n",
    "female float,\n",
    "under20 float, \n",
    "20to24 float,\n",
    "25to29 float, \n",
    "30to34 float, \n",
    "35to39 float, \n",
    "above40 float, \n",
    "degree_high float, \n",
    "degree_low float, \n",
    "city1 float, \n",
    "city2 float, \n",
    "city3 float, \n",
    "city4 float, \n",
    "occupation_whitecollar float, \n",
    "occupation_student float, \n",
    "occupation_others float, \n",
    "preference_action float, \n",
    "preference_comedy float, \n",
    "preference_romance float, \n",
    "occupation_science float, \n",
    "occupation_animate float) STORED BY 'org.apache.hadoop.hive.hbase.HBaseStorageHandler' \n",
    "WITH SERDEPROPERTIES (\"hbase.columns.mapping\" = \":key,\n",
    "f:n,\n",
    "f:m,\n",
    "f:fm,\n",
    "f:un20,\n",
    "f:20to24,\n",
    "f:25to29,\n",
    "f:30to34,\n",
    "f:35to39,\n",
    "f:ab40,\n",
    "f:dg_h,\n",
    "f:dg_l,\n",
    "f:ct1,\n",
    "f:ct2,\n",
    "f:ct3,\n",
    "f:ct4,\n",
    "f:oc_w,\n",
    "f:oc_s,\n",
    "f:oc_o,\n",
    "f:pf_ac,\n",
    "f:pf_co,\n",
    "f:pf_ro,\n",
    "f:pf_sc,\n",
    "f:pf_an\") TBLPROPERTIES(\"hbase.table.name\" = \"film22\")'''"
   ]
  },
  {
   "cell_type": "code",
   "execution_count": 5,
   "metadata": {},
   "outputs": [],
   "source": [
    "cursor.execute(mapping_from_hbase_to_hive_sql)"
   ]
  },
  {
   "cell_type": "code",
   "execution_count": 6,
   "metadata": {},
   "outputs": [
    {
     "name": "stdout",
     "output_type": "stream",
     "text": [
      "('0019a756b48d308515f7fa27f3acbb6d', '奇迹男孩', 0.384, 0.616, 0.052, 0.27, 0.263, 0.174, 0.134, 0.107, 0.248, 0.752, 0.169, 0.443, 0.18, 0.208, 0.5, 0.19, 0.31, 0.46, 0.12, 0.16, 0.09, 0.09)\n",
      "('00473ab28e48e27a31c111e4d25ef43f', '解忧杂货店', 0.374, 0.626, 0.087, 0.352, 0.258, 0.124, 0.086, 0.092, 0.32, 0.68, 0.12, 0.405, 0.202, 0.272, 0.39, 0.25, 0.35, 0.45, 0.14, 0.18, 0.07, 0.06)\n",
      "('0075bdf21f40e7cd96bc973028282ede', '梭哈人生', 0.445, 0.555, 0.09, 0.335, 0.242, 0.125, 0.098, 0.11, 0.308, 0.692, 0.156, 0.439, 0.181, 0.223, 0.39, 0.27, 0.34, 0.46, 0.13, 0.18, 0.08, 0.06)\n"
     ]
    }
   ],
   "source": [
    "exec_sql('select * from film44 limit 3')"
   ]
  },
  {
   "cell_type": "code",
   "execution_count": 7,
   "metadata": {},
   "outputs": [
    {
     "name": "stdout",
     "output_type": "stream",
     "text": [
      "(878,)\n"
     ]
    }
   ],
   "source": [
    "exec_sql('select count(*) from film44')"
   ]
  },
  {
   "cell_type": "markdown",
   "metadata": {},
   "source": [
    "# after_prep（进行第一遍筛选，将带NULL值行全部删除）"
   ]
  },
  {
   "cell_type": "code",
   "execution_count": 8,
   "metadata": {},
   "outputs": [],
   "source": [
    "cursor.execute(\"DROP TABLE IF EXISTS film44_after_prep\")"
   ]
  },
  {
   "cell_type": "code",
   "execution_count": 9,
   "metadata": {},
   "outputs": [],
   "source": [
    "#建表用于存放筛选后的数据\n",
    "create_first_prep_sql= '''create table film44_after_prep(id string,\n",
    "name string,\n",
    "male float,\n",
    "female float,\n",
    "under20 float,\n",
    "20to24 float,\n",
    "25to29 float,\n",
    "30to34 float,\n",
    "35to39 float,\n",
    "above40 float,\n",
    "degree_high float,\n",
    "degree_low float,\n",
    "city1 float,\n",
    "city2 float,\n",
    "city3 float,\n",
    "city4 float,\n",
    "occupation_whitecollar float,\n",
    "occupation_student float,\n",
    "occupation_others float,\n",
    "preference_action float,\n",
    "preference_comedy float,\n",
    "preference_romance float,\n",
    "occupation_science float,\n",
    "occupation_animate float) ROW format delimited fields terminated by ',' STORED AS TEXTFILE'''"
   ]
  },
  {
   "cell_type": "code",
   "execution_count": 10,
   "metadata": {},
   "outputs": [],
   "source": [
    "cursor.execute(create_first_prep_sql)"
   ]
  },
  {
   "cell_type": "code",
   "execution_count": 11,
   "metadata": {},
   "outputs": [],
   "source": [
    "#将筛选后的数据进行插入操作\n",
    "insert_table_sql = '''insert overwrite table film44_after_prep select * from film44 where id IS NOT NULL AND name IS NOT NULL AND male IS NOT NULL AND female IS NOT NULL AND under20 IS NOT NULL AND 20to24 IS NOT NULL AND 25to29 IS NOT NULL AND 30to34 IS NOT NULL AND 35to39 IS NOT NULL AND above40 IS NOT NULL AND degree_high IS NOT NULL AND degree_low IS NOT NULL AND city1 IS NOT NULL AND city2 IS NOT NULL AND city3 IS NOT NULL AND city4 IS NOT NULL AND occupation_whitecollar IS NOT NULL AND occupation_student IS NOT NULL AND occupation_others IS NOT NULL AND occupation_animate IS NOT NULL '''"
   ]
  },
  {
   "cell_type": "code",
   "execution_count": 12,
   "metadata": {},
   "outputs": [],
   "source": [
    "cursor.execute(insert_table_sql)"
   ]
  },
  {
   "cell_type": "code",
   "execution_count": 13,
   "metadata": {},
   "outputs": [
    {
     "name": "stdout",
     "output_type": "stream",
     "text": [
      "(878,)\n"
     ]
    }
   ],
   "source": [
    "count_sql = 'select count(*) from film44'\n",
    "exec_sql(count_sql)"
   ]
  },
  {
   "cell_type": "code",
   "execution_count": 14,
   "metadata": {},
   "outputs": [
    {
     "name": "stdout",
     "output_type": "stream",
     "text": [
      "('0019a756b48d308515f7fa27f3acbb6d', '奇迹男孩', 0.384, 0.616, 0.052, 0.27, 0.263, 0.174, 0.134, 0.107, 0.248, 0.752, 0.169, 0.443, 0.18, 0.208, 0.5, 0.19, 0.31, 0.46, 0.12, 0.16, 0.09, 0.09)\n",
      "('00473ab28e48e27a31c111e4d25ef43f', '解忧杂货店', 0.374, 0.626, 0.087, 0.352, 0.258, 0.124, 0.086, 0.092, 0.32, 0.68, 0.12, 0.405, 0.202, 0.272, 0.39, 0.25, 0.35, 0.45, 0.14, 0.18, 0.07, 0.06)\n",
      "('0075bdf21f40e7cd96bc973028282ede', '梭哈人生', 0.445, 0.555, 0.09, 0.335, 0.242, 0.125, 0.098, 0.11, 0.308, 0.692, 0.156, 0.439, 0.181, 0.223, 0.39, 0.27, 0.34, 0.46, 0.13, 0.18, 0.08, 0.06)\n"
     ]
    }
   ],
   "source": [
    "sql = 'select * from film44_after_prep limit 3'\n",
    "exec_sql(sql)"
   ]
  },
  {
   "cell_type": "markdown",
   "metadata": {},
   "source": [
    "# 依据需求文档进行数据提取"
   ]
  },
  {
   "cell_type": "markdown",
   "metadata": {},
   "source": [
    "# table_1_PUPsex"
   ]
  },
  {
   "cell_type": "code",
   "execution_count": 29,
   "metadata": {},
   "outputs": [
    {
     "name": "stdout",
     "output_type": "stream",
     "text": [
      "('0019a756b48d308515f7fa27f3acbb6d', '奇迹男孩', 0.384, 0.616)\n",
      "('00473ab28e48e27a31c111e4d25ef43f', '解忧杂货店', 0.374, 0.626)\n"
     ]
    }
   ],
   "source": [
    "#piao,data待补充\n",
    "PUPsex_sql = 'select id,name,male,female from film44_after_prep limit 2'\n",
    "exec_sql(PUPsex_sql)"
   ]
  },
  {
   "cell_type": "markdown",
   "metadata": {},
   "source": [
    "# table_2_CUPsex"
   ]
  },
  {
   "cell_type": "code",
   "execution_count": 31,
   "metadata": {},
   "outputs": [
    {
     "name": "stdout",
     "output_type": "stream",
     "text": [
      "('0019a756b48d308515f7fa27f3acbb6d', '奇迹男孩', 0.384, 0.616)\n",
      "('00473ab28e48e27a31c111e4d25ef43f', '解忧杂货店', 0.374, 0.626)\n"
     ]
    }
   ],
   "source": [
    "#mclass,data待补充\n",
    "CUPsex_sql = 'select id,name,male,female from film44_after_prep limit 2'\n",
    "exec_sql(CUPsex_sql)"
   ]
  },
  {
   "cell_type": "markdown",
   "metadata": {},
   "source": [
    "# table_3_PUPage"
   ]
  },
  {
   "cell_type": "code",
   "execution_count": 35,
   "metadata": {},
   "outputs": [
    {
     "name": "stdout",
     "output_type": "stream",
     "text": [
      "('0019a756b48d308515f7fa27f3acbb6d', '奇迹男孩', 0.052, 0.27, 0.263, 0.174, 0.107)\n",
      "('00473ab28e48e27a31c111e4d25ef43f', '解忧杂货店', 0.087, 0.352, 0.258, 0.124, 0.092)\n"
     ]
    }
   ],
   "source": [
    "#data,piao待补充\n",
    "PUPage_sql = 'select id,name,under20,20to24,25to29,30to34,above40 from film44_after_prep limit 2'\n",
    "exec_sql(PUPage_sql)"
   ]
  },
  {
   "cell_type": "markdown",
   "metadata": {},
   "source": [
    "# table_4_CUPage"
   ]
  },
  {
   "cell_type": "code",
   "execution_count": 36,
   "metadata": {},
   "outputs": [
    {
     "name": "stdout",
     "output_type": "stream",
     "text": [
      "('0019a756b48d308515f7fa27f3acbb6d', '奇迹男孩', 0.052, 0.27, 0.263, 0.174, 0.107)\n",
      "('00473ab28e48e27a31c111e4d25ef43f', '解忧杂货店', 0.087, 0.352, 0.258, 0.124, 0.092)\n"
     ]
    }
   ],
   "source": [
    "#data,mclass待补充\n",
    "CUPage_sql = 'select id,name,under20,20to24,25to29,30to34,above40 from film44_after_prep limit 2'\n",
    "exec_sql(CUPage_sql)"
   ]
  },
  {
   "cell_type": "markdown",
   "metadata": {},
   "source": [
    "# table_5_PUPedu"
   ]
  },
  {
   "cell_type": "code",
   "execution_count": 38,
   "metadata": {},
   "outputs": [
    {
     "name": "stdout",
     "output_type": "stream",
     "text": [
      "('0019a756b48d308515f7fa27f3acbb6d', '奇迹男孩', 0.248, 0.752)\n",
      "('00473ab28e48e27a31c111e4d25ef43f', '解忧杂货店', 0.32, 0.68)\n"
     ]
    }
   ],
   "source": [
    "#data,piao待补充\n",
    "PUPedu_sql = 'select id,name,degree_high,degree_low from film44_after_prep limit 2'\n",
    "exec_sql(PUPedu_sql)"
   ]
  },
  {
   "cell_type": "markdown",
   "metadata": {},
   "source": [
    "# table_6_PUPdistrict"
   ]
  },
  {
   "cell_type": "code",
   "execution_count": 39,
   "metadata": {},
   "outputs": [
    {
     "name": "stdout",
     "output_type": "stream",
     "text": [
      "(0.169, 0.443, 0.18, 0.208)\n",
      "(0.12, 0.405, 0.202, 0.272)\n"
     ]
    }
   ],
   "source": [
    "#data,piao待补充\n",
    "PUPdistrict_sql = 'select city1,city2,city3,city4 from film44_after_prep limit 2'\n",
    "exec_sql(PUPdistrict_sql)"
   ]
  },
  {
   "cell_type": "markdown",
   "metadata": {},
   "source": [
    "# table_7_PMUjob"
   ]
  },
  {
   "cell_type": "code",
   "execution_count": 42,
   "metadata": {},
   "outputs": [
    {
     "name": "stdout",
     "output_type": "stream",
     "text": [
      "('0019a756b48d308515f7fa27f3acbb6d', '奇迹男孩', 0.5, 0.19, 0.31)\n",
      "('00473ab28e48e27a31c111e4d25ef43f', '解忧杂货店', 0.39, 0.25, 0.35)\n"
     ]
    }
   ],
   "source": [
    "#data，piao待补充\n",
    "PMUjob_sql = 'select id,name,occupation_whitecollar,occupation_student,occupation_others from film44_after_prep limit 2'\n",
    "exec_sql(PMUjob_sql)"
   ]
  },
  {
   "cell_type": "markdown",
   "metadata": {},
   "source": [
    "# table_8_CMUjob"
   ]
  },
  {
   "cell_type": "code",
   "execution_count": 44,
   "metadata": {},
   "outputs": [
    {
     "name": "stdout",
     "output_type": "stream",
     "text": [
      "('0019a756b48d308515f7fa27f3acbb6d', '奇迹男孩', 0.5, 0.19, 0.31)\n",
      "('00473ab28e48e27a31c111e4d25ef43f', '解忧杂货店', 0.39, 0.25, 0.35)\n"
     ]
    }
   ],
   "source": [
    "#data,mclass待补充\n",
    "CMUjob_sql = 'select id,name,occupation_whitecollar,occupation_student,occupation_others from film44_after_prep limit 2'\n",
    "exec_sql(CMUjob_sql)"
   ]
  },
  {
   "cell_type": "markdown",
   "metadata": {},
   "source": [
    "# table_9_DataPiao"
   ]
  },
  {
   "cell_type": "code",
   "execution_count": 46,
   "metadata": {},
   "outputs": [
    {
     "name": "stdout",
     "output_type": "stream",
     "text": [
      "('0019a756b48d308515f7fa27f3acbb6d', '奇迹男孩')\n",
      "('00473ab28e48e27a31c111e4d25ef43f', '解忧杂货店')\n"
     ]
    }
   ],
   "source": [
    "#data,piao待补充\n",
    "DataPiao_sql = 'select id,name from film44_after_prep limit 2'\n",
    "exec_sql(DataPiao_sql)"
   ]
  },
  {
   "cell_type": "markdown",
   "metadata": {},
   "source": [
    "# table_10_DataClass"
   ]
  },
  {
   "cell_type": "code",
   "execution_count": 47,
   "metadata": {},
   "outputs": [
    {
     "name": "stdout",
     "output_type": "stream",
     "text": [
      "('0019a756b48d308515f7fa27f3acbb6d', '奇迹男孩')\n",
      "('00473ab28e48e27a31c111e4d25ef43f', '解忧杂货店')\n"
     ]
    }
   ],
   "source": [
    "#data,mclass待补充\n",
    "DataClass_sql = 'select id,name from film44_after_prep limit 2'\n",
    "exec_sql(DataClass_sql)"
   ]
  },
  {
   "cell_type": "markdown",
   "metadata": {},
   "source": [
    "# table_11_PiaoClass"
   ]
  },
  {
   "cell_type": "code",
   "execution_count": 48,
   "metadata": {},
   "outputs": [
    {
     "name": "stdout",
     "output_type": "stream",
     "text": [
      "('0019a756b48d308515f7fa27f3acbb6d', '奇迹男孩')\n",
      "('00473ab28e48e27a31c111e4d25ef43f', '解忧杂货店')\n"
     ]
    }
   ],
   "source": [
    "#mclass,piao待补充\n",
    "PiaoClass_sql = 'select id,name from film44_after_prep limit 2'\n",
    "exec_sql(PiaoClass_sql)"
   ]
  },
  {
   "cell_type": "markdown",
   "metadata": {},
   "source": [
    "# 写进数据库"
   ]
  },
  {
   "cell_type": "raw",
   "metadata": {},
   "source": [
    "cd /usr/local/sqoop"
   ]
  },
  {
   "cell_type": "raw",
   "metadata": {},
   "source": [
    "bin/sqoop export --connect jdbc:mysql://localhost:3306/comex --username root --password 123456 --table personas --export-dir '/user/hive/warehouse/film44_after_prep' --fields-terminated-by ',';"
   ]
  },
  {
   "cell_type": "markdown",
   "metadata": {},
   "source": [
    "# 用pandas查看一下"
   ]
  },
  {
   "cell_type": "code",
   "execution_count": 21,
   "metadata": {},
   "outputs": [],
   "source": [
    "#打开数据库连接\n",
    "db= pymysql.connect(host=\"127.0.0.1\",user=\"root\",\n",
    "     password=\"123456\",db=\"comex\",port=3306)"
   ]
  },
  {
   "cell_type": "code",
   "execution_count": 22,
   "metadata": {},
   "outputs": [],
   "source": [
    "import pandas as pd"
   ]
  },
  {
   "cell_type": "code",
   "execution_count": 23,
   "metadata": {},
   "outputs": [],
   "source": [
    "#显示所有列\n",
    "pd.set_option('display.max_columns', None)\n",
    "#显示所有行\n",
    "pd.set_option('display.max_rows', None)"
   ]
  },
  {
   "cell_type": "code",
   "execution_count": 24,
   "metadata": {},
   "outputs": [],
   "source": [
    "sql = 'select * from personas'\n",
    "pd = pd.read_sql(sql,db)"
   ]
  },
  {
   "cell_type": "code",
   "execution_count": 25,
   "metadata": {},
   "outputs": [
    {
     "data": {
      "text/html": [
       "<div>\n",
       "<style scoped>\n",
       "    .dataframe tbody tr th:only-of-type {\n",
       "        vertical-align: middle;\n",
       "    }\n",
       "\n",
       "    .dataframe tbody tr th {\n",
       "        vertical-align: top;\n",
       "    }\n",
       "\n",
       "    .dataframe thead th {\n",
       "        text-align: right;\n",
       "    }\n",
       "</style>\n",
       "<table border=\"1\" class=\"dataframe\">\n",
       "  <thead>\n",
       "    <tr style=\"text-align: right;\">\n",
       "      <th></th>\n",
       "      <th>id</th>\n",
       "      <th>name</th>\n",
       "      <th>male</th>\n",
       "      <th>female</th>\n",
       "      <th>under20</th>\n",
       "      <th>20to24</th>\n",
       "      <th>25to29</th>\n",
       "      <th>30to34</th>\n",
       "      <th>35to39</th>\n",
       "      <th>above40</th>\n",
       "      <th>degree_high</th>\n",
       "      <th>degree_low</th>\n",
       "      <th>city1</th>\n",
       "      <th>city2</th>\n",
       "      <th>city3</th>\n",
       "      <th>city4</th>\n",
       "      <th>occupation_whitecollar</th>\n",
       "      <th>occupation_student</th>\n",
       "      <th>occupation_others</th>\n",
       "      <th>preference_action</th>\n",
       "      <th>preference_comedy</th>\n",
       "      <th>preference_romance</th>\n",
       "      <th>occupation_science</th>\n",
       "      <th>occupation_animate</th>\n",
       "    </tr>\n",
       "  </thead>\n",
       "  <tbody>\n",
       "    <tr>\n",
       "      <th>0</th>\n",
       "      <td>c2ea3dd867e9943bec89008ac3852cca</td>\n",
       "      <td>八恶人</td>\n",
       "      <td>0.696</td>\n",
       "      <td>0.304</td>\n",
       "      <td>0.086</td>\n",
       "      <td>0.326</td>\n",
       "      <td>0.283</td>\n",
       "      <td>0.131</td>\n",
       "      <td>0.067</td>\n",
       "      <td>0.107</td>\n",
       "      <td>0.332</td>\n",
       "      <td>0.668</td>\n",
       "      <td>0.138</td>\n",
       "      <td>0.491</td>\n",
       "      <td>0.14</td>\n",
       "      <td>0.231</td>\n",
       "      <td>0.41</td>\n",
       "      <td>0.13</td>\n",
       "      <td>0.46</td>\n",
       "      <td>0.32</td>\n",
       "      <td>0.11</td>\n",
       "      <td>0.27</td>\n",
       "      <td>0.18</td>\n",
       "      <td>0.05</td>\n",
       "    </tr>\n",
       "    <tr>\n",
       "      <th>1</th>\n",
       "      <td>c33b2c51d5cc8ebfce87dae8aac3f3f6</td>\n",
       "      <td>乌龙特工</td>\n",
       "      <td>0.708</td>\n",
       "      <td>0.292</td>\n",
       "      <td>0.106</td>\n",
       "      <td>0.33</td>\n",
       "      <td>0.268</td>\n",
       "      <td>0.117</td>\n",
       "      <td>0.075</td>\n",
       "      <td>0.104</td>\n",
       "      <td>0.267</td>\n",
       "      <td>0.733</td>\n",
       "      <td>0.141</td>\n",
       "      <td>0.472</td>\n",
       "      <td>0.169</td>\n",
       "      <td>0.218</td>\n",
       "      <td>0.38</td>\n",
       "      <td>0.11</td>\n",
       "      <td>0.51</td>\n",
       "      <td>0.32</td>\n",
       "      <td>0.11</td>\n",
       "      <td>0.27</td>\n",
       "      <td>0.18</td>\n",
       "      <td>0.05</td>\n",
       "    </tr>\n",
       "    <tr>\n",
       "      <th>2</th>\n",
       "      <td>c33ee9bd38bd25940cdf4b603b96a6d7</td>\n",
       "      <td>相爱相亲</td>\n",
       "      <td>0.393</td>\n",
       "      <td>0.607</td>\n",
       "      <td>0.059</td>\n",
       "      <td>0.304</td>\n",
       "      <td>0.29</td>\n",
       "      <td>0.151</td>\n",
       "      <td>0.093</td>\n",
       "      <td>0.102</td>\n",
       "      <td>0.631</td>\n",
       "      <td>0.369</td>\n",
       "      <td>0.167</td>\n",
       "      <td>0.412</td>\n",
       "      <td>0.194</td>\n",
       "      <td>0.227</td>\n",
       "      <td>0.49</td>\n",
       "      <td>0.18</td>\n",
       "      <td>0.33</td>\n",
       "      <td>0.46</td>\n",
       "      <td>0.12</td>\n",
       "      <td>0.19</td>\n",
       "      <td>0.07</td>\n",
       "      <td>0.06</td>\n",
       "    </tr>\n",
       "    <tr>\n",
       "      <th>3</th>\n",
       "      <td>c343fe7fd3530ef2cc3e8016046c7642</td>\n",
       "      <td>屏住呼吸</td>\n",
       "      <td>0.631</td>\n",
       "      <td>0.369</td>\n",
       "      <td>0.116</td>\n",
       "      <td>0.363</td>\n",
       "      <td>0.236</td>\n",
       "      <td>0.091</td>\n",
       "      <td>0.079</td>\n",
       "      <td>0.114</td>\n",
       "      <td>0.281</td>\n",
       "      <td>0.719</td>\n",
       "      <td>0.164</td>\n",
       "      <td>0.465</td>\n",
       "      <td>0.172</td>\n",
       "      <td>0.199</td>\n",
       "      <td>0.32</td>\n",
       "      <td>0.16</td>\n",
       "      <td>0.52</td>\n",
       "      <td>0.32</td>\n",
       "      <td>0.11</td>\n",
       "      <td>0.27</td>\n",
       "      <td>0.18</td>\n",
       "      <td>0.05</td>\n",
       "    </tr>\n",
       "    <tr>\n",
       "      <th>4</th>\n",
       "      <td>c3e8465a2641d7aa69aab8d45add78ba</td>\n",
       "      <td>不期而遇</td>\n",
       "      <td>0.393</td>\n",
       "      <td>0.607</td>\n",
       "      <td>0.105</td>\n",
       "      <td>0.391</td>\n",
       "      <td>0.26</td>\n",
       "      <td>0.11</td>\n",
       "      <td>0.063</td>\n",
       "      <td>0.07</td>\n",
       "      <td>0.685</td>\n",
       "      <td>0.315</td>\n",
       "      <td>0.134</td>\n",
       "      <td>0.401</td>\n",
       "      <td>0.202</td>\n",
       "      <td>0.263</td>\n",
       "      <td>0.31</td>\n",
       "      <td>0.2</td>\n",
       "      <td>0.49</td>\n",
       "      <td>0.44</td>\n",
       "      <td>0.14</td>\n",
       "      <td>0.21</td>\n",
       "      <td>0.07</td>\n",
       "      <td>0.05</td>\n",
       "    </tr>\n",
       "  </tbody>\n",
       "</table>\n",
       "</div>"
      ],
      "text/plain": [
       "                                 id  name   male female under20 20to24 25to29  \\\n",
       "0  c2ea3dd867e9943bec89008ac3852cca   八恶人  0.696  0.304   0.086  0.326  0.283   \n",
       "1  c33b2c51d5cc8ebfce87dae8aac3f3f6  乌龙特工  0.708  0.292   0.106   0.33  0.268   \n",
       "2  c33ee9bd38bd25940cdf4b603b96a6d7  相爱相亲  0.393  0.607   0.059  0.304   0.29   \n",
       "3  c343fe7fd3530ef2cc3e8016046c7642  屏住呼吸  0.631  0.369   0.116  0.363  0.236   \n",
       "4  c3e8465a2641d7aa69aab8d45add78ba  不期而遇  0.393  0.607   0.105  0.391   0.26   \n",
       "\n",
       "  30to34 35to39 above40 degree_high degree_low  city1  city2  city3  city4  \\\n",
       "0  0.131  0.067   0.107       0.332      0.668  0.138  0.491   0.14  0.231   \n",
       "1  0.117  0.075   0.104       0.267      0.733  0.141  0.472  0.169  0.218   \n",
       "2  0.151  0.093   0.102       0.631      0.369  0.167  0.412  0.194  0.227   \n",
       "3  0.091  0.079   0.114       0.281      0.719  0.164  0.465  0.172  0.199   \n",
       "4   0.11  0.063    0.07       0.685      0.315  0.134  0.401  0.202  0.263   \n",
       "\n",
       "  occupation_whitecollar occupation_student occupation_others  \\\n",
       "0                   0.41               0.13              0.46   \n",
       "1                   0.38               0.11              0.51   \n",
       "2                   0.49               0.18              0.33   \n",
       "3                   0.32               0.16              0.52   \n",
       "4                   0.31                0.2              0.49   \n",
       "\n",
       "  preference_action preference_comedy preference_romance occupation_science  \\\n",
       "0              0.32              0.11               0.27               0.18   \n",
       "1              0.32              0.11               0.27               0.18   \n",
       "2              0.46              0.12               0.19               0.07   \n",
       "3              0.32              0.11               0.27               0.18   \n",
       "4              0.44              0.14               0.21               0.07   \n",
       "\n",
       "  occupation_animate  \n",
       "0               0.05  \n",
       "1               0.05  \n",
       "2               0.06  \n",
       "3               0.05  \n",
       "4               0.05  "
      ]
     },
     "execution_count": 25,
     "metadata": {},
     "output_type": "execute_result"
    }
   ],
   "source": [
    "pd.head(5)"
   ]
  },
  {
   "cell_type": "code",
   "execution_count": null,
   "metadata": {},
   "outputs": [],
   "source": []
  },
  {
   "cell_type": "code",
   "execution_count": null,
   "metadata": {},
   "outputs": [],
   "source": []
  }
 ],
 "metadata": {
  "kernelspec": {
   "display_name": "Python 3",
   "language": "python",
   "name": "python3"
  },
  "language_info": {
   "codemirror_mode": {
    "name": "ipython",
    "version": 3
   },
   "file_extension": ".py",
   "mimetype": "text/x-python",
   "name": "python",
   "nbconvert_exporter": "python",
   "pygments_lexer": "ipython3",
   "version": "3.5.2"
  }
 },
 "nbformat": 4,
 "nbformat_minor": 2
}
