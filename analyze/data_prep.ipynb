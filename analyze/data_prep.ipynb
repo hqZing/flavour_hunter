{
 "cells": [
  {
   "cell_type": "code",
   "execution_count": 332,
   "metadata": {},
   "outputs": [],
   "source": [
    "from pyhive import hive\n",
    "import pymysql\n",
    "conn = hive.Connection(host='127.0.0.1', port=10000, username='hadoop')\n",
    "cursor = conn.cursor()"
   ]
  },
  {
   "cell_type": "code",
   "execution_count": 2,
   "metadata": {},
   "outputs": [],
   "source": [
    "def exec_sql(sql):\n",
    "    cursor.execute(sql)\n",
    "    for result in cursor.fetchall():\n",
    "        print(result)"
   ]
  },
  {
   "cell_type": "markdown",
   "metadata": {},
   "source": [
    "# 对缺失项进行预处理"
   ]
  },
  {
   "cell_type": "raw",
   "metadata": {},
   "source": [
    "hive->alter table film44 SET SERDEPROPERTIES('serialization.null.format' = 'NULL'); \n",
    "hive->alter table film44 set serdeproperties('serialization.null.format' = '\\N');"
   ]
  },
  {
   "cell_type": "markdown",
   "metadata": {},
   "source": [
    "# 实现hive和hbase映射"
   ]
  },
  {
   "cell_type": "code",
   "execution_count": 3,
   "metadata": {},
   "outputs": [],
   "source": [
    "cursor.execute(\"DROP TABLE IF EXISTS film44\")"
   ]
  },
  {
   "cell_type": "code",
   "execution_count": 4,
   "metadata": {},
   "outputs": [],
   "source": [
    "mapping_from_hbase_to_hive_sql = '''CREATE EXTERNAL TABLE film44(id string, \n",
    "name string, \n",
    "male float, \n",
    "female float, \n",
    "under20 float, \n",
    "20to24 float, \n",
    "25to29 float, \n",
    "30to34 float, \n",
    "35to39 float, \n",
    "above40 float, \n",
    "degree_high float, \n",
    "degree_low float, \n",
    "city1 float, \n",
    "city2 float, \n",
    "city3 float, \n",
    "city4 float, \n",
    "occupation_whitecollar float, \n",
    "occupation_student float, \n",
    "occupation_others float, \n",
    "preference_action float, \n",
    "preference_comedy float, \n",
    "preference_romance float, \n",
    "occupation_science float, \n",
    "occupation_animate float, \n",
    "director string, \n",
    "actor1 string, \n",
    "actor2 string, \n",
    "actor3 string, \n",
    "actor4 string, \n",
    "t_romance int, \n",
    "t_comedy int, \n",
    "t_animate int, \n",
    "t_plot int, \n",
    "t_horror int, \n",
    "t_thriller int, \n",
    "t_science int, \n",
    "t_action int, \n",
    "t_suspense int, \n",
    "t_crime int, \n",
    "t_adventure int, \n",
    "t_war int, \n",
    "t_fantasy int, \n",
    "t_sports int, \n",
    "t_family int, \n",
    "t_costume int, \n",
    "t_sword int, \n",
    "t_cowboy int, \n",
    "t_history int, \n",
    "t_biography int, \n",
    "t_dance int, \n",
    "t_dark int, \n",
    "t_short int, \n",
    "t_documentary int, \n",
    "t_others int, \n",
    "c_Mainland int, \n",
    "c_America int, \n",
    "c_Korea int, \n",
    "c_Japan int, \n",
    "c_Hongkong int, \n",
    "c_Taiwan int, \n",
    "c_Thailand int, \n",
    "c_India int, \n",
    "c_France int, \n",
    "c_England int, \n",
    "c_Russia int, \n",
    "c_Italy int, \n",
    "c_Spain int, \n",
    "c_Germany int, \n",
    "c_Poland int, \n",
    "c_Australia int, \n",
    "c_Iran int, \n",
    "c_Others int, \n",
    "boxoffice float, \n",
    "mdate string, \n",
    "length int, \n",
    "score float, \n",
    "score_people float) \n",
    "STORED BY 'org.apache.hadoop.hive.hbase.HBaseStorageHandler' WITH SERDEPROPERTIES (\"hbase.columns.mapping\" = \":key,\n",
    "f:n,\n",
    "f:m,\n",
    "f:fm,\n",
    "f:un20,\n",
    "f:20to24,\n",
    "f:25to29,\n",
    "f:30to34,\n",
    "f:35to39,\n",
    "f:ab40,\n",
    "f:dg_h,\n",
    "f:dg_l,\n",
    "f:ct1,\n",
    "f:ct2,\n",
    "f:ct3,\n",
    "f:ct4,\n",
    "f:oc_w,\n",
    "f:oc_s,\n",
    "f:oc_o,\n",
    "f:pf_ac,\n",
    "f:pf_co,\n",
    "f:pf_ro,\n",
    "f:pf_sc,\n",
    "f:pf_an,\n",
    "f:dr,\n",
    "f:a1,\n",
    "f:a2,\n",
    "f:a3,\n",
    "f:a4,\n",
    "f:t_aq,\n",
    "f:t_xj,\n",
    "f:t_dh,\n",
    "f:t_jq,\n",
    "f:t_kb,\n",
    "f:t_js,\n",
    "f:t_kh,\n",
    "f:t_dz,\n",
    "f:t_xy,\n",
    "f:t_fz,\n",
    "f:t_mx,\n",
    "f:t_zz,\n",
    "f:t_qh,\n",
    "f:t_yd,\n",
    "f:t_jt,\n",
    "f:t_gz,\n",
    "f:t_wx,\n",
    "f:t_xb,\n",
    "f:t_ls,\n",
    "f:t_zj,\n",
    "f:t_gw,\n",
    "f:t_hs,\n",
    "f:t_dp,\n",
    "f:t_jl,\n",
    "f:t_qt,\n",
    "f:c_dl,\n",
    "f:c_mg,\n",
    "f:c_hg,\n",
    "f:c_rb,\n",
    "f:c_xg,\n",
    "f:c_tw,\n",
    "f:c_tg,\n",
    "f:c_yd,\n",
    "f:c_fg,\n",
    "f:c_yg,\n",
    "f:c_els,\n",
    "f:c_ydl,\n",
    "f:c_xby,\n",
    "f:c_dg,\n",
    "f:c_bl,\n",
    "f:c_ad,\n",
    "f:c_yl,\n",
    "f:c_qt,\n",
    "f:bof,\n",
    "f:da,\n",
    "f:len,\n",
    "f:sc,\n",
    "f:sc_p\") TBLPROPERTIES(\"hbase.table.name\" = \"film22\")\n",
    "'''"
   ]
  },
  {
   "cell_type": "code",
   "execution_count": 5,
   "metadata": {},
   "outputs": [],
   "source": [
    "cursor.execute(mapping_from_hbase_to_hive_sql)"
   ]
  },
  {
   "cell_type": "code",
   "execution_count": 6,
   "metadata": {},
   "outputs": [
    {
     "name": "stdout",
     "output_type": "stream",
     "text": [
      "('076b992c9d8585518bbdd5f2bd1a09a2', '谍影重重5', 0.516, 0.484, 0.078, 0.287, 0.278, 0.152, 0.101, 0.104, 0.305, 0.695, 0.149, 0.435, 0.195, 0.222, 0.36, 0.11, 0.52, 0.32, 0.12, 0.28, 0.17, 0.04, '保罗·格林格拉斯', '马特·达蒙', '艾丽西亚·维坎德', '朱丽娅·斯蒂尔斯', '汤米·李·琼斯', 0, 0, 0, 0, 0, 1, 0, 1, 1, 0, 0, 0, 0, 0, 0, 0, 0, 0, 0, 0, 0, 0, 0, 0, 0, 0, 1, 0, 0, 0, 0, 0, 0, 0, 0, 0, 0, 0, 0, 0, 0, 0, 0, 446000000.0, '2016-08-23', 124, 8.3, 291000.0)\n",
      "('0e953ed363842c143106e913a82f717d', '神战：权力之眼', 0.54, 0.46, 0.058, 0.305, 0.309, 0.155, 0.09, 0.083, 0.295, 0.705, 0.15, 0.453, 0.19, 0.207, 0.4, 0.09, 0.51, 0.32, 0.12, 0.28, 0.17, 0.04, '亚历克斯·普罗亚斯', '杰拉德·巴特勒', '尼古拉·科斯特-瓦尔道', '布兰顿·思怀兹', '查德维克·博斯曼', 0, 0, 0, 0, 0, 0, 0, 1, 0, 0, 1, 0, 1, 0, 0, 0, 0, 0, 0, 0, 0, 0, 0, 0, 0, 0, 1, 0, 0, 0, 0, 0, 0, 0, 0, 0, 0, 0, 0, 0, 1, 0, 0, 235000000.0, '2016-03-11', 128, 8.5, 206000.0)\n",
      "('1020349234a25c393c2f4ffe445c4b2c', '美国队长3', 0.517, 0.483, 0.085, 0.335, 0.279, 0.132, 0.083, 0.086, 0.303, 0.697, 0.147, 0.441, 0.192, 0.22, 0.35, 0.13, 0.52, 0.32, 0.12, 0.28, 0.16, 0.04, '安东尼·罗素', '乔·罗素', '克里斯·埃文斯', '小罗伯特·唐尼', '斯嘉丽·约翰逊', 0, 0, 0, 0, 0, 0, 1, 1, 0, 0, 1, 0, 0, 0, 0, 0, 0, 0, 0, 0, 0, 0, 0, 0, 0, 0, 1, 0, 0, 0, 0, 0, 0, 0, 0, 0, 0, 0, 0, 0, 0, 0, 0, 1244000000.0, '2016-05-06', 148, 8.6, 1038000.0)\n"
     ]
    }
   ],
   "source": [
    "exec_sql('select * from film44 limit 3')"
   ]
  },
  {
   "cell_type": "code",
   "execution_count": 7,
   "metadata": {},
   "outputs": [
    {
     "name": "stdout",
     "output_type": "stream",
     "text": [
      "(59,)\n"
     ]
    }
   ],
   "source": [
    "exec_sql('select count(*) from film44')"
   ]
  },
  {
   "cell_type": "raw",
   "metadata": {},
   "source": [
    "由于已在爬虫阶段进行了数据清洗，所以此处数据清洗不再重复进行"
   ]
  },
  {
   "cell_type": "markdown",
   "metadata": {},
   "source": [
    "# 依据需求文档进行数据提取"
   ]
  },
  {
   "cell_type": "markdown",
   "metadata": {},
   "source": [
    "# table_1_district(地区分布）"
   ]
  },
  {
   "cell_type": "code",
   "execution_count": 8,
   "metadata": {},
   "outputs": [],
   "source": [
    "cursor.execute(\"DROP TABLE IF EXISTS district\")"
   ]
  },
  {
   "cell_type": "code",
   "execution_count": 9,
   "metadata": {},
   "outputs": [],
   "source": [
    "create_table_district_sql = '''create table district(city1 float,city2 float,city3 float,city4 float)'''"
   ]
  },
  {
   "cell_type": "code",
   "execution_count": 10,
   "metadata": {},
   "outputs": [],
   "source": [
    "cursor.execute(create_table_district_sql)"
   ]
  },
  {
   "cell_type": "code",
   "execution_count": 11,
   "metadata": {},
   "outputs": [],
   "source": [
    "del create_table_district_sql"
   ]
  },
  {
   "cell_type": "code",
   "execution_count": 12,
   "metadata": {},
   "outputs": [],
   "source": [
    "district_insert_sql = 'insert into table district select city1,city2,city3,city4 from film44'"
   ]
  },
  {
   "cell_type": "code",
   "execution_count": 13,
   "metadata": {},
   "outputs": [],
   "source": [
    "cursor.execute(district_insert_sql)"
   ]
  },
  {
   "cell_type": "code",
   "execution_count": 14,
   "metadata": {},
   "outputs": [],
   "source": [
    "del district_insert_sql"
   ]
  },
  {
   "cell_type": "markdown",
   "metadata": {},
   "source": [
    "# table_2_relation_bet_gen_and_bo（性别和票房的关系）"
   ]
  },
  {
   "cell_type": "code",
   "execution_count": 195,
   "metadata": {},
   "outputs": [],
   "source": [
    "cursor.execute(\"DROP TABLE IF EXISTS relation_bet_gen_and_bo\")"
   ]
  },
  {
   "cell_type": "code",
   "execution_count": 196,
   "metadata": {},
   "outputs": [],
   "source": [
    "create_table_relation_bet_gen_and_bo_sql = '''create table relation_bet_gen_and_bo(male float,female float,boxoffice float)'''"
   ]
  },
  {
   "cell_type": "code",
   "execution_count": 197,
   "metadata": {},
   "outputs": [],
   "source": [
    "cursor.execute(create_table_relation_bet_gen_and_bo_sql)"
   ]
  },
  {
   "cell_type": "code",
   "execution_count": 198,
   "metadata": {},
   "outputs": [],
   "source": [
    "del create_table_relation_bet_gen_and_bo_sql"
   ]
  },
  {
   "cell_type": "code",
   "execution_count": 199,
   "metadata": {},
   "outputs": [],
   "source": [
    "relation_bet_gen_and_bo_insert_sql = 'insert into table relation_bet_gen_and_bo select male*100,female*100,boxoffice from film44'"
   ]
  },
  {
   "cell_type": "code",
   "execution_count": 200,
   "metadata": {},
   "outputs": [],
   "source": [
    "cursor.execute(relation_bet_gen_and_bo_insert_sql)"
   ]
  },
  {
   "cell_type": "code",
   "execution_count": 201,
   "metadata": {},
   "outputs": [],
   "source": [
    "del relation_bet_gen_and_bo_insert_sql"
   ]
  },
  {
   "cell_type": "markdown",
   "metadata": {},
   "source": [
    "# table_3_female_per_by_hyear(每半年统计一次）"
   ]
  },
  {
   "cell_type": "code",
   "execution_count": 22,
   "metadata": {},
   "outputs": [],
   "source": [
    "cursor.execute(\"DROP TABLE IF EXISTS female_per_by_hyear\")"
   ]
  },
  {
   "cell_type": "code",
   "execution_count": 23,
   "metadata": {},
   "outputs": [],
   "source": [
    "create_female_per_by_hyear_sql = '''create table female_per_by_hyear(mdate string,female_per float)'''"
   ]
  },
  {
   "cell_type": "code",
   "execution_count": 24,
   "metadata": {},
   "outputs": [],
   "source": [
    "cursor.execute(create_female_per_by_hyear_sql)"
   ]
  },
  {
   "cell_type": "code",
   "execution_count": 25,
   "metadata": {},
   "outputs": [],
   "source": [
    "del create_female_per_by_hyear_sql"
   ]
  },
  {
   "cell_type": "raw",
   "metadata": {},
   "source": [
    "2016上半年"
   ]
  },
  {
   "cell_type": "code",
   "execution_count": 26,
   "metadata": {},
   "outputs": [],
   "source": [
    "sixt_fh_sql ='''insert into table female_per_by_hyear SELECT '2016fh',(t2.v / t4.s) * 100.0 FROM (SELECT SUM(t1.female) AS v FROM film44 t1 WHERE t1.mdate <='2016-05-31' AND t1.mdate>='2016-01-01') t2 JOIN (SELECT sum(t3.female) as s FROM film44 t3 WHERE t3.mdate <='2016-12-31' AND t3.mdate>='2016-01-01') t4'''"
   ]
  },
  {
   "cell_type": "code",
   "execution_count": 27,
   "metadata": {},
   "outputs": [],
   "source": [
    "cursor.execute(sixt_fh_sql)"
   ]
  },
  {
   "cell_type": "code",
   "execution_count": 28,
   "metadata": {},
   "outputs": [],
   "source": [
    "del sixt_fh_sql"
   ]
  },
  {
   "cell_type": "raw",
   "metadata": {},
   "source": [
    "2016下半年"
   ]
  },
  {
   "cell_type": "code",
   "execution_count": 29,
   "metadata": {},
   "outputs": [],
   "source": [
    "sixt_sh_sql = '''insert into table female_per_by_hyear SELECT '2016sh',(t2.v / t4.s) * 100.0 FROM (SELECT SUM(t1.female) AS v FROM film44 t1 WHERE t1.mdate <'2016-12-31' AND t1.mdate>'2016-06-01') t2 JOIN (SELECT sum(t3.female) as s FROM film44 t3 WHERE t3.mdate <='2016-12-31' AND t3.mdate>='2016-01-01') t4'''"
   ]
  },
  {
   "cell_type": "code",
   "execution_count": 30,
   "metadata": {},
   "outputs": [],
   "source": [
    "cursor.execute(sixt_sh_sql)"
   ]
  },
  {
   "cell_type": "code",
   "execution_count": 31,
   "metadata": {},
   "outputs": [],
   "source": [
    "del sixt_sh_sql"
   ]
  },
  {
   "cell_type": "raw",
   "metadata": {},
   "source": [
    "2017上半年"
   ]
  },
  {
   "cell_type": "code",
   "execution_count": 32,
   "metadata": {},
   "outputs": [],
   "source": [
    "sevente_fh_sql = '''insert into table female_per_by_hyear SELECT '2017fh',(t2.v / t4.s) * 100.0 FROM (SELECT SUM(t1.female) AS v FROM film44 t1 WHERE t1.mdate <='2017-05-31' AND t1.mdate>='2017-01-01') t2 JOIN (SELECT sum(t3.female) as s FROM film44 t3 WHERE t3.mdate <='2017-12-31' AND t3.mdate>='2017-01-01') t4'''"
   ]
  },
  {
   "cell_type": "code",
   "execution_count": 33,
   "metadata": {},
   "outputs": [],
   "source": [
    "cursor.execute(sevente_fh_sql)"
   ]
  },
  {
   "cell_type": "code",
   "execution_count": 34,
   "metadata": {},
   "outputs": [],
   "source": [
    "del sevente_fh_sql"
   ]
  },
  {
   "cell_type": "raw",
   "metadata": {},
   "source": [
    "2017下半年"
   ]
  },
  {
   "cell_type": "code",
   "execution_count": 35,
   "metadata": {},
   "outputs": [],
   "source": [
    "sevent_sh_sql= '''insert into table female_per_by_hyear SELECT '2017sh',(t2.v / t4.s) * 100.0 FROM (SELECT SUM(t1.female) AS v FROM film44 t1 WHERE t1.mdate <='2017-12-31' AND t1.mdate>='2017-06-01') t2 JOIN (SELECT sum(t3.female) as s FROM film44 t3 WHERE t3.mdate <='2017-12-31' AND t3.mdate>='2017-01-01') t4'''"
   ]
  },
  {
   "cell_type": "code",
   "execution_count": 36,
   "metadata": {},
   "outputs": [],
   "source": [
    "cursor.execute(sevent_sh_sql)"
   ]
  },
  {
   "cell_type": "code",
   "execution_count": 37,
   "metadata": {},
   "outputs": [],
   "source": [
    "del sevent_sh_sql"
   ]
  },
  {
   "cell_type": "raw",
   "metadata": {},
   "source": [
    "2018上半年"
   ]
  },
  {
   "cell_type": "code",
   "execution_count": 38,
   "metadata": {},
   "outputs": [],
   "source": [
    "eighte_fh_sql = '''insert into table female_per_by_hyear SELECT '2018fh',(t2.v / t4.s) * 100.0 FROM (SELECT SUM(t1.female) AS v FROM film44 t1 WHERE t1.mdate <='2018-05-31' AND t1.mdate>='2018-01-01') t2 JOIN (SELECT sum(t3.female) as s FROM film44 t3 WHERE t3.mdate <='2018-12-31' AND t3.mdate>='2018-01-01') t4'''"
   ]
  },
  {
   "cell_type": "code",
   "execution_count": 39,
   "metadata": {},
   "outputs": [],
   "source": [
    "cursor.execute(eighte_fh_sql)"
   ]
  },
  {
   "cell_type": "code",
   "execution_count": 40,
   "metadata": {},
   "outputs": [],
   "source": [
    "del eighte_fh_sql"
   ]
  },
  {
   "cell_type": "raw",
   "metadata": {},
   "source": [
    "2018下半年"
   ]
  },
  {
   "cell_type": "code",
   "execution_count": 41,
   "metadata": {},
   "outputs": [],
   "source": [
    "eighte_sh_sql = '''insert into table female_per_by_hyear SELECT '2018sh',(t2.v / t4.s) * 100.0 FROM (SELECT SUM(t1.female) AS v FROM film44 t1 WHERE t1.mdate <='2018-12-31' AND t1.mdate>='2018-06-01') t2 JOIN (SELECT sum(t3.female) as s FROM film44 t3 WHERE t3.mdate <='2018-12-31' AND t3.mdate>='2018-01-01') t4'''"
   ]
  },
  {
   "cell_type": "code",
   "execution_count": 42,
   "metadata": {},
   "outputs": [],
   "source": [
    "cursor.execute(eighte_sh_sql)"
   ]
  },
  {
   "cell_type": "code",
   "execution_count": 43,
   "metadata": {},
   "outputs": [],
   "source": [
    "del eighte_sh_sql"
   ]
  },
  {
   "cell_type": "markdown",
   "metadata": {},
   "source": [
    "# table_4_relation_bet_gen_and_class(性别和电影种类的关系)"
   ]
  },
  {
   "cell_type": "code",
   "execution_count": 44,
   "metadata": {},
   "outputs": [],
   "source": [
    "cursor.execute(\"DROP TABLE IF EXISTS relation_bet_gen_and_class\")"
   ]
  },
  {
   "cell_type": "code",
   "execution_count": 45,
   "metadata": {},
   "outputs": [],
   "source": [
    "create_relation_bet_gen_and_class_sql = '''create table relation_bet_gen_and_class(class string,male float,female float)'''"
   ]
  },
  {
   "cell_type": "code",
   "execution_count": 46,
   "metadata": {},
   "outputs": [],
   "source": [
    "cursor.execute(create_relation_bet_gen_and_class_sql)"
   ]
  },
  {
   "cell_type": "code",
   "execution_count": 47,
   "metadata": {},
   "outputs": [],
   "source": [
    "del create_relation_bet_gen_and_class_sql"
   ]
  },
  {
   "cell_type": "raw",
   "metadata": {},
   "source": [
    "爱情片"
   ]
  },
  {
   "cell_type": "code",
   "execution_count": 48,
   "metadata": {},
   "outputs": [],
   "source": [
    "t_romance_sql = '''insert into table relation_bet_gen_and_class SELECT 't_romance',(t2.v / t4.s) * 100.0,(t6.v / t8.s) * 100.0 FROM (SELECT SUM(t1.male) AS v FROM film44 t1 WHERE t1.t_romance =1) t2 JOIN (SELECT count(t3.male) as s FROM film44 t3 WHERE t3.t_romance =1) t4 JOIN (SELECT SUM(t5.female) AS v FROM film44 t5 WHERE t5.t_romance =1) t6 JOIN (SELECT count(t7.female) as s FROM film44 t7 WHERE t7.t_romance =1) t8'''"
   ]
  },
  {
   "cell_type": "code",
   "execution_count": 49,
   "metadata": {},
   "outputs": [],
   "source": [
    "cursor.execute(t_romance_sql)"
   ]
  },
  {
   "cell_type": "code",
   "execution_count": 50,
   "metadata": {},
   "outputs": [],
   "source": [
    "del t_romance_sql"
   ]
  },
  {
   "cell_type": "raw",
   "metadata": {},
   "source": [
    "喜剧"
   ]
  },
  {
   "cell_type": "code",
   "execution_count": 51,
   "metadata": {},
   "outputs": [],
   "source": [
    "t_comedy_sql='''insert into table relation_bet_gen_and_class SELECT 't_comedy',(t2.v / t4.s) * 100.0,(t6.v / t8.s) * 100.0 FROM (SELECT SUM(t1.male) AS v FROM film44 t1 WHERE t1.t_comedy =1) t2 JOIN (SELECT count(t3.male) as s FROM film44 t3 WHERE t3.t_comedy =1) t4 JOIN (SELECT SUM(t5.female) AS v FROM film44 t5 WHERE t5.t_comedy =1) t6 JOIN (SELECT count(t7.female) as s FROM film44 t7 WHERE t7.t_comedy =1) t8'''"
   ]
  },
  {
   "cell_type": "code",
   "execution_count": 52,
   "metadata": {},
   "outputs": [],
   "source": [
    "cursor.execute(t_comedy_sql)"
   ]
  },
  {
   "cell_type": "code",
   "execution_count": 53,
   "metadata": {},
   "outputs": [],
   "source": [
    "del t_comedy_sql"
   ]
  },
  {
   "cell_type": "raw",
   "metadata": {},
   "source": [
    "动画"
   ]
  },
  {
   "cell_type": "code",
   "execution_count": 54,
   "metadata": {},
   "outputs": [],
   "source": [
    "t_animate_sql = '''insert into table relation_bet_gen_and_class SELECT 't_animate',(t2.v / t4.s) * 100.0,(t6.v / t8.s) * 100.0 FROM (SELECT SUM(t1.male) AS v FROM film44 t1 WHERE t1.t_animate =1) t2 JOIN (SELECT count(t3.male) as s FROM film44 t3 WHERE t3.t_animate =1) t4 JOIN (SELECT SUM(t5.female) AS v FROM film44 t5 WHERE t5.t_animate =1) t6 JOIN (SELECT count(t7.female) as s FROM film44 t7 WHERE t7.t_animate =1) t8'''"
   ]
  },
  {
   "cell_type": "code",
   "execution_count": 55,
   "metadata": {},
   "outputs": [],
   "source": [
    "cursor.execute(t_animate_sql)"
   ]
  },
  {
   "cell_type": "code",
   "execution_count": 56,
   "metadata": {},
   "outputs": [],
   "source": [
    "del t_animate_sql"
   ]
  },
  {
   "cell_type": "raw",
   "metadata": {},
   "source": [
    "剧情"
   ]
  },
  {
   "cell_type": "code",
   "execution_count": 57,
   "metadata": {},
   "outputs": [],
   "source": [
    "t_plot_sql = '''insert into table relation_bet_gen_and_class SELECT 't_plot',(t2.v / t4.s) * 100.0,(t6.v / t8.s) * 100.0 FROM (SELECT SUM(t1.male) AS v FROM film44 t1 WHERE t1.t_plot =1) t2 JOIN (SELECT count(t3.male) as s FROM film44 t3 WHERE t3.t_plot =1) t4 JOIN (SELECT SUM(t5.female) AS v FROM film44 t5 WHERE t5.t_plot =1) t6 JOIN (SELECT count(t7.female) as s FROM film44 t7 WHERE t7.t_plot =1) t8'''"
   ]
  },
  {
   "cell_type": "code",
   "execution_count": 58,
   "metadata": {},
   "outputs": [],
   "source": [
    "cursor.execute(t_plot_sql)"
   ]
  },
  {
   "cell_type": "code",
   "execution_count": 59,
   "metadata": {},
   "outputs": [],
   "source": [
    "del t_plot_sql"
   ]
  },
  {
   "cell_type": "raw",
   "metadata": {},
   "source": [
    "恐怖"
   ]
  },
  {
   "cell_type": "code",
   "execution_count": 60,
   "metadata": {},
   "outputs": [],
   "source": [
    "t_horrors_sql = '''insert into table relation_bet_gen_and_class SELECT 't_horror',(t2.v / t4.s) * 100.0,(t6.v / t8.s) * 100.0 FROM (SELECT SUM(t1.male) AS v FROM film44 t1 WHERE t1.t_horror =1) t2 JOIN (SELECT count(t3.male) as s FROM film44 t3 WHERE t3.t_horror =1) t4 JOIN (SELECT SUM(t5.female) AS v FROM film44 t5 WHERE t5.t_horror =1) t6 JOIN (SELECT count(t7.female) as s FROM film44 t7 WHERE t7.t_horror =1) t8'''"
   ]
  },
  {
   "cell_type": "code",
   "execution_count": 61,
   "metadata": {},
   "outputs": [],
   "source": [
    "cursor.execute(t_horrors_sql)"
   ]
  },
  {
   "cell_type": "code",
   "execution_count": 62,
   "metadata": {},
   "outputs": [],
   "source": [
    "del t_horrors_sql"
   ]
  },
  {
   "cell_type": "raw",
   "metadata": {},
   "source": [
    "惊悚"
   ]
  },
  {
   "cell_type": "code",
   "execution_count": 63,
   "metadata": {},
   "outputs": [],
   "source": [
    "t_thriller_sql = '''insert into table relation_bet_gen_and_class SELECT 't_thriller',(t2.v / t4.s) * 100.0,(t6.v / t8.s) * 100.0 FROM (SELECT SUM(t1.male) AS v FROM film44 t1 WHERE t1.t_thriller =1) t2 JOIN (SELECT count(t3.male) as s FROM film44 t3 WHERE t3.t_thriller =1) t4 JOIN (SELECT SUM(t5.female) AS v FROM film44 t5 WHERE t5.t_thriller =1) t6 JOIN (SELECT count(t7.female) as s FROM film44 t7 WHERE t7.t_thriller =1) t8'''"
   ]
  },
  {
   "cell_type": "code",
   "execution_count": 64,
   "metadata": {},
   "outputs": [],
   "source": [
    "cursor.execute(t_thriller_sql)"
   ]
  },
  {
   "cell_type": "code",
   "execution_count": 65,
   "metadata": {},
   "outputs": [],
   "source": [
    "del t_thriller_sql"
   ]
  },
  {
   "cell_type": "raw",
   "metadata": {},
   "source": [
    "科幻"
   ]
  },
  {
   "cell_type": "code",
   "execution_count": 66,
   "metadata": {},
   "outputs": [],
   "source": [
    "t_science_sql = '''insert into table relation_bet_gen_and_class SELECT 't_science',(t2.v / t4.s) * 100.0,(t6.v / t8.s) * 100.0 FROM (SELECT SUM(t1.male) AS v FROM film44 t1 WHERE t1.t_science =1) t2 JOIN (SELECT count(t3.male) as s FROM film44 t3 WHERE t3.t_science =1) t4 JOIN (SELECT SUM(t5.female) AS v FROM film44 t5 WHERE t5.t_science =1) t6 JOIN (SELECT count(t7.female) as s FROM film44 t7 WHERE t7.t_science =1) t8'''"
   ]
  },
  {
   "cell_type": "code",
   "execution_count": 67,
   "metadata": {},
   "outputs": [],
   "source": [
    "cursor.execute(t_science_sql)"
   ]
  },
  {
   "cell_type": "code",
   "execution_count": 68,
   "metadata": {},
   "outputs": [],
   "source": [
    "del t_science_sql"
   ]
  },
  {
   "cell_type": "raw",
   "metadata": {},
   "source": [
    "动作"
   ]
  },
  {
   "cell_type": "code",
   "execution_count": 70,
   "metadata": {},
   "outputs": [],
   "source": [
    "t_action_sql = '''insert into table relation_bet_gen_and_class SELECT 't_action',(t2.v / t4.s) * 100.0,(t6.v / t8.s) * 100.0 FROM (SELECT SUM(t1.male) AS v FROM film44 t1 WHERE t1.t_action =1) t2 JOIN (SELECT count(t3.male) as s FROM film44 t3 WHERE t3.t_action =1) t4 JOIN (SELECT SUM(t5.female) AS v FROM film44 t5 WHERE t5.t_action =1) t6 JOIN (SELECT count(t7.female) as s FROM film44 t7 WHERE t7.t_action =1) t8'''"
   ]
  },
  {
   "cell_type": "code",
   "execution_count": 71,
   "metadata": {},
   "outputs": [],
   "source": [
    "cursor.execute(t_action_sql)"
   ]
  },
  {
   "cell_type": "code",
   "execution_count": 72,
   "metadata": {},
   "outputs": [],
   "source": [
    "del t_action_sql"
   ]
  },
  {
   "cell_type": "raw",
   "metadata": {},
   "source": [
    "悬疑"
   ]
  },
  {
   "cell_type": "code",
   "execution_count": 73,
   "metadata": {},
   "outputs": [],
   "source": [
    "t_suspense_sql = '''insert into table relation_bet_gen_and_class SELECT 't_suspense',(t2.v / t4.s) * 100.0,(t6.v / t8.s) * 100.0 FROM (SELECT SUM(t1.male) AS v FROM film44 t1 WHERE t1.t_suspense =1) t2 JOIN (SELECT count(t3.male) as s FROM film44 t3 WHERE t3.t_suspense =1) t4 JOIN (SELECT SUM(t5.female) AS v FROM film44 t5 WHERE t5.t_suspense =1) t6 JOIN (SELECT count(t7.female) as s FROM film44 t7 WHERE t7.t_suspense =1) t8'''"
   ]
  },
  {
   "cell_type": "code",
   "execution_count": 74,
   "metadata": {},
   "outputs": [],
   "source": [
    "cursor.execute(t_suspense_sql)"
   ]
  },
  {
   "cell_type": "code",
   "execution_count": 75,
   "metadata": {},
   "outputs": [],
   "source": [
    "del t_suspense_sql"
   ]
  },
  {
   "cell_type": "raw",
   "metadata": {},
   "source": [
    "犯罪"
   ]
  },
  {
   "cell_type": "code",
   "execution_count": 76,
   "metadata": {},
   "outputs": [],
   "source": [
    "t_crime_sql = '''insert into table relation_bet_gen_and_class SELECT 't_crime',(t2.v / t4.s) * 100.0,(t6.v / t8.s) * 100.0 FROM (SELECT SUM(t1.male) AS v FROM film44 t1 WHERE t1.t_crime =1) t2 JOIN (SELECT count(t3.male) as s FROM film44 t3 WHERE t3.t_crime =1) t4 JOIN (SELECT SUM(t5.female) AS v FROM film44 t5 WHERE t5.t_crime =1) t6 JOIN (SELECT count(t7.female) as s FROM film44 t7 WHERE t7.t_crime =1) t8'''"
   ]
  },
  {
   "cell_type": "code",
   "execution_count": 77,
   "metadata": {},
   "outputs": [],
   "source": [
    "cursor.execute(t_crime_sql)"
   ]
  },
  {
   "cell_type": "code",
   "execution_count": 78,
   "metadata": {},
   "outputs": [],
   "source": [
    "del t_crime_sql"
   ]
  },
  {
   "cell_type": "raw",
   "metadata": {},
   "source": [
    "冒险"
   ]
  },
  {
   "cell_type": "code",
   "execution_count": 79,
   "metadata": {},
   "outputs": [],
   "source": [
    "t_adventure_sql = '''insert into table relation_bet_gen_and_class SELECT 't_adventure',(t2.v / t4.s) * 100.0,(t6.v / t8.s) * 100.0 FROM (SELECT SUM(t1.male) AS v FROM film44 t1 WHERE t1.t_adventure =1) t2 JOIN (SELECT count(t3.male) as s FROM film44 t3 WHERE t3.t_adventure =1) t4 JOIN (SELECT SUM(t5.female) AS v FROM film44 t5 WHERE t5.t_adventure =1) t6 JOIN (SELECT count(t7.female) as s FROM film44 t7 WHERE t7.t_adventure =1) t8'''"
   ]
  },
  {
   "cell_type": "code",
   "execution_count": 80,
   "metadata": {},
   "outputs": [],
   "source": [
    "cursor.execute(t_adventure_sql)"
   ]
  },
  {
   "cell_type": "code",
   "execution_count": 81,
   "metadata": {},
   "outputs": [],
   "source": [
    "del t_adventure_sql"
   ]
  },
  {
   "cell_type": "raw",
   "metadata": {},
   "source": [
    "战争"
   ]
  },
  {
   "cell_type": "code",
   "execution_count": 82,
   "metadata": {},
   "outputs": [],
   "source": [
    "t_war_sql = '''insert into table relation_bet_gen_and_class SELECT 't_war',(t2.v / t4.s) * 100.0,(t6.v / t8.s) * 100.0 FROM (SELECT SUM(t1.male) AS v FROM film44 t1 WHERE t1.t_war =1) t2 JOIN (SELECT count(t3.male) as s FROM film44 t3 WHERE t3.t_war =1) t4 JOIN (SELECT SUM(t5.female) AS v FROM film44 t5 WHERE t5.t_war =1) t6 JOIN (SELECT count(t7.female) as s FROM film44 t7 WHERE t7.t_war =1) t8'''"
   ]
  },
  {
   "cell_type": "code",
   "execution_count": 83,
   "metadata": {},
   "outputs": [],
   "source": [
    "cursor.execute(t_war_sql)"
   ]
  },
  {
   "cell_type": "code",
   "execution_count": 84,
   "metadata": {},
   "outputs": [],
   "source": [
    "del t_war_sql"
   ]
  },
  {
   "cell_type": "raw",
   "metadata": {},
   "source": [
    "奇幻"
   ]
  },
  {
   "cell_type": "code",
   "execution_count": 85,
   "metadata": {},
   "outputs": [],
   "source": [
    "t_fantasy_sql = '''insert into table relation_bet_gen_and_class SELECT 't_fantasy',(t2.v / t4.s) * 100.0,(t6.v / t8.s) * 100.0 FROM (SELECT SUM(t1.male) AS v FROM film44 t1 WHERE t1.t_fantasy =1) t2 JOIN (SELECT count(t3.male) as s FROM film44 t3 WHERE t3.t_fantasy =1) t4 JOIN (SELECT SUM(t5.female) AS v FROM film44 t5 WHERE t5.t_fantasy =1) t6 JOIN (SELECT count(t7.female) as s FROM film44 t7 WHERE t7.t_fantasy =1) t8'''"
   ]
  },
  {
   "cell_type": "code",
   "execution_count": 86,
   "metadata": {},
   "outputs": [],
   "source": [
    "cursor.execute(t_fantasy_sql)"
   ]
  },
  {
   "cell_type": "code",
   "execution_count": 87,
   "metadata": {},
   "outputs": [],
   "source": [
    "del t_fantasy_sql"
   ]
  },
  {
   "cell_type": "raw",
   "metadata": {},
   "source": [
    "运动"
   ]
  },
  {
   "cell_type": "code",
   "execution_count": 88,
   "metadata": {},
   "outputs": [],
   "source": [
    "t_sports_sql = '''insert into table relation_bet_gen_and_class SELECT 't_sports',(t2.v / t4.s) * 100.0,(t6.v / t8.s) * 100.0 FROM (SELECT SUM(t1.male) AS v FROM film44 t1 WHERE t1.t_sports =1) t2 JOIN (SELECT count(t3.male) as s FROM film44 t3 WHERE t3.t_sports =1) t4 JOIN (SELECT SUM(t5.female) AS v FROM film44 t5 WHERE t5.t_sports =1) t6 JOIN (SELECT count(t7.female) as s FROM film44 t7 WHERE t7.t_sports =1) t8'''"
   ]
  },
  {
   "cell_type": "code",
   "execution_count": 89,
   "metadata": {},
   "outputs": [],
   "source": [
    "cursor.execute(t_sports_sql)"
   ]
  },
  {
   "cell_type": "code",
   "execution_count": 90,
   "metadata": {},
   "outputs": [],
   "source": [
    "del t_sports_sql"
   ]
  },
  {
   "cell_type": "raw",
   "metadata": {},
   "source": [
    "家庭"
   ]
  },
  {
   "cell_type": "code",
   "execution_count": 91,
   "metadata": {},
   "outputs": [],
   "source": [
    "t_family_sql = '''insert into table relation_bet_gen_and_class SELECT 't_family',(t2.v / t4.s) * 100.0,(t6.v / t8.s) * 100.0 FROM (SELECT SUM(t1.male) AS v FROM film44 t1 WHERE t1.t_family =1) t2 JOIN (SELECT count(t3.male) as s FROM film44 t3 WHERE t3.t_family =1) t4 JOIN (SELECT SUM(t5.female) AS v FROM film44 t5 WHERE t5.t_family =1) t6 JOIN (SELECT count(t7.female) as s FROM film44 t7 WHERE t7.t_family =1) t8'''"
   ]
  },
  {
   "cell_type": "code",
   "execution_count": 92,
   "metadata": {},
   "outputs": [],
   "source": [
    "cursor.execute(t_family_sql)"
   ]
  },
  {
   "cell_type": "code",
   "execution_count": 93,
   "metadata": {},
   "outputs": [],
   "source": [
    "del t_family_sql"
   ]
  },
  {
   "cell_type": "raw",
   "metadata": {},
   "source": [
    "古装"
   ]
  },
  {
   "cell_type": "code",
   "execution_count": 95,
   "metadata": {},
   "outputs": [],
   "source": [
    "t_costume_sql = '''insert into table relation_bet_gen_and_class SELECT 't_costume',(t2.v / t4.s) * 100.0,(t6.v / t8.s) * 100.0 FROM (SELECT SUM(t1.male) AS v FROM film44 t1 WHERE t1.t_costume =1) t2 JOIN (SELECT count(t3.male) as s FROM film44 t3 WHERE t3.t_costume =1) t4 JOIN (SELECT SUM(t5.female) AS v FROM film44 t5 WHERE t5.t_costume =1) t6 JOIN (SELECT count(t7.female) as s FROM film44 t7 WHERE t7.t_costume =1) t8'''"
   ]
  },
  {
   "cell_type": "code",
   "execution_count": 96,
   "metadata": {},
   "outputs": [],
   "source": [
    "cursor.execute(t_costume_sql)"
   ]
  },
  {
   "cell_type": "code",
   "execution_count": 97,
   "metadata": {},
   "outputs": [],
   "source": [
    "del t_costume_sql"
   ]
  },
  {
   "cell_type": "raw",
   "metadata": {},
   "source": [
    "武侠"
   ]
  },
  {
   "cell_type": "code",
   "execution_count": 98,
   "metadata": {},
   "outputs": [],
   "source": [
    "t_sword_sql = '''insert into table relation_bet_gen_and_class SELECT 't_sword',(t2.v / t4.s) * 100.0,(t6.v / t8.s) * 100.0 FROM (SELECT SUM(t1.male) AS v FROM film44 t1 WHERE t1.t_sword =1) t2 JOIN (SELECT count(t3.male) as s FROM film44 t3 WHERE t3.t_sword =1) t4 JOIN (SELECT SUM(t5.female) AS v FROM film44 t5 WHERE t5.t_sword =1) t6 JOIN (SELECT count(t7.female) as s FROM film44 t7 WHERE t7.t_sword =1) t8'''"
   ]
  },
  {
   "cell_type": "code",
   "execution_count": 99,
   "metadata": {},
   "outputs": [],
   "source": [
    "cursor.execute(t_sword_sql)"
   ]
  },
  {
   "cell_type": "code",
   "execution_count": 100,
   "metadata": {},
   "outputs": [],
   "source": [
    "del t_sword_sql"
   ]
  },
  {
   "cell_type": "raw",
   "metadata": {},
   "source": [
    "西部"
   ]
  },
  {
   "cell_type": "code",
   "execution_count": 101,
   "metadata": {},
   "outputs": [],
   "source": [
    "t_cowboy_sql = '''insert into table relation_bet_gen_and_class SELECT 't_cowboy',(t2.v / t4.s) * 100.0,(t6.v / t8.s) * 100.0 FROM (SELECT SUM(t1.male) AS v FROM film44 t1 WHERE t1.t_cowboy =1) t2 JOIN (SELECT count(t3.male) as s FROM film44 t3 WHERE t3.t_cowboy =1) t4 JOIN (SELECT SUM(t5.female) AS v FROM film44 t5 WHERE t5.t_cowboy =1) t6 JOIN (SELECT count(t7.female) as s FROM film44 t7 WHERE t7.t_cowboy =1) t8'''"
   ]
  },
  {
   "cell_type": "code",
   "execution_count": 102,
   "metadata": {},
   "outputs": [],
   "source": [
    "cursor.execute(t_cowboy_sql)"
   ]
  },
  {
   "cell_type": "code",
   "execution_count": 103,
   "metadata": {},
   "outputs": [],
   "source": [
    "del t_cowboy_sql"
   ]
  },
  {
   "cell_type": "raw",
   "metadata": {},
   "source": [
    "历史"
   ]
  },
  {
   "cell_type": "code",
   "execution_count": 104,
   "metadata": {},
   "outputs": [],
   "source": [
    "t_history_sql = '''insert into table relation_bet_gen_and_class SELECT 't_history',(t2.v / t4.s) * 100.0,(t6.v / t8.s) * 100.0 FROM (SELECT SUM(t1.male) AS v FROM film44 t1 WHERE t1.t_history =1) t2 JOIN (SELECT count(t3.male) as s FROM film44 t3 WHERE t3.t_history =1) t4 JOIN (SELECT SUM(t5.female) AS v FROM film44 t5 WHERE t5.t_history =1) t6 JOIN (SELECT count(t7.female) as s FROM film44 t7 WHERE t7.t_history =1) t8'''"
   ]
  },
  {
   "cell_type": "code",
   "execution_count": 105,
   "metadata": {},
   "outputs": [],
   "source": [
    "cursor.execute(t_history_sql)"
   ]
  },
  {
   "cell_type": "code",
   "execution_count": 106,
   "metadata": {},
   "outputs": [],
   "source": [
    "del t_history_sql"
   ]
  },
  {
   "cell_type": "raw",
   "metadata": {},
   "source": [
    "传记"
   ]
  },
  {
   "cell_type": "code",
   "execution_count": 107,
   "metadata": {},
   "outputs": [],
   "source": [
    "t_biography_sql = '''insert into table relation_bet_gen_and_class SELECT 't_biography',(t2.v / t4.s) * 100.0,(t6.v / t8.s) * 100.0 FROM (SELECT SUM(t1.male) AS v FROM film44 t1 WHERE t1.t_biography =1) t2 JOIN (SELECT count(t3.male) as s FROM film44 t3 WHERE t3.t_biography =1) t4 JOIN (SELECT SUM(t5.female) AS v FROM film44 t5 WHERE t5.t_biography =1) t6 JOIN (SELECT count(t7.female) as s FROM film44 t7 WHERE t7.t_biography =1) t8'''"
   ]
  },
  {
   "cell_type": "code",
   "execution_count": 108,
   "metadata": {},
   "outputs": [],
   "source": [
    "cursor.execute(t_biography_sql)"
   ]
  },
  {
   "cell_type": "code",
   "execution_count": 109,
   "metadata": {},
   "outputs": [],
   "source": [
    "del t_biography_sql"
   ]
  },
  {
   "cell_type": "raw",
   "metadata": {},
   "source": [
    "歌舞"
   ]
  },
  {
   "cell_type": "code",
   "execution_count": 110,
   "metadata": {},
   "outputs": [],
   "source": [
    "t_dance_sql = '''insert into table relation_bet_gen_and_class SELECT 't_dance',(t2.v / t4.s) * 100.0,(t6.v / t8.s) * 100.0 FROM (SELECT SUM(t1.male) AS v FROM film44 t1 WHERE t1.t_dance =1) t2 JOIN (SELECT count(t3.male) as s FROM film44 t3 WHERE t3.t_dance =1) t4 JOIN (SELECT SUM(t5.female) AS v FROM film44 t5 WHERE t5.t_dance =1) t6 JOIN (SELECT count(t7.female) as s FROM film44 t7 WHERE t7.t_dance =1) t8'''"
   ]
  },
  {
   "cell_type": "code",
   "execution_count": 111,
   "metadata": {},
   "outputs": [],
   "source": [
    "cursor.execute(t_dance_sql)"
   ]
  },
  {
   "cell_type": "code",
   "execution_count": 112,
   "metadata": {},
   "outputs": [],
   "source": [
    "del t_dance_sql"
   ]
  },
  {
   "cell_type": "raw",
   "metadata": {},
   "source": [
    "黑色电影"
   ]
  },
  {
   "cell_type": "code",
   "execution_count": 113,
   "metadata": {},
   "outputs": [],
   "source": [
    "t_dark_sql = '''insert into table relation_bet_gen_and_class SELECT 't_dark',(t2.v / t4.s) * 100.0,(t6.v / t8.s) * 100.0 FROM (SELECT SUM(t1.male) AS v FROM film44 t1 WHERE t1.t_dark =1) t2 JOIN (SELECT count(t3.male) as s FROM film44 t3 WHERE t3.t_dark =1) t4 JOIN (SELECT SUM(t5.female) AS v FROM film44 t5 WHERE t5.t_dark =1) t6 JOIN (SELECT count(t7.female) as s FROM film44 t7 WHERE t7.t_dark =1) t8'''"
   ]
  },
  {
   "cell_type": "code",
   "execution_count": 114,
   "metadata": {},
   "outputs": [],
   "source": [
    "cursor.execute(t_dark_sql)"
   ]
  },
  {
   "cell_type": "code",
   "execution_count": 115,
   "metadata": {},
   "outputs": [],
   "source": [
    "del t_dark_sql"
   ]
  },
  {
   "cell_type": "raw",
   "metadata": {},
   "source": [
    "短片"
   ]
  },
  {
   "cell_type": "code",
   "execution_count": 116,
   "metadata": {},
   "outputs": [],
   "source": [
    "t_short_sql = '''insert into table relation_bet_gen_and_class SELECT 't_short',(t2.v / t4.s) * 100.0,(t6.v / t8.s) * 100.0 FROM (SELECT SUM(t1.male) AS v FROM film44 t1 WHERE t1.t_short =1) t2 JOIN (SELECT count(t3.male) as s FROM film44 t3 WHERE t3.t_short=1) t4 JOIN (SELECT SUM(t5.female) AS v FROM film44 t5 WHERE t5.t_short=1) t6 JOIN (SELECT count(t7.female) as s FROM film44 t7 WHERE t7.t_short=1) t8'''"
   ]
  },
  {
   "cell_type": "code",
   "execution_count": 117,
   "metadata": {},
   "outputs": [],
   "source": [
    "cursor.execute(t_short_sql)"
   ]
  },
  {
   "cell_type": "code",
   "execution_count": 118,
   "metadata": {},
   "outputs": [],
   "source": [
    "del t_short_sql"
   ]
  },
  {
   "cell_type": "raw",
   "metadata": {},
   "source": [
    "纪录片"
   ]
  },
  {
   "cell_type": "code",
   "execution_count": 119,
   "metadata": {},
   "outputs": [],
   "source": [
    "t_documentary_sql = '''insert into table relation_bet_gen_and_class SELECT 't_documentary',(t2.v / t4.s) * 100.0,(t6.v / t8.s) * 100.0 FROM (SELECT SUM(t1.male) AS v FROM film44 t1 WHERE t1.t_documentary =1) t2 JOIN (SELECT count(t3.male) as s FROM film44 t3 WHERE t3.t_documentary=1) t4 JOIN (SELECT SUM(t5.female) AS v FROM film44 t5 WHERE t5.t_documentary=1) t6 JOIN (SELECT count(t7.female) as s FROM film44 t7 WHERE t7.t_documentary=1) t8'''"
   ]
  },
  {
   "cell_type": "code",
   "execution_count": 120,
   "metadata": {},
   "outputs": [],
   "source": [
    "cursor.execute(t_documentary_sql)"
   ]
  },
  {
   "cell_type": "code",
   "execution_count": 121,
   "metadata": {},
   "outputs": [],
   "source": [
    "del t_documentary_sql"
   ]
  },
  {
   "cell_type": "raw",
   "metadata": {},
   "source": [
    "其他"
   ]
  },
  {
   "cell_type": "code",
   "execution_count": 122,
   "metadata": {},
   "outputs": [],
   "source": [
    "t_others_sql = '''insert into table relation_bet_gen_and_class SELECT 't_others',(t2.v / t4.s) * 100.0,(t6.v / t8.s) * 100.0 FROM (SELECT SUM(t1.male) AS v FROM film44 t1 WHERE t1.t_others =1) t2 JOIN (SELECT count(t3.male) as s FROM film44 t3 WHERE t3.t_others=1) t4 JOIN (SELECT SUM(t5.female) AS v FROM film44 t5 WHERE t5.t_others=1) t6 JOIN (SELECT count(t7.female) as s FROM film44 t7 WHERE t7.t_others=1) t8'''"
   ]
  },
  {
   "cell_type": "code",
   "execution_count": 123,
   "metadata": {},
   "outputs": [],
   "source": [
    "cursor.execute(t_others_sql)"
   ]
  },
  {
   "cell_type": "code",
   "execution_count": 124,
   "metadata": {},
   "outputs": [],
   "source": [
    "del t_others_sql"
   ]
  },
  {
   "cell_type": "raw",
   "metadata": {},
   "source": [
    "大陆"
   ]
  },
  {
   "cell_type": "code",
   "execution_count": 125,
   "metadata": {},
   "outputs": [],
   "source": [
    "c_Mainland_sql = '''insert into table relation_bet_gen_and_class SELECT 'c_Mainland',(t2.v / t4.s) * 100.0,(t6.v / t8.s) * 100.0 FROM (SELECT SUM(t1.male) AS v FROM film44 t1 WHERE t1.c_Mainland =1) t2 JOIN (SELECT count(t3.male) as s FROM film44 t3 WHERE t3.c_Mainland=1) t4 JOIN (SELECT SUM(t5.female) AS v FROM film44 t5 WHERE t5.c_Mainland=1) t6 JOIN (SELECT count(t7.female) as s FROM film44 t7 WHERE t7.c_Mainland=1) t8'''"
   ]
  },
  {
   "cell_type": "code",
   "execution_count": 126,
   "metadata": {},
   "outputs": [],
   "source": [
    "cursor.execute(c_Mainland_sql)"
   ]
  },
  {
   "cell_type": "code",
   "execution_count": 127,
   "metadata": {},
   "outputs": [],
   "source": [
    "del c_Mainland_sql"
   ]
  },
  {
   "cell_type": "raw",
   "metadata": {},
   "source": [
    "美国"
   ]
  },
  {
   "cell_type": "code",
   "execution_count": 128,
   "metadata": {},
   "outputs": [],
   "source": [
    "c_America_sql = '''insert into table relation_bet_gen_and_class SELECT 'c_America',(t2.v / t4.s) * 100.0,(t6.v / t8.s) * 100.0 FROM (SELECT SUM(t1.male) AS v FROM film44 t1 WHERE t1.c_America =1) t2 JOIN (SELECT count(t3.male) as s FROM film44 t3 WHERE t3.c_America=1) t4 JOIN (SELECT SUM(t5.female) AS v FROM film44 t5 WHERE t5.c_America=1) t6 JOIN (SELECT count(t7.female) as s FROM film44 t7 WHERE t7.c_America=1) t8'''"
   ]
  },
  {
   "cell_type": "code",
   "execution_count": 129,
   "metadata": {},
   "outputs": [],
   "source": [
    "cursor.execute(c_America_sql)"
   ]
  },
  {
   "cell_type": "code",
   "execution_count": 130,
   "metadata": {},
   "outputs": [],
   "source": [
    "del c_America_sql"
   ]
  },
  {
   "cell_type": "raw",
   "metadata": {},
   "source": [
    "韩国"
   ]
  },
  {
   "cell_type": "code",
   "execution_count": 131,
   "metadata": {},
   "outputs": [],
   "source": [
    "c_Korea_sql ='''insert into table relation_bet_gen_and_class SELECT 'c_Korea',(t2.v / t4.s) * 100.0,(t6.v / t8.s) * 100.0 FROM (SELECT SUM(t1.male) AS v FROM film44 t1 WHERE t1.c_Korea =1) t2 JOIN (SELECT count(t3.male) as s FROM film44 t3 WHERE t3.c_Korea=1) t4 JOIN (SELECT SUM(t5.female) AS v FROM film44 t5 WHERE t5.c_Korea=1) t6 JOIN (SELECT count(t7.female) as s FROM film44 t7 WHERE t7.c_Korea=1) t8'''"
   ]
  },
  {
   "cell_type": "code",
   "execution_count": 132,
   "metadata": {},
   "outputs": [],
   "source": [
    "cursor.execute(c_Korea_sql)"
   ]
  },
  {
   "cell_type": "code",
   "execution_count": 133,
   "metadata": {},
   "outputs": [],
   "source": [
    "del c_Korea_sql"
   ]
  },
  {
   "cell_type": "raw",
   "metadata": {},
   "source": [
    "日本"
   ]
  },
  {
   "cell_type": "code",
   "execution_count": 134,
   "metadata": {},
   "outputs": [],
   "source": [
    "c_Japan_sql ='''insert into table relation_bet_gen_and_class SELECT 'c_Japan',(t2.v / t4.s) * 100.0,(t6.v / t8.s) * 100.0 FROM (SELECT SUM(t1.male) AS v FROM film44 t1 WHERE t1.c_Japan =1) t2 JOIN (SELECT count(t3.male) as s FROM film44 t3 WHERE t3.c_Japan=1) t4 JOIN (SELECT SUM(t5.female) AS v FROM film44 t5 WHERE t5.c_Japan=1) t6 JOIN (SELECT count(t7.female) as s FROM film44 t7 WHERE t7.c_Japan=1) t8'''"
   ]
  },
  {
   "cell_type": "code",
   "execution_count": 135,
   "metadata": {},
   "outputs": [],
   "source": [
    "cursor.execute(c_Japan_sql)"
   ]
  },
  {
   "cell_type": "code",
   "execution_count": 136,
   "metadata": {},
   "outputs": [],
   "source": [
    "del c_Japan_sql"
   ]
  },
  {
   "cell_type": "raw",
   "metadata": {},
   "source": [
    "香港"
   ]
  },
  {
   "cell_type": "code",
   "execution_count": 137,
   "metadata": {},
   "outputs": [],
   "source": [
    "c_Hongkong_sql = '''insert into table relation_bet_gen_and_class SELECT 'c_Hongkong',(t2.v / t4.s) * 100.0,(t6.v / t8.s) * 100.0 FROM (SELECT SUM(t1.male) AS v FROM film44 t1 WHERE t1.c_Hongkong =1) t2 JOIN (SELECT count(t3.male) as s FROM film44 t3 WHERE t3.c_Hongkong=1) t4 JOIN (SELECT SUM(t5.female) AS v FROM film44 t5 WHERE t5.c_Hongkong=1) t6 JOIN (SELECT count(t7.female) as s FROM film44 t7 WHERE t7.c_Hongkong=1) t8'''"
   ]
  },
  {
   "cell_type": "code",
   "execution_count": 138,
   "metadata": {},
   "outputs": [],
   "source": [
    "cursor.execute(c_Hongkong_sql)"
   ]
  },
  {
   "cell_type": "code",
   "execution_count": 139,
   "metadata": {},
   "outputs": [],
   "source": [
    "del c_Hongkong_sql"
   ]
  },
  {
   "cell_type": "raw",
   "metadata": {},
   "source": [
    "台湾"
   ]
  },
  {
   "cell_type": "code",
   "execution_count": 141,
   "metadata": {},
   "outputs": [],
   "source": [
    "c_Taiwan_sql = '''insert into table relation_bet_gen_and_class SELECT 'c_Taiwan',(t2.v / t4.s) * 100.0,(t6.v / t8.s) * 100.0 FROM (SELECT SUM(t1.male) AS v FROM film44 t1 WHERE t1.c_Taiwan =1) t2 JOIN (SELECT count(t3.male) as s FROM film44 t3 WHERE t3.c_Taiwan=1) t4 JOIN (SELECT SUM(t5.female) AS v FROM film44 t5 WHERE t5.c_Taiwan=1) t6 JOIN (SELECT count(t7.female) as s FROM film44 t7 WHERE t7.c_Taiwan=1) t8'''"
   ]
  },
  {
   "cell_type": "code",
   "execution_count": 142,
   "metadata": {},
   "outputs": [],
   "source": [
    "cursor.execute(c_Taiwan_sql)"
   ]
  },
  {
   "cell_type": "code",
   "execution_count": 143,
   "metadata": {},
   "outputs": [],
   "source": [
    "del c_Taiwan_sql"
   ]
  },
  {
   "cell_type": "raw",
   "metadata": {},
   "source": [
    "泰国"
   ]
  },
  {
   "cell_type": "code",
   "execution_count": 144,
   "metadata": {},
   "outputs": [],
   "source": [
    "c_Thailand_sql = '''insert into table relation_bet_gen_and_class SELECT 'c_Thailand',(t2.v / t4.s) * 100.0,(t6.v / t8.s) * 100.0 FROM (SELECT SUM(t1.male) AS v FROM film44 t1 WHERE t1.c_Thailand =1) t2 JOIN (SELECT count(t3.male) as s FROM film44 t3 WHERE t3.c_Thailand=1) t4 JOIN (SELECT SUM(t5.female) AS v FROM film44 t5 WHERE t5.c_Thailand=1) t6 JOIN (SELECT count(t7.female) as s FROM film44 t7 WHERE t7.c_Thailand=1) t8'''"
   ]
  },
  {
   "cell_type": "code",
   "execution_count": 145,
   "metadata": {},
   "outputs": [],
   "source": [
    "cursor.execute(c_Thailand_sql)"
   ]
  },
  {
   "cell_type": "code",
   "execution_count": 146,
   "metadata": {},
   "outputs": [],
   "source": [
    "del c_Thailand_sql"
   ]
  },
  {
   "cell_type": "raw",
   "metadata": {},
   "source": [
    "印度"
   ]
  },
  {
   "cell_type": "code",
   "execution_count": 147,
   "metadata": {},
   "outputs": [],
   "source": [
    "c_India_sql = '''insert into table relation_bet_gen_and_class SELECT 'c_India',(t2.v / t4.s) * 100.0,(t6.v / t8.s) * 100.0 FROM (SELECT SUM(t1.male) AS v FROM film44 t1 WHERE t1.c_India =1) t2 JOIN (SELECT count(t3.male) as s FROM film44 t3 WHERE t3.c_India=1) t4 JOIN (SELECT SUM(t5.female) AS v FROM film44 t5 WHERE t5.c_India=1) t6 JOIN (SELECT count(t7.female) as s FROM film44 t7 WHERE t7.c_India=1) t8'''"
   ]
  },
  {
   "cell_type": "code",
   "execution_count": 148,
   "metadata": {},
   "outputs": [],
   "source": [
    "cursor.execute(c_India_sql)"
   ]
  },
  {
   "cell_type": "code",
   "execution_count": 149,
   "metadata": {},
   "outputs": [],
   "source": [
    "del c_India_sql"
   ]
  },
  {
   "cell_type": "raw",
   "metadata": {},
   "source": [
    "法国"
   ]
  },
  {
   "cell_type": "code",
   "execution_count": 150,
   "metadata": {},
   "outputs": [],
   "source": [
    "c_France_sql = '''insert into table relation_bet_gen_and_class SELECT 'c_France',(t2.v / t4.s) * 100.0,(t6.v / t8.s) * 100.0 FROM (SELECT SUM(t1.male) AS v FROM film44 t1 WHERE t1.c_France =1) t2 JOIN (SELECT count(t3.male) as s FROM film44 t3 WHERE t3.c_France=1) t4 JOIN (SELECT SUM(t5.female) AS v FROM film44 t5 WHERE t5.c_France=1) t6 JOIN (SELECT count(t7.female) as s FROM film44 t7 WHERE t7.c_France=1) t8'''"
   ]
  },
  {
   "cell_type": "code",
   "execution_count": 151,
   "metadata": {},
   "outputs": [],
   "source": [
    "cursor.execute(c_France_sql)"
   ]
  },
  {
   "cell_type": "code",
   "execution_count": 152,
   "metadata": {},
   "outputs": [],
   "source": [
    "del c_France_sql"
   ]
  },
  {
   "cell_type": "raw",
   "metadata": {},
   "source": [
    "英国"
   ]
  },
  {
   "cell_type": "code",
   "execution_count": 153,
   "metadata": {},
   "outputs": [],
   "source": [
    "c_England_sql = '''insert into table relation_bet_gen_and_class SELECT 'c_England',(t2.v / t4.s) * 100.0,(t6.v / t8.s) * 100.0 FROM (SELECT SUM(t1.male) AS v FROM film44 t1 WHERE t1.c_England =1) t2 JOIN (SELECT count(t3.male) as s FROM film44 t3 WHERE t3.c_England=1) t4 JOIN (SELECT SUM(t5.female) AS v FROM film44 t5 WHERE t5.c_England=1) t6 JOIN (SELECT count(t7.female) as s FROM film44 t7 WHERE t7.c_England=1) t8'''"
   ]
  },
  {
   "cell_type": "code",
   "execution_count": 154,
   "metadata": {},
   "outputs": [],
   "source": [
    "cursor.execute(c_England_sql)"
   ]
  },
  {
   "cell_type": "code",
   "execution_count": 155,
   "metadata": {},
   "outputs": [],
   "source": [
    "del c_England_sql"
   ]
  },
  {
   "cell_type": "raw",
   "metadata": {},
   "source": [
    "俄罗斯"
   ]
  },
  {
   "cell_type": "code",
   "execution_count": 156,
   "metadata": {},
   "outputs": [],
   "source": [
    "c_Russia_sql = '''insert into table relation_bet_gen_and_class SELECT 'c_Russia',(t2.v / t4.s) * 100.0,(t6.v / t8.s) * 100.0 FROM (SELECT SUM(t1.male) AS v FROM film44 t1 WHERE t1.c_Russia =1) t2 JOIN (SELECT count(t3.male) as s FROM film44 t3 WHERE t3.c_Russia=1) t4 JOIN (SELECT SUM(t5.female) AS v FROM film44 t5 WHERE t5.c_Russia=1) t6 JOIN (SELECT count(t7.female) as s FROM film44 t7 WHERE t7.c_Russia=1) t8'''"
   ]
  },
  {
   "cell_type": "code",
   "execution_count": 157,
   "metadata": {},
   "outputs": [],
   "source": [
    "cursor.execute(c_Russia_sql)"
   ]
  },
  {
   "cell_type": "code",
   "execution_count": 158,
   "metadata": {},
   "outputs": [],
   "source": [
    "del c_Russia_sql"
   ]
  },
  {
   "cell_type": "raw",
   "metadata": {},
   "source": [
    "意大利"
   ]
  },
  {
   "cell_type": "code",
   "execution_count": 159,
   "metadata": {},
   "outputs": [],
   "source": [
    "c_Italy_sql = '''insert into table relation_bet_gen_and_class SELECT 'c_Italy',(t2.v / t4.s) * 100.0,(t6.v / t8.s) * 100.0 FROM (SELECT SUM(t1.male) AS v FROM film44 t1 WHERE t1.c_Italy =1) t2 JOIN (SELECT count(t3.male) as s FROM film44 t3 WHERE t3.c_Italy =1) t4 JOIN (SELECT SUM(t5.female) AS v FROM film44 t5 WHERE t5.c_Italy =1) t6 JOIN (SELECT count(t7.female) as s FROM film44 t7 WHERE t7.c_Italy =1) t8'''"
   ]
  },
  {
   "cell_type": "code",
   "execution_count": 160,
   "metadata": {},
   "outputs": [],
   "source": [
    "cursor.execute(c_Italy_sql)"
   ]
  },
  {
   "cell_type": "code",
   "execution_count": 161,
   "metadata": {},
   "outputs": [],
   "source": [
    "del c_Italy_sql"
   ]
  },
  {
   "cell_type": "raw",
   "metadata": {},
   "source": [
    "西班牙"
   ]
  },
  {
   "cell_type": "code",
   "execution_count": 162,
   "metadata": {},
   "outputs": [],
   "source": [
    "c_Spain_sql = '''insert into table relation_bet_gen_and_class SELECT 'c_Spain',(t2.v / t4.s) * 100.0,(t6.v / t8.s) * 100.0 FROM (SELECT SUM(t1.male) AS v FROM film44 t1 WHERE t1.c_Spain =1) t2 JOIN (SELECT count(t3.male) as s FROM film44 t3 WHERE t3.c_Spain=1) t4 JOIN (SELECT SUM(t5.female) AS v FROM film44 t5 WHERE t5.c_Spain=1) t6 JOIN (SELECT count(t7.female) as s FROM film44 t7 WHERE t7.c_Spain =1) t8'''"
   ]
  },
  {
   "cell_type": "code",
   "execution_count": 163,
   "metadata": {},
   "outputs": [],
   "source": [
    "cursor.execute(c_Spain_sql)"
   ]
  },
  {
   "cell_type": "code",
   "execution_count": 164,
   "metadata": {},
   "outputs": [],
   "source": [
    "del c_Spain_sql"
   ]
  },
  {
   "cell_type": "raw",
   "metadata": {},
   "source": [
    "德国"
   ]
  },
  {
   "cell_type": "code",
   "execution_count": 165,
   "metadata": {},
   "outputs": [],
   "source": [
    "c_Germany_sql = '''insert into table relation_bet_gen_and_class SELECT 'c_Germany',(t2.v / t4.s) * 100.0,(t6.v / t8.s) * 100.0 FROM (SELECT SUM(t1.male) AS v FROM film44 t1 WHERE t1.c_Germany=1) t2 JOIN (SELECT count(t3.male) as s FROM film44 t3 WHERE t3.c_Germany=1) t4 JOIN (SELECT SUM(t5.female) AS v FROM film44 t5 WHERE t5.c_Germany=1) t6 JOIN (SELECT count(t7.female) as s FROM film44 t7 WHERE t7.c_Germany=1) t8'''"
   ]
  },
  {
   "cell_type": "code",
   "execution_count": 166,
   "metadata": {},
   "outputs": [],
   "source": [
    "cursor.execute(c_Germany_sql)"
   ]
  },
  {
   "cell_type": "code",
   "execution_count": 167,
   "metadata": {},
   "outputs": [],
   "source": [
    "del c_Germany_sql"
   ]
  },
  {
   "cell_type": "raw",
   "metadata": {},
   "source": [
    "波兰"
   ]
  },
  {
   "cell_type": "code",
   "execution_count": 168,
   "metadata": {},
   "outputs": [],
   "source": [
    "c_Poland_sql = '''insert into table relation_bet_gen_and_class SELECT 'c_Poland',(t2.v / t4.s) * 100.0,(t6.v / t8.s) * 100.0 FROM (SELECT SUM(t1.male) AS v FROM film44 t1 WHERE t1.c_Poland=1) t2 JOIN (SELECT count(t3.male) as s FROM film44 t3 WHERE t3.c_Poland=1) t4 JOIN (SELECT SUM(t5.female) AS v FROM film44 t5 WHERE t5.c_Poland=1) t6 JOIN (SELECT count(t7.female) as s FROM film44 t7 WHERE t7.c_Poland=1) t8'''"
   ]
  },
  {
   "cell_type": "code",
   "execution_count": 169,
   "metadata": {},
   "outputs": [],
   "source": [
    "cursor.execute(c_Poland_sql)"
   ]
  },
  {
   "cell_type": "code",
   "execution_count": 170,
   "metadata": {},
   "outputs": [],
   "source": [
    "del c_Poland_sql"
   ]
  },
  {
   "cell_type": "raw",
   "metadata": {},
   "source": [
    "澳大利亚"
   ]
  },
  {
   "cell_type": "code",
   "execution_count": 171,
   "metadata": {},
   "outputs": [],
   "source": [
    "c_Australia_sql = '''insert into table relation_bet_gen_and_class SELECT 'c_Australia',(t2.v / t4.s) * 100.0,(t6.v / t8.s) * 100.0 FROM (SELECT SUM(t1.male) AS v FROM film44 t1 WHERE t1.c_Australia=1) t2 JOIN (SELECT count(t3.male) as s FROM film44 t3 WHERE t3.c_Australia=1) t4 JOIN (SELECT SUM(t5.female) AS v FROM film44 t5 WHERE t5.c_Australia=1) t6 JOIN (SELECT count(t7.female) as s FROM film44 t7 WHERE t7.c_Australia=1) t8'''"
   ]
  },
  {
   "cell_type": "code",
   "execution_count": 172,
   "metadata": {},
   "outputs": [],
   "source": [
    "cursor.execute(c_Australia_sql)"
   ]
  },
  {
   "cell_type": "code",
   "execution_count": 173,
   "metadata": {},
   "outputs": [],
   "source": [
    "del c_Australia_sql"
   ]
  },
  {
   "cell_type": "raw",
   "metadata": {},
   "source": [
    "伊朗"
   ]
  },
  {
   "cell_type": "code",
   "execution_count": 174,
   "metadata": {},
   "outputs": [],
   "source": [
    "c_Iran_sql = '''insert into table relation_bet_gen_and_class SELECT 'c_Iran',(t2.v / t4.s) * 100.0,(t6.v / t8.s) * 100.0 FROM (SELECT SUM(t1.male) AS v FROM film44 t1 WHERE t1.c_Iran=1) t2 JOIN (SELECT count(t3.male) as s FROM film44 t3 WHERE t3.c_Iran=1) t4 JOIN (SELECT SUM(t5.female) AS v FROM film44 t5 WHERE t5.c_Iran=1) t6 JOIN (SELECT count(t7.female) as s FROM film44 t7 WHERE t7.c_Iran=1) t8'''"
   ]
  },
  {
   "cell_type": "code",
   "execution_count": 175,
   "metadata": {},
   "outputs": [],
   "source": [
    "cursor.execute(c_Iran_sql)"
   ]
  },
  {
   "cell_type": "code",
   "execution_count": 176,
   "metadata": {},
   "outputs": [],
   "source": [
    "del c_Iran_sql"
   ]
  },
  {
   "cell_type": "raw",
   "metadata": {},
   "source": [
    "其他"
   ]
  },
  {
   "cell_type": "code",
   "execution_count": 177,
   "metadata": {},
   "outputs": [],
   "source": [
    "c_Others_sql = '''insert into table relation_bet_gen_and_class SELECT 'c_Others',(t2.v / t4.s) * 100.0,(t6.v / t8.s) * 100.0 FROM (SELECT SUM(t1.male) AS v FROM film44 t1 WHERE t1.c_Others=1) t2 JOIN (SELECT count(t3.male) as s FROM film44 t3 WHERE t3.c_Others=1) t4 JOIN (SELECT SUM(t5.female) AS v FROM film44 t5 WHERE t5.c_Others=1) t6 JOIN (SELECT count(t7.female) as s FROM film44 t7 WHERE t7.c_Others=1) t8'''"
   ]
  },
  {
   "cell_type": "code",
   "execution_count": 178,
   "metadata": {},
   "outputs": [],
   "source": [
    "cursor.execute(c_Others_sql)"
   ]
  },
  {
   "cell_type": "code",
   "execution_count": 179,
   "metadata": {},
   "outputs": [],
   "source": [
    "del c_Others_sql"
   ]
  },
  {
   "cell_type": "markdown",
   "metadata": {},
   "source": [
    "# table_5_relation_bet_age_and_class(年龄和类别的关系）"
   ]
  },
  {
   "cell_type": "code",
   "execution_count": 180,
   "metadata": {},
   "outputs": [],
   "source": [
    "cursor.execute(\"DROP TABLE IF EXISTS relation_bet_age_and_class\")"
   ]
  },
  {
   "cell_type": "code",
   "execution_count": 181,
   "metadata": {},
   "outputs": [],
   "source": [
    "create_relation_bet_age_and_class_sql = '''create table relation_bet_age_and_class(class string,under20 float,20to24 float,25to29 float,30to34 float,35to39 float,above40 float)'''"
   ]
  },
  {
   "cell_type": "code",
   "execution_count": 182,
   "metadata": {},
   "outputs": [],
   "source": [
    "cursor.execute(create_relation_bet_age_and_class_sql)"
   ]
  },
  {
   "cell_type": "code",
   "execution_count": 183,
   "metadata": {},
   "outputs": [],
   "source": [
    "del create_relation_bet_age_and_class_sql"
   ]
  },
  {
   "cell_type": "raw",
   "metadata": {},
   "source": [
    "爱情"
   ]
  },
  {
   "cell_type": "code",
   "execution_count": 202,
   "metadata": {},
   "outputs": [],
   "source": [
    "t_romance_sql = '''insert into table relation_bet_age_and_class SELECT 't_romance',(t2.v / t4.s) * 100.0,(t6.v / t8.s) * 100.0,(t10.v / t12.s) * 100.0,(t14.v / t16.s) * 100.0,(t18.v / t20.s) * 100.0,(t22.v / t24.s) * 100.0               FROM (SELECT SUM(t1.under20) AS v FROM film44 t1 WHERE t1.t_romance=1) t2 JOIN (SELECT count(t3.under20) as s FROM film44 t3 WHERE t3.t_romance=1) t4 JOIN (SELECT SUM(t5.20to24) AS v FROM film44 t5 WHERE t5.t_romance=1) t6 JOIN (SELECT count(t7.20to24) as s FROM film44 t7 WHERE t7.t_romance=1) t8 JOIN (SELECT SUM(t9.25to29) AS v FROM film44 t9 WHERE t9.t_romance=1) t10 JOIN (SELECT count(t11.25to29) as s FROM film44 t11 WHERE t11.t_romance=1) t12 JOIN (SELECT SUM(t13.30to34) AS v FROM film44 t13 WHERE t13.t_romance=1) t14 JOIN (SELECT count(t15.30to34) as s FROM film44 t15 WHERE t15.t_romance=1) t16 JOIN (SELECT SUM(t17.35to39) AS v FROM film44 t17 WHERE t17.t_romance=1) t18 JOIN (SELECT count(t19.35to39) as s FROM film44 t19 WHERE t19.t_romance=1) t20 JOIN (SELECT SUM(t21.above40) AS v FROM film44 t21 WHERE t21.t_romance=1) t22 JOIN (SELECT count(t23.above40) as s FROM film44 t23 WHERE t23.t_romance=1) t24'''"
   ]
  },
  {
   "cell_type": "code",
   "execution_count": 203,
   "metadata": {},
   "outputs": [],
   "source": [
    "cursor.execute(t_romance_sql)"
   ]
  },
  {
   "cell_type": "code",
   "execution_count": 204,
   "metadata": {},
   "outputs": [],
   "source": [
    "del t_romance_sql"
   ]
  },
  {
   "cell_type": "raw",
   "metadata": {},
   "source": [
    "喜剧"
   ]
  },
  {
   "cell_type": "code",
   "execution_count": 205,
   "metadata": {},
   "outputs": [],
   "source": [
    "t_comedy_sql = '''insert into table relation_bet_age_and_class SELECT 't_comedy',(t2.v / t4.s) * 100.0,(t6.v / t8.s) * 100.0,(t10.v / t12.s) * 100.0,(t14.v / t16.s) * 100.0,(t18.v / t20.s) * 100.0,(t22.v / t24.s) * 100.0               FROM (SELECT SUM(t1.under20) AS v FROM film44 t1 WHERE t1.t_comedy=1) t2 JOIN (SELECT count(t3.under20) as s FROM film44 t3 WHERE t3.t_comedy=1) t4 JOIN (SELECT SUM(t5.20to24) AS v FROM film44 t5 WHERE t5.t_comedy=1) t6 JOIN (SELECT count(t7.20to24) as s FROM film44 t7 WHERE t7.t_comedy=1) t8 JOIN (SELECT SUM(t9.25to29) AS v FROM film44 t9 WHERE t9.t_comedy=1) t10 JOIN (SELECT count(t11.25to29) as s FROM film44 t11 WHERE t11.t_comedy=1) t12 JOIN (SELECT SUM(t13.30to34) AS v FROM film44 t13 WHERE t13.t_comedy=1) t14 JOIN (SELECT count(t15.30to34) as s FROM film44 t15 WHERE t15.t_comedy=1) t16 JOIN (SELECT SUM(t17.35to39) AS v FROM film44 t17 WHERE t17.t_comedy=1) t18 JOIN (SELECT count(t19.35to39) as s FROM film44 t19 WHERE t19.t_comedy=1) t20 JOIN (SELECT SUM(t21.above40) AS v FROM film44 t21 WHERE t21.t_comedy=1) t22 JOIN (SELECT count(t23.above40) as s FROM film44 t23 WHERE t23.t_comedy=1) t24'''"
   ]
  },
  {
   "cell_type": "code",
   "execution_count": 206,
   "metadata": {},
   "outputs": [],
   "source": [
    "cursor.execute(t_comedy_sql)"
   ]
  },
  {
   "cell_type": "code",
   "execution_count": 207,
   "metadata": {},
   "outputs": [],
   "source": [
    "del t_comedy_sql"
   ]
  },
  {
   "cell_type": "raw",
   "metadata": {},
   "source": [
    "动画"
   ]
  },
  {
   "cell_type": "code",
   "execution_count": 208,
   "metadata": {},
   "outputs": [],
   "source": [
    "t_animate_sql = '''insert into table relation_bet_age_and_class SELECT 't_animate',(t2.v / t4.s) * 100.0,(t6.v / t8.s) * 100.0,(t10.v / t12.s) * 100.0,(t14.v / t16.s) * 100.0,(t18.v / t20.s) * 100.0,(t22.v / t24.s) * 100.0               FROM (SELECT SUM(t1.under20) AS v FROM film44 t1 WHERE t1.t_animate=1) t2 JOIN (SELECT count(t3.under20) as s FROM film44 t3 WHERE t3.t_animate=1) t4 JOIN (SELECT SUM(t5.20to24) AS v FROM film44 t5 WHERE t5.t_animate=1) t6 JOIN (SELECT count(t7.20to24) as s FROM film44 t7 WHERE t7.t_animate=1) t8 JOIN (SELECT SUM(t9.25to29) AS v FROM film44 t9 WHERE t9.t_animate=1) t10 JOIN (SELECT count(t11.25to29) as s FROM film44 t11 WHERE t11.t_animate=1) t12 JOIN (SELECT SUM(t13.30to34) AS v FROM film44 t13 WHERE t13.t_animate=1) t14 JOIN (SELECT count(t15.30to34) as s FROM film44 t15 WHERE t15.t_animate=1) t16 JOIN (SELECT SUM(t17.35to39) AS v FROM film44 t17 WHERE t17.t_animate=1) t18 JOIN (SELECT count(t19.35to39) as s FROM film44 t19 WHERE t19.t_animate=1) t20 JOIN (SELECT SUM(t21.above40) AS v FROM film44 t21 WHERE t21.t_animate=1) t22 JOIN (SELECT count(t23.above40) as s FROM film44 t23 WHERE t23.t_animate=1) t24'''"
   ]
  },
  {
   "cell_type": "code",
   "execution_count": 209,
   "metadata": {},
   "outputs": [],
   "source": [
    "cursor.execute(t_animate_sql)"
   ]
  },
  {
   "cell_type": "code",
   "execution_count": 210,
   "metadata": {},
   "outputs": [],
   "source": [
    "del t_animate_sql"
   ]
  },
  {
   "cell_type": "raw",
   "metadata": {},
   "source": [
    "剧情"
   ]
  },
  {
   "cell_type": "code",
   "execution_count": 211,
   "metadata": {},
   "outputs": [],
   "source": [
    "t_plot_sql = '''insert into table relation_bet_age_and_class SELECT 't_plot',(t2.v / t4.s) * 100.0,(t6.v / t8.s) * 100.0,(t10.v / t12.s) * 100.0,(t14.v / t16.s) * 100.0,(t18.v / t20.s) * 100.0,(t22.v / t24.s) * 100.0               FROM (SELECT SUM(t1.under20) AS v FROM film44 t1 WHERE t1.t_plot=1) t2 JOIN (SELECT count(t3.under20) as s FROM film44 t3 WHERE t3.t_plot=1) t4 JOIN (SELECT SUM(t5.20to24) AS v FROM film44 t5 WHERE t5.t_plot=1) t6 JOIN (SELECT count(t7.20to24) as s FROM film44 t7 WHERE t7.t_plot=1) t8 JOIN (SELECT SUM(t9.25to29) AS v FROM film44 t9 WHERE t9.t_plot=1) t10 JOIN (SELECT count(t11.25to29) as s FROM film44 t11 WHERE t11.t_plot=1) t12 JOIN (SELECT SUM(t13.30to34) AS v FROM film44 t13 WHERE t13.t_plot=1) t14 JOIN (SELECT count(t15.30to34) as s FROM film44 t15 WHERE t15.t_plot=1) t16 JOIN (SELECT SUM(t17.35to39) AS v FROM film44 t17 WHERE t17.t_plot=1) t18 JOIN (SELECT count(t19.35to39) as s FROM film44 t19 WHERE t19.t_plot=1) t20 JOIN (SELECT SUM(t21.above40) AS v FROM film44 t21 WHERE t21.t_plot=1) t22 JOIN (SELECT count(t23.above40) as s FROM film44 t23 WHERE t23.t_plot=1) t24'''"
   ]
  },
  {
   "cell_type": "code",
   "execution_count": 212,
   "metadata": {},
   "outputs": [],
   "source": [
    "cursor.execute(t_plot_sql)"
   ]
  },
  {
   "cell_type": "code",
   "execution_count": 213,
   "metadata": {},
   "outputs": [],
   "source": [
    "del t_plot_sql"
   ]
  },
  {
   "cell_type": "raw",
   "metadata": {},
   "source": [
    "恐怖"
   ]
  },
  {
   "cell_type": "code",
   "execution_count": 214,
   "metadata": {},
   "outputs": [],
   "source": [
    "t_horror_sql = '''insert into table relation_bet_age_and_class SELECT 't_horror',(t2.v / t4.s) * 100.0,(t6.v / t8.s) * 100.0,(t10.v / t12.s) * 100.0,(t14.v / t16.s) * 100.0,(t18.v / t20.s) * 100.0,(t22.v / t24.s) * 100.0               FROM (SELECT SUM(t1.under20) AS v FROM film44 t1 WHERE t1.t_horror=1) t2 JOIN (SELECT count(t3.under20) as s FROM film44 t3 WHERE t3.t_horror=1) t4 JOIN (SELECT SUM(t5.20to24) AS v FROM film44 t5 WHERE t5.t_horror=1) t6 JOIN (SELECT count(t7.20to24) as s FROM film44 t7 WHERE t7.t_horror=1) t8 JOIN (SELECT SUM(t9.25to29) AS v FROM film44 t9 WHERE t9.t_horror=1) t10 JOIN (SELECT count(t11.25to29) as s FROM film44 t11 WHERE t11.t_horror=1) t12 JOIN (SELECT SUM(t13.30to34) AS v FROM film44 t13 WHERE t13.t_horror=1) t14 JOIN (SELECT count(t15.30to34) as s FROM film44 t15 WHERE t15.t_horror=1) t16 JOIN (SELECT SUM(t17.35to39) AS v FROM film44 t17 WHERE t17.t_horror=1) t18 JOIN (SELECT count(t19.35to39) as s FROM film44 t19 WHERE t19.t_horror=1) t20 JOIN (SELECT SUM(t21.above40) AS v FROM film44 t21 WHERE t21.t_horror=1) t22 JOIN (SELECT count(t23.above40) as s FROM film44 t23 WHERE t23.t_horror=1) t24'''"
   ]
  },
  {
   "cell_type": "code",
   "execution_count": 215,
   "metadata": {},
   "outputs": [],
   "source": [
    "cursor.execute(t_horror_sql)"
   ]
  },
  {
   "cell_type": "code",
   "execution_count": 216,
   "metadata": {},
   "outputs": [],
   "source": [
    "del t_horror_sql"
   ]
  },
  {
   "cell_type": "raw",
   "metadata": {},
   "source": [
    "惊悚"
   ]
  },
  {
   "cell_type": "code",
   "execution_count": 217,
   "metadata": {},
   "outputs": [],
   "source": [
    "t_thriller_sql = '''insert into table relation_bet_age_and_class SELECT 't_thriller',(t2.v / t4.s) * 100.0,(t6.v / t8.s) * 100.0,(t10.v / t12.s) * 100.0,(t14.v / t16.s) * 100.0,(t18.v / t20.s) * 100.0,(t22.v / t24.s) * 100.0               FROM (SELECT SUM(t1.under20) AS v FROM film44 t1 WHERE t1.t_thriller=1) t2 JOIN (SELECT count(t3.under20) as s FROM film44 t3 WHERE t3.t_thriller=1) t4 JOIN (SELECT SUM(t5.20to24) AS v FROM film44 t5 WHERE t5.t_thriller=1) t6 JOIN (SELECT count(t7.20to24) as s FROM film44 t7 WHERE t7.t_thriller=1) t8 JOIN (SELECT SUM(t9.25to29) AS v FROM film44 t9 WHERE t9.t_thriller=1) t10 JOIN (SELECT count(t11.25to29) as s FROM film44 t11 WHERE t11.t_thriller=1) t12 JOIN (SELECT SUM(t13.30to34) AS v FROM film44 t13 WHERE t13.t_thriller=1) t14 JOIN (SELECT count(t15.30to34) as s FROM film44 t15 WHERE t15.t_thriller=1) t16 JOIN (SELECT SUM(t17.35to39) AS v FROM film44 t17 WHERE t17.t_thriller=1) t18 JOIN (SELECT count(t19.35to39) as s FROM film44 t19 WHERE t19.t_thriller=1) t20 JOIN (SELECT SUM(t21.above40) AS v FROM film44 t21 WHERE t21.t_thriller=1) t22 JOIN (SELECT count(t23.above40) as s FROM film44 t23 WHERE t23.t_thriller=1) t24'''"
   ]
  },
  {
   "cell_type": "code",
   "execution_count": 218,
   "metadata": {},
   "outputs": [],
   "source": [
    "cursor.execute(t_thriller_sql)"
   ]
  },
  {
   "cell_type": "code",
   "execution_count": 219,
   "metadata": {},
   "outputs": [],
   "source": [
    "del t_thriller_sql"
   ]
  },
  {
   "cell_type": "raw",
   "metadata": {},
   "source": [
    "科幻"
   ]
  },
  {
   "cell_type": "code",
   "execution_count": 220,
   "metadata": {},
   "outputs": [],
   "source": [
    "t_science_sql = '''insert into table relation_bet_age_and_class SELECT 't_science',(t2.v / t4.s) * 100.0,(t6.v / t8.s) * 100.0,(t10.v / t12.s) * 100.0,(t14.v / t16.s) * 100.0,(t18.v / t20.s) * 100.0,(t22.v / t24.s) * 100.0               FROM (SELECT SUM(t1.under20) AS v FROM film44 t1 WHERE t1.t_science=1) t2 JOIN (SELECT count(t3.under20) as s FROM film44 t3 WHERE t3.t_science=1) t4 JOIN (SELECT SUM(t5.20to24) AS v FROM film44 t5 WHERE t5.t_science=1) t6 JOIN (SELECT count(t7.20to24) as s FROM film44 t7 WHERE t7.t_science=1) t8 JOIN (SELECT SUM(t9.25to29) AS v FROM film44 t9 WHERE t9.t_science=1) t10 JOIN (SELECT count(t11.25to29) as s FROM film44 t11 WHERE t11.t_science=1) t12 JOIN (SELECT SUM(t13.30to34) AS v FROM film44 t13 WHERE t13.t_science=1) t14 JOIN (SELECT count(t15.30to34) as s FROM film44 t15 WHERE t15.t_science=1) t16 JOIN (SELECT SUM(t17.35to39) AS v FROM film44 t17 WHERE t17.t_science=1) t18 JOIN (SELECT count(t19.35to39) as s FROM film44 t19 WHERE t19.t_science=1) t20 JOIN (SELECT SUM(t21.above40) AS v FROM film44 t21 WHERE t21.t_science=1) t22 JOIN (SELECT count(t23.above40) as s FROM film44 t23 WHERE t23.t_science=1) t24'''"
   ]
  },
  {
   "cell_type": "code",
   "execution_count": 221,
   "metadata": {},
   "outputs": [],
   "source": [
    "cursor.execute(t_science_sql)"
   ]
  },
  {
   "cell_type": "code",
   "execution_count": 222,
   "metadata": {},
   "outputs": [],
   "source": [
    "del t_science_sql"
   ]
  },
  {
   "cell_type": "raw",
   "metadata": {},
   "source": [
    "动作"
   ]
  },
  {
   "cell_type": "code",
   "execution_count": 223,
   "metadata": {},
   "outputs": [],
   "source": [
    "t_action_sql = '''insert into table relation_bet_age_and_class SELECT 't_action',(t2.v / t4.s) * 100.0,(t6.v / t8.s) * 100.0,(t10.v / t12.s) * 100.0,(t14.v / t16.s) * 100.0,(t18.v / t20.s) * 100.0,(t22.v / t24.s) * 100.0               FROM (SELECT SUM(t1.under20) AS v FROM film44 t1 WHERE t1.t_action=1) t2 JOIN (SELECT count(t3.under20) as s FROM film44 t3 WHERE t3.t_action=1) t4 JOIN (SELECT SUM(t5.20to24) AS v FROM film44 t5 WHERE t5.t_action=1) t6 JOIN (SELECT count(t7.20to24) as s FROM film44 t7 WHERE t7.t_action=1) t8 JOIN (SELECT SUM(t9.25to29) AS v FROM film44 t9 WHERE t9.t_action=1) t10 JOIN (SELECT count(t11.25to29) as s FROM film44 t11 WHERE t11.t_action=1) t12 JOIN (SELECT SUM(t13.30to34) AS v FROM film44 t13 WHERE t13.t_action=1) t14 JOIN (SELECT count(t15.30to34) as s FROM film44 t15 WHERE t15.t_action=1) t16 JOIN (SELECT SUM(t17.35to39) AS v FROM film44 t17 WHERE t17.t_action=1) t18 JOIN (SELECT count(t19.35to39) as s FROM film44 t19 WHERE t19.t_action=1) t20 JOIN (SELECT SUM(t21.above40) AS v FROM film44 t21 WHERE t21.t_action=1) t22 JOIN (SELECT count(t23.above40) as s FROM film44 t23 WHERE t23.t_action=1) t24'''"
   ]
  },
  {
   "cell_type": "code",
   "execution_count": 225,
   "metadata": {},
   "outputs": [],
   "source": [
    "cursor.execute(t_action_sql)"
   ]
  },
  {
   "cell_type": "code",
   "execution_count": 226,
   "metadata": {},
   "outputs": [],
   "source": [
    "del t_action_sql"
   ]
  },
  {
   "cell_type": "raw",
   "metadata": {},
   "source": [
    "悬疑"
   ]
  },
  {
   "cell_type": "code",
   "execution_count": 227,
   "metadata": {},
   "outputs": [],
   "source": [
    "t_suspense_sql = '''insert into table relation_bet_age_and_class SELECT 't_suspense',(t2.v / t4.s) * 100.0,(t6.v / t8.s) * 100.0,(t10.v / t12.s) * 100.0,(t14.v / t16.s) * 100.0,(t18.v / t20.s) * 100.0,(t22.v / t24.s) * 100.0               FROM (SELECT SUM(t1.under20) AS v FROM film44 t1 WHERE t1.t_suspense=1) t2 JOIN (SELECT count(t3.under20) as s FROM film44 t3 WHERE t3.t_suspense=1) t4 JOIN (SELECT SUM(t5.20to24) AS v FROM film44 t5 WHERE t5.t_suspense=1) t6 JOIN (SELECT count(t7.20to24) as s FROM film44 t7 WHERE t7.t_suspense=1) t8 JOIN (SELECT SUM(t9.25to29) AS v FROM film44 t9 WHERE t9.t_suspense=1) t10 JOIN (SELECT count(t11.25to29) as s FROM film44 t11 WHERE t11.t_suspense=1) t12 JOIN (SELECT SUM(t13.30to34) AS v FROM film44 t13 WHERE t13.t_suspense=1) t14 JOIN (SELECT count(t15.30to34) as s FROM film44 t15 WHERE t15.t_suspense=1) t16 JOIN (SELECT SUM(t17.35to39) AS v FROM film44 t17 WHERE t17.t_suspense=1) t18 JOIN (SELECT count(t19.35to39) as s FROM film44 t19 WHERE t19.t_suspense=1) t20 JOIN (SELECT SUM(t21.above40) AS v FROM film44 t21 WHERE t21.t_suspense=1) t22 JOIN (SELECT count(t23.above40) as s FROM film44 t23 WHERE t23.t_suspense=1) t24'''"
   ]
  },
  {
   "cell_type": "code",
   "execution_count": 228,
   "metadata": {},
   "outputs": [],
   "source": [
    "cursor.execute(t_suspense_sql)"
   ]
  },
  {
   "cell_type": "code",
   "execution_count": 229,
   "metadata": {},
   "outputs": [],
   "source": [
    "del t_suspense_sql"
   ]
  },
  {
   "cell_type": "raw",
   "metadata": {},
   "source": [
    "犯罪"
   ]
  },
  {
   "cell_type": "code",
   "execution_count": 230,
   "metadata": {},
   "outputs": [],
   "source": [
    "t_crime_sql = '''insert into table relation_bet_age_and_class SELECT 't_crime',(t2.v / t4.s) * 100.0,(t6.v / t8.s) * 100.0,(t10.v / t12.s) * 100.0,(t14.v / t16.s) * 100.0,(t18.v / t20.s) * 100.0,(t22.v / t24.s) * 100.0               FROM (SELECT SUM(t1.under20) AS v FROM film44 t1 WHERE t1.t_crime=1) t2 JOIN (SELECT count(t3.under20) as s FROM film44 t3 WHERE t3.t_crime=1) t4 JOIN (SELECT SUM(t5.20to24) AS v FROM film44 t5 WHERE t5.t_crime=1) t6 JOIN (SELECT count(t7.20to24) as s FROM film44 t7 WHERE t7.t_crime=1) t8 JOIN (SELECT SUM(t9.25to29) AS v FROM film44 t9 WHERE t9.t_crime=1) t10 JOIN (SELECT count(t11.25to29) as s FROM film44 t11 WHERE t11.t_crime=1) t12 JOIN (SELECT SUM(t13.30to34) AS v FROM film44 t13 WHERE t13.t_crime=1) t14 JOIN (SELECT count(t15.30to34) as s FROM film44 t15 WHERE t15.t_crime=1) t16 JOIN (SELECT SUM(t17.35to39) AS v FROM film44 t17 WHERE t17.t_crime=1) t18 JOIN (SELECT count(t19.35to39) as s FROM film44 t19 WHERE t19.t_crime=1) t20 JOIN (SELECT SUM(t21.above40) AS v FROM film44 t21 WHERE t21.t_crime=1) t22 JOIN (SELECT count(t23.above40) as s FROM film44 t23 WHERE t23.t_crime=1) t24'''"
   ]
  },
  {
   "cell_type": "code",
   "execution_count": 231,
   "metadata": {},
   "outputs": [],
   "source": [
    "cursor.execute(t_crime_sql)"
   ]
  },
  {
   "cell_type": "code",
   "execution_count": 232,
   "metadata": {},
   "outputs": [],
   "source": [
    "del t_crime_sql"
   ]
  },
  {
   "cell_type": "raw",
   "metadata": {},
   "source": [
    "冒险"
   ]
  },
  {
   "cell_type": "code",
   "execution_count": 233,
   "metadata": {},
   "outputs": [],
   "source": [
    "t_adventure_sql = '''insert into table relation_bet_age_and_class SELECT 't_adventure',(t2.v / t4.s) * 100.0,(t6.v / t8.s) * 100.0,(t10.v / t12.s) * 100.0,(t14.v / t16.s) * 100.0,(t18.v / t20.s) * 100.0,(t22.v / t24.s) * 100.0               FROM (SELECT SUM(t1.under20) AS v FROM film44 t1 WHERE t1.t_adventure=1) t2 JOIN (SELECT count(t3.under20) as s FROM film44 t3 WHERE t3.t_adventure=1) t4 JOIN (SELECT SUM(t5.20to24) AS v FROM film44 t5 WHERE t5.t_adventure=1) t6 JOIN (SELECT count(t7.20to24) as s FROM film44 t7 WHERE t7.t_adventure=1) t8 JOIN (SELECT SUM(t9.25to29) AS v FROM film44 t9 WHERE t9.t_adventure=1) t10 JOIN (SELECT count(t11.25to29) as s FROM film44 t11 WHERE t11.t_adventure=1) t12 JOIN (SELECT SUM(t13.30to34) AS v FROM film44 t13 WHERE t13.t_adventure=1) t14 JOIN (SELECT count(t15.30to34) as s FROM film44 t15 WHERE t15.t_adventure=1) t16 JOIN (SELECT SUM(t17.35to39) AS v FROM film44 t17 WHERE t17.t_adventure=1) t18 JOIN (SELECT count(t19.35to39) as s FROM film44 t19 WHERE t19.t_adventure=1) t20 JOIN (SELECT SUM(t21.above40) AS v FROM film44 t21 WHERE t21.t_adventure=1) t22 JOIN (SELECT count(t23.above40) as s FROM film44 t23 WHERE t23.t_adventure=1) t24'''"
   ]
  },
  {
   "cell_type": "code",
   "execution_count": 234,
   "metadata": {},
   "outputs": [],
   "source": [
    "cursor.execute(t_adventure_sql)"
   ]
  },
  {
   "cell_type": "code",
   "execution_count": 235,
   "metadata": {},
   "outputs": [],
   "source": [
    "del t_adventure_sql"
   ]
  },
  {
   "cell_type": "raw",
   "metadata": {},
   "source": [
    "战争"
   ]
  },
  {
   "cell_type": "code",
   "execution_count": 236,
   "metadata": {},
   "outputs": [],
   "source": [
    "t_war_sql = '''insert into table relation_bet_age_and_class SELECT 't_war',(t2.v / t4.s) * 100.0,(t6.v / t8.s) * 100.0,(t10.v / t12.s) * 100.0,(t14.v / t16.s) * 100.0,(t18.v / t20.s) * 100.0,(t22.v / t24.s) * 100.0               FROM (SELECT SUM(t1.under20) AS v FROM film44 t1 WHERE t1.t_war=1) t2 JOIN (SELECT count(t3.under20) as s FROM film44 t3 WHERE t3.t_war=1) t4 JOIN (SELECT SUM(t5.20to24) AS v FROM film44 t5 WHERE t5.t_war=1) t6 JOIN (SELECT count(t7.20to24) as s FROM film44 t7 WHERE t7.t_war=1) t8 JOIN (SELECT SUM(t9.25to29) AS v FROM film44 t9 WHERE t9.t_war=1) t10 JOIN (SELECT count(t11.25to29) as s FROM film44 t11 WHERE t11.t_war=1) t12 JOIN (SELECT SUM(t13.30to34) AS v FROM film44 t13 WHERE t13.t_war=1) t14 JOIN (SELECT count(t15.30to34) as s FROM film44 t15 WHERE t15.t_war=1) t16 JOIN (SELECT SUM(t17.35to39) AS v FROM film44 t17 WHERE t17.t_war=1) t18 JOIN (SELECT count(t19.35to39) as s FROM film44 t19 WHERE t19.t_war=1) t20 JOIN (SELECT SUM(t21.above40) AS v FROM film44 t21 WHERE t21.t_war=1) t22 JOIN (SELECT count(t23.above40) as s FROM film44 t23 WHERE t23.t_war=1) t24'''"
   ]
  },
  {
   "cell_type": "code",
   "execution_count": 237,
   "metadata": {},
   "outputs": [],
   "source": [
    "cursor.execute(t_war_sql)"
   ]
  },
  {
   "cell_type": "code",
   "execution_count": 238,
   "metadata": {},
   "outputs": [],
   "source": [
    "del t_war_sql"
   ]
  },
  {
   "cell_type": "raw",
   "metadata": {},
   "source": [
    "奇幻"
   ]
  },
  {
   "cell_type": "code",
   "execution_count": 239,
   "metadata": {},
   "outputs": [],
   "source": [
    "t_fantasy_sql = '''insert into table relation_bet_age_and_class SELECT 't_fantasy',(t2.v / t4.s) * 100.0,(t6.v / t8.s) * 100.0,(t10.v / t12.s) * 100.0,(t14.v / t16.s) * 100.0,(t18.v / t20.s) * 100.0,(t22.v / t24.s) * 100.0               FROM (SELECT SUM(t1.under20) AS v FROM film44 t1 WHERE t1.t_fantasy=1) t2 JOIN (SELECT count(t3.under20) as s FROM film44 t3 WHERE t3.t_fantasy=1) t4 JOIN (SELECT SUM(t5.20to24) AS v FROM film44 t5 WHERE t5.t_fantasy=1) t6 JOIN (SELECT count(t7.20to24) as s FROM film44 t7 WHERE t7.t_fantasy=1) t8 JOIN (SELECT SUM(t9.25to29) AS v FROM film44 t9 WHERE t9.t_fantasy=1) t10 JOIN (SELECT count(t11.25to29) as s FROM film44 t11 WHERE t11.t_fantasy=1) t12 JOIN (SELECT SUM(t13.30to34) AS v FROM film44 t13 WHERE t13.t_fantasy=1) t14 JOIN (SELECT count(t15.30to34) as s FROM film44 t15 WHERE t15.t_fantasy=1) t16 JOIN (SELECT SUM(t17.35to39) AS v FROM film44 t17 WHERE t17.t_fantasy=1) t18 JOIN (SELECT count(t19.35to39) as s FROM film44 t19 WHERE t19.t_fantasy=1) t20 JOIN (SELECT SUM(t21.above40) AS v FROM film44 t21 WHERE t21.t_fantasy=1) t22 JOIN (SELECT count(t23.above40) as s FROM film44 t23 WHERE t23.t_fantasy=1) t24'''"
   ]
  },
  {
   "cell_type": "code",
   "execution_count": 240,
   "metadata": {},
   "outputs": [],
   "source": [
    "cursor.execute(t_fantasy_sql)"
   ]
  },
  {
   "cell_type": "code",
   "execution_count": 241,
   "metadata": {},
   "outputs": [],
   "source": [
    "del t_fantasy_sql"
   ]
  },
  {
   "cell_type": "raw",
   "metadata": {},
   "source": [
    "运动"
   ]
  },
  {
   "cell_type": "code",
   "execution_count": 242,
   "metadata": {},
   "outputs": [],
   "source": [
    "t_sports_sql = '''insert into table relation_bet_age_and_class SELECT 't_sports',(t2.v / t4.s) * 100.0,(t6.v / t8.s) * 100.0,(t10.v / t12.s) * 100.0,(t14.v / t16.s) * 100.0,(t18.v / t20.s) * 100.0,(t22.v / t24.s) * 100.0               FROM (SELECT SUM(t1.under20) AS v FROM film44 t1 WHERE t1.t_sports=1) t2 JOIN (SELECT count(t3.under20) as s FROM film44 t3 WHERE t3.t_sports=1) t4 JOIN (SELECT SUM(t5.20to24) AS v FROM film44 t5 WHERE t5.t_sports=1) t6 JOIN (SELECT count(t7.20to24) as s FROM film44 t7 WHERE t7.t_sports=1) t8 JOIN (SELECT SUM(t9.25to29) AS v FROM film44 t9 WHERE t9.t_sports=1) t10 JOIN (SELECT count(t11.25to29) as s FROM film44 t11 WHERE t11.t_sports=1) t12 JOIN (SELECT SUM(t13.30to34) AS v FROM film44 t13 WHERE t13.t_sports=1) t14 JOIN (SELECT count(t15.30to34) as s FROM film44 t15 WHERE t15.t_sports=1) t16 JOIN (SELECT SUM(t17.35to39) AS v FROM film44 t17 WHERE t17.t_sports=1) t18 JOIN (SELECT count(t19.35to39) as s FROM film44 t19 WHERE t19.t_sports=1) t20 JOIN (SELECT SUM(t21.above40) AS v FROM film44 t21 WHERE t21.t_sports=1) t22 JOIN (SELECT count(t23.above40) as s FROM film44 t23 WHERE t23.t_sports=1) t24'''"
   ]
  },
  {
   "cell_type": "code",
   "execution_count": 243,
   "metadata": {},
   "outputs": [],
   "source": [
    "cursor.execute(t_sports_sql)"
   ]
  },
  {
   "cell_type": "code",
   "execution_count": 244,
   "metadata": {},
   "outputs": [],
   "source": [
    "del t_sports_sql"
   ]
  },
  {
   "cell_type": "raw",
   "metadata": {},
   "source": [
    "家庭"
   ]
  },
  {
   "cell_type": "code",
   "execution_count": 245,
   "metadata": {},
   "outputs": [],
   "source": [
    "t_family_sql = '''insert into table relation_bet_age_and_class SELECT 't_family',(t2.v / t4.s) * 100.0,(t6.v / t8.s) * 100.0,(t10.v / t12.s) * 100.0,(t14.v / t16.s) * 100.0,(t18.v / t20.s) * 100.0,(t22.v / t24.s) * 100.0               FROM (SELECT SUM(t1.under20) AS v FROM film44 t1 WHERE t1.t_family=1) t2 JOIN (SELECT count(t3.under20) as s FROM film44 t3 WHERE t3.t_family=1) t4 JOIN (SELECT SUM(t5.20to24) AS v FROM film44 t5 WHERE t5.t_family=1) t6 JOIN (SELECT count(t7.20to24) as s FROM film44 t7 WHERE t7.t_family=1) t8 JOIN (SELECT SUM(t9.25to29) AS v FROM film44 t9 WHERE t9.t_family=1) t10 JOIN (SELECT count(t11.25to29) as s FROM film44 t11 WHERE t11.t_family=1) t12 JOIN (SELECT SUM(t13.30to34) AS v FROM film44 t13 WHERE t13.t_family=1) t14 JOIN (SELECT count(t15.30to34) as s FROM film44 t15 WHERE t15.t_family=1) t16 JOIN (SELECT SUM(t17.35to39) AS v FROM film44 t17 WHERE t17.t_family=1) t18 JOIN (SELECT count(t19.35to39) as s FROM film44 t19 WHERE t19.t_family=1) t20 JOIN (SELECT SUM(t21.above40) AS v FROM film44 t21 WHERE t21.t_family=1) t22 JOIN (SELECT count(t23.above40) as s FROM film44 t23 WHERE t23.t_family=1) t24'''"
   ]
  },
  {
   "cell_type": "code",
   "execution_count": 246,
   "metadata": {},
   "outputs": [],
   "source": [
    "cursor.execute(t_family_sql)"
   ]
  },
  {
   "cell_type": "code",
   "execution_count": 247,
   "metadata": {},
   "outputs": [],
   "source": [
    "del t_family_sql"
   ]
  },
  {
   "cell_type": "raw",
   "metadata": {},
   "source": [
    "古装"
   ]
  },
  {
   "cell_type": "code",
   "execution_count": 248,
   "metadata": {},
   "outputs": [],
   "source": [
    "t_costume_sql = '''insert into table relation_bet_age_and_class SELECT 't_costume',(t2.v / t4.s) * 100.0,(t6.v / t8.s) * 100.0,(t10.v / t12.s) * 100.0,(t14.v / t16.s) * 100.0,(t18.v / t20.s) * 100.0,(t22.v / t24.s) * 100.0               FROM (SELECT SUM(t1.under20) AS v FROM film44 t1 WHERE t1.t_costume=1) t2 JOIN (SELECT count(t3.under20) as s FROM film44 t3 WHERE t3.t_costume=1) t4 JOIN (SELECT SUM(t5.20to24) AS v FROM film44 t5 WHERE t5.t_costume=1) t6 JOIN (SELECT count(t7.20to24) as s FROM film44 t7 WHERE t7.t_costume=1) t8 JOIN (SELECT SUM(t9.25to29) AS v FROM film44 t9 WHERE t9.t_costume=1) t10 JOIN (SELECT count(t11.25to29) as s FROM film44 t11 WHERE t11.t_costume=1) t12 JOIN (SELECT SUM(t13.30to34) AS v FROM film44 t13 WHERE t13.t_costume=1) t14 JOIN (SELECT count(t15.30to34) as s FROM film44 t15 WHERE t15.t_costume=1) t16 JOIN (SELECT SUM(t17.35to39) AS v FROM film44 t17 WHERE t17.t_costume=1) t18 JOIN (SELECT count(t19.35to39) as s FROM film44 t19 WHERE t19.t_costume=1) t20 JOIN (SELECT SUM(t21.above40) AS v FROM film44 t21 WHERE t21.t_costume=1) t22 JOIN (SELECT count(t23.above40) as s FROM film44 t23 WHERE t23.t_costume=1) t24'''"
   ]
  },
  {
   "cell_type": "code",
   "execution_count": 249,
   "metadata": {},
   "outputs": [],
   "source": [
    "cursor.execute(t_costume_sql)"
   ]
  },
  {
   "cell_type": "code",
   "execution_count": 250,
   "metadata": {},
   "outputs": [],
   "source": [
    "del t_costume_sql"
   ]
  },
  {
   "cell_type": "raw",
   "metadata": {},
   "source": [
    "武侠"
   ]
  },
  {
   "cell_type": "code",
   "execution_count": 251,
   "metadata": {},
   "outputs": [],
   "source": [
    "t_sword_sql = '''insert into table relation_bet_age_and_class SELECT 't_sword',(t2.v / t4.s) * 100.0,(t6.v / t8.s) * 100.0,(t10.v / t12.s) * 100.0,(t14.v / t16.s) * 100.0,(t18.v / t20.s) * 100.0,(t22.v / t24.s) * 100.0               FROM (SELECT SUM(t1.under20) AS v FROM film44 t1 WHERE t1.t_sword=1) t2 JOIN (SELECT count(t3.under20) as s FROM film44 t3 WHERE t3.t_sword=1) t4 JOIN (SELECT SUM(t5.20to24) AS v FROM film44 t5 WHERE t5.t_sword=1) t6 JOIN (SELECT count(t7.20to24) as s FROM film44 t7 WHERE t7.t_sword=1) t8 JOIN (SELECT SUM(t9.25to29) AS v FROM film44 t9 WHERE t9.t_sword=1) t10 JOIN (SELECT count(t11.25to29) as s FROM film44 t11 WHERE t11.t_sword=1) t12 JOIN (SELECT SUM(t13.30to34) AS v FROM film44 t13 WHERE t13.t_sword=1) t14 JOIN (SELECT count(t15.30to34) as s FROM film44 t15 WHERE t15.t_sword=1) t16 JOIN (SELECT SUM(t17.35to39) AS v FROM film44 t17 WHERE t17.t_sword=1) t18 JOIN (SELECT count(t19.35to39) as s FROM film44 t19 WHERE t19.t_sword=1) t20 JOIN (SELECT SUM(t21.above40) AS v FROM film44 t21 WHERE t21.t_sword=1) t22 JOIN (SELECT count(t23.above40) as s FROM film44 t23 WHERE t23.t_sword=1) t24'''"
   ]
  },
  {
   "cell_type": "code",
   "execution_count": 252,
   "metadata": {},
   "outputs": [],
   "source": [
    "cursor.execute(t_sword_sql)"
   ]
  },
  {
   "cell_type": "code",
   "execution_count": 253,
   "metadata": {},
   "outputs": [],
   "source": [
    "del t_sword_sql"
   ]
  },
  {
   "cell_type": "raw",
   "metadata": {},
   "source": [
    "西部"
   ]
  },
  {
   "cell_type": "code",
   "execution_count": 254,
   "metadata": {},
   "outputs": [],
   "source": [
    "t_cowboy_sql = '''insert into table relation_bet_age_and_class SELECT 't_cowboy',(t2.v / t4.s) * 100.0,(t6.v / t8.s) * 100.0,(t10.v / t12.s) * 100.0,(t14.v / t16.s) * 100.0,(t18.v / t20.s) * 100.0,(t22.v / t24.s) * 100.0               FROM (SELECT SUM(t1.under20) AS v FROM film44 t1 WHERE t1.t_cowboy=1) t2 JOIN (SELECT count(t3.under20) as s FROM film44 t3 WHERE t3.t_cowboy=1) t4 JOIN (SELECT SUM(t5.20to24) AS v FROM film44 t5 WHERE t5.t_cowboy=1) t6 JOIN (SELECT count(t7.20to24) as s FROM film44 t7 WHERE t7.t_cowboy=1) t8 JOIN (SELECT SUM(t9.25to29) AS v FROM film44 t9 WHERE t9.t_cowboy=1) t10 JOIN (SELECT count(t11.25to29) as s FROM film44 t11 WHERE t11.t_cowboy=1) t12 JOIN (SELECT SUM(t13.30to34) AS v FROM film44 t13 WHERE t13.t_cowboy=1) t14 JOIN (SELECT count(t15.30to34) as s FROM film44 t15 WHERE t15.t_cowboy=1) t16 JOIN (SELECT SUM(t17.35to39) AS v FROM film44 t17 WHERE t17.t_cowboy=1) t18 JOIN (SELECT count(t19.35to39) as s FROM film44 t19 WHERE t19.t_cowboy=1) t20 JOIN (SELECT SUM(t21.above40) AS v FROM film44 t21 WHERE t21.t_cowboy=1) t22 JOIN (SELECT count(t23.above40) as s FROM film44 t23 WHERE t23.t_cowboy=1) t24'''"
   ]
  },
  {
   "cell_type": "code",
   "execution_count": 255,
   "metadata": {},
   "outputs": [],
   "source": [
    "cursor.execute(t_cowboy_sql)"
   ]
  },
  {
   "cell_type": "code",
   "execution_count": 256,
   "metadata": {},
   "outputs": [],
   "source": [
    "del t_cowboy_sql"
   ]
  },
  {
   "cell_type": "raw",
   "metadata": {},
   "source": [
    "历史"
   ]
  },
  {
   "cell_type": "code",
   "execution_count": 257,
   "metadata": {},
   "outputs": [],
   "source": [
    "t_history_sql = '''insert into table relation_bet_age_and_class SELECT 't_history',(t2.v / t4.s) * 100.0,(t6.v / t8.s) * 100.0,(t10.v / t12.s) * 100.0,(t14.v / t16.s) * 100.0,(t18.v / t20.s) * 100.0,(t22.v / t24.s) * 100.0               FROM (SELECT SUM(t1.under20) AS v FROM film44 t1 WHERE t1.t_history=1) t2 JOIN (SELECT count(t3.under20) as s FROM film44 t3 WHERE t3.t_history=1) t4 JOIN (SELECT SUM(t5.20to24) AS v FROM film44 t5 WHERE t5.t_history=1) t6 JOIN (SELECT count(t7.20to24) as s FROM film44 t7 WHERE t7.t_history=1) t8 JOIN (SELECT SUM(t9.25to29) AS v FROM film44 t9 WHERE t9.t_history=1) t10 JOIN (SELECT count(t11.25to29) as s FROM film44 t11 WHERE t11.t_history=1) t12 JOIN (SELECT SUM(t13.30to34) AS v FROM film44 t13 WHERE t13.t_history=1) t14 JOIN (SELECT count(t15.30to34) as s FROM film44 t15 WHERE t15.t_history=1) t16 JOIN (SELECT SUM(t17.35to39) AS v FROM film44 t17 WHERE t17.t_history=1) t18 JOIN (SELECT count(t19.35to39) as s FROM film44 t19 WHERE t19.t_history=1) t20 JOIN (SELECT SUM(t21.above40) AS v FROM film44 t21 WHERE t21.t_history=1) t22 JOIN (SELECT count(t23.above40) as s FROM film44 t23 WHERE t23.t_history=1) t24'''"
   ]
  },
  {
   "cell_type": "code",
   "execution_count": 258,
   "metadata": {},
   "outputs": [],
   "source": [
    "cursor.execute(t_history_sql)"
   ]
  },
  {
   "cell_type": "code",
   "execution_count": 259,
   "metadata": {},
   "outputs": [],
   "source": [
    "del t_history_sql"
   ]
  },
  {
   "cell_type": "raw",
   "metadata": {},
   "source": [
    "传记"
   ]
  },
  {
   "cell_type": "code",
   "execution_count": 260,
   "metadata": {},
   "outputs": [],
   "source": [
    "t_biography_sql = '''insert into table relation_bet_age_and_class SELECT 't_biography',(t2.v / t4.s) * 100.0,(t6.v / t8.s) * 100.0,(t10.v / t12.s) * 100.0,(t14.v / t16.s) * 100.0,(t18.v / t20.s) * 100.0,(t22.v / t24.s) * 100.0               FROM (SELECT SUM(t1.under20) AS v FROM film44 t1 WHERE t1.t_biography=1) t2 JOIN (SELECT count(t3.under20) as s FROM film44 t3 WHERE t3.t_biography=1) t4 JOIN (SELECT SUM(t5.20to24) AS v FROM film44 t5 WHERE t5.t_biography=1) t6 JOIN (SELECT count(t7.20to24) as s FROM film44 t7 WHERE t7.t_biography=1) t8 JOIN (SELECT SUM(t9.25to29) AS v FROM film44 t9 WHERE t9.t_biography=1) t10 JOIN (SELECT count(t11.25to29) as s FROM film44 t11 WHERE t11.t_biography=1) t12 JOIN (SELECT SUM(t13.30to34) AS v FROM film44 t13 WHERE t13.t_biography=1) t14 JOIN (SELECT count(t15.30to34) as s FROM film44 t15 WHERE t15.t_biography=1) t16 JOIN (SELECT SUM(t17.35to39) AS v FROM film44 t17 WHERE t17.t_biography=1) t18 JOIN (SELECT count(t19.35to39) as s FROM film44 t19 WHERE t19.t_biography=1) t20 JOIN (SELECT SUM(t21.above40) AS v FROM film44 t21 WHERE t21.t_biography=1) t22 JOIN (SELECT count(t23.above40) as s FROM film44 t23 WHERE t23.t_biography=1) t24'''"
   ]
  },
  {
   "cell_type": "code",
   "execution_count": 261,
   "metadata": {},
   "outputs": [],
   "source": [
    "cursor.execute(t_biography_sql)"
   ]
  },
  {
   "cell_type": "code",
   "execution_count": 262,
   "metadata": {},
   "outputs": [],
   "source": [
    "del t_biography_sql"
   ]
  },
  {
   "cell_type": "raw",
   "metadata": {},
   "source": [
    "歌舞"
   ]
  },
  {
   "cell_type": "code",
   "execution_count": 263,
   "metadata": {},
   "outputs": [],
   "source": [
    "t_dance_sql = '''insert into table relation_bet_age_and_class SELECT 't_dance',(t2.v / t4.s) * 100.0,(t6.v / t8.s) * 100.0,(t10.v / t12.s) * 100.0,(t14.v / t16.s) * 100.0,(t18.v / t20.s) * 100.0,(t22.v / t24.s) * 100.0               FROM (SELECT SUM(t1.under20) AS v FROM film44 t1 WHERE t1.t_dance=1) t2 JOIN (SELECT count(t3.under20) as s FROM film44 t3 WHERE t3.t_dance=1) t4 JOIN (SELECT SUM(t5.20to24) AS v FROM film44 t5 WHERE t5.t_dance=1) t6 JOIN (SELECT count(t7.20to24) as s FROM film44 t7 WHERE t7.t_dance=1) t8 JOIN (SELECT SUM(t9.25to29) AS v FROM film44 t9 WHERE t9.t_dance=1) t10 JOIN (SELECT count(t11.25to29) as s FROM film44 t11 WHERE t11.t_dance=1) t12 JOIN (SELECT SUM(t13.30to34) AS v FROM film44 t13 WHERE t13.t_dance=1) t14 JOIN (SELECT count(t15.30to34) as s FROM film44 t15 WHERE t15.t_dance=1) t16 JOIN (SELECT SUM(t17.35to39) AS v FROM film44 t17 WHERE t17.t_dance=1) t18 JOIN (SELECT count(t19.35to39) as s FROM film44 t19 WHERE t19.t_dance=1) t20 JOIN (SELECT SUM(t21.above40) AS v FROM film44 t21 WHERE t21.t_dance=1) t22 JOIN (SELECT count(t23.above40) as s FROM film44 t23 WHERE t23.t_dance=1) t24'''"
   ]
  },
  {
   "cell_type": "code",
   "execution_count": 264,
   "metadata": {},
   "outputs": [],
   "source": [
    "cursor.execute(t_dance_sql)"
   ]
  },
  {
   "cell_type": "code",
   "execution_count": 265,
   "metadata": {},
   "outputs": [],
   "source": [
    "del t_dance_sql"
   ]
  },
  {
   "cell_type": "raw",
   "metadata": {},
   "source": [
    "黑色电影"
   ]
  },
  {
   "cell_type": "code",
   "execution_count": 266,
   "metadata": {},
   "outputs": [],
   "source": [
    "t_dark_sql = '''insert into table relation_bet_age_and_class SELECT 't_dark',(t2.v / t4.s) * 100.0,(t6.v / t8.s) * 100.0,(t10.v / t12.s) * 100.0,(t14.v / t16.s) * 100.0,(t18.v / t20.s) * 100.0,(t22.v / t24.s) * 100.0               FROM (SELECT SUM(t1.under20) AS v FROM film44 t1 WHERE t1.t_dark=1) t2 JOIN (SELECT count(t3.under20) as s FROM film44 t3 WHERE t3.t_dark=1) t4 JOIN (SELECT SUM(t5.20to24) AS v FROM film44 t5 WHERE t5.t_dark=1) t6 JOIN (SELECT count(t7.20to24) as s FROM film44 t7 WHERE t7.t_dark=1) t8 JOIN (SELECT SUM(t9.25to29) AS v FROM film44 t9 WHERE t9.t_dark=1) t10 JOIN (SELECT count(t11.25to29) as s FROM film44 t11 WHERE t11.t_dark=1) t12 JOIN (SELECT SUM(t13.30to34) AS v FROM film44 t13 WHERE t13.t_dark=1) t14 JOIN (SELECT count(t15.30to34) as s FROM film44 t15 WHERE t15.t_dark=1) t16 JOIN (SELECT SUM(t17.35to39) AS v FROM film44 t17 WHERE t17.t_dark=1) t18 JOIN (SELECT count(t19.35to39) as s FROM film44 t19 WHERE t19.t_dark=1) t20 JOIN (SELECT SUM(t21.above40) AS v FROM film44 t21 WHERE t21.t_dark=1) t22 JOIN (SELECT count(t23.above40) as s FROM film44 t23 WHERE t23.t_dark=1) t24'''"
   ]
  },
  {
   "cell_type": "code",
   "execution_count": 267,
   "metadata": {},
   "outputs": [],
   "source": [
    "cursor.execute(t_dark_sql)"
   ]
  },
  {
   "cell_type": "code",
   "execution_count": 268,
   "metadata": {},
   "outputs": [],
   "source": [
    "del t_dark_sql"
   ]
  },
  {
   "cell_type": "raw",
   "metadata": {},
   "source": [
    "短片"
   ]
  },
  {
   "cell_type": "code",
   "execution_count": 269,
   "metadata": {},
   "outputs": [],
   "source": [
    "t_short_sql = '''insert into table relation_bet_age_and_class SELECT 't_short',(t2.v / t4.s) * 100.0,(t6.v / t8.s) * 100.0,(t10.v / t12.s) * 100.0,(t14.v / t16.s) * 100.0,(t18.v / t20.s) * 100.0,(t22.v / t24.s) * 100.0               FROM (SELECT SUM(t1.under20) AS v FROM film44 t1 WHERE t1.t_short=1) t2 JOIN (SELECT count(t3.under20) as s FROM film44 t3 WHERE t3.t_short=1) t4 JOIN (SELECT SUM(t5.20to24) AS v FROM film44 t5 WHERE t5.t_short=1) t6 JOIN (SELECT count(t7.20to24) as s FROM film44 t7 WHERE t7.t_short=1) t8 JOIN (SELECT SUM(t9.25to29) AS v FROM film44 t9 WHERE t9.t_short=1) t10 JOIN (SELECT count(t11.25to29) as s FROM film44 t11 WHERE t11.t_short=1) t12 JOIN (SELECT SUM(t13.30to34) AS v FROM film44 t13 WHERE t13.t_short=1) t14 JOIN (SELECT count(t15.30to34) as s FROM film44 t15 WHERE t15.t_short=1) t16 JOIN (SELECT SUM(t17.35to39) AS v FROM film44 t17 WHERE t17.t_short=1) t18 JOIN (SELECT count(t19.35to39) as s FROM film44 t19 WHERE t19.t_short=1) t20 JOIN (SELECT SUM(t21.above40) AS v FROM film44 t21 WHERE t21.t_short=1) t22 JOIN (SELECT count(t23.above40) as s FROM film44 t23 WHERE t23.t_short=1) t24'''"
   ]
  },
  {
   "cell_type": "code",
   "execution_count": 270,
   "metadata": {},
   "outputs": [],
   "source": [
    "cursor.execute(t_short_sql)"
   ]
  },
  {
   "cell_type": "code",
   "execution_count": 271,
   "metadata": {},
   "outputs": [],
   "source": [
    "del t_short_sql"
   ]
  },
  {
   "cell_type": "raw",
   "metadata": {},
   "source": [
    "纪录片"
   ]
  },
  {
   "cell_type": "code",
   "execution_count": 272,
   "metadata": {},
   "outputs": [],
   "source": [
    "t_documentary_sql = '''insert into table relation_bet_age_and_class SELECT 't_documentary',(t2.v / t4.s) * 100.0,(t6.v / t8.s) * 100.0,(t10.v / t12.s) * 100.0,(t14.v / t16.s) * 100.0,(t18.v / t20.s) * 100.0,(t22.v / t24.s) * 100.0               FROM (SELECT SUM(t1.under20) AS v FROM film44 t1 WHERE t1.t_documentary=1) t2 JOIN (SELECT count(t3.under20) as s FROM film44 t3 WHERE t3.t_documentary=1) t4 JOIN (SELECT SUM(t5.20to24) AS v FROM film44 t5 WHERE t5.t_documentary=1) t6 JOIN (SELECT count(t7.20to24) as s FROM film44 t7 WHERE t7.t_documentary=1) t8 JOIN (SELECT SUM(t9.25to29) AS v FROM film44 t9 WHERE t9.t_documentary=1) t10 JOIN (SELECT count(t11.25to29) as s FROM film44 t11 WHERE t11.t_documentary=1) t12 JOIN (SELECT SUM(t13.30to34) AS v FROM film44 t13 WHERE t13.t_documentary=1) t14 JOIN (SELECT count(t15.30to34) as s FROM film44 t15 WHERE t15.t_documentary=1) t16 JOIN (SELECT SUM(t17.35to39) AS v FROM film44 t17 WHERE t17.t_documentary=1) t18 JOIN (SELECT count(t19.35to39) as s FROM film44 t19 WHERE t19.t_documentary=1) t20 JOIN (SELECT SUM(t21.above40) AS v FROM film44 t21 WHERE t21.t_documentary=1) t22 JOIN (SELECT count(t23.above40) as s FROM film44 t23 WHERE t23.t_documentary=1) t24'''"
   ]
  },
  {
   "cell_type": "code",
   "execution_count": 273,
   "metadata": {},
   "outputs": [],
   "source": [
    "cursor.execute(t_documentary_sql)"
   ]
  },
  {
   "cell_type": "code",
   "execution_count": 274,
   "metadata": {},
   "outputs": [],
   "source": [
    "del t_documentary_sql"
   ]
  },
  {
   "cell_type": "raw",
   "metadata": {},
   "source": [
    "其他"
   ]
  },
  {
   "cell_type": "code",
   "execution_count": 275,
   "metadata": {},
   "outputs": [],
   "source": [
    "t_others_sql = '''insert into table relation_bet_age_and_class SELECT 't_others',(t2.v / t4.s) * 100.0,(t6.v / t8.s) * 100.0,(t10.v / t12.s) * 100.0,(t14.v / t16.s) * 100.0,(t18.v / t20.s) * 100.0,(t22.v / t24.s) * 100.0               FROM (SELECT SUM(t1.under20) AS v FROM film44 t1 WHERE t1.t_others=1) t2 JOIN (SELECT count(t3.under20) as s FROM film44 t3 WHERE t3.t_others=1) t4 JOIN (SELECT SUM(t5.20to24) AS v FROM film44 t5 WHERE t5.t_others=1) t6 JOIN (SELECT count(t7.20to24) as s FROM film44 t7 WHERE t7.t_others=1) t8 JOIN (SELECT SUM(t9.25to29) AS v FROM film44 t9 WHERE t9.t_others=1) t10 JOIN (SELECT count(t11.25to29) as s FROM film44 t11 WHERE t11.t_others=1) t12 JOIN (SELECT SUM(t13.30to34) AS v FROM film44 t13 WHERE t13.t_others=1) t14 JOIN (SELECT count(t15.30to34) as s FROM film44 t15 WHERE t15.t_others=1) t16 JOIN (SELECT SUM(t17.35to39) AS v FROM film44 t17 WHERE t17.t_others=1) t18 JOIN (SELECT count(t19.35to39) as s FROM film44 t19 WHERE t19.t_others=1) t20 JOIN (SELECT SUM(t21.above40) AS v FROM film44 t21 WHERE t21.t_others=1) t22 JOIN (SELECT count(t23.above40) as s FROM film44 t23 WHERE t23.t_others=1) t24'''"
   ]
  },
  {
   "cell_type": "code",
   "execution_count": 276,
   "metadata": {},
   "outputs": [],
   "source": [
    "cursor.execute(t_others_sql)"
   ]
  },
  {
   "cell_type": "code",
   "execution_count": 277,
   "metadata": {},
   "outputs": [],
   "source": [
    "del t_others_sql"
   ]
  },
  {
   "cell_type": "raw",
   "metadata": {},
   "source": [
    "大陆"
   ]
  },
  {
   "cell_type": "code",
   "execution_count": 278,
   "metadata": {},
   "outputs": [],
   "source": [
    "c_Mainland_sql = '''insert into table relation_bet_age_and_class SELECT 'c_Mainland',(t2.v / t4.s) * 100.0,(t6.v / t8.s) * 100.0,(t10.v / t12.s) * 100.0,(t14.v / t16.s) * 100.0,(t18.v / t20.s) * 100.0,(t22.v / t24.s) * 100.0               FROM (SELECT SUM(t1.under20) AS v FROM film44 t1 WHERE t1.c_Mainland=1) t2 JOIN (SELECT count(t3.under20) as s FROM film44 t3 WHERE t3.c_Mainland=1) t4 JOIN (SELECT SUM(t5.20to24) AS v FROM film44 t5 WHERE t5.c_Mainland=1) t6 JOIN (SELECT count(t7.20to24) as s FROM film44 t7 WHERE t7.c_Mainland=1) t8 JOIN (SELECT SUM(t9.25to29) AS v FROM film44 t9 WHERE t9.c_Mainland=1) t10 JOIN (SELECT count(t11.25to29) as s FROM film44 t11 WHERE t11.c_Mainland=1) t12 JOIN (SELECT SUM(t13.30to34) AS v FROM film44 t13 WHERE t13.c_Mainland=1) t14 JOIN (SELECT count(t15.30to34) as s FROM film44 t15 WHERE t15.c_Mainland=1) t16 JOIN (SELECT SUM(t17.35to39) AS v FROM film44 t17 WHERE t17.c_Mainland=1) t18 JOIN (SELECT count(t19.35to39) as s FROM film44 t19 WHERE t19.c_Mainland=1) t20 JOIN (SELECT SUM(t21.above40) AS v FROM film44 t21 WHERE t21.c_Mainland=1) t22 JOIN (SELECT count(t23.above40) as s FROM film44 t23 WHERE t23.c_Mainland=1) t24'''"
   ]
  },
  {
   "cell_type": "code",
   "execution_count": 279,
   "metadata": {},
   "outputs": [],
   "source": [
    "cursor.execute(c_Mainland_sql)"
   ]
  },
  {
   "cell_type": "code",
   "execution_count": 280,
   "metadata": {},
   "outputs": [],
   "source": [
    "del c_Mainland_sql"
   ]
  },
  {
   "cell_type": "raw",
   "metadata": {},
   "source": [
    "美国"
   ]
  },
  {
   "cell_type": "code",
   "execution_count": 281,
   "metadata": {},
   "outputs": [],
   "source": [
    "c_America_sql = '''insert into table relation_bet_age_and_class SELECT 'c_America',(t2.v / t4.s) * 100.0,(t6.v / t8.s) * 100.0,(t10.v / t12.s) * 100.0,(t14.v / t16.s) * 100.0,(t18.v / t20.s) * 100.0,(t22.v / t24.s) * 100.0               FROM (SELECT SUM(t1.under20) AS v FROM film44 t1 WHERE t1.c_America=1) t2 JOIN (SELECT count(t3.under20) as s FROM film44 t3 WHERE t3.c_America=1) t4 JOIN (SELECT SUM(t5.20to24) AS v FROM film44 t5 WHERE t5.c_America=1) t6 JOIN (SELECT count(t7.20to24) as s FROM film44 t7 WHERE t7.c_America=1) t8 JOIN (SELECT SUM(t9.25to29) AS v FROM film44 t9 WHERE t9.c_America=1) t10 JOIN (SELECT count(t11.25to29) as s FROM film44 t11 WHERE t11.c_America=1) t12 JOIN (SELECT SUM(t13.30to34) AS v FROM film44 t13 WHERE t13.c_America=1) t14 JOIN (SELECT count(t15.30to34) as s FROM film44 t15 WHERE t15.c_America=1) t16 JOIN (SELECT SUM(t17.35to39) AS v FROM film44 t17 WHERE t17.c_America=1) t18 JOIN (SELECT count(t19.35to39) as s FROM film44 t19 WHERE t19.c_America=1) t20 JOIN (SELECT SUM(t21.above40) AS v FROM film44 t21 WHERE t21.c_America=1) t22 JOIN (SELECT count(t23.above40) as s FROM film44 t23 WHERE t23.c_America=1) t24'''"
   ]
  },
  {
   "cell_type": "code",
   "execution_count": 282,
   "metadata": {},
   "outputs": [],
   "source": [
    "cursor.execute(c_America_sql)"
   ]
  },
  {
   "cell_type": "code",
   "execution_count": 283,
   "metadata": {},
   "outputs": [],
   "source": [
    "del c_America_sql"
   ]
  },
  {
   "cell_type": "raw",
   "metadata": {},
   "source": [
    "韩国"
   ]
  },
  {
   "cell_type": "code",
   "execution_count": 284,
   "metadata": {},
   "outputs": [],
   "source": [
    "c_Korea_sql = '''insert into table relation_bet_age_and_class SELECT 'c_Korea',(t2.v / t4.s) * 100.0,(t6.v / t8.s) * 100.0,(t10.v / t12.s) * 100.0,(t14.v / t16.s) * 100.0,(t18.v / t20.s) * 100.0,(t22.v / t24.s) * 100.0               FROM (SELECT SUM(t1.under20) AS v FROM film44 t1 WHERE t1.c_Korea=1) t2 JOIN (SELECT count(t3.under20) as s FROM film44 t3 WHERE t3.c_Korea=1) t4 JOIN (SELECT SUM(t5.20to24) AS v FROM film44 t5 WHERE t5.c_Korea=1) t6 JOIN (SELECT count(t7.20to24) as s FROM film44 t7 WHERE t7.c_Korea=1) t8 JOIN (SELECT SUM(t9.25to29) AS v FROM film44 t9 WHERE t9.c_Korea=1) t10 JOIN (SELECT count(t11.25to29) as s FROM film44 t11 WHERE t11.c_Korea=1) t12 JOIN (SELECT SUM(t13.30to34) AS v FROM film44 t13 WHERE t13.c_Korea=1) t14 JOIN (SELECT count(t15.30to34) as s FROM film44 t15 WHERE t15.c_Korea=1) t16 JOIN (SELECT SUM(t17.35to39) AS v FROM film44 t17 WHERE t17.c_Korea=1) t18 JOIN (SELECT count(t19.35to39) as s FROM film44 t19 WHERE t19.c_Korea=1) t20 JOIN (SELECT SUM(t21.above40) AS v FROM film44 t21 WHERE t21.c_Korea=1) t22 JOIN (SELECT count(t23.above40) as s FROM film44 t23 WHERE t23.c_Korea=1) t24'''"
   ]
  },
  {
   "cell_type": "code",
   "execution_count": 286,
   "metadata": {},
   "outputs": [],
   "source": [
    "cursor.execute(c_Korea_sql)"
   ]
  },
  {
   "cell_type": "code",
   "execution_count": 287,
   "metadata": {},
   "outputs": [],
   "source": [
    "del c_Korea_sql"
   ]
  },
  {
   "cell_type": "raw",
   "metadata": {},
   "source": [
    "日本"
   ]
  },
  {
   "cell_type": "code",
   "execution_count": 288,
   "metadata": {},
   "outputs": [],
   "source": [
    "c_Japan_sql = '''insert into table relation_bet_age_and_class SELECT 'c_Japan',(t2.v / t4.s) * 100.0,(t6.v / t8.s) * 100.0,(t10.v / t12.s) * 100.0,(t14.v / t16.s) * 100.0,(t18.v / t20.s) * 100.0,(t22.v / t24.s) * 100.0               FROM (SELECT SUM(t1.under20) AS v FROM film44 t1 WHERE t1.c_Japan=1) t2 JOIN (SELECT count(t3.under20) as s FROM film44 t3 WHERE t3.c_Japan=1) t4 JOIN (SELECT SUM(t5.20to24) AS v FROM film44 t5 WHERE t5.c_Japan=1) t6 JOIN (SELECT count(t7.20to24) as s FROM film44 t7 WHERE t7.c_Japan=1) t8 JOIN (SELECT SUM(t9.25to29) AS v FROM film44 t9 WHERE t9.c_Japan=1) t10 JOIN (SELECT count(t11.25to29) as s FROM film44 t11 WHERE t11.c_Japan=1) t12 JOIN (SELECT SUM(t13.30to34) AS v FROM film44 t13 WHERE t13.c_Japan=1) t14 JOIN (SELECT count(t15.30to34) as s FROM film44 t15 WHERE t15.c_Japan=1) t16 JOIN (SELECT SUM(t17.35to39) AS v FROM film44 t17 WHERE t17.c_Japan=1) t18 JOIN (SELECT count(t19.35to39) as s FROM film44 t19 WHERE t19.c_Japan=1) t20 JOIN (SELECT SUM(t21.above40) AS v FROM film44 t21 WHERE t21.c_Japan=1) t22 JOIN (SELECT count(t23.above40) as s FROM film44 t23 WHERE t23.c_Japan=1) t24'''"
   ]
  },
  {
   "cell_type": "code",
   "execution_count": 289,
   "metadata": {},
   "outputs": [],
   "source": [
    "cursor.execute(c_Japan_sql)"
   ]
  },
  {
   "cell_type": "code",
   "execution_count": 290,
   "metadata": {},
   "outputs": [],
   "source": [
    "del c_Japan_sql"
   ]
  },
  {
   "cell_type": "raw",
   "metadata": {},
   "source": [
    "香港"
   ]
  },
  {
   "cell_type": "code",
   "execution_count": 291,
   "metadata": {},
   "outputs": [],
   "source": [
    "c_Hongkong_sql = '''insert into table relation_bet_age_and_class SELECT 'c_Hongkong',(t2.v / t4.s) * 100.0,(t6.v / t8.s) * 100.0,(t10.v / t12.s) * 100.0,(t14.v / t16.s) * 100.0,(t18.v / t20.s) * 100.0,(t22.v / t24.s) * 100.0               FROM (SELECT SUM(t1.under20) AS v FROM film44 t1 WHERE t1.c_Hongkong=1) t2 JOIN (SELECT count(t3.under20) as s FROM film44 t3 WHERE t3.c_Hongkong=1) t4 JOIN (SELECT SUM(t5.20to24) AS v FROM film44 t5 WHERE t5.c_Hongkong=1) t6 JOIN (SELECT count(t7.20to24) as s FROM film44 t7 WHERE t7.c_Hongkong=1) t8 JOIN (SELECT SUM(t9.25to29) AS v FROM film44 t9 WHERE t9.c_Hongkong=1) t10 JOIN (SELECT count(t11.25to29) as s FROM film44 t11 WHERE t11.c_Hongkong=1) t12 JOIN (SELECT SUM(t13.30to34) AS v FROM film44 t13 WHERE t13.c_Hongkong=1) t14 JOIN (SELECT count(t15.30to34) as s FROM film44 t15 WHERE t15.c_Hongkong=1) t16 JOIN (SELECT SUM(t17.35to39) AS v FROM film44 t17 WHERE t17.c_Hongkong=1) t18 JOIN (SELECT count(t19.35to39) as s FROM film44 t19 WHERE t19.c_Hongkong=1) t20 JOIN (SELECT SUM(t21.above40) AS v FROM film44 t21 WHERE t21.c_Hongkong=1) t22 JOIN (SELECT count(t23.above40) as s FROM film44 t23 WHERE t23.c_Hongkong=1) t24'''"
   ]
  },
  {
   "cell_type": "code",
   "execution_count": 292,
   "metadata": {},
   "outputs": [],
   "source": [
    "cursor.execute(c_Hongkong_sql)"
   ]
  },
  {
   "cell_type": "code",
   "execution_count": 293,
   "metadata": {},
   "outputs": [],
   "source": [
    "del c_Hongkong_sql"
   ]
  },
  {
   "cell_type": "raw",
   "metadata": {},
   "source": [
    "台湾"
   ]
  },
  {
   "cell_type": "code",
   "execution_count": 294,
   "metadata": {},
   "outputs": [],
   "source": [
    "c_Taiwan_sql = '''insert into table relation_bet_age_and_class SELECT 'c_Taiwan',(t2.v / t4.s) * 100.0,(t6.v / t8.s) * 100.0,(t10.v / t12.s) * 100.0,(t14.v / t16.s) * 100.0,(t18.v / t20.s) * 100.0,(t22.v / t24.s) * 100.0               FROM (SELECT SUM(t1.under20) AS v FROM film44 t1 WHERE t1.c_Taiwan=1) t2 JOIN (SELECT count(t3.under20) as s FROM film44 t3 WHERE t3.c_Taiwan=1) t4 JOIN (SELECT SUM(t5.20to24) AS v FROM film44 t5 WHERE t5.c_Taiwan=1) t6 JOIN (SELECT count(t7.20to24) as s FROM film44 t7 WHERE t7.c_Taiwan=1) t8 JOIN (SELECT SUM(t9.25to29) AS v FROM film44 t9 WHERE t9.c_Taiwan=1) t10 JOIN (SELECT count(t11.25to29) as s FROM film44 t11 WHERE t11.c_Taiwan=1) t12 JOIN (SELECT SUM(t13.30to34) AS v FROM film44 t13 WHERE t13.c_Taiwan=1) t14 JOIN (SELECT count(t15.30to34) as s FROM film44 t15 WHERE t15.c_Taiwan=1) t16 JOIN (SELECT SUM(t17.35to39) AS v FROM film44 t17 WHERE t17.c_Taiwan=1) t18 JOIN (SELECT count(t19.35to39) as s FROM film44 t19 WHERE t19.c_Taiwan=1) t20 JOIN (SELECT SUM(t21.above40) AS v FROM film44 t21 WHERE t21.c_Taiwan=1) t22 JOIN (SELECT count(t23.above40) as s FROM film44 t23 WHERE t23.c_Taiwan=1) t24'''"
   ]
  },
  {
   "cell_type": "code",
   "execution_count": 295,
   "metadata": {},
   "outputs": [],
   "source": [
    "cursor.execute(c_Taiwan_sql)"
   ]
  },
  {
   "cell_type": "code",
   "execution_count": 296,
   "metadata": {},
   "outputs": [],
   "source": [
    "del c_Taiwan_sql"
   ]
  },
  {
   "cell_type": "raw",
   "metadata": {},
   "source": [
    "泰国"
   ]
  },
  {
   "cell_type": "code",
   "execution_count": 297,
   "metadata": {},
   "outputs": [],
   "source": [
    "c_Thailand_sql = '''insert into table relation_bet_age_and_class SELECT 'c_Thailand',(t2.v / t4.s) * 100.0,(t6.v / t8.s) * 100.0,(t10.v / t12.s) * 100.0,(t14.v / t16.s) * 100.0,(t18.v / t20.s) * 100.0,(t22.v / t24.s) * 100.0               FROM (SELECT SUM(t1.under20) AS v FROM film44 t1 WHERE t1.c_Thailand=1) t2 JOIN (SELECT count(t3.under20) as s FROM film44 t3 WHERE t3.c_Thailand=1) t4 JOIN (SELECT SUM(t5.20to24) AS v FROM film44 t5 WHERE t5.c_Thailand=1) t6 JOIN (SELECT count(t7.20to24) as s FROM film44 t7 WHERE t7.c_Thailand=1) t8 JOIN (SELECT SUM(t9.25to29) AS v FROM film44 t9 WHERE t9.c_Thailand=1) t10 JOIN (SELECT count(t11.25to29) as s FROM film44 t11 WHERE t11.c_Thailand=1) t12 JOIN (SELECT SUM(t13.30to34) AS v FROM film44 t13 WHERE t13.c_Thailand=1) t14 JOIN (SELECT count(t15.30to34) as s FROM film44 t15 WHERE t15.c_Thailand=1) t16 JOIN (SELECT SUM(t17.35to39) AS v FROM film44 t17 WHERE t17.c_Thailand=1) t18 JOIN (SELECT count(t19.35to39) as s FROM film44 t19 WHERE t19.c_Thailand=1) t20 JOIN (SELECT SUM(t21.above40) AS v FROM film44 t21 WHERE t21.c_Thailand=1) t22 JOIN (SELECT count(t23.above40) as s FROM film44 t23 WHERE t23.c_Thailand=1) t24'''"
   ]
  },
  {
   "cell_type": "code",
   "execution_count": 298,
   "metadata": {},
   "outputs": [],
   "source": [
    "cursor.execute(c_Thailand_sql)"
   ]
  },
  {
   "cell_type": "code",
   "execution_count": 299,
   "metadata": {},
   "outputs": [],
   "source": [
    "del c_Thailand_sql"
   ]
  },
  {
   "cell_type": "raw",
   "metadata": {},
   "source": [
    "印度"
   ]
  },
  {
   "cell_type": "code",
   "execution_count": 300,
   "metadata": {},
   "outputs": [],
   "source": [
    "c_India_sql = '''insert into table relation_bet_age_and_class SELECT 'c_India',(t2.v / t4.s) * 100.0,(t6.v / t8.s) * 100.0,(t10.v / t12.s) * 100.0,(t14.v / t16.s) * 100.0,(t18.v / t20.s) * 100.0,(t22.v / t24.s) * 100.0               FROM (SELECT SUM(t1.under20) AS v FROM film44 t1 WHERE t1.c_India=1) t2 JOIN (SELECT count(t3.under20) as s FROM film44 t3 WHERE t3.c_India=1) t4 JOIN (SELECT SUM(t5.20to24) AS v FROM film44 t5 WHERE t5.c_India=1) t6 JOIN (SELECT count(t7.20to24) as s FROM film44 t7 WHERE t7.c_India=1) t8 JOIN (SELECT SUM(t9.25to29) AS v FROM film44 t9 WHERE t9.c_India=1) t10 JOIN (SELECT count(t11.25to29) as s FROM film44 t11 WHERE t11.c_India=1) t12 JOIN (SELECT SUM(t13.30to34) AS v FROM film44 t13 WHERE t13.c_India=1) t14 JOIN (SELECT count(t15.30to34) as s FROM film44 t15 WHERE t15.c_India=1) t16 JOIN (SELECT SUM(t17.35to39) AS v FROM film44 t17 WHERE t17.c_India=1) t18 JOIN (SELECT count(t19.35to39) as s FROM film44 t19 WHERE t19.c_India=1) t20 JOIN (SELECT SUM(t21.above40) AS v FROM film44 t21 WHERE t21.c_India=1) t22 JOIN (SELECT count(t23.above40) as s FROM film44 t23 WHERE t23.c_India=1) t24'''"
   ]
  },
  {
   "cell_type": "code",
   "execution_count": 301,
   "metadata": {},
   "outputs": [],
   "source": [
    "cursor.execute(c_India_sql)"
   ]
  },
  {
   "cell_type": "code",
   "execution_count": 302,
   "metadata": {},
   "outputs": [],
   "source": [
    "del c_India_sql"
   ]
  },
  {
   "cell_type": "raw",
   "metadata": {},
   "source": [
    "法国"
   ]
  },
  {
   "cell_type": "code",
   "execution_count": 303,
   "metadata": {},
   "outputs": [],
   "source": [
    "c_France_sql = '''insert into table relation_bet_age_and_class SELECT 'c_France',(t2.v / t4.s) * 100.0,(t6.v / t8.s) * 100.0,(t10.v / t12.s) * 100.0,(t14.v / t16.s) * 100.0,(t18.v / t20.s) * 100.0,(t22.v / t24.s) * 100.0               FROM (SELECT SUM(t1.under20) AS v FROM film44 t1 WHERE t1.c_France=1) t2 JOIN (SELECT count(t3.under20) as s FROM film44 t3 WHERE t3.c_France=1) t4 JOIN (SELECT SUM(t5.20to24) AS v FROM film44 t5 WHERE t5.c_France=1) t6 JOIN (SELECT count(t7.20to24) as s FROM film44 t7 WHERE t7.c_France=1) t8 JOIN (SELECT SUM(t9.25to29) AS v FROM film44 t9 WHERE t9.c_France=1) t10 JOIN (SELECT count(t11.25to29) as s FROM film44 t11 WHERE t11.c_France=1) t12 JOIN (SELECT SUM(t13.30to34) AS v FROM film44 t13 WHERE t13.c_France=1) t14 JOIN (SELECT count(t15.30to34) as s FROM film44 t15 WHERE t15.c_France=1) t16 JOIN (SELECT SUM(t17.35to39) AS v FROM film44 t17 WHERE t17.c_France=1) t18 JOIN (SELECT count(t19.35to39) as s FROM film44 t19 WHERE t19.c_France=1) t20 JOIN (SELECT SUM(t21.above40) AS v FROM film44 t21 WHERE t21.c_France=1) t22 JOIN (SELECT count(t23.above40) as s FROM film44 t23 WHERE t23.c_France=1) t24'''"
   ]
  },
  {
   "cell_type": "code",
   "execution_count": 304,
   "metadata": {},
   "outputs": [],
   "source": [
    "cursor.execute(c_France_sql)"
   ]
  },
  {
   "cell_type": "code",
   "execution_count": 305,
   "metadata": {},
   "outputs": [],
   "source": [
    "del c_France_sql"
   ]
  },
  {
   "cell_type": "raw",
   "metadata": {},
   "source": [
    "英国"
   ]
  },
  {
   "cell_type": "code",
   "execution_count": 306,
   "metadata": {},
   "outputs": [],
   "source": [
    "c_England_sql = '''insert into table relation_bet_age_and_class SELECT 'c_England',(t2.v / t4.s) * 100.0,(t6.v / t8.s) * 100.0,(t10.v / t12.s) * 100.0,(t14.v / t16.s) * 100.0,(t18.v / t20.s) * 100.0,(t22.v / t24.s) * 100.0               FROM (SELECT SUM(t1.under20) AS v FROM film44 t1 WHERE t1.c_England=1) t2 JOIN (SELECT count(t3.under20) as s FROM film44 t3 WHERE t3.c_England=1) t4 JOIN (SELECT SUM(t5.20to24) AS v FROM film44 t5 WHERE t5.c_England=1) t6 JOIN (SELECT count(t7.20to24) as s FROM film44 t7 WHERE t7.c_England=1) t8 JOIN (SELECT SUM(t9.25to29) AS v FROM film44 t9 WHERE t9.c_England=1) t10 JOIN (SELECT count(t11.25to29) as s FROM film44 t11 WHERE t11.c_England=1) t12 JOIN (SELECT SUM(t13.30to34) AS v FROM film44 t13 WHERE t13.c_England=1) t14 JOIN (SELECT count(t15.30to34) as s FROM film44 t15 WHERE t15.c_England=1) t16 JOIN (SELECT SUM(t17.35to39) AS v FROM film44 t17 WHERE t17.c_England=1) t18 JOIN (SELECT count(t19.35to39) as s FROM film44 t19 WHERE t19.c_England=1) t20 JOIN (SELECT SUM(t21.above40) AS v FROM film44 t21 WHERE t21.c_England=1) t22 JOIN (SELECT count(t23.above40) as s FROM film44 t23 WHERE t23.c_England=1) t24'''"
   ]
  },
  {
   "cell_type": "code",
   "execution_count": 307,
   "metadata": {},
   "outputs": [],
   "source": [
    "cursor.execute(c_England_sql)"
   ]
  },
  {
   "cell_type": "code",
   "execution_count": 308,
   "metadata": {},
   "outputs": [],
   "source": [
    "del c_England_sql"
   ]
  },
  {
   "cell_type": "raw",
   "metadata": {},
   "source": [
    "俄罗斯"
   ]
  },
  {
   "cell_type": "code",
   "execution_count": 309,
   "metadata": {},
   "outputs": [],
   "source": [
    "c_Russia_sql = '''insert into table relation_bet_age_and_class SELECT 'c_Russia',(t2.v / t4.s) * 100.0,(t6.v / t8.s) * 100.0,(t10.v / t12.s) * 100.0,(t14.v / t16.s) * 100.0,(t18.v / t20.s) * 100.0,(t22.v / t24.s) * 100.0               FROM (SELECT SUM(t1.under20) AS v FROM film44 t1 WHERE t1.c_Russia=1) t2 JOIN (SELECT count(t3.under20) as s FROM film44 t3 WHERE t3.c_Russia=1) t4 JOIN (SELECT SUM(t5.20to24) AS v FROM film44 t5 WHERE t5.c_Russia=1) t6 JOIN (SELECT count(t7.20to24) as s FROM film44 t7 WHERE t7.c_Russia=1) t8 JOIN (SELECT SUM(t9.25to29) AS v FROM film44 t9 WHERE t9.c_Russia=1) t10 JOIN (SELECT count(t11.25to29) as s FROM film44 t11 WHERE t11.c_Russia=1) t12 JOIN (SELECT SUM(t13.30to34) AS v FROM film44 t13 WHERE t13.c_Russia=1) t14 JOIN (SELECT count(t15.30to34) as s FROM film44 t15 WHERE t15.c_Russia=1) t16 JOIN (SELECT SUM(t17.35to39) AS v FROM film44 t17 WHERE t17.c_Russia=1) t18 JOIN (SELECT count(t19.35to39) as s FROM film44 t19 WHERE t19.c_Russia=1) t20 JOIN (SELECT SUM(t21.above40) AS v FROM film44 t21 WHERE t21.c_Russia=1) t22 JOIN (SELECT count(t23.above40) as s FROM film44 t23 WHERE t23.c_Russia=1) t24'''"
   ]
  },
  {
   "cell_type": "code",
   "execution_count": 310,
   "metadata": {},
   "outputs": [],
   "source": [
    "cursor.execute(c_Russia_sql)"
   ]
  },
  {
   "cell_type": "code",
   "execution_count": 311,
   "metadata": {},
   "outputs": [],
   "source": [
    "del c_Russia_sql"
   ]
  },
  {
   "cell_type": "raw",
   "metadata": {},
   "source": [
    "意大利"
   ]
  },
  {
   "cell_type": "code",
   "execution_count": 312,
   "metadata": {},
   "outputs": [],
   "source": [
    "c_Italy_sql = '''insert into table relation_bet_age_and_class SELECT 'c_Italy',(t2.v / t4.s) * 100.0,(t6.v / t8.s) * 100.0,(t10.v / t12.s) * 100.0,(t14.v / t16.s) * 100.0,(t18.v / t20.s) * 100.0,(t22.v / t24.s) * 100.0               FROM (SELECT SUM(t1.under20) AS v FROM film44 t1 WHERE t1.c_Italy=1) t2 JOIN (SELECT count(t3.under20) as s FROM film44 t3 WHERE t3.c_Italy=1) t4 JOIN (SELECT SUM(t5.20to24) AS v FROM film44 t5 WHERE t5.c_Italy=1) t6 JOIN (SELECT count(t7.20to24) as s FROM film44 t7 WHERE t7.c_Italy=1) t8 JOIN (SELECT SUM(t9.25to29) AS v FROM film44 t9 WHERE t9.c_Italy=1) t10 JOIN (SELECT count(t11.25to29) as s FROM film44 t11 WHERE t11.c_Italy=1) t12 JOIN (SELECT SUM(t13.30to34) AS v FROM film44 t13 WHERE t13.c_Italy=1) t14 JOIN (SELECT count(t15.30to34) as s FROM film44 t15 WHERE t15.c_Italy=1) t16 JOIN (SELECT SUM(t17.35to39) AS v FROM film44 t17 WHERE t17.c_Italy=1) t18 JOIN (SELECT count(t19.35to39) as s FROM film44 t19 WHERE t19.c_Italy=1) t20 JOIN (SELECT SUM(t21.above40) AS v FROM film44 t21 WHERE t21.c_Italy=1) t22 JOIN (SELECT count(t23.above40) as s FROM film44 t23 WHERE t23.c_Italy=1) t24'''"
   ]
  },
  {
   "cell_type": "code",
   "execution_count": 313,
   "metadata": {},
   "outputs": [],
   "source": [
    "cursor.execute(c_Italy_sql)"
   ]
  },
  {
   "cell_type": "code",
   "execution_count": 314,
   "metadata": {},
   "outputs": [],
   "source": [
    "del c_Italy_sql"
   ]
  },
  {
   "cell_type": "raw",
   "metadata": {},
   "source": [
    "西班牙"
   ]
  },
  {
   "cell_type": "code",
   "execution_count": 318,
   "metadata": {},
   "outputs": [],
   "source": [
    "c_Spain_sql = '''insert into table relation_bet_age_and_class SELECT 'c_Spain',(t2.v / t4.s) * 100.0,(t6.v / t8.s) * 100.0,(t10.v / t12.s) * 100.0,(t14.v / t16.s) * 100.0,(t18.v / t20.s) * 100.0,(t22.v / t24.s) * 100.0               FROM (SELECT SUM(t1.under20) AS v FROM film44 t1 WHERE t1.c_Spain=1) t2 JOIN (SELECT count(t3.under20) as s FROM film44 t3 WHERE t3.c_Spain=1) t4 JOIN (SELECT SUM(t5.20to24) AS v FROM film44 t5 WHERE t5.c_Spain=1) t6 JOIN (SELECT count(t7.20to24) as s FROM film44 t7 WHERE t7.c_Spain=1) t8 JOIN (SELECT SUM(t9.25to29) AS v FROM film44 t9 WHERE t9.c_Spain=1) t10 JOIN (SELECT count(t11.25to29) as s FROM film44 t11 WHERE t11.c_Spain=1) t12 JOIN (SELECT SUM(t13.30to34) AS v FROM film44 t13 WHERE t13.c_Spain=1) t14 JOIN (SELECT count(t15.30to34) as s FROM film44 t15 WHERE t15.c_Spain=1) t16 JOIN (SELECT SUM(t17.35to39) AS v FROM film44 t17 WHERE t17.c_Spain=1) t18 JOIN (SELECT count(t19.35to39) as s FROM film44 t19 WHERE t19.c_Spain=1) t20 JOIN (SELECT SUM(t21.above40) AS v FROM film44 t21 WHERE t21.c_Spain=1) t22 JOIN (SELECT count(t23.above40) as s FROM film44 t23 WHERE t23.c_Spain=1) t24'''"
   ]
  },
  {
   "cell_type": "code",
   "execution_count": 319,
   "metadata": {},
   "outputs": [],
   "source": [
    "cursor.execute(c_Spain_sql)"
   ]
  },
  {
   "cell_type": "code",
   "execution_count": 320,
   "metadata": {},
   "outputs": [],
   "source": [
    "del c_Spain_sql"
   ]
  },
  {
   "cell_type": "raw",
   "metadata": {},
   "source": [
    "德国"
   ]
  },
  {
   "cell_type": "code",
   "execution_count": 321,
   "metadata": {},
   "outputs": [],
   "source": [
    "c_Germany_sql = '''insert into table relation_bet_age_and_class SELECT 'c_Germany',(t2.v / t4.s) * 100.0,(t6.v / t8.s) * 100.0,(t10.v / t12.s) * 100.0,(t14.v / t16.s) * 100.0,(t18.v / t20.s) * 100.0,(t22.v / t24.s) * 100.0               FROM (SELECT SUM(t1.under20) AS v FROM film44 t1 WHERE t1.c_Germany=1) t2 JOIN (SELECT count(t3.under20) as s FROM film44 t3 WHERE t3.c_Germany=1) t4 JOIN (SELECT SUM(t5.20to24) AS v FROM film44 t5 WHERE t5.c_Germany=1) t6 JOIN (SELECT count(t7.20to24) as s FROM film44 t7 WHERE t7.c_Germany=1) t8 JOIN (SELECT SUM(t9.25to29) AS v FROM film44 t9 WHERE t9.c_Germany=1) t10 JOIN (SELECT count(t11.25to29) as s FROM film44 t11 WHERE t11.c_Germany=1) t12 JOIN (SELECT SUM(t13.30to34) AS v FROM film44 t13 WHERE t13.c_Germany=1) t14 JOIN (SELECT count(t15.30to34) as s FROM film44 t15 WHERE t15.c_Germany=1) t16 JOIN (SELECT SUM(t17.35to39) AS v FROM film44 t17 WHERE t17.c_Germany=1) t18 JOIN (SELECT count(t19.35to39) as s FROM film44 t19 WHERE t19.c_Germany=1) t20 JOIN (SELECT SUM(t21.above40) AS v FROM film44 t21 WHERE t21.c_Germany=1) t22 JOIN (SELECT count(t23.above40) as s FROM film44 t23 WHERE t23.c_Germany=1) t24'''"
   ]
  },
  {
   "cell_type": "code",
   "execution_count": 322,
   "metadata": {},
   "outputs": [],
   "source": [
    "cursor.execute(c_Germany_sql)"
   ]
  },
  {
   "cell_type": "code",
   "execution_count": 323,
   "metadata": {},
   "outputs": [],
   "source": [
    "del c_Germany_sql"
   ]
  },
  {
   "cell_type": "raw",
   "metadata": {},
   "source": [
    "波兰"
   ]
  },
  {
   "cell_type": "code",
   "execution_count": 324,
   "metadata": {},
   "outputs": [],
   "source": [
    "c_Poland_sql = '''insert into table relation_bet_age_and_class SELECT 'c_Poland',(t2.v / t4.s) * 100.0,(t6.v / t8.s) * 100.0,(t10.v / t12.s) * 100.0,(t14.v / t16.s) * 100.0,(t18.v / t20.s) * 100.0,(t22.v / t24.s) * 100.0               FROM (SELECT SUM(t1.under20) AS v FROM film44 t1 WHERE t1.c_Poland=1) t2 JOIN (SELECT count(t3.under20) as s FROM film44 t3 WHERE t3.c_Poland=1) t4 JOIN (SELECT SUM(t5.20to24) AS v FROM film44 t5 WHERE t5.c_Poland=1) t6 JOIN (SELECT count(t7.20to24) as s FROM film44 t7 WHERE t7.c_Poland=1) t8 JOIN (SELECT SUM(t9.25to29) AS v FROM film44 t9 WHERE t9.c_Poland=1) t10 JOIN (SELECT count(t11.25to29) as s FROM film44 t11 WHERE t11.c_Poland=1) t12 JOIN (SELECT SUM(t13.30to34) AS v FROM film44 t13 WHERE t13.c_Poland=1) t14 JOIN (SELECT count(t15.30to34) as s FROM film44 t15 WHERE t15.c_Poland=1) t16 JOIN (SELECT SUM(t17.35to39) AS v FROM film44 t17 WHERE t17.c_Poland=1) t18 JOIN (SELECT count(t19.35to39) as s FROM film44 t19 WHERE t19.c_Poland=1) t20 JOIN (SELECT SUM(t21.above40) AS v FROM film44 t21 WHERE t21.c_Poland=1) t22 JOIN (SELECT count(t23.above40) as s FROM film44 t23 WHERE t23.c_Poland=1) t24'''"
   ]
  },
  {
   "cell_type": "code",
   "execution_count": 325,
   "metadata": {},
   "outputs": [],
   "source": [
    "cursor.execute(c_Poland_sql)"
   ]
  },
  {
   "cell_type": "code",
   "execution_count": 326,
   "metadata": {},
   "outputs": [],
   "source": [
    "del c_Poland_sql"
   ]
  },
  {
   "cell_type": "raw",
   "metadata": {},
   "source": [
    "澳大利亚"
   ]
  },
  {
   "cell_type": "code",
   "execution_count": 327,
   "metadata": {},
   "outputs": [],
   "source": [
    "c_Australia_sql = '''insert into table relation_bet_age_and_class SELECT 'c_Australia',(t2.v / t4.s) * 100.0,(t6.v / t8.s) * 100.0,(t10.v / t12.s) * 100.0,(t14.v / t16.s) * 100.0,(t18.v / t20.s) * 100.0,(t22.v / t24.s) * 100.0               FROM (SELECT SUM(t1.under20) AS v FROM film44 t1 WHERE t1.c_Australia=1) t2 JOIN (SELECT count(t3.under20) as s FROM film44 t3 WHERE t3.c_Australia=1) t4 JOIN (SELECT SUM(t5.20to24) AS v FROM film44 t5 WHERE t5.c_Australia=1) t6 JOIN (SELECT count(t7.20to24) as s FROM film44 t7 WHERE t7.c_Australia=1) t8 JOIN (SELECT SUM(t9.25to29) AS v FROM film44 t9 WHERE t9.c_Australia=1) t10 JOIN (SELECT count(t11.25to29) as s FROM film44 t11 WHERE t11.c_Australia=1) t12 JOIN (SELECT SUM(t13.30to34) AS v FROM film44 t13 WHERE t13.c_Australia=1) t14 JOIN (SELECT count(t15.30to34) as s FROM film44 t15 WHERE t15.c_Australia=1) t16 JOIN (SELECT SUM(t17.35to39) AS v FROM film44 t17 WHERE t17.c_Australia=1) t18 JOIN (SELECT count(t19.35to39) as s FROM film44 t19 WHERE t19.c_Australia=1) t20 JOIN (SELECT SUM(t21.above40) AS v FROM film44 t21 WHERE t21.c_Australia=1) t22 JOIN (SELECT count(t23.above40) as s FROM film44 t23 WHERE t23.c_Australia=1) t24'''"
   ]
  },
  {
   "cell_type": "code",
   "execution_count": 328,
   "metadata": {},
   "outputs": [],
   "source": [
    "\n",
    "cursor.execute(c_Australia_sql)"
   ]
  },
  {
   "cell_type": "code",
   "execution_count": 329,
   "metadata": {},
   "outputs": [],
   "source": [
    "del c_Australia_sql"
   ]
  },
  {
   "cell_type": "raw",
   "metadata": {},
   "source": [
    "伊朗"
   ]
  },
  {
   "cell_type": "code",
   "execution_count": 333,
   "metadata": {},
   "outputs": [],
   "source": [
    "c_Iran_sql = '''insert into table relation_bet_age_and_class SELECT 'c_Iran',(t2.v / t4.s) * 100.0,(t6.v / t8.s) * 100.0,(t10.v / t12.s) * 100.0,(t14.v / t16.s) * 100.0,(t18.v / t20.s) * 100.0,(t22.v / t24.s) * 100.0               FROM (SELECT SUM(t1.under20) AS v FROM film44 t1 WHERE t1.c_Iran=1) t2 JOIN (SELECT count(t3.under20) as s FROM film44 t3 WHERE t3.c_Iran=1) t4 JOIN (SELECT SUM(t5.20to24) AS v FROM film44 t5 WHERE t5.c_Iran=1) t6 JOIN (SELECT count(t7.20to24) as s FROM film44 t7 WHERE t7.c_Iran=1) t8 JOIN (SELECT SUM(t9.25to29) AS v FROM film44 t9 WHERE t9.c_Iran=1) t10 JOIN (SELECT count(t11.25to29) as s FROM film44 t11 WHERE t11.c_Iran=1) t12 JOIN (SELECT SUM(t13.30to34) AS v FROM film44 t13 WHERE t13.c_Iran=1) t14 JOIN (SELECT count(t15.30to34) as s FROM film44 t15 WHERE t15.c_Iran=1) t16 JOIN (SELECT SUM(t17.35to39) AS v FROM film44 t17 WHERE t17.c_Iran=1) t18 JOIN (SELECT count(t19.35to39) as s FROM film44 t19 WHERE t19.c_Iran=1) t20 JOIN (SELECT SUM(t21.above40) AS v FROM film44 t21 WHERE t21.c_Iran=1) t22 JOIN (SELECT count(t23.above40) as s FROM film44 t23 WHERE t23.c_Iran=1) t24'''"
   ]
  },
  {
   "cell_type": "code",
   "execution_count": 334,
   "metadata": {},
   "outputs": [],
   "source": [
    "cursor.execute(c_Iran_sql)"
   ]
  },
  {
   "cell_type": "code",
   "execution_count": 335,
   "metadata": {},
   "outputs": [],
   "source": [
    "del c_Iran_sql"
   ]
  },
  {
   "cell_type": "raw",
   "metadata": {},
   "source": [
    "其他"
   ]
  },
  {
   "cell_type": "code",
   "execution_count": 336,
   "metadata": {},
   "outputs": [],
   "source": [
    "c_Others_sql = '''insert into table relation_bet_age_and_class SELECT 'c_Others',(t2.v / t4.s) * 100.0,(t6.v / t8.s) * 100.0,(t10.v / t12.s) * 100.0,(t14.v / t16.s) * 100.0,(t18.v / t20.s) * 100.0,(t22.v / t24.s) * 100.0               FROM (SELECT SUM(t1.under20) AS v FROM film44 t1 WHERE t1.c_Others=1) t2 JOIN (SELECT count(t3.under20) as s FROM film44 t3 WHERE t3.c_Others=1) t4 JOIN (SELECT SUM(t5.20to24) AS v FROM film44 t5 WHERE t5.c_Others=1) t6 JOIN (SELECT count(t7.20to24) as s FROM film44 t7 WHERE t7.c_Others=1) t8 JOIN (SELECT SUM(t9.25to29) AS v FROM film44 t9 WHERE t9.c_Others=1) t10 JOIN (SELECT count(t11.25to29) as s FROM film44 t11 WHERE t11.c_Others=1) t12 JOIN (SELECT SUM(t13.30to34) AS v FROM film44 t13 WHERE t13.c_Others=1) t14 JOIN (SELECT count(t15.30to34) as s FROM film44 t15 WHERE t15.c_Others=1) t16 JOIN (SELECT SUM(t17.35to39) AS v FROM film44 t17 WHERE t17.c_Others=1) t18 JOIN (SELECT count(t19.35to39) as s FROM film44 t19 WHERE t19.c_Others=1) t20 JOIN (SELECT SUM(t21.above40) AS v FROM film44 t21 WHERE t21.c_Others=1) t22 JOIN (SELECT count(t23.above40) as s FROM film44 t23 WHERE t23.c_Others=1) t24'''"
   ]
  },
  {
   "cell_type": "code",
   "execution_count": 337,
   "metadata": {},
   "outputs": [],
   "source": [
    "cursor.execute(c_Others_sql)"
   ]
  },
  {
   "cell_type": "code",
   "execution_count": 338,
   "metadata": {},
   "outputs": [],
   "source": [
    "del c_Others_sql"
   ]
  },
  {
   "cell_type": "markdown",
   "metadata": {},
   "source": [
    "# table_6_"
   ]
  },
  {
   "cell_type": "markdown",
   "metadata": {},
   "source": [
    "# 写进数据库"
   ]
  },
  {
   "cell_type": "raw",
   "metadata": {},
   "source": [
    "cd /usr/local/sqoop"
   ]
  },
  {
   "cell_type": "raw",
   "metadata": {},
   "source": [
    "#table1\n",
    "bin/sqoop export --connect jdbc:mysql://localhost:3306/comex --username root --password 123456 --table district --export-dir '/user/hive/warehouse/district' --fields-terminated-by ',';"
   ]
  },
  {
   "cell_type": "raw",
   "metadata": {},
   "source": [
    "#table2\n",
    "bin/sqoop export --connect jdbc:mysql://localhost:3306/comex --username root --password 123456 --table relation_bet_gen_and_bo --export-dir '/user/hive/warehouse/relation_bet_gen_and_bo' --fields-terminated-by ',';"
   ]
  },
  {
   "cell_type": "raw",
   "metadata": {},
   "source": [
    "#table3\n",
    "bin/sqoop export --connect jdbc:mysql://localhost:3306/comex --username root --password 123456 --table female_per_by_hyear --export-dir '/user/hive/warehouse/female_per_by_hyear' --fields-terminated-by ',';"
   ]
  },
  {
   "cell_type": "raw",
   "metadata": {},
   "source": [
    "#table4\n",
    "bin/sqoop export --connect jdbc:mysql://localhost:3306/comex --username root --password 123456 --table relation_bet_gen_and_class --export-dir '/user/hive/warehouse/relation_bet_gen_and_class' --fields-terminated-by ',';"
   ]
  },
  {
   "cell_type": "raw",
   "metadata": {},
   "source": [
    "#table5\n",
    "bin/sqoop export --connect jdbc:mysql://localhost:3306/comex --username root --password 123456 --table relation_bet_age_and_class --export-dir '/user/hive/warehouse/relation_bet_age_and_class' --fields-terminated-by ',';"
   ]
  },
  {
   "cell_type": "raw",
   "metadata": {},
   "source": [
    "#table6\n",
    "bin/sqoop export --connect jdbc:mysql://localhost:3306/comex --username root --password 123456 --table relation_bet_gen_and_class --export-dir '/user/hive/warehouse/relation_bet_gen_and_class' --fields-terminated-by ',';"
   ]
  },
  {
   "cell_type": "raw",
   "metadata": {},
   "source": [
    "#table7\n",
    "bin/sqoop export --connect jdbc:mysql://localhost:3306/comex --username root --password 123456 --table relation_bet_degree_and_class --export-dir '/user/hive/warehouse/relation_bet_degree_and_class' --fields-terminated-by ',';"
   ]
  },
  {
   "cell_type": "raw",
   "metadata": {},
   "source": [
    "#table8\n",
    "bin/sqoop export --connect jdbc:mysql://localhost:3306/comex --username root --password 123456 --table gross_boxo_and_top_boxo_changes --export-dir '/user/hive/warehouse/gross_boxo_and_top_boxo_changes' --fields-terminated-by ',';"
   ]
  },
  {
   "cell_type": "raw",
   "metadata": {},
   "source": [
    "#table9\n",
    "bin/sqoop export --connect jdbc:mysql://localhost:3306/comex --username root --password 123456 --table relation_among_sdate_class_boxo --export-dir '/user/hive/warehouse/relation_among_sdate_class_boxo' --fields-terminated-by ',';"
   ]
  }
 ],
 "metadata": {
  "kernelspec": {
   "display_name": "Python 3",
   "language": "python",
   "name": "python3"
  },
  "language_info": {
   "codemirror_mode": {
    "name": "ipython",
    "version": 3
   },
   "file_extension": ".py",
   "mimetype": "text/x-python",
   "name": "python",
   "nbconvert_exporter": "python",
   "pygments_lexer": "ipython3",
   "version": "3.5.2"
  }
 },
 "nbformat": 4,
 "nbformat_minor": 2
}
