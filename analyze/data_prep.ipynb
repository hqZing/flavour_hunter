{
 "cells": [
  {
   "cell_type": "code",
   "execution_count": 1,
   "metadata": {},
   "outputs": [],
   "source": [
    "from pyhive import hive\n",
    "import pymysql\n",
    "conn = hive.Connection(host='127.0.0.1', port=10000, username='hadoop', database='comex')\n",
    "cursor = conn.cursor()"
   ]
  },
  {
   "cell_type": "code",
   "execution_count": 2,
   "metadata": {},
   "outputs": [],
   "source": [
    "def exec_sql(sql):\n",
    "    cursor.execute(sql)\n",
    "    for result in cursor.fetchall():\n",
    "        print(result)"
   ]
  },
  {
   "cell_type": "markdown",
   "metadata": {},
   "source": [
    "# 对缺失项进行预处理"
   ]
  },
  {
   "cell_type": "raw",
   "metadata": {},
   "source": [
    "hive->alter table personas SET SERDEPROPERTIES('serialization.null.format' = 'NULL'); \n",
    "hive->alter table personas set serdeproperties('serialization.null.format' = '\\N');"
   ]
  },
  {
   "cell_type": "markdown",
   "metadata": {},
   "source": [
    "# 实现hive和hbase映射"
   ]
  },
  {
   "cell_type": "code",
   "execution_count": 15,
   "metadata": {},
   "outputs": [],
   "source": [
    "cursor.execute(\"DROP TABLE IF EXISTS test_01\")"
   ]
  },
  {
   "cell_type": "code",
   "execution_count": 17,
   "metadata": {},
   "outputs": [],
   "source": [
    "mapping_from_hbase_to_hive_sql = '''CREATE EXTERNAL TABLE test_01(id FLOAT,\n",
    "name STRING,\n",
    "man FLOAT,\n",
    "woman FLOAT,\n",
    "below20 FLOAT,\n",
    "t_to_t4 FLOAT,\n",
    "t5_to_t9 FLOAT,\n",
    "th_to_th4 FLOAT,\n",
    "th5_to_th9 FLOAT,\n",
    "above40 FLOAT,\n",
    "bachelor_degree_or_above FLOAT,\n",
    "undergraduate_and_below FLOAT,\n",
    "second_tier_city FLOAT,\n",
    "fourth_tier_city FLOAT,\n",
    "third_tier_citiy FLOAT,\n",
    "first_tier_city FLOAT,\n",
    "occupation1 STRING,\n",
    "per1 FLOAT,\n",
    "occupation2 STRING,\n",
    "per2 FLOAT,\n",
    "occupation3 STRING,\n",
    "per3 FLOAT,\n",
    "preference_film1 STRING,\n",
    "pers1 FLOAT,\n",
    "preference_film2 STRING,\n",
    "pers2 FLOAT,\n",
    "preference_film3 STRING,\n",
    "pers3 FLOAT,\n",
    "preference_film4 STRING,\n",
    "pers4 FLOAT,\n",
    "preference_film5 STRING,\n",
    "pers5 FLOAT,\n",
    "bought1 STRING,\n",
    "bought2 STRING,\n",
    "bought3 STRING,\n",
    "bought4 STRING,\n",
    "bought5 STRING,\n",
    "bought6 STRING,\n",
    "bought7 STRING,\n",
    "bought8 STRING,\n",
    "bought9 STRING,\n",
    "bought10 STRING)STORED BY 'org.apache.hadoop.hive.hbase.HBaseStorageHandler' \n",
    "WITH SERDEPROPERTIES (\"hbase.columns.mapping\" = \":key,info:id,\n",
    "info:name,\n",
    "info:man,\n",
    "info:woman,\n",
    "info:below20,\n",
    "info:t_to_t4,\n",
    "info:t5_to_t9,\n",
    "info:th_to_th4,\n",
    "info:th5_to_th9,\n",
    "info:bachelor_degree_or_above,\n",
    "info:undergraduate_and_below,\n",
    "info:second_tier_city,\n",
    "info:fourth_tier_city,\n",
    "info:third_tier_citiy,\n",
    "info:first_tier_city,\n",
    "info:occupation1,\n",
    "info:per1,\n",
    "info:occupation2,\n",
    "info:per2,\n",
    "info:occupation3,\n",
    "info:per3,\n",
    "info:preference_film1,\n",
    "info:pers1,\n",
    "info:preference_film2,\n",
    "info:pers2,\n",
    "info:preference_film3,\n",
    "info:pers3,\n",
    "info:preference_film4,\n",
    "info:pers4,\n",
    "info:preference_film5,\n",
    "info:pers5,\n",
    "info:bought1,\n",
    "info:bought2,\n",
    "info:bought3,\n",
    "info:bought4,\n",
    "info:bought5,\n",
    "info:bought6,\n",
    "info:bought7,\n",
    "info:bought8,\n",
    "info:bought9,\n",
    "info:bought10\") \n",
    "TBLPROPERTIES(\"hbase.table.name\" = \"hbase_code_test\")'''"
   ]
  },
  {
   "cell_type": "code",
   "execution_count": 19,
   "metadata": {},
   "outputs": [],
   "source": [
    "#cursor.execute(mapping_from_hbase_to_hive_sql)"
   ]
  },
  {
   "cell_type": "markdown",
   "metadata": {},
   "source": [
    "# ceate Hive table（将csv文件导入，后续改成hive和hbase映射）"
   ]
  },
  {
   "cell_type": "code",
   "execution_count": 3,
   "metadata": {},
   "outputs": [],
   "source": [
    "cursor.execute(\"DROP TABLE IF EXISTS test\")"
   ]
  },
  {
   "cell_type": "code",
   "execution_count": 4,
   "metadata": {},
   "outputs": [],
   "source": [
    "#新建一个表，用于导入csv数据\n",
    "create_Hive_table_sql = '''create table test(id FLOAT,\n",
    "name STRING,\n",
    "man FLOAT,\n",
    "woman FLOAT,\n",
    "below20 FLOAT,\n",
    "t_to_t4 FLOAT,\n",
    "t5_to_t9 FLOAT,\n",
    "th_to_th4 FLOAT,\n",
    "th5_to_th9 FLOAT,\n",
    "above40 FLOAT,\n",
    "bachelor_degree_or_above FLOAT,\n",
    "undergraduate_and_below FLOAT,\n",
    "second_tier_city FLOAT,\n",
    "fourth_tier_city FLOAT,\n",
    "third_tier_citiy FLOAT,\n",
    "first_tier_city FLOAT,\n",
    "occupation1 STRING,\n",
    "per1 FLOAT,\n",
    "occupation2 STRING,\n",
    "per2 FLOAT,\n",
    "occupation3 STRING,\n",
    "per3 FLOAT,\n",
    "preference_film1 STRING,\n",
    "pers1 FLOAT,\n",
    "preference_film2 STRING,\n",
    "pers2 FLOAT,\n",
    "preference_film3 STRING,\n",
    "pers3 FLOAT,\n",
    "preference_film4 STRING,\n",
    "pers4 FLOAT,\n",
    "preference_film5 STRING,\n",
    "pers5 FLOAT,\n",
    "bought1 STRING,\n",
    "bought2 STRING,\n",
    "bought3 STRING,\n",
    "bought4 STRING,\n",
    "bought5 STRING,\n",
    "bought6 STRING,\n",
    "bought7 STRING,\n",
    "bought8 STRING,\n",
    "bought9 STRING,\n",
    "bought10 STRING) ROW format delimited fields terminated by ',' STORED AS TEXTFILE'''"
   ]
  },
  {
   "cell_type": "code",
   "execution_count": 5,
   "metadata": {},
   "outputs": [],
   "source": [
    "cursor.execute(create_Hive_table_sql)"
   ]
  },
  {
   "cell_type": "code",
   "execution_count": 6,
   "metadata": {},
   "outputs": [],
   "source": [
    "#将指定位置数据导入\n",
    "input_sql = '''load data local inpath '/home/hadoop/Comex/personas.csv' into table test'''"
   ]
  },
  {
   "cell_type": "code",
   "execution_count": 7,
   "metadata": {},
   "outputs": [],
   "source": [
    "cursor.execute(input_sql)"
   ]
  },
  {
   "cell_type": "markdown",
   "metadata": {},
   "source": [
    "# after_prep（进行第一遍筛选，将带NULL值行全部删除）"
   ]
  },
  {
   "cell_type": "code",
   "execution_count": 8,
   "metadata": {},
   "outputs": [],
   "source": [
    "cursor.execute(\"DROP TABLE IF EXISTS test_a\")"
   ]
  },
  {
   "cell_type": "code",
   "execution_count": 9,
   "metadata": {},
   "outputs": [],
   "source": [
    "#建表用于存放筛选后的数据\n",
    "create_first_prep_sql= '''create table test_a(id FLOAT,\n",
    "name STRING,\n",
    "man FLOAT,\n",
    "woman FLOAT,\n",
    "below20 FLOAT,\n",
    "t_to_t4 FLOAT,\n",
    "t5_to_t9 FLOAT,\n",
    "th_to_th4 FLOAT,\n",
    "th5_to_th9 FLOAT,\n",
    "above40 FLOAT,\n",
    "bachelor_degree_or_above FLOAT,\n",
    "undergraduate_and_below FLOAT,\n",
    "second_tier_city FLOAT,\n",
    "fourth_tier_city FLOAT,\n",
    "third_tier_citiy FLOAT,\n",
    "first_tier_city FLOAT,\n",
    "occupation1 STRING,\n",
    "per1 FLOAT,\n",
    "occupation2 STRING,\n",
    "per2 FLOAT,\n",
    "occupation3 STRING,\n",
    "per3 FLOAT,\n",
    "preference_film1 STRING,\n",
    "pers1 FLOAT,\n",
    "preference_film2 STRING,\n",
    "pers2 FLOAT,\n",
    "preference_film3 STRING,\n",
    "pers3 FLOAT,\n",
    "preference_film4 STRING,\n",
    "pers4 FLOAT,\n",
    "preference_film5 STRING,\n",
    "pers5 FLOAT,\n",
    "bought1 STRING,\n",
    "bought2 STRING,\n",
    "bought3 STRING,\n",
    "bought4 STRING,\n",
    "bought5 STRING,\n",
    "bought6 STRING,\n",
    "bought7 STRING,\n",
    "bought8 STRING,\n",
    "bought9 STRING,\n",
    "bought10 STRING) ROW format delimited fields terminated by ',' STORED AS TEXTFILE'''"
   ]
  },
  {
   "cell_type": "code",
   "execution_count": 10,
   "metadata": {},
   "outputs": [],
   "source": [
    "cursor.execute(create_first_prep_sql)"
   ]
  },
  {
   "cell_type": "code",
   "execution_count": 11,
   "metadata": {},
   "outputs": [],
   "source": [
    "#将筛选后的数据进行插入操作\n",
    "insert_table_sql = '''insert overwrite table test_a select * from personas where id IS NOT NULL \n",
    "AND name IS NOT NULL\n",
    "AND man IS NOT NULL \n",
    "AND woman IS NOT NULL \n",
    "AND below20 IS NOT NULL \n",
    "AND t_to_t4 IS NOT NULL \n",
    "AND t5_to_t9 IS NOT NULL \n",
    "AND th_to_th4 IS NOT NULL \n",
    "AND th5_to_th9 IS NOT NULL \n",
    "AND above40 IS NOT NULL \n",
    "AND bachelor_degree_or_above IS NOT NULL \n",
    "AND undergraduate_and_below IS NOT NULL \n",
    "AND second_tier_city IS NOT NULL \n",
    "AND fourth_tier_city IS NOT NULL \n",
    "AND third_tier_citiy IS NOT NULL \n",
    "AND first_tier_city IS NOT NULL \n",
    "AND occupation1 IS NOT NULL \n",
    "AND per1 IS NOT NULL \n",
    "AND occupation2 IS NOT NULL \n",
    "AND per2 IS NOT NULL \n",
    "AND occupation3 IS NOT NULL \n",
    "AND per3 IS NOT NULL \n",
    "AND preference_film1 IS NOT NULL \n",
    "AND pers1 IS NOT NULL \n",
    "AND preference_film2 IS NOT NULL \n",
    "AND pers2 IS NOT NULL \n",
    "AND preference_film3 IS NOT NULL \n",
    "AND pers3 IS NOT NULL \n",
    "AND preference_film4 IS NOT NULL \n",
    "AND pers4 IS NOT NULL \n",
    "AND preference_film5 IS NOT NULL \n",
    "AND pers5 IS NOT NULL \n",
    "AND bought1 IS NOT NULL \n",
    "AND bought2 IS NOT NULL \n",
    "AND bought3 IS NOT NULL \n",
    "AND bought4 IS NOT NULL \n",
    "AND bought5 IS NOT NULL \n",
    "AND bought6 IS NOT NULL \n",
    "AND bought7 IS NOT NULL \n",
    "AND bought8 IS NOT NULL \n",
    "AND bought9 IS NOT NULL \n",
    "AND bought10 IS NOT NULL'''"
   ]
  },
  {
   "cell_type": "code",
   "execution_count": 12,
   "metadata": {},
   "outputs": [],
   "source": [
    "cursor.execute(insert_table_sql)"
   ]
  },
  {
   "cell_type": "code",
   "execution_count": 13,
   "metadata": {},
   "outputs": [
    {
     "name": "stdout",
     "output_type": "stream",
     "text": [
      "(1003,)\n"
     ]
    }
   ],
   "source": [
    "count_sql = 'select count(*) from test_a'\n",
    "exec_sql(count_sql)"
   ]
  },
  {
   "cell_type": "markdown",
   "metadata": {},
   "source": [
    "# 依据需求文档进行数据提取"
   ]
  },
  {
   "cell_type": "markdown",
   "metadata": {},
   "source": [
    "# table_1_PUPsex"
   ]
  },
  {
   "cell_type": "raw",
   "metadata": {},
   "source": [
    "#piao,data待补充\n",
    "PUPsex_sql = 'select id ,name,man,woman from after_prep'"
   ]
  },
  {
   "cell_type": "markdown",
   "metadata": {},
   "source": [
    "# table_2_CUPsex"
   ]
  },
  {
   "cell_type": "raw",
   "metadata": {},
   "source": [
    "#mclass,data待补充\n",
    "CUPsex_sql = 'select id,name,man,woman from after_prep'"
   ]
  },
  {
   "cell_type": "markdown",
   "metadata": {},
   "source": [
    "# table_3_PUPage"
   ]
  },
  {
   "cell_type": "raw",
   "metadata": {},
   "source": [
    "#data,piao待补充\n",
    "PUPage_sql = 'select id,name,below20,t_to_t4,t5_to_t9,above40 from after_prep'"
   ]
  },
  {
   "cell_type": "markdown",
   "metadata": {},
   "source": [
    "# table_4_CUPage"
   ]
  },
  {
   "cell_type": "raw",
   "metadata": {},
   "source": [
    "#data,mclass待补充\n",
    "CUPage_sql = 'select id,name,below20,t_to_t4,t5_to_t9,above40 from after_prep'"
   ]
  },
  {
   "cell_type": "markdown",
   "metadata": {},
   "source": [
    "# table_5_PUPedu"
   ]
  },
  {
   "cell_type": "raw",
   "metadata": {},
   "source": [
    "#data,piao待补充\n",
    "PUPedu_sql = 'select id,name,bachelor_degree_or_above,undergraduate_and_below from after_prep'"
   ]
  },
  {
   "cell_type": "markdown",
   "metadata": {},
   "source": [
    "# table_6_PUPdistrict"
   ]
  },
  {
   "cell_type": "raw",
   "metadata": {},
   "source": [
    "#data,piao待补充\n",
    "PUPdistrict_sql = 'select first_tier_city,second_tier_city,third_tier_citiy,fourth_tier_city from after_prep'"
   ]
  },
  {
   "cell_type": "markdown",
   "metadata": {},
   "source": [
    "# table_7_PMUjob"
   ]
  },
  {
   "cell_type": "raw",
   "metadata": {},
   "source": [
    "#由于身份顺序不同，后续讨论如何解决（data,piao待补充）\n",
    "PMUjob_sql = 'select id,name from after_prep' "
   ]
  },
  {
   "cell_type": "markdown",
   "metadata": {},
   "source": [
    "# table_8_CMUjob"
   ]
  },
  {
   "cell_type": "raw",
   "metadata": {},
   "source": [
    "#由于身份顺序不同，后续讨论如何解决（data,mclass待补充）\n",
    "CMUjob_sql = 'select id,name from after_prep'"
   ]
  },
  {
   "cell_type": "markdown",
   "metadata": {},
   "source": [
    "# table_9_DataPiao"
   ]
  },
  {
   "cell_type": "raw",
   "metadata": {},
   "source": [
    "#data,piao待补充\n",
    "DataPiao_sql = 'select id,name from after_prep'"
   ]
  },
  {
   "cell_type": "markdown",
   "metadata": {},
   "source": [
    "# table_10_DataClass"
   ]
  },
  {
   "cell_type": "raw",
   "metadata": {},
   "source": [
    "#data,mclass待补充\n",
    "DataClass_sql = 'select id,name from after_prep'"
   ]
  },
  {
   "cell_type": "markdown",
   "metadata": {},
   "source": [
    "# table_11_PiaoClass"
   ]
  },
  {
   "cell_type": "raw",
   "metadata": {},
   "source": [
    "#mclass,piao待补充\n",
    "PiaoClass_sql = 'select id,name from after_prep'"
   ]
  },
  {
   "cell_type": "markdown",
   "metadata": {},
   "source": [
    "# 写进数据库"
   ]
  },
  {
   "cell_type": "raw",
   "metadata": {},
   "source": [
    "cd /usr/local/sqoop"
   ]
  },
  {
   "cell_type": "raw",
   "metadata": {},
   "source": [
    "bin/sqoop export --connect jdbc:mysql://localhost:3306/comex --username root --password 123456 --table personas --export-dir '/user/hive/warehouse/comex.db/after_prep' --fields-terminated-by ',';"
   ]
  },
  {
   "cell_type": "markdown",
   "metadata": {},
   "source": [
    "# 用pandas查看一下"
   ]
  },
  {
   "cell_type": "code",
   "execution_count": 7,
   "metadata": {},
   "outputs": [],
   "source": [
    "#打开数据库连接\n",
    "db= pymysql.connect(host=\"127.0.0.1\",user=\"root\",\n",
    "     password=\"123456\",db=\"comex\",port=3306)"
   ]
  },
  {
   "cell_type": "code",
   "execution_count": 8,
   "metadata": {},
   "outputs": [],
   "source": [
    "import pandas as pd"
   ]
  },
  {
   "cell_type": "code",
   "execution_count": 9,
   "metadata": {},
   "outputs": [],
   "source": [
    "#显示所有列\n",
    "pd.set_option('display.max_columns', None)\n",
    "#显示所有行\n",
    "pd.set_option('display.max_rows', None)"
   ]
  },
  {
   "cell_type": "code",
   "execution_count": 10,
   "metadata": {},
   "outputs": [],
   "source": [
    "sql = 'select * from personas'\n",
    "pd = pd.read_sql(sql,db)"
   ]
  },
  {
   "cell_type": "code",
   "execution_count": 11,
   "metadata": {},
   "outputs": [
    {
     "data": {
      "text/html": [
       "<div>\n",
       "<style scoped>\n",
       "    .dataframe tbody tr th:only-of-type {\n",
       "        vertical-align: middle;\n",
       "    }\n",
       "\n",
       "    .dataframe tbody tr th {\n",
       "        vertical-align: top;\n",
       "    }\n",
       "\n",
       "    .dataframe thead th {\n",
       "        text-align: right;\n",
       "    }\n",
       "</style>\n",
       "<table border=\"1\" class=\"dataframe\">\n",
       "  <thead>\n",
       "    <tr style=\"text-align: right;\">\n",
       "      <th></th>\n",
       "      <th>id</th>\n",
       "      <th>name</th>\n",
       "      <th>man</th>\n",
       "      <th>woman</th>\n",
       "      <th>below20</th>\n",
       "      <th>t_to_t4</th>\n",
       "      <th>t5_to_t9</th>\n",
       "      <th>th_to_th4</th>\n",
       "      <th>th5_to_th9</th>\n",
       "      <th>above40</th>\n",
       "      <th>bachelor_degree_or_above</th>\n",
       "      <th>undergraduate_and_below</th>\n",
       "      <th>second_tier_city</th>\n",
       "      <th>fourth_tier_city</th>\n",
       "      <th>third_tier_citiy</th>\n",
       "      <th>first_tier_city</th>\n",
       "      <th>occupation1</th>\n",
       "      <th>per1</th>\n",
       "      <th>occupation2</th>\n",
       "      <th>per2</th>\n",
       "      <th>occupation3</th>\n",
       "      <th>per3</th>\n",
       "      <th>preference_film1</th>\n",
       "      <th>pers1</th>\n",
       "      <th>preference_film2</th>\n",
       "      <th>pers2</th>\n",
       "      <th>preference_film3</th>\n",
       "      <th>pers3</th>\n",
       "      <th>preference_film4</th>\n",
       "      <th>pers4</th>\n",
       "      <th>preference_film5</th>\n",
       "      <th>pers5</th>\n",
       "      <th>bought1</th>\n",
       "      <th>bought2</th>\n",
       "      <th>bought3</th>\n",
       "      <th>bought4</th>\n",
       "      <th>bought5</th>\n",
       "      <th>bought6</th>\n",
       "      <th>bought7</th>\n",
       "      <th>bought8</th>\n",
       "      <th>bought9</th>\n",
       "      <th>bought10</th>\n",
       "    </tr>\n",
       "  </thead>\n",
       "  <tbody>\n",
       "    <tr>\n",
       "      <th>0</th>\n",
       "      <td>345013.0</td>\n",
       "      <td>战神纪</td>\n",
       "      <td>0.51</td>\n",
       "      <td>0.49</td>\n",
       "      <td>0.04</td>\n",
       "      <td>0.26</td>\n",
       "      <td>0.28</td>\n",
       "      <td>0.18</td>\n",
       "      <td>0.12</td>\n",
       "      <td>0.11</td>\n",
       "      <td>0.31</td>\n",
       "      <td>0.69</td>\n",
       "      <td>0.41</td>\n",
       "      <td>0.24</td>\n",
       "      <td>0.2</td>\n",
       "      <td>0.16</td>\n",
       "      <td>白领</td>\n",
       "      <td>0.45</td>\n",
       "      <td>其他</td>\n",
       "      <td>0.38</td>\n",
       "      <td>学生</td>\n",
       "      <td>0.17</td>\n",
       "      <td>动作</td>\n",
       "      <td>0.51</td>\n",
       "      <td>爱情</td>\n",
       "      <td>0.14</td>\n",
       "      <td>喜剧</td>\n",
       "      <td>0.12</td>\n",
       "      <td>科幻</td>\n",
       "      <td>0.09</td>\n",
       "      <td>动画</td>\n",
       "      <td>0.06</td>\n",
       "      <td>红海行动</td>\n",
       "      <td>唐人街探案2</td>\n",
       "      <td>战狼2</td>\n",
       "      <td>复仇者联盟3：无限战争</td>\n",
       "      <td>羞羞的铁拳</td>\n",
       "      <td>捉妖记2</td>\n",
       "      <td>狂暴巨兽</td>\n",
       "      <td>前任3：再见前任</td>\n",
       "      <td>头号玩家</td>\n",
       "      <td>后来的我们</td>\n",
       "    </tr>\n",
       "  </tbody>\n",
       "</table>\n",
       "</div>"
      ],
      "text/plain": [
       "         id name   man woman below20 t_to_t4 t5_to_t9 th_to_th4 th5_to_th9  \\\n",
       "0  345013.0  战神纪  0.51  0.49    0.04    0.26     0.28      0.18       0.12   \n",
       "\n",
       "  above40 bachelor_degree_or_above undergraduate_and_below second_tier_city  \\\n",
       "0    0.11                     0.31                    0.69             0.41   \n",
       "\n",
       "  fourth_tier_city third_tier_citiy first_tier_city occupation1  per1  \\\n",
       "0             0.24              0.2            0.16          白领  0.45   \n",
       "\n",
       "  occupation2  per2 occupation3  per3 preference_film1 pers1 preference_film2  \\\n",
       "0          其他  0.38          学生  0.17               动作  0.51               爱情   \n",
       "\n",
       "  pers2 preference_film3 pers3 preference_film4 pers4 preference_film5 pers5  \\\n",
       "0  0.14               喜剧  0.12               科幻  0.09               动画  0.06   \n",
       "\n",
       "  bought1 bought2 bought3      bought4 bought5 bought6 bought7   bought8  \\\n",
       "0    红海行动  唐人街探案2     战狼2  复仇者联盟3：无限战争   羞羞的铁拳    捉妖记2    狂暴巨兽  前任3：再见前任   \n",
       "\n",
       "  bought9 bought10  \n",
       "0    头号玩家    后来的我们  "
      ]
     },
     "execution_count": 11,
     "metadata": {},
     "output_type": "execute_result"
    }
   ],
   "source": [
    "pd.head(1)"
   ]
  },
  {
   "cell_type": "code",
   "execution_count": null,
   "metadata": {},
   "outputs": [],
   "source": []
  },
  {
   "cell_type": "code",
   "execution_count": null,
   "metadata": {},
   "outputs": [],
   "source": []
  }
 ],
 "metadata": {
  "kernelspec": {
   "display_name": "Python 3",
   "language": "python",
   "name": "python3"
  },
  "language_info": {
   "codemirror_mode": {
    "name": "ipython",
    "version": 3
   },
   "file_extension": ".py",
   "mimetype": "text/x-python",
   "name": "python",
   "nbconvert_exporter": "python",
   "pygments_lexer": "ipython3",
   "version": "3.5.2"
  }
 },
 "nbformat": 4,
 "nbformat_minor": 2
}
