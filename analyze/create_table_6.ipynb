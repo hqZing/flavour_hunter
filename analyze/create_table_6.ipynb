{
 "cells": [
  {
   "cell_type": "code",
   "execution_count": 164,
   "metadata": {},
   "outputs": [],
   "source": [
    "from pyhive import hive\n",
    "import pymysql\n",
    "conn = hive.Connection(host='127.0.0.1', port=10000, username='hadoop')\n",
    "cursor = conn.cursor()"
   ]
  },
  {
   "cell_type": "code",
   "execution_count": 2,
   "metadata": {},
   "outputs": [],
   "source": [
    "def exec_sql(sql):\n",
    "    cursor.execute(sql)\n",
    "    for result in cursor.fetchall():\n",
    "        print(result)"
   ]
  },
  {
   "cell_type": "markdown",
   "metadata": {},
   "source": [
    "# table_6_relation_among_date_class_boxo(年份、类别与票房的关系)"
   ]
  },
  {
   "cell_type": "raw",
   "metadata": {},
   "source": [
    "注：由于样本的数据只有近三年的，所以本来想按上下半年分，但是这样的话，代码量会爆炸，考虑到后续还有工作要做，索性就按三年分了"
   ]
  },
  {
   "cell_type": "markdown",
   "metadata": {},
   "source": [
    "# 2016"
   ]
  },
  {
   "cell_type": "code",
   "execution_count": 156,
   "metadata": {},
   "outputs": [],
   "source": [
    "cursor.execute(\"DROP TABLE IF EXISTS relation_among_date_class_boxo\")"
   ]
  },
  {
   "cell_type": "code",
   "execution_count": 157,
   "metadata": {},
   "outputs": [],
   "source": [
    "create_table_relation_among_date_class_boxo_sql = '''create table relation_among_date_class_boxo(ftime string,class string,boxoffice float)'''"
   ]
  },
  {
   "cell_type": "code",
   "execution_count": 158,
   "metadata": {},
   "outputs": [],
   "source": [
    "cursor.execute(create_table_relation_among_date_class_boxo_sql)"
   ]
  },
  {
   "cell_type": "code",
   "execution_count": 159,
   "metadata": {},
   "outputs": [],
   "source": [
    "del create_table_relation_among_date_class_boxo_sql"
   ]
  },
  {
   "cell_type": "raw",
   "metadata": {},
   "source": [
    "爱情"
   ]
  },
  {
   "cell_type": "code",
   "execution_count": 2,
   "metadata": {},
   "outputs": [],
   "source": [
    "t_romance_sql = '''insert into table relation_among_date_class_boxo SELECT '2016','t_romance',t2.v FROM (SELECT SUM(t1.boxoffice) AS v FROM film44 t1 WHERE t1.t_romance=1 and mdate < '2016-12-31'and mdate >'2016-01-01') t2'''"
   ]
  },
  {
   "cell_type": "code",
   "execution_count": 3,
   "metadata": {},
   "outputs": [],
   "source": [
    "cursor.execute(t_romance_sql)"
   ]
  },
  {
   "cell_type": "code",
   "execution_count": 9,
   "metadata": {},
   "outputs": [],
   "source": [
    "del t_romance_sql"
   ]
  },
  {
   "cell_type": "raw",
   "metadata": {},
   "source": [
    "喜剧"
   ]
  },
  {
   "cell_type": "code",
   "execution_count": 10,
   "metadata": {},
   "outputs": [],
   "source": [
    "t_comedy_sql = '''insert into table relation_among_date_class_boxo SELECT '2016','t_comedy',t2.v FROM (SELECT SUM(t1.boxoffice) AS v FROM film44 t1 WHERE t1.t_comedy=1 and mdate < '2016-12-31'and mdate >'2016-01-01') t2'''"
   ]
  },
  {
   "cell_type": "code",
   "execution_count": 11,
   "metadata": {},
   "outputs": [],
   "source": [
    "cursor.execute(t_comedy_sql)"
   ]
  },
  {
   "cell_type": "code",
   "execution_count": 12,
   "metadata": {},
   "outputs": [],
   "source": [
    "del t_comedy_sql"
   ]
  },
  {
   "cell_type": "raw",
   "metadata": {},
   "source": [
    "动画"
   ]
  },
  {
   "cell_type": "code",
   "execution_count": 13,
   "metadata": {},
   "outputs": [],
   "source": [
    "t_animate_sql = '''insert into table relation_among_date_class_boxo SELECT '2016','t_animate',t2.v FROM (SELECT SUM(t1.boxoffice) AS v FROM film44 t1 WHERE t1.t_animate=1 and mdate < '2016-12-31'and mdate >'2016-01-01') t2'''"
   ]
  },
  {
   "cell_type": "code",
   "execution_count": 14,
   "metadata": {},
   "outputs": [],
   "source": [
    "cursor.execute(t_animate_sql)"
   ]
  },
  {
   "cell_type": "code",
   "execution_count": 15,
   "metadata": {},
   "outputs": [],
   "source": [
    "del t_animate_sql"
   ]
  },
  {
   "cell_type": "raw",
   "metadata": {},
   "source": [
    "剧情"
   ]
  },
  {
   "cell_type": "code",
   "execution_count": 16,
   "metadata": {},
   "outputs": [],
   "source": [
    "t_plot_sql = '''insert into table relation_among_date_class_boxo SELECT '2016','t_plot',t2.v FROM (SELECT SUM(t1.boxoffice) AS v FROM film44 t1 WHERE t1.t_plot=1 and mdate < '2016-12-31'and mdate >'2016-01-01') t2'''"
   ]
  },
  {
   "cell_type": "code",
   "execution_count": 17,
   "metadata": {},
   "outputs": [],
   "source": [
    "cursor.execute(t_plot_sql)"
   ]
  },
  {
   "cell_type": "code",
   "execution_count": 18,
   "metadata": {},
   "outputs": [],
   "source": [
    "del t_plot_sql"
   ]
  },
  {
   "cell_type": "raw",
   "metadata": {},
   "source": [
    "恐怖"
   ]
  },
  {
   "cell_type": "code",
   "execution_count": 19,
   "metadata": {},
   "outputs": [],
   "source": [
    "t_horror_sql = '''insert into table relation_among_date_class_boxo SELECT '2016','t_horror',t2.v FROM (SELECT SUM(t1.boxoffice) AS v FROM film44 t1 WHERE t1.t_horror=1 and mdate < '2016-12-31'and mdate >'2016-01-01') t2'''"
   ]
  },
  {
   "cell_type": "code",
   "execution_count": 20,
   "metadata": {},
   "outputs": [],
   "source": [
    "cursor.execute(t_horror_sql)"
   ]
  },
  {
   "cell_type": "code",
   "execution_count": 21,
   "metadata": {},
   "outputs": [],
   "source": [
    "del t_horror_sql"
   ]
  },
  {
   "cell_type": "raw",
   "metadata": {},
   "source": [
    "惊悚"
   ]
  },
  {
   "cell_type": "code",
   "execution_count": 22,
   "metadata": {},
   "outputs": [],
   "source": [
    "t_thriller_sql = '''insert into table relation_among_date_class_boxo SELECT '2016','t_thriller',t2.v FROM (SELECT SUM(t1.boxoffice) AS v FROM film44 t1 WHERE t1.t_thriller=1 and mdate < '2016-12-31'and mdate >'2016-01-01') t2'''"
   ]
  },
  {
   "cell_type": "code",
   "execution_count": 23,
   "metadata": {},
   "outputs": [],
   "source": [
    "cursor.execute(t_thriller_sql)"
   ]
  },
  {
   "cell_type": "code",
   "execution_count": 24,
   "metadata": {},
   "outputs": [],
   "source": [
    "del t_thriller_sql"
   ]
  },
  {
   "cell_type": "raw",
   "metadata": {},
   "source": [
    "科幻"
   ]
  },
  {
   "cell_type": "code",
   "execution_count": 25,
   "metadata": {},
   "outputs": [],
   "source": [
    "t_science_sql = '''insert into table relation_among_date_class_boxo SELECT '2016','t_science',t2.v FROM (SELECT SUM(t1.boxoffice) AS v FROM film44 t1 WHERE t1.t_science=1 and mdate < '2016-12-31'and mdate >'2016-01-01') t2'''"
   ]
  },
  {
   "cell_type": "code",
   "execution_count": 26,
   "metadata": {},
   "outputs": [],
   "source": [
    "cursor.execute(t_science_sql)"
   ]
  },
  {
   "cell_type": "code",
   "execution_count": 27,
   "metadata": {},
   "outputs": [],
   "source": [
    "del t_science_sql"
   ]
  },
  {
   "cell_type": "raw",
   "metadata": {},
   "source": [
    "动作"
   ]
  },
  {
   "cell_type": "code",
   "execution_count": 28,
   "metadata": {},
   "outputs": [],
   "source": [
    "t_action_sql = '''insert into table relation_among_date_class_boxo SELECT '2016','t_action',t2.v FROM (SELECT SUM(t1.boxoffice) AS v FROM film44 t1 WHERE t1.t_action=1 and mdate < '2016-12-31'and mdate >'2016-01-01') t2'''"
   ]
  },
  {
   "cell_type": "code",
   "execution_count": 29,
   "metadata": {},
   "outputs": [],
   "source": [
    "cursor.execute(t_action_sql)"
   ]
  },
  {
   "cell_type": "code",
   "execution_count": 30,
   "metadata": {},
   "outputs": [],
   "source": [
    "del t_action_sql"
   ]
  },
  {
   "cell_type": "raw",
   "metadata": {},
   "source": [
    "悬疑"
   ]
  },
  {
   "cell_type": "code",
   "execution_count": 31,
   "metadata": {},
   "outputs": [],
   "source": [
    "t_suspense_sql = '''insert into table relation_among_date_class_boxo SELECT '2016','t_suspense',t2.v FROM (SELECT SUM(t1.boxoffice) AS v FROM film44 t1 WHERE t1.t_suspense=1 and mdate < '2016-12-31'and mdate >'2016-01-01') t2'''"
   ]
  },
  {
   "cell_type": "code",
   "execution_count": 32,
   "metadata": {},
   "outputs": [],
   "source": [
    "cursor.execute(t_suspense_sql)"
   ]
  },
  {
   "cell_type": "code",
   "execution_count": 33,
   "metadata": {},
   "outputs": [],
   "source": [
    "del t_suspense_sql"
   ]
  },
  {
   "cell_type": "raw",
   "metadata": {},
   "source": [
    "犯罪"
   ]
  },
  {
   "cell_type": "code",
   "execution_count": 34,
   "metadata": {},
   "outputs": [],
   "source": [
    "t_crime_sql = '''insert into table relation_among_date_class_boxo SELECT '2016','t_crime',t2.v FROM (SELECT SUM(t1.boxoffice) AS v FROM film44 t1 WHERE t1.t_crime=1 and mdate < '2016-12-31'and mdate >'2016-01-01') t2'''"
   ]
  },
  {
   "cell_type": "code",
   "execution_count": 35,
   "metadata": {},
   "outputs": [],
   "source": [
    "cursor.execute(t_crime_sql)"
   ]
  },
  {
   "cell_type": "code",
   "execution_count": 36,
   "metadata": {},
   "outputs": [],
   "source": [
    "del t_crime_sql"
   ]
  },
  {
   "cell_type": "raw",
   "metadata": {},
   "source": [
    "冒险"
   ]
  },
  {
   "cell_type": "code",
   "execution_count": 37,
   "metadata": {},
   "outputs": [],
   "source": [
    "t_adventure_sql = '''insert into table relation_among_date_class_boxo SELECT '2016','t_adventure',t2.v FROM (SELECT SUM(t1.boxoffice) AS v FROM film44 t1 WHERE t1.t_adventure=1 and mdate < '2016-12-31'and mdate >'2016-01-01') t2'''"
   ]
  },
  {
   "cell_type": "code",
   "execution_count": 38,
   "metadata": {},
   "outputs": [],
   "source": [
    "cursor.execute(t_adventure_sql)"
   ]
  },
  {
   "cell_type": "code",
   "execution_count": 39,
   "metadata": {},
   "outputs": [],
   "source": [
    "del t_adventure_sql"
   ]
  },
  {
   "cell_type": "raw",
   "metadata": {},
   "source": [
    "战争"
   ]
  },
  {
   "cell_type": "code",
   "execution_count": 40,
   "metadata": {},
   "outputs": [],
   "source": [
    "t_war_sql = '''insert into table relation_among_date_class_boxo SELECT '2016','t_war',t2.v FROM (SELECT SUM(t1.boxoffice) AS v FROM film44 t1 WHERE t1.t_war=1 and mdate < '2016-12-31'and mdate >'2016-01-01') t2'''"
   ]
  },
  {
   "cell_type": "code",
   "execution_count": 41,
   "metadata": {},
   "outputs": [],
   "source": [
    "cursor.execute(t_war_sql)"
   ]
  },
  {
   "cell_type": "code",
   "execution_count": 42,
   "metadata": {},
   "outputs": [],
   "source": [
    "del t_war_sql"
   ]
  },
  {
   "cell_type": "raw",
   "metadata": {},
   "source": [
    "奇幻"
   ]
  },
  {
   "cell_type": "code",
   "execution_count": 43,
   "metadata": {},
   "outputs": [],
   "source": [
    "t_fantasy_sql = '''insert into table relation_among_date_class_boxo SELECT '2016','t_fantasy',t2.v FROM (SELECT SUM(t1.boxoffice) AS v FROM film44 t1 WHERE t1.t_fantasy=1 and mdate < '2016-12-31'and mdate >'2016-01-01') t2'''"
   ]
  },
  {
   "cell_type": "code",
   "execution_count": 44,
   "metadata": {},
   "outputs": [],
   "source": [
    "cursor.execute(t_fantasy_sql)"
   ]
  },
  {
   "cell_type": "code",
   "execution_count": 45,
   "metadata": {},
   "outputs": [],
   "source": [
    "del t_fantasy_sql"
   ]
  },
  {
   "cell_type": "raw",
   "metadata": {},
   "source": [
    "运动"
   ]
  },
  {
   "cell_type": "code",
   "execution_count": 46,
   "metadata": {},
   "outputs": [],
   "source": [
    "t_sports_sql = '''insert into table relation_among_date_class_boxo SELECT '2016','t_sports',t2.v FROM (SELECT SUM(t1.boxoffice) AS v FROM film44 t1 WHERE t1.t_sports=1 and mdate < '2016-12-31'and mdate >'2016-01-01') t2'''"
   ]
  },
  {
   "cell_type": "code",
   "execution_count": 47,
   "metadata": {},
   "outputs": [],
   "source": [
    "cursor.execute(t_sports_sql)"
   ]
  },
  {
   "cell_type": "code",
   "execution_count": 48,
   "metadata": {},
   "outputs": [],
   "source": [
    "del t_sports_sql"
   ]
  },
  {
   "cell_type": "raw",
   "metadata": {},
   "source": [
    "家庭"
   ]
  },
  {
   "cell_type": "code",
   "execution_count": 49,
   "metadata": {},
   "outputs": [],
   "source": [
    "t_family_sql ='''insert into table relation_among_date_class_boxo SELECT '2016','t_family',t2.v FROM (SELECT SUM(t1.boxoffice) AS v FROM film44 t1 WHERE t1.t_family=1 and mdate < '2016-12-31'and mdate >'2016-01-01') t2'''"
   ]
  },
  {
   "cell_type": "code",
   "execution_count": 50,
   "metadata": {},
   "outputs": [],
   "source": [
    "cursor.execute(t_family_sql)"
   ]
  },
  {
   "cell_type": "code",
   "execution_count": 51,
   "metadata": {},
   "outputs": [],
   "source": [
    "del t_family_sql"
   ]
  },
  {
   "cell_type": "raw",
   "metadata": {},
   "source": [
    "古装"
   ]
  },
  {
   "cell_type": "code",
   "execution_count": 52,
   "metadata": {},
   "outputs": [],
   "source": [
    "t_costume_sql = '''insert into table relation_among_date_class_boxo SELECT '2016','t_costume',t2.v FROM (SELECT SUM(t1.boxoffice) AS v FROM film44 t1 WHERE t1.t_costume=1 and mdate < '2016-12-31'and mdate >'2016-01-01') t2'''"
   ]
  },
  {
   "cell_type": "code",
   "execution_count": 53,
   "metadata": {},
   "outputs": [],
   "source": [
    "cursor.execute(t_costume_sql)"
   ]
  },
  {
   "cell_type": "code",
   "execution_count": 54,
   "metadata": {},
   "outputs": [],
   "source": [
    "del t_costume_sql"
   ]
  },
  {
   "cell_type": "raw",
   "metadata": {},
   "source": [
    "武侠"
   ]
  },
  {
   "cell_type": "code",
   "execution_count": 55,
   "metadata": {},
   "outputs": [],
   "source": [
    "t_sword_sql = '''insert into table relation_among_date_class_boxo SELECT '2016','t_sword',t2.v FROM (SELECT SUM(t1.boxoffice) AS v FROM film44 t1 WHERE t1.t_sword=1 and mdate < '2016-12-31'and mdate >'2016-01-01') t2'''"
   ]
  },
  {
   "cell_type": "code",
   "execution_count": 56,
   "metadata": {},
   "outputs": [],
   "source": [
    "cursor.execute(t_sword_sql)"
   ]
  },
  {
   "cell_type": "code",
   "execution_count": 57,
   "metadata": {},
   "outputs": [],
   "source": [
    "del t_sword_sql"
   ]
  },
  {
   "cell_type": "raw",
   "metadata": {},
   "source": [
    "西部"
   ]
  },
  {
   "cell_type": "code",
   "execution_count": 58,
   "metadata": {},
   "outputs": [],
   "source": [
    "t_cowboy_sql = '''insert into table relation_among_date_class_boxo SELECT '2016','t_cowboy',t2.v FROM (SELECT SUM(t1.boxoffice) AS v FROM film44 t1 WHERE t1.t_cowboy=1 and mdate < '2016-12-31'and mdate >'2016-01-01') t2'''"
   ]
  },
  {
   "cell_type": "code",
   "execution_count": 59,
   "metadata": {},
   "outputs": [],
   "source": [
    "cursor.execute(t_cowboy_sql)"
   ]
  },
  {
   "cell_type": "code",
   "execution_count": 60,
   "metadata": {},
   "outputs": [],
   "source": [
    "del t_cowboy_sql"
   ]
  },
  {
   "cell_type": "raw",
   "metadata": {},
   "source": [
    "历史"
   ]
  },
  {
   "cell_type": "code",
   "execution_count": 61,
   "metadata": {},
   "outputs": [],
   "source": [
    "t_history_sql = '''insert into table relation_among_date_class_boxo SELECT '2016','t_history',t2.v FROM (SELECT SUM(t1.boxoffice) AS v FROM film44 t1 WHERE t1.t_history=1 and mdate < '2016-12-31'and mdate >'2016-01-01') t2'''"
   ]
  },
  {
   "cell_type": "code",
   "execution_count": 62,
   "metadata": {},
   "outputs": [],
   "source": [
    "cursor.execute(t_history_sql)"
   ]
  },
  {
   "cell_type": "code",
   "execution_count": 63,
   "metadata": {},
   "outputs": [],
   "source": [
    "del t_history_sql"
   ]
  },
  {
   "cell_type": "raw",
   "metadata": {},
   "source": [
    "传记"
   ]
  },
  {
   "cell_type": "code",
   "execution_count": 64,
   "metadata": {},
   "outputs": [],
   "source": [
    "t_biography_sql ='''insert into table relation_among_date_class_boxo SELECT '2016','t_biography',t2.v FROM (SELECT SUM(t1.boxoffice) AS v FROM film44 t1 WHERE t1.t_biography=1 and mdate < '2016-12-31'and mdate >'2016-01-01') t2'''"
   ]
  },
  {
   "cell_type": "code",
   "execution_count": 65,
   "metadata": {},
   "outputs": [],
   "source": [
    "cursor.execute(t_biography_sql)"
   ]
  },
  {
   "cell_type": "code",
   "execution_count": 66,
   "metadata": {},
   "outputs": [],
   "source": [
    "del t_biography_sql"
   ]
  },
  {
   "cell_type": "raw",
   "metadata": {},
   "source": [
    "歌舞"
   ]
  },
  {
   "cell_type": "code",
   "execution_count": 67,
   "metadata": {},
   "outputs": [],
   "source": [
    "t_dance_sql = '''insert into table relation_among_date_class_boxo SELECT '2016','t_dance',t2.v FROM (SELECT SUM(t1.boxoffice) AS v FROM film44 t1 WHERE t1.t_dance=1 and mdate < '2016-12-31'and mdate >'2016-01-01') t2'''"
   ]
  },
  {
   "cell_type": "code",
   "execution_count": 68,
   "metadata": {},
   "outputs": [],
   "source": [
    "cursor.execute(t_dance_sql)"
   ]
  },
  {
   "cell_type": "code",
   "execution_count": 69,
   "metadata": {},
   "outputs": [],
   "source": [
    "del t_dance_sql"
   ]
  },
  {
   "cell_type": "raw",
   "metadata": {},
   "source": [
    "黑色电影"
   ]
  },
  {
   "cell_type": "code",
   "execution_count": 70,
   "metadata": {},
   "outputs": [],
   "source": [
    "t_dark_sql = '''insert into table relation_among_date_class_boxo SELECT '2016','t_dark',t2.v FROM (SELECT SUM(t1.boxoffice) AS v FROM film44 t1 WHERE t1.t_dark=1 and mdate < '2016-12-31'and mdate >'2016-01-01') t2'''"
   ]
  },
  {
   "cell_type": "code",
   "execution_count": 71,
   "metadata": {},
   "outputs": [],
   "source": [
    "cursor.execute(t_dark_sql)"
   ]
  },
  {
   "cell_type": "code",
   "execution_count": 72,
   "metadata": {},
   "outputs": [],
   "source": [
    "del t_dark_sql"
   ]
  },
  {
   "cell_type": "raw",
   "metadata": {},
   "source": [
    "短片"
   ]
  },
  {
   "cell_type": "code",
   "execution_count": 73,
   "metadata": {},
   "outputs": [],
   "source": [
    "t_short_sql = '''insert into table relation_among_date_class_boxo SELECT '2016','t_short',t2.v FROM (SELECT SUM(t1.boxoffice) AS v FROM film44 t1 WHERE t1.t_short=1 and mdate < '2016-12-31'and mdate >'2016-01-01') t2'''"
   ]
  },
  {
   "cell_type": "code",
   "execution_count": 75,
   "metadata": {},
   "outputs": [],
   "source": [
    "cursor.execute(t_short_sql)"
   ]
  },
  {
   "cell_type": "code",
   "execution_count": 76,
   "metadata": {},
   "outputs": [],
   "source": [
    "del t_short_sql"
   ]
  },
  {
   "cell_type": "raw",
   "metadata": {},
   "source": [
    "纪录片"
   ]
  },
  {
   "cell_type": "code",
   "execution_count": 77,
   "metadata": {},
   "outputs": [],
   "source": [
    "t_documentary_sql = '''insert into table relation_among_date_class_boxo SELECT '2016','t_documentary',t2.v FROM (SELECT SUM(t1.boxoffice) AS v FROM film44 t1 WHERE t1.t_documentary=1 and mdate < '2016-12-31'and mdate >'2016-01-01') t2'''"
   ]
  },
  {
   "cell_type": "code",
   "execution_count": 78,
   "metadata": {},
   "outputs": [],
   "source": [
    "cursor.execute(t_documentary_sql)"
   ]
  },
  {
   "cell_type": "code",
   "execution_count": 79,
   "metadata": {},
   "outputs": [],
   "source": [
    "del t_documentary_sql"
   ]
  },
  {
   "cell_type": "raw",
   "metadata": {},
   "source": [
    "其他"
   ]
  },
  {
   "cell_type": "code",
   "execution_count": 80,
   "metadata": {},
   "outputs": [],
   "source": [
    "t_others_sql = '''insert into table relation_among_date_class_boxo SELECT '2016','t_others',t2.v FROM (SELECT SUM(t1.boxoffice) AS v FROM film44 t1 WHERE t1.t_others=1 and mdate < '2016-12-31'and mdate >'2016-01-01') t2'''"
   ]
  },
  {
   "cell_type": "code",
   "execution_count": 81,
   "metadata": {},
   "outputs": [],
   "source": [
    "cursor.execute(t_others_sql)"
   ]
  },
  {
   "cell_type": "code",
   "execution_count": 82,
   "metadata": {},
   "outputs": [],
   "source": [
    "del t_others_sql"
   ]
  },
  {
   "cell_type": "raw",
   "metadata": {},
   "source": [
    "大陆"
   ]
  },
  {
   "cell_type": "code",
   "execution_count": 83,
   "metadata": {},
   "outputs": [],
   "source": [
    "c_Mainland_sql = '''insert into table relation_among_date_class_boxo SELECT '2016','c_Mainland',t2.v FROM (SELECT SUM(t1.boxoffice) AS v FROM film44 t1 WHERE t1.c_Mainland=1 and mdate < '2016-12-31'and mdate >'2016-01-01') t2'''"
   ]
  },
  {
   "cell_type": "code",
   "execution_count": 84,
   "metadata": {},
   "outputs": [],
   "source": [
    "cursor.execute(c_Mainland_sql)"
   ]
  },
  {
   "cell_type": "code",
   "execution_count": 85,
   "metadata": {},
   "outputs": [],
   "source": [
    "del c_Mainland_sql"
   ]
  },
  {
   "cell_type": "raw",
   "metadata": {},
   "source": [
    "美国"
   ]
  },
  {
   "cell_type": "code",
   "execution_count": 86,
   "metadata": {},
   "outputs": [],
   "source": [
    "c_America_sql = '''insert into table relation_among_date_class_boxo SELECT '2016','c_America',t2.v FROM (SELECT SUM(t1.boxoffice) AS v FROM film44 t1 WHERE t1.c_America=1 and mdate < '2016-12-31'and mdate >'2016-01-01') t2'''"
   ]
  },
  {
   "cell_type": "code",
   "execution_count": 87,
   "metadata": {},
   "outputs": [],
   "source": [
    "cursor.execute(c_America_sql)"
   ]
  },
  {
   "cell_type": "code",
   "execution_count": 88,
   "metadata": {},
   "outputs": [],
   "source": [
    "del c_America_sql"
   ]
  },
  {
   "cell_type": "raw",
   "metadata": {},
   "source": [
    "韩国"
   ]
  },
  {
   "cell_type": "code",
   "execution_count": 97,
   "metadata": {},
   "outputs": [],
   "source": [
    "c_Korea_sql = '''insert into table relation_among_date_class_boxo SELECT '2016','c_Korea',t2.v FROM (SELECT SUM(t1.boxoffice) AS v FROM film44 t1 WHERE t1.c_Korea=1 and mdate < '2016-12-31'and mdate >'2016-01-01') t2'''"
   ]
  },
  {
   "cell_type": "code",
   "execution_count": 98,
   "metadata": {},
   "outputs": [],
   "source": [
    "cursor.execute(c_Korea_sql)"
   ]
  },
  {
   "cell_type": "code",
   "execution_count": 99,
   "metadata": {},
   "outputs": [],
   "source": [
    "del c_Korea_sql"
   ]
  },
  {
   "cell_type": "raw",
   "metadata": {},
   "source": [
    "日本"
   ]
  },
  {
   "cell_type": "code",
   "execution_count": 100,
   "metadata": {},
   "outputs": [],
   "source": [
    "c_Japan_sql = '''insert into table relation_among_date_class_boxo SELECT '2016','c_Japan',t2.v FROM (SELECT SUM(t1.boxoffice) AS v FROM film44 t1 WHERE t1.c_Japan=1 and mdate < '2016-12-31'and mdate >'2016-01-01') t2'''"
   ]
  },
  {
   "cell_type": "code",
   "execution_count": 101,
   "metadata": {},
   "outputs": [],
   "source": [
    "cursor.execute(c_Japan_sql)"
   ]
  },
  {
   "cell_type": "code",
   "execution_count": 102,
   "metadata": {},
   "outputs": [],
   "source": [
    "del c_Japan_sql"
   ]
  },
  {
   "cell_type": "raw",
   "metadata": {},
   "source": [
    "香港"
   ]
  },
  {
   "cell_type": "code",
   "execution_count": 103,
   "metadata": {},
   "outputs": [],
   "source": [
    "c_Hongkong_sql = '''insert into table relation_among_date_class_boxo SELECT '2016','c_Hongkong',t2.v FROM (SELECT SUM(t1.boxoffice) AS v FROM film44 t1 WHERE t1.c_Hongkong=1 and mdate < '2016-12-31'and mdate >'2016-01-01') t2'''"
   ]
  },
  {
   "cell_type": "code",
   "execution_count": 104,
   "metadata": {},
   "outputs": [],
   "source": [
    "cursor.execute(c_Hongkong_sql)"
   ]
  },
  {
   "cell_type": "code",
   "execution_count": 105,
   "metadata": {},
   "outputs": [],
   "source": [
    "del c_Hongkong_sql"
   ]
  },
  {
   "cell_type": "raw",
   "metadata": {},
   "source": [
    "台湾"
   ]
  },
  {
   "cell_type": "code",
   "execution_count": 106,
   "metadata": {},
   "outputs": [],
   "source": [
    "c_Taiwan_sql = '''insert into table relation_among_date_class_boxo SELECT '2016','c_Taiwan',t2.v FROM (SELECT SUM(t1.boxoffice) AS v FROM film44 t1 WHERE t1.c_Taiwan=1 and mdate < '2016-12-31'and mdate >'2016-01-01') t2'''"
   ]
  },
  {
   "cell_type": "code",
   "execution_count": 107,
   "metadata": {},
   "outputs": [],
   "source": [
    "cursor.execute(c_Taiwan_sql)"
   ]
  },
  {
   "cell_type": "code",
   "execution_count": 108,
   "metadata": {},
   "outputs": [],
   "source": [
    "del c_Taiwan_sql"
   ]
  },
  {
   "cell_type": "raw",
   "metadata": {},
   "source": [
    "泰国"
   ]
  },
  {
   "cell_type": "code",
   "execution_count": 109,
   "metadata": {},
   "outputs": [],
   "source": [
    "c_Thailand_sql = '''insert into table relation_among_date_class_boxo SELECT '2016','c_Thailand',t2.v FROM (SELECT SUM(t1.boxoffice) AS v FROM film44 t1 WHERE t1.c_Thailand=1 and mdate < '2016-12-31'and mdate >'2016-01-01') t2'''"
   ]
  },
  {
   "cell_type": "code",
   "execution_count": 110,
   "metadata": {},
   "outputs": [],
   "source": [
    "cursor.execute(c_Thailand_sql)"
   ]
  },
  {
   "cell_type": "code",
   "execution_count": 111,
   "metadata": {},
   "outputs": [],
   "source": [
    "del c_Thailand_sql"
   ]
  },
  {
   "cell_type": "raw",
   "metadata": {},
   "source": [
    "印度"
   ]
  },
  {
   "cell_type": "code",
   "execution_count": 112,
   "metadata": {},
   "outputs": [],
   "source": [
    "c_India_sql = '''insert into table relation_among_date_class_boxo SELECT '2016','c_India',t2.v FROM (SELECT SUM(t1.boxoffice) AS v FROM film44 t1 WHERE t1.c_India=1 and mdate < '2016-12-31'and mdate >'2016-01-01') t2'''"
   ]
  },
  {
   "cell_type": "code",
   "execution_count": 113,
   "metadata": {},
   "outputs": [],
   "source": [
    "cursor.execute(c_India_sql)"
   ]
  },
  {
   "cell_type": "code",
   "execution_count": 114,
   "metadata": {},
   "outputs": [],
   "source": [
    "\n",
    "del c_India_sql"
   ]
  },
  {
   "cell_type": "raw",
   "metadata": {},
   "source": [
    "法国"
   ]
  },
  {
   "cell_type": "code",
   "execution_count": 115,
   "metadata": {},
   "outputs": [],
   "source": [
    "c_France_sql = '''insert into table relation_among_date_class_boxo SELECT '2016','c_France',t2.v FROM (SELECT SUM(t1.boxoffice) AS v FROM film44 t1 WHERE t1.c_France=1 and mdate < '2016-12-31'and mdate >'2016-01-01') t2'''"
   ]
  },
  {
   "cell_type": "code",
   "execution_count": 116,
   "metadata": {},
   "outputs": [],
   "source": [
    "cursor.execute(c_France_sql)"
   ]
  },
  {
   "cell_type": "code",
   "execution_count": 117,
   "metadata": {},
   "outputs": [],
   "source": [
    "del c_France_sql"
   ]
  },
  {
   "cell_type": "raw",
   "metadata": {},
   "source": [
    "英国"
   ]
  },
  {
   "cell_type": "code",
   "execution_count": 118,
   "metadata": {},
   "outputs": [],
   "source": [
    "c_England_sql = '''insert into table relation_among_date_class_boxo SELECT '2016','c_England',t2.v FROM (SELECT SUM(t1.boxoffice) AS v FROM film44 t1 WHERE t1.c_England=1 and mdate < '2016-12-31'and mdate >'2016-01-01') t2'''"
   ]
  },
  {
   "cell_type": "code",
   "execution_count": 119,
   "metadata": {},
   "outputs": [],
   "source": [
    "cursor.execute(c_England_sql)"
   ]
  },
  {
   "cell_type": "code",
   "execution_count": 120,
   "metadata": {},
   "outputs": [],
   "source": [
    "del c_England_sql"
   ]
  },
  {
   "cell_type": "raw",
   "metadata": {},
   "source": [
    "俄罗斯"
   ]
  },
  {
   "cell_type": "code",
   "execution_count": 121,
   "metadata": {},
   "outputs": [],
   "source": [
    "c_Russia_sql = '''insert into table relation_among_date_class_boxo SELECT '2016','c_Russia',t2.v FROM (SELECT SUM(t1.boxoffice) AS v FROM film44 t1 WHERE t1.c_Russia=1 and mdate < '2016-12-31'and mdate >'2016-01-01') t2'''"
   ]
  },
  {
   "cell_type": "code",
   "execution_count": 122,
   "metadata": {},
   "outputs": [],
   "source": [
    "cursor.execute(c_Russia_sql)"
   ]
  },
  {
   "cell_type": "code",
   "execution_count": 123,
   "metadata": {},
   "outputs": [],
   "source": [
    "del c_Russia_sql"
   ]
  },
  {
   "cell_type": "raw",
   "metadata": {},
   "source": [
    "意大利"
   ]
  },
  {
   "cell_type": "code",
   "execution_count": 124,
   "metadata": {},
   "outputs": [],
   "source": [
    "c_Italy_sql = '''insert into table relation_among_date_class_boxo SELECT '2016','c_Italy',t2.v FROM (SELECT SUM(t1.boxoffice) AS v FROM film44 t1 WHERE t1.c_Italy=1 and mdate < '2016-12-31'and mdate >'2016-01-01') t2'''"
   ]
  },
  {
   "cell_type": "code",
   "execution_count": 125,
   "metadata": {},
   "outputs": [],
   "source": [
    "cursor.execute(c_Italy_sql)"
   ]
  },
  {
   "cell_type": "code",
   "execution_count": 126,
   "metadata": {},
   "outputs": [],
   "source": [
    "del c_Italy_sql"
   ]
  },
  {
   "cell_type": "raw",
   "metadata": {},
   "source": [
    "西班牙"
   ]
  },
  {
   "cell_type": "code",
   "execution_count": 127,
   "metadata": {},
   "outputs": [],
   "source": [
    "c_Spain_sql = '''insert into table relation_among_date_class_boxo SELECT '2016','c_Spain',t2.v FROM (SELECT SUM(t1.boxoffice) AS v FROM film44 t1 WHERE t1.c_Spain=1 and mdate < '2016-12-31'and mdate >'2016-01-01') t2'''"
   ]
  },
  {
   "cell_type": "code",
   "execution_count": 128,
   "metadata": {},
   "outputs": [],
   "source": [
    "cursor.execute(c_Spain_sql)"
   ]
  },
  {
   "cell_type": "code",
   "execution_count": 129,
   "metadata": {},
   "outputs": [],
   "source": [
    "del c_Spain_sql"
   ]
  },
  {
   "cell_type": "raw",
   "metadata": {},
   "source": [
    "德国"
   ]
  },
  {
   "cell_type": "code",
   "execution_count": 130,
   "metadata": {},
   "outputs": [],
   "source": [
    "c_Germany_sql = '''insert into table relation_among_date_class_boxo SELECT '2016','c_Germany',t2.v FROM (SELECT SUM(t1.boxoffice) AS v FROM film44 t1 WHERE t1.c_Germany=1 and mdate < '2016-12-31'and mdate >'2016-01-01') t2'''"
   ]
  },
  {
   "cell_type": "code",
   "execution_count": 133,
   "metadata": {},
   "outputs": [],
   "source": [
    "cursor.execute(c_Germany_sql)"
   ]
  },
  {
   "cell_type": "code",
   "execution_count": 134,
   "metadata": {},
   "outputs": [],
   "source": [
    "del c_Germany_sql"
   ]
  },
  {
   "cell_type": "raw",
   "metadata": {},
   "source": [
    "波兰"
   ]
  },
  {
   "cell_type": "code",
   "execution_count": 135,
   "metadata": {},
   "outputs": [],
   "source": [
    "c_Poland_sql = '''insert into table relation_among_date_class_boxo SELECT '2016','c_Poland',t2.v FROM (SELECT SUM(t1.boxoffice) AS v FROM film44 t1 WHERE t1.c_Poland=1 and mdate < '2016-12-31'and mdate >'2016-01-01') t2'''"
   ]
  },
  {
   "cell_type": "code",
   "execution_count": 136,
   "metadata": {},
   "outputs": [],
   "source": [
    "cursor.execute(c_Poland_sql)"
   ]
  },
  {
   "cell_type": "code",
   "execution_count": 137,
   "metadata": {},
   "outputs": [],
   "source": [
    "del c_Poland_sql"
   ]
  },
  {
   "cell_type": "raw",
   "metadata": {},
   "source": [
    "澳大利亚"
   ]
  },
  {
   "cell_type": "code",
   "execution_count": 138,
   "metadata": {},
   "outputs": [],
   "source": [
    "c_Australia_sql = '''insert into table relation_among_date_class_boxo SELECT '2016','c_Australia',t2.v FROM (SELECT SUM(t1.boxoffice) AS v FROM film44 t1 WHERE t1.c_Australia=1 and mdate < '2016-12-31'and mdate >'2016-01-01') t2'''"
   ]
  },
  {
   "cell_type": "code",
   "execution_count": 139,
   "metadata": {},
   "outputs": [],
   "source": [
    "cursor.execute(c_Australia_sql)"
   ]
  },
  {
   "cell_type": "code",
   "execution_count": 140,
   "metadata": {},
   "outputs": [],
   "source": [
    "del c_Australia_sql"
   ]
  },
  {
   "cell_type": "raw",
   "metadata": {},
   "source": [
    "伊朗"
   ]
  },
  {
   "cell_type": "code",
   "execution_count": 141,
   "metadata": {},
   "outputs": [],
   "source": [
    "c_Iran_sql = '''insert into table relation_among_date_class_boxo SELECT '2016','c_Iran',t2.v FROM (SELECT SUM(t1.boxoffice) AS v FROM film44 t1 WHERE t1.c_Iran=1 and mdate < '2016-12-31'and mdate >'2016-01-01') t2'''"
   ]
  },
  {
   "cell_type": "code",
   "execution_count": 142,
   "metadata": {},
   "outputs": [],
   "source": [
    "cursor.execute(c_Iran_sql)"
   ]
  },
  {
   "cell_type": "code",
   "execution_count": 143,
   "metadata": {},
   "outputs": [],
   "source": [
    "del c_Iran_sql"
   ]
  },
  {
   "cell_type": "raw",
   "metadata": {},
   "source": [
    "其他"
   ]
  },
  {
   "cell_type": "code",
   "execution_count": 144,
   "metadata": {},
   "outputs": [],
   "source": [
    "c_Others_sql = '''insert into table relation_among_date_class_boxo SELECT '2016','c_Others',t2.v FROM (SELECT SUM(t1.boxoffice) AS v FROM film44 t1 WHERE t1.c_Others=1 and mdate < '2016-12-31'and mdate >'2016-01-01') t2'''"
   ]
  },
  {
   "cell_type": "code",
   "execution_count": 145,
   "metadata": {},
   "outputs": [],
   "source": [
    "cursor.execute(c_Others_sql)"
   ]
  },
  {
   "cell_type": "code",
   "execution_count": 146,
   "metadata": {},
   "outputs": [],
   "source": [
    "del c_Others_sql"
   ]
  },
  {
   "cell_type": "markdown",
   "metadata": {},
   "source": [
    "# 2017"
   ]
  },
  {
   "cell_type": "raw",
   "metadata": {},
   "source": [
    "爱情"
   ]
  },
  {
   "cell_type": "code",
   "execution_count": 147,
   "metadata": {},
   "outputs": [],
   "source": [
    "t_romance_sql = '''insert into table relation_among_date_class_boxo SELECT '2017','t_romance',t2.v FROM (SELECT SUM(t1.boxoffice) AS v FROM film44 t1 WHERE t1.t_romance=1 and mdate <='2017-12-31'and mdate >='2017-01-01') t2'''"
   ]
  },
  {
   "cell_type": "code",
   "execution_count": 148,
   "metadata": {},
   "outputs": [],
   "source": [
    "cursor.execute(t_romance_sql)"
   ]
  },
  {
   "cell_type": "code",
   "execution_count": 149,
   "metadata": {},
   "outputs": [],
   "source": [
    "del t_romance_sql"
   ]
  },
  {
   "cell_type": "raw",
   "metadata": {},
   "source": [
    "喜剧"
   ]
  },
  {
   "cell_type": "code",
   "execution_count": 150,
   "metadata": {},
   "outputs": [],
   "source": [
    "t_comedy_sql = '''insert into table relation_among_date_class_boxo SELECT '2017','t_comedy',t2.v FROM (SELECT SUM(t1.boxoffice) AS v FROM film44 t1 WHERE t1.t_comedy=1 and mdate < '2017-12-31'and mdate >'2017-01-01') t2'''"
   ]
  },
  {
   "cell_type": "code",
   "execution_count": 151,
   "metadata": {},
   "outputs": [],
   "source": [
    "cursor.execute(t_comedy_sql)"
   ]
  },
  {
   "cell_type": "code",
   "execution_count": 152,
   "metadata": {},
   "outputs": [],
   "source": [
    "del t_comedy_sql"
   ]
  },
  {
   "cell_type": "raw",
   "metadata": {},
   "source": [
    "动画"
   ]
  },
  {
   "cell_type": "code",
   "execution_count": 153,
   "metadata": {},
   "outputs": [],
   "source": [
    "t_animate_sql = '''insert into table relation_among_date_class_boxo SELECT '2017','t_animate',t2.v FROM (SELECT SUM(t1.boxoffice) AS v FROM film44 t1 WHERE t1.t_animate=1 and mdate < '2017-12-31'and mdate >'2017-01-01') t2'''"
   ]
  },
  {
   "cell_type": "code",
   "execution_count": 154,
   "metadata": {},
   "outputs": [],
   "source": [
    "cursor.execute(t_animate_sql)"
   ]
  },
  {
   "cell_type": "code",
   "execution_count": 155,
   "metadata": {},
   "outputs": [],
   "source": [
    "del t_animate_sql"
   ]
  },
  {
   "cell_type": "raw",
   "metadata": {},
   "source": [
    "剧情"
   ]
  },
  {
   "cell_type": "code",
   "execution_count": 4,
   "metadata": {},
   "outputs": [],
   "source": [
    "t_plot_sql = '''insert into table relation_among_date_class_boxo SELECT '2017','t_plot',t2.v FROM (SELECT SUM(t1.boxoffice) AS v FROM film44 t1 WHERE t1.t_plot=1 and mdate < '2017-12-31'and mdate >'2017-01-01') t2'''"
   ]
  },
  {
   "cell_type": "code",
   "execution_count": 5,
   "metadata": {},
   "outputs": [],
   "source": [
    "cursor.execute(t_plot_sql)"
   ]
  },
  {
   "cell_type": "code",
   "execution_count": null,
   "metadata": {},
   "outputs": [],
   "source": [
    "del t_plot_sql"
   ]
  },
  {
   "cell_type": "raw",
   "metadata": {},
   "source": [
    "恐怖"
   ]
  },
  {
   "cell_type": "code",
   "execution_count": 6,
   "metadata": {},
   "outputs": [],
   "source": [
    "t_horror_sql = '''insert into table relation_among_date_class_boxo SELECT '2017','t_horror',t2.v FROM (SELECT SUM(t1.boxoffice) AS v FROM film44 t1 WHERE t1.t_horror=1 and mdate < '2017-12-31'and mdate >'2017-01-01') t2'''"
   ]
  },
  {
   "cell_type": "code",
   "execution_count": 7,
   "metadata": {},
   "outputs": [],
   "source": [
    "cursor.execute(t_horror_sql)"
   ]
  },
  {
   "cell_type": "code",
   "execution_count": null,
   "metadata": {},
   "outputs": [],
   "source": [
    "del t_horror_sql"
   ]
  },
  {
   "cell_type": "raw",
   "metadata": {},
   "source": [
    "惊悚"
   ]
  },
  {
   "cell_type": "code",
   "execution_count": 8,
   "metadata": {},
   "outputs": [],
   "source": [
    "t_thriller_sql = '''insert into table relation_among_date_class_boxo SELECT '2017','t_thriller',t2.v FROM (SELECT SUM(t1.boxoffice) AS v FROM film44 t1 WHERE t1.t_thriller=1 and mdate < '2017-12-31'and mdate >'2017-01-01') t2'''"
   ]
  },
  {
   "cell_type": "code",
   "execution_count": 9,
   "metadata": {},
   "outputs": [],
   "source": [
    "cursor.execute(t_thriller_sql)"
   ]
  },
  {
   "cell_type": "code",
   "execution_count": 10,
   "metadata": {},
   "outputs": [],
   "source": [
    "del t_thriller_sql"
   ]
  },
  {
   "cell_type": "raw",
   "metadata": {},
   "source": [
    "科幻"
   ]
  },
  {
   "cell_type": "code",
   "execution_count": 11,
   "metadata": {},
   "outputs": [],
   "source": [
    "t_science_sql = '''insert into table relation_among_date_class_boxo SELECT '2017','t_science',t2.v FROM (SELECT SUM(t1.boxoffice) AS v FROM film44 t1 WHERE t1.t_science=1 and mdate < '2017-12-31'and mdate >'2017-01-01') t2'''"
   ]
  },
  {
   "cell_type": "code",
   "execution_count": 12,
   "metadata": {},
   "outputs": [],
   "source": [
    "cursor.execute(t_science_sql)"
   ]
  },
  {
   "cell_type": "code",
   "execution_count": 13,
   "metadata": {},
   "outputs": [],
   "source": [
    "del t_science_sql"
   ]
  },
  {
   "cell_type": "raw",
   "metadata": {},
   "source": [
    "动作"
   ]
  },
  {
   "cell_type": "code",
   "execution_count": 14,
   "metadata": {},
   "outputs": [],
   "source": [
    "t_action_sql = '''insert into table relation_among_date_class_boxo SELECT '2017','t_action',t2.v FROM (SELECT SUM(t1.boxoffice) AS v FROM film44 t1 WHERE t1.t_action=1 and mdate < '2017-12-31'and mdate >'2017-01-01') t2'''"
   ]
  },
  {
   "cell_type": "code",
   "execution_count": 15,
   "metadata": {},
   "outputs": [],
   "source": [
    "cursor.execute(t_action_sql)"
   ]
  },
  {
   "cell_type": "code",
   "execution_count": 16,
   "metadata": {},
   "outputs": [],
   "source": [
    "del t_action_sql"
   ]
  },
  {
   "cell_type": "raw",
   "metadata": {},
   "source": [
    "悬疑"
   ]
  },
  {
   "cell_type": "code",
   "execution_count": 17,
   "metadata": {},
   "outputs": [],
   "source": [
    "t_suspense_sql = '''insert into table relation_among_date_class_boxo SELECT '2017','t_suspense',t2.v FROM (SELECT SUM(t1.boxoffice) AS v FROM film44 t1 WHERE t1.t_suspense=1 and mdate < '2017-12-31'and mdate >'2017-01-01') t2'''"
   ]
  },
  {
   "cell_type": "code",
   "execution_count": 18,
   "metadata": {},
   "outputs": [],
   "source": [
    "cursor.execute(t_suspense_sql)"
   ]
  },
  {
   "cell_type": "code",
   "execution_count": 19,
   "metadata": {},
   "outputs": [],
   "source": [
    "del t_suspense_sql"
   ]
  },
  {
   "cell_type": "raw",
   "metadata": {},
   "source": [
    "犯罪"
   ]
  },
  {
   "cell_type": "code",
   "execution_count": 20,
   "metadata": {},
   "outputs": [],
   "source": [
    "t_crime_sql = '''insert into table relation_among_date_class_boxo SELECT '2017','t_crime',t2.v FROM (SELECT SUM(t1.boxoffice) AS v FROM film44 t1 WHERE t1.t_crime=1 and mdate < '2017-12-31'and mdate >'2017-01-01') t2'''"
   ]
  },
  {
   "cell_type": "code",
   "execution_count": 21,
   "metadata": {},
   "outputs": [],
   "source": [
    "cursor.execute(t_crime_sql)"
   ]
  },
  {
   "cell_type": "code",
   "execution_count": 22,
   "metadata": {},
   "outputs": [],
   "source": [
    "del t_crime_sql"
   ]
  },
  {
   "cell_type": "raw",
   "metadata": {},
   "source": [
    "冒险"
   ]
  },
  {
   "cell_type": "code",
   "execution_count": 23,
   "metadata": {},
   "outputs": [],
   "source": [
    "t_adventure_sql = '''insert into table relation_among_date_class_boxo SELECT '2017','t_adventure',t2.v FROM (SELECT SUM(t1.boxoffice) AS v FROM film44 t1 WHERE t1.t_adventure=1 and mdate < '2017-12-31'and mdate >'2017-01-01') t2'''"
   ]
  },
  {
   "cell_type": "code",
   "execution_count": 24,
   "metadata": {},
   "outputs": [],
   "source": [
    "cursor.execute(t_adventure_sql)"
   ]
  },
  {
   "cell_type": "code",
   "execution_count": 25,
   "metadata": {},
   "outputs": [],
   "source": [
    "del t_adventure_sql"
   ]
  },
  {
   "cell_type": "raw",
   "metadata": {},
   "source": [
    "战争"
   ]
  },
  {
   "cell_type": "code",
   "execution_count": 26,
   "metadata": {},
   "outputs": [],
   "source": [
    "t_war_sql = '''insert into table relation_among_date_class_boxo SELECT '2017','t_war',t2.v FROM (SELECT SUM(t1.boxoffice) AS v FROM film44 t1 WHERE t1.t_war=1 and mdate < '2017-12-31'and mdate >'2017-01-01') t2'''"
   ]
  },
  {
   "cell_type": "code",
   "execution_count": 27,
   "metadata": {},
   "outputs": [],
   "source": [
    "cursor.execute(t_war_sql)"
   ]
  },
  {
   "cell_type": "code",
   "execution_count": 28,
   "metadata": {},
   "outputs": [],
   "source": [
    "del t_war_sql"
   ]
  },
  {
   "cell_type": "raw",
   "metadata": {},
   "source": [
    "奇幻"
   ]
  },
  {
   "cell_type": "code",
   "execution_count": 29,
   "metadata": {},
   "outputs": [],
   "source": [
    "t_fantasy_sql = '''insert into table relation_among_date_class_boxo SELECT '2017','t_fantasy',t2.v FROM (SELECT SUM(t1.boxoffice) AS v FROM film44 t1 WHERE t1.t_fantasy=1 and mdate < '2017-12-31'and mdate >'2017-01-01') t2'''"
   ]
  },
  {
   "cell_type": "code",
   "execution_count": 30,
   "metadata": {},
   "outputs": [],
   "source": [
    "cursor.execute(t_fantasy_sql)"
   ]
  },
  {
   "cell_type": "code",
   "execution_count": 31,
   "metadata": {},
   "outputs": [],
   "source": [
    "del t_fantasy_sql"
   ]
  },
  {
   "cell_type": "raw",
   "metadata": {},
   "source": [
    "运动"
   ]
  },
  {
   "cell_type": "code",
   "execution_count": 32,
   "metadata": {},
   "outputs": [],
   "source": [
    "t_sports_sql = '''insert into table relation_among_date_class_boxo SELECT '2017','t_sports',t2.v FROM (SELECT SUM(t1.boxoffice) AS v FROM film44 t1 WHERE t1.t_sports=1 and mdate < '2017-12-31'and mdate >'2017-01-01') t2'''"
   ]
  },
  {
   "cell_type": "code",
   "execution_count": 33,
   "metadata": {},
   "outputs": [],
   "source": [
    "cursor.execute(t_sports_sql)"
   ]
  },
  {
   "cell_type": "code",
   "execution_count": 34,
   "metadata": {},
   "outputs": [],
   "source": [
    "del t_sports_sql"
   ]
  },
  {
   "cell_type": "raw",
   "metadata": {},
   "source": [
    "家庭"
   ]
  },
  {
   "cell_type": "code",
   "execution_count": 35,
   "metadata": {},
   "outputs": [],
   "source": [
    "t_family_sql ='''insert into table relation_among_date_class_boxo SELECT '2017','t_family',t2.v FROM (SELECT SUM(t1.boxoffice) AS v FROM film44 t1 WHERE t1.t_family=1 and mdate < '2017-12-31'and mdate >'2017-01-01') t2'''"
   ]
  },
  {
   "cell_type": "code",
   "execution_count": 36,
   "metadata": {},
   "outputs": [],
   "source": [
    "cursor.execute(t_family_sql)"
   ]
  },
  {
   "cell_type": "code",
   "execution_count": 37,
   "metadata": {},
   "outputs": [],
   "source": [
    "del t_family_sql"
   ]
  },
  {
   "cell_type": "raw",
   "metadata": {},
   "source": [
    "古装"
   ]
  },
  {
   "cell_type": "code",
   "execution_count": 38,
   "metadata": {},
   "outputs": [],
   "source": [
    "t_costume_sql = '''insert into table relation_among_date_class_boxo SELECT '2017','t_costume',t2.v FROM (SELECT SUM(t1.boxoffice) AS v FROM film44 t1 WHERE t1.t_costume=1 and mdate < '2017-12-31'and mdate >'2017-01-01') t2'''"
   ]
  },
  {
   "cell_type": "code",
   "execution_count": 39,
   "metadata": {},
   "outputs": [],
   "source": [
    "cursor.execute(t_costume_sql)"
   ]
  },
  {
   "cell_type": "code",
   "execution_count": 40,
   "metadata": {},
   "outputs": [],
   "source": [
    "del t_costume_sql"
   ]
  },
  {
   "cell_type": "raw",
   "metadata": {},
   "source": [
    "武侠"
   ]
  },
  {
   "cell_type": "code",
   "execution_count": 41,
   "metadata": {},
   "outputs": [],
   "source": [
    "t_sword_sql = '''insert into table relation_among_date_class_boxo SELECT '2017','t_sword',t2.v FROM (SELECT SUM(t1.boxoffice) AS v FROM film44 t1 WHERE t1.t_sword=1 and mdate < '2017-12-31'and mdate >'2017-01-01') t2'''"
   ]
  },
  {
   "cell_type": "code",
   "execution_count": 42,
   "metadata": {},
   "outputs": [],
   "source": [
    "cursor.execute(t_sword_sql)"
   ]
  },
  {
   "cell_type": "code",
   "execution_count": 43,
   "metadata": {},
   "outputs": [],
   "source": [
    "del t_sword_sql"
   ]
  },
  {
   "cell_type": "raw",
   "metadata": {},
   "source": [
    "西部"
   ]
  },
  {
   "cell_type": "code",
   "execution_count": 44,
   "metadata": {},
   "outputs": [],
   "source": [
    "t_cowboy_sql = '''insert into table relation_among_date_class_boxo SELECT '2017','t_cowboy',t2.v FROM (SELECT SUM(t1.boxoffice) AS v FROM film44 t1 WHERE t1.t_cowboy=1 and mdate < '2017-12-31'and mdate >'2017-01-01') t2'''"
   ]
  },
  {
   "cell_type": "code",
   "execution_count": 45,
   "metadata": {},
   "outputs": [],
   "source": [
    "cursor.execute(t_cowboy_sql)"
   ]
  },
  {
   "cell_type": "code",
   "execution_count": 46,
   "metadata": {},
   "outputs": [],
   "source": [
    "del t_cowboy_sql"
   ]
  },
  {
   "cell_type": "raw",
   "metadata": {},
   "source": [
    "历史"
   ]
  },
  {
   "cell_type": "code",
   "execution_count": 47,
   "metadata": {},
   "outputs": [],
   "source": [
    "t_history_sql = '''insert into table relation_among_date_class_boxo SELECT '2017','t_history',t2.v FROM (SELECT SUM(t1.boxoffice) AS v FROM film44 t1 WHERE t1.t_history=1 and mdate < '2017-12-31'and mdate >'2017-01-01') t2'''"
   ]
  },
  {
   "cell_type": "code",
   "execution_count": 48,
   "metadata": {},
   "outputs": [],
   "source": [
    "cursor.execute(t_history_sql)"
   ]
  },
  {
   "cell_type": "code",
   "execution_count": 49,
   "metadata": {},
   "outputs": [],
   "source": [
    "del t_history_sql"
   ]
  },
  {
   "cell_type": "raw",
   "metadata": {},
   "source": [
    "传记"
   ]
  },
  {
   "cell_type": "code",
   "execution_count": 50,
   "metadata": {},
   "outputs": [],
   "source": [
    "t_biography_sql ='''insert into table relation_among_date_class_boxo SELECT '2017','t_biography',t2.v FROM (SELECT SUM(t1.boxoffice) AS v FROM film44 t1 WHERE t1.t_biography=1 and mdate < '2017-12-31'and mdate >'2017-01-01') t2'''"
   ]
  },
  {
   "cell_type": "code",
   "execution_count": 51,
   "metadata": {},
   "outputs": [],
   "source": [
    "cursor.execute(t_biography_sql)"
   ]
  },
  {
   "cell_type": "code",
   "execution_count": 52,
   "metadata": {},
   "outputs": [],
   "source": [
    "del t_biography_sql"
   ]
  },
  {
   "cell_type": "raw",
   "metadata": {},
   "source": [
    "歌舞"
   ]
  },
  {
   "cell_type": "code",
   "execution_count": 53,
   "metadata": {},
   "outputs": [],
   "source": [
    "t_dance_sql = '''insert into table relation_among_date_class_boxo SELECT '2017','t_dance',t2.v FROM (SELECT SUM(t1.boxoffice) AS v FROM film44 t1 WHERE t1.t_dance=1 and mdate < '2017-12-31'and mdate >'2017-01-01') t2'''"
   ]
  },
  {
   "cell_type": "code",
   "execution_count": 54,
   "metadata": {},
   "outputs": [],
   "source": [
    "cursor.execute(t_dance_sql)"
   ]
  },
  {
   "cell_type": "code",
   "execution_count": 55,
   "metadata": {},
   "outputs": [],
   "source": [
    "del t_dance_sql"
   ]
  },
  {
   "cell_type": "raw",
   "metadata": {},
   "source": [
    "黑色电影"
   ]
  },
  {
   "cell_type": "code",
   "execution_count": 56,
   "metadata": {},
   "outputs": [],
   "source": [
    "t_dark_sql = '''insert into table relation_among_date_class_boxo SELECT '2017','t_dark',t2.v FROM (SELECT SUM(t1.boxoffice) AS v FROM film44 t1 WHERE t1.t_dark=1 and mdate < '2017-12-31'and mdate >'2017-01-01') t2'''"
   ]
  },
  {
   "cell_type": "code",
   "execution_count": 57,
   "metadata": {},
   "outputs": [],
   "source": [
    "cursor.execute(t_dark_sql)"
   ]
  },
  {
   "cell_type": "code",
   "execution_count": 58,
   "metadata": {},
   "outputs": [],
   "source": [
    "del t_dark_sql"
   ]
  },
  {
   "cell_type": "raw",
   "metadata": {},
   "source": [
    "短片"
   ]
  },
  {
   "cell_type": "code",
   "execution_count": 59,
   "metadata": {},
   "outputs": [],
   "source": [
    "t_short_sql = '''insert into table relation_among_date_class_boxo SELECT '2017','t_short',t2.v FROM (SELECT SUM(t1.boxoffice) AS v FROM film44 t1 WHERE t1.t_short=1 and mdate < '2017-12-31'and mdate >'2017-01-01') t2'''"
   ]
  },
  {
   "cell_type": "code",
   "execution_count": 61,
   "metadata": {},
   "outputs": [],
   "source": [
    "cursor.execute(t_short_sql)"
   ]
  },
  {
   "cell_type": "code",
   "execution_count": 62,
   "metadata": {},
   "outputs": [],
   "source": [
    "del t_short_sql"
   ]
  },
  {
   "cell_type": "raw",
   "metadata": {},
   "source": [
    "纪录片"
   ]
  },
  {
   "cell_type": "code",
   "execution_count": 63,
   "metadata": {},
   "outputs": [],
   "source": [
    "t_documentary_sql = '''insert into table relation_among_date_class_boxo SELECT '2017','t_documentary',t2.v FROM (SELECT SUM(t1.boxoffice) AS v FROM film44 t1 WHERE t1.t_documentary=1 and mdate < '2017-12-31'and mdate >'2017-01-01') t2'''"
   ]
  },
  {
   "cell_type": "code",
   "execution_count": 64,
   "metadata": {},
   "outputs": [],
   "source": [
    "cursor.execute(t_documentary_sql)"
   ]
  },
  {
   "cell_type": "code",
   "execution_count": 65,
   "metadata": {},
   "outputs": [],
   "source": [
    "del t_documentary_sql"
   ]
  },
  {
   "cell_type": "raw",
   "metadata": {},
   "source": [
    "其他"
   ]
  },
  {
   "cell_type": "code",
   "execution_count": 66,
   "metadata": {},
   "outputs": [],
   "source": [
    "t_others_sql = '''insert into table relation_among_date_class_boxo SELECT '2017','t_others',t2.v FROM (SELECT SUM(t1.boxoffice) AS v FROM film44 t1 WHERE t1.t_others=1 and mdate < '2017-12-31'and mdate >'2017-01-01') t2'''"
   ]
  },
  {
   "cell_type": "code",
   "execution_count": 67,
   "metadata": {},
   "outputs": [],
   "source": [
    "cursor.execute(t_others_sql)"
   ]
  },
  {
   "cell_type": "code",
   "execution_count": 68,
   "metadata": {},
   "outputs": [],
   "source": [
    "del t_others_sql"
   ]
  },
  {
   "cell_type": "raw",
   "metadata": {},
   "source": [
    "大陆"
   ]
  },
  {
   "cell_type": "code",
   "execution_count": 69,
   "metadata": {},
   "outputs": [],
   "source": [
    "c_Mainland_sql = '''insert into table relation_among_date_class_boxo SELECT '2017','c_Mainland',t2.v FROM (SELECT SUM(t1.boxoffice) AS v FROM film44 t1 WHERE t1.c_Mainland=1 and mdate < '2017-12-31'and mdate >'2017-01-01') t2'''"
   ]
  },
  {
   "cell_type": "code",
   "execution_count": 70,
   "metadata": {},
   "outputs": [],
   "source": [
    "cursor.execute(c_Mainland_sql)"
   ]
  },
  {
   "cell_type": "code",
   "execution_count": 71,
   "metadata": {},
   "outputs": [],
   "source": [
    "del c_Mainland_sql"
   ]
  },
  {
   "cell_type": "raw",
   "metadata": {},
   "source": [
    "美国"
   ]
  },
  {
   "cell_type": "code",
   "execution_count": 72,
   "metadata": {},
   "outputs": [],
   "source": [
    "c_America_sql = '''insert into table relation_among_date_class_boxo SELECT '2017','c_America',t2.v FROM (SELECT SUM(t1.boxoffice) AS v FROM film44 t1 WHERE t1.c_America=1 and mdate < '2017-12-31'and mdate >'2017-01-01') t2'''"
   ]
  },
  {
   "cell_type": "code",
   "execution_count": 73,
   "metadata": {},
   "outputs": [],
   "source": [
    "cursor.execute(c_America_sql)"
   ]
  },
  {
   "cell_type": "code",
   "execution_count": 74,
   "metadata": {},
   "outputs": [],
   "source": [
    "del c_America_sql"
   ]
  },
  {
   "cell_type": "raw",
   "metadata": {},
   "source": [
    "韩国"
   ]
  },
  {
   "cell_type": "code",
   "execution_count": 78,
   "metadata": {},
   "outputs": [],
   "source": [
    "c_Korea_sql = '''insert into table relation_among_date_class_boxo SELECT '2017','c_Korea',t2.v FROM (SELECT SUM(t1.boxoffice) AS v FROM film44 t1 WHERE t1.c_Korea=1 and mdate < '2017-12-31'and mdate >'2017-01-01') t2'''"
   ]
  },
  {
   "cell_type": "code",
   "execution_count": 79,
   "metadata": {},
   "outputs": [],
   "source": [
    "cursor.execute(c_Korea_sql)"
   ]
  },
  {
   "cell_type": "code",
   "execution_count": 80,
   "metadata": {},
   "outputs": [],
   "source": [
    "del c_Korea_sql"
   ]
  },
  {
   "cell_type": "raw",
   "metadata": {},
   "source": [
    "日本"
   ]
  },
  {
   "cell_type": "code",
   "execution_count": 81,
   "metadata": {},
   "outputs": [],
   "source": [
    "c_Japan_sql = '''insert into table relation_among_date_class_boxo SELECT '2017','c_Japan',t2.v FROM (SELECT SUM(t1.boxoffice) AS v FROM film44 t1 WHERE t1.c_Japan=1 and mdate < '2017-12-31'and mdate >'2017-01-01') t2'''"
   ]
  },
  {
   "cell_type": "code",
   "execution_count": 82,
   "metadata": {},
   "outputs": [],
   "source": [
    "cursor.execute(c_Japan_sql)"
   ]
  },
  {
   "cell_type": "code",
   "execution_count": 83,
   "metadata": {},
   "outputs": [],
   "source": [
    "del c_Japan_sql"
   ]
  },
  {
   "cell_type": "raw",
   "metadata": {},
   "source": [
    "香港"
   ]
  },
  {
   "cell_type": "code",
   "execution_count": 84,
   "metadata": {},
   "outputs": [],
   "source": [
    "c_Hongkong_sql = '''insert into table relation_among_date_class_boxo SELECT '2017','c_Hongkong',t2.v FROM (SELECT SUM(t1.boxoffice) AS v FROM film44 t1 WHERE t1.c_Hongkong=1 and mdate < '2017-12-31'and mdate >'2017-01-01') t2'''"
   ]
  },
  {
   "cell_type": "code",
   "execution_count": 85,
   "metadata": {},
   "outputs": [],
   "source": [
    "cursor.execute(c_Hongkong_sql)"
   ]
  },
  {
   "cell_type": "code",
   "execution_count": 86,
   "metadata": {},
   "outputs": [],
   "source": [
    "del c_Hongkong_sql"
   ]
  },
  {
   "cell_type": "raw",
   "metadata": {},
   "source": [
    "台湾"
   ]
  },
  {
   "cell_type": "code",
   "execution_count": 87,
   "metadata": {},
   "outputs": [],
   "source": [
    "c_Taiwan_sql = '''insert into table relation_among_date_class_boxo SELECT '2017','c_Taiwan',t2.v FROM (SELECT SUM(t1.boxoffice) AS v FROM film44 t1 WHERE t1.c_Taiwan=1 and mdate < '2017-12-31'and mdate >'2017-01-01') t2'''"
   ]
  },
  {
   "cell_type": "code",
   "execution_count": 88,
   "metadata": {},
   "outputs": [],
   "source": [
    "cursor.execute(c_Taiwan_sql)"
   ]
  },
  {
   "cell_type": "code",
   "execution_count": 89,
   "metadata": {},
   "outputs": [],
   "source": [
    "del c_Taiwan_sql"
   ]
  },
  {
   "cell_type": "raw",
   "metadata": {},
   "source": [
    "泰国"
   ]
  },
  {
   "cell_type": "code",
   "execution_count": 90,
   "metadata": {},
   "outputs": [],
   "source": [
    "c_Thailand_sql = '''insert into table relation_among_date_class_boxo SELECT '2017','c_Thailand',t2.v FROM (SELECT SUM(t1.boxoffice) AS v FROM film44 t1 WHERE t1.c_Thailand=1 and mdate < '2017-12-31'and mdate >'2017-01-01') t2'''"
   ]
  },
  {
   "cell_type": "code",
   "execution_count": 91,
   "metadata": {},
   "outputs": [],
   "source": [
    "cursor.execute(c_Thailand_sql)"
   ]
  },
  {
   "cell_type": "code",
   "execution_count": 92,
   "metadata": {},
   "outputs": [],
   "source": [
    "del c_Thailand_sql"
   ]
  },
  {
   "cell_type": "raw",
   "metadata": {},
   "source": [
    "印度"
   ]
  },
  {
   "cell_type": "code",
   "execution_count": 93,
   "metadata": {},
   "outputs": [],
   "source": [
    "c_India_sql = '''insert into table relation_among_date_class_boxo SELECT '2017','c_India',t2.v FROM (SELECT SUM(t1.boxoffice) AS v FROM film44 t1 WHERE t1.c_India=1 and mdate < '2017-12-31'and mdate >'2017-01-01') t2'''"
   ]
  },
  {
   "cell_type": "code",
   "execution_count": 94,
   "metadata": {},
   "outputs": [],
   "source": [
    "cursor.execute(c_India_sql)"
   ]
  },
  {
   "cell_type": "code",
   "execution_count": 95,
   "metadata": {},
   "outputs": [],
   "source": [
    "del c_India_sql"
   ]
  },
  {
   "cell_type": "raw",
   "metadata": {},
   "source": [
    "法国"
   ]
  },
  {
   "cell_type": "code",
   "execution_count": 96,
   "metadata": {},
   "outputs": [],
   "source": [
    "c_France_sql = '''insert into table relation_among_date_class_boxo SELECT '2017','c_France',t2.v FROM (SELECT SUM(t1.boxoffice) AS v FROM film44 t1 WHERE t1.c_France=1 and mdate < '2017-12-31'and mdate >'2017-01-01') t2'''"
   ]
  },
  {
   "cell_type": "code",
   "execution_count": 97,
   "metadata": {},
   "outputs": [],
   "source": [
    "cursor.execute(c_France_sql)"
   ]
  },
  {
   "cell_type": "code",
   "execution_count": 98,
   "metadata": {},
   "outputs": [],
   "source": [
    "del c_France_sql"
   ]
  },
  {
   "cell_type": "raw",
   "metadata": {},
   "source": [
    "英国"
   ]
  },
  {
   "cell_type": "code",
   "execution_count": 99,
   "metadata": {},
   "outputs": [],
   "source": [
    "c_England_sql = '''insert into table relation_among_date_class_boxo SELECT '2017','c_England',t2.v FROM (SELECT SUM(t1.boxoffice) AS v FROM film44 t1 WHERE t1.c_England=1 and mdate < '2017-12-31'and mdate >'2017-01-01') t2'''"
   ]
  },
  {
   "cell_type": "code",
   "execution_count": 100,
   "metadata": {},
   "outputs": [],
   "source": [
    "cursor.execute(c_England_sql)"
   ]
  },
  {
   "cell_type": "code",
   "execution_count": 101,
   "metadata": {},
   "outputs": [],
   "source": [
    "del c_England_sql"
   ]
  },
  {
   "cell_type": "raw",
   "metadata": {},
   "source": [
    "俄罗斯"
   ]
  },
  {
   "cell_type": "code",
   "execution_count": 102,
   "metadata": {},
   "outputs": [],
   "source": [
    "c_Russia_sql = '''insert into table relation_among_date_class_boxo SELECT '2017','c_Russia',t2.v FROM (SELECT SUM(t1.boxoffice) AS v FROM film44 t1 WHERE t1.c_Russia=1 and mdate < '2017-12-31'and mdate >'2017-01-01') t2'''"
   ]
  },
  {
   "cell_type": "code",
   "execution_count": 103,
   "metadata": {},
   "outputs": [],
   "source": [
    "cursor.execute(c_Russia_sql)"
   ]
  },
  {
   "cell_type": "code",
   "execution_count": 104,
   "metadata": {},
   "outputs": [],
   "source": [
    "del c_Russia_sql"
   ]
  },
  {
   "cell_type": "raw",
   "metadata": {},
   "source": [
    "意大利"
   ]
  },
  {
   "cell_type": "code",
   "execution_count": 105,
   "metadata": {},
   "outputs": [],
   "source": [
    "c_Italy_sql = '''insert into table relation_among_date_class_boxo SELECT '2017','c_Italy',t2.v FROM (SELECT SUM(t1.boxoffice) AS v FROM film44 t1 WHERE t1.c_Italy=1 and mdate < '2017-12-31'and mdate >'2017-01-01') t2'''"
   ]
  },
  {
   "cell_type": "code",
   "execution_count": 106,
   "metadata": {},
   "outputs": [],
   "source": [
    "cursor.execute(c_Italy_sql)"
   ]
  },
  {
   "cell_type": "code",
   "execution_count": 107,
   "metadata": {},
   "outputs": [],
   "source": [
    "del c_Italy_sql"
   ]
  },
  {
   "cell_type": "raw",
   "metadata": {},
   "source": [
    "西班牙"
   ]
  },
  {
   "cell_type": "code",
   "execution_count": 108,
   "metadata": {},
   "outputs": [],
   "source": [
    "c_Spain_sql = '''insert into table relation_among_date_class_boxo SELECT '2017','c_Spain',t2.v FROM (SELECT SUM(t1.boxoffice) AS v FROM film44 t1 WHERE t1.c_Spain=1 and mdate < '2017-12-31'and mdate >'2017-01-01') t2'''"
   ]
  },
  {
   "cell_type": "code",
   "execution_count": 109,
   "metadata": {},
   "outputs": [],
   "source": [
    "cursor.execute(c_Spain_sql)"
   ]
  },
  {
   "cell_type": "code",
   "execution_count": 110,
   "metadata": {},
   "outputs": [],
   "source": [
    "del c_Spain_sql"
   ]
  },
  {
   "cell_type": "raw",
   "metadata": {},
   "source": [
    "德国"
   ]
  },
  {
   "cell_type": "code",
   "execution_count": 111,
   "metadata": {},
   "outputs": [],
   "source": [
    "c_Germany_sql = '''insert into table relation_among_date_class_boxo SELECT '2017','c_Germany',t2.v FROM (SELECT SUM(t1.boxoffice) AS v FROM film44 t1 WHERE t1.c_Germany=1 and mdate < '2017-12-31'and mdate >'2017-01-01') t2'''"
   ]
  },
  {
   "cell_type": "code",
   "execution_count": 114,
   "metadata": {},
   "outputs": [],
   "source": [
    "cursor.execute(c_Germany_sql)"
   ]
  },
  {
   "cell_type": "code",
   "execution_count": 115,
   "metadata": {},
   "outputs": [],
   "source": [
    "del c_Germany_sql"
   ]
  },
  {
   "cell_type": "raw",
   "metadata": {},
   "source": [
    "波兰"
   ]
  },
  {
   "cell_type": "code",
   "execution_count": 116,
   "metadata": {},
   "outputs": [],
   "source": [
    "c_Poland_sql = '''insert into table relation_among_date_class_boxo SELECT '2017','c_Poland',t2.v FROM (SELECT SUM(t1.boxoffice) AS v FROM film44 t1 WHERE t1.c_Poland=1 and mdate < '2017-12-31'and mdate >'2017-01-01') t2'''"
   ]
  },
  {
   "cell_type": "code",
   "execution_count": 117,
   "metadata": {},
   "outputs": [],
   "source": [
    "cursor.execute(c_Poland_sql)"
   ]
  },
  {
   "cell_type": "code",
   "execution_count": 118,
   "metadata": {},
   "outputs": [],
   "source": [
    "del c_Poland_sql"
   ]
  },
  {
   "cell_type": "raw",
   "metadata": {},
   "source": [
    "澳大利亚"
   ]
  },
  {
   "cell_type": "code",
   "execution_count": 119,
   "metadata": {},
   "outputs": [],
   "source": [
    "c_Australia_sql = '''insert into table relation_among_date_class_boxo SELECT '2017','c_Australia',t2.v FROM (SELECT SUM(t1.boxoffice) AS v FROM film44 t1 WHERE t1.c_Australia=1 and mdate < '2017-12-31'and mdate >'2017-01-01') t2'''"
   ]
  },
  {
   "cell_type": "code",
   "execution_count": 120,
   "metadata": {},
   "outputs": [],
   "source": [
    "cursor.execute(c_Australia_sql)"
   ]
  },
  {
   "cell_type": "code",
   "execution_count": 121,
   "metadata": {},
   "outputs": [],
   "source": [
    "del c_Australia_sql"
   ]
  },
  {
   "cell_type": "raw",
   "metadata": {},
   "source": [
    "伊朗"
   ]
  },
  {
   "cell_type": "code",
   "execution_count": 122,
   "metadata": {},
   "outputs": [],
   "source": [
    "c_Iran_sql = '''insert into table relation_among_date_class_boxo SELECT '2017','c_Iran',t2.v FROM (SELECT SUM(t1.boxoffice) AS v FROM film44 t1 WHERE t1.c_Iran=1 and mdate < '2017-12-31'and mdate >'2017-01-01') t2'''"
   ]
  },
  {
   "cell_type": "code",
   "execution_count": 123,
   "metadata": {},
   "outputs": [],
   "source": [
    "cursor.execute(c_Iran_sql)"
   ]
  },
  {
   "cell_type": "code",
   "execution_count": 124,
   "metadata": {},
   "outputs": [],
   "source": [
    "del c_Iran_sql"
   ]
  },
  {
   "cell_type": "raw",
   "metadata": {},
   "source": [
    "其他"
   ]
  },
  {
   "cell_type": "code",
   "execution_count": 125,
   "metadata": {},
   "outputs": [],
   "source": [
    "c_Others_sql = '''insert into table relation_among_date_class_boxo SELECT '2017','c_Others',t2.v FROM (SELECT SUM(t1.boxoffice) AS v FROM film44 t1 WHERE t1.c_Others=1 and mdate < '2017-12-31'and mdate >'2017-01-01') t2'''"
   ]
  },
  {
   "cell_type": "code",
   "execution_count": 126,
   "metadata": {},
   "outputs": [],
   "source": [
    "cursor.execute(c_Others_sql)"
   ]
  },
  {
   "cell_type": "code",
   "execution_count": 127,
   "metadata": {},
   "outputs": [],
   "source": [
    "del c_Others_sql"
   ]
  },
  {
   "cell_type": "markdown",
   "metadata": {},
   "source": [
    "# 2018"
   ]
  },
  {
   "cell_type": "raw",
   "metadata": {},
   "source": [
    "爱情"
   ]
  },
  {
   "cell_type": "code",
   "execution_count": 128,
   "metadata": {},
   "outputs": [],
   "source": [
    "t_romance_sql = '''insert into table relation_among_date_class_boxo SELECT '2018','t_romance',t2.v FROM (SELECT SUM(t1.boxoffice) AS v FROM film44 t1 WHERE t1.t_romance=1 and mdate < '2018-12-31'and mdate >'2018-01-01') t2'''"
   ]
  },
  {
   "cell_type": "code",
   "execution_count": 129,
   "metadata": {},
   "outputs": [],
   "source": [
    "cursor.execute(t_romance_sql)"
   ]
  },
  {
   "cell_type": "code",
   "execution_count": 130,
   "metadata": {},
   "outputs": [],
   "source": [
    "del t_romance_sql"
   ]
  },
  {
   "cell_type": "raw",
   "metadata": {},
   "source": [
    "喜剧"
   ]
  },
  {
   "cell_type": "code",
   "execution_count": 131,
   "metadata": {},
   "outputs": [],
   "source": [
    "t_comedy_sql = '''insert into table relation_among_date_class_boxo SELECT '2018','t_comedy',t2.v FROM (SELECT SUM(t1.boxoffice) AS v FROM film44 t1 WHERE t1.t_comedy=1 and mdate < '2018-12-31'and mdate >'2018-01-01') t2'''"
   ]
  },
  {
   "cell_type": "code",
   "execution_count": 132,
   "metadata": {},
   "outputs": [],
   "source": [
    "cursor.execute(t_comedy_sql)"
   ]
  },
  {
   "cell_type": "code",
   "execution_count": 133,
   "metadata": {},
   "outputs": [],
   "source": [
    "del t_comedy_sql"
   ]
  },
  {
   "cell_type": "raw",
   "metadata": {},
   "source": [
    "动画"
   ]
  },
  {
   "cell_type": "code",
   "execution_count": 134,
   "metadata": {},
   "outputs": [],
   "source": [
    "t_animate_sql = '''insert into table relation_among_date_class_boxo SELECT '2018','t_animate',t2.v FROM (SELECT SUM(t1.boxoffice) AS v FROM film44 t1 WHERE t1.t_animate=1 and mdate < '2018-12-31'and mdate >'2018-01-01') t2'''"
   ]
  },
  {
   "cell_type": "code",
   "execution_count": 135,
   "metadata": {},
   "outputs": [],
   "source": [
    "cursor.execute(t_animate_sql)"
   ]
  },
  {
   "cell_type": "code",
   "execution_count": 136,
   "metadata": {},
   "outputs": [],
   "source": [
    "del t_animate_sql"
   ]
  },
  {
   "cell_type": "raw",
   "metadata": {},
   "source": [
    "剧情"
   ]
  },
  {
   "cell_type": "code",
   "execution_count": 137,
   "metadata": {},
   "outputs": [],
   "source": [
    "t_plot_sql = '''insert into table relation_among_date_class_boxo SELECT '2018','t_plot',t2.v FROM (SELECT SUM(t1.boxoffice) AS v FROM film44 t1 WHERE t1.t_plot=1 and mdate < '2018-12-31'and mdate >'2018-01-01') t2'''"
   ]
  },
  {
   "cell_type": "code",
   "execution_count": 138,
   "metadata": {},
   "outputs": [],
   "source": [
    "cursor.execute(t_plot_sql)"
   ]
  },
  {
   "cell_type": "code",
   "execution_count": 139,
   "metadata": {},
   "outputs": [],
   "source": [
    "del t_plot_sql"
   ]
  },
  {
   "cell_type": "raw",
   "metadata": {},
   "source": [
    "恐怖"
   ]
  },
  {
   "cell_type": "code",
   "execution_count": 140,
   "metadata": {},
   "outputs": [],
   "source": [
    "t_horror_sql = '''insert into table relation_among_date_class_boxo SELECT '2018','t_horror',t2.v FROM (SELECT SUM(t1.boxoffice) AS v FROM film44 t1 WHERE t1.t_horror=1 and mdate < '2018-12-31'and mdate >'2018-01-01') t2'''"
   ]
  },
  {
   "cell_type": "code",
   "execution_count": 141,
   "metadata": {},
   "outputs": [],
   "source": [
    "cursor.execute(t_horror_sql)"
   ]
  },
  {
   "cell_type": "code",
   "execution_count": 142,
   "metadata": {},
   "outputs": [],
   "source": [
    "del t_horror_sql"
   ]
  },
  {
   "cell_type": "raw",
   "metadata": {},
   "source": [
    "惊悚"
   ]
  },
  {
   "cell_type": "code",
   "execution_count": 143,
   "metadata": {},
   "outputs": [],
   "source": [
    "t_thriller_sql = '''insert into table relation_among_date_class_boxo SELECT '2018','t_thriller',t2.v FROM (SELECT SUM(t1.boxoffice) AS v FROM film44 t1 WHERE t1.t_thriller=1 and mdate < '2018-12-31'and mdate >'2018-01-01') t2'''"
   ]
  },
  {
   "cell_type": "code",
   "execution_count": 144,
   "metadata": {},
   "outputs": [],
   "source": [
    "cursor.execute(t_thriller_sql)"
   ]
  },
  {
   "cell_type": "code",
   "execution_count": 145,
   "metadata": {},
   "outputs": [],
   "source": [
    "del t_thriller_sql"
   ]
  },
  {
   "cell_type": "raw",
   "metadata": {},
   "source": [
    "科幻"
   ]
  },
  {
   "cell_type": "code",
   "execution_count": 146,
   "metadata": {},
   "outputs": [],
   "source": [
    "t_science_sql = '''insert into table relation_among_date_class_boxo SELECT '2018','t_science',t2.v FROM (SELECT SUM(t1.boxoffice) AS v FROM film44 t1 WHERE t1.t_science=1 and mdate < '2018-12-31'and mdate >'2018-01-01') t2'''"
   ]
  },
  {
   "cell_type": "code",
   "execution_count": 147,
   "metadata": {},
   "outputs": [],
   "source": [
    "cursor.execute(t_science_sql)"
   ]
  },
  {
   "cell_type": "code",
   "execution_count": 148,
   "metadata": {},
   "outputs": [],
   "source": [
    "del t_science_sql"
   ]
  },
  {
   "cell_type": "raw",
   "metadata": {},
   "source": [
    "动作"
   ]
  },
  {
   "cell_type": "code",
   "execution_count": 149,
   "metadata": {},
   "outputs": [],
   "source": [
    "t_action_sql = '''insert into table relation_among_date_class_boxo SELECT '2018','t_action',t2.v FROM (SELECT SUM(t1.boxoffice) AS v FROM film44 t1 WHERE t1.t_action=1 and mdate < '2018-12-31'and mdate >'2018-01-01') t2'''"
   ]
  },
  {
   "cell_type": "code",
   "execution_count": 150,
   "metadata": {},
   "outputs": [],
   "source": [
    "cursor.execute(t_action_sql)"
   ]
  },
  {
   "cell_type": "code",
   "execution_count": 151,
   "metadata": {},
   "outputs": [],
   "source": [
    "del t_action_sql"
   ]
  },
  {
   "cell_type": "raw",
   "metadata": {},
   "source": [
    "悬疑"
   ]
  },
  {
   "cell_type": "code",
   "execution_count": 152,
   "metadata": {},
   "outputs": [],
   "source": [
    "t_suspense_sql = '''insert into table relation_among_date_class_boxo SELECT '2018','t_suspense',t2.v FROM (SELECT SUM(t1.boxoffice) AS v FROM film44 t1 WHERE t1.t_suspense=1 and mdate < '2018-12-31'and mdate >'2018-01-01') t2'''"
   ]
  },
  {
   "cell_type": "code",
   "execution_count": 153,
   "metadata": {
    "scrolled": true
   },
   "outputs": [
    {
     "ename": "OperationalError",
     "evalue": "TExecuteStatementResp(operationHandle=None, status=TStatus(errorCode=2, infoMessages=['*org.apache.hive.service.cli.HiveSQLException:Error while processing statement: FAILED: Execution Error, return code 2 from org.apache.hadoop.hive.ql.exec.mr.MapRedTask:28:27', 'org.apache.hive.service.cli.operation.Operation:toSQLException:Operation.java:335', 'org.apache.hive.service.cli.operation.SQLOperation:runQuery:SQLOperation.java:226', 'org.apache.hive.service.cli.operation.SQLOperation:runInternal:SQLOperation.java:263', 'org.apache.hive.service.cli.operation.Operation:run:Operation.java:247', 'org.apache.hive.service.cli.session.HiveSessionImpl:executeStatementInternal:HiveSessionImpl.java:541', 'org.apache.hive.service.cli.session.HiveSessionImpl:executeStatement:HiveSessionImpl.java:516', 'sun.reflect.GeneratedMethodAccessor75:invoke::-1', 'sun.reflect.DelegatingMethodAccessorImpl:invoke:DelegatingMethodAccessorImpl.java:43', 'java.lang.reflect.Method:invoke:Method.java:498', 'org.apache.hive.service.cli.session.HiveSessionProxy:invoke:HiveSessionProxy.java:78', 'org.apache.hive.service.cli.session.HiveSessionProxy:access$000:HiveSessionProxy.java:36', 'org.apache.hive.service.cli.session.HiveSessionProxy$1:run:HiveSessionProxy.java:63', 'java.security.AccessController:doPrivileged:AccessController.java:-2', 'javax.security.auth.Subject:doAs:Subject.java:422', 'org.apache.hadoop.security.UserGroupInformation:doAs:UserGroupInformation.java:1762', 'org.apache.hive.service.cli.session.HiveSessionProxy:invoke:HiveSessionProxy.java:59', 'com.sun.proxy.$Proxy42:executeStatement::-1', 'org.apache.hive.service.cli.CLIService:executeStatement:CLIService.java:282', 'org.apache.hive.service.cli.thrift.ThriftCLIService:ExecuteStatement:ThriftCLIService.java:563', 'org.apache.hive.service.rpc.thrift.TCLIService$Processor$ExecuteStatement:getResult:TCLIService.java:1557', 'org.apache.hive.service.rpc.thrift.TCLIService$Processor$ExecuteStatement:getResult:TCLIService.java:1542', 'org.apache.thrift.ProcessFunction:process:ProcessFunction.java:39', 'org.apache.thrift.TBaseProcessor:process:TBaseProcessor.java:39', 'org.apache.hive.service.auth.TSetIpAddressProcessor:process:TSetIpAddressProcessor.java:56', 'org.apache.thrift.server.TThreadPoolServer$WorkerProcess:run:TThreadPoolServer.java:286', 'java.util.concurrent.ThreadPoolExecutor:runWorker:ThreadPoolExecutor.java:1149', 'java.util.concurrent.ThreadPoolExecutor$Worker:run:ThreadPoolExecutor.java:624', 'java.lang.Thread:run:Thread.java:748'], errorMessage='Error while processing statement: FAILED: Execution Error, return code 2 from org.apache.hadoop.hive.ql.exec.mr.MapRedTask', statusCode=3, sqlState='08S01'))",
     "output_type": "error",
     "traceback": [
      "\u001b[0;31m---------------------------------------------------------------------------\u001b[0m",
      "\u001b[0;31mOperationalError\u001b[0m                          Traceback (most recent call last)",
      "\u001b[0;32m<ipython-input-153-d9d2eb6768cc>\u001b[0m in \u001b[0;36m<module>\u001b[0;34m\u001b[0m\n\u001b[0;32m----> 1\u001b[0;31m \u001b[0mcursor\u001b[0m\u001b[0;34m.\u001b[0m\u001b[0mexecute\u001b[0m\u001b[0;34m(\u001b[0m\u001b[0mt_suspense_sql\u001b[0m\u001b[0;34m)\u001b[0m\u001b[0;34m\u001b[0m\u001b[0m\n\u001b[0m",
      "\u001b[0;32m~/.local/lib/python3.5/site-packages/pyhive/hive.py\u001b[0m in \u001b[0;36mexecute\u001b[0;34m(self, operation, parameters, **kwargs)\u001b[0m\n\u001b[1;32m    363\u001b[0m         \u001b[0m_logger\u001b[0m\u001b[0;34m.\u001b[0m\u001b[0mdebug\u001b[0m\u001b[0;34m(\u001b[0m\u001b[0mreq\u001b[0m\u001b[0;34m)\u001b[0m\u001b[0;34m\u001b[0m\u001b[0m\n\u001b[1;32m    364\u001b[0m         \u001b[0mresponse\u001b[0m \u001b[0;34m=\u001b[0m \u001b[0mself\u001b[0m\u001b[0;34m.\u001b[0m\u001b[0m_connection\u001b[0m\u001b[0;34m.\u001b[0m\u001b[0mclient\u001b[0m\u001b[0;34m.\u001b[0m\u001b[0mExecuteStatement\u001b[0m\u001b[0;34m(\u001b[0m\u001b[0mreq\u001b[0m\u001b[0;34m)\u001b[0m\u001b[0;34m\u001b[0m\u001b[0m\n\u001b[0;32m--> 365\u001b[0;31m         \u001b[0m_check_status\u001b[0m\u001b[0;34m(\u001b[0m\u001b[0mresponse\u001b[0m\u001b[0;34m)\u001b[0m\u001b[0;34m\u001b[0m\u001b[0m\n\u001b[0m\u001b[1;32m    366\u001b[0m         \u001b[0mself\u001b[0m\u001b[0;34m.\u001b[0m\u001b[0m_operationHandle\u001b[0m \u001b[0;34m=\u001b[0m \u001b[0mresponse\u001b[0m\u001b[0;34m.\u001b[0m\u001b[0moperationHandle\u001b[0m\u001b[0;34m\u001b[0m\u001b[0m\n\u001b[1;32m    367\u001b[0m \u001b[0;34m\u001b[0m\u001b[0m\n",
      "\u001b[0;32m~/.local/lib/python3.5/site-packages/pyhive/hive.py\u001b[0m in \u001b[0;36m_check_status\u001b[0;34m(response)\u001b[0m\n\u001b[1;32m    493\u001b[0m     \u001b[0m_logger\u001b[0m\u001b[0;34m.\u001b[0m\u001b[0mdebug\u001b[0m\u001b[0;34m(\u001b[0m\u001b[0mresponse\u001b[0m\u001b[0;34m)\u001b[0m\u001b[0;34m\u001b[0m\u001b[0m\n\u001b[1;32m    494\u001b[0m     \u001b[0;32mif\u001b[0m \u001b[0mresponse\u001b[0m\u001b[0;34m.\u001b[0m\u001b[0mstatus\u001b[0m\u001b[0;34m.\u001b[0m\u001b[0mstatusCode\u001b[0m \u001b[0;34m!=\u001b[0m \u001b[0mttypes\u001b[0m\u001b[0;34m.\u001b[0m\u001b[0mTStatusCode\u001b[0m\u001b[0;34m.\u001b[0m\u001b[0mSUCCESS_STATUS\u001b[0m\u001b[0;34m:\u001b[0m\u001b[0;34m\u001b[0m\u001b[0m\n\u001b[0;32m--> 495\u001b[0;31m         \u001b[0;32mraise\u001b[0m \u001b[0mOperationalError\u001b[0m\u001b[0;34m(\u001b[0m\u001b[0mresponse\u001b[0m\u001b[0;34m)\u001b[0m\u001b[0;34m\u001b[0m\u001b[0m\n\u001b[0m",
      "\u001b[0;31mOperationalError\u001b[0m: TExecuteStatementResp(operationHandle=None, status=TStatus(errorCode=2, infoMessages=['*org.apache.hive.service.cli.HiveSQLException:Error while processing statement: FAILED: Execution Error, return code 2 from org.apache.hadoop.hive.ql.exec.mr.MapRedTask:28:27', 'org.apache.hive.service.cli.operation.Operation:toSQLException:Operation.java:335', 'org.apache.hive.service.cli.operation.SQLOperation:runQuery:SQLOperation.java:226', 'org.apache.hive.service.cli.operation.SQLOperation:runInternal:SQLOperation.java:263', 'org.apache.hive.service.cli.operation.Operation:run:Operation.java:247', 'org.apache.hive.service.cli.session.HiveSessionImpl:executeStatementInternal:HiveSessionImpl.java:541', 'org.apache.hive.service.cli.session.HiveSessionImpl:executeStatement:HiveSessionImpl.java:516', 'sun.reflect.GeneratedMethodAccessor75:invoke::-1', 'sun.reflect.DelegatingMethodAccessorImpl:invoke:DelegatingMethodAccessorImpl.java:43', 'java.lang.reflect.Method:invoke:Method.java:498', 'org.apache.hive.service.cli.session.HiveSessionProxy:invoke:HiveSessionProxy.java:78', 'org.apache.hive.service.cli.session.HiveSessionProxy:access$000:HiveSessionProxy.java:36', 'org.apache.hive.service.cli.session.HiveSessionProxy$1:run:HiveSessionProxy.java:63', 'java.security.AccessController:doPrivileged:AccessController.java:-2', 'javax.security.auth.Subject:doAs:Subject.java:422', 'org.apache.hadoop.security.UserGroupInformation:doAs:UserGroupInformation.java:1762', 'org.apache.hive.service.cli.session.HiveSessionProxy:invoke:HiveSessionProxy.java:59', 'com.sun.proxy.$Proxy42:executeStatement::-1', 'org.apache.hive.service.cli.CLIService:executeStatement:CLIService.java:282', 'org.apache.hive.service.cli.thrift.ThriftCLIService:ExecuteStatement:ThriftCLIService.java:563', 'org.apache.hive.service.rpc.thrift.TCLIService$Processor$ExecuteStatement:getResult:TCLIService.java:1557', 'org.apache.hive.service.rpc.thrift.TCLIService$Processor$ExecuteStatement:getResult:TCLIService.java:1542', 'org.apache.thrift.ProcessFunction:process:ProcessFunction.java:39', 'org.apache.thrift.TBaseProcessor:process:TBaseProcessor.java:39', 'org.apache.hive.service.auth.TSetIpAddressProcessor:process:TSetIpAddressProcessor.java:56', 'org.apache.thrift.server.TThreadPoolServer$WorkerProcess:run:TThreadPoolServer.java:286', 'java.util.concurrent.ThreadPoolExecutor:runWorker:ThreadPoolExecutor.java:1149', 'java.util.concurrent.ThreadPoolExecutor$Worker:run:ThreadPoolExecutor.java:624', 'java.lang.Thread:run:Thread.java:748'], errorMessage='Error while processing statement: FAILED: Execution Error, return code 2 from org.apache.hadoop.hive.ql.exec.mr.MapRedTask', statusCode=3, sqlState='08S01'))"
     ]
    }
   ],
   "source": [
    "cursor.execute(t_suspense_sql)"
   ]
  },
  {
   "cell_type": "code",
   "execution_count": null,
   "metadata": {},
   "outputs": [],
   "source": [
    "del t_suspense_sql"
   ]
  },
  {
   "cell_type": "raw",
   "metadata": {},
   "source": [
    "犯罪"
   ]
  },
  {
   "cell_type": "code",
   "execution_count": null,
   "metadata": {},
   "outputs": [],
   "source": [
    "t_crime_sql = '''insert into table relation_among_date_class_boxo SELECT '2018','t_crime',t2.v FROM (SELECT SUM(t1.boxoffice) AS v FROM film44 t1 WHERE t1.t_crime=1 and mdate < '2018-12-31'and mdate >'2018-01-01') t2'''"
   ]
  },
  {
   "cell_type": "code",
   "execution_count": null,
   "metadata": {},
   "outputs": [],
   "source": [
    "cursor.execute(t_crime_sql)"
   ]
  },
  {
   "cell_type": "code",
   "execution_count": null,
   "metadata": {},
   "outputs": [],
   "source": [
    "del t_crime_sql"
   ]
  },
  {
   "cell_type": "raw",
   "metadata": {},
   "source": [
    "犯罪"
   ]
  },
  {
   "cell_type": "code",
   "execution_count": null,
   "metadata": {},
   "outputs": [],
   "source": [
    "t_crime_sql = '''insert into table relation_among_date_class_boxo SELECT '2018','t_crime',t2.v FROM (SELECT SUM(t1.boxoffice) AS v FROM film44 t1 WHERE t1.t_crime=1 and mdate < '2018-12-31'and mdate >'2018-01-01') t2'''"
   ]
  },
  {
   "cell_type": "code",
   "execution_count": null,
   "metadata": {},
   "outputs": [],
   "source": [
    "cursor.execute(t_crime_sql)"
   ]
  },
  {
   "cell_type": "code",
   "execution_count": null,
   "metadata": {},
   "outputs": [],
   "source": [
    "del t_crime_sql"
   ]
  },
  {
   "cell_type": "raw",
   "metadata": {},
   "source": [
    "冒险"
   ]
  },
  {
   "cell_type": "code",
   "execution_count": 162,
   "metadata": {},
   "outputs": [],
   "source": [
    "t_adventure_sql = '''insert into table relation_among_date_class_boxo SELECT '2018','t_adventure',t2.v FROM (SELECT SUM(t1.boxoffice) AS v FROM film44 t1 WHERE t1.t_adventure=1 and mdate < '2018-12-31'and mdate >'2018-01-01') t2'''"
   ]
  },
  {
   "cell_type": "code",
   "execution_count": 165,
   "metadata": {},
   "outputs": [],
   "source": [
    "cursor.execute(t_adventure_sql)"
   ]
  },
  {
   "cell_type": "code",
   "execution_count": 166,
   "metadata": {},
   "outputs": [],
   "source": [
    "del t_adventure_sql"
   ]
  },
  {
   "cell_type": "raw",
   "metadata": {},
   "source": [
    "战争"
   ]
  },
  {
   "cell_type": "code",
   "execution_count": 167,
   "metadata": {},
   "outputs": [],
   "source": [
    "t_war_sql = '''insert into table relation_among_date_class_boxo SELECT '2018','t_war',t2.v FROM (SELECT SUM(t1.boxoffice) AS v FROM film44 t1 WHERE t1.t_war=1 and mdate < '2018-12-31'and mdate >'2018-01-01') t2'''"
   ]
  },
  {
   "cell_type": "code",
   "execution_count": 168,
   "metadata": {},
   "outputs": [],
   "source": [
    "cursor.execute(t_war_sql)"
   ]
  },
  {
   "cell_type": "code",
   "execution_count": 169,
   "metadata": {},
   "outputs": [],
   "source": [
    "del t_war_sql"
   ]
  },
  {
   "cell_type": "raw",
   "metadata": {},
   "source": [
    "奇幻"
   ]
  },
  {
   "cell_type": "code",
   "execution_count": 170,
   "metadata": {},
   "outputs": [],
   "source": [
    "t_fantasy_sql = '''insert into table relation_among_date_class_boxo SELECT '2018','t_fantasy',t2.v FROM (SELECT SUM(t1.boxoffice) AS v FROM film44 t1 WHERE t1.t_fantasy=1 and mdate < '2018-12-31'and mdate >'2018-01-01') t2'''"
   ]
  },
  {
   "cell_type": "code",
   "execution_count": 171,
   "metadata": {},
   "outputs": [],
   "source": [
    "cursor.execute(t_fantasy_sql)"
   ]
  },
  {
   "cell_type": "code",
   "execution_count": 172,
   "metadata": {},
   "outputs": [],
   "source": [
    "del t_fantasy_sql"
   ]
  },
  {
   "cell_type": "raw",
   "metadata": {},
   "source": [
    "运动"
   ]
  },
  {
   "cell_type": "code",
   "execution_count": 173,
   "metadata": {},
   "outputs": [],
   "source": [
    "t_sports_sql = '''insert into table relation_among_date_class_boxo SELECT '2018','t_sports',t2.v FROM (SELECT SUM(t1.boxoffice) AS v FROM film44 t1 WHERE t1.t_sports=1 and mdate < '2018-12-31'and mdate >'2018-01-01') t2'''"
   ]
  },
  {
   "cell_type": "code",
   "execution_count": 174,
   "metadata": {},
   "outputs": [],
   "source": [
    "cursor.execute(t_sports_sql)"
   ]
  },
  {
   "cell_type": "code",
   "execution_count": 175,
   "metadata": {},
   "outputs": [],
   "source": [
    "del t_sports_sql"
   ]
  },
  {
   "cell_type": "raw",
   "metadata": {},
   "source": [
    "家庭"
   ]
  },
  {
   "cell_type": "code",
   "execution_count": 176,
   "metadata": {},
   "outputs": [],
   "source": [
    "t_family_sql ='''insert into table relation_among_date_class_boxo SELECT '2018','t_family',t2.v FROM (SELECT SUM(t1.boxoffice) AS v FROM film44 t1 WHERE t1.t_family=1 and mdate < '2018-12-31'and mdate >'2018-01-01') t2'''"
   ]
  },
  {
   "cell_type": "code",
   "execution_count": 177,
   "metadata": {},
   "outputs": [],
   "source": [
    "cursor.execute(t_family_sql)"
   ]
  },
  {
   "cell_type": "code",
   "execution_count": 178,
   "metadata": {},
   "outputs": [],
   "source": [
    "del t_family_sql"
   ]
  },
  {
   "cell_type": "raw",
   "metadata": {},
   "source": [
    "古装"
   ]
  },
  {
   "cell_type": "code",
   "execution_count": 179,
   "metadata": {},
   "outputs": [],
   "source": [
    "t_costume_sql = '''insert into table relation_among_date_class_boxo SELECT '2018','t_costume',t2.v FROM (SELECT SUM(t1.boxoffice) AS v FROM film44 t1 WHERE t1.t_costume=1 and mdate < '2018-12-31'and mdate >'2018-01-01') t2'''"
   ]
  },
  {
   "cell_type": "code",
   "execution_count": 180,
   "metadata": {},
   "outputs": [],
   "source": [
    "cursor.execute(t_costume_sql)"
   ]
  },
  {
   "cell_type": "code",
   "execution_count": 181,
   "metadata": {},
   "outputs": [],
   "source": [
    "del t_costume_sql"
   ]
  },
  {
   "cell_type": "raw",
   "metadata": {},
   "source": [
    "武侠"
   ]
  },
  {
   "cell_type": "code",
   "execution_count": 182,
   "metadata": {},
   "outputs": [],
   "source": [
    "t_sword_sql = '''insert into table relation_among_date_class_boxo SELECT '2018','t_sword',t2.v FROM (SELECT SUM(t1.boxoffice) AS v FROM film44 t1 WHERE t1.t_sword=1 and mdate < '2018-12-31'and mdate >'2018-01-01') t2'''"
   ]
  },
  {
   "cell_type": "code",
   "execution_count": 183,
   "metadata": {},
   "outputs": [],
   "source": [
    "cursor.execute(t_sword_sql)"
   ]
  },
  {
   "cell_type": "code",
   "execution_count": 184,
   "metadata": {},
   "outputs": [],
   "source": [
    "del t_sword_sql"
   ]
  },
  {
   "cell_type": "raw",
   "metadata": {},
   "source": [
    "西部"
   ]
  },
  {
   "cell_type": "code",
   "execution_count": 185,
   "metadata": {},
   "outputs": [],
   "source": [
    "t_cowboy_sql = '''insert into table relation_among_date_class_boxo SELECT '2018','t_cowboy',t2.v FROM (SELECT SUM(t1.boxoffice) AS v FROM film44 t1 WHERE t1.t_cowboy=1 and mdate < '2018-12-31'and mdate >'2018-01-01') t2'''"
   ]
  },
  {
   "cell_type": "code",
   "execution_count": 186,
   "metadata": {},
   "outputs": [],
   "source": [
    "cursor.execute(t_cowboy_sql)"
   ]
  },
  {
   "cell_type": "code",
   "execution_count": 187,
   "metadata": {},
   "outputs": [],
   "source": [
    "del t_cowboy_sql"
   ]
  },
  {
   "cell_type": "raw",
   "metadata": {},
   "source": [
    "历史"
   ]
  },
  {
   "cell_type": "code",
   "execution_count": 188,
   "metadata": {},
   "outputs": [],
   "source": [
    "t_history_sql = '''insert into table relation_among_date_class_boxo SELECT '2018','t_history',t2.v FROM (SELECT SUM(t1.boxoffice) AS v FROM film44 t1 WHERE t1.t_history=1 and mdate < '2018-12-31'and mdate >'2018-01-01') t2'''"
   ]
  },
  {
   "cell_type": "code",
   "execution_count": 189,
   "metadata": {},
   "outputs": [],
   "source": [
    "cursor.execute(t_history_sql)"
   ]
  },
  {
   "cell_type": "code",
   "execution_count": 190,
   "metadata": {},
   "outputs": [],
   "source": [
    "del t_history_sql"
   ]
  },
  {
   "cell_type": "raw",
   "metadata": {},
   "source": [
    "传记"
   ]
  },
  {
   "cell_type": "code",
   "execution_count": 191,
   "metadata": {},
   "outputs": [],
   "source": [
    "t_biography_sql ='''insert into table relation_among_date_class_boxo SELECT '2018','t_biography',t2.v FROM (SELECT SUM(t1.boxoffice) AS v FROM film44 t1 WHERE t1.t_biography=1 and mdate < '2018-12-31'and mdate >'2018-01-01') t2'''"
   ]
  },
  {
   "cell_type": "code",
   "execution_count": 192,
   "metadata": {},
   "outputs": [],
   "source": [
    "cursor.execute(t_biography_sql)"
   ]
  },
  {
   "cell_type": "code",
   "execution_count": 193,
   "metadata": {},
   "outputs": [],
   "source": [
    "del t_biography_sql"
   ]
  },
  {
   "cell_type": "raw",
   "metadata": {},
   "source": [
    "歌舞"
   ]
  },
  {
   "cell_type": "code",
   "execution_count": 194,
   "metadata": {},
   "outputs": [],
   "source": [
    "t_dance_sql = '''insert into table relation_among_date_class_boxo SELECT '2018','t_dance',t2.v FROM (SELECT SUM(t1.boxoffice) AS v FROM film44 t1 WHERE t1.t_dance=1 and mdate < '2018-12-31'and mdate >'2018-01-01') t2'''"
   ]
  },
  {
   "cell_type": "code",
   "execution_count": 195,
   "metadata": {},
   "outputs": [],
   "source": [
    "cursor.execute(t_dance_sql)"
   ]
  },
  {
   "cell_type": "code",
   "execution_count": 196,
   "metadata": {},
   "outputs": [],
   "source": [
    "del t_dance_sql"
   ]
  },
  {
   "cell_type": "raw",
   "metadata": {},
   "source": [
    "黑色电影"
   ]
  },
  {
   "cell_type": "code",
   "execution_count": 197,
   "metadata": {},
   "outputs": [],
   "source": [
    "t_dark_sql = '''insert into table relation_among_date_class_boxo SELECT '2018','t_dark',t2.v FROM (SELECT SUM(t1.boxoffice) AS v FROM film44 t1 WHERE t1.t_dark=1 and mdate < '2018-12-31'and mdate >'2018-01-01') t2'''"
   ]
  },
  {
   "cell_type": "code",
   "execution_count": 198,
   "metadata": {},
   "outputs": [],
   "source": [
    "cursor.execute(t_dark_sql)"
   ]
  },
  {
   "cell_type": "code",
   "execution_count": 199,
   "metadata": {},
   "outputs": [],
   "source": [
    "del t_dark_sql"
   ]
  },
  {
   "cell_type": "raw",
   "metadata": {},
   "source": [
    "短片"
   ]
  },
  {
   "cell_type": "code",
   "execution_count": 205,
   "metadata": {},
   "outputs": [],
   "source": [
    "t_short_sql = '''insert into table relation_among_date_class_boxo SELECT '2018','t_short',t2.v FROM (SELECT SUM(t1.boxoffice) AS v FROM film44 t1 WHERE t1.t_short=1 and mdate < '2018-12-31'and mdate >'2018-01-01') t2'''"
   ]
  },
  {
   "cell_type": "code",
   "execution_count": 206,
   "metadata": {},
   "outputs": [],
   "source": [
    "cursor.execute(t_short_sql)"
   ]
  },
  {
   "cell_type": "code",
   "execution_count": 207,
   "metadata": {},
   "outputs": [],
   "source": [
    "del t_short_sql"
   ]
  },
  {
   "cell_type": "raw",
   "metadata": {},
   "source": [
    "纪录片"
   ]
  },
  {
   "cell_type": "code",
   "execution_count": 208,
   "metadata": {},
   "outputs": [],
   "source": [
    "t_documentary_sql = '''insert into table relation_among_date_class_boxo SELECT '2018','t_documentary',t2.v FROM (SELECT SUM(t1.boxoffice) AS v FROM film44 t1 WHERE t1.t_documentary=1 and mdate < '2018-12-31'and mdate >'2018-01-01') t2'''"
   ]
  },
  {
   "cell_type": "code",
   "execution_count": 209,
   "metadata": {},
   "outputs": [],
   "source": [
    "cursor.execute(t_documentary_sql)"
   ]
  },
  {
   "cell_type": "code",
   "execution_count": 210,
   "metadata": {},
   "outputs": [],
   "source": [
    "del t_documentary_sql"
   ]
  },
  {
   "cell_type": "raw",
   "metadata": {},
   "source": [
    "其他"
   ]
  },
  {
   "cell_type": "code",
   "execution_count": 211,
   "metadata": {},
   "outputs": [],
   "source": [
    "t_others_sql = '''insert into table relation_among_date_class_boxo SELECT '2018','t_others',t2.v FROM (SELECT SUM(t1.boxoffice) AS v FROM film44 t1 WHERE t1.t_others=1 and mdate < '2018-12-31'and mdate >'2018-01-01') t2'''"
   ]
  },
  {
   "cell_type": "code",
   "execution_count": 212,
   "metadata": {},
   "outputs": [],
   "source": [
    "cursor.execute(t_others_sql)"
   ]
  },
  {
   "cell_type": "code",
   "execution_count": 213,
   "metadata": {},
   "outputs": [],
   "source": [
    "del t_others_sql"
   ]
  },
  {
   "cell_type": "raw",
   "metadata": {},
   "source": [
    "大陆"
   ]
  },
  {
   "cell_type": "code",
   "execution_count": 214,
   "metadata": {},
   "outputs": [],
   "source": [
    "c_Mainland_sql = '''insert into table relation_among_date_class_boxo SELECT '2018','c_Mainland',t2.v FROM (SELECT SUM(t1.boxoffice) AS v FROM film44 t1 WHERE t1.c_Mainland=1 and mdate < '2018-12-31'and mdate >'2018-01-01') t2'''"
   ]
  },
  {
   "cell_type": "code",
   "execution_count": 215,
   "metadata": {},
   "outputs": [],
   "source": [
    "cursor.execute(c_Mainland_sql)"
   ]
  },
  {
   "cell_type": "code",
   "execution_count": 216,
   "metadata": {},
   "outputs": [],
   "source": [
    "del c_Mainland_sql"
   ]
  },
  {
   "cell_type": "raw",
   "metadata": {},
   "source": [
    "美国"
   ]
  },
  {
   "cell_type": "code",
   "execution_count": 217,
   "metadata": {},
   "outputs": [],
   "source": [
    "c_America_sql = '''insert into table relation_among_date_class_boxo SELECT '2018','c_America',t2.v FROM (SELECT SUM(t1.boxoffice) AS v FROM film44 t1 WHERE t1.c_America=1 and mdate < '2018-12-31'and mdate >'2018-01-01') t2'''"
   ]
  },
  {
   "cell_type": "code",
   "execution_count": 218,
   "metadata": {},
   "outputs": [],
   "source": [
    "cursor.execute(c_America_sql)"
   ]
  },
  {
   "cell_type": "code",
   "execution_count": 219,
   "metadata": {},
   "outputs": [],
   "source": [
    "del c_America_sql"
   ]
  },
  {
   "cell_type": "raw",
   "metadata": {},
   "source": [
    "韩国"
   ]
  },
  {
   "cell_type": "code",
   "execution_count": 222,
   "metadata": {},
   "outputs": [],
   "source": [
    "c_Korea_sql = '''insert into table relation_among_date_class_boxo SELECT '2018','c_Korea',t2.v FROM (SELECT SUM(t1.boxoffice) AS v FROM film44 t1 WHERE t1.c_Korea=1 and mdate < '2018-12-31'and mdate >'2018-01-01') t2'''"
   ]
  },
  {
   "cell_type": "code",
   "execution_count": 223,
   "metadata": {},
   "outputs": [],
   "source": [
    "cursor.execute(c_Korea_sql)"
   ]
  },
  {
   "cell_type": "code",
   "execution_count": 224,
   "metadata": {},
   "outputs": [],
   "source": [
    "del c_Korea_sql"
   ]
  },
  {
   "cell_type": "raw",
   "metadata": {},
   "source": [
    "日本"
   ]
  },
  {
   "cell_type": "code",
   "execution_count": 225,
   "metadata": {},
   "outputs": [],
   "source": [
    "c_Japan_sql = '''insert into table relation_among_date_class_boxo SELECT '2018','c_Japan',t2.v FROM (SELECT SUM(t1.boxoffice) AS v FROM film44 t1 WHERE t1.c_Japan=1 and mdate < '2018-12-31'and mdate >'2018-01-01') t2'''"
   ]
  },
  {
   "cell_type": "code",
   "execution_count": 226,
   "metadata": {},
   "outputs": [],
   "source": [
    "cursor.execute(c_Japan_sql)"
   ]
  },
  {
   "cell_type": "code",
   "execution_count": 227,
   "metadata": {},
   "outputs": [],
   "source": [
    "\n",
    "del c_Japan_sql"
   ]
  },
  {
   "cell_type": "raw",
   "metadata": {},
   "source": [
    "香港"
   ]
  },
  {
   "cell_type": "code",
   "execution_count": 228,
   "metadata": {},
   "outputs": [],
   "source": [
    "c_Hongkong_sql = '''insert into table relation_among_date_class_boxo SELECT '2018','c_Hongkong',t2.v FROM (SELECT SUM(t1.boxoffice) AS v FROM film44 t1 WHERE t1.c_Hongkong=1 and mdate < '2018-12-31'and mdate >'2018-01-01') t2'''"
   ]
  },
  {
   "cell_type": "code",
   "execution_count": 229,
   "metadata": {},
   "outputs": [],
   "source": [
    "cursor.execute(c_Hongkong_sql)"
   ]
  },
  {
   "cell_type": "code",
   "execution_count": 230,
   "metadata": {},
   "outputs": [],
   "source": [
    "del c_Hongkong_sql"
   ]
  },
  {
   "cell_type": "raw",
   "metadata": {},
   "source": [
    "台湾"
   ]
  },
  {
   "cell_type": "code",
   "execution_count": 231,
   "metadata": {},
   "outputs": [],
   "source": [
    "c_Taiwan_sql = '''insert into table relation_among_date_class_boxo SELECT '2018','c_Taiwan',t2.v FROM (SELECT SUM(t1.boxoffice) AS v FROM film44 t1 WHERE t1.c_Taiwan=1 and mdate < '2018-12-31'and mdate >'2018-01-01') t2'''"
   ]
  },
  {
   "cell_type": "code",
   "execution_count": 232,
   "metadata": {},
   "outputs": [],
   "source": [
    "cursor.execute(c_Taiwan_sql)"
   ]
  },
  {
   "cell_type": "code",
   "execution_count": 233,
   "metadata": {},
   "outputs": [],
   "source": [
    "del c_Taiwan_sql"
   ]
  },
  {
   "cell_type": "raw",
   "metadata": {},
   "source": [
    "泰国"
   ]
  },
  {
   "cell_type": "code",
   "execution_count": 234,
   "metadata": {},
   "outputs": [],
   "source": [
    "c_Thailand_sql = '''insert into table relation_among_date_class_boxo SELECT '2018','c_Thailand',t2.v FROM (SELECT SUM(t1.boxoffice) AS v FROM film44 t1 WHERE t1.c_Thailand=1 and mdate < '2018-12-31'and mdate >'2018-01-01') t2'''"
   ]
  },
  {
   "cell_type": "code",
   "execution_count": 235,
   "metadata": {},
   "outputs": [],
   "source": [
    "cursor.execute(c_Thailand_sql)"
   ]
  },
  {
   "cell_type": "code",
   "execution_count": 236,
   "metadata": {},
   "outputs": [],
   "source": [
    "del c_Thailand_sql"
   ]
  },
  {
   "cell_type": "raw",
   "metadata": {},
   "source": [
    "印度"
   ]
  },
  {
   "cell_type": "code",
   "execution_count": 237,
   "metadata": {},
   "outputs": [],
   "source": [
    "c_India_sql = '''insert into table relation_among_date_class_boxo SELECT '2018','c_India',t2.v FROM (SELECT SUM(t1.boxoffice) AS v FROM film44 t1 WHERE t1.c_India=1 and mdate < '2018-12-31'and mdate >'2018-01-01') t2'''"
   ]
  },
  {
   "cell_type": "code",
   "execution_count": 238,
   "metadata": {},
   "outputs": [],
   "source": [
    "cursor.execute(c_India_sql)"
   ]
  },
  {
   "cell_type": "code",
   "execution_count": 239,
   "metadata": {},
   "outputs": [],
   "source": [
    "del c_India_sql"
   ]
  },
  {
   "cell_type": "raw",
   "metadata": {},
   "source": [
    "法国"
   ]
  },
  {
   "cell_type": "code",
   "execution_count": 240,
   "metadata": {},
   "outputs": [],
   "source": [
    "c_France_sql = '''insert into table relation_among_date_class_boxo SELECT '2018','c_France',t2.v FROM (SELECT SUM(t1.boxoffice) AS v FROM film44 t1 WHERE t1.c_France=1 and mdate < '2018-12-31'and mdate >'2018-01-01') t2'''"
   ]
  },
  {
   "cell_type": "code",
   "execution_count": 241,
   "metadata": {},
   "outputs": [],
   "source": [
    "cursor.execute(c_France_sql)"
   ]
  },
  {
   "cell_type": "code",
   "execution_count": 242,
   "metadata": {},
   "outputs": [],
   "source": [
    "del c_France_sql"
   ]
  },
  {
   "cell_type": "raw",
   "metadata": {},
   "source": [
    "英国"
   ]
  },
  {
   "cell_type": "code",
   "execution_count": 243,
   "metadata": {},
   "outputs": [],
   "source": [
    "c_England_sql = '''insert into table relation_among_date_class_boxo SELECT '2018','c_England',t2.v FROM (SELECT SUM(t1.boxoffice) AS v FROM film44 t1 WHERE t1.c_England=1 and mdate < '2018-12-31'and mdate >'2018-01-01') t2'''"
   ]
  },
  {
   "cell_type": "code",
   "execution_count": 244,
   "metadata": {},
   "outputs": [],
   "source": [
    "cursor.execute(c_England_sql)"
   ]
  },
  {
   "cell_type": "code",
   "execution_count": 245,
   "metadata": {},
   "outputs": [],
   "source": [
    "del c_England_sql"
   ]
  },
  {
   "cell_type": "raw",
   "metadata": {},
   "source": [
    "俄罗斯"
   ]
  },
  {
   "cell_type": "code",
   "execution_count": 246,
   "metadata": {},
   "outputs": [],
   "source": [
    "c_Russia_sql = '''insert into table relation_among_date_class_boxo SELECT '2018','c_Russia',t2.v FROM (SELECT SUM(t1.boxoffice) AS v FROM film44 t1 WHERE t1.c_Russia=1 and mdate < '2018-12-31'and mdate >'2018-01-01') t2'''"
   ]
  },
  {
   "cell_type": "code",
   "execution_count": 247,
   "metadata": {},
   "outputs": [],
   "source": [
    "cursor.execute(c_Russia_sql)"
   ]
  },
  {
   "cell_type": "code",
   "execution_count": 248,
   "metadata": {},
   "outputs": [],
   "source": [
    "del c_Russia_sql"
   ]
  },
  {
   "cell_type": "raw",
   "metadata": {},
   "source": [
    "意大利"
   ]
  },
  {
   "cell_type": "code",
   "execution_count": 249,
   "metadata": {},
   "outputs": [],
   "source": [
    "c_Italy_sql = '''insert into table relation_among_date_class_boxo SELECT '2018','c_Italy',t2.v FROM (SELECT SUM(t1.boxoffice) AS v FROM film44 t1 WHERE t1.c_Italy=1 and mdate < '2018-12-31'and mdate >'2018-01-01') t2'''"
   ]
  },
  {
   "cell_type": "code",
   "execution_count": 250,
   "metadata": {},
   "outputs": [],
   "source": [
    "cursor.execute(c_Italy_sql)"
   ]
  },
  {
   "cell_type": "code",
   "execution_count": 251,
   "metadata": {},
   "outputs": [],
   "source": [
    "del c_Italy_sql"
   ]
  },
  {
   "cell_type": "raw",
   "metadata": {},
   "source": [
    "西班牙"
   ]
  },
  {
   "cell_type": "code",
   "execution_count": 252,
   "metadata": {},
   "outputs": [],
   "source": [
    "c_Spain_sql = '''insert into table relation_among_date_class_boxo SELECT '2018','c_Spain',t2.v FROM (SELECT SUM(t1.boxoffice) AS v FROM film44 t1 WHERE t1.c_Spain=1 and mdate < '2018-12-31'and mdate >'2018-01-01') t2'''"
   ]
  },
  {
   "cell_type": "code",
   "execution_count": 253,
   "metadata": {},
   "outputs": [],
   "source": [
    "cursor.execute(c_Spain_sql)"
   ]
  },
  {
   "cell_type": "code",
   "execution_count": 254,
   "metadata": {},
   "outputs": [],
   "source": [
    "del c_Spain_sql"
   ]
  },
  {
   "cell_type": "raw",
   "metadata": {},
   "source": [
    "德国"
   ]
  },
  {
   "cell_type": "code",
   "execution_count": 255,
   "metadata": {},
   "outputs": [],
   "source": [
    "c_Germany_sql = '''insert into table relation_among_date_class_boxo SELECT '2018','c_Germany',t2.v FROM (SELECT SUM(t1.boxoffice) AS v FROM film44 t1 WHERE t1.c_Germany=1 and mdate < '2018-12-31'and mdate >'2018-01-01') t2'''"
   ]
  },
  {
   "cell_type": "code",
   "execution_count": 257,
   "metadata": {},
   "outputs": [],
   "source": [
    "cursor.execute(c_Germany_sql)"
   ]
  },
  {
   "cell_type": "code",
   "execution_count": 258,
   "metadata": {},
   "outputs": [],
   "source": [
    "del c_Germany_sql"
   ]
  },
  {
   "cell_type": "raw",
   "metadata": {},
   "source": [
    "波兰"
   ]
  },
  {
   "cell_type": "code",
   "execution_count": 259,
   "metadata": {},
   "outputs": [],
   "source": [
    "c_Poland_sql = '''insert into table relation_among_date_class_boxo SELECT '2018','c_Poland',t2.v FROM (SELECT SUM(t1.boxoffice) AS v FROM film44 t1 WHERE t1.c_Poland=1 and mdate < '2018-12-31'and mdate >'2018-01-01') t2'''"
   ]
  },
  {
   "cell_type": "code",
   "execution_count": 260,
   "metadata": {},
   "outputs": [],
   "source": [
    "cursor.execute(c_Poland_sql)"
   ]
  },
  {
   "cell_type": "code",
   "execution_count": 261,
   "metadata": {},
   "outputs": [],
   "source": [
    "del c_Poland_sql"
   ]
  },
  {
   "cell_type": "raw",
   "metadata": {},
   "source": [
    "澳大利亚"
   ]
  },
  {
   "cell_type": "code",
   "execution_count": 262,
   "metadata": {},
   "outputs": [],
   "source": [
    "c_Australia_sql = '''insert into table relation_among_date_class_boxo SELECT '2018','c_Australia',t2.v FROM (SELECT SUM(t1.boxoffice) AS v FROM film44 t1 WHERE t1.c_Australia=1 and mdate < '2018-12-31'and mdate >'2018-01-01') t2'''"
   ]
  },
  {
   "cell_type": "code",
   "execution_count": 263,
   "metadata": {},
   "outputs": [],
   "source": [
    "cursor.execute(c_Australia_sql)"
   ]
  },
  {
   "cell_type": "code",
   "execution_count": 264,
   "metadata": {},
   "outputs": [],
   "source": [
    "del c_Australia_sql"
   ]
  },
  {
   "cell_type": "raw",
   "metadata": {},
   "source": [
    "伊朗"
   ]
  },
  {
   "cell_type": "code",
   "execution_count": 265,
   "metadata": {},
   "outputs": [],
   "source": [
    "c_Iran_sql = '''insert into table relation_among_date_class_boxo SELECT '2018','c_Iran',t2.v FROM (SELECT SUM(t1.boxoffice) AS v FROM film44 t1 WHERE t1.c_Iran=1 and mdate < '2018-12-31'and mdate >'2018-01-01') t2'''"
   ]
  },
  {
   "cell_type": "code",
   "execution_count": 266,
   "metadata": {},
   "outputs": [],
   "source": [
    "cursor.execute(c_Iran_sql)"
   ]
  },
  {
   "cell_type": "code",
   "execution_count": 267,
   "metadata": {},
   "outputs": [],
   "source": [
    "del c_Iran_sql"
   ]
  },
  {
   "cell_type": "raw",
   "metadata": {},
   "source": [
    "其他"
   ]
  },
  {
   "cell_type": "code",
   "execution_count": 268,
   "metadata": {},
   "outputs": [],
   "source": [
    "c_Others_sql = '''insert into table relation_among_date_class_boxo SELECT '2018','c_Others',t2.v FROM (SELECT SUM(t1.boxoffice) AS v FROM film44 t1 WHERE t1.c_Others=1 and mdate < '2018-12-31'and mdate >'2018-01-01') t2'''"
   ]
  },
  {
   "cell_type": "code",
   "execution_count": 269,
   "metadata": {},
   "outputs": [],
   "source": [
    "cursor.execute(c_Others_sql)"
   ]
  },
  {
   "cell_type": "code",
   "execution_count": 270,
   "metadata": {},
   "outputs": [],
   "source": [
    "del c_Others_sql"
   ]
  }
 ],
 "metadata": {
  "kernelspec": {
   "display_name": "Python 3",
   "language": "python",
   "name": "python3"
  },
  "language_info": {
   "codemirror_mode": {
    "name": "ipython",
    "version": 3
   },
   "file_extension": ".py",
   "mimetype": "text/x-python",
   "name": "python",
   "nbconvert_exporter": "python",
   "pygments_lexer": "ipython3",
   "version": "3.5.2"
  }
 },
 "nbformat": 4,
 "nbformat_minor": 2
}
