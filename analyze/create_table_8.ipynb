{
 "cells": [
  {
   "cell_type": "code",
   "execution_count": 1,
   "metadata": {},
   "outputs": [],
   "source": [
    "from pyhive import hive\n",
    "import pymysql\n",
    "conn = hive.Connection(host='127.0.0.1', port=10000, username='hadoop')\n",
    "cursor = conn.cursor()"
   ]
  },
  {
   "cell_type": "code",
   "execution_count": 2,
   "metadata": {},
   "outputs": [],
   "source": [
    "def exec_sql(sql):\n",
    "    cursor.execute(sql)\n",
    "    for result in cursor.fetchall():\n",
    "        print(result)"
   ]
  },
  {
   "cell_type": "markdown",
   "metadata": {},
   "source": [
    "# create_gross_boxo_and_top_boxo_changes_table(总票房与最高票房变化)"
   ]
  },
  {
   "cell_type": "markdown",
   "metadata": {},
   "source": [
    "# 按照季度划分"
   ]
  },
  {
   "cell_type": "code",
   "execution_count": 3,
   "metadata": {},
   "outputs": [],
   "source": [
    "cursor.execute(\"DROP TABLE IF EXISTS gross_boxo_and_top_boxo_changes\")"
   ]
  },
  {
   "cell_type": "code",
   "execution_count": 4,
   "metadata": {},
   "outputs": [],
   "source": [
    "create_gross_boxo_and_top_boxo_changes_table_sql = '''create table gross_boxo_and_top_boxo_changes(country string,topb float,mdate string,grossb float)'''"
   ]
  },
  {
   "cell_type": "code",
   "execution_count": 5,
   "metadata": {},
   "outputs": [],
   "source": [
    "cursor.execute(create_gross_boxo_and_top_boxo_changes_table_sql)"
   ]
  },
  {
   "cell_type": "code",
   "execution_count": 6,
   "metadata": {},
   "outputs": [],
   "source": [
    "del create_gross_boxo_and_top_boxo_changes_table_sql"
   ]
  },
  {
   "cell_type": "markdown",
   "metadata": {},
   "source": [
    "# 美国"
   ]
  },
  {
   "cell_type": "raw",
   "metadata": {},
   "source": [
    "2016年第一季度（first quarter）"
   ]
  },
  {
   "cell_type": "code",
   "execution_count": 7,
   "metadata": {},
   "outputs": [],
   "source": [
    "sixt_fq_sql = '''insert into table gross_boxo_and_top_boxo_changes SELECT 'c_America',t2.v,'2016fq',t4.v FROM (SELECT max(t1.boxoffice) AS v FROM film44 t1 WHERE t1.c_America=1 and mdate <= '2016-03-31'and mdate >='2016-01-01') t2 JOIN (SELECT sum(t3.boxoffice) AS v FROM film44 t3 WHERE t3.c_America=1 and mdate <= '2016-03-31'and mdate >='2016-01-01') t4'''"
   ]
  },
  {
   "cell_type": "code",
   "execution_count": 8,
   "metadata": {},
   "outputs": [],
   "source": [
    "cursor.execute(sixt_fq_sql)"
   ]
  },
  {
   "cell_type": "code",
   "execution_count": 9,
   "metadata": {},
   "outputs": [],
   "source": [
    "del sixt_fq_sql"
   ]
  },
  {
   "cell_type": "raw",
   "metadata": {},
   "source": [
    "2016年第二季度"
   ]
  },
  {
   "cell_type": "code",
   "execution_count": 10,
   "metadata": {},
   "outputs": [],
   "source": [
    "sixt_sq_sql = '''insert into table gross_boxo_and_top_boxo_changes SELECT 'c_America',t2.v,'2016sq',t4.v FROM (SELECT max(t1.boxoffice) AS v FROM film44 t1 WHERE t1.c_America=1 and mdate <= '2016-06-30'and mdate >='2016-04-01') t2 JOIN (SELECT sum(t3.boxoffice) AS v FROM film44 t3 WHERE t3.c_America=1 and mdate <= '2016-06-30'and mdate >='2016-04-01') t4'''"
   ]
  },
  {
   "cell_type": "code",
   "execution_count": 11,
   "metadata": {},
   "outputs": [],
   "source": [
    "cursor.execute(sixt_sq_sql)"
   ]
  },
  {
   "cell_type": "code",
   "execution_count": 12,
   "metadata": {},
   "outputs": [],
   "source": [
    "del sixt_sq_sql"
   ]
  },
  {
   "cell_type": "raw",
   "metadata": {},
   "source": [
    "2016年第三季度"
   ]
  },
  {
   "cell_type": "code",
   "execution_count": 13,
   "metadata": {},
   "outputs": [],
   "source": [
    "sixt_tq_sql = '''insert into table gross_boxo_and_top_boxo_changes SELECT 'c_America',t2.v,'2016tq',t4.v FROM (SELECT max(t1.boxoffice) AS v FROM film44 t1 WHERE t1.c_America=1 and mdate <= '2016-09-30'and mdate >='2016-07-01') t2 JOIN (SELECT sum(t3.boxoffice) AS v FROM film44 t3 WHERE t3.c_America=1 and mdate <= '2016-09-30'and mdate >='2016-07-01') t4'''"
   ]
  },
  {
   "cell_type": "code",
   "execution_count": 14,
   "metadata": {},
   "outputs": [],
   "source": [
    "cursor.execute(sixt_tq_sql)"
   ]
  },
  {
   "cell_type": "code",
   "execution_count": 15,
   "metadata": {},
   "outputs": [],
   "source": [
    "del sixt_tq_sql"
   ]
  },
  {
   "cell_type": "raw",
   "metadata": {},
   "source": [
    "2016年第四季度"
   ]
  },
  {
   "cell_type": "code",
   "execution_count": 16,
   "metadata": {},
   "outputs": [],
   "source": [
    "sixt_foq_sql = '''insert into table gross_boxo_and_top_boxo_changes SELECT 'c_America',t2.v,'2016foq',t4.v FROM (SELECT max(t1.boxoffice) AS v FROM film44 t1 WHERE t1.c_America=1 and mdate <= '2016-12-31'and mdate >='2016-10-01') t2 JOIN (SELECT sum(t3.boxoffice) AS v FROM film44 t3 WHERE t3.c_America=1 and mdate <= '2016-12-31'and mdate >='2016-10-01') t4'''"
   ]
  },
  {
   "cell_type": "code",
   "execution_count": null,
   "metadata": {},
   "outputs": [],
   "source": [
    "cursor.execute(sixt_foq_sql)"
   ]
  },
  {
   "cell_type": "code",
   "execution_count": null,
   "metadata": {},
   "outputs": [],
   "source": [
    "del sixt_foq_sql"
   ]
  },
  {
   "cell_type": "raw",
   "metadata": {},
   "source": [
    "2017年第一季度"
   ]
  },
  {
   "cell_type": "code",
   "execution_count": null,
   "metadata": {},
   "outputs": [],
   "source": [
    "sevent_fq_sql = '''insert into table gross_boxo_and_top_boxo_changes SELECT 'c_America',t2.v,'2017fq',t4.v FROM (SELECT max(t1.boxoffice) AS v FROM film44 t1 WHERE t1.c_America=1 and mdate <= '2017-03-31'and mdate >='2017-01-01') t2 JOIN (SELECT sum(t3.boxoffice) AS v FROM film44 t3 WHERE t3.c_America=1 and mdate <= '2017-03-31'and mdate >='2017-01-01') t4'''"
   ]
  },
  {
   "cell_type": "code",
   "execution_count": null,
   "metadata": {},
   "outputs": [],
   "source": [
    "cursor.execute(sevent_fq_sql)"
   ]
  },
  {
   "cell_type": "code",
   "execution_count": null,
   "metadata": {},
   "outputs": [],
   "source": [
    "del sevent_fq_sql"
   ]
  },
  {
   "cell_type": "raw",
   "metadata": {},
   "source": [
    "2017年第二季度"
   ]
  },
  {
   "cell_type": "code",
   "execution_count": null,
   "metadata": {},
   "outputs": [],
   "source": [
    "sevent_sq_sql = '''insert into table gross_boxo_and_top_boxo_changes SELECT 'c_America',t2.v,'2017sq',t4.v FROM (SELECT max(t1.boxoffice) AS v FROM film44 t1 WHERE t1.c_America=1 and mdate <= '2017-06-30'and mdate >='2017-04-01') t2 JOIN (SELECT sum(t3.boxoffice) AS v FROM film44 t3 WHERE t3.c_America=1 and mdate <= '2017-06-30'and mdate >='2017-04-01') t4'''"
   ]
  },
  {
   "cell_type": "code",
   "execution_count": null,
   "metadata": {},
   "outputs": [],
   "source": [
    "cursor.execute(sevent_sq_sql)"
   ]
  },
  {
   "cell_type": "code",
   "execution_count": null,
   "metadata": {},
   "outputs": [],
   "source": [
    "del sevent_sq_sql"
   ]
  },
  {
   "cell_type": "raw",
   "metadata": {},
   "source": [
    "2017年第三季度"
   ]
  },
  {
   "cell_type": "code",
   "execution_count": null,
   "metadata": {},
   "outputs": [],
   "source": [
    "sevent_tq_sql = '''insert into table gross_boxo_and_top_boxo_changes SELECT 'c_America',t2.v,'2017tq',t4.v FROM (SELECT max(t1.boxoffice) AS v FROM film44 t1 WHERE t1.c_America=1 and mdate <= '2017-09-30'and mdate >='2017-07-01') t2 JOIN (SELECT sum(t3.boxoffice) AS v FROM film44 t3 WHERE t3.c_America=1 and mdate <= '2017-09-30'and mdate >='2017-07-01') t4'''"
   ]
  },
  {
   "cell_type": "code",
   "execution_count": null,
   "metadata": {},
   "outputs": [],
   "source": [
    "cursor.execute(sevent_tq_sql)"
   ]
  },
  {
   "cell_type": "code",
   "execution_count": null,
   "metadata": {},
   "outputs": [],
   "source": [
    "del sevent_tq_sql"
   ]
  },
  {
   "cell_type": "raw",
   "metadata": {},
   "source": [
    "2017年第四季度"
   ]
  },
  {
   "cell_type": "code",
   "execution_count": null,
   "metadata": {},
   "outputs": [],
   "source": [
    "sevent_foq_sql = '''insert into table gross_boxo_and_top_boxo_changes SELECT 'c_America',t2.v,'2017foq',t4.v FROM (SELECT max(t1.boxoffice) AS v FROM film44 t1 WHERE t1.c_America=1 and mdate <= '2017-12-31'and mdate >='2017-10-01') t2 JOIN (SELECT sum(t3.boxoffice) AS v FROM film44 t3 WHERE t3.c_America=1 and mdate <= '2017-12-31'and mdate >='2017-10-01') t4'''"
   ]
  },
  {
   "cell_type": "code",
   "execution_count": null,
   "metadata": {},
   "outputs": [],
   "source": [
    "cursor.execute(sevent_foq_sql)"
   ]
  },
  {
   "cell_type": "code",
   "execution_count": null,
   "metadata": {},
   "outputs": [],
   "source": [
    "del sevent_foq_sql"
   ]
  },
  {
   "cell_type": "raw",
   "metadata": {},
   "source": [
    "2018年第一季度"
   ]
  },
  {
   "cell_type": "code",
   "execution_count": null,
   "metadata": {},
   "outputs": [],
   "source": [
    "eighte_fq_sql = '''insert into table gross_boxo_and_top_boxo_changes SELECT 'c_America',t2.v,'2018fq',t4.v FROM (SELECT max(t1.boxoffice) AS v FROM film44 t1 WHERE t1.c_America=1 and mdate <= '2018-03-31'and mdate >='2018-01-01') t2 JOIN (SELECT sum(t3.boxoffice) AS v FROM film44 t3 WHERE t3.c_America=1 and mdate <= '2018-03-31'and mdate >='2018-01-01') t4'''"
   ]
  },
  {
   "cell_type": "code",
   "execution_count": null,
   "metadata": {},
   "outputs": [],
   "source": [
    "cursor.execute(eighte_fq_sql)"
   ]
  },
  {
   "cell_type": "code",
   "execution_count": null,
   "metadata": {},
   "outputs": [],
   "source": [
    "del eighte_fq_sql"
   ]
  },
  {
   "cell_type": "raw",
   "metadata": {},
   "source": [
    "2018年第二季度"
   ]
  },
  {
   "cell_type": "code",
   "execution_count": null,
   "metadata": {},
   "outputs": [],
   "source": [
    "eighte_sq_sql = '''insert into table gross_boxo_and_top_boxo_changes SELECT 'c_America',t2.v,'2018sq',t4.v FROM (SELECT max(t1.boxoffice) AS v FROM film44 t1 WHERE t1.c_America=1 and mdate <= '2018-06-30'and mdate >='2018-04-01') t2 JOIN (SELECT sum(t3.boxoffice) AS v FROM film44 t3 WHERE t3.c_America=1 and mdate <= '2018-06-30'and mdate >='2018-04-01') t4'''"
   ]
  },
  {
   "cell_type": "code",
   "execution_count": null,
   "metadata": {},
   "outputs": [],
   "source": [
    "cursor.execute(eighte_sq_sql)"
   ]
  },
  {
   "cell_type": "code",
   "execution_count": null,
   "metadata": {},
   "outputs": [],
   "source": [
    "del eighte_sq_sql"
   ]
  },
  {
   "cell_type": "raw",
   "metadata": {},
   "source": [
    "2018年第三季度"
   ]
  },
  {
   "cell_type": "code",
   "execution_count": null,
   "metadata": {},
   "outputs": [],
   "source": [
    "eighte_tq_sql = '''insert into table gross_boxo_and_top_boxo_changes SELECT 'c_America',t2.v,'2018tq',t4.v FROM (SELECT max(t1.boxoffice) AS v FROM film44 t1 WHERE t1.c_America=1 and mdate <= '2018-09-30'and mdate >='2018-07-01') t2 JOIN (SELECT sum(t3.boxoffice) AS v FROM film44 t3 WHERE t3.c_America=1 and mdate <= '2018-09-30'and mdate >='2018-07-01') t4'''"
   ]
  },
  {
   "cell_type": "code",
   "execution_count": null,
   "metadata": {},
   "outputs": [],
   "source": [
    "cursor.execute(eighte_tq_sql)"
   ]
  },
  {
   "cell_type": "code",
   "execution_count": null,
   "metadata": {},
   "outputs": [],
   "source": [
    "del eighte_tq_sql"
   ]
  },
  {
   "cell_type": "raw",
   "metadata": {},
   "source": [
    "2018年第四季度"
   ]
  },
  {
   "cell_type": "code",
   "execution_count": null,
   "metadata": {},
   "outputs": [],
   "source": [
    "eighte_foq_sql = '''insert into table gross_boxo_and_top_boxo_changes SELECT 'c_America',t2.v,'2018foq',t4.v FROM (SELECT max(t1.boxoffice) AS v FROM film44 t1 WHERE t1.c_America=1 and mdate <= '2018-12-31'and mdate >='2018-10-01') t2 JOIN (SELECT sum(t3.boxoffice) AS v FROM film44 t3 WHERE t3.c_America=1 and mdate <= '2018-12-31'and mdate >='2018-10-01') t4'''"
   ]
  },
  {
   "cell_type": "code",
   "execution_count": null,
   "metadata": {},
   "outputs": [],
   "source": [
    "cursor.execute(eighte_foq_sql)"
   ]
  },
  {
   "cell_type": "code",
   "execution_count": null,
   "metadata": {},
   "outputs": [],
   "source": [
    "del eighte_foq_sql"
   ]
  },
  {
   "cell_type": "markdown",
   "metadata": {},
   "source": [
    "# 中国大陆"
   ]
  },
  {
   "cell_type": "code",
   "execution_count": null,
   "metadata": {},
   "outputs": [],
   "source": [
    "sixt_fq_sql = '''insert into table gross_boxo_and_top_boxo_changes SELECT 'c_America',t2.v,'2016fq',t4.v FROM (SELECT max(t1.boxoffice) AS v FROM film44 t1 WHERE t1.c_Mainland=1 and mdate <= '2016-03-31'and mdate >='2016-01-01') t2 JOIN (SELECT sum(t3.boxoffice) AS v FROM film44 t3 WHERE t3.c_Mainland=1 and mdate <= '2016-03-31'and mdate >='2016-01-01') t4'''"
   ]
  },
  {
   "cell_type": "code",
   "execution_count": null,
   "metadata": {},
   "outputs": [],
   "source": [
    "cursor.execute(sixt_fq_sql)"
   ]
  },
  {
   "cell_type": "code",
   "execution_count": null,
   "metadata": {},
   "outputs": [],
   "source": [
    "del sixt_fq_sql"
   ]
  },
  {
   "cell_type": "code",
   "execution_count": null,
   "metadata": {},
   "outputs": [],
   "source": [
    "sixt_sq_sql = '''insert into table gross_boxo_and_top_boxo_changes SELECT 'c_America',t2.v,'2016sq',t4.v FROM (SELECT max(t1.boxoffice) AS v FROM film44 t1 WHERE t1.c_Mainland=1 and mdate <= '2016-06-30'and mdate >='2016-04-01') t2 JOIN (SELECT sum(t3.boxoffice) AS v FROM film44 t3 WHERE t3.c_Mainland=1 and mdate <= '2016-06-30'and mdate >='2016-04-01') t4'''"
   ]
  },
  {
   "cell_type": "code",
   "execution_count": null,
   "metadata": {},
   "outputs": [],
   "source": [
    "cursor.execute(sixt_sq_sql)"
   ]
  },
  {
   "cell_type": "code",
   "execution_count": null,
   "metadata": {},
   "outputs": [],
   "source": [
    "del sixt_sq_sql"
   ]
  },
  {
   "cell_type": "code",
   "execution_count": null,
   "metadata": {},
   "outputs": [],
   "source": [
    "sixt_tq_sql = '''insert into table gross_boxo_and_top_boxo_changes SELECT 'c_America',t2.v,'2016tq',t4.v FROM (SELECT max(t1.boxoffice) AS v FROM film44 t1 WHERE t1.c_Mainland=1 and mdate <= '2016-09-30'and mdate >='2016-07-01') t2 JOIN (SELECT sum(t3.boxoffice) AS v FROM film44 t3 WHERE t3.c_Mainland=1 and mdate <= '2016-09-30'and mdate >='2016-07-01') t4'''"
   ]
  },
  {
   "cell_type": "code",
   "execution_count": null,
   "metadata": {},
   "outputs": [],
   "source": [
    "cursor.execute(sixt_tq_sql)"
   ]
  },
  {
   "cell_type": "code",
   "execution_count": null,
   "metadata": {},
   "outputs": [],
   "source": [
    "del sixt_tq_sql"
   ]
  },
  {
   "cell_type": "code",
   "execution_count": null,
   "metadata": {},
   "outputs": [],
   "source": [
    "sixt_foq_sql = '''insert into table gross_boxo_and_top_boxo_changes SELECT 'c_America',t2.v,'2016foq',t4.v FROM (SELECT max(t1.boxoffice) AS v FROM film44 t1 WHERE t1.c_Mainland=1 and mdate <= '2016-12-31'and mdate >='2016-10-01') t2 JOIN (SELECT sum(t3.boxoffice) AS v FROM film44 t3 WHERE t3.c_Mainland=1 and mdate <= '2016-12-31'and mdate >='2016-10-01') t4'''"
   ]
  },
  {
   "cell_type": "code",
   "execution_count": null,
   "metadata": {},
   "outputs": [],
   "source": [
    "cursor.execute(sixt_foq_sql)"
   ]
  },
  {
   "cell_type": "code",
   "execution_count": null,
   "metadata": {},
   "outputs": [],
   "source": [
    "del sixt_foq_sql"
   ]
  },
  {
   "cell_type": "code",
   "execution_count": null,
   "metadata": {},
   "outputs": [],
   "source": [
    "sevent_fq_sql = '''insert into table gross_boxo_and_top_boxo_changes SELECT 'c_America',t2.v,'2017fq',t4.v FROM (SELECT max(t1.boxoffice) AS v FROM film44 t1 WHERE t1.c_Mainland=1 and mdate <= '2017-03-31'and mdate >='2017-01-01') t2 JOIN (SELECT sum(t3.boxoffice) AS v FROM film44 t3 WHERE t3.c_Mainland=1 and mdate <= '2017-03-31'and mdate >='2017-01-01') t4'''"
   ]
  },
  {
   "cell_type": "code",
   "execution_count": null,
   "metadata": {},
   "outputs": [],
   "source": [
    "cursor.execute(sevent_fq_sql)"
   ]
  },
  {
   "cell_type": "code",
   "execution_count": null,
   "metadata": {},
   "outputs": [],
   "source": [
    "del sevent_fq_sql"
   ]
  },
  {
   "cell_type": "code",
   "execution_count": null,
   "metadata": {},
   "outputs": [],
   "source": [
    "sevent_sq_sql = '''insert into table gross_boxo_and_top_boxo_changes SELECT 'c_America',t2.v,'2017sq',t4.v FROM (SELECT max(t1.boxoffice) AS v FROM film44 t1 WHERE t1.c_Mainland=1 and mdate <= '2017-06-30'and mdate >='2017-04-01') t2 JOIN (SELECT sum(t3.boxoffice) AS v FROM film44 t3 WHERE t3.c_Mainland=1 and mdate <= '2017-06-30'and mdate >='2017-04-01') t4'''"
   ]
  },
  {
   "cell_type": "code",
   "execution_count": null,
   "metadata": {},
   "outputs": [],
   "source": [
    "cursor.execute(sevent_sq_sql)"
   ]
  },
  {
   "cell_type": "code",
   "execution_count": null,
   "metadata": {},
   "outputs": [],
   "source": [
    "del sevent_sq_sql"
   ]
  },
  {
   "cell_type": "code",
   "execution_count": null,
   "metadata": {},
   "outputs": [],
   "source": [
    "sevent_tq_sql = '''insert into table gross_boxo_and_top_boxo_changes SELECT 'c_America',t2.v,'2017tq',t4.v FROM (SELECT max(t1.boxoffice) AS v FROM film44 t1 WHERE t1.c_Mainland=1 and mdate <= '2017-09-30'and mdate >='2017-07-01') t2 JOIN (SELECT sum(t3.boxoffice) AS v FROM film44 t3 WHERE t3.c_Mainland=1 and mdate <= '2017-09-30'and mdate >='2017-07-01') t4'''"
   ]
  },
  {
   "cell_type": "code",
   "execution_count": null,
   "metadata": {},
   "outputs": [],
   "source": [
    "cursor.execute(sevent_tq_sql)"
   ]
  },
  {
   "cell_type": "code",
   "execution_count": null,
   "metadata": {},
   "outputs": [],
   "source": [
    "del sevent_tq_sql"
   ]
  },
  {
   "cell_type": "code",
   "execution_count": null,
   "metadata": {},
   "outputs": [],
   "source": [
    "sevent_foq_sql = '''insert into table gross_boxo_and_top_boxo_changes SELECT 'c_America',t2.v,'2017foq',t4.v FROM (SELECT max(t1.boxoffice) AS v FROM film44 t1 WHERE t1.c_Mainland=1 and mdate <= '2017-12-31'and mdate >='2017-10-01') t2 JOIN (SELECT sum(t3.boxoffice) AS v FROM film44 t3 WHERE t3.c_Mainland=1 and mdate <= '2017-12-31'and mdate >='2017-10-01') t4'''"
   ]
  },
  {
   "cell_type": "code",
   "execution_count": null,
   "metadata": {},
   "outputs": [],
   "source": [
    "cursor.execute(sevent_foq_sql)"
   ]
  },
  {
   "cell_type": "code",
   "execution_count": null,
   "metadata": {},
   "outputs": [],
   "source": [
    "del sevent_foq_sql"
   ]
  },
  {
   "cell_type": "code",
   "execution_count": null,
   "metadata": {},
   "outputs": [],
   "source": [
    "eighte_fq_sql = '''insert into table gross_boxo_and_top_boxo_changes SELECT 'c_America',t2.v,'2018fq',t4.v FROM (SELECT max(t1.boxoffice) AS v FROM film44 t1 WHERE t1.c_Mainland=1 and mdate <= '2018-03-31'and mdate >='2018-01-01') t2 JOIN (SELECT sum(t3.boxoffice) AS v FROM film44 t3 WHERE t3.c_Mainland=1 and mdate <= '2018-03-31'and mdate >='2018-01-01') t4'''"
   ]
  },
  {
   "cell_type": "code",
   "execution_count": null,
   "metadata": {},
   "outputs": [],
   "source": [
    "cursor.execute(eighte_fq_sql)"
   ]
  },
  {
   "cell_type": "code",
   "execution_count": null,
   "metadata": {},
   "outputs": [],
   "source": [
    "del eighte_fq_sql"
   ]
  },
  {
   "cell_type": "code",
   "execution_count": null,
   "metadata": {},
   "outputs": [],
   "source": [
    "eighte_sq_sql = '''insert into table gross_boxo_and_top_boxo_changes SELECT 'c_America',t2.v,'2018sq',t4.v FROM (SELECT max(t1.boxoffice) AS v FROM film44 t1 WHERE t1.c_Mainland=1 and mdate <= '2018-06-30'and mdate >='2018-04-01') t2 JOIN (SELECT sum(t3.boxoffice) AS v FROM film44 t3 WHERE t3.c_Mainland=1 and mdate <= '2018-06-30'and mdate >='2018-04-01') t4'''"
   ]
  },
  {
   "cell_type": "code",
   "execution_count": null,
   "metadata": {},
   "outputs": [],
   "source": [
    "cursor.execute(eighte_sq_sql)"
   ]
  },
  {
   "cell_type": "code",
   "execution_count": null,
   "metadata": {},
   "outputs": [],
   "source": [
    "del eighte_sq_sql"
   ]
  },
  {
   "cell_type": "code",
   "execution_count": null,
   "metadata": {},
   "outputs": [],
   "source": [
    "eighte_tq_sql = '''insert into table gross_boxo_and_top_boxo_changes SELECT 'c_America',t2.v,'2018tq',t4.v FROM (SELECT max(t1.boxoffice) AS v FROM film44 t1 WHERE t1.c_Mainland=1 and mdate <= '2018-09-30'and mdate >='2018-07-01') t2 JOIN (SELECT sum(t3.boxoffice) AS v FROM film44 t3 WHERE t3.c_Mainland=1 and mdate <= '2018-09-30'and mdate >='2018-07-01') t4'''"
   ]
  },
  {
   "cell_type": "code",
   "execution_count": null,
   "metadata": {},
   "outputs": [],
   "source": [
    "cursor.execute(eighte_tq_sql)"
   ]
  },
  {
   "cell_type": "code",
   "execution_count": null,
   "metadata": {},
   "outputs": [],
   "source": [
    "del eighte_tq_sql"
   ]
  },
  {
   "cell_type": "code",
   "execution_count": null,
   "metadata": {},
   "outputs": [],
   "source": [
    "eighte_foq_sql = '''insert into table gross_boxo_and_top_boxo_changes SELECT 'c_America',t2.v,'2018foq',t4.v FROM (SELECT max(t1.boxoffice) AS v FROM film44 t1 WHERE t1.c_Mainland=1 and mdate <= '2018-12-31'and mdate >='2018-10-01') t2 JOIN (SELECT sum(t3.boxoffice) AS v FROM film44 t3 WHERE t3.c_Mainland=1 and mdate <= '2018-12-31'and mdate >='2018-10-01') t4'''"
   ]
  },
  {
   "cell_type": "code",
   "execution_count": null,
   "metadata": {},
   "outputs": [],
   "source": [
    "cursor.execute(eighte_foq_sql)"
   ]
  },
  {
   "cell_type": "code",
   "execution_count": null,
   "metadata": {},
   "outputs": [],
   "source": [
    "del eighte_foq_sql"
   ]
  },
  {
   "cell_type": "markdown",
   "metadata": {},
   "source": [
    "# 韩国"
   ]
  },
  {
   "cell_type": "code",
   "execution_count": null,
   "metadata": {},
   "outputs": [],
   "source": [
    "sixt_fq_sql = '''insert into table gross_boxo_and_top_boxo_changes SELECT 'c_Korea',t2.v,'2016fq',t4.v FROM (SELECT max(t1.boxoffice) AS v FROM film44 t1 WHERE t1.c_Korea=1 and mdate <= '2016-03-31'and mdate >='2016-01-01') t2 JOIN (SELECT sum(t3.boxoffice) AS v FROM film44 t3 WHERE t3.c_Korea=1 and mdate <= '2016-03-31'and mdate >='2016-01-01') t4'''"
   ]
  },
  {
   "cell_type": "code",
   "execution_count": null,
   "metadata": {},
   "outputs": [],
   "source": [
    "cursor.execute(sixt_fq_sql)"
   ]
  },
  {
   "cell_type": "code",
   "execution_count": null,
   "metadata": {},
   "outputs": [],
   "source": [
    "del sixt_fq_sql"
   ]
  },
  {
   "cell_type": "code",
   "execution_count": null,
   "metadata": {},
   "outputs": [],
   "source": [
    "sixt_sq_sql = '''insert into table gross_boxo_and_top_boxo_changes SELECT 'c_Korea',t2.v,'2016sq',t4.v FROM (SELECT max(t1.boxoffice) AS v FROM film44 t1 WHERE t1.c_Korea=1 and mdate <= '2016-06-30'and mdate >='2016-04-01') t2 JOIN (SELECT sum(t3.boxoffice) AS v FROM film44 t3 WHERE t3.c_Korea=1 and mdate <= '2016-06-30'and mdate >='2016-04-01') t4'''"
   ]
  },
  {
   "cell_type": "code",
   "execution_count": null,
   "metadata": {},
   "outputs": [],
   "source": [
    "cursor.execute(sixt_sq_sql)"
   ]
  },
  {
   "cell_type": "code",
   "execution_count": null,
   "metadata": {},
   "outputs": [],
   "source": [
    "del sixt_sq_sql"
   ]
  },
  {
   "cell_type": "code",
   "execution_count": null,
   "metadata": {},
   "outputs": [],
   "source": [
    "sixt_tq_sql = '''insert into table gross_boxo_and_top_boxo_changes SELECT 'c_Korea',t2.v,'2016tq',t4.v FROM (SELECT max(t1.boxoffice) AS v FROM film44 t1 WHERE t1.c_Korea=1 and mdate <= '2016-09-30'and mdate >='2016-07-01') t2 JOIN (SELECT sum(t3.boxoffice) AS v FROM film44 t3 WHERE t3.c_Korea=1 and mdate <= '2016-09-30'and mdate >='2016-07-01') t4'''"
   ]
  },
  {
   "cell_type": "code",
   "execution_count": null,
   "metadata": {},
   "outputs": [],
   "source": [
    "cursor.execute(sixt_tq_sql)"
   ]
  },
  {
   "cell_type": "code",
   "execution_count": null,
   "metadata": {},
   "outputs": [],
   "source": [
    "del sixt_tq_sql"
   ]
  },
  {
   "cell_type": "code",
   "execution_count": null,
   "metadata": {},
   "outputs": [],
   "source": [
    "sixt_foq_sql = '''insert into table gross_boxo_and_top_boxo_changes SELECT 'c_Korea',t2.v,'2016foq',t4.v FROM (SELECT max(t1.boxoffice) AS v FROM film44 t1 WHERE t1.c_Korea=1 and mdate <= '2016-12-31'and mdate >='2016-10-01') t2 JOIN (SELECT sum(t3.boxoffice) AS v FROM film44 t3 WHERE t3.c_Korea=1 and mdate <= '2016-12-31'and mdate >='2016-10-01') t4'''"
   ]
  },
  {
   "cell_type": "code",
   "execution_count": null,
   "metadata": {},
   "outputs": [],
   "source": [
    "cursor.execute(sixt_foq_sql)"
   ]
  },
  {
   "cell_type": "code",
   "execution_count": null,
   "metadata": {},
   "outputs": [],
   "source": [
    "del sixt_foq_sql"
   ]
  },
  {
   "cell_type": "code",
   "execution_count": null,
   "metadata": {},
   "outputs": [],
   "source": [
    "sevent_fq_sql = '''insert into table gross_boxo_and_top_boxo_changes SELECT 'c_Korea',t2.v,'2017fq',t4.v FROM (SELECT max(t1.boxoffice) AS v FROM film44 t1 WHERE t1.c_Korea=1 and mdate <= '2017-03-31'and mdate >='2017-01-01') t2 JOIN (SELECT sum(t3.boxoffice) AS v FROM film44 t3 WHERE t3.c_Korea=1 and mdate <= '2017-03-31'and mdate >='2017-01-01') t4'''"
   ]
  },
  {
   "cell_type": "code",
   "execution_count": null,
   "metadata": {},
   "outputs": [],
   "source": [
    "cursor.execute(sevent_fq_sql)"
   ]
  },
  {
   "cell_type": "code",
   "execution_count": null,
   "metadata": {},
   "outputs": [],
   "source": [
    "del sevent_fq_sql"
   ]
  },
  {
   "cell_type": "code",
   "execution_count": null,
   "metadata": {},
   "outputs": [],
   "source": [
    "sevent_sq_sql = '''insert into table gross_boxo_and_top_boxo_changes SELECT 'c_Korea',t2.v,'2017sq',t4.v FROM (SELECT max(t1.boxoffice) AS v FROM film44 t1 WHERE t1.c_Korea=1 and mdate <= '2017-06-30'and mdate >='2017-04-01') t2 JOIN (SELECT sum(t3.boxoffice) AS v FROM film44 t3 WHERE t3.c_Korea=1 and mdate <= '2017-06-30'and mdate >='2017-04-01') t4'''"
   ]
  },
  {
   "cell_type": "code",
   "execution_count": null,
   "metadata": {},
   "outputs": [],
   "source": [
    "cursor.execute(sevent_sq_sql)"
   ]
  },
  {
   "cell_type": "code",
   "execution_count": null,
   "metadata": {},
   "outputs": [],
   "source": [
    "del sevent_sq_sql"
   ]
  },
  {
   "cell_type": "code",
   "execution_count": null,
   "metadata": {},
   "outputs": [],
   "source": [
    "sevent_tq_sql = '''insert into table gross_boxo_and_top_boxo_changes SELECT 'c_Korea',t2.v,'2017tq',t4.v FROM (SELECT max(t1.boxoffice) AS v FROM film44 t1 WHERE t1.c_Korea=1 and mdate <= '2017-09-30'and mdate >='2017-07-01') t2 JOIN (SELECT sum(t3.boxoffice) AS v FROM film44 t3 WHERE t3.c_Korea=1 and mdate <= '2017-09-30'and mdate >='2017-07-01') t4'''"
   ]
  },
  {
   "cell_type": "code",
   "execution_count": null,
   "metadata": {},
   "outputs": [],
   "source": [
    "cursor.execute(sevent_tq_sql)"
   ]
  },
  {
   "cell_type": "code",
   "execution_count": null,
   "metadata": {},
   "outputs": [],
   "source": [
    "del sevent_tq_sql"
   ]
  },
  {
   "cell_type": "code",
   "execution_count": null,
   "metadata": {},
   "outputs": [],
   "source": [
    "sevent_foq_sql = '''insert into table gross_boxo_and_top_boxo_changes SELECT 'c_Korea',t2.v,'2017foq',t4.v FROM (SELECT max(t1.boxoffice) AS v FROM film44 t1 WHERE t1.c_Korea=1 and mdate <= '2017-12-31'and mdate >='2017-10-01') t2 JOIN (SELECT sum(t3.boxoffice) AS v FROM film44 t3 WHERE t3.c_Korea=1 and mdate <= '2017-12-31'and mdate >='2017-10-01') t4'''"
   ]
  },
  {
   "cell_type": "code",
   "execution_count": null,
   "metadata": {},
   "outputs": [],
   "source": [
    "cursor.execute(sevent_foq_sql)"
   ]
  },
  {
   "cell_type": "code",
   "execution_count": null,
   "metadata": {},
   "outputs": [],
   "source": [
    "del sevent_foq_sql"
   ]
  },
  {
   "cell_type": "code",
   "execution_count": null,
   "metadata": {},
   "outputs": [],
   "source": [
    "eighte_fq_sql = '''insert into table gross_boxo_and_top_boxo_changes SELECT 'c_Korea',t2.v,'2018fq',t4.v FROM (SELECT max(t1.boxoffice) AS v FROM film44 t1 WHERE t1.c_Korea=1 and mdate <= '2018-03-31'and mdate >='2018-01-01') t2 JOIN (SELECT sum(t3.boxoffice) AS v FROM film44 t3 WHERE t3.c_Korea=1 and mdate <= '2018-03-31'and mdate >='2018-01-01') t4'''"
   ]
  },
  {
   "cell_type": "code",
   "execution_count": null,
   "metadata": {},
   "outputs": [],
   "source": [
    "cursor.execute(eighte_fq_sql)"
   ]
  },
  {
   "cell_type": "code",
   "execution_count": null,
   "metadata": {},
   "outputs": [],
   "source": [
    "del eighte_fq_sql"
   ]
  },
  {
   "cell_type": "code",
   "execution_count": null,
   "metadata": {},
   "outputs": [],
   "source": [
    "eighte_sq_sql = '''insert into table gross_boxo_and_top_boxo_changes SELECT 'c_Korea',t2.v,'2018sq',t4.v FROM (SELECT max(t1.boxoffice) AS v FROM film44 t1 WHERE t1.c_Korea=1 and mdate <= '2018-06-30'and mdate >='2018-04-01') t2 JOIN (SELECT sum(t3.boxoffice) AS v FROM film44 t3 WHERE t3.c_Korea=1 and mdate <= '2018-06-30'and mdate >='2018-04-01') t4'''"
   ]
  },
  {
   "cell_type": "code",
   "execution_count": null,
   "metadata": {},
   "outputs": [],
   "source": [
    "cursor.execute(eighte_sq_sql)"
   ]
  },
  {
   "cell_type": "code",
   "execution_count": null,
   "metadata": {},
   "outputs": [],
   "source": [
    "del eighte_sq_sql"
   ]
  },
  {
   "cell_type": "code",
   "execution_count": null,
   "metadata": {},
   "outputs": [],
   "source": [
    "eighte_tq_sql = '''insert into table gross_boxo_and_top_boxo_changes SELECT 'c_Korea',t2.v,'2018tq',t4.v FROM (SELECT max(t1.boxoffice) AS v FROM film44 t1 WHERE t1.c_Korea=1 and mdate <= '2018-09-30'and mdate >='2018-07-01') t2 JOIN (SELECT sum(t3.boxoffice) AS v FROM film44 t3 WHERE t3.c_Korea=1 and mdate <= '2018-09-30'and mdate >='2018-07-01') t4'''"
   ]
  },
  {
   "cell_type": "code",
   "execution_count": null,
   "metadata": {},
   "outputs": [],
   "source": [
    "cursor.execute(eighte_tq_sql)"
   ]
  },
  {
   "cell_type": "code",
   "execution_count": null,
   "metadata": {},
   "outputs": [],
   "source": [
    "del eighte_tq_sql"
   ]
  },
  {
   "cell_type": "code",
   "execution_count": null,
   "metadata": {},
   "outputs": [],
   "source": [
    "eighte_foq_sql = '''insert into table gross_boxo_and_top_boxo_changes SELECT 'c_Korea',t2.v,'2018foq',t4.v FROM (SELECT max(t1.boxoffice) AS v FROM film44 t1 WHERE t1.c_Korea=1 and mdate <= '2018-12-31'and mdate >='2018-10-01') t2 JOIN (SELECT sum(t3.boxoffice) AS v FROM film44 t3 WHERE t3.c_Korea=1 and mdate <= '2018-12-31'and mdate >='2018-10-01') t4'''"
   ]
  },
  {
   "cell_type": "code",
   "execution_count": null,
   "metadata": {},
   "outputs": [],
   "source": [
    "cursor.execute(eighte_foq_sql)"
   ]
  },
  {
   "cell_type": "code",
   "execution_count": null,
   "metadata": {},
   "outputs": [],
   "source": [
    "del eighte_foq_sql"
   ]
  },
  {
   "cell_type": "markdown",
   "metadata": {},
   "source": [
    "# 日本"
   ]
  },
  {
   "cell_type": "code",
   "execution_count": null,
   "metadata": {},
   "outputs": [],
   "source": [
    "sixt_fq_sql = '''insert into table gross_boxo_and_top_boxo_changes SELECT 'c_Japan',t2.v,'2016fq',t4.v FROM (SELECT max(t1.boxoffice) AS v FROM film44 t1 WHERE t1.c_Japan=1 and mdate <= '2016-03-31'and mdate >='2016-01-01') t2 JOIN (SELECT sum(t3.boxoffice) AS v FROM film44 t3 WHERE t3.c_Japan=1 and mdate <= '2016-03-31'and mdate >='2016-01-01') t4'''"
   ]
  },
  {
   "cell_type": "code",
   "execution_count": null,
   "metadata": {},
   "outputs": [],
   "source": [
    "cursor.execute(sixt_fq_sql)"
   ]
  },
  {
   "cell_type": "code",
   "execution_count": null,
   "metadata": {},
   "outputs": [],
   "source": [
    "del sixt_fq_sql"
   ]
  },
  {
   "cell_type": "code",
   "execution_count": null,
   "metadata": {},
   "outputs": [],
   "source": [
    "sixt_sq_sql = '''insert into table gross_boxo_and_top_boxo_changes SELECT 'c_Japan',t2.v,'2016sq',t4.v FROM (SELECT max(t1.boxoffice) AS v FROM film44 t1 WHERE t1.c_Japan=1 and mdate <= '2016-06-30'and mdate >='2016-04-01') t2 JOIN (SELECT sum(t3.boxoffice) AS v FROM film44 t3 WHERE t3.c_Japan=1 and mdate <= '2016-06-30'and mdate >='2016-04-01') t4'''"
   ]
  },
  {
   "cell_type": "code",
   "execution_count": null,
   "metadata": {},
   "outputs": [],
   "source": [
    "cursor.execute(sixt_sq_sql)"
   ]
  },
  {
   "cell_type": "code",
   "execution_count": null,
   "metadata": {},
   "outputs": [],
   "source": [
    "del sixt_sq_sql"
   ]
  },
  {
   "cell_type": "code",
   "execution_count": null,
   "metadata": {},
   "outputs": [],
   "source": [
    "sixt_tq_sql = '''insert into table gross_boxo_and_top_boxo_changes SELECT 'c_Japan',t2.v,'2016tq',t4.v FROM (SELECT max(t1.boxoffice) AS v FROM film44 t1 WHERE t1.c_Japan=1 and mdate <= '2016-09-30'and mdate >='2016-07-01') t2 JOIN (SELECT sum(t3.boxoffice) AS v FROM film44 t3 WHERE t3.c_Japan=1 and mdate <= '2016-09-30'and mdate >='2016-07-01') t4'''"
   ]
  },
  {
   "cell_type": "code",
   "execution_count": null,
   "metadata": {},
   "outputs": [],
   "source": [
    "cursor.execute(sixt_tq_sql)"
   ]
  },
  {
   "cell_type": "code",
   "execution_count": null,
   "metadata": {},
   "outputs": [],
   "source": [
    "del sixt_tq_sql"
   ]
  },
  {
   "cell_type": "code",
   "execution_count": null,
   "metadata": {},
   "outputs": [],
   "source": [
    "sixt_foq_sql = '''insert into table gross_boxo_and_top_boxo_changes SELECT 'c_Japan',t2.v,'2016foq',t4.v FROM (SELECT max(t1.boxoffice) AS v FROM film44 t1 WHERE t1.c_Japan=1 and mdate <= '2016-12-31'and mdate >='2016-10-01') t2 JOIN (SELECT sum(t3.boxoffice) AS v FROM film44 t3 WHERE t3.c_Japan=1 and mdate <= '2016-12-31'and mdate >='2016-10-01') t4'''"
   ]
  },
  {
   "cell_type": "code",
   "execution_count": null,
   "metadata": {},
   "outputs": [],
   "source": [
    "cursor.execute(sixt_foq_sql)"
   ]
  },
  {
   "cell_type": "code",
   "execution_count": null,
   "metadata": {},
   "outputs": [],
   "source": [
    "del sixt_foq_sql"
   ]
  },
  {
   "cell_type": "code",
   "execution_count": null,
   "metadata": {},
   "outputs": [],
   "source": [
    "sevent_fq_sql = '''insert into table gross_boxo_and_top_boxo_changes SELECT 'c_Japan',t2.v,'2017fq',t4.v FROM (SELECT max(t1.boxoffice) AS v FROM film44 t1 WHERE t1.c_Japan=1 and mdate <= '2017-03-31'and mdate >='2017-01-01') t2 JOIN (SELECT sum(t3.boxoffice) AS v FROM film44 t3 WHERE t3.c_Japan=1 and mdate <= '2017-03-31'and mdate >='2017-01-01') t4'''"
   ]
  },
  {
   "cell_type": "code",
   "execution_count": null,
   "metadata": {},
   "outputs": [],
   "source": [
    "cursor.execute(sevent_fq_sql)"
   ]
  },
  {
   "cell_type": "code",
   "execution_count": null,
   "metadata": {},
   "outputs": [],
   "source": [
    "del sevent_fq_sql"
   ]
  },
  {
   "cell_type": "code",
   "execution_count": null,
   "metadata": {},
   "outputs": [],
   "source": [
    "sevent_sq_sql = '''insert into table gross_boxo_and_top_boxo_changes SELECT 'c_Japan',t2.v,'2017sq',t4.v FROM (SELECT max(t1.boxoffice) AS v FROM film44 t1 WHERE t1.c_Japan=1 and mdate <= '2017-06-30'and mdate >='2017-04-01') t2 JOIN (SELECT sum(t3.boxoffice) AS v FROM film44 t3 WHERE t3.c_Japan=1 and mdate <= '2017-06-30'and mdate >='2017-04-01') t4'''"
   ]
  },
  {
   "cell_type": "code",
   "execution_count": null,
   "metadata": {},
   "outputs": [],
   "source": [
    "cursor.execute(sevent_sq_sql)"
   ]
  },
  {
   "cell_type": "code",
   "execution_count": null,
   "metadata": {},
   "outputs": [],
   "source": [
    "del sevent_sq_sql"
   ]
  },
  {
   "cell_type": "code",
   "execution_count": null,
   "metadata": {},
   "outputs": [],
   "source": [
    "sevent_tq_sql = '''insert into table gross_boxo_and_top_boxo_changes SELECT 'c_Japan',t2.v,'2017tq',t4.v FROM (SELECT max(t1.boxoffice) AS v FROM film44 t1 WHERE t1.c_Japan=1 and mdate <= '2017-09-30'and mdate >='2017-07-01') t2 JOIN (SELECT sum(t3.boxoffice) AS v FROM film44 t3 WHERE t3.c_Japan=1 and mdate <= '2017-09-30'and mdate >='2017-07-01') t4'''"
   ]
  },
  {
   "cell_type": "code",
   "execution_count": null,
   "metadata": {},
   "outputs": [],
   "source": [
    "cursor.execute(sevent_tq_sql)"
   ]
  },
  {
   "cell_type": "code",
   "execution_count": null,
   "metadata": {},
   "outputs": [],
   "source": [
    "del sevent_tq_sql"
   ]
  },
  {
   "cell_type": "code",
   "execution_count": null,
   "metadata": {},
   "outputs": [],
   "source": [
    "sevent_foq_sql = '''insert into table gross_boxo_and_top_boxo_changes SELECT 'c_Japan',t2.v,'2017foq',t4.v FROM (SELECT max(t1.boxoffice) AS v FROM film44 t1 WHERE t1.c_Japan=1 and mdate <= '2017-12-31'and mdate >='2017-10-01') t2 JOIN (SELECT sum(t3.boxoffice) AS v FROM film44 t3 WHERE t3.c_Japan=1 and mdate <= '2017-12-31'and mdate >='2017-10-01') t4'''"
   ]
  },
  {
   "cell_type": "code",
   "execution_count": null,
   "metadata": {},
   "outputs": [],
   "source": [
    "cursor.execute(sevent_foq_sql)"
   ]
  },
  {
   "cell_type": "code",
   "execution_count": null,
   "metadata": {},
   "outputs": [],
   "source": [
    "del sevent_foq_sql"
   ]
  },
  {
   "cell_type": "code",
   "execution_count": null,
   "metadata": {},
   "outputs": [],
   "source": [
    "eighte_fq_sql = '''insert into table gross_boxo_and_top_boxo_changes SELECT 'c_Japan',t2.v,'2018fq',t4.v FROM (SELECT max(t1.boxoffice) AS v FROM film44 t1 WHERE t1.c_Japan=1 and mdate <= '2018-03-31'and mdate >='2018-01-01') t2 JOIN (SELECT sum(t3.boxoffice) AS v FROM film44 t3 WHERE t3.c_Japan=1 and mdate <= '2018-03-31'and mdate >='2018-01-01') t4'''"
   ]
  },
  {
   "cell_type": "code",
   "execution_count": null,
   "metadata": {},
   "outputs": [],
   "source": [
    "cursor.execute(eighte_fq_sql)"
   ]
  },
  {
   "cell_type": "code",
   "execution_count": null,
   "metadata": {},
   "outputs": [],
   "source": [
    "del eighte_fq_sql"
   ]
  },
  {
   "cell_type": "code",
   "execution_count": null,
   "metadata": {},
   "outputs": [],
   "source": [
    "eighte_sq_sql = '''insert into table gross_boxo_and_top_boxo_changes SELECT 'c_Japan',t2.v,'2018sq',t4.v FROM (SELECT max(t1.boxoffice) AS v FROM film44 t1 WHERE t1.c_Japan=1 and mdate <= '2018-06-30'and mdate >='2018-04-01') t2 JOIN (SELECT sum(t3.boxoffice) AS v FROM film44 t3 WHERE t3.c_Japan=1 and mdate <= '2018-06-30'and mdate >='2018-04-01') t4'''"
   ]
  },
  {
   "cell_type": "code",
   "execution_count": null,
   "metadata": {},
   "outputs": [],
   "source": [
    "cursor.execute(eighte_sq_sql)"
   ]
  },
  {
   "cell_type": "code",
   "execution_count": null,
   "metadata": {},
   "outputs": [],
   "source": [
    "del eighte_sq_sql"
   ]
  },
  {
   "cell_type": "code",
   "execution_count": null,
   "metadata": {},
   "outputs": [],
   "source": [
    "eighte_tq_sql = '''insert into table gross_boxo_and_top_boxo_changes SELECT 'c_Japan',t2.v,'2018tq',t4.v FROM (SELECT max(t1.boxoffice) AS v FROM film44 t1 WHERE t1.c_Japan=1 and mdate <= '2018-09-30'and mdate >='2018-07-01') t2 JOIN (SELECT sum(t3.boxoffice) AS v FROM film44 t3 WHERE t3.c_Japan=1 and mdate <= '2018-09-30'and mdate >='2018-07-01') t4'''"
   ]
  },
  {
   "cell_type": "code",
   "execution_count": null,
   "metadata": {},
   "outputs": [],
   "source": [
    "cursor.execute(eighte_tq_sql)"
   ]
  },
  {
   "cell_type": "code",
   "execution_count": null,
   "metadata": {},
   "outputs": [],
   "source": [
    "del eighte_tq_sql"
   ]
  },
  {
   "cell_type": "code",
   "execution_count": null,
   "metadata": {},
   "outputs": [],
   "source": [
    "eighte_foq_sql = '''insert into table gross_boxo_and_top_boxo_changes SELECT 'c_Japan',t2.v,'2018foq',t4.v FROM (SELECT max(t1.boxoffice) AS v FROM film44 t1 WHERE t1.c_Japan=1 and mdate <= '2018-12-31'and mdate >='2018-10-01') t2 JOIN (SELECT sum(t3.boxoffice) AS v FROM film44 t3 WHERE t3.c_Japan=1 and mdate <= '2018-12-31'and mdate >='2018-10-01') t4'''"
   ]
  },
  {
   "cell_type": "code",
   "execution_count": null,
   "metadata": {},
   "outputs": [],
   "source": [
    "cursor.execute(eighte_foq_sql)"
   ]
  },
  {
   "cell_type": "code",
   "execution_count": null,
   "metadata": {},
   "outputs": [],
   "source": [
    "del eighte_foq_sql"
   ]
  },
  {
   "cell_type": "markdown",
   "metadata": {},
   "source": [
    "# 香港"
   ]
  },
  {
   "cell_type": "code",
   "execution_count": null,
   "metadata": {},
   "outputs": [],
   "source": [
    "sixt_fq_sql = '''insert into table gross_boxo_and_top_boxo_changes SELECT 'c_Hongkong',t2.v,'2016fq',t4.v FROM (SELECT max(t1.boxoffice) AS v FROM film44 t1 WHERE t1.c_Hongkong=1 and mdate <= '2016-03-31'and mdate >='2016-01-01') t2 JOIN (SELECT sum(t3.boxoffice) AS v FROM film44 t3 WHERE t3.c_Hongkong=1 and mdate <= '2016-03-31'and mdate >='2016-01-01') t4'''"
   ]
  },
  {
   "cell_type": "code",
   "execution_count": null,
   "metadata": {},
   "outputs": [],
   "source": [
    "cursor.execute(sixt_fq_sql)"
   ]
  },
  {
   "cell_type": "code",
   "execution_count": null,
   "metadata": {},
   "outputs": [],
   "source": [
    "del sixt_fq_sql"
   ]
  },
  {
   "cell_type": "code",
   "execution_count": null,
   "metadata": {},
   "outputs": [],
   "source": [
    "sixt_sq_sql = '''insert into table gross_boxo_and_top_boxo_changes SELECT 'c_Hongkong',t2.v,'2016sq',t4.v FROM (SELECT max(t1.boxoffice) AS v FROM film44 t1 WHERE t1.c_Hongkong=1 and mdate <= '2016-06-30'and mdate >='2016-04-01') t2 JOIN (SELECT sum(t3.boxoffice) AS v FROM film44 t3 WHERE t3.c_Hongkong=1 and mdate <= '2016-06-30'and mdate >='2016-04-01') t4'''"
   ]
  },
  {
   "cell_type": "code",
   "execution_count": null,
   "metadata": {},
   "outputs": [],
   "source": [
    "cursor.execute(sixt_sq_sql)"
   ]
  },
  {
   "cell_type": "code",
   "execution_count": null,
   "metadata": {},
   "outputs": [],
   "source": [
    "del sixt_sq_sql"
   ]
  },
  {
   "cell_type": "code",
   "execution_count": null,
   "metadata": {},
   "outputs": [],
   "source": [
    "sixt_tq_sql = '''insert into table gross_boxo_and_top_boxo_changes SELECT 'c_Hongkong',t2.v,'2016tq',t4.v FROM (SELECT max(t1.boxoffice) AS v FROM film44 t1 WHERE t1.c_Hongkong=1 and mdate <= '2016-09-30'and mdate >='2016-07-01') t2 JOIN (SELECT sum(t3.boxoffice) AS v FROM film44 t3 WHERE t3.c_Hongkong=1 and mdate <= '2016-09-30'and mdate >='2016-07-01') t4'''"
   ]
  },
  {
   "cell_type": "code",
   "execution_count": null,
   "metadata": {},
   "outputs": [],
   "source": [
    "cursor.execute(sixt_tq_sql)"
   ]
  },
  {
   "cell_type": "code",
   "execution_count": null,
   "metadata": {},
   "outputs": [],
   "source": [
    "del sixt_tq_sql"
   ]
  },
  {
   "cell_type": "code",
   "execution_count": null,
   "metadata": {},
   "outputs": [],
   "source": [
    "sixt_foq_sql = '''insert into table gross_boxo_and_top_boxo_changes SELECT 'c_Hongkong',t2.v,'2016foq',t4.v FROM (SELECT max(t1.boxoffice) AS v FROM film44 t1 WHERE t1.c_Hongkong=1 and mdate <= '2016-12-31'and mdate >='2016-10-01') t2 JOIN (SELECT sum(t3.boxoffice) AS v FROM film44 t3 WHERE t3.c_Hongkong=1 and mdate <= '2016-12-31'and mdate >='2016-10-01') t4'''"
   ]
  },
  {
   "cell_type": "code",
   "execution_count": null,
   "metadata": {},
   "outputs": [],
   "source": [
    "cursor.execute(sixt_foq_sql)"
   ]
  },
  {
   "cell_type": "code",
   "execution_count": null,
   "metadata": {},
   "outputs": [],
   "source": [
    "del sixt_foq_sql"
   ]
  },
  {
   "cell_type": "code",
   "execution_count": null,
   "metadata": {},
   "outputs": [],
   "source": [
    "sevent_fq_sql = '''insert into table gross_boxo_and_top_boxo_changes SELECT 'c_Hongkong',t2.v,'2017fq',t4.v FROM (SELECT max(t1.boxoffice) AS v FROM film44 t1 WHERE t1.c_Hongkong=1 and mdate <= '2017-03-31'and mdate >='2017-01-01') t2 JOIN (SELECT sum(t3.boxoffice) AS v FROM film44 t3 WHERE t3.c_Hongkong=1 and mdate <= '2017-03-31'and mdate >='2017-01-01') t4'''"
   ]
  },
  {
   "cell_type": "code",
   "execution_count": null,
   "metadata": {},
   "outputs": [],
   "source": [
    "cursor.execute(sevent_fq_sql)"
   ]
  },
  {
   "cell_type": "code",
   "execution_count": null,
   "metadata": {},
   "outputs": [],
   "source": [
    "del sevent_fq_sql"
   ]
  },
  {
   "cell_type": "code",
   "execution_count": null,
   "metadata": {},
   "outputs": [],
   "source": [
    "sevent_sq_sql = '''insert into table gross_boxo_and_top_boxo_changes SELECT 'c_Hongkong',t2.v,'2017sq',t4.v FROM (SELECT max(t1.boxoffice) AS v FROM film44 t1 WHERE t1.c_Hongkong=1 and mdate <= '2017-06-30'and mdate >='2017-04-01') t2 JOIN (SELECT sum(t3.boxoffice) AS v FROM film44 t3 WHERE t3.c_Hongkong=1 and mdate <= '2017-06-30'and mdate >='2017-04-01') t4'''"
   ]
  },
  {
   "cell_type": "code",
   "execution_count": null,
   "metadata": {},
   "outputs": [],
   "source": [
    "cursor.execute(sevent_sq_sql)"
   ]
  },
  {
   "cell_type": "code",
   "execution_count": null,
   "metadata": {},
   "outputs": [],
   "source": [
    "del sevent_sq_sql"
   ]
  },
  {
   "cell_type": "code",
   "execution_count": null,
   "metadata": {},
   "outputs": [],
   "source": [
    "sevent_tq_sql = '''insert into table gross_boxo_and_top_boxo_changes SELECT 'c_Hongkong',t2.v,'2017tq',t4.v FROM (SELECT max(t1.boxoffice) AS v FROM film44 t1 WHERE t1.c_Hongkong=1 and mdate <= '2017-09-30'and mdate >='2017-07-01') t2 JOIN (SELECT sum(t3.boxoffice) AS v FROM film44 t3 WHERE t3.c_Hongkong=1 and mdate <= '2017-09-30'and mdate >='2017-07-01') t4'''"
   ]
  },
  {
   "cell_type": "code",
   "execution_count": null,
   "metadata": {},
   "outputs": [],
   "source": [
    "cursor.execute(sevent_tq_sql)"
   ]
  },
  {
   "cell_type": "code",
   "execution_count": null,
   "metadata": {},
   "outputs": [],
   "source": [
    "del sevent_tq_sql"
   ]
  },
  {
   "cell_type": "code",
   "execution_count": null,
   "metadata": {},
   "outputs": [],
   "source": [
    "sevent_foq_sql = '''insert into table gross_boxo_and_top_boxo_changes SELECT 'c_Hongkong',t2.v,'2017foq',t4.v FROM (SELECT max(t1.boxoffice) AS v FROM film44 t1 WHERE t1.c_Hongkong=1 and mdate <= '2017-12-31'and mdate >='2017-10-01') t2 JOIN (SELECT sum(t3.boxoffice) AS v FROM film44 t3 WHERE t3.c_Hongkong=1 and mdate <= '2017-12-31'and mdate >='2017-10-01') t4'''"
   ]
  },
  {
   "cell_type": "code",
   "execution_count": null,
   "metadata": {},
   "outputs": [],
   "source": [
    "cursor.execute(sevent_foq_sql)"
   ]
  },
  {
   "cell_type": "code",
   "execution_count": null,
   "metadata": {},
   "outputs": [],
   "source": [
    "del sevent_foq_sql"
   ]
  },
  {
   "cell_type": "code",
   "execution_count": null,
   "metadata": {},
   "outputs": [],
   "source": [
    "eighte_fq_sql = '''insert into table gross_boxo_and_top_boxo_changes SELECT 'c_Hongkong',t2.v,'2018fq',t4.v FROM (SELECT max(t1.boxoffice) AS v FROM film44 t1 WHERE t1.c_c_Hongkong=1 and mdate <= '2018-03-31'and mdate >='2018-01-01') t2 JOIN (SELECT sum(t3.boxoffice) AS v FROM film44 t3 WHERE t3.c_Hongkong=1 and mdate <= '2018-03-31'and mdate >='2018-01-01') t4'''"
   ]
  },
  {
   "cell_type": "code",
   "execution_count": null,
   "metadata": {},
   "outputs": [],
   "source": [
    "cursor.execute(eighte_fq_sql)"
   ]
  },
  {
   "cell_type": "code",
   "execution_count": null,
   "metadata": {},
   "outputs": [],
   "source": [
    "del eighte_fq_sql"
   ]
  },
  {
   "cell_type": "code",
   "execution_count": null,
   "metadata": {},
   "outputs": [],
   "source": [
    "eighte_sq_sql = '''insert into table gross_boxo_and_top_boxo_changes SELECT 'c_Hongkong',t2.v,'2018sq',t4.v FROM (SELECT max(t1.boxoffice) AS v FROM film44 t1 WHERE t1.c_Hongkong=1 and mdate <= '2018-06-30'and mdate >='2018-04-01') t2 JOIN (SELECT sum(t3.boxoffice) AS v FROM film44 t3 WHERE t3.c_Hongkong=1 and mdate <= '2018-06-30'and mdate >='2018-04-01') t4'''"
   ]
  },
  {
   "cell_type": "code",
   "execution_count": null,
   "metadata": {},
   "outputs": [],
   "source": [
    "cursor.execute(eighte_sq_sql)"
   ]
  },
  {
   "cell_type": "code",
   "execution_count": null,
   "metadata": {},
   "outputs": [],
   "source": [
    "del eighte_sq_sql"
   ]
  },
  {
   "cell_type": "code",
   "execution_count": null,
   "metadata": {},
   "outputs": [],
   "source": [
    "eighte_tq_sql = '''insert into table gross_boxo_and_top_boxo_changes SELECT 'c_Hongkong',t2.v,'2018tq',t4.v FROM (SELECT max(t1.boxoffice) AS v FROM film44 t1 WHERE t1.c_Hongkong=1 and mdate <= '2018-09-30'and mdate >='2018-07-01') t2 JOIN (SELECT sum(t3.boxoffice) AS v FROM film44 t3 WHERE t3.c_Hongkong=1 and mdate <= '2018-09-30'and mdate >='2018-07-01') t4'''"
   ]
  },
  {
   "cell_type": "code",
   "execution_count": null,
   "metadata": {},
   "outputs": [],
   "source": [
    "cursor.execute(eighte_tq_sql)"
   ]
  },
  {
   "cell_type": "code",
   "execution_count": null,
   "metadata": {},
   "outputs": [],
   "source": [
    "del eighte_tq_sql"
   ]
  },
  {
   "cell_type": "code",
   "execution_count": null,
   "metadata": {},
   "outputs": [],
   "source": [
    "eighte_foq_sql = '''insert into table gross_boxo_and_top_boxo_changes SELECT 'c_Hongkong',t2.v,'2018foq',t4.v FROM (SELECT max(t1.boxoffice) AS v FROM film44 t1 WHERE t1.c_Hongkong=1 and mdate <= '2018-12-31'and mdate >='2018-10-01') t2 JOIN (SELECT sum(t3.boxoffice) AS v FROM film44 t3 WHERE t3.c_Hongkong=1 and mdate <= '2018-12-31'and mdate >='2018-10-01') t4'''"
   ]
  },
  {
   "cell_type": "code",
   "execution_count": null,
   "metadata": {},
   "outputs": [],
   "source": [
    "cursor.execute(eighte_foq_sql)"
   ]
  },
  {
   "cell_type": "code",
   "execution_count": null,
   "metadata": {},
   "outputs": [],
   "source": [
    "del eighte_foq_sql"
   ]
  },
  {
   "cell_type": "markdown",
   "metadata": {},
   "source": [
    "# 台湾"
   ]
  },
  {
   "cell_type": "code",
   "execution_count": null,
   "metadata": {},
   "outputs": [],
   "source": [
    "sixt_fq_sql = '''insert into table relation_bet_age_and_class SELECT 'c_Others',(t2.v / t4.s) * 100.0,(t6.v / t8.s) * 100.0,(t10.v / t12.s) * 100.0,(t14.v / t16.s) * 100.0,(t18.v / t20.s) * 100.0,(t22.v / t24.s) * 100.0               FROM (SELECT SUM(t1.under20) AS v FROM film44 t1 WHERE t1.c_Others=1) t2 JOIN (SELECT count(t3.under20) as s FROM film44 t3 WHERE t3.c_Others=1) t4 JOIN (SELECT SUM(t5.20to24) AS v FROM film44 t5 WHERE t5.c_Others=1) t6 JOIN (SELECT count(t7.20to24) as s FROM film44 t7 WHERE t7.c_Others=1) t8 JOIN (SELECT SUM(t9.25to29) AS v FROM film44 t9 WHERE t9.c_Others=1) t10 JOIN (SELECT count(t11.25to29) as s FROM film44 t11 WHERE t11.c_Others=1) t12 JOIN (SELECT SUM(t13.30to34) AS v FROM film44 t13 WHERE t13.c_Others=1) t14 JOIN (SELECT count(t15.30to34) as s FROM film44 t15 WHERE t15.c_Others=1) t16 JOIN (SELECT SUM(t17.35to39) AS v FROM film44 t17 WHERE t17.c_Others=1) t18 JOIN (SELECT count(t19.35to39) as s FROM film44 t19 WHERE t19.c_Others=1) t20 JOIN (SELECT SUM(t21.above40) AS v FROM film44 t21 WHERE t21.c_Others=1) t22 JOIN (SELECT count(t23.above40) as s FROM film44 t23 WHERE t23.c_Others=1) t24'''"
   ]
  },
  {
   "cell_type": "code",
   "execution_count": null,
   "metadata": {},
   "outputs": [],
   "source": [
    "cursor.execute(sixt_fq_sql)"
   ]
  },
  {
   "cell_type": "code",
   "execution_count": null,
   "metadata": {},
   "outputs": [],
   "source": [
    "del sixt_fq_sql"
   ]
  },
  {
   "cell_type": "code",
   "execution_count": null,
   "metadata": {},
   "outputs": [],
   "source": [
    "sixt_sq_sql = '''insert into table gross_boxo_and_top_boxo_changes SELECT 'c_Taiwan',t2.v,'2016sq',t4.v FROM (SELECT max(t1.boxoffice) AS v FROM film44 t1 WHERE t1.c_Taiwan=1 and mdate <= '2016-06-30'and mdate >='2016-04-01') t2 JOIN (SELECT sum(t3.boxoffice) AS v FROM film44 t3 WHERE t3.c_Taiwan=1 and mdate <= '2016-06-30'and mdate >='2016-04-01') t4'''"
   ]
  },
  {
   "cell_type": "code",
   "execution_count": null,
   "metadata": {},
   "outputs": [],
   "source": [
    "cursor.execute(sixt_sq_sql)"
   ]
  },
  {
   "cell_type": "code",
   "execution_count": null,
   "metadata": {},
   "outputs": [],
   "source": [
    "del sixt_sq_sql"
   ]
  },
  {
   "cell_type": "code",
   "execution_count": null,
   "metadata": {},
   "outputs": [],
   "source": [
    "sixt_tq_sql = '''insert into table gross_boxo_and_top_boxo_changes SELECT 'c_Taiwan',t2.v,'2016tq',t4.v FROM (SELECT max(t1.boxoffice) AS v FROM film44 t1 WHERE t1.c_Taiwan=1 and mdate <= '2016-09-30'and mdate >='2016-07-01') t2 JOIN (SELECT sum(t3.boxoffice) AS v FROM film44 t3 WHERE t3.c_Taiwan=1 and mdate <= '2016-09-30'and mdate >='2016-07-01') t4'''"
   ]
  },
  {
   "cell_type": "code",
   "execution_count": null,
   "metadata": {},
   "outputs": [],
   "source": [
    "cursor.execute(sixt_tq_sql)"
   ]
  },
  {
   "cell_type": "code",
   "execution_count": null,
   "metadata": {},
   "outputs": [],
   "source": [
    "del sixt_tq_sql"
   ]
  },
  {
   "cell_type": "code",
   "execution_count": null,
   "metadata": {},
   "outputs": [],
   "source": [
    "sixt_foq_sql = '''insert into table gross_boxo_and_top_boxo_changes SELECT 'c_Taiwan',t2.v,'2016foq',t4.v FROM (SELECT max(t1.boxoffice) AS v FROM film44 t1 WHERE t1.c_Taiwan=1 and mdate <= '2016-12-31'and mdate >='2016-10-01') t2 JOIN (SELECT sum(t3.boxoffice) AS v FROM film44 t3 WHERE t3.c_Taiwan=1 and mdate <= '2016-12-31'and mdate >='2016-10-01') t4'''"
   ]
  },
  {
   "cell_type": "code",
   "execution_count": null,
   "metadata": {},
   "outputs": [],
   "source": [
    "cursor.execute(sixt_foq_sql)"
   ]
  },
  {
   "cell_type": "code",
   "execution_count": null,
   "metadata": {},
   "outputs": [],
   "source": [
    "del sixt_foq_sql"
   ]
  },
  {
   "cell_type": "code",
   "execution_count": null,
   "metadata": {},
   "outputs": [],
   "source": [
    "sevent_fq_sql = '''insert into table gross_boxo_and_top_boxo_changes SELECT 'c_Taiwan',t2.v,'2017fq',t4.v FROM (SELECT max(t1.boxoffice) AS v FROM film44 t1 WHERE t1.c_Taiwan=1 and mdate <= '2017-03-31'and mdate >='2017-01-01') t2 JOIN (SELECT sum(t3.boxoffice) AS v FROM film44 t3 WHERE t3.c_Taiwan=1 and mdate <= '2017-03-31'and mdate >='2017-01-01') t4'''"
   ]
  },
  {
   "cell_type": "code",
   "execution_count": null,
   "metadata": {},
   "outputs": [],
   "source": [
    "cursor.execute(sevent_fq_sql)"
   ]
  },
  {
   "cell_type": "code",
   "execution_count": null,
   "metadata": {},
   "outputs": [],
   "source": [
    "del sevent_fq_sql"
   ]
  },
  {
   "cell_type": "code",
   "execution_count": null,
   "metadata": {},
   "outputs": [],
   "source": [
    "sevent_sq_sql = '''insert into table gross_boxo_and_top_boxo_changes SELECT 'c_Taiwan',t2.v,'2017sq',t4.v FROM (SELECT max(t1.boxoffice) AS v FROM film44 t1 WHERE t1.c_Taiwan=1 and mdate <= '2017-06-30'and mdate >='2017-04-01') t2 JOIN (SELECT sum(t3.boxoffice) AS v FROM film44 t3 WHERE t3.c_Taiwan=1 and mdate <= '2017-06-30'and mdate >='2017-04-01') t4'''"
   ]
  },
  {
   "cell_type": "code",
   "execution_count": null,
   "metadata": {},
   "outputs": [],
   "source": [
    "cursor.execute(sevent_sq_sql)"
   ]
  },
  {
   "cell_type": "code",
   "execution_count": null,
   "metadata": {},
   "outputs": [],
   "source": [
    "del sevent_sq_sql"
   ]
  },
  {
   "cell_type": "code",
   "execution_count": null,
   "metadata": {},
   "outputs": [],
   "source": [
    "sevent_tq_sql = '''insert into table gross_boxo_and_top_boxo_changes SELECT 'c_Taiwan',t2.v,'2017tq',t4.v FROM (SELECT max(t1.boxoffice) AS v FROM film44 t1 WHERE t1.c_Taiwan=1 and mdate <= '2017-09-30'and mdate >='2017-07-01') t2 JOIN (SELECT sum(t3.boxoffice) AS v FROM film44 t3 WHERE t3.c_Taiwan=1 and mdate <= '2017-09-30'and mdate >='2017-07-01') t4'''"
   ]
  },
  {
   "cell_type": "code",
   "execution_count": null,
   "metadata": {},
   "outputs": [],
   "source": [
    "cursor.execute(sevent_tq_sql)"
   ]
  },
  {
   "cell_type": "code",
   "execution_count": null,
   "metadata": {},
   "outputs": [],
   "source": [
    "del sevent_tq_sql"
   ]
  },
  {
   "cell_type": "code",
   "execution_count": null,
   "metadata": {},
   "outputs": [],
   "source": [
    "sevent_foq_sql = '''insert into table gross_boxo_and_top_boxo_changes SELECT 'c_Taiwan',t2.v,'2017foq',t4.v FROM (SELECT max(t1.boxoffice) AS v FROM film44 t1 WHERE t1.c_Taiwan=1 and mdate <= '2017-12-31'and mdate >='2017-10-01') t2 JOIN (SELECT sum(t3.boxoffice) AS v FROM film44 t3 WHERE t3.c_Taiwan=1 and mdate <= '2017-12-31'and mdate >='2017-10-01') t4'''"
   ]
  },
  {
   "cell_type": "code",
   "execution_count": null,
   "metadata": {},
   "outputs": [],
   "source": [
    "cursor.execute(sevent_foq_sql)"
   ]
  },
  {
   "cell_type": "code",
   "execution_count": null,
   "metadata": {},
   "outputs": [],
   "source": [
    "del sevent_foq_sql"
   ]
  },
  {
   "cell_type": "code",
   "execution_count": null,
   "metadata": {},
   "outputs": [],
   "source": [
    "eighte_fq_sql = '''insert into table gross_boxo_and_top_boxo_changes SELECT 'c_Taiwan',t2.v,'2018fq',t4.v FROM (SELECT max(t1.boxoffice) AS v FROM film44 t1 WHERE t1.c_Taiwan=1 and mdate <= '2018-03-31'and mdate >='2018-01-01') t2 JOIN (SELECT sum(t3.boxoffice) AS v FROM film44 t3 WHERE t3.c_Taiwan=1 and mdate <= '2018-03-31'and mdate >='2018-01-01') t4'''"
   ]
  },
  {
   "cell_type": "code",
   "execution_count": null,
   "metadata": {},
   "outputs": [],
   "source": [
    "cursor.execute(eighte_fq_sql)"
   ]
  },
  {
   "cell_type": "code",
   "execution_count": null,
   "metadata": {},
   "outputs": [],
   "source": [
    "del eighte_fq_sql"
   ]
  },
  {
   "cell_type": "code",
   "execution_count": null,
   "metadata": {},
   "outputs": [],
   "source": [
    "eighte_sq_sql = '''insert into table gross_boxo_and_top_boxo_changes SELECT 'c_Taiwan',t2.v,'2018sq',t4.v FROM (SELECT max(t1.boxoffice) AS v FROM film44 t1 WHERE t1.c_Taiwan=1 and mdate <= '2018-06-30'and mdate >='2018-04-01') t2 JOIN (SELECT sum(t3.boxoffice) AS v FROM film44 t3 WHERE t3.c_Taiwan=1 and mdate <= '2018-06-30'and mdate >='2018-04-01') t4'''"
   ]
  },
  {
   "cell_type": "code",
   "execution_count": null,
   "metadata": {},
   "outputs": [],
   "source": [
    "cursor.execute(eighte_sq_sql)"
   ]
  },
  {
   "cell_type": "code",
   "execution_count": null,
   "metadata": {},
   "outputs": [],
   "source": [
    "del eighte_sq_sql"
   ]
  },
  {
   "cell_type": "code",
   "execution_count": null,
   "metadata": {},
   "outputs": [],
   "source": [
    "eighte_tq_sql = '''insert into table gross_boxo_and_top_boxo_changes SELECT 'c_Taiwan',t2.v,'2018tq',t4.v FROM (SELECT max(t1.boxoffice) AS v FROM film44 t1 WHERE t1.c_Taiwan=1 and mdate <= '2018-09-30'and mdate >='2018-07-01') t2 JOIN (SELECT sum(t3.boxoffice) AS v FROM film44 t3 WHERE t3.c_Taiwan=1 and mdate <= '2018-09-30'and mdate >='2018-07-01') t4'''"
   ]
  },
  {
   "cell_type": "code",
   "execution_count": null,
   "metadata": {},
   "outputs": [],
   "source": [
    "cursor.execute(eighte_tq_sql)"
   ]
  },
  {
   "cell_type": "code",
   "execution_count": null,
   "metadata": {},
   "outputs": [],
   "source": [
    "del eighte_tq_sql"
   ]
  },
  {
   "cell_type": "code",
   "execution_count": null,
   "metadata": {},
   "outputs": [],
   "source": [
    "eighte_foq_sql = '''insert into table gross_boxo_and_top_boxo_changes SELECT 'c_Taiwan',t2.v,'2018foq',t4.v FROM (SELECT max(t1.boxoffice) AS v FROM film44 t1 WHERE t1.c_Taiwan=1 and mdate <= '2018-12-31'and mdate >='2018-10-01') t2 JOIN (SELECT sum(t3.boxoffice) AS v FROM film44 t3 WHERE t3.c_Taiwan=1 and mdate <= '2018-12-31'and mdate >='2018-10-01') t4'''"
   ]
  },
  {
   "cell_type": "code",
   "execution_count": null,
   "metadata": {},
   "outputs": [],
   "source": [
    "cursor.execute(eighte_foq_sql)"
   ]
  },
  {
   "cell_type": "code",
   "execution_count": null,
   "metadata": {},
   "outputs": [],
   "source": [
    "del eighte_foq_sql"
   ]
  },
  {
   "cell_type": "markdown",
   "metadata": {},
   "source": [
    "# 泰国"
   ]
  },
  {
   "cell_type": "code",
   "execution_count": null,
   "metadata": {},
   "outputs": [],
   "source": [
    "sixt_fq_sql = '''insert into table gross_boxo_and_top_boxo_changes SELECT 'c_Thailand',t2.v,'2016fq',t4.v FROM (SELECT max(t1.boxoffice) AS v FROM film44 t1 WHERE t1.c_Thailand=1 and mdate <= '2016-03-31'and mdate >='2016-01-01') t2 JOIN (SELECT sum(t3.boxoffice) AS v FROM film44 t3 WHERE t3.c_Thailand=1 and mdate <= '2016-03-31'and mdate >='2016-01-01') t4'''"
   ]
  },
  {
   "cell_type": "code",
   "execution_count": null,
   "metadata": {},
   "outputs": [],
   "source": [
    "cursor.execute(sixt_fq_sql)"
   ]
  },
  {
   "cell_type": "code",
   "execution_count": null,
   "metadata": {},
   "outputs": [],
   "source": [
    "del sixt_fq_sql"
   ]
  },
  {
   "cell_type": "code",
   "execution_count": null,
   "metadata": {},
   "outputs": [],
   "source": [
    "sixt_sq_sql = '''insert into table gross_boxo_and_top_boxo_changes SELECT 'c_Thailand',t2.v,'2016sq',t4.v FROM (SELECT max(t1.boxoffice) AS v FROM film44 t1 WHERE t1.c_Thailand=1 and mdate <= '2016-06-30'and mdate >='2016-04-01') t2 JOIN (SELECT sum(t3.boxoffice) AS v FROM film44 t3 WHERE t3.c_Thailand=1 and mdate <= '2016-06-30'and mdate >='2016-04-01') t4'''"
   ]
  },
  {
   "cell_type": "code",
   "execution_count": null,
   "metadata": {},
   "outputs": [],
   "source": [
    "cursor.execute(sixt_sq_sql)"
   ]
  },
  {
   "cell_type": "code",
   "execution_count": null,
   "metadata": {},
   "outputs": [],
   "source": [
    "del sixt_sq_sql"
   ]
  },
  {
   "cell_type": "code",
   "execution_count": null,
   "metadata": {},
   "outputs": [],
   "source": [
    "sixt_tq_sql = '''insert into table gross_boxo_and_top_boxo_changes SELECT 'c_Thailand',t2.v,'2016tq',t4.v FROM (SELECT max(t1.boxoffice) AS v FROM film44 t1 WHERE t1.c_Thailand=1 and mdate <= '2016-09-30'and mdate >='2016-07-01') t2 JOIN (SELECT sum(t3.boxoffice) AS v FROM film44 t3 WHERE t3.c_Thailand=1 and mdate <= '2016-09-30'and mdate >='2016-07-01') t4'''"
   ]
  },
  {
   "cell_type": "code",
   "execution_count": null,
   "metadata": {},
   "outputs": [],
   "source": [
    "cursor.execute(sixt_tq_sql)"
   ]
  },
  {
   "cell_type": "code",
   "execution_count": null,
   "metadata": {},
   "outputs": [],
   "source": [
    "del sixt_tq_sql"
   ]
  },
  {
   "cell_type": "code",
   "execution_count": null,
   "metadata": {},
   "outputs": [],
   "source": [
    "sixt_foq_sql = '''insert into table gross_boxo_and_top_boxo_changes SELECT 'c_Thailand',t2.v,'2016foq',t4.v FROM (SELECT max(t1.boxoffice) AS v FROM film44 t1 WHERE t1.c_Thailand=1 and mdate <= '2016-12-31'and mdate >='2016-10-01') t2 JOIN (SELECT sum(t3.boxoffice) AS v FROM film44 t3 WHERE t3.c_Thailand=1 and mdate <= '2016-12-31'and mdate >='2016-10-01') t4'''"
   ]
  },
  {
   "cell_type": "code",
   "execution_count": null,
   "metadata": {},
   "outputs": [],
   "source": [
    "cursor.execute(sixt_foq_sql)"
   ]
  },
  {
   "cell_type": "code",
   "execution_count": null,
   "metadata": {},
   "outputs": [],
   "source": [
    "del sixt_foq_sql"
   ]
  },
  {
   "cell_type": "code",
   "execution_count": null,
   "metadata": {},
   "outputs": [],
   "source": [
    "sevent_fq_sql = '''insert into table gross_boxo_and_top_boxo_changes SELECT 'c_Thailand',t2.v,'2017fq',t4.v FROM (SELECT max(t1.boxoffice) AS v FROM film44 t1 WHERE t1.c_Thailand=1 and mdate <= '2017-03-31'and mdate >='2017-01-01') t2 JOIN (SELECT sum(t3.boxoffice) AS v FROM film44 t3 WHERE t3.c_Thailand=1 and mdate <= '2017-03-31'and mdate >='2017-01-01') t4'''"
   ]
  },
  {
   "cell_type": "code",
   "execution_count": null,
   "metadata": {},
   "outputs": [],
   "source": [
    "cursor.execute(sevent_fq_sql)"
   ]
  },
  {
   "cell_type": "code",
   "execution_count": null,
   "metadata": {},
   "outputs": [],
   "source": [
    "del sevent_fq_sql"
   ]
  },
  {
   "cell_type": "code",
   "execution_count": null,
   "metadata": {},
   "outputs": [],
   "source": [
    "sevent_sq_sql = '''insert into table gross_boxo_and_top_boxo_changes SELECT 'c_Thailand',t2.v,'2017sq',t4.v FROM (SELECT max(t1.boxoffice) AS v FROM film44 t1 WHERE t1.c_Thailand=1 and mdate <= '2017-06-30'and mdate >='2017-04-01') t2 JOIN (SELECT sum(t3.boxoffice) AS v FROM film44 t3 WHERE t3.c_Thailand=1 and mdate <= '2017-06-30'and mdate >='2017-04-01') t4'''"
   ]
  },
  {
   "cell_type": "code",
   "execution_count": null,
   "metadata": {},
   "outputs": [],
   "source": [
    "cursor.execute(sevent_sq_sql)"
   ]
  },
  {
   "cell_type": "code",
   "execution_count": null,
   "metadata": {},
   "outputs": [],
   "source": [
    "del sevent_sq_sql"
   ]
  },
  {
   "cell_type": "code",
   "execution_count": null,
   "metadata": {},
   "outputs": [],
   "source": [
    "sevent_tq_sql = '''insert into table gross_boxo_and_top_boxo_changes SELECT 'c_Thailand',t2.v,'2017tq',t4.v FROM (SELECT max(t1.boxoffice) AS v FROM film44 t1 WHERE t1.c_Thailand=1 and mdate <= '2017-09-30'and mdate >='2017-07-01') t2 JOIN (SELECT sum(t3.boxoffice) AS v FROM film44 t3 WHERE t3.c_Thailand=1 and mdate <= '2017-09-30'and mdate >='2017-07-01') t4'''"
   ]
  },
  {
   "cell_type": "code",
   "execution_count": null,
   "metadata": {},
   "outputs": [],
   "source": [
    "cursor.execute(sevent_tq_sql)"
   ]
  },
  {
   "cell_type": "code",
   "execution_count": null,
   "metadata": {},
   "outputs": [],
   "source": [
    "del sevent_tq_sql"
   ]
  },
  {
   "cell_type": "code",
   "execution_count": null,
   "metadata": {},
   "outputs": [],
   "source": [
    "sevent_foq_sql = '''insert into table gross_boxo_and_top_boxo_changes SELECT 'c_Thailand',t2.v,'2017foq',t4.v FROM (SELECT max(t1.boxoffice) AS v FROM film44 t1 WHERE t1.c_Thailand=1 and mdate <= '2017-12-31'and mdate >='2017-10-01') t2 JOIN (SELECT sum(t3.boxoffice) AS v FROM film44 t3 WHERE t3.c_Thailand=1 and mdate <= '2017-12-31'and mdate >='2017-10-01') t4'''"
   ]
  },
  {
   "cell_type": "code",
   "execution_count": null,
   "metadata": {},
   "outputs": [],
   "source": [
    "cursor.execute(sevent_foq_sql)"
   ]
  },
  {
   "cell_type": "code",
   "execution_count": null,
   "metadata": {},
   "outputs": [],
   "source": [
    "del sevent_foq_sql"
   ]
  },
  {
   "cell_type": "code",
   "execution_count": null,
   "metadata": {},
   "outputs": [],
   "source": [
    "eighte_fq_sql= '''insert into table gross_boxo_and_top_boxo_changes SELECT 'c_Thailand',t2.v,'2018fq',t4.v FROM (SELECT max(t1.boxoffice) AS v FROM film44 t1 WHERE t1.c_Thailand=1 and mdate <= '2018-03-31'and mdate >='2018-01-01') t2 JOIN (SELECT sum(t3.boxoffice) AS v FROM film44 t3 WHERE t3.c_Thailand=1 and mdate <= '2018-03-31'and mdate >='2018-01-01') t4'''"
   ]
  },
  {
   "cell_type": "code",
   "execution_count": null,
   "metadata": {},
   "outputs": [],
   "source": [
    "cursor.execute(eighte_fq_sql)"
   ]
  },
  {
   "cell_type": "code",
   "execution_count": null,
   "metadata": {},
   "outputs": [],
   "source": [
    "del eighte_fq_sql"
   ]
  },
  {
   "cell_type": "code",
   "execution_count": null,
   "metadata": {},
   "outputs": [],
   "source": [
    "eighte_sq_sql = '''insert into table gross_boxo_and_top_boxo_changes SELECT 'c_Thailand',t2.v,'2018sq',t4.v FROM (SELECT max(t1.boxoffice) AS v FROM film44 t1 WHERE t1.c_Thailand=1 and mdate <= '2018-06-30'and mdate >='2018-04-01') t2 JOIN (SELECT sum(t3.boxoffice) AS v FROM film44 t3 WHERE t3.c_Thailand=1 and mdate <= '2018-06-30'and mdate >='2018-04-01') t4'''"
   ]
  },
  {
   "cell_type": "code",
   "execution_count": null,
   "metadata": {},
   "outputs": [],
   "source": [
    "cursor.execute(eighte_fq_sql)"
   ]
  },
  {
   "cell_type": "code",
   "execution_count": null,
   "metadata": {},
   "outputs": [],
   "source": [
    "del eighte_sq_sql"
   ]
  },
  {
   "cell_type": "code",
   "execution_count": null,
   "metadata": {},
   "outputs": [],
   "source": [
    "eighte_tq_sql = '''insert into table gross_boxo_and_top_boxo_changes SELECT 'c_Thailand',t2.v,'2018tq',t4.v FROM (SELECT max(t1.boxoffice) AS v FROM film44 t1 WHERE t1.c_Thailand=1 and mdate <= '2018-09-30'and mdate >='2018-07-01') t2 JOIN (SELECT sum(t3.boxoffice) AS v FROM film44 t3 WHERE t3.c_Thailand=1 and mdate <= '2018-09-30'and mdate >='2018-07-01') t4'''\n",
    "cursor.execute(eighte_tq_sql)"
   ]
  },
  {
   "cell_type": "code",
   "execution_count": null,
   "metadata": {},
   "outputs": [],
   "source": [
    "del eighte_tq_sql"
   ]
  },
  {
   "cell_type": "code",
   "execution_count": null,
   "metadata": {},
   "outputs": [],
   "source": [
    "eighte_foq_sql = '''insert into table gross_boxo_and_top_boxo_changes SELECT 'c_Thailand',t2.v,'2018foq',t4.v FROM (SELECT max(t1.boxoffice) AS v FROM film44 t1 WHERE t1.c_Thailand=1 and mdate <= '2018-12-31'and mdate >='2018-10-01') t2 JOIN (SELECT sum(t3.boxoffice) AS v FROM film44 t3 WHERE t3.c_Thailand=1 and mdate <= '2018-12-31'and mdate >='2018-10-01') t4'''\n",
    "cursor.execute(eighte_foq_sql)"
   ]
  },
  {
   "cell_type": "code",
   "execution_count": null,
   "metadata": {},
   "outputs": [],
   "source": [
    "del eighte_foq_sql"
   ]
  },
  {
   "cell_type": "markdown",
   "metadata": {},
   "source": [
    "# 印度"
   ]
  },
  {
   "cell_type": "code",
   "execution_count": null,
   "metadata": {},
   "outputs": [],
   "source": []
  },
  {
   "cell_type": "code",
   "execution_count": null,
   "metadata": {},
   "outputs": [],
   "source": [
    "sixt_fq_sql = '''insert into table gross_boxo_and_top_boxo_changes SELECT 'c_India',t2.v,'2016fq',t4.v FROM (SELECT max(t1.boxoffice) AS v FROM film44 t1 WHERE t1.c_India=1 and mdate <= '2016-03-31'and mdate >='2016-01-01') t2 JOIN (SELECT sum(t3.boxoffice) AS v FROM film44 t3 WHERE t3.c_India=1 and mdate <= '2016-03-31'and mdate >='2016-01-01') t4'''\n",
    "cursor.execute(sixt_fq_sql)"
   ]
  },
  {
   "cell_type": "code",
   "execution_count": null,
   "metadata": {},
   "outputs": [],
   "source": [
    "sixt_sq_sql = '''insert into table gross_boxo_and_top_boxo_changes SELECT 'c_India',t2.v,'2016sq',t4.v FROM (SELECT max(t1.boxoffice) AS v FROM film44 t1 WHERE t1.c_India=1 and mdate <= '2016-06-30'and mdate >='2016-04-01') t2 JOIN (SELECT sum(t3.boxoffice) AS v FROM film44 t3 WHERE t3.c_India=1 and mdate <= '2016-06-30'and mdate >='2016-04-01') t4'''\n",
    "cursor.execute(sixt_sq_sql)"
   ]
  },
  {
   "cell_type": "code",
   "execution_count": null,
   "metadata": {},
   "outputs": [],
   "source": [
    "\n",
    "sixt_tq_sql = '''insert into table gross_boxo_and_top_boxo_changes SELECT 'c_India',t2.v,'2016tq',t4.v FROM (SELECT max(t1.boxoffice) AS v FROM film44 t1 WHERE t1.c_India=1 and mdate <= '2016-09-30'and mdate >='2016-07-01') t2 JOIN (SELECT sum(t3.boxoffice) AS v FROM film44 t3 WHERE t3.c_India=1 and mdate <= '2016-09-30'and mdate >='2016-07-01') t4'''\n",
    "cursor.execute(sixt_tq_sql)\n"
   ]
  },
  {
   "cell_type": "code",
   "execution_count": null,
   "metadata": {},
   "outputs": [],
   "source": [
    "\n",
    "sixt_foq_sql = '''insert into table gross_boxo_and_top_boxo_changes SELECT 'c_India',t2.v,'2016foq',t4.v FROM (SELECT max(t1.boxoffice) AS v FROM film44 t1 WHERE t1.c_India=1 and mdate <= '2016-12-31'and mdate >='2016-10-01') t2 JOIN (SELECT sum(t3.boxoffice) AS v FROM film44 t3 WHERE t3.c_India=1 and mdate <= '2016-12-31'and mdate >='2016-10-01') t4'''\n",
    "cursor.execute(sixt_foq_sql)"
   ]
  },
  {
   "cell_type": "code",
   "execution_count": null,
   "metadata": {},
   "outputs": [],
   "source": [
    "sevent_fq_sql = '''insert into table gross_boxo_and_top_boxo_changes SELECT 'c_India',t2.v,'2017fq',t4.v FROM (SELECT max(t1.boxoffice) AS v FROM film44 t1 WHERE t1.c_India=1 and mdate <= '2017-03-31'and mdate >='2017-01-01') t2 JOIN (SELECT sum(t3.boxoffice) AS v FROM film44 t3 WHERE t3.c_India=1 and mdate <= '2017-03-31'and mdate >='2017-01-01') t4'''\n",
    "cursor.execute(sevent_fq_sql)"
   ]
  },
  {
   "cell_type": "code",
   "execution_count": null,
   "metadata": {},
   "outputs": [],
   "source": [
    "sevent_sq_sql = '''insert into table gross_boxo_and_top_boxo_changes SELECT 'c_India',t2.v,'2017sq',t4.v FROM (SELECT max(t1.boxoffice) AS v FROM film44 t1 WHERE t1.c_India=1 and mdate <= '2017-06-30'and mdate >='2017-04-01') t2 JOIN (SELECT sum(t3.boxoffice) AS v FROM film44 t3 WHERE t3.c_India=1 and mdate <= '2017-06-30'and mdate >='2017-04-01') t4'''\n",
    "cursor.execute(sevent_sq_sql)"
   ]
  },
  {
   "cell_type": "code",
   "execution_count": null,
   "metadata": {},
   "outputs": [],
   "source": [
    "sevent_tq_sql = '''insert into table gross_boxo_and_top_boxo_changes SELECT 'c_India',t2.v,'2017tq',t4.v FROM (SELECT max(t1.boxoffice) AS v FROM film44 t1 WHERE t1.c_India=1 and mdate <= '2017-09-30'and mdate >='2017-07-01') t2 JOIN (SELECT sum(t3.boxoffice) AS v FROM film44 t3 WHERE t3.c_India=1 and mdate <= '2017-09-30'and mdate >='2017-07-01') t4'''\n",
    "cursor.execute(sevent_tq_sql)"
   ]
  },
  {
   "cell_type": "code",
   "execution_count": null,
   "metadata": {},
   "outputs": [],
   "source": [
    "sevent_foq_sql = '''insert into table gross_boxo_and_top_boxo_changes SELECT 'c_India',t2.v,'2017foq',t4.v FROM (SELECT max(t1.boxoffice) AS v FROM film44 t1 WHERE t1.c_India=1 and mdate <= '2017-12-31'and mdate >='2017-10-01') t2 JOIN (SELECT sum(t3.boxoffice) AS v FROM film44 t3 WHERE t3.c_India=1 and mdate <= '2017-12-31'and mdate >='2017-10-01') t4'''\n",
    "cursor.execute(sevent_foq_sql)"
   ]
  },
  {
   "cell_type": "code",
   "execution_count": null,
   "metadata": {},
   "outputs": [],
   "source": [
    "eighte_fq_sql= '''insert into table gross_boxo_and_top_boxo_changes SELECT 'c_India',t2.v,'2018fq',t4.v FROM (SELECT max(t1.boxoffice) AS v FROM film44 t1 WHERE t1.c_India=1 and mdate <= '2018-03-31'and mdate >='2018-01-01') t2 JOIN (SELECT sum(t3.boxoffice) AS v FROM film44 t3 WHERE t3.c_India=1 and mdate <= '2018-03-31'and mdate >='2018-01-01') t4'''\n",
    "cursor.execute(eighte_fq_sql)"
   ]
  },
  {
   "cell_type": "code",
   "execution_count": null,
   "metadata": {},
   "outputs": [],
   "source": [
    "eighte_sq_sql = '''insert into table gross_boxo_and_top_boxo_changes SELECT 'c_India',t2.v,'2018sq',t4.v FROM (SELECT max(t1.boxoffice) AS v FROM film44 t1 WHERE t1.c_India=1 and mdate <= '2018-06-30'and mdate >='2018-04-01') t2 JOIN (SELECT sum(t3.boxoffice) AS v FROM film44 t3 WHERE t3.c_India=1 and mdate <= '2018-06-30'and mdate >='2018-04-01') t4'''\n",
    "cursor.execute(eighte_sq_sql)"
   ]
  },
  {
   "cell_type": "code",
   "execution_count": null,
   "metadata": {},
   "outputs": [],
   "source": [
    "\n",
    "eighte_tq_sql = '''insert into table gross_boxo_and_top_boxo_changes SELECT 'c_India',t2.v,'2018tq',t4.v FROM (SELECT max(t1.boxoffice) AS v FROM film44 t1 WHERE t1.c_India=1 and mdate <= '2018-09-30'and mdate >='2018-07-01') t2 JOIN (SELECT sum(t3.boxoffice) AS v FROM film44 t3 WHERE t3.c_India=1 and mdate <= '2018-09-30'and mdate >='2018-07-01') t4'''\n",
    "cursor.execute(eighte_tq_sql)"
   ]
  },
  {
   "cell_type": "code",
   "execution_count": null,
   "metadata": {},
   "outputs": [],
   "source": [
    "\n",
    "eighte_foq_sql = '''insert into table gross_boxo_and_top_boxo_changes SELECT 'c_India',t2.v,'2018foq',t4.v FROM (SELECT max(t1.boxoffice) AS v FROM film44 t1 WHERE t1.c_India=1 and mdate <= '2018-12-31'and mdate >='2018-10-01') t2 JOIN (SELECT sum(t3.boxoffice) AS v FROM film44 t3 WHERE t3.c_India=1 and mdate <= '2018-12-31'and mdate >='2018-10-01') t4'''\n",
    "cursor.execute(eighte_foq_sql)"
   ]
  },
  {
   "cell_type": "code",
   "execution_count": null,
   "metadata": {},
   "outputs": [],
   "source": [
    "del sixt_fq_sql,sixt_sq_sql,sixt_tq_sql,sixt_foq_sql,sevent_fq_sql,sevent_sq_sql\n",
    ",sevent_tq_sql,sevent_foq_sql,eighte_fq_sql,eighte_sq_sql,eighte_tq_sql,eighte_foq_sql"
   ]
  },
  {
   "cell_type": "markdown",
   "metadata": {},
   "source": [
    "# 法国"
   ]
  },
  {
   "cell_type": "code",
   "execution_count": null,
   "metadata": {},
   "outputs": [],
   "source": [
    "sixt_fq_sql = '''insert into table gross_boxo_and_top_boxo_changes SELECT 'c_France',t2.v,'2016fq',t4.v FROM (SELECT max(t1.boxoffice) AS v FROM film44 t1 WHERE t1.c_France=1 and mdate <= '2016-03-31'and mdate >='2016-01-01') t2 JOIN (SELECT sum(t3.boxoffice) AS v FROM film44 t3 WHERE t3.c_France=1 and mdate <= '2016-03-31'and mdate >='2016-01-01') t4'''\n",
    "cursor.execute(sixt_fq_sql)"
   ]
  },
  {
   "cell_type": "code",
   "execution_count": null,
   "metadata": {},
   "outputs": [],
   "source": [
    "sixt_sq_sql = '''insert into table gross_boxo_and_top_boxo_changes SELECT 'c_France',t2.v,'2016sq',t4.v FROM (SELECT max(t1.boxoffice) AS v FROM film44 t1 WHERE t1.c_France=1 and mdate <= '2016-06-30'and mdate >='2016-04-01') t2 JOIN (SELECT sum(t3.boxoffice) AS v FROM film44 t3 WHERE t3.c_France=1 and mdate <= '2016-06-30'and mdate >='2016-04-01') t4'''\n",
    "cursor.execute(sixt_sq_sql)"
   ]
  },
  {
   "cell_type": "code",
   "execution_count": null,
   "metadata": {},
   "outputs": [],
   "source": [
    "sixt_tq_sql = '''insert into table gross_boxo_and_top_boxo_changes SELECT 'c_France',t2.v,'2016tq',t4.v FROM (SELECT max(t1.boxoffice) AS v FROM film44 t1 WHERE t1.c_France=1 and mdate <= '2016-09-30'and mdate >='2016-07-01') t2 JOIN (SELECT sum(t3.boxoffice) AS v FROM film44 t3 WHERE t3.c_France=1 and mdate <= '2016-09-30'and mdate >='2016-07-01') t4'''\n",
    "cursor.execute(sixt_tq_sql)"
   ]
  },
  {
   "cell_type": "code",
   "execution_count": null,
   "metadata": {},
   "outputs": [],
   "source": [
    "sixt_foq_sql = '''insert into table gross_boxo_and_top_boxo_changes SELECT 'c_France',t2.v,'2016foq',t4.v FROM (SELECT max(t1.boxoffice) AS v FROM film44 t1 WHERE t1.c_France=1 and mdate <= '2016-12-31'and mdate >='2016-10-01') t2 JOIN (SELECT sum(t3.boxoffice) AS v FROM film44 t3 WHERE t3.c_France=1 and mdate <= '2016-12-31'and mdate >='2016-10-01') t4'''\n",
    "cursor.execute(sixt_foq_sql)"
   ]
  },
  {
   "cell_type": "code",
   "execution_count": null,
   "metadata": {},
   "outputs": [],
   "source": [
    "sevent_fq_sql = '''insert into table gross_boxo_and_top_boxo_changes SELECT 'c_France',t2.v,'2017fq',t4.v FROM (SELECT max(t1.boxoffice) AS v FROM film44 t1 WHERE t1.c_France=1 and mdate <= '2017-03-31'and mdate >='2017-01-01') t2 JOIN (SELECT sum(t3.boxoffice) AS v FROM film44 t3 WHERE t3.c_France=1 and mdate <= '2017-03-31'and mdate >='2017-01-01') t4'''\n",
    "cursor.execute(sevent_fq_sql)"
   ]
  },
  {
   "cell_type": "code",
   "execution_count": null,
   "metadata": {},
   "outputs": [],
   "source": [
    "sevent_sq_sql = '''insert into table gross_boxo_and_top_boxo_changes SELECT 'c_France',t2.v,'2017sq',t4.v FROM (SELECT max(t1.boxoffice) AS v FROM film44 t1 WHERE t1.c_France=1 and mdate <= '2017-06-30'and mdate >='2017-04-01') t2 JOIN (SELECT sum(t3.boxoffice) AS v FROM film44 t3 WHERE t3.c_France=1 and mdate <= '2017-06-30'and mdate >='2017-04-01') t4'''\n",
    "cursor.execute(sevent_sq_sql)"
   ]
  },
  {
   "cell_type": "code",
   "execution_count": null,
   "metadata": {},
   "outputs": [],
   "source": [
    "sevent_tq_sql = '''insert into table gross_boxo_and_top_boxo_changes SELECT 'c_France',t2.v,'2017tq',t4.v FROM (SELECT max(t1.boxoffice) AS v FROM film44 t1 WHERE t1.c_France=1 and mdate <= '2017-09-30'and mdate >='2017-07-01') t2 JOIN (SELECT sum(t3.boxoffice) AS v FROM film44 t3 WHERE t3.c_France=1 and mdate <= '2017-09-30'and mdate >='2017-07-01') t4'''\n",
    "cursor.execute(sevent_tq_sql)"
   ]
  },
  {
   "cell_type": "code",
   "execution_count": null,
   "metadata": {},
   "outputs": [],
   "source": [
    "sevent_foq_sql = '''insert into table gross_boxo_and_top_boxo_changes SELECT 'c_France',t2.v,'2017foq',t4.v FROM (SELECT max(t1.boxoffice) AS v FROM film44 t1 WHERE t1.c_France=1 and mdate <= '2017-12-31'and mdate >='2017-10-01') t2 JOIN (SELECT sum(t3.boxoffice) AS v FROM film44 t3 WHERE t3.c_France=1 and mdate <= '2017-12-31'and mdate >='2017-10-01') t4'''\n",
    "cursor.execute(sevent_foq_sql)"
   ]
  },
  {
   "cell_type": "code",
   "execution_count": null,
   "metadata": {},
   "outputs": [],
   "source": [
    "eighte_fq_sql= '''insert into table gross_boxo_and_top_boxo_changes SELECT 'c_France',t2.v,'2018fq',t4.v FROM (SELECT max(t1.boxoffice) AS v FROM film44 t1 WHERE t1.c_France=1 and mdate <= '2018-03-31'and mdate >='2018-01-01') t2 JOIN (SELECT sum(t3.boxoffice) AS v FROM film44 t3 WHERE t3.c_France=1 and mdate <= '2018-03-31'and mdate >='2018-01-01') t4'''\n",
    "cursor.execute(eighte_fq_sql)"
   ]
  },
  {
   "cell_type": "code",
   "execution_count": null,
   "metadata": {},
   "outputs": [],
   "source": [
    "eighte_sq_sql = '''insert into table gross_boxo_and_top_boxo_changes SELECT 'c_France',t2.v,'2018sq',t4.v FROM (SELECT max(t1.boxoffice) AS v FROM film44 t1 WHERE t1.c_France=1 and mdate <= '2018-06-30'and mdate >='2018-04-01') t2 JOIN (SELECT sum(t3.boxoffice) AS v FROM film44 t3 WHERE t3.c_France=1 and mdate <= '2018-06-30'and mdate >='2018-04-01') t4'''\n",
    "cursor.execute(eighte_sq_sql)"
   ]
  },
  {
   "cell_type": "code",
   "execution_count": null,
   "metadata": {},
   "outputs": [],
   "source": [
    "eighte_tq_sql = '''insert into table gross_boxo_and_top_boxo_changes SELECT 'c_France',t2.v,'2018tq',t4.v FROM (SELECT max(t1.boxoffice) AS v FROM film44 t1 WHERE t1.c_France=1 and mdate <= '2018-09-30'and mdate >='2018-07-01') t2 JOIN (SELECT sum(t3.boxoffice) AS v FROM film44 t3 WHERE t3.c_France=1 and mdate <= '2018-09-30'and mdate >='2018-07-01') t4'''\n",
    "cursor.execute(eighte_tq_sql)"
   ]
  },
  {
   "cell_type": "code",
   "execution_count": null,
   "metadata": {},
   "outputs": [],
   "source": [
    "eighte_foq_sql = '''insert into table gross_boxo_and_top_boxo_changes SELECT 'c_France',t2.v,'2018foq',t4.v FROM (SELECT max(t1.boxoffice) AS v FROM film44 t1 WHERE t1.c_France=1 and mdate <= '2018-12-31'and mdate >='2018-10-01') t2 JOIN (SELECT sum(t3.boxoffice) AS v FROM film44 t3 WHERE t3.c_France=1 and mdate <= '2018-12-31'and mdate >='2018-10-01') t4'''\n",
    "cursor.execute(eighte_foq_sql)"
   ]
  },
  {
   "cell_type": "code",
   "execution_count": null,
   "metadata": {},
   "outputs": [],
   "source": [
    "del sixt_fq_sql,sixt_sq_sql,sixt_tq_sql,sixt_foq_sql,sevent_fq_sql,sevent_sq_sql\n",
    ",sevent_tq_sql,sevent_foq_sql,eighte_fq_sql,eighte_sq_sql,eighte_tq_sql,eighte_foq_sql"
   ]
  },
  {
   "cell_type": "markdown",
   "metadata": {},
   "source": [
    "# 英国"
   ]
  },
  {
   "cell_type": "code",
   "execution_count": null,
   "metadata": {},
   "outputs": [],
   "source": [
    "sixt_fq_sql = '''insert into table gross_boxo_and_top_boxo_changes SELECT 'c_England',t2.v,'2016fq',t4.v FROM (SELECT max(t1.boxoffice) AS v FROM film44 t1 WHERE t1.c_England=1 and mdate <= '2016-03-31'and mdate >='2016-01-01') t2 JOIN (SELECT sum(t3.boxoffice) AS v FROM film44 t3 WHERE t3.c_England=1  and mdate <= '2016-03-31'and mdate >='2016-01-01') t4'''\n",
    "cursor.execute(sixt_fq_sql)"
   ]
  },
  {
   "cell_type": "code",
   "execution_count": null,
   "metadata": {},
   "outputs": [],
   "source": [
    "sixt_sq_sql = '''insert into table gross_boxo_and_top_boxo_changes SELECT 'c_England',t2.v,'2016sq',t4.v FROM (SELECT max(t1.boxoffice) AS v FROM film44 t1 WHERE t1.c_England=1 and mdate <= '2016-06-30'and mdate >='2016-04-01') t2 JOIN (SELECT sum(t3.boxoffice) AS v FROM film44 t3 WHERE t3.c_England=1  and mdate <= '2016-06-30'and mdate >='2016-04-01') t4'''\n",
    "cursor.execute(sixt_sq_sql)"
   ]
  },
  {
   "cell_type": "code",
   "execution_count": null,
   "metadata": {},
   "outputs": [],
   "source": [
    "sixt_tq_sql = '''insert into table gross_boxo_and_top_boxo_changes SELECT 'c_England',t2.v,'2016tq',t4.v FROM (SELECT max(t1.boxoffice) AS v FROM film44 t1 WHERE t1.c_England=1 and mdate <= '2016-09-30'and mdate >='2016-07-01') t2 JOIN (SELECT sum(t3.boxoffice) AS v FROM film44 t3 WHERE t3.c_England=1  and mdate <= '2016-09-30'and mdate >='2016-07-01') t4'''\n",
    "cursor.execute(sixt_tq_sql)"
   ]
  },
  {
   "cell_type": "code",
   "execution_count": null,
   "metadata": {},
   "outputs": [],
   "source": [
    "sixt_foq_sql = '''insert into table gross_boxo_and_top_boxo_changes SELECT 'c_England',t2.v,'2016foq',t4.v FROM (SELECT max(t1.boxoffice) AS v FROM film44 t1 WHERE t1.c_England=1 and mdate <= '2016-12-31'and mdate >='2016-10-01') t2 JOIN (SELECT sum(t3.boxoffice) AS v FROM film44 t3 WHERE t3.c_England=1  and mdate <= '2016-12-31'and mdate >='2016-10-01') t4'''\n",
    "cursor.execute(sixt_foq_sql)"
   ]
  },
  {
   "cell_type": "code",
   "execution_count": null,
   "metadata": {},
   "outputs": [],
   "source": [
    "sevent_fq_sql = '''insert into table gross_boxo_and_top_boxo_changes SELECT 'c_England',t2.v,'2017fq',t4.v FROM (SELECT max(t1.boxoffice) AS v FROM film44 t1 WHERE t1.c_England=1 and mdate <= '2017-03-31'and mdate >='2017-01-01') t2 JOIN (SELECT sum(t3.boxoffice) AS v FROM film44 t3 WHERE t3.c_England=1  and mdate <= '2017-03-31'and mdate >='2017-01-01') t4'''\n",
    "cursor.execute(sevent_fq_sql)"
   ]
  },
  {
   "cell_type": "code",
   "execution_count": null,
   "metadata": {},
   "outputs": [],
   "source": [
    "sevent_sq_sql = '''insert into table gross_boxo_and_top_boxo_changes SELECT 'c_England',t2.v,'2017sq',t4.v FROM (SELECT max(t1.boxoffice) AS v FROM film44 t1 WHERE t1.c_England=1 and mdate <= '2017-06-30'and mdate >='2017-04-01') t2 JOIN (SELECT sum(t3.boxoffice) AS v FROM film44 t3 WHERE t3.c_England=1  and mdate <= '2017-06-30'and mdate >='2017-04-01') t4'''\n",
    "cursor.execute(sevent_sq_sql)"
   ]
  },
  {
   "cell_type": "code",
   "execution_count": null,
   "metadata": {},
   "outputs": [],
   "source": [
    "sevent_tq_sql = '''insert into table gross_boxo_and_top_boxo_changes SELECT 'c_England',t2.v,'2017tq',t4.v FROM (SELECT max(t1.boxoffice) AS v FROM film44 t1 WHERE t1.c_England=1 and mdate <= '2017-09-30'and mdate >='2017-07-01') t2 JOIN (SELECT sum(t3.boxoffice) AS v FROM film44 t3 WHERE t3.c_England=1  and mdate <= '2017-09-30'and mdate >='2017-07-01') t4'''\n",
    "cursor.execute(sevent_tq_sql)"
   ]
  },
  {
   "cell_type": "code",
   "execution_count": null,
   "metadata": {},
   "outputs": [],
   "source": [
    "sevent_foq_sql = '''insert into table gross_boxo_and_top_boxo_changes SELECT 'c_England',t2.v,'2017foq',t4.v FROM (SELECT max(t1.boxoffice) AS v FROM film44 t1 WHERE t1.c_England=1 and mdate <= '2017-12-31'and mdate >='2017-10-01') t2 JOIN (SELECT sum(t3.boxoffice) AS v FROM film44 t3 WHERE t3.c_England=1  and mdate <= '2017-12-31'and mdate >='2017-10-01') t4'''\n",
    "cursor.execute(sevent_foq_sql)"
   ]
  },
  {
   "cell_type": "code",
   "execution_count": null,
   "metadata": {},
   "outputs": [],
   "source": [
    "eighte_fq_sql= '''insert into table gross_boxo_and_top_boxo_changes SELECT 'c_England',t2.v,'2018fq',t4.v FROM (SELECT max(t1.boxoffice) AS v FROM film44 t1 WHERE t1.c_England=1 and mdate <= '2018-03-31'and mdate >='2018-01-01') t2 JOIN (SELECT sum(t3.boxoffice) AS v FROM film44 t3 WHERE t3.c_England=1  and mdate <= '2018-03-31'and mdate >='2018-01-01') t4'''\n",
    "cursor.execute(eighte_fq_sql)"
   ]
  },
  {
   "cell_type": "code",
   "execution_count": null,
   "metadata": {},
   "outputs": [],
   "source": [
    "eighte_sq_sql = '''insert into table gross_boxo_and_top_boxo_changes SELECT 'c_England',t2.v,'2018sq',t4.v FROM (SELECT max(t1.boxoffice) AS v FROM film44 t1 WHERE t1.c_England=1 and mdate <= '2018-06-30'and mdate >='2018-04-01') t2 JOIN (SELECT sum(t3.boxoffice) AS v FROM film44 t3 WHERE t3.c_England=1  and mdate <= '2018-06-30'and mdate >='2018-04-01') t4'''\n",
    "cursor.execute(eighte_sq_sql)"
   ]
  },
  {
   "cell_type": "code",
   "execution_count": null,
   "metadata": {},
   "outputs": [],
   "source": [
    "eighte_tq_sql = '''insert into table gross_boxo_and_top_boxo_changes SELECT 'c_England',t2.v,'2018tq',t4.v FROM (SELECT max(t1.boxoffice) AS v FROM film44 t1 WHERE t1.c_England=1 and mdate <= '2018-09-30'and mdate >='2018-07-01') t2 JOIN (SELECT sum(t3.boxoffice) AS v FROM film44 t3 WHERE t3.c_England=1  and mdate <= '2018-09-30'and mdate >='2018-07-01') t4'''\n",
    "cursor.execute(eighte_tq_sql)"
   ]
  },
  {
   "cell_type": "code",
   "execution_count": null,
   "metadata": {},
   "outputs": [],
   "source": [
    "eighte_foq_sql = '''insert into table gross_boxo_and_top_boxo_changes SELECT 'c_England',t2.v,'2018foq',t4.v FROM (SELECT max(t1.boxoffice) AS v FROM film44 t1 WHERE t1.c_England=1 and mdate <= '2018-12-31'and mdate >='2018-10-01') t2 JOIN (SELECT sum(t3.boxoffice) AS v FROM film44 t3 WHERE t3.c_England=1  and mdate <= '2018-12-31'and mdate >='2018-10-01') t4'''\n",
    "cursor.execute(eighte_foq_sql)"
   ]
  },
  {
   "cell_type": "code",
   "execution_count": null,
   "metadata": {},
   "outputs": [],
   "source": [
    "del sixt_fq_sql,sixt_sq_sql,sixt_tq_sql,sixt_foq_sql,sevent_fq_sql,sevent_sq_sql\n",
    ",sevent_tq_sql,sevent_foq_sql,eighte_fq_sql,eighte_sq_sql,eighte_tq_sql,eighte_foq_sql"
   ]
  },
  {
   "cell_type": "markdown",
   "metadata": {},
   "source": [
    "# 俄罗斯"
   ]
  },
  {
   "cell_type": "code",
   "execution_count": null,
   "metadata": {},
   "outputs": [],
   "source": [
    "sixt_fq_sql = '''insert into table gross_boxo_and_top_boxo_changes SELECT 'c_Russia',t2.v,'2016fq',t4.v FROM (SELECT max(t1.boxoffice) AS v FROM film44 t1 WHERE t1.c_Russia=1 and mdate <= '2016-03-31'and mdate >='2016-01-01') t2 JOIN (SELECT sum(t3.boxoffice) AS v FROM film44 t3 WHERE t3.c_Russia=1  and mdate <= '2016-03-31'and mdate >='2016-01-01') t4'''\n",
    "cursor.execute(sixt_fq_sql)"
   ]
  },
  {
   "cell_type": "code",
   "execution_count": null,
   "metadata": {},
   "outputs": [],
   "source": [
    "sixt_sq_sql = '''insert into table gross_boxo_and_top_boxo_changes SELECT 'c_Russia',t2.v,'2016sq',t4.v FROM (SELECT max(t1.boxoffice) AS v FROM film44 t1 WHERE t1.c_Russia=1 and mdate <= '2016-06-30'and mdate >='2016-04-01') t2 JOIN (SELECT sum(t3.boxoffice) AS v FROM film44 t3 WHERE t3.c_Russia=1  and mdate <= '2016-06-30'and mdate >='2016-04-01') t4'''\n",
    "cursor.execute(sixt_sq_sql)"
   ]
  },
  {
   "cell_type": "code",
   "execution_count": null,
   "metadata": {},
   "outputs": [],
   "source": [
    "sixt_tq_sql = '''insert into table gross_boxo_and_top_boxo_changes SELECT 'c_Russia',t2.v,'2016tq',t4.v FROM (SELECT max(t1.boxoffice) AS v FROM film44 t1 WHERE t1.c_Russia=1 and mdate <= '2016-09-30'and mdate >='2016-07-01') t2 JOIN (SELECT sum(t3.boxoffice) AS v FROM film44 t3 WHERE t3.c_Russia=1  and mdate <= '2016-09-30'and mdate >='2016-07-01') t4'''\n",
    "cursor.execute(sixt_tq_sql)"
   ]
  },
  {
   "cell_type": "code",
   "execution_count": null,
   "metadata": {},
   "outputs": [],
   "source": [
    "sixt_foq_sql = '''insert into table gross_boxo_and_top_boxo_changes SELECT 'c_Russia',t2.v,'2016foq',t4.v FROM (SELECT max(t1.boxoffice) AS v FROM film44 t1 WHERE t1.c_Russia=1 and mdate <= '2016-12-31'and mdate >='2016-10-01') t2 JOIN (SELECT sum(t3.boxoffice) AS v FROM film44 t3 WHERE t3.c_Russia=1  and mdate <= '2016-12-31'and mdate >='2016-10-01') t4'''\n",
    "cursor.execute(sixt_foq_sql)"
   ]
  },
  {
   "cell_type": "code",
   "execution_count": null,
   "metadata": {},
   "outputs": [],
   "source": [
    "sevent_fq_sql = '''insert into table gross_boxo_and_top_boxo_changes SELECT 'c_Russia',t2.v,'2017fq',t4.v FROM (SELECT max(t1.boxoffice) AS v FROM film44 t1 WHERE t1.c_Russia=1 and mdate <= '2017-03-31'and mdate >='2017-01-01') t2 JOIN (SELECT sum(t3.boxoffice) AS v FROM film44 t3 WHERE t3.c_Russia=1  and mdate <= '2017-03-31'and mdate >='2017-01-01') t4'''\n",
    "cursor.execute(sevent_fq_sql)"
   ]
  },
  {
   "cell_type": "code",
   "execution_count": null,
   "metadata": {},
   "outputs": [],
   "source": [
    "sevent_sq_sql = '''insert into table gross_boxo_and_top_boxo_changes SELECT 'c_Russia',t2.v,'2017sq',t4.v FROM (SELECT max(t1.boxoffice) AS v FROM film44 t1 WHERE t1.c_Russia=1 and mdate <= '2017-06-30'and mdate >='2017-04-01') t2 JOIN (SELECT sum(t3.boxoffice) AS v FROM film44 t3 WHERE t3.c_Russia=1  and mdate <= '2017-06-30'and mdate >='2017-04-01') t4'''\n",
    "cursor.execute(sevent_sq_sql)"
   ]
  },
  {
   "cell_type": "code",
   "execution_count": null,
   "metadata": {},
   "outputs": [],
   "source": [
    "sevent_tq_sql = '''insert into table gross_boxo_and_top_boxo_changes SELECT 'c_Russia',t2.v,'2017tq',t4.v FROM (SELECT max(t1.boxoffice) AS v FROM film44 t1 WHERE t1.c_Russia=1 and mdate <= '2017-09-30'and mdate >='2017-07-01') t2 JOIN (SELECT sum(t3.boxoffice) AS v FROM film44 t3 WHERE t3.c_Russia=1  and mdate <= '2017-09-30'and mdate >='2017-07-01') t4'''\n",
    "cursor.execute(sevent_tq_sql)"
   ]
  },
  {
   "cell_type": "code",
   "execution_count": null,
   "metadata": {},
   "outputs": [],
   "source": [
    "sevent_foq_sql = '''insert into table gross_boxo_and_top_boxo_changes SELECT 'c_Russia',t2.v,'2017foq',t4.v FROM (SELECT max(t1.boxoffice) AS v FROM film44 t1 WHERE t1.c_Russia=1 and mdate <= '2017-12-31'and mdate >='2017-10-01') t2 JOIN (SELECT sum(t3.boxoffice) AS v FROM film44 t3 WHERE t3.c_Russia=1  and mdate <= '2017-12-31'and mdate >='2017-10-01') t4'''\n",
    "cursor.execute(sevent_foq_sql)"
   ]
  },
  {
   "cell_type": "code",
   "execution_count": null,
   "metadata": {},
   "outputs": [],
   "source": [
    "eighte_fq_sql= '''insert into table gross_boxo_and_top_boxo_changes SELECT 'c_Russia',t2.v,'2018fq',t4.v FROM (SELECT max(t1.boxoffice) AS v FROM film44 t1 WHERE t1.c_Russia=1 and mdate <= '2018-03-31'and mdate >='2018-01-01') t2 JOIN (SELECT sum(t3.boxoffice) AS v FROM film44 t3 WHERE t3.c_Russia=1  and mdate <= '2018-03-31'and mdate >='2018-01-01') t4'''\n",
    "cursor.execute(eighte_fq_sql)"
   ]
  },
  {
   "cell_type": "code",
   "execution_count": null,
   "metadata": {},
   "outputs": [],
   "source": [
    "eighte_sq_sql = '''insert into table gross_boxo_and_top_boxo_changes SELECT 'c_Russia',t2.v,'2018sq',t4.v FROM (SELECT max(t1.boxoffice) AS v FROM film44 t1 WHERE t1.c_Russia=1 and mdate <= '2018-06-30'and mdate >='2018-04-01') t2 JOIN (SELECT sum(t3.boxoffice) AS v FROM film44 t3 WHERE t3.c_Russia=1  and mdate <= '2018-06-30'and mdate >='2018-04-01') t4'''\n",
    "cursor.execute(eighte_sq_sql)"
   ]
  },
  {
   "cell_type": "code",
   "execution_count": null,
   "metadata": {},
   "outputs": [],
   "source": [
    "eighte_tq_sql = '''insert into table gross_boxo_and_top_boxo_changes SELECT 'c_Russia',t2.v,'2018tq',t4.v FROM (SELECT max(t1.boxoffice) AS v FROM film44 t1 WHERE t1.c_Russia=1 and mdate <= '2018-09-30'and mdate >='2018-07-01') t2 JOIN (SELECT sum(t3.boxoffice) AS v FROM film44 t3 WHERE t3.c_Russia=1  and mdate <= '2018-09-30'and mdate >='2018-07-01') t4'''\n",
    "cursor.execute(eighte_tq_sql)"
   ]
  },
  {
   "cell_type": "code",
   "execution_count": null,
   "metadata": {},
   "outputs": [],
   "source": [
    "eighte_foq_sql = '''insert into table gross_boxo_and_top_boxo_changes SELECT 'c_Russia',t2.v,'2018foq',t4.v FROM (SELECT max(t1.boxoffice) AS v FROM film44 t1 WHERE t1.c_Russia=1 and mdate <= '2018-12-31'and mdate >='2018-10-01') t2 JOIN (SELECT sum(t3.boxoffice) AS v FROM film44 t3 WHERE t3.c_Russia=1  and mdate <= '2018-12-31'and mdate >='2018-10-01') t4'''\n",
    "cursor.execute(eighte_foq_sql)"
   ]
  },
  {
   "cell_type": "code",
   "execution_count": null,
   "metadata": {},
   "outputs": [],
   "source": [
    "del sixt_fq_sql,sixt_sq_sql,sixt_tq_sql,sixt_foq_sql,sevent_fq_sql,sevent_sq_sql\n",
    ",sevent_tq_sql,sevent_foq_sql,eighte_fq_sql,eighte_sq_sql,eighte_tq_sql,eighte_foq_sql"
   ]
  },
  {
   "cell_type": "markdown",
   "metadata": {},
   "source": [
    "# 意大利"
   ]
  },
  {
   "cell_type": "code",
   "execution_count": null,
   "metadata": {},
   "outputs": [],
   "source": [
    "sixt_fq_sql = '''insert into table gross_boxo_and_top_boxo_changes SELECT 'c_Italy',t2.v,'2016fq',t4.v FROM (SELECT max(t1.boxoffice) AS v FROM film44 t1 WHERE t1.c_Italy=1 and mdate <= '2016-03-31'and mdate >='2016-01-01') t2 JOIN (SELECT sum(t3.boxoffice) AS v FROM film44 t3 WHERE t3.c_Italy=1  and mdate <= '2016-03-31'and mdate >='2016-01-01') t4'''\n",
    "cursor.execute(sixt_fq_sql)"
   ]
  },
  {
   "cell_type": "code",
   "execution_count": null,
   "metadata": {},
   "outputs": [],
   "source": [
    "sixt_sq_sql = '''insert into table gross_boxo_and_top_boxo_changes SELECT 'c_Italy',t2.v,'2016sq',t4.v FROM (SELECT max(t1.boxoffice) AS v FROM film44 t1 WHERE t1.c_Italy=1 and mdate <= '2016-06-30'and mdate >='2016-04-01') t2 JOIN (SELECT sum(t3.boxoffice) AS v FROM film44 t3 WHERE t3.c_Italy=1  and mdate <= '2016-06-30'and mdate >='2016-04-01') t4'''\n",
    "cursor.execute(sixt_sq_sql)"
   ]
  },
  {
   "cell_type": "code",
   "execution_count": null,
   "metadata": {},
   "outputs": [],
   "source": [
    "sixt_tq_sql = '''insert into table gross_boxo_and_top_boxo_changes SELECT 'c_Italy',t2.v,'2016tq',t4.v FROM (SELECT max(t1.boxoffice) AS v FROM film44 t1 WHERE t1.c_Italy=1 and mdate <= '2016-09-30'and mdate >='2016-07-01') t2 JOIN (SELECT sum(t3.boxoffice) AS v FROM film44 t3 WHERE t3.c_Italy=1  and mdate <= '2016-09-30'and mdate >='2016-07-01') t4'''\n",
    "cursor.execute(sixt_tq_sql)"
   ]
  },
  {
   "cell_type": "code",
   "execution_count": null,
   "metadata": {},
   "outputs": [],
   "source": [
    "sixt_foq_sql = '''insert into table gross_boxo_and_top_boxo_changes SELECT 'c_Italy',t2.v,'2016foq',t4.v FROM (SELECT max(t1.boxoffice) AS v FROM film44 t1 WHERE t1.c_Italy=1 and mdate <= '2016-12-31'and mdate >='2016-10-01') t2 JOIN (SELECT sum(t3.boxoffice) AS v FROM film44 t3 WHERE t3.c_Italy=1  and mdate <= '2016-12-31'and mdate >='2016-10-01') t4'''\n",
    "cursor.execute(sixt_foq_sql)"
   ]
  },
  {
   "cell_type": "code",
   "execution_count": null,
   "metadata": {},
   "outputs": [],
   "source": [
    "sevent_fq_sql = '''insert into table gross_boxo_and_top_boxo_changes SELECT 'c_Italy',t2.v,'2017fq',t4.v FROM (SELECT max(t1.boxoffice) AS v FROM film44 t1 WHERE t1.c_Italy=1 and mdate <= '2017-03-31'and mdate >='2017-01-01') t2 JOIN (SELECT sum(t3.boxoffice) AS v FROM film44 t3 WHERE t3.c_Italy=1  and mdate <= '2017-03-31'and mdate >='2017-01-01') t4'''\n",
    "cursor.execute(sevent_fq_sql)"
   ]
  },
  {
   "cell_type": "code",
   "execution_count": null,
   "metadata": {},
   "outputs": [],
   "source": [
    "sevent_sq_sql = '''insert into table gross_boxo_and_top_boxo_changes SELECT 'c_Italy',t2.v,'2017sq',t4.v FROM (SELECT max(t1.boxoffice) AS v FROM film44 t1 WHERE t1.c_Italy=1 and mdate <= '2017-06-30'and mdate >='2017-04-01') t2 JOIN (SELECT sum(t3.boxoffice) AS v FROM film44 t3 WHERE t3.c_Italy=1  and mdate <= '2017-06-30'and mdate >='2017-04-01') t4'''\n",
    "cursor.execute(sevent_sq_sql)"
   ]
  },
  {
   "cell_type": "code",
   "execution_count": null,
   "metadata": {},
   "outputs": [],
   "source": [
    "sevent_tq_sql = '''insert into table gross_boxo_and_top_boxo_changes SELECT 'c_Italy',t2.v,'2017tq',t4.v FROM (SELECT max(t1.boxoffice) AS v FROM film44 t1 WHERE t1.c_Italy=1 and mdate <= '2017-09-30'and mdate >='2017-07-01') t2 JOIN (SELECT sum(t3.boxoffice) AS v FROM film44 t3 WHERE t3.c_Italy=1  and mdate <= '2017-09-30'and mdate >='2017-07-01') t4'''\n",
    "cursor.execute(sevent_tq_sql)"
   ]
  },
  {
   "cell_type": "code",
   "execution_count": null,
   "metadata": {},
   "outputs": [],
   "source": [
    "sevent_foq_sql = '''insert into table gross_boxo_and_top_boxo_changes SELECT 'c_Italy',t2.v,'2017foq',t4.v FROM (SELECT max(t1.boxoffice) AS v FROM film44 t1 WHERE t1.c_Italy=1 and mdate <= '2017-12-31'and mdate >='2017-10-01') t2 JOIN (SELECT sum(t3.boxoffice) AS v FROM film44 t3 WHERE t3.c_Italy=1  and mdate <= '2017-12-31'and mdate >='2017-10-01') t4'''\n",
    "cursor.execute(sevent_foq_sql)"
   ]
  },
  {
   "cell_type": "code",
   "execution_count": null,
   "metadata": {},
   "outputs": [],
   "source": [
    "eighte_fq_sql= '''insert into table gross_boxo_and_top_boxo_changes SELECT 'c_Italy',t2.v,'2018fq',t4.v FROM (SELECT max(t1.boxoffice) AS v FROM film44 t1 WHERE t1.c_Italy=1 and mdate <= '2018-03-31'and mdate >='2018-01-01') t2 JOIN (SELECT sum(t3.boxoffice) AS v FROM film44 t3 WHERE t3.c_Italy=1  and mdate <= '2018-03-31'and mdate >='2018-01-01') t4'''\n",
    "cursor.execute(eighte_fq_sql)"
   ]
  },
  {
   "cell_type": "code",
   "execution_count": null,
   "metadata": {},
   "outputs": [],
   "source": [
    "eighte_sq_sql = '''insert into table gross_boxo_and_top_boxo_changes SELECT 'c_Italy',t2.v,'2018sq',t4.v FROM (SELECT max(t1.boxoffice) AS v FROM film44 t1 WHERE t1.c_Italy=1 and mdate <= '2018-06-30'and mdate >='2018-04-01') t2 JOIN (SELECT sum(t3.boxoffice) AS v FROM film44 t3 WHERE t3.c_Italy=1  and mdate <= '2018-06-30'and mdate >='2018-04-01') t4'''\n",
    "cursor.execute(eighte_sq_sql)"
   ]
  },
  {
   "cell_type": "code",
   "execution_count": null,
   "metadata": {},
   "outputs": [],
   "source": [
    "eighte_tq_sql = '''insert into table gross_boxo_and_top_boxo_changes SELECT 'c_Italy',t2.v,'2018tq',t4.v FROM (SELECT max(t1.boxoffice) AS v FROM film44 t1 WHERE t1.c_Italy=1 and mdate <= '2018-09-30'and mdate >='2018-07-01') t2 JOIN (SELECT sum(t3.boxoffice) AS v FROM film44 t3 WHERE t3.c_Italy=1  and mdate <= '2018-09-30'and mdate >='2018-07-01') t4'''\n",
    "cursor.execute(eighte_tq_sql)"
   ]
  },
  {
   "cell_type": "code",
   "execution_count": null,
   "metadata": {},
   "outputs": [],
   "source": [
    "eighte_foq_sql = '''insert into table gross_boxo_and_top_boxo_changes SELECT 'c_Italy',t2.v,'2018foq',t4.v FROM (SELECT max(t1.boxoffice) AS v FROM film44 t1 WHERE t1.c_Italy=1 and mdate <= '2018-12-31'and mdate >='2018-10-01') t2 JOIN (SELECT sum(t3.boxoffice) AS v FROM film44 t3 WHERE t3.c_Italy=1  and mdate <= '2018-12-31'and mdate >='2018-10-01') t4'''\n",
    "cursor.execute(eighte_foq_sql)"
   ]
  },
  {
   "cell_type": "code",
   "execution_count": null,
   "metadata": {},
   "outputs": [],
   "source": [
    "del sixt_fq_sql,sixt_sq_sql,sixt_tq_sql,sixt_foq_sql,sevent_fq_sql,sevent_sq_sql\n",
    ",sevent_tq_sql,sevent_foq_sql,eighte_fq_sql,eighte_sq_sql,eighte_tq_sql,eighte_foq_sql"
   ]
  },
  {
   "cell_type": "markdown",
   "metadata": {},
   "source": [
    "# 西班牙"
   ]
  },
  {
   "cell_type": "code",
   "execution_count": null,
   "metadata": {},
   "outputs": [],
   "source": [
    "sixt_fq_sql = '''insert into table gross_boxo_and_top_boxo_changes SELECT 'c_Spain',t2.v,'2016fq',t4.v FROM (SELECT max(t1.boxoffice) AS v FROM film44 t1 WHERE t1.c_Spain=1 and mdate <= '2016-03-31'and mdate >='2016-01-01') t2 JOIN (SELECT sum(t3.boxoffice) AS v FROM film44 t3 WHERE t3.c_Spain=1  and mdate <= '2016-03-31'and mdate >='2016-01-01') t4'''\n",
    "cursor.execute(sixt_fq_sql)"
   ]
  },
  {
   "cell_type": "code",
   "execution_count": null,
   "metadata": {},
   "outputs": [],
   "source": [
    "sixt_sq_sql = '''insert into table gross_boxo_and_top_boxo_changes SELECT 'c_Spain',t2.v,'2016sq',t4.v FROM (SELECT max(t1.boxoffice) AS v FROM film44 t1 WHERE t1.c_Spain=1 and mdate <= '2016-06-30'and mdate >='2016-04-01') t2 JOIN (SELECT sum(t3.boxoffice) AS v FROM film44 t3 WHERE t3.c_Spain=1  and mdate <= '2016-06-30'and mdate >='2016-04-01') t4'''\n",
    "cursor.execute(sixt_sq_sql)"
   ]
  },
  {
   "cell_type": "code",
   "execution_count": null,
   "metadata": {},
   "outputs": [],
   "source": [
    "sixt_tq_sql = '''insert into table gross_boxo_and_top_boxo_changes SELECT 'c_Spain',t2.v,'2016tq',t4.v FROM (SELECT max(t1.boxoffice) AS v FROM film44 t1 WHERE t1.c_Spain=1 and mdate <= '2016-09-30'and mdate >='2016-07-01') t2 JOIN (SELECT sum(t3.boxoffice) AS v FROM film44 t3 WHERE t3.c_Spain=1  and mdate <= '2016-09-30'and mdate >='2016-07-01') t4'''\n",
    "cursor.execute(sixt_tq_sql)"
   ]
  },
  {
   "cell_type": "code",
   "execution_count": null,
   "metadata": {},
   "outputs": [],
   "source": [
    "sixt_foq_sql = '''insert into table gross_boxo_and_top_boxo_changes SELECT 'c_Spain',t2.v,'2016foq',t4.v FROM (SELECT max(t1.boxoffice) AS v FROM film44 t1 WHERE t1.c_Spain=1 and mdate <= '2016-12-31'and mdate >='2016-10-01') t2 JOIN (SELECT sum(t3.boxoffice) AS v FROM film44 t3 WHERE t3.c_Spain=1  and mdate <= '2016-12-31'and mdate >='2016-10-01') t4'''\n",
    "cursor.execute(sixt_foq_sql)"
   ]
  },
  {
   "cell_type": "code",
   "execution_count": null,
   "metadata": {},
   "outputs": [],
   "source": [
    "sevent_fq_sql = '''insert into table gross_boxo_and_top_boxo_changes SELECT 'c_Spain',t2.v,'2017fq',t4.v FROM (SELECT max(t1.boxoffice) AS v FROM film44 t1 WHERE t1.c_Spain=1 and mdate <= '2017-03-31'and mdate >='2017-01-01') t2 JOIN (SELECT sum(t3.boxoffice) AS v FROM film44 t3 WHERE t3.c_Spain=1  and mdate <= '2017-03-31'and mdate >='2017-01-01') t4'''\n",
    "cursor.execute(sevent_fq_sql)"
   ]
  },
  {
   "cell_type": "code",
   "execution_count": null,
   "metadata": {},
   "outputs": [],
   "source": [
    "sevent_sq_sql = '''insert into table gross_boxo_and_top_boxo_changes SELECT 'c_Spain',t2.v,'2017sq',t4.v FROM (SELECT max(t1.boxoffice) AS v FROM film44 t1 WHERE t1.c_Spain=1 and mdate <= '2017-06-30'and mdate >='2017-04-01') t2 JOIN (SELECT sum(t3.boxoffice) AS v FROM film44 t3 WHERE t3.c_Spain=1  and mdate <= '2017-06-30'and mdate >='2017-04-01') t4'''\n",
    "cursor.execute(sevent_sq_sql)"
   ]
  },
  {
   "cell_type": "code",
   "execution_count": null,
   "metadata": {},
   "outputs": [],
   "source": [
    "sevent_tq_sql = '''insert into table gross_boxo_and_top_boxo_changes SELECT 'c_Spain',t2.v,'2017tq',t4.v FROM (SELECT max(t1.boxoffice) AS v FROM film44 t1 WHERE t1.c_Spain=1 and mdate <= '2017-09-30'and mdate >='2017-07-01') t2 JOIN (SELECT sum(t3.boxoffice) AS v FROM film44 t3 WHERE t3.c_Spain=1  and mdate <= '2017-09-30'and mdate >='2017-07-01') t4'''\n",
    "cursor.execute(sevent_tq_sql)"
   ]
  },
  {
   "cell_type": "code",
   "execution_count": null,
   "metadata": {},
   "outputs": [],
   "source": [
    "sevent_foq_sql = '''insert into table gross_boxo_and_top_boxo_changes SELECT 'c_Spain',t2.v,'2017foq',t4.v FROM (SELECT max(t1.boxoffice) AS v FROM film44 t1 WHERE t1.c_Spain=1 and mdate <= '2017-12-31'and mdate >='2017-10-01') t2 JOIN (SELECT sum(t3.boxoffice) AS v FROM film44 t3 WHERE t3.c_Spain=1  and mdate <= '2017-12-31'and mdate >='2017-10-01') t4'''\n",
    "cursor.execute(sevent_foq_sql)"
   ]
  },
  {
   "cell_type": "code",
   "execution_count": null,
   "metadata": {},
   "outputs": [],
   "source": [
    "eighte_fq_sql= '''insert into table gross_boxo_and_top_boxo_changes SELECT 'c_Spain',t2.v,'2018fq',t4.v FROM (SELECT max(t1.boxoffice) AS v FROM film44 t1 WHERE t1.c_Spain=1 and mdate <= '2018-03-31'and mdate >='2018-01-01') t2 JOIN (SELECT sum(t3.boxoffice) AS v FROM film44 t3 WHERE t3.c_Spain=1  and mdate <= '2018-03-31'and mdate >='2018-01-01') t4'''\n",
    "cursor.execute(eighte_fq_sql)"
   ]
  },
  {
   "cell_type": "code",
   "execution_count": null,
   "metadata": {},
   "outputs": [],
   "source": [
    "eighte_sq_sql = '''insert into table gross_boxo_and_top_boxo_changes SELECT 'c_Spain',t2.v,'2018sq',t4.v FROM (SELECT max(t1.boxoffice) AS v FROM film44 t1 WHERE t1.c_Spain=1 and mdate <= '2018-06-30'and mdate >='2018-04-01') t2 JOIN (SELECT sum(t3.boxoffice) AS v FROM film44 t3 WHERE t3.c_Spain=1  and mdate <= '2018-06-30'and mdate >='2018-04-01') t3.c_Spain=1  \n",
    "cursor.execute(eighte_sq_sql)"
   ]
  },
  {
   "cell_type": "code",
   "execution_count": null,
   "metadata": {},
   "outputs": [],
   "source": [
    "eighte_tq_sql = '''insert into table gross_boxo_and_top_boxo_changes SELECT 'c_Spain',t2.v,'2018tq',t4.v FROM (SELECT max(t1.boxoffice) AS v FROM film44 t1 WHERE t1.c_Spain=1 and mdate <= '2018-09-30'and mdate >='2018-07-01') t2 JOIN (SELECT sum(t3.boxoffice) AS v FROM film44 t3 WHERE t3.c_Spain=1  and mdate <= '2018-09-30'and mdate >='2018-07-01') t4'''\n",
    "cursor.execute(eighte_tq_sql)"
   ]
  },
  {
   "cell_type": "code",
   "execution_count": null,
   "metadata": {},
   "outputs": [],
   "source": [
    "eighte_foq_sql = '''insert into table gross_boxo_and_top_boxo_changes SELECT 'c_Spain',t2.v,'2018foq',t4.v FROM (SELECT max(t1.boxoffice) AS v FROM film44 t1 WHERE t1.c_Spain=1 and mdate <= '2018-12-31'and mdate >='2018-10-01') t2 JOIN (SELECT sum(t3.boxoffice) AS v FROM film44 t3 WHERE t3.c_Spain=1  and mdate <= '2018-12-31'and mdate >='2018-10-01') t4'''\n",
    "cursor.execute(eighte_foq_sql)"
   ]
  },
  {
   "cell_type": "code",
   "execution_count": null,
   "metadata": {},
   "outputs": [],
   "source": [
    "del sixt_fq_sql,sixt_sq_sql,sixt_tq_sql,sixt_foq_sql,sevent_fq_sql,sevent_sq_sql\n",
    ",sevent_tq_sql,sevent_foq_sql,eighte_fq_sql,eighte_sq_sql,eighte_tq_sql,eighte_foq_sql"
   ]
  },
  {
   "cell_type": "markdown",
   "metadata": {},
   "source": [
    "# 德国"
   ]
  },
  {
   "cell_type": "code",
   "execution_count": null,
   "metadata": {},
   "outputs": [],
   "source": [
    "sixt_fq_sql = '''insert into table gross_boxo_and_top_boxo_changes SELECT 'c_Germany',t2.v,'2016fq',t4.v FROM (SELECT max(t1.boxoffice) AS v FROM film44 t1 WHERE t1.c_Germany=1 and mdate <= '2016-03-31'and mdate >='2016-01-01') t2 JOIN (SELECT sum(t3.boxoffice) AS v FROM film44 t3 WHERE t3.c_Germany=1  and mdate <= '2016-03-31'and mdate >='2016-01-01') t4'''\n",
    "cursor.execute(sixt_fq_sql)"
   ]
  },
  {
   "cell_type": "code",
   "execution_count": null,
   "metadata": {},
   "outputs": [],
   "source": [
    "sixt_sq_sql = '''insert into table gross_boxo_and_top_boxo_changes SELECT 'c_Germany',t2.v,'2016sq',t4.v FROM (SELECT max(t1.boxoffice) AS v FROM film44 t1 WHERE t1.c_Germany=1 and mdate <= '2016-06-30'and mdate >='2016-04-01') t2 JOIN (SELECT sum(t3.boxoffice) AS v FROM film44 t3 WHERE t3.c_Germany=1  and mdate <= '2016-06-30'and mdate >='2016-04-01') t4'''\n",
    "cursor.execute(sixt_sq_sql)"
   ]
  },
  {
   "cell_type": "code",
   "execution_count": null,
   "metadata": {},
   "outputs": [],
   "source": [
    "sixt_tq_sql = '''insert into table gross_boxo_and_top_boxo_changes SELECT 'c_Germany',t2.v,'2016tq',t4.v FROM (SELECT max(t1.boxoffice) AS v FROM film44 t1 WHERE t1.c_Germany=1 and mdate <= '2016-09-30'and mdate >='2016-07-01') t2 JOIN (SELECT sum(t3.boxoffice) AS v FROM film44 t3 WHERE t3.c_Germany=1  and mdate <= '2016-09-30'and mdate >='2016-07-01') t4'''\n",
    "cursor.execute(sixt_tq_sql)"
   ]
  },
  {
   "cell_type": "code",
   "execution_count": null,
   "metadata": {},
   "outputs": [],
   "source": [
    "sixt_foq_sql = '''insert into table gross_boxo_and_top_boxo_changes SELECT 'c_Germany',t2.v,'2016foq',t4.v FROM (SELECT max(t1.boxoffice) AS v FROM film44 t1 WHERE t1.c_Germany=1 and mdate <= '2016-12-31'and mdate >='2016-10-01') t2 JOIN (SELECT sum(t3.boxoffice) AS v FROM film44 t3 WHERE t3.c_Germany=1  and mdate <= '2016-12-31'and mdate >='2016-10-01') t4'''\n",
    "cursor.execute(sixt_foq_sql)"
   ]
  },
  {
   "cell_type": "code",
   "execution_count": null,
   "metadata": {},
   "outputs": [],
   "source": [
    "sevent_fq_sql = '''insert into table gross_boxo_and_top_boxo_changes SELECT 'c_Germany',t2.v,'2017fq',t4.v FROM (SELECT max(t1.boxoffice) AS v FROM film44 t1 WHERE t1.c_Germany=1 and mdate <= '2017-03-31'and mdate >='2017-01-01') t2 JOIN (SELECT sum(t3.boxoffice) AS v FROM film44 t3 WHERE t3.c_Germany=1  and mdate <= '2017-03-31'and mdate >='2017-01-01') t4'''\n",
    "cursor.execute(sevent_fq_sql)"
   ]
  },
  {
   "cell_type": "code",
   "execution_count": null,
   "metadata": {},
   "outputs": [],
   "source": [
    "sevent_sq_sql = '''insert into table gross_boxo_and_top_boxo_changes SELECT 'c_Germany',t2.v,'2017sq',t4.v FROM (SELECT max(t1.boxoffice) AS v FROM film44 t1 WHERE t1.c_Germany=1 and mdate <= '2017-06-30'and mdate >='2017-04-01') t2 JOIN (SELECT sum(t3.boxoffice) AS v FROM film44 t3 WHERE t3.c_Germany=1  and mdate <= '2017-06-30'and mdate >='2017-04-01') t4'''\n",
    "cursor.execute(sevent_sq_sql)"
   ]
  },
  {
   "cell_type": "code",
   "execution_count": null,
   "metadata": {},
   "outputs": [],
   "source": [
    "sevent_tq_sql = '''insert into table gross_boxo_and_top_boxo_changes SELECT 'c_Germany',t2.v,'2017tq',t4.v FROM (SELECT max(t1.boxoffice) AS v FROM film44 t1 WHERE t1.c_Germany=1 and mdate <= '2017-09-30'and mdate >='2017-07-01') t2 JOIN (SELECT sum(t3.boxoffice) AS v FROM film44 t3 WHERE t3.c_Germany=1  and mdate <= '2017-09-30'and mdate >='2017-07-01') t4'''\n",
    "cursor.execute(sevent_tq_sql)"
   ]
  },
  {
   "cell_type": "code",
   "execution_count": null,
   "metadata": {},
   "outputs": [],
   "source": [
    "sevent_foq_sql = '''insert into table gross_boxo_and_top_boxo_changes SELECT 'c_Germany',t2.v,'2017foq',t4.v FROM (SELECT max(t1.boxoffice) AS v FROM film44 t1 WHERE t1.c_Germany=1 and mdate <= '2017-12-31'and mdate >='2017-10-01') t2 JOIN (SELECT sum(t3.boxoffice) AS v FROM film44 t3 WHERE t3.c_Germany=1  and mdate <= '2017-12-31'and mdate >='2017-10-01') t4'''\n",
    "cursor.execute(sevent_foq_sql)"
   ]
  },
  {
   "cell_type": "code",
   "execution_count": null,
   "metadata": {},
   "outputs": [],
   "source": [
    "eighte_fq_sql= '''insert into table gross_boxo_and_top_boxo_changes SELECT 'c_Germany',t2.v,'2018fq',t4.v FROM (SELECT max(t1.boxoffice) AS v FROM film44 t1 WHERE t1.c_Germany=1 and mdate <= '2018-03-31'and mdate >='2018-01-01') t2 JOIN (SELECT sum(t3.boxoffice) AS v FROM film44 t3 WHERE t3.c_Germany=1  and mdate <= '2018-03-31'and mdate >='2018-01-01') t4'''\n",
    "cursor.execute(eighte_fq_sql)"
   ]
  },
  {
   "cell_type": "code",
   "execution_count": null,
   "metadata": {},
   "outputs": [],
   "source": [
    "eighte_sq_sql = '''insert into table gross_boxo_and_top_boxo_changes SELECT 'c_Germany',t2.v,'2018sq',t4.v FROM (SELECT max(t1.boxoffice) AS v FROM film44 t1 WHERE t1.c_Germany=1 and mdate <= '2018-06-30'and mdate >='2018-04-01') t2 JOIN (SELECT sum(t3.boxoffice) AS v FROM film44 t3 WHERE t3.c_Germany=1  and mdate <= '2018-06-30'and mdate >='2018-04-01') t3.c_Spain=1  \n",
    "cursor.execute(eighte_sq_sql)"
   ]
  },
  {
   "cell_type": "code",
   "execution_count": null,
   "metadata": {},
   "outputs": [],
   "source": [
    "eighte_tq_sql = '''insert into table gross_boxo_and_top_boxo_changes SELECT 'c_Germany',t2.v,'2018tq',t4.v FROM (SELECT max(t1.boxoffice) AS v FROM film44 t1 WHERE t1.c_Germany=1 and mdate <= '2018-09-30'and mdate >='2018-07-01') t2 JOIN (SELECT sum(t3.boxoffice) AS v FROM film44 t3 WHERE t3.c_Germany=1  and mdate <= '2018-09-30'and mdate >='2018-07-01') t4'''\n",
    "cursor.execute(eighte_tq_sql)"
   ]
  },
  {
   "cell_type": "code",
   "execution_count": null,
   "metadata": {},
   "outputs": [],
   "source": [
    "eighte_foq_sql = '''insert into table gross_boxo_and_top_boxo_changes SELECT 'c_Germany',t2.v,'2018foq',t4.v FROM (SELECT max(t1.boxoffice) AS v FROM film44 t1 WHERE t1.c_Germany=1 and mdate <= '2018-12-31'and mdate >='2018-10-01') t2 JOIN (SELECT sum(t3.boxoffice) AS v FROM film44 t3 WHERE t3.c_Germany=1  and mdate <= '2018-12-31'and mdate >='2018-10-01') t4'''\n",
    "cursor.execute(eighte_foq_sql)"
   ]
  },
  {
   "cell_type": "code",
   "execution_count": null,
   "metadata": {},
   "outputs": [],
   "source": [
    "del sixt_fq_sql,sixt_sq_sql,sixt_tq_sql,sixt_foq_sql,sevent_fq_sql,sevent_sq_sql\n",
    ",sevent_tq_sql,sevent_foq_sql,eighte_fq_sql,eighte_sq_sql,eighte_tq_sql,eighte_foq_sql"
   ]
  },
  {
   "cell_type": "markdown",
   "metadata": {},
   "source": [
    "# 波兰"
   ]
  },
  {
   "cell_type": "code",
   "execution_count": null,
   "metadata": {},
   "outputs": [],
   "source": [
    "sixt_fq_sql = '''insert into table gross_boxo_and_top_boxo_changes SELECT 'c_Poland',t2.v,'2016fq',t4.v FROM (SELECT max(t1.boxoffice) AS v FROM film44 t1 WHERE t1.c_Poland=1 and mdate <= '2016-03-31'and mdate >='2016-01-01') t2 JOIN (SELECT sum(t3.boxoffice) AS v FROM film44 t3 WHERE t3.c_Poland=1  and mdate <= '2016-03-31'and mdate >='2016-01-01') t4'''\n",
    "cursor.execute(sixt_fq_sql)"
   ]
  },
  {
   "cell_type": "code",
   "execution_count": null,
   "metadata": {},
   "outputs": [],
   "source": [
    "sixt_sq_sql = '''insert into table gross_boxo_and_top_boxo_changes SELECT 'c_Poland',t2.v,'2016sq',t4.v FROM (SELECT max(t1.boxoffice) AS v FROM film44 t1 WHERE t1.c_Poland=1 and mdate <= '2016-06-30'and mdate >='2016-04-01') t2 JOIN (SELECT sum(t3.boxoffice) AS v FROM film44 t3 WHERE t3.c_Poland=1  and mdate <= '2016-06-30'and mdate >='2016-04-01') t4'''\n",
    "cursor.execute(sixt_sq_sql)"
   ]
  },
  {
   "cell_type": "code",
   "execution_count": null,
   "metadata": {},
   "outputs": [],
   "source": [
    "sixt_tq_sql = '''insert into table gross_boxo_and_top_boxo_changes SELECT 'c_Poland',t2.v,'2016tq',t4.v FROM (SELECT max(t1.boxoffice) AS v FROM film44 t1 WHERE t1.c_Poland=1 and mdate <= '2016-09-30'and mdate >='2016-07-01') t2 JOIN (SELECT sum(t3.boxoffice) AS v FROM film44 t3 WHERE t3.c_Poland=1  and mdate <= '2016-09-30'and mdate >='2016-07-01') t4'''\n",
    "cursor.execute(sixt_tq_sql)"
   ]
  },
  {
   "cell_type": "code",
   "execution_count": null,
   "metadata": {},
   "outputs": [],
   "source": [
    "sixt_foq_sql = '''insert into table gross_boxo_and_top_boxo_changes SELECT 'c_Poland',t2.v,'2016foq',t4.v FROM (SELECT max(t1.boxoffice) AS v FROM film44 t1 WHERE t1.c_Poland=1 and mdate <= '2016-12-31'and mdate >='2016-10-01') t2 JOIN (SELECT sum(t3.boxoffice) AS v FROM film44 t3 WHERE t3.c_Poland=1  and mdate <= '2016-12-31'and mdate >='2016-10-01') t4'''\n",
    "cursor.execute(sixt_foq_sql)"
   ]
  },
  {
   "cell_type": "code",
   "execution_count": null,
   "metadata": {},
   "outputs": [],
   "source": [
    "sevent_fq_sql = '''insert into table gross_boxo_and_top_boxo_changes SELECT 'c_Poland',t2.v,'2017fq',t4.v FROM (SELECT max(t1.boxoffice) AS v FROM film44 t1 WHERE t1.c_Poland=1 and mdate <= '2017-03-31'and mdate >='2017-01-01') t2 JOIN (SELECT sum(t3.boxoffice) AS v FROM film44 t3 WHERE t3.c_Poland=1  and mdate <= '2017-03-31'and mdate >='2017-01-01') t4'''\n",
    "cursor.execute(sevent_fq_sql)"
   ]
  },
  {
   "cell_type": "code",
   "execution_count": null,
   "metadata": {},
   "outputs": [],
   "source": [
    "sevent_sq_sql = '''insert into table gross_boxo_and_top_boxo_changes SELECT 'c_Poland',t2.v,'2017sq',t4.v FROM (SELECT max(t1.boxoffice) AS v FROM film44 t1 WHERE t1.c_Poland=1 and mdate <= '2017-06-30'and mdate >='2017-04-01') t2 JOIN (SELECT sum(t3.boxoffice) AS v FROM film44 t3 WHERE t3.c_Poland=1  and mdate <= '2017-06-30'and mdate >='2017-04-01') t4'''\n",
    "cursor.execute(sevent_sq_sql)"
   ]
  },
  {
   "cell_type": "code",
   "execution_count": null,
   "metadata": {},
   "outputs": [],
   "source": [
    "sevent_tq_sql = '''insert into table gross_boxo_and_top_boxo_changes SELECT 'c_Poland',t2.v,'2017tq',t4.v FROM (SELECT max(t1.boxoffice) AS v FROM film44 t1 WHERE t1.c_Poland=1 and mdate <= '2017-09-30'and mdate >='2017-07-01') t2 JOIN (SELECT sum(t3.boxoffice) AS v FROM film44 t3 WHERE t3.c_Poland=1  and mdate <= '2017-09-30'and mdate >='2017-07-01') t4'''\n",
    "cursor.execute(sevent_tq_sql)"
   ]
  },
  {
   "cell_type": "code",
   "execution_count": null,
   "metadata": {},
   "outputs": [],
   "source": [
    "sevent_foq_sql = '''insert into table gross_boxo_and_top_boxo_changes SELECT 'c_Poland',t2.v,'2017foq',t4.v FROM (SELECT max(t1.boxoffice) AS v FROM film44 t1 WHERE t1.c_Poland=1 and mdate <= '2017-12-31'and mdate >='2017-10-01') t2 JOIN (SELECT sum(t3.boxoffice) AS v FROM film44 t3 WHERE t3.c_Poland=1  and mdate <= '2017-12-31'and mdate >='2017-10-01') t4'''\n",
    "cursor.execute(sevent_foq_sql)"
   ]
  },
  {
   "cell_type": "code",
   "execution_count": null,
   "metadata": {},
   "outputs": [],
   "source": [
    "eighte_fq_sql= '''insert into table gross_boxo_and_top_boxo_changes SELECT 'c_Poland',t2.v,'2018fq',t4.v FROM (SELECT max(t1.boxoffice) AS v FROM film44 t1 WHERE t1.c_Poland=1 and mdate <= '2018-03-31'and mdate >='2018-01-01') t2 JOIN (SELECT sum(t3.boxoffice) AS v FROM film44 t3 WHERE t3.c_Poland=1  and mdate <= '2018-03-31'and mdate >='2018-01-01') t4'''\n",
    "cursor.execute(eighte_fq_sql)"
   ]
  },
  {
   "cell_type": "code",
   "execution_count": null,
   "metadata": {},
   "outputs": [],
   "source": [
    "eighte_sq_sql = '''insert into table gross_boxo_and_top_boxo_changes SELECT 'c_Poland',t2.v,'2018sq',t4.v FROM (SELECT max(t1.boxoffice) AS v FROM film44 t1 WHERE t1.c_Poland=1 and mdate <= '2018-06-30'and mdate >='2018-04-01') t2 JOIN (SELECT sum(t3.boxoffice) AS v FROM film44 t3 WHERE t3.c_Poland=1  and mdate <= '2018-06-30'and mdate >='2018-04-01') t3.c_Spain=1  \n",
    "cursor.execute(eighte_sq_sql)"
   ]
  },
  {
   "cell_type": "code",
   "execution_count": null,
   "metadata": {},
   "outputs": [],
   "source": [
    "eighte_tq_sql = '''insert into table gross_boxo_and_top_boxo_changes SELECT 'c_Poland',t2.v,'2018tq',t4.v FROM (SELECT max(t1.boxoffice) AS v FROM film44 t1 WHERE t1.c_Poland=1 and mdate <= '2018-09-30'and mdate >='2018-07-01') t2 JOIN (SELECT sum(t3.boxoffice) AS v FROM film44 t3 WHERE t3.c_Poland=1  and mdate <= '2018-09-30'and mdate >='2018-07-01') t4'''\n",
    "cursor.execute(eighte_tq_sql)"
   ]
  },
  {
   "cell_type": "code",
   "execution_count": null,
   "metadata": {},
   "outputs": [],
   "source": [
    "eighte_foq_sql = '''insert into table gross_boxo_and_top_boxo_changes SELECT 'c_Poland',t2.v,'2018foq',t4.v FROM (SELECT max(t1.boxoffice) AS v FROM film44 t1 WHERE t1.c_Poland=1 and mdate <= '2018-12-31'and mdate >='2018-10-01') t2 JOIN (SELECT sum(t3.boxoffice) AS v FROM film44 t3 WHERE t3.c_Poland=1  and mdate <= '2018-12-31'and mdate >='2018-10-01') t4'''\n",
    "cursor.execute(eighte_foq_sql)"
   ]
  },
  {
   "cell_type": "code",
   "execution_count": null,
   "metadata": {},
   "outputs": [],
   "source": [
    "del sixt_fq_sql,sixt_sq_sql,sixt_tq_sql,sixt_foq_sql,sevent_fq_sql,sevent_sq_sql\n",
    ",sevent_tq_sql,sevent_foq_sql,eighte_fq_sql,eighte_sq_sql,eighte_tq_sql,eighte_foq_sql"
   ]
  },
  {
   "cell_type": "markdown",
   "metadata": {},
   "source": [
    "# 澳大利亚"
   ]
  },
  {
   "cell_type": "code",
   "execution_count": null,
   "metadata": {},
   "outputs": [],
   "source": [
    "sixt_fq_sql = '''insert into table gross_boxo_and_top_boxo_changes SELECT 'c_Australia',t2.v,'2016fq',t4.v FROM (SELECT max(t1.boxoffice) AS v FROM film44 t1 WHERE t1.c_Australia=1 and mdate <= '2016-03-31'and mdate >='2016-01-01') t2 JOIN (SELECT sum(t3.boxoffice) AS v FROM film44 t3 WHERE t3.c_Australia=1  and mdate <= '2016-03-31'and mdate >='2016-01-01') t4'''\n",
    "cursor.execute(sixt_fq_sql)"
   ]
  },
  {
   "cell_type": "code",
   "execution_count": null,
   "metadata": {},
   "outputs": [],
   "source": [
    "sixt_sq_sql = '''insert into table gross_boxo_and_top_boxo_changes SELECT 'c_Australia',t2.v,'2016sq',t4.v FROM (SELECT max(t1.boxoffice) AS v FROM film44 t1 WHERE t1.c_Australia=1 and mdate <= '2016-06-30'and mdate >='2016-04-01') t2 JOIN (SELECT sum(t3.boxoffice) AS v FROM film44 t3 WHERE t3.c_Australia=1  and mdate <= '2016-06-30'and mdate >='2016-04-01') t4'''\n",
    "cursor.execute(sixt_sq_sql)"
   ]
  },
  {
   "cell_type": "code",
   "execution_count": null,
   "metadata": {},
   "outputs": [],
   "source": [
    "sixt_tq_sql = '''insert into table gross_boxo_and_top_boxo_changes SELECT 'c_Australia',t2.v,'2016tq',t4.v FROM (SELECT max(t1.boxoffice) AS v FROM film44 t1 WHERE t1.c_Australia=1 and mdate <= '2016-09-30'and mdate >='2016-07-01') t2 JOIN (SELECT sum(t3.boxoffice) AS v FROM film44 t3 WHERE t3.c_Australia=1  and mdate <= '2016-09-30'and mdate >='2016-07-01') t4'''\n",
    "cursor.execute(sixt_tq_sql)"
   ]
  },
  {
   "cell_type": "code",
   "execution_count": null,
   "metadata": {},
   "outputs": [],
   "source": [
    "sixt_foq_sql = '''insert into table gross_boxo_and_top_boxo_changes SELECT 'c_Australia',t2.v,'2016foq',t4.v FROM (SELECT max(t1.boxoffice) AS v FROM film44 t1 WHERE t1.c_Australia=1 and mdate <= '2016-12-31'and mdate >='2016-10-01') t2 JOIN (SELECT sum(t3.boxoffice) AS v FROM film44 t3 WHERE t3.c_Australia=1  and mdate <= '2016-12-31'and mdate >='2016-10-01') t4'''\n",
    "cursor.execute(sixt_foq_sql)"
   ]
  },
  {
   "cell_type": "code",
   "execution_count": null,
   "metadata": {},
   "outputs": [],
   "source": [
    "sevent_fq_sql = '''insert into table gross_boxo_and_top_boxo_changes SELECT 'c_Australia',t2.v,'2017fq',t4.v FROM (SELECT max(t1.boxoffice) AS v FROM film44 t1 WHERE t1.c_Australia=1 and mdate <= '2017-03-31'and mdate >='2017-01-01') t2 JOIN (SELECT sum(t3.boxoffice) AS v FROM film44 t3 WHERE t3.c_Australia=1  and mdate <= '2017-03-31'and mdate >='2017-01-01') t4'''\n",
    "cursor.execute(sevent_fq_sql)"
   ]
  },
  {
   "cell_type": "code",
   "execution_count": null,
   "metadata": {},
   "outputs": [],
   "source": [
    "sevent_sq_sql = '''insert into table gross_boxo_and_top_boxo_changes SELECT 'c_Australia',t2.v,'2017sq',t4.v FROM (SELECT max(t1.boxoffice) AS v FROM film44 t1 WHERE t1.c_Australia=1 and mdate <= '2017-06-30'and mdate >='2017-04-01') t2 JOIN (SELECT sum(t3.boxoffice) AS v FROM film44 t3 WHERE t3.c_Australia=1  and mdate <= '2017-06-30'and mdate >='2017-04-01') t4'''\n",
    "cursor.execute(sevent_sq_sql)"
   ]
  },
  {
   "cell_type": "code",
   "execution_count": null,
   "metadata": {},
   "outputs": [],
   "source": [
    "sevent_tq_sql = '''insert into table gross_boxo_and_top_boxo_changes SELECT 'c_Australia',t2.v,'2017tq',t4.v FROM (SELECT max(t1.boxoffice) AS v FROM film44 t1 WHERE t1.c_Australia=1 and mdate <= '2017-09-30'and mdate >='2017-07-01') t2 JOIN (SELECT sum(t3.boxoffice) AS v FROM film44 t3 WHERE t3.c_Australia=1  and mdate <= '2017-09-30'and mdate >='2017-07-01') t4'''\n",
    "cursor.execute(sevent_tq_sql)"
   ]
  },
  {
   "cell_type": "code",
   "execution_count": null,
   "metadata": {},
   "outputs": [],
   "source": [
    "sevent_foq_sql = '''insert into table gross_boxo_and_top_boxo_changes SELECT 'c_Australia',t2.v,'2017foq',t4.v FROM (SELECT max(t1.boxoffice) AS v FROM film44 t1 WHERE t1.c_Australia=1 and mdate <= '2017-12-31'and mdate >='2017-10-01') t2 JOIN (SELECT sum(t3.boxoffice) AS v FROM film44 t3 WHERE t3.c_Australia=1  and mdate <= '2017-12-31'and mdate >='2017-10-01') t4'''\n",
    "cursor.execute(sevent_foq_sql)"
   ]
  },
  {
   "cell_type": "code",
   "execution_count": null,
   "metadata": {},
   "outputs": [],
   "source": [
    "eighte_fq_sql= '''insert into table gross_boxo_and_top_boxo_changes SELECT 'c_Australia',t2.v,'2018fq',t4.v FROM (SELECT max(t1.boxoffice) AS v FROM film44 t1 WHERE t1.c_Australia=1 and mdate <= '2018-03-31'and mdate >='2018-01-01') t2 JOIN (SELECT sum(t3.boxoffice) AS v FROM film44 t3 WHERE t3.c_Australia=1  and mdate <= '2018-03-31'and mdate >='2018-01-01') t4'''\n",
    "cursor.execute(eighte_fq_sql)"
   ]
  },
  {
   "cell_type": "code",
   "execution_count": null,
   "metadata": {},
   "outputs": [],
   "source": [
    "eighte_sq_sql = '''insert into table gross_boxo_and_top_boxo_changes SELECT 'c_Australia',t2.v,'2018sq',t4.v FROM (SELECT max(t1.boxoffice) AS v FROM film44 t1 WHERE t1.c_Australia=1 and mdate <= '2018-06-30'and mdate >='2018-04-01') t2 JOIN (SELECT sum(t3.boxoffice) AS v FROM film44 t3 WHERE t3.c_Australia=1  and mdate <= '2018-06-30'and mdate >='2018-04-01') t3.c_Spain=1  \n",
    "cursor.execute(eighte_sq_sql)"
   ]
  },
  {
   "cell_type": "code",
   "execution_count": null,
   "metadata": {},
   "outputs": [],
   "source": [
    "eighte_tq_sql = '''insert into table gross_boxo_and_top_boxo_changes SELECT 'c_Australia',t2.v,'2018tq',t4.v FROM (SELECT max(t1.boxoffice) AS v FROM film44 t1 WHERE t1.c_Australia=1 and mdate <= '2018-09-30'and mdate >='2018-07-01') t2 JOIN (SELECT sum(t3.boxoffice) AS v FROM film44 t3 WHERE t3.c_Australia=1  and mdate <= '2018-09-30'and mdate >='2018-07-01') t4'''\n",
    "cursor.execute(eighte_tq_sql)"
   ]
  },
  {
   "cell_type": "code",
   "execution_count": null,
   "metadata": {},
   "outputs": [],
   "source": [
    "eighte_foq_sql = '''insert into table gross_boxo_and_top_boxo_changes SELECT 'c_Australia',t2.v,'2018foq',t4.v FROM (SELECT max(t1.boxoffice) AS v FROM film44 t1 WHERE t1.c_Australia=1 and mdate <= '2018-12-31'and mdate >='2018-10-01') t2 JOIN (SELECT sum(t3.boxoffice) AS v FROM film44 t3 WHERE t3.c_Australia=1  and mdate <= '2018-12-31'and mdate >='2018-10-01') t4'''\n",
    "cursor.execute(eighte_foq_sql)"
   ]
  },
  {
   "cell_type": "code",
   "execution_count": null,
   "metadata": {},
   "outputs": [],
   "source": [
    "del sixt_fq_sql,sixt_sq_sql,sixt_tq_sql,sixt_foq_sql,sevent_fq_sql,sevent_sq_sql\n",
    ",sevent_tq_sql,sevent_foq_sql,eighte_fq_sql,eighte_sq_sql,eighte_tq_sql,eighte_foq_sql"
   ]
  },
  {
   "cell_type": "markdown",
   "metadata": {},
   "source": [
    "# 伊朗"
   ]
  },
  {
   "cell_type": "code",
   "execution_count": null,
   "metadata": {},
   "outputs": [],
   "source": [
    "sixt_fq_sql = '''insert into table gross_boxo_and_top_boxo_changes SELECT 'c_Iran',t2.v,'2016fq',t4.v FROM (SELECT max(t1.boxoffice) AS v FROM film44 t1 WHERE t1.c_Iran=1 and mdate <= '2016-03-31'and mdate >='2016-01-01') t2 JOIN (SELECT sum(t3.boxoffice) AS v FROM film44 t3 WHERE t3.c_Iran=1  and mdate <= '2016-03-31'and mdate >='2016-01-01') t4'''\n",
    "cursor.execute(sixt_fq_sql)"
   ]
  },
  {
   "cell_type": "code",
   "execution_count": null,
   "metadata": {},
   "outputs": [],
   "source": [
    "sixt_sq_sql = '''insert into table gross_boxo_and_top_boxo_changes SELECT 'c_Iran',t2.v,'2016sq',t4.v FROM (SELECT max(t1.boxoffice) AS v FROM film44 t1 WHERE t1.c_Iran=1 and mdate <= '2016-06-30'and mdate >='2016-04-01') t2 JOIN (SELECT sum(t3.boxoffice) AS v FROM film44 t3 WHERE t3.c_Iran=1  and mdate <= '2016-06-30'and mdate >='2016-04-01') t4'''\n",
    "cursor.execute(sixt_sq_sql)"
   ]
  },
  {
   "cell_type": "code",
   "execution_count": null,
   "metadata": {},
   "outputs": [],
   "source": [
    "sixt_tq_sql = '''insert into table gross_boxo_and_top_boxo_changes SELECT 'c_Iran',t2.v,'2016tq',t4.v FROM (SELECT max(t1.boxoffice) AS v FROM film44 t1 WHERE t1.c_Iran=1 and mdate <= '2016-09-30'and mdate >='2016-07-01') t2 JOIN (SELECT sum(t3.boxoffice) AS v FROM film44 t3 WHERE t3.c_Iran=1  and mdate <= '2016-09-30'and mdate >='2016-07-01') t4'''\n",
    "cursor.execute(sixt_tq_sql)"
   ]
  },
  {
   "cell_type": "code",
   "execution_count": null,
   "metadata": {},
   "outputs": [],
   "source": [
    "sixt_foq_sql = '''insert into table gross_boxo_and_top_boxo_changes SELECT 'c_Iran',t2.v,'2016foq',t4.v FROM (SELECT max(t1.boxoffice) AS v FROM film44 t1 WHERE t1.c_Iran=1 and mdate <= '2016-12-31'and mdate >='2016-10-01') t2 JOIN (SELECT sum(t3.boxoffice) AS v FROM film44 t3 WHERE t3.c_Iran=1  and mdate <= '2016-12-31'and mdate >='2016-10-01') t4'''\n",
    "cursor.execute(sixt_foq_sql)"
   ]
  },
  {
   "cell_type": "code",
   "execution_count": null,
   "metadata": {},
   "outputs": [],
   "source": [
    "sevent_fq_sql = '''insert into table gross_boxo_and_top_boxo_changes SELECT 'c_Iran',t2.v,'2017fq',t4.v FROM (SELECT max(t1.boxoffice) AS v FROM film44 t1 WHERE t1.c_Iran=1 and mdate <= '2017-03-31'and mdate >='2017-01-01') t2 JOIN (SELECT sum(t3.boxoffice) AS v FROM film44 t3 WHERE t3.c_Iran=1  and mdate <= '2017-03-31'and mdate >='2017-01-01') t4'''\n",
    "cursor.execute(sevent_fq_sql)"
   ]
  },
  {
   "cell_type": "code",
   "execution_count": null,
   "metadata": {},
   "outputs": [],
   "source": [
    "sevent_sq_sql = '''insert into table gross_boxo_and_top_boxo_changes SELECT 'c_Iran',t2.v,'2017sq',t4.v FROM (SELECT max(t1.boxoffice) AS v FROM film44 t1 WHERE t1.c_Iran=1 and mdate <= '2017-06-30'and mdate >='2017-04-01') t2 JOIN (SELECT sum(t3.boxoffice) AS v FROM film44 t3 WHERE t3.c_Iran=1  and mdate <= '2017-06-30'and mdate >='2017-04-01') t4'''\n",
    "cursor.execute(sevent_sq_sql)"
   ]
  },
  {
   "cell_type": "code",
   "execution_count": null,
   "metadata": {},
   "outputs": [],
   "source": [
    "sevent_tq_sql = '''insert into table gross_boxo_and_top_boxo_changes SELECT 'c_Iran',t2.v,'2017tq',t4.v FROM (SELECT max(t1.boxoffice) AS v FROM film44 t1 WHERE t1.c_Iran=1 and mdate <= '2017-09-30'and mdate >='2017-07-01') t2 JOIN (SELECT sum(t3.boxoffice) AS v FROM film44 t3 WHERE t3.c_Iran=1  and mdate <= '2017-09-30'and mdate >='2017-07-01') t4'''\n",
    "cursor.execute(sevent_tq_sql)"
   ]
  },
  {
   "cell_type": "code",
   "execution_count": null,
   "metadata": {},
   "outputs": [],
   "source": [
    "sevent_foq_sql = '''insert into table gross_boxo_and_top_boxo_changes SELECT 'c_Iran',t2.v,'2017foq',t4.v FROM (SELECT max(t1.boxoffice) AS v FROM film44 t1 WHERE t1.c_Iran=1 and mdate <= '2017-12-31'and mdate >='2017-10-01') t2 JOIN (SELECT sum(t3.boxoffice) AS v FROM film44 t3 WHERE t3.c_Iran=1  and mdate <= '2017-12-31'and mdate >='2017-10-01') t4'''\n",
    "cursor.execute(sevent_foq_sql)"
   ]
  },
  {
   "cell_type": "code",
   "execution_count": null,
   "metadata": {},
   "outputs": [],
   "source": [
    "eighte_fq_sql= '''insert into table gross_boxo_and_top_boxo_changes SELECT 'c_Iran',t2.v,'2018fq',t4.v FROM (SELECT max(t1.boxoffice) AS v FROM film44 t1 WHERE t1.c_Iran=1 and mdate <= '2018-03-31'and mdate >='2018-01-01') t2 JOIN (SELECT sum(t3.boxoffice) AS v FROM film44 t3 WHERE t3.c_Iran=1  and mdate <= '2018-03-31'and mdate >='2018-01-01') t4'''\n",
    "cursor.execute(eighte_fq_sql)"
   ]
  },
  {
   "cell_type": "code",
   "execution_count": null,
   "metadata": {},
   "outputs": [],
   "source": [
    "eighte_sq_sql = '''insert into table gross_boxo_and_top_boxo_changes SELECT 'c_Iran',t2.v,'2018sq',t4.v FROM (SELECT max(t1.boxoffice) AS v FROM film44 t1 WHERE t1.c_Iran=1 and mdate <= '2018-06-30'and mdate >='2018-04-01') t2 JOIN (SELECT sum(t3.boxoffice) AS v FROM film44 t3 WHERE t3.c_Iran=1  and mdate <= '2018-06-30'and mdate >='2018-04-01') t3.c_Spain=1  \n",
    "cursor.execute(eighte_sq_sql)"
   ]
  },
  {
   "cell_type": "code",
   "execution_count": null,
   "metadata": {},
   "outputs": [],
   "source": [
    "eighte_tq_sql = '''insert into table gross_boxo_and_top_boxo_changes SELECT 'c_Iran',t2.v,'2018tq',t4.v FROM (SELECT max(t1.boxoffice) AS v FROM film44 t1 WHERE t1.c_Iran=1 and mdate <= '2018-09-30'and mdate >='2018-07-01') t2 JOIN (SELECT sum(t3.boxoffice) AS v FROM film44 t3 WHERE t3.c_Iran=1  and mdate <= '2018-09-30'and mdate >='2018-07-01') t4'''\n",
    "cursor.execute(eighte_tq_sql"
   ]
  },
  {
   "cell_type": "code",
   "execution_count": null,
   "metadata": {},
   "outputs": [],
   "source": [
    "eighte_foq_sql = '''insert into table gross_boxo_and_top_boxo_changes SELECT 'c_Iran',t2.v,'2018foq',t4.v FROM (SELECT max(t1.boxoffice) AS v FROM film44 t1 WHERE t1.c_Iran=1 and mdate <= '2018-12-31'and mdate >='2018-10-01') t2 JOIN (SELECT sum(t3.boxoffice) AS v FROM film44 t3 WHERE t3.c_Iran=1  and mdate <= '2018-12-31'and mdate >='2018-10-01') t4'''\n",
    "cursor.execute(eighte_foq_sql)"
   ]
  },
  {
   "cell_type": "code",
   "execution_count": null,
   "metadata": {},
   "outputs": [],
   "source": [
    "del sixt_fq_sql,sixt_sq_sql,sixt_tq_sql,sixt_foq_sql,sevent_fq_sql,sevent_sq_sql\n",
    ",sevent_tq_sql,sevent_foq_sql,eighte_fq_sql,eighte_sq_sql,eighte_tq_sql,eighte_foq_sql"
   ]
  },
  {
   "cell_type": "markdown",
   "metadata": {},
   "source": [
    "# 其他国家"
   ]
  },
  {
   "cell_type": "code",
   "execution_count": null,
   "metadata": {},
   "outputs": [],
   "source": [
    "sixt_fq_sql = '''insert into table gross_boxo_and_top_boxo_changes SELECT 'c_Others',t2.v,'2016fq',t4.v FROM (SELECT max(t1.boxoffice) AS v FROM film44 t1 WHERE t1.c_Others=1 and mdate <= '2016-03-31'and mdate >='2016-01-01') t2 JOIN (SELECT sum(t3.boxoffice) AS v FROM film44 t3 WHERE t3.c_Others=1  and mdate <= '2016-03-31'and mdate >='2016-01-01') t4'''\n",
    "cursor.execute(sixt_fq_sql)"
   ]
  },
  {
   "cell_type": "code",
   "execution_count": null,
   "metadata": {},
   "outputs": [],
   "source": [
    "sixt_sq_sql = '''insert into table gross_boxo_and_top_boxo_changes SELECT 'c_Others',t2.v,'2016sq',t4.v FROM (SELECT max(t1.boxoffice) AS v FROM film44 t1 WHERE t1.c_Others=1 and mdate <= '2016-06-30'and mdate >='2016-04-01') t2 JOIN (SELECT sum(t3.boxoffice) AS v FROM film44 t3 WHERE t3.c_Others=1  and mdate <= '2016-06-30'and mdate >='2016-04-01') t4'''\n",
    "cursor.execute(sixt_sq_sql)"
   ]
  },
  {
   "cell_type": "code",
   "execution_count": null,
   "metadata": {},
   "outputs": [],
   "source": [
    "sixt_tq_sql = '''insert into table gross_boxo_and_top_boxo_changes SELECT 'c_Others',t2.v,'2016tq',t4.v FROM (SELECT max(t1.boxoffice) AS v FROM film44 t1 WHERE t1.c_Others=1 and mdate <= '2016-09-30'and mdate >='2016-07-01') t2 JOIN (SELECT sum(t3.boxoffice) AS v FROM film44 t3 WHERE t3.c_Others=1  and mdate <= '2016-09-30'and mdate >='2016-07-01') t4'''\n",
    "cursor.execute(sixt_tq_sql)"
   ]
  },
  {
   "cell_type": "code",
   "execution_count": null,
   "metadata": {},
   "outputs": [],
   "source": [
    "sixt_foq_sql = '''insert into table gross_boxo_and_top_boxo_changes SELECT 'c_Others',t2.v,'2016foq',t4.v FROM (SELECT max(t1.boxoffice) AS v FROM film44 t1 WHERE t1.c_Others=1 and mdate <= '2016-12-31'and mdate >='2016-10-01') t2 JOIN (SELECT sum(t3.boxoffice) AS v FROM film44 t3 WHERE t3.c_Others=1  and mdate <= '2016-12-31'and mdate >='2016-10-01') t4'''\n",
    "cursor.execute(sixt_foq_sql)"
   ]
  },
  {
   "cell_type": "code",
   "execution_count": null,
   "metadata": {},
   "outputs": [],
   "source": [
    "sevent_fq_sql = '''insert into table gross_boxo_and_top_boxo_changes SELECT 'c_Others',t2.v,'2017fq',t4.v FROM (SELECT max(t1.boxoffice) AS v FROM film44 t1 WHERE t1.c_Others=1 and mdate <= '2017-03-31'and mdate >='2017-01-01') t2 JOIN (SELECT sum(t3.boxoffice) AS v FROM film44 t3 WHERE t3.c_Others=1  and mdate <= '2017-03-31'and mdate >='2017-01-01') t4'''\n",
    "cursor.execute(sevent_fq_sql)"
   ]
  },
  {
   "cell_type": "code",
   "execution_count": null,
   "metadata": {},
   "outputs": [],
   "source": [
    "sevent_sq_sql = '''insert into table gross_boxo_and_top_boxo_changes SELECT 'c_Others',t2.v,'2017sq',t4.v FROM (SELECT max(t1.boxoffice) AS v FROM film44 t1 WHERE t1.c_Others=1 and mdate <= '2017-06-30'and mdate >='2017-04-01') t2 JOIN (SELECT sum(t3.boxoffice) AS v FROM film44 t3 WHERE t3.c_Others=1  and mdate <= '2017-06-30'and mdate >='2017-04-01') t4'''\n",
    "cursor.execute(sevent_sq_sql)"
   ]
  },
  {
   "cell_type": "code",
   "execution_count": null,
   "metadata": {},
   "outputs": [],
   "source": [
    "sevent_tq_sql = '''insert into table gross_boxo_and_top_boxo_changes SELECT 'c_Others',t2.v,'2017tq',t4.v FROM (SELECT max(t1.boxoffice) AS v FROM film44 t1 WHERE t1.c_Others=1 and mdate <= '2017-09-30'and mdate >='2017-07-01') t2 JOIN (SELECT sum(t3.boxoffice) AS v FROM film44 t3 WHERE t3.c_Others=1  and mdate <= '2017-09-30'and mdate >='2017-07-01') t4'''\n",
    "cursor.execute(sevent_tq_sql)"
   ]
  },
  {
   "cell_type": "code",
   "execution_count": null,
   "metadata": {},
   "outputs": [],
   "source": [
    "sevent_foq_sql = '''insert into table gross_boxo_and_top_boxo_changes SELECT 'c_Others',t2.v,'2017foq',t4.v FROM (SELECT max(t1.boxoffice) AS v FROM film44 t1 WHERE t1.c_Others=1 and mdate <= '2017-12-31'and mdate >='2017-10-01') t2 JOIN (SELECT sum(t3.boxoffice) AS v FROM film44 t3 WHERE t3.c_Others=1  and mdate <= '2017-12-31'and mdate >='2017-10-01') t4'''\n",
    "cursor.execute(sevent_foq_sql)"
   ]
  },
  {
   "cell_type": "code",
   "execution_count": null,
   "metadata": {},
   "outputs": [],
   "source": [
    "eighte_fq_sql= '''insert into table gross_boxo_and_top_boxo_changes SELECT 'c_Others',t2.v,'2018fq',t4.v FROM (SELECT max(t1.boxoffice) AS v FROM film44 t1 WHERE t1.c_Others=1 and mdate <= '2018-03-31'and mdate >='2018-01-01') t2 JOIN (SELECT sum(t3.boxoffice) AS v FROM film44 t3 WHERE t3.c_Others=1  and mdate <= '2018-03-31'and mdate >='2018-01-01') t4'''\n",
    "cursor.execute(eighte_fq_sql)"
   ]
  },
  {
   "cell_type": "code",
   "execution_count": null,
   "metadata": {},
   "outputs": [],
   "source": [
    "eighte_sq_sql = '''insert into table gross_boxo_and_top_boxo_changes SELECT 'c_Others',t2.v,'2018sq',t4.v FROM (SELECT max(t1.boxoffice) AS v FROM film44 t1 WHERE t1.c_Others=1 and mdate <= '2018-06-30'and mdate >='2018-04-01') t2 JOIN (SELECT sum(t3.boxoffice) AS v FROM film44 t3 WHERE t3.c_Others=1  and mdate <= '2018-06-30'and mdate >='2018-04-01') t3.c_Spain=1  \n",
    "cursor.execute(eighte_sq_sql)"
   ]
  },
  {
   "cell_type": "code",
   "execution_count": null,
   "metadata": {},
   "outputs": [],
   "source": [
    "eighte_tq_sql = '''insert into table gross_boxo_and_top_boxo_changes SELECT 'c_Others',t2.v,'2018tq',t4.v FROM (SELECT max(t1.boxoffice) AS v FROM film44 t1 WHERE t1.c_Others=1 and mdate <= '2018-09-30'and mdate >='2018-07-01') t2 JOIN (SELECT sum(t3.boxoffice) AS v FROM film44 t3 WHERE t3.c_Others=1  and mdate <= '2018-09-30'and mdate >='2018-07-01') t4'''\n",
    "cursor.execute(eighte_tq_sql)"
   ]
  },
  {
   "cell_type": "code",
   "execution_count": null,
   "metadata": {},
   "outputs": [],
   "source": [
    "eighte_foq_sql = '''insert into table gross_boxo_and_top_boxo_changes SELECT 'c_Others',t2.v,'2018foq',t4.v FROM (SELECT max(t1.boxoffice) AS v FROM film44 t1 WHERE t1.c_Others=1 and mdate <= '2018-12-31'and mdate >='2018-10-01') t2 JOIN (SELECT sum(t3.boxoffice) AS v FROM film44 t3 WHERE t3.c_Others=1  and mdate <= '2018-12-31'and mdate >='2018-10-01') t4'''\n",
    "cursor.execute(eighte_foq_sql)"
   ]
  },
  {
   "cell_type": "code",
   "execution_count": null,
   "metadata": {},
   "outputs": [],
   "source": [
    "del sixt_fq_sql,sixt_sq_sql,sixt_tq_sql,sixt_foq_sql,sevent_fq_sql,sevent_sq_sql\n",
    ",sevent_tq_sql,sevent_foq_sql,eighte_fq_sql,eighte_sq_sql,eighte_tq_sql,eighte_foq_sql"
   ]
  }
 ],
 "metadata": {
  "kernelspec": {
   "display_name": "Python 3",
   "language": "python",
   "name": "python3"
  },
  "language_info": {
   "codemirror_mode": {
    "name": "ipython",
    "version": 3
   },
   "file_extension": ".py",
   "mimetype": "text/x-python",
   "name": "python",
   "nbconvert_exporter": "python",
   "pygments_lexer": "ipython3",
   "version": "3.5.2"
  }
 },
 "nbformat": 4,
 "nbformat_minor": 2
}
