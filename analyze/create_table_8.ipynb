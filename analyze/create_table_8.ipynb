{
 "cells": [
  {
   "cell_type": "code",
   "execution_count": 1,
   "metadata": {},
   "outputs": [],
   "source": [
    "from pyhive import hive\n",
    "import pymysql\n",
    "conn = hive.Connection(host='127.0.0.1', port=10000, username='hadoop')\n",
    "cursor = conn.cursor()"
   ]
  },
  {
   "cell_type": "code",
   "execution_count": 2,
   "metadata": {},
   "outputs": [],
   "source": [
    "def exec_sql(sql):\n",
    "    cursor.execute(sql)\n",
    "    for result in cursor.fetchall():\n",
    "        print(result)"
   ]
  },
  {
   "cell_type": "markdown",
   "metadata": {},
   "source": [
    "# create_gross_boxo_and_top_boxo_changes_table(总票房与最高票房变化)"
   ]
  },
  {
   "cell_type": "markdown",
   "metadata": {},
   "source": [
    "# 按照季度划分"
   ]
  },
  {
   "cell_type": "markdown",
   "metadata": {},
   "source": [
    "# 美国"
   ]
  },
  {
   "cell_type": "raw",
   "metadata": {},
   "source": [
    "2016年第一季度（first quarter）"
   ]
  },
  {
   "cell_type": "code",
   "execution_count": 7,
   "metadata": {},
   "outputs": [],
   "source": [
    "sixt_fq_sql = '''SELECT 'c_America',t2.v,'2016fq',t4.v FROM (SELECT max(t1.boxoffice) AS v FROM film44 t1 WHERE t1.c_America=1 and mdate <= '2016-03-31'and mdate >='2016-01-01') t2 JOIN (SELECT sum(t3.boxoffice) AS v FROM film44 t3 WHERE t3.c_America=1 and mdate <= '2016-03-31'and mdate >='2016-01-01') t4'''"
   ]
  },
  {
   "cell_type": "code",
   "execution_count": 8,
   "metadata": {},
   "outputs": [],
   "source": [
    "exec_sql(sixt_fq_sql)"
   ]
  },
  {
   "cell_type": "code",
   "execution_count": 9,
   "metadata": {},
   "outputs": [],
   "source": [
    "del sixt_fq_sql"
   ]
  },
  {
   "cell_type": "raw",
   "metadata": {},
   "source": [
    "2016年第二季度"
   ]
  },
  {
   "cell_type": "code",
   "execution_count": 10,
   "metadata": {},
   "outputs": [],
   "source": [
    "sixt_sq_sql = '''SELECT 'c_America',t2.v,'2016sq',t4.v FROM (SELECT max(t1.boxoffice) AS v FROM film44 t1 WHERE t1.c_America=1 and mdate <= '2016-06-30'and mdate >='2016-04-01') t2 JOIN (SELECT sum(t3.boxoffice) AS v FROM film44 t3 WHERE t3.c_America=1 and mdate <= '2016-06-30'and mdate >='2016-04-01') t4'''"
   ]
  },
  {
   "cell_type": "code",
   "execution_count": 11,
   "metadata": {},
   "outputs": [],
   "source": [
    "exec_sql(sixt_sq_sql)"
   ]
  },
  {
   "cell_type": "code",
   "execution_count": 12,
   "metadata": {},
   "outputs": [],
   "source": [
    "del sixt_sq_sql"
   ]
  },
  {
   "cell_type": "raw",
   "metadata": {},
   "source": [
    "2016年第三季度"
   ]
  },
  {
   "cell_type": "code",
   "execution_count": 13,
   "metadata": {},
   "outputs": [],
   "source": [
    "sixt_tq_sql = '''SELECT 'c_America',t2.v,'2016tq',t4.v FROM (SELECT max(t1.boxoffice) AS v FROM film44 t1 WHERE t1.c_America=1 and mdate <= '2016-09-30'and mdate >='2016-07-01') t2 JOIN (SELECT sum(t3.boxoffice) AS v FROM film44 t3 WHERE t3.c_America=1 and mdate <= '2016-09-30'and mdate >='2016-07-01') t4'''"
   ]
  },
  {
   "cell_type": "code",
   "execution_count": 14,
   "metadata": {},
   "outputs": [],
   "source": [
    "exec_sql(sixt_tq_sql)"
   ]
  },
  {
   "cell_type": "code",
   "execution_count": 15,
   "metadata": {},
   "outputs": [],
   "source": [
    "del sixt_tq_sql"
   ]
  },
  {
   "cell_type": "raw",
   "metadata": {},
   "source": [
    "2016年第四季度"
   ]
  },
  {
   "cell_type": "code",
   "execution_count": 16,
   "metadata": {},
   "outputs": [],
   "source": [
    "sixt_foq_sql = '''SELECT 'c_America',t2.v,'2016foq',t4.v FROM (SELECT max(t1.boxoffice) AS v FROM film44 t1 WHERE t1.c_America=1 and mdate <= '2016-12-31'and mdate >='2016-10-01') t2 JOIN (SELECT sum(t3.boxoffice) AS v FROM film44 t3 WHERE t3.c_America=1 and mdate <= '2016-12-31'and mdate >='2016-10-01') t4'''"
   ]
  },
  {
   "cell_type": "code",
   "execution_count": 17,
   "metadata": {},
   "outputs": [],
   "source": [
    "exec_sql(sixt_foq_sql)"
   ]
  },
  {
   "cell_type": "code",
   "execution_count": 18,
   "metadata": {},
   "outputs": [],
   "source": [
    "del sixt_foq_sql"
   ]
  },
  {
   "cell_type": "raw",
   "metadata": {},
   "source": [
    "2017年第一季度"
   ]
  },
  {
   "cell_type": "code",
   "execution_count": 19,
   "metadata": {},
   "outputs": [],
   "source": [
    "sevent_fq_sql = '''SELECT 'c_America',t2.v,'2017fq',t4.v FROM (SELECT max(t1.boxoffice) AS v FROM film44 t1 WHERE t1.c_America=1 and mdate <= '2017-03-31'and mdate >='2017-01-01') t2 JOIN (SELECT sum(t3.boxoffice) AS v FROM film44 t3 WHERE t3.c_America=1 and mdate <= '2017-03-31'and mdate >='2017-01-01') t4'''"
   ]
  },
  {
   "cell_type": "code",
   "execution_count": 20,
   "metadata": {},
   "outputs": [],
   "source": [
    "exec_sql(sevent_fq_sql)"
   ]
  },
  {
   "cell_type": "code",
   "execution_count": 21,
   "metadata": {},
   "outputs": [],
   "source": [
    "del sevent_fq_sql"
   ]
  },
  {
   "cell_type": "raw",
   "metadata": {},
   "source": [
    "2017年第二季度"
   ]
  },
  {
   "cell_type": "code",
   "execution_count": 22,
   "metadata": {},
   "outputs": [],
   "source": [
    "sevent_sq_sql = '''SELECT 'c_America',t2.v,'2017sq',t4.v FROM (SELECT max(t1.boxoffice) AS v FROM film44 t1 WHERE t1.c_America=1 and mdate <= '2017-06-30'and mdate >='2017-04-01') t2 JOIN (SELECT sum(t3.boxoffice) AS v FROM film44 t3 WHERE t3.c_America=1 and mdate <= '2017-06-30'and mdate >='2017-04-01') t4'''"
   ]
  },
  {
   "cell_type": "code",
   "execution_count": 23,
   "metadata": {},
   "outputs": [],
   "source": [
    "exec_sql(sevent_sq_sql)"
   ]
  },
  {
   "cell_type": "code",
   "execution_count": 24,
   "metadata": {},
   "outputs": [],
   "source": [
    "del sevent_sq_sql"
   ]
  },
  {
   "cell_type": "raw",
   "metadata": {},
   "source": [
    "2017年第三季度"
   ]
  },
  {
   "cell_type": "code",
   "execution_count": 25,
   "metadata": {},
   "outputs": [],
   "source": [
    "sevent_tq_sql = '''SELECT 'c_America',t2.v,'2017tq',t4.v FROM (SELECT max(t1.boxoffice) AS v FROM film44 t1 WHERE t1.c_America=1 and mdate <= '2017-09-30'and mdate >='2017-07-01') t2 JOIN (SELECT sum(t3.boxoffice) AS v FROM film44 t3 WHERE t3.c_America=1 and mdate <= '2017-09-30'and mdate >='2017-07-01') t4'''"
   ]
  },
  {
   "cell_type": "code",
   "execution_count": 26,
   "metadata": {},
   "outputs": [],
   "source": [
    "exec_sql(sevent_tq_sql)"
   ]
  },
  {
   "cell_type": "code",
   "execution_count": 27,
   "metadata": {},
   "outputs": [],
   "source": [
    "del sevent_tq_sql"
   ]
  },
  {
   "cell_type": "raw",
   "metadata": {},
   "source": [
    "2017年第四季度"
   ]
  },
  {
   "cell_type": "code",
   "execution_count": 28,
   "metadata": {},
   "outputs": [],
   "source": [
    "sevent_foq_sql = '''SELECT 'c_America',t2.v,'2017foq',t4.v FROM (SELECT max(t1.boxoffice) AS v FROM film44 t1 WHERE t1.c_America=1 and mdate <= '2017-12-31'and mdate >='2017-10-01') t2 JOIN (SELECT sum(t3.boxoffice) AS v FROM film44 t3 WHERE t3.c_America=1 and mdate <= '2017-12-31'and mdate >='2017-10-01') t4'''"
   ]
  },
  {
   "cell_type": "code",
   "execution_count": 29,
   "metadata": {},
   "outputs": [],
   "source": [
    "exec_sql(sevent_foq_sql)"
   ]
  },
  {
   "cell_type": "code",
   "execution_count": 30,
   "metadata": {},
   "outputs": [],
   "source": [
    "del sevent_foq_sql"
   ]
  },
  {
   "cell_type": "raw",
   "metadata": {},
   "source": [
    "2018年第一季度"
   ]
  },
  {
   "cell_type": "code",
   "execution_count": 31,
   "metadata": {},
   "outputs": [],
   "source": [
    "eighte_fq_sql = '''SELECT 'c_America',t2.v,'2018fq',t4.v FROM (SELECT max(t1.boxoffice) AS v FROM film44 t1 WHERE t1.c_America=1 and mdate <= '2018-03-31'and mdate >='2018-01-01') t2 JOIN (SELECT sum(t3.boxoffice) AS v FROM film44 t3 WHERE t3.c_America=1 and mdate <= '2018-03-31'and mdate >='2018-01-01') t4'''"
   ]
  },
  {
   "cell_type": "code",
   "execution_count": 32,
   "metadata": {},
   "outputs": [],
   "source": [
    "exec_sql(eighte_fq_sql)"
   ]
  },
  {
   "cell_type": "code",
   "execution_count": 33,
   "metadata": {},
   "outputs": [],
   "source": [
    "del eighte_fq_sql"
   ]
  },
  {
   "cell_type": "raw",
   "metadata": {},
   "source": [
    "2018年第二季度"
   ]
  },
  {
   "cell_type": "code",
   "execution_count": 34,
   "metadata": {},
   "outputs": [],
   "source": [
    "eighte_sq_sql = '''SELECT 'c_America',t2.v,'2018sq',t4.v FROM (SELECT max(t1.boxoffice) AS v FROM film44 t1 WHERE t1.c_America=1 and mdate <= '2018-06-30'and mdate >='2018-04-01') t2 JOIN (SELECT sum(t3.boxoffice) AS v FROM film44 t3 WHERE t3.c_America=1 and mdate <= '2018-06-30'and mdate >='2018-04-01') t4'''"
   ]
  },
  {
   "cell_type": "code",
   "execution_count": 35,
   "metadata": {},
   "outputs": [],
   "source": [
    "exec_sql(eighte_sq_sql)"
   ]
  },
  {
   "cell_type": "code",
   "execution_count": 36,
   "metadata": {},
   "outputs": [],
   "source": [
    "del eighte_sq_sql"
   ]
  },
  {
   "cell_type": "raw",
   "metadata": {},
   "source": [
    "2018年第三季度"
   ]
  },
  {
   "cell_type": "code",
   "execution_count": 37,
   "metadata": {},
   "outputs": [],
   "source": [
    "eighte_tq_sql = '''SELECT 'c_America',t2.v,'2018tq',t4.v FROM (SELECT max(t1.boxoffice) AS v FROM film44 t1 WHERE t1.c_America=1 and mdate <= '2018-09-30'and mdate >='2018-07-01') t2 JOIN (SELECT sum(t3.boxoffice) AS v FROM film44 t3 WHERE t3.c_America=1 and mdate <= '2018-09-30'and mdate >='2018-07-01') t4'''"
   ]
  },
  {
   "cell_type": "code",
   "execution_count": 38,
   "metadata": {},
   "outputs": [],
   "source": [
    "exec_sql(eighte_tq_sql)"
   ]
  },
  {
   "cell_type": "code",
   "execution_count": 39,
   "metadata": {},
   "outputs": [],
   "source": [
    "del eighte_tq_sql"
   ]
  },
  {
   "cell_type": "raw",
   "metadata": {},
   "source": [
    "2018年第四季度"
   ]
  },
  {
   "cell_type": "code",
   "execution_count": 40,
   "metadata": {},
   "outputs": [],
   "source": [
    "eighte_foq_sql = '''SELECT 'c_America',t2.v,'2018foq',t4.v FROM (SELECT max(t1.boxoffice) AS v FROM film44 t1 WHERE t1.c_America=1 and mdate <= '2018-12-31'and mdate >='2018-10-01') t2 JOIN (SELECT sum(t3.boxoffice) AS v FROM film44 t3 WHERE t3.c_America=1 and mdate <= '2018-12-31'and mdate >='2018-10-01') t4'''"
   ]
  },
  {
   "cell_type": "code",
   "execution_count": 41,
   "metadata": {},
   "outputs": [],
   "source": [
    "exec_sql(eighte_foq_sql)"
   ]
  },
  {
   "cell_type": "code",
   "execution_count": 42,
   "metadata": {},
   "outputs": [],
   "source": [
    "del eighte_foq_sql"
   ]
  },
  {
   "cell_type": "markdown",
   "metadata": {},
   "source": [
    "# 中国大陆"
   ]
  },
  {
   "cell_type": "code",
   "execution_count": 43,
   "metadata": {},
   "outputs": [],
   "source": [
    "sixt_fq_sql = '''SELECT 'c_America',t2.v,'2016fq',t4.v FROM (SELECT max(t1.boxoffice) AS v FROM film44 t1 WHERE t1.c_Mainland=1 and mdate <= '2016-03-31'and mdate >='2016-01-01') t2 JOIN (SELECT sum(t3.boxoffice) AS v FROM film44 t3 WHERE t3.c_Mainland=1 and mdate <= '2016-03-31'and mdate >='2016-01-01') t4'''"
   ]
  },
  {
   "cell_type": "code",
   "execution_count": 44,
   "metadata": {},
   "outputs": [],
   "source": [
    "exec_sql(sixt_fq_sql)"
   ]
  },
  {
   "cell_type": "code",
   "execution_count": 45,
   "metadata": {},
   "outputs": [],
   "source": [
    "del sixt_fq_sql"
   ]
  },
  {
   "cell_type": "code",
   "execution_count": 46,
   "metadata": {},
   "outputs": [],
   "source": [
    "sixt_sq_sql = '''SELECT 'c_America',t2.v,'2016sq',t4.v FROM (SELECT max(t1.boxoffice) AS v FROM film44 t1 WHERE t1.c_Mainland=1 and mdate <= '2016-06-30'and mdate >='2016-04-01') t2 JOIN (SELECT sum(t3.boxoffice) AS v FROM film44 t3 WHERE t3.c_Mainland=1 and mdate <= '2016-06-30'and mdate >='2016-04-01') t4'''"
   ]
  },
  {
   "cell_type": "code",
   "execution_count": 47,
   "metadata": {},
   "outputs": [],
   "source": [
    "exec_sql(sixt_sq_sql)"
   ]
  },
  {
   "cell_type": "code",
   "execution_count": 48,
   "metadata": {},
   "outputs": [],
   "source": [
    "del sixt_sq_sql"
   ]
  },
  {
   "cell_type": "code",
   "execution_count": 49,
   "metadata": {},
   "outputs": [],
   "source": [
    "sixt_tq_sql = '''SELECT 'c_America',t2.v,'2016tq',t4.v FROM (SELECT max(t1.boxoffice) AS v FROM film44 t1 WHERE t1.c_Mainland=1 and mdate <= '2016-09-30'and mdate >='2016-07-01') t2 JOIN (SELECT sum(t3.boxoffice) AS v FROM film44 t3 WHERE t3.c_Mainland=1 and mdate <= '2016-09-30'and mdate >='2016-07-01') t4'''"
   ]
  },
  {
   "cell_type": "code",
   "execution_count": 50,
   "metadata": {},
   "outputs": [],
   "source": [
    "exec_sql(sixt_tq_sql)"
   ]
  },
  {
   "cell_type": "code",
   "execution_count": 51,
   "metadata": {},
   "outputs": [],
   "source": [
    "del sixt_tq_sql"
   ]
  },
  {
   "cell_type": "code",
   "execution_count": 52,
   "metadata": {},
   "outputs": [],
   "source": [
    "sixt_foq_sql = '''SELECT 'c_America',t2.v,'2016foq',t4.v FROM (SELECT max(t1.boxoffice) AS v FROM film44 t1 WHERE t1.c_Mainland=1 and mdate <= '2016-12-31'and mdate >='2016-10-01') t2 JOIN (SELECT sum(t3.boxoffice) AS v FROM film44 t3 WHERE t3.c_Mainland=1 and mdate <= '2016-12-31'and mdate >='2016-10-01') t4'''"
   ]
  },
  {
   "cell_type": "code",
   "execution_count": 53,
   "metadata": {},
   "outputs": [],
   "source": [
    "exec_sql(sixt_foq_sql)"
   ]
  },
  {
   "cell_type": "code",
   "execution_count": 54,
   "metadata": {},
   "outputs": [],
   "source": [
    "del sixt_foq_sql"
   ]
  },
  {
   "cell_type": "code",
   "execution_count": 55,
   "metadata": {},
   "outputs": [],
   "source": [
    "sevent_fq_sql = '''SELECT 'c_America',t2.v,'2017fq',t4.v FROM (SELECT max(t1.boxoffice) AS v FROM film44 t1 WHERE t1.c_Mainland=1 and mdate <= '2017-03-31'and mdate >='2017-01-01') t2 JOIN (SELECT sum(t3.boxoffice) AS v FROM film44 t3 WHERE t3.c_Mainland=1 and mdate <= '2017-03-31'and mdate >='2017-01-01') t4'''"
   ]
  },
  {
   "cell_type": "code",
   "execution_count": 56,
   "metadata": {},
   "outputs": [],
   "source": [
    "exec_sql(sevent_fq_sql)"
   ]
  },
  {
   "cell_type": "code",
   "execution_count": 57,
   "metadata": {},
   "outputs": [],
   "source": [
    "del sevent_fq_sql"
   ]
  },
  {
   "cell_type": "code",
   "execution_count": 58,
   "metadata": {},
   "outputs": [],
   "source": [
    "sevent_sq_sql = '''SELECT 'c_America',t2.v,'2017sq',t4.v FROM (SELECT max(t1.boxoffice) AS v FROM film44 t1 WHERE t1.c_Mainland=1 and mdate <= '2017-06-30'and mdate >='2017-04-01') t2 JOIN (SELECT sum(t3.boxoffice) AS v FROM film44 t3 WHERE t3.c_Mainland=1 and mdate <= '2017-06-30'and mdate >='2017-04-01') t4'''"
   ]
  },
  {
   "cell_type": "code",
   "execution_count": 59,
   "metadata": {},
   "outputs": [],
   "source": [
    "exec_sql(sevent_sq_sql)"
   ]
  },
  {
   "cell_type": "code",
   "execution_count": 60,
   "metadata": {},
   "outputs": [],
   "source": [
    "del sevent_sq_sql"
   ]
  },
  {
   "cell_type": "code",
   "execution_count": 61,
   "metadata": {},
   "outputs": [],
   "source": [
    "sevent_tq_sql = '''SELECT 'c_America',t2.v,'2017tq',t4.v FROM (SELECT max(t1.boxoffice) AS v FROM film44 t1 WHERE t1.c_Mainland=1 and mdate <= '2017-09-30'and mdate >='2017-07-01') t2 JOIN (SELECT sum(t3.boxoffice) AS v FROM film44 t3 WHERE t3.c_Mainland=1 and mdate <= '2017-09-30'and mdate >='2017-07-01') t4'''"
   ]
  },
  {
   "cell_type": "code",
   "execution_count": 62,
   "metadata": {},
   "outputs": [],
   "source": [
    "exec_sql(sevent_tq_sql)"
   ]
  },
  {
   "cell_type": "code",
   "execution_count": 63,
   "metadata": {},
   "outputs": [],
   "source": [
    "del sevent_tq_sql"
   ]
  },
  {
   "cell_type": "code",
   "execution_count": null,
   "metadata": {},
   "outputs": [],
   "source": [
    "sevent_foq_sql = '''SELECT 'c_America',t2.v,'2017foq',t4.v FROM (SELECT max(t1.boxoffice) AS v FROM film44 t1 WHERE t1.c_Mainland=1 and mdate <= '2017-12-31'and mdate >='2017-10-01') t2 JOIN (SELECT sum(t3.boxoffice) AS v FROM film44 t3 WHERE t3.c_Mainland=1 and mdate <= '2017-12-31'and mdate >='2017-10-01') t4'''"
   ]
  },
  {
   "cell_type": "code",
   "execution_count": 73,
   "metadata": {},
   "outputs": [],
   "source": [
    "exec_sql(sevent_foq_sql)"
   ]
  },
  {
   "cell_type": "code",
   "execution_count": 66,
   "metadata": {},
   "outputs": [],
   "source": [
    "del sevent_foq_sql"
   ]
  },
  {
   "cell_type": "code",
   "execution_count": null,
   "metadata": {},
   "outputs": [],
   "source": [
    "eighte_fq_sql = '''SELECT 'c_America',t2.v,'2018fq',t4.v FROM (SELECT max(t1.boxoffice) AS v FROM film44 t1 WHERE t1.c_Mainland=1 and mdate <= '2018-03-31'and mdate >='2018-01-01') t2 JOIN (SELECT sum(t3.boxoffice) AS v FROM film44 t3 WHERE t3.c_Mainland=1 and mdate <= '2018-03-31'and mdate >='2018-01-01') t4'''"
   ]
  },
  {
   "cell_type": "code",
   "execution_count": 75,
   "metadata": {},
   "outputs": [],
   "source": [
    "exec_sql(eighte_fq_sql)"
   ]
  },
  {
   "cell_type": "code",
   "execution_count": 76,
   "metadata": {},
   "outputs": [],
   "source": [
    "del eighte_fq_sql"
   ]
  },
  {
   "cell_type": "code",
   "execution_count": 77,
   "metadata": {},
   "outputs": [],
   "source": [
    "eighte_sq_sql = '''SELECT 'c_America',t2.v,'2018sq',t4.v FROM (SELECT max(t1.boxoffice) AS v FROM film44 t1 WHERE t1.c_Mainland=1 and mdate <= '2018-06-30'and mdate >='2018-04-01') t2 JOIN (SELECT sum(t3.boxoffice) AS v FROM film44 t3 WHERE t3.c_Mainland=1 and mdate <= '2018-06-30'and mdate >='2018-04-01') t4'''"
   ]
  },
  {
   "cell_type": "code",
   "execution_count": 78,
   "metadata": {},
   "outputs": [],
   "source": [
    "exec_sql(eighte_sq_sql)"
   ]
  },
  {
   "cell_type": "code",
   "execution_count": 79,
   "metadata": {},
   "outputs": [],
   "source": [
    "del eighte_sq_sql"
   ]
  },
  {
   "cell_type": "code",
   "execution_count": 80,
   "metadata": {},
   "outputs": [],
   "source": [
    "eighte_tq_sql = '''SELECT 'c_America',t2.v,'2018tq',t4.v FROM (SELECT max(t1.boxoffice) AS v FROM film44 t1 WHERE t1.c_Mainland=1 and mdate <= '2018-09-30'and mdate >='2018-07-01') t2 JOIN (SELECT sum(t3.boxoffice) AS v FROM film44 t3 WHERE t3.c_Mainland=1 and mdate <= '2018-09-30'and mdate >='2018-07-01') t4'''"
   ]
  },
  {
   "cell_type": "code",
   "execution_count": 81,
   "metadata": {},
   "outputs": [],
   "source": [
    "exec_sql(eighte_tq_sql)"
   ]
  },
  {
   "cell_type": "code",
   "execution_count": 82,
   "metadata": {},
   "outputs": [],
   "source": [
    "del eighte_tq_sql"
   ]
  },
  {
   "cell_type": "code",
   "execution_count": 83,
   "metadata": {},
   "outputs": [],
   "source": [
    "eighte_foq_sql = '''SELECT 'c_America',t2.v,'2018foq',t4.v FROM (SELECT max(t1.boxoffice) AS v FROM film44 t1 WHERE t1.c_Mainland=1 and mdate <= '2018-12-31'and mdate >='2018-10-01') t2 JOIN (SELECT sum(t3.boxoffice) AS v FROM film44 t3 WHERE t3.c_Mainland=1 and mdate <= '2018-12-31'and mdate >='2018-10-01') t4'''"
   ]
  },
  {
   "cell_type": "code",
   "execution_count": 84,
   "metadata": {},
   "outputs": [],
   "source": [
    "exec_sql(eighte_foq_sql)"
   ]
  },
  {
   "cell_type": "code",
   "execution_count": 85,
   "metadata": {},
   "outputs": [],
   "source": [
    "del eighte_foq_sql"
   ]
  },
  {
   "cell_type": "markdown",
   "metadata": {},
   "source": [
    "# 韩国"
   ]
  },
  {
   "cell_type": "code",
   "execution_count": 86,
   "metadata": {},
   "outputs": [],
   "source": [
    "sixt_fq_sql = '''SELECT 'c_Korea',t2.v,'2016fq',t4.v FROM (SELECT max(t1.boxoffice) AS v FROM film44 t1 WHERE t1.c_Korea=1 and mdate <= '2016-03-31'and mdate >='2016-01-01') t2 JOIN (SELECT sum(t3.boxoffice) AS v FROM film44 t3 WHERE t3.c_Korea=1 and mdate <= '2016-03-31'and mdate >='2016-01-01') t4'''"
   ]
  },
  {
   "cell_type": "code",
   "execution_count": 87,
   "metadata": {},
   "outputs": [],
   "source": [
    "exec_sql(sixt_fq_sql)"
   ]
  },
  {
   "cell_type": "code",
   "execution_count": 88,
   "metadata": {},
   "outputs": [],
   "source": [
    "del sixt_fq_sql"
   ]
  },
  {
   "cell_type": "code",
   "execution_count": 89,
   "metadata": {},
   "outputs": [],
   "source": [
    "sixt_sq_sql = '''SELECT 'c_Korea',t2.v,'2016sq',t4.v FROM (SELECT max(t1.boxoffice) AS v FROM film44 t1 WHERE t1.c_Korea=1 and mdate <= '2016-06-30'and mdate >='2016-04-01') t2 JOIN (SELECT sum(t3.boxoffice) AS v FROM film44 t3 WHERE t3.c_Korea=1 and mdate <= '2016-06-30'and mdate >='2016-04-01') t4'''"
   ]
  },
  {
   "cell_type": "code",
   "execution_count": 90,
   "metadata": {},
   "outputs": [],
   "source": [
    "exec_sql(sixt_sq_sql)"
   ]
  },
  {
   "cell_type": "code",
   "execution_count": 91,
   "metadata": {},
   "outputs": [],
   "source": [
    "del sixt_sq_sql"
   ]
  },
  {
   "cell_type": "code",
   "execution_count": 92,
   "metadata": {},
   "outputs": [],
   "source": [
    "sixt_tq_sql = '''SELECT 'c_Korea',t2.v,'2016tq',t4.v FROM (SELECT max(t1.boxoffice) AS v FROM film44 t1 WHERE t1.c_Korea=1 and mdate <= '2016-09-30'and mdate >='2016-07-01') t2 JOIN (SELECT sum(t3.boxoffice) AS v FROM film44 t3 WHERE t3.c_Korea=1 and mdate <= '2016-09-30'and mdate >='2016-07-01') t4'''"
   ]
  },
  {
   "cell_type": "code",
   "execution_count": 93,
   "metadata": {},
   "outputs": [],
   "source": [
    "exec_sql(sixt_tq_sql)"
   ]
  },
  {
   "cell_type": "code",
   "execution_count": 94,
   "metadata": {},
   "outputs": [],
   "source": [
    "del sixt_tq_sql"
   ]
  },
  {
   "cell_type": "code",
   "execution_count": 97,
   "metadata": {},
   "outputs": [],
   "source": [
    "sixt_foq_sql = '''SELECT 'c_Korea',t2.v,'2016foq',t4.v FROM (SELECT max(t1.boxoffice) AS v FROM film44 t1 WHERE t1.c_Korea=1 and mdate <= '2016-12-31'and mdate >='2016-10-01') t2 JOIN (SELECT sum(t3.boxoffice) AS v FROM film44 t3 WHERE t3.c_Korea=1 and mdate <= '2016-12-31'and mdate >='2016-10-01') t4'''"
   ]
  },
  {
   "cell_type": "code",
   "execution_count": 96,
   "metadata": {},
   "outputs": [],
   "source": [
    "exec_sql(sixt_foq_sql)"
   ]
  },
  {
   "cell_type": "code",
   "execution_count": 98,
   "metadata": {},
   "outputs": [],
   "source": [
    "del sixt_foq_sql"
   ]
  },
  {
   "cell_type": "code",
   "execution_count": 99,
   "metadata": {},
   "outputs": [],
   "source": [
    "sevent_fq_sql = '''SELECT 'c_Korea',t2.v,'2017fq',t4.v FROM (SELECT max(t1.boxoffice) AS v FROM film44 t1 WHERE t1.c_Korea=1 and mdate <= '2017-03-31'and mdate >='2017-01-01') t2 JOIN (SELECT sum(t3.boxoffice) AS v FROM film44 t3 WHERE t3.c_Korea=1 and mdate <= '2017-03-31'and mdate >='2017-01-01') t4'''"
   ]
  },
  {
   "cell_type": "code",
   "execution_count": 100,
   "metadata": {},
   "outputs": [],
   "source": [
    "exec_sql(sevent_fq_sql)"
   ]
  },
  {
   "cell_type": "code",
   "execution_count": 101,
   "metadata": {},
   "outputs": [],
   "source": [
    "del sevent_fq_sql"
   ]
  },
  {
   "cell_type": "code",
   "execution_count": 102,
   "metadata": {},
   "outputs": [],
   "source": [
    "sevent_sq_sql = '''SELECT 'c_Korea',t2.v,'2017sq',t4.v FROM (SELECT max(t1.boxoffice) AS v FROM film44 t1 WHERE t1.c_Korea=1 and mdate <= '2017-06-30'and mdate >='2017-04-01') t2 JOIN (SELECT sum(t3.boxoffice) AS v FROM film44 t3 WHERE t3.c_Korea=1 and mdate <= '2017-06-30'and mdate >='2017-04-01') t4'''"
   ]
  },
  {
   "cell_type": "code",
   "execution_count": 103,
   "metadata": {},
   "outputs": [],
   "source": [
    "exec_sql(sevent_sq_sql)"
   ]
  },
  {
   "cell_type": "code",
   "execution_count": 104,
   "metadata": {},
   "outputs": [],
   "source": [
    "del sevent_sq_sql"
   ]
  },
  {
   "cell_type": "code",
   "execution_count": 105,
   "metadata": {},
   "outputs": [],
   "source": [
    "sevent_tq_sql = '''SELECT 'c_Korea',t2.v,'2017tq',t4.v FROM (SELECT max(t1.boxoffice) AS v FROM film44 t1 WHERE t1.c_Korea=1 and mdate <= '2017-09-30'and mdate >='2017-07-01') t2 JOIN (SELECT sum(t3.boxoffice) AS v FROM film44 t3 WHERE t3.c_Korea=1 and mdate <= '2017-09-30'and mdate >='2017-07-01') t4'''"
   ]
  },
  {
   "cell_type": "code",
   "execution_count": 106,
   "metadata": {},
   "outputs": [],
   "source": [
    "exec_sql(sevent_tq_sql)"
   ]
  },
  {
   "cell_type": "code",
   "execution_count": 107,
   "metadata": {},
   "outputs": [],
   "source": [
    "del sevent_tq_sql"
   ]
  },
  {
   "cell_type": "code",
   "execution_count": 108,
   "metadata": {},
   "outputs": [],
   "source": [
    "sevent_foq_sql = '''SELECT 'c_Korea',t2.v,'2017foq',t4.v FROM (SELECT max(t1.boxoffice) AS v FROM film44 t1 WHERE t1.c_Korea=1 and mdate <= '2017-12-31'and mdate >='2017-10-01') t2 JOIN (SELECT sum(t3.boxoffice) AS v FROM film44 t3 WHERE t3.c_Korea=1 and mdate <= '2017-12-31'and mdate >='2017-10-01') t4'''"
   ]
  },
  {
   "cell_type": "code",
   "execution_count": 109,
   "metadata": {},
   "outputs": [],
   "source": [
    "exec_sql(sevent_foq_sql)"
   ]
  },
  {
   "cell_type": "code",
   "execution_count": 110,
   "metadata": {},
   "outputs": [],
   "source": [
    "del sevent_foq_sql"
   ]
  },
  {
   "cell_type": "code",
   "execution_count": 111,
   "metadata": {},
   "outputs": [],
   "source": [
    "eighte_fq_sql = '''SELECT 'c_Korea',t2.v,'2018fq',t4.v FROM (SELECT max(t1.boxoffice) AS v FROM film44 t1 WHERE t1.c_Korea=1 and mdate <= '2018-03-31'and mdate >='2018-01-01') t2 JOIN (SELECT sum(t3.boxoffice) AS v FROM film44 t3 WHERE t3.c_Korea=1 and mdate <= '2018-03-31'and mdate >='2018-01-01') t4'''"
   ]
  },
  {
   "cell_type": "code",
   "execution_count": 112,
   "metadata": {},
   "outputs": [],
   "source": [
    "exec_sql(eighte_fq_sql)"
   ]
  },
  {
   "cell_type": "code",
   "execution_count": 113,
   "metadata": {},
   "outputs": [],
   "source": [
    "del eighte_fq_sql"
   ]
  },
  {
   "cell_type": "code",
   "execution_count": 114,
   "metadata": {},
   "outputs": [],
   "source": [
    "eighte_sq_sql = '''SELECT 'c_Korea',t2.v,'2018sq',t4.v FROM (SELECT max(t1.boxoffice) AS v FROM film44 t1 WHERE t1.c_Korea=1 and mdate <= '2018-06-30'and mdate >='2018-04-01') t2 JOIN (SELECT sum(t3.boxoffice) AS v FROM film44 t3 WHERE t3.c_Korea=1 and mdate <= '2018-06-30'and mdate >='2018-04-01') t4'''"
   ]
  },
  {
   "cell_type": "code",
   "execution_count": 115,
   "metadata": {},
   "outputs": [],
   "source": [
    "exec_sql(eighte_sq_sql)"
   ]
  },
  {
   "cell_type": "code",
   "execution_count": 116,
   "metadata": {},
   "outputs": [],
   "source": [
    "del eighte_sq_sql"
   ]
  },
  {
   "cell_type": "code",
   "execution_count": 117,
   "metadata": {},
   "outputs": [],
   "source": [
    "eighte_tq_sql = '''SELECT 'c_Korea',t2.v,'2018tq',t4.v FROM (SELECT max(t1.boxoffice) AS v FROM film44 t1 WHERE t1.c_Korea=1 and mdate <= '2018-09-30'and mdate >='2018-07-01') t2 JOIN (SELECT sum(t3.boxoffice) AS v FROM film44 t3 WHERE t3.c_Korea=1 and mdate <= '2018-09-30'and mdate >='2018-07-01') t4'''"
   ]
  },
  {
   "cell_type": "code",
   "execution_count": 118,
   "metadata": {},
   "outputs": [],
   "source": [
    "exec_sql(eighte_tq_sql)"
   ]
  },
  {
   "cell_type": "code",
   "execution_count": 119,
   "metadata": {},
   "outputs": [],
   "source": [
    "del eighte_tq_sql"
   ]
  },
  {
   "cell_type": "code",
   "execution_count": 120,
   "metadata": {},
   "outputs": [],
   "source": [
    "eighte_foq_sql = '''SELECT 'c_Korea',t2.v,'2018foq',t4.v FROM (SELECT max(t1.boxoffice) AS v FROM film44 t1 WHERE t1.c_Korea=1 and mdate <= '2018-12-31'and mdate >='2018-10-01') t2 JOIN (SELECT sum(t3.boxoffice) AS v FROM film44 t3 WHERE t3.c_Korea=1 and mdate <= '2018-12-31'and mdate >='2018-10-01') t4'''"
   ]
  },
  {
   "cell_type": "code",
   "execution_count": 121,
   "metadata": {},
   "outputs": [],
   "source": [
    "exec_sql(eighte_foq_sql)"
   ]
  },
  {
   "cell_type": "code",
   "execution_count": 122,
   "metadata": {},
   "outputs": [],
   "source": [
    "del eighte_foq_sql"
   ]
  },
  {
   "cell_type": "markdown",
   "metadata": {},
   "source": [
    "# 日本"
   ]
  },
  {
   "cell_type": "code",
   "execution_count": 123,
   "metadata": {},
   "outputs": [],
   "source": [
    "sixt_fq_sql = '''SELECT 'c_Japan',t2.v,'2016fq',t4.v FROM (SELECT max(t1.boxoffice) AS v FROM film44 t1 WHERE t1.c_Japan=1 and mdate <= '2016-03-31'and mdate >='2016-01-01') t2 JOIN (SELECT sum(t3.boxoffice) AS v FROM film44 t3 WHERE t3.c_Japan=1 and mdate <= '2016-03-31'and mdate >='2016-01-01') t4'''"
   ]
  },
  {
   "cell_type": "code",
   "execution_count": 124,
   "metadata": {},
   "outputs": [],
   "source": [
    "exec_sql(sixt_fq_sql)"
   ]
  },
  {
   "cell_type": "code",
   "execution_count": 125,
   "metadata": {},
   "outputs": [],
   "source": [
    "del sixt_fq_sql"
   ]
  },
  {
   "cell_type": "code",
   "execution_count": 126,
   "metadata": {},
   "outputs": [],
   "source": [
    "sixt_sq_sql = '''SELECT 'c_Japan',t2.v,'2016sq',t4.v FROM (SELECT max(t1.boxoffice) AS v FROM film44 t1 WHERE t1.c_Japan=1 and mdate <= '2016-06-30'and mdate >='2016-04-01') t2 JOIN (SELECT sum(t3.boxoffice) AS v FROM film44 t3 WHERE t3.c_Japan=1 and mdate <= '2016-06-30'and mdate >='2016-04-01') t4'''"
   ]
  },
  {
   "cell_type": "code",
   "execution_count": 127,
   "metadata": {},
   "outputs": [],
   "source": [
    "exec_sql(sixt_sq_sql)"
   ]
  },
  {
   "cell_type": "code",
   "execution_count": 128,
   "metadata": {},
   "outputs": [],
   "source": [
    "del sixt_sq_sql"
   ]
  },
  {
   "cell_type": "code",
   "execution_count": 135,
   "metadata": {},
   "outputs": [],
   "source": [
    "sixt_tq_sql = '''SELECT 'c_Japan',t2.v,'2016tq',t4.v FROM (SELECT max(t1.boxoffice) AS v FROM film44 t1 WHERE t1.c_Japan=1 and mdate <= '2016-09-30'and mdate >='2016-07-01') t2 JOIN (SELECT sum(t3.boxoffice) AS v FROM film44 t3 WHERE t3.c_Japan=1 and mdate <= '2016-09-30'and mdate >='2016-07-01') t4'''"
   ]
  },
  {
   "cell_type": "code",
   "execution_count": 130,
   "metadata": {},
   "outputs": [],
   "source": [
    "exec_sql(sixt_tq_sql)"
   ]
  },
  {
   "cell_type": "code",
   "execution_count": 131,
   "metadata": {},
   "outputs": [],
   "source": [
    "del sixt_tq_sql"
   ]
  },
  {
   "cell_type": "code",
   "execution_count": 132,
   "metadata": {},
   "outputs": [],
   "source": [
    "sixt_foq_sql = '''SELECT 'c_Japan',t2.v,'2016foq',t4.v FROM (SELECT max(t1.boxoffice) AS v FROM film44 t1 WHERE t1.c_Japan=1 and mdate <= '2016-12-31'and mdate >='2016-10-01') t2 JOIN (SELECT sum(t3.boxoffice) AS v FROM film44 t3 WHERE t3.c_Japan=1 and mdate <= '2016-12-31'and mdate >='2016-10-01') t4'''"
   ]
  },
  {
   "cell_type": "code",
   "execution_count": 133,
   "metadata": {},
   "outputs": [],
   "source": [
    "exec_sql(sixt_foq_sql)"
   ]
  },
  {
   "cell_type": "code",
   "execution_count": 134,
   "metadata": {},
   "outputs": [],
   "source": [
    "del sixt_foq_sql"
   ]
  },
  {
   "cell_type": "code",
   "execution_count": 136,
   "metadata": {},
   "outputs": [],
   "source": [
    "sevent_fq_sql = '''SELECT 'c_Japan',t2.v,'2017fq',t4.v FROM (SELECT max(t1.boxoffice) AS v FROM film44 t1 WHERE t1.c_Japan=1 and mdate <= '2017-03-31'and mdate >='2017-01-01') t2 JOIN (SELECT sum(t3.boxoffice) AS v FROM film44 t3 WHERE t3.c_Japan=1 and mdate <= '2017-03-31'and mdate >='2017-01-01') t4'''"
   ]
  },
  {
   "cell_type": "code",
   "execution_count": 137,
   "metadata": {},
   "outputs": [],
   "source": [
    "exec_sql(sevent_fq_sql)"
   ]
  },
  {
   "cell_type": "code",
   "execution_count": 138,
   "metadata": {},
   "outputs": [],
   "source": [
    "del sevent_fq_sql"
   ]
  },
  {
   "cell_type": "code",
   "execution_count": 139,
   "metadata": {},
   "outputs": [],
   "source": [
    "sevent_sq_sql = '''SELECT 'c_Japan',t2.v,'2017sq',t4.v FROM (SELECT max(t1.boxoffice) AS v FROM film44 t1 WHERE t1.c_Japan=1 and mdate <= '2017-06-30'and mdate >='2017-04-01') t2 JOIN (SELECT sum(t3.boxoffice) AS v FROM film44 t3 WHERE t3.c_Japan=1 and mdate <= '2017-06-30'and mdate >='2017-04-01') t4'''"
   ]
  },
  {
   "cell_type": "code",
   "execution_count": 140,
   "metadata": {},
   "outputs": [],
   "source": [
    "exec_sql(sevent_sq_sql)"
   ]
  },
  {
   "cell_type": "code",
   "execution_count": 141,
   "metadata": {},
   "outputs": [],
   "source": [
    "del sevent_sq_sql"
   ]
  },
  {
   "cell_type": "code",
   "execution_count": 142,
   "metadata": {},
   "outputs": [],
   "source": [
    "sevent_tq_sql = '''SELECT 'c_Japan',t2.v,'2017tq',t4.v FROM (SELECT max(t1.boxoffice) AS v FROM film44 t1 WHERE t1.c_Japan=1 and mdate <= '2017-09-30'and mdate >='2017-07-01') t2 JOIN (SELECT sum(t3.boxoffice) AS v FROM film44 t3 WHERE t3.c_Japan=1 and mdate <= '2017-09-30'and mdate >='2017-07-01') t4'''"
   ]
  },
  {
   "cell_type": "code",
   "execution_count": 143,
   "metadata": {},
   "outputs": [],
   "source": [
    "exec_sql(sevent_tq_sql)"
   ]
  },
  {
   "cell_type": "code",
   "execution_count": 144,
   "metadata": {},
   "outputs": [],
   "source": [
    "del sevent_tq_sql"
   ]
  },
  {
   "cell_type": "code",
   "execution_count": 145,
   "metadata": {},
   "outputs": [],
   "source": [
    "sevent_foq_sql = '''SELECT 'c_Japan',t2.v,'2017foq',t4.v FROM (SELECT max(t1.boxoffice) AS v FROM film44 t1 WHERE t1.c_Japan=1 and mdate <= '2017-12-31'and mdate >='2017-10-01') t2 JOIN (SELECT sum(t3.boxoffice) AS v FROM film44 t3 WHERE t3.c_Japan=1 and mdate <= '2017-12-31'and mdate >='2017-10-01') t4'''"
   ]
  },
  {
   "cell_type": "code",
   "execution_count": 146,
   "metadata": {},
   "outputs": [],
   "source": [
    "exec_sql(sevent_foq_sql)"
   ]
  },
  {
   "cell_type": "code",
   "execution_count": 147,
   "metadata": {},
   "outputs": [],
   "source": [
    "del sevent_foq_sql"
   ]
  },
  {
   "cell_type": "code",
   "execution_count": 148,
   "metadata": {},
   "outputs": [],
   "source": [
    "eighte_fq_sql = '''SELECT 'c_Japan',t2.v,'2018fq',t4.v FROM (SELECT max(t1.boxoffice) AS v FROM film44 t1 WHERE t1.c_Japan=1 and mdate <= '2018-03-31'and mdate >='2018-01-01') t2 JOIN (SELECT sum(t3.boxoffice) AS v FROM film44 t3 WHERE t3.c_Japan=1 and mdate <= '2018-03-31'and mdate >='2018-01-01') t4'''"
   ]
  },
  {
   "cell_type": "code",
   "execution_count": 149,
   "metadata": {},
   "outputs": [],
   "source": [
    "exec_sql(eighte_fq_sql)"
   ]
  },
  {
   "cell_type": "code",
   "execution_count": 150,
   "metadata": {},
   "outputs": [],
   "source": [
    "del eighte_fq_sql"
   ]
  },
  {
   "cell_type": "code",
   "execution_count": 151,
   "metadata": {},
   "outputs": [],
   "source": [
    "eighte_sq_sql = '''SELECT 'c_Japan',t2.v,'2018sq',t4.v FROM (SELECT max(t1.boxoffice) AS v FROM film44 t1 WHERE t1.c_Japan=1 and mdate <= '2018-06-30'and mdate >='2018-04-01') t2 JOIN (SELECT sum(t3.boxoffice) AS v FROM film44 t3 WHERE t3.c_Japan=1 and mdate <= '2018-06-30'and mdate >='2018-04-01') t4'''"
   ]
  },
  {
   "cell_type": "code",
   "execution_count": 152,
   "metadata": {},
   "outputs": [],
   "source": [
    "exec_sql(eighte_sq_sql)"
   ]
  },
  {
   "cell_type": "code",
   "execution_count": 153,
   "metadata": {},
   "outputs": [],
   "source": [
    "del eighte_sq_sql"
   ]
  },
  {
   "cell_type": "code",
   "execution_count": 154,
   "metadata": {},
   "outputs": [],
   "source": [
    "eighte_tq_sql = '''SELECT 'c_Japan',t2.v,'2018tq',t4.v FROM (SELECT max(t1.boxoffice) AS v FROM film44 t1 WHERE t1.c_Japan=1 and mdate <= '2018-09-30'and mdate >='2018-07-01') t2 JOIN (SELECT sum(t3.boxoffice) AS v FROM film44 t3 WHERE t3.c_Japan=1 and mdate <= '2018-09-30'and mdate >='2018-07-01') t4'''"
   ]
  },
  {
   "cell_type": "code",
   "execution_count": 155,
   "metadata": {},
   "outputs": [],
   "source": [
    "exec_sql(eighte_tq_sql)"
   ]
  },
  {
   "cell_type": "code",
   "execution_count": 156,
   "metadata": {},
   "outputs": [],
   "source": [
    "del eighte_tq_sql"
   ]
  },
  {
   "cell_type": "code",
   "execution_count": 157,
   "metadata": {},
   "outputs": [],
   "source": [
    "eighte_foq_sql = '''SELECT 'c_Japan',t2.v,'2018foq',t4.v FROM (SELECT max(t1.boxoffice) AS v FROM film44 t1 WHERE t1.c_Japan=1 and mdate <= '2018-12-31'and mdate >='2018-10-01') t2 JOIN (SELECT sum(t3.boxoffice) AS v FROM film44 t3 WHERE t3.c_Japan=1 and mdate <= '2018-12-31'and mdate >='2018-10-01') t4'''"
   ]
  },
  {
   "cell_type": "code",
   "execution_count": 158,
   "metadata": {},
   "outputs": [],
   "source": [
    "exec_sql(eighte_foq_sql)"
   ]
  },
  {
   "cell_type": "code",
   "execution_count": 159,
   "metadata": {},
   "outputs": [],
   "source": [
    "del eighte_foq_sql"
   ]
  },
  {
   "cell_type": "markdown",
   "metadata": {},
   "source": [
    "# 香港"
   ]
  },
  {
   "cell_type": "code",
   "execution_count": 160,
   "metadata": {},
   "outputs": [],
   "source": [
    "sixt_fq_sql = '''SELECT 'c_Hongkong',t2.v,'2016fq',t4.v FROM (SELECT max(t1.boxoffice) AS v FROM film44 t1 WHERE t1.c_Hongkong=1 and mdate <= '2016-03-31'and mdate >='2016-01-01') t2 JOIN (SELECT sum(t3.boxoffice) AS v FROM film44 t3 WHERE t3.c_Hongkong=1 and mdate <= '2016-03-31'and mdate >='2016-01-01') t4'''"
   ]
  },
  {
   "cell_type": "code",
   "execution_count": 161,
   "metadata": {},
   "outputs": [],
   "source": [
    "exec_sql(sixt_fq_sql)"
   ]
  },
  {
   "cell_type": "code",
   "execution_count": 162,
   "metadata": {},
   "outputs": [],
   "source": [
    "del sixt_fq_sql"
   ]
  },
  {
   "cell_type": "code",
   "execution_count": 163,
   "metadata": {},
   "outputs": [],
   "source": [
    "sixt_sq_sql = '''SELECT 'c_Hongkong',t2.v,'2016sq',t4.v FROM (SELECT max(t1.boxoffice) AS v FROM film44 t1 WHERE t1.c_Hongkong=1 and mdate <= '2016-06-30'and mdate >='2016-04-01') t2 JOIN (SELECT sum(t3.boxoffice) AS v FROM film44 t3 WHERE t3.c_Hongkong=1 and mdate <= '2016-06-30'and mdate >='2016-04-01') t4'''"
   ]
  },
  {
   "cell_type": "code",
   "execution_count": 164,
   "metadata": {},
   "outputs": [],
   "source": [
    "exec_sql(sixt_sq_sql)"
   ]
  },
  {
   "cell_type": "code",
   "execution_count": 165,
   "metadata": {},
   "outputs": [],
   "source": [
    "del sixt_sq_sql"
   ]
  },
  {
   "cell_type": "code",
   "execution_count": 166,
   "metadata": {},
   "outputs": [],
   "source": [
    "sixt_tq_sql = '''SELECT 'c_Hongkong',t2.v,'2016tq',t4.v FROM (SELECT max(t1.boxoffice) AS v FROM film44 t1 WHERE t1.c_Hongkong=1 and mdate <= '2016-09-30'and mdate >='2016-07-01') t2 JOIN (SELECT sum(t3.boxoffice) AS v FROM film44 t3 WHERE t3.c_Hongkong=1 and mdate <= '2016-09-30'and mdate >='2016-07-01') t4'''"
   ]
  },
  {
   "cell_type": "code",
   "execution_count": 167,
   "metadata": {},
   "outputs": [],
   "source": [
    "exec_sql(sixt_tq_sql)"
   ]
  },
  {
   "cell_type": "code",
   "execution_count": 168,
   "metadata": {},
   "outputs": [],
   "source": [
    "del sixt_tq_sql"
   ]
  },
  {
   "cell_type": "code",
   "execution_count": 169,
   "metadata": {},
   "outputs": [],
   "source": [
    "sixt_foq_sql = '''SELECT 'c_Hongkong',t2.v,'2016foq',t4.v FROM (SELECT max(t1.boxoffice) AS v FROM film44 t1 WHERE t1.c_Hongkong=1 and mdate <= '2016-12-31'and mdate >='2016-10-01') t2 JOIN (SELECT sum(t3.boxoffice) AS v FROM film44 t3 WHERE t3.c_Hongkong=1 and mdate <= '2016-12-31'and mdate >='2016-10-01') t4'''"
   ]
  },
  {
   "cell_type": "code",
   "execution_count": 170,
   "metadata": {},
   "outputs": [],
   "source": [
    "exec_sql(sixt_foq_sql)"
   ]
  },
  {
   "cell_type": "code",
   "execution_count": 171,
   "metadata": {},
   "outputs": [],
   "source": [
    "del sixt_foq_sql"
   ]
  },
  {
   "cell_type": "code",
   "execution_count": 172,
   "metadata": {},
   "outputs": [],
   "source": [
    "sevent_fq_sql = '''SELECT 'c_Hongkong',t2.v,'2017fq',t4.v FROM (SELECT max(t1.boxoffice) AS v FROM film44 t1 WHERE t1.c_Hongkong=1 and mdate <= '2017-03-31'and mdate >='2017-01-01') t2 JOIN (SELECT sum(t3.boxoffice) AS v FROM film44 t3 WHERE t3.c_Hongkong=1 and mdate <= '2017-03-31'and mdate >='2017-01-01') t4'''"
   ]
  },
  {
   "cell_type": "code",
   "execution_count": 173,
   "metadata": {},
   "outputs": [],
   "source": [
    "exec_sql(sevent_fq_sql)"
   ]
  },
  {
   "cell_type": "code",
   "execution_count": 174,
   "metadata": {},
   "outputs": [],
   "source": [
    "del sevent_fq_sql"
   ]
  },
  {
   "cell_type": "code",
   "execution_count": 175,
   "metadata": {},
   "outputs": [],
   "source": [
    "sevent_sq_sql = '''SELECT 'c_Hongkong',t2.v,'2017sq',t4.v FROM (SELECT max(t1.boxoffice) AS v FROM film44 t1 WHERE t1.c_Hongkong=1 and mdate <= '2017-06-30'and mdate >='2017-04-01') t2 JOIN (SELECT sum(t3.boxoffice) AS v FROM film44 t3 WHERE t3.c_Hongkong=1 and mdate <= '2017-06-30'and mdate >='2017-04-01') t4'''"
   ]
  },
  {
   "cell_type": "code",
   "execution_count": 176,
   "metadata": {},
   "outputs": [],
   "source": [
    "exec_sql(sevent_sq_sql)"
   ]
  },
  {
   "cell_type": "code",
   "execution_count": 177,
   "metadata": {},
   "outputs": [],
   "source": [
    "del sevent_sq_sql"
   ]
  },
  {
   "cell_type": "code",
   "execution_count": 178,
   "metadata": {},
   "outputs": [],
   "source": [
    "sevent_tq_sql = '''SELECT 'c_Hongkong',t2.v,'2017tq',t4.v FROM (SELECT max(t1.boxoffice) AS v FROM film44 t1 WHERE t1.c_Hongkong=1 and mdate <= '2017-09-30'and mdate >='2017-07-01') t2 JOIN (SELECT sum(t3.boxoffice) AS v FROM film44 t3 WHERE t3.c_Hongkong=1 and mdate <= '2017-09-30'and mdate >='2017-07-01') t4'''"
   ]
  },
  {
   "cell_type": "code",
   "execution_count": 179,
   "metadata": {},
   "outputs": [],
   "source": [
    "exec_sql(sevent_tq_sql)"
   ]
  },
  {
   "cell_type": "code",
   "execution_count": 180,
   "metadata": {},
   "outputs": [],
   "source": [
    "del sevent_tq_sql"
   ]
  },
  {
   "cell_type": "code",
   "execution_count": 198,
   "metadata": {},
   "outputs": [],
   "source": [
    "sevent_foq_sql = '''SELECT 'c_Hongkong',t2.v,'2017foq',t4.v FROM (SELECT max(t1.boxoffice) AS v FROM film44 t1 WHERE t1.c_Hongkong=1 and mdate <= '2017-12-31'and mdate >='2017-10-01') t2 JOIN (SELECT sum(t3.boxoffice) AS v FROM film44 t3 WHERE t3.c_Hongkong=1 and mdate <= '2017-12-31'and mdate >='2017-10-01') t4'''"
   ]
  },
  {
   "cell_type": "code",
   "execution_count": 199,
   "metadata": {},
   "outputs": [],
   "source": [
    "exec_sql(sevent_foq_sql)"
   ]
  },
  {
   "cell_type": "code",
   "execution_count": 183,
   "metadata": {},
   "outputs": [],
   "source": [
    "del sevent_foq_sql"
   ]
  },
  {
   "cell_type": "code",
   "execution_count": 200,
   "metadata": {},
   "outputs": [],
   "source": [
    "eighte_fq_sql = '''SELECT 'c_Hongkong',t2.v,'2018fq',t4.v FROM (SELECT max(t1.boxoffice) AS v FROM film44 t1 WHERE t1.c_Hongkong=1 and mdate <= '2018-03-31'and mdate >='2018-01-01') t2 JOIN (SELECT sum(t3.boxoffice) AS v FROM film44 t3 WHERE t3.c_Hongkong=1 and mdate <= '2018-03-31'and mdate >='2018-01-01') t4'''"
   ]
  },
  {
   "cell_type": "code",
   "execution_count": 201,
   "metadata": {},
   "outputs": [],
   "source": [
    "exec_sql(eighte_fq_sql)"
   ]
  },
  {
   "cell_type": "code",
   "execution_count": 202,
   "metadata": {},
   "outputs": [],
   "source": [
    "del eighte_fq_sql"
   ]
  },
  {
   "cell_type": "code",
   "execution_count": 203,
   "metadata": {},
   "outputs": [],
   "source": [
    "eighte_sq_sql = '''SELECT 'c_Hongkong',t2.v,'2018sq',t4.v FROM (SELECT max(t1.boxoffice) AS v FROM film44 t1 WHERE t1.c_Hongkong=1 and mdate <= '2018-06-30'and mdate >='2018-04-01') t2 JOIN (SELECT sum(t3.boxoffice) AS v FROM film44 t3 WHERE t3.c_Hongkong=1 and mdate <= '2018-06-30'and mdate >='2018-04-01') t4'''"
   ]
  },
  {
   "cell_type": "code",
   "execution_count": 204,
   "metadata": {},
   "outputs": [],
   "source": [
    "exec_sql(eighte_sq_sql)"
   ]
  },
  {
   "cell_type": "code",
   "execution_count": 205,
   "metadata": {},
   "outputs": [],
   "source": [
    "del eighte_sq_sql"
   ]
  },
  {
   "cell_type": "code",
   "execution_count": 206,
   "metadata": {},
   "outputs": [],
   "source": [
    "eighte_tq_sql = '''SELECT 'c_Hongkong',t2.v,'2018tq',t4.v FROM (SELECT max(t1.boxoffice) AS v FROM film44 t1 WHERE t1.c_Hongkong=1 and mdate <= '2018-09-30'and mdate >='2018-07-01') t2 JOIN (SELECT sum(t3.boxoffice) AS v FROM film44 t3 WHERE t3.c_Hongkong=1 and mdate <= '2018-09-30'and mdate >='2018-07-01') t4'''"
   ]
  },
  {
   "cell_type": "code",
   "execution_count": 207,
   "metadata": {},
   "outputs": [],
   "source": [
    "exec_sql(eighte_tq_sql)"
   ]
  },
  {
   "cell_type": "code",
   "execution_count": 208,
   "metadata": {},
   "outputs": [],
   "source": [
    "del eighte_tq_sql"
   ]
  },
  {
   "cell_type": "code",
   "execution_count": 209,
   "metadata": {},
   "outputs": [],
   "source": [
    "eighte_foq_sql = '''SELECT 'c_Hongkong',t2.v,'2018foq',t4.v FROM (SELECT max(t1.boxoffice) AS v FROM film44 t1 WHERE t1.c_Hongkong=1 and mdate <= '2018-12-31'and mdate >='2018-10-01') t2 JOIN (SELECT sum(t3.boxoffice) AS v FROM film44 t3 WHERE t3.c_Hongkong=1 and mdate <= '2018-12-31'and mdate >='2018-10-01') t4'''"
   ]
  },
  {
   "cell_type": "code",
   "execution_count": 210,
   "metadata": {},
   "outputs": [],
   "source": [
    "exec_sql(eighte_foq_sql)"
   ]
  },
  {
   "cell_type": "code",
   "execution_count": 211,
   "metadata": {},
   "outputs": [],
   "source": [
    "del eighte_foq_sql"
   ]
  },
  {
   "cell_type": "markdown",
   "metadata": {},
   "source": [
    "# 台湾"
   ]
  },
  {
   "cell_type": "code",
   "execution_count": 212,
   "metadata": {},
   "outputs": [],
   "source": [
    "sixt_fq_sql = '''SELECT 'c_Taiwan',t2.v,'2016fq',t4.v FROM (SELECT max(t1.boxoffice) AS v FROM film44 t1 WHERE t1.c_Taiwan=1 and mdate <= '2016-03-31'and mdate >='2016-01-01') t2 JOIN (SELECT sum(t3.boxoffice) AS v FROM film44 t3 WHERE t3.c_Taiwan=1  and mdate <= '2016-03-31'and mdate >='2016-01-01') t4'''"
   ]
  },
  {
   "cell_type": "code",
   "execution_count": 213,
   "metadata": {},
   "outputs": [],
   "source": [
    "exec_sql(sixt_fq_sql)"
   ]
  },
  {
   "cell_type": "code",
   "execution_count": 214,
   "metadata": {},
   "outputs": [],
   "source": [
    "del sixt_fq_sql"
   ]
  },
  {
   "cell_type": "code",
   "execution_count": 215,
   "metadata": {},
   "outputs": [],
   "source": [
    "sixt_sq_sql = '''SELECT 'c_Taiwan',t2.v,'2016sq',t4.v FROM (SELECT max(t1.boxoffice) AS v FROM film44 t1 WHERE t1.c_Taiwan=1 and mdate <= '2016-06-30'and mdate >='2016-04-01') t2 JOIN (SELECT sum(t3.boxoffice) AS v FROM film44 t3 WHERE t3.c_Taiwan=1 and mdate <= '2016-06-30'and mdate >='2016-04-01') t4'''"
   ]
  },
  {
   "cell_type": "code",
   "execution_count": 216,
   "metadata": {},
   "outputs": [],
   "source": [
    "exec_sql(sixt_sq_sql)"
   ]
  },
  {
   "cell_type": "code",
   "execution_count": 217,
   "metadata": {},
   "outputs": [],
   "source": [
    "del sixt_sq_sql"
   ]
  },
  {
   "cell_type": "code",
   "execution_count": 218,
   "metadata": {},
   "outputs": [],
   "source": [
    "sixt_tq_sql = '''SELECT 'c_Taiwan',t2.v,'2016tq',t4.v FROM (SELECT max(t1.boxoffice) AS v FROM film44 t1 WHERE t1.c_Taiwan=1 and mdate <= '2016-09-30'and mdate >='2016-07-01') t2 JOIN (SELECT sum(t3.boxoffice) AS v FROM film44 t3 WHERE t3.c_Taiwan=1 and mdate <= '2016-09-30'and mdate >='2016-07-01') t4'''"
   ]
  },
  {
   "cell_type": "code",
   "execution_count": 219,
   "metadata": {},
   "outputs": [],
   "source": [
    "exec_sql(sixt_tq_sql)"
   ]
  },
  {
   "cell_type": "code",
   "execution_count": 220,
   "metadata": {},
   "outputs": [],
   "source": [
    "del sixt_tq_sql"
   ]
  },
  {
   "cell_type": "code",
   "execution_count": 221,
   "metadata": {},
   "outputs": [],
   "source": [
    "sixt_foq_sql = '''SELECT 'c_Taiwan',t2.v,'2016foq',t4.v FROM (SELECT max(t1.boxoffice) AS v FROM film44 t1 WHERE t1.c_Taiwan=1 and mdate <= '2016-12-31'and mdate >='2016-10-01') t2 JOIN (SELECT sum(t3.boxoffice) AS v FROM film44 t3 WHERE t3.c_Taiwan=1 and mdate <= '2016-12-31'and mdate >='2016-10-01') t4'''"
   ]
  },
  {
   "cell_type": "code",
   "execution_count": 222,
   "metadata": {},
   "outputs": [],
   "source": [
    "exec_sql(sixt_foq_sql)"
   ]
  },
  {
   "cell_type": "code",
   "execution_count": 223,
   "metadata": {},
   "outputs": [],
   "source": [
    "del sixt_foq_sql"
   ]
  },
  {
   "cell_type": "code",
   "execution_count": 224,
   "metadata": {},
   "outputs": [],
   "source": [
    "sevent_fq_sql = '''SELECT 'c_Taiwan',t2.v,'2017fq',t4.v FROM (SELECT max(t1.boxoffice) AS v FROM film44 t1 WHERE t1.c_Taiwan=1 and mdate <= '2017-03-31'and mdate >='2017-01-01') t2 JOIN (SELECT sum(t3.boxoffice) AS v FROM film44 t3 WHERE t3.c_Taiwan=1 and mdate <= '2017-03-31'and mdate >='2017-01-01') t4'''"
   ]
  },
  {
   "cell_type": "code",
   "execution_count": 225,
   "metadata": {},
   "outputs": [],
   "source": [
    "exec_sql(sevent_fq_sql)"
   ]
  },
  {
   "cell_type": "code",
   "execution_count": 226,
   "metadata": {},
   "outputs": [],
   "source": [
    "del sevent_fq_sql"
   ]
  },
  {
   "cell_type": "code",
   "execution_count": 227,
   "metadata": {},
   "outputs": [],
   "source": [
    "sevent_sq_sql = '''SELECT 'c_Taiwan',t2.v,'2017sq',t4.v FROM (SELECT max(t1.boxoffice) AS v FROM film44 t1 WHERE t1.c_Taiwan=1 and mdate <= '2017-06-30'and mdate >='2017-04-01') t2 JOIN (SELECT sum(t3.boxoffice) AS v FROM film44 t3 WHERE t3.c_Taiwan=1 and mdate <= '2017-06-30'and mdate >='2017-04-01') t4'''"
   ]
  },
  {
   "cell_type": "code",
   "execution_count": 228,
   "metadata": {},
   "outputs": [],
   "source": [
    "exec_sql(sevent_sq_sql)"
   ]
  },
  {
   "cell_type": "code",
   "execution_count": 229,
   "metadata": {},
   "outputs": [],
   "source": [
    "del sevent_sq_sql"
   ]
  },
  {
   "cell_type": "code",
   "execution_count": 230,
   "metadata": {},
   "outputs": [],
   "source": [
    "sevent_tq_sql = '''SELECT 'c_Taiwan',t2.v,'2017tq',t4.v FROM (SELECT max(t1.boxoffice) AS v FROM film44 t1 WHERE t1.c_Taiwan=1 and mdate <= '2017-09-30'and mdate >='2017-07-01') t2 JOIN (SELECT sum(t3.boxoffice) AS v FROM film44 t3 WHERE t3.c_Taiwan=1 and mdate <= '2017-09-30'and mdate >='2017-07-01') t4'''"
   ]
  },
  {
   "cell_type": "code",
   "execution_count": 231,
   "metadata": {},
   "outputs": [],
   "source": [
    "exec_sql(sevent_tq_sql)"
   ]
  },
  {
   "cell_type": "code",
   "execution_count": 232,
   "metadata": {},
   "outputs": [],
   "source": [
    "del sevent_tq_sql"
   ]
  },
  {
   "cell_type": "code",
   "execution_count": 233,
   "metadata": {},
   "outputs": [],
   "source": [
    "sevent_foq_sql = '''SELECT 'c_Taiwan',t2.v,'2017foq',t4.v FROM (SELECT max(t1.boxoffice) AS v FROM film44 t1 WHERE t1.c_Taiwan=1 and mdate <= '2017-12-31'and mdate >='2017-10-01') t2 JOIN (SELECT sum(t3.boxoffice) AS v FROM film44 t3 WHERE t3.c_Taiwan=1 and mdate <= '2017-12-31'and mdate >='2017-10-01') t4'''"
   ]
  },
  {
   "cell_type": "code",
   "execution_count": 234,
   "metadata": {},
   "outputs": [],
   "source": [
    "exec_sql(sevent_foq_sql)"
   ]
  },
  {
   "cell_type": "code",
   "execution_count": 235,
   "metadata": {},
   "outputs": [],
   "source": [
    "del sevent_foq_sql"
   ]
  },
  {
   "cell_type": "code",
   "execution_count": 236,
   "metadata": {},
   "outputs": [],
   "source": [
    "eighte_fq_sql = '''SELECT 'c_Taiwan',t2.v,'2018fq',t4.v FROM (SELECT max(t1.boxoffice) AS v FROM film44 t1 WHERE t1.c_Taiwan=1 and mdate <= '2018-03-31'and mdate >='2018-01-01') t2 JOIN (SELECT sum(t3.boxoffice) AS v FROM film44 t3 WHERE t3.c_Taiwan=1 and mdate <= '2018-03-31'and mdate >='2018-01-01') t4'''"
   ]
  },
  {
   "cell_type": "code",
   "execution_count": 237,
   "metadata": {},
   "outputs": [],
   "source": [
    "exec_sql(eighte_fq_sql)"
   ]
  },
  {
   "cell_type": "code",
   "execution_count": 238,
   "metadata": {},
   "outputs": [],
   "source": [
    "del eighte_fq_sql"
   ]
  },
  {
   "cell_type": "code",
   "execution_count": 239,
   "metadata": {},
   "outputs": [],
   "source": [
    "eighte_sq_sql = '''SELECT 'c_Taiwan',t2.v,'2018sq',t4.v FROM (SELECT max(t1.boxoffice) AS v FROM film44 t1 WHERE t1.c_Taiwan=1 and mdate <= '2018-06-30'and mdate >='2018-04-01') t2 JOIN (SELECT sum(t3.boxoffice) AS v FROM film44 t3 WHERE t3.c_Taiwan=1 and mdate <= '2018-06-30'and mdate >='2018-04-01') t4'''"
   ]
  },
  {
   "cell_type": "code",
   "execution_count": 240,
   "metadata": {},
   "outputs": [],
   "source": [
    "exec_sql(eighte_sq_sql)"
   ]
  },
  {
   "cell_type": "code",
   "execution_count": 241,
   "metadata": {},
   "outputs": [],
   "source": [
    "del eighte_sq_sql"
   ]
  },
  {
   "cell_type": "code",
   "execution_count": 242,
   "metadata": {},
   "outputs": [],
   "source": [
    "eighte_tq_sql = '''SELECT 'c_Taiwan',t2.v,'2018tq',t4.v FROM (SELECT max(t1.boxoffice) AS v FROM film44 t1 WHERE t1.c_Taiwan=1 and mdate <= '2018-09-30'and mdate >='2018-07-01') t2 JOIN (SELECT sum(t3.boxoffice) AS v FROM film44 t3 WHERE t3.c_Taiwan=1 and mdate <= '2018-09-30'and mdate >='2018-07-01') t4'''"
   ]
  },
  {
   "cell_type": "code",
   "execution_count": 243,
   "metadata": {},
   "outputs": [],
   "source": [
    "exec_sql(eighte_tq_sql)"
   ]
  },
  {
   "cell_type": "code",
   "execution_count": 244,
   "metadata": {},
   "outputs": [],
   "source": [
    "del eighte_tq_sql"
   ]
  },
  {
   "cell_type": "code",
   "execution_count": 245,
   "metadata": {},
   "outputs": [],
   "source": [
    "eighte_foq_sql = '''SELECT 'c_Taiwan',t2.v,'2018foq',t4.v FROM (SELECT max(t1.boxoffice) AS v FROM film44 t1 WHERE t1.c_Taiwan=1 and mdate <= '2018-12-31'and mdate >='2018-10-01') t2 JOIN (SELECT sum(t3.boxoffice) AS v FROM film44 t3 WHERE t3.c_Taiwan=1 and mdate <= '2018-12-31'and mdate >='2018-10-01') t4'''"
   ]
  },
  {
   "cell_type": "code",
   "execution_count": 246,
   "metadata": {},
   "outputs": [],
   "source": [
    "exec_sql(eighte_foq_sql)"
   ]
  },
  {
   "cell_type": "code",
   "execution_count": 247,
   "metadata": {},
   "outputs": [],
   "source": [
    "del eighte_foq_sql"
   ]
  },
  {
   "cell_type": "markdown",
   "metadata": {},
   "source": [
    "# 泰国"
   ]
  },
  {
   "cell_type": "code",
   "execution_count": 248,
   "metadata": {},
   "outputs": [],
   "source": [
    "sixt_fq_sql = '''SELECT 'c_Thailand',t2.v,'2016fq',t4.v FROM (SELECT max(t1.boxoffice) AS v FROM film44 t1 WHERE t1.c_Thailand=1 and mdate <= '2016-03-31'and mdate >='2016-01-01') t2 JOIN (SELECT sum(t3.boxoffice) AS v FROM film44 t3 WHERE t3.c_Thailand=1 and mdate <= '2016-03-31'and mdate >='2016-01-01') t4'''"
   ]
  },
  {
   "cell_type": "code",
   "execution_count": 249,
   "metadata": {},
   "outputs": [],
   "source": [
    "exec_sql(sixt_fq_sql)"
   ]
  },
  {
   "cell_type": "code",
   "execution_count": 250,
   "metadata": {},
   "outputs": [],
   "source": [
    "del sixt_fq_sql"
   ]
  },
  {
   "cell_type": "code",
   "execution_count": 251,
   "metadata": {},
   "outputs": [],
   "source": [
    "sixt_sq_sql = ''' SELECT 'c_Thailand',t2.v,'2016sq',t4.v FROM (SELECT max(t1.boxoffice) AS v FROM film44 t1 WHERE t1.c_Thailand=1 and mdate <= '2016-06-30'and mdate >='2016-04-01') t2 JOIN (SELECT sum(t3.boxoffice) AS v FROM film44 t3 WHERE t3.c_Thailand=1 and mdate <= '2016-06-30'and mdate >='2016-04-01') t4'''"
   ]
  },
  {
   "cell_type": "code",
   "execution_count": 252,
   "metadata": {},
   "outputs": [],
   "source": [
    "exec_sql(sixt_sq_sql)"
   ]
  },
  {
   "cell_type": "code",
   "execution_count": 253,
   "metadata": {},
   "outputs": [],
   "source": [
    "del sixt_sq_sql"
   ]
  },
  {
   "cell_type": "code",
   "execution_count": 254,
   "metadata": {},
   "outputs": [],
   "source": [
    "sixt_tq_sql = '''SELECT 'c_Thailand',t2.v,'2016tq',t4.v FROM (SELECT max(t1.boxoffice) AS v FROM film44 t1 WHERE t1.c_Thailand=1 and mdate <= '2016-09-30'and mdate >='2016-07-01') t2 JOIN (SELECT sum(t3.boxoffice) AS v FROM film44 t3 WHERE t3.c_Thailand=1 and mdate <= '2016-09-30'and mdate >='2016-07-01') t4'''"
   ]
  },
  {
   "cell_type": "code",
   "execution_count": 255,
   "metadata": {},
   "outputs": [],
   "source": [
    "exec_sql(sixt_tq_sql)"
   ]
  },
  {
   "cell_type": "code",
   "execution_count": 256,
   "metadata": {},
   "outputs": [],
   "source": [
    "del sixt_tq_sql"
   ]
  },
  {
   "cell_type": "code",
   "execution_count": 262,
   "metadata": {},
   "outputs": [],
   "source": [
    "sixt_foq_sql = '''SELECT 'c_Thailand',t2.v,'2016foq',t4.v FROM (SELECT max(t1.boxoffice) AS v FROM film44 t1 WHERE t1.c_Thailand=1 and mdate <= '2016-12-31'and mdate >='2016-10-01') t2 JOIN (SELECT sum(t3.boxoffice) AS v FROM film44 t3 WHERE t3.c_Thailand=1 and mdate <= '2016-12-31'and mdate >='2016-10-01') t4'''"
   ]
  },
  {
   "cell_type": "code",
   "execution_count": 258,
   "metadata": {},
   "outputs": [],
   "source": [
    "exec_sql(sixt_foq_sql)"
   ]
  },
  {
   "cell_type": "code",
   "execution_count": 263,
   "metadata": {},
   "outputs": [],
   "source": [
    "del sixt_foq_sql"
   ]
  },
  {
   "cell_type": "code",
   "execution_count": 269,
   "metadata": {},
   "outputs": [],
   "source": [
    "sevent_fq_sql = '''SELECT 'c_Thailand',t2.v,'2017fq',t4.v FROM (SELECT max(t1.boxoffice) AS v FROM film44 t1 WHERE t1.c_Thailand=1 and mdate <= '2017-03-31'and mdate >='2017-01-01') t2 JOIN (SELECT sum(t3.boxoffice) AS v FROM film44 t3 WHERE t3.c_Thailand=1 and mdate <= '2017-03-31'and mdate >='2017-01-01') t4'''"
   ]
  },
  {
   "cell_type": "code",
   "execution_count": 270,
   "metadata": {},
   "outputs": [],
   "source": [
    "exec_sql(sevent_fq_sql)"
   ]
  },
  {
   "cell_type": "code",
   "execution_count": 271,
   "metadata": {},
   "outputs": [],
   "source": [
    "del sevent_fq_sql"
   ]
  },
  {
   "cell_type": "code",
   "execution_count": 272,
   "metadata": {},
   "outputs": [],
   "source": [
    "sevent_sq_sql = '''SELECT 'c_Thailand',t2.v,'2017sq',t4.v FROM (SELECT max(t1.boxoffice) AS v FROM film44 t1 WHERE t1.c_Thailand=1 and mdate <= '2017-06-30'and mdate >='2017-04-01') t2 JOIN (SELECT sum(t3.boxoffice) AS v FROM film44 t3 WHERE t3.c_Thailand=1 and mdate <= '2017-06-30'and mdate >='2017-04-01') t4'''"
   ]
  },
  {
   "cell_type": "code",
   "execution_count": 273,
   "metadata": {},
   "outputs": [],
   "source": [
    "exec_sql(sevent_sq_sql)"
   ]
  },
  {
   "cell_type": "code",
   "execution_count": 274,
   "metadata": {},
   "outputs": [],
   "source": [
    "del sevent_sq_sql"
   ]
  },
  {
   "cell_type": "code",
   "execution_count": 275,
   "metadata": {},
   "outputs": [],
   "source": [
    "sevent_tq_sql = '''SELECT 'c_Thailand',t2.v,'2017tq',t4.v FROM (SELECT max(t1.boxoffice) AS v FROM film44 t1 WHERE t1.c_Thailand=1 and mdate <= '2017-09-30'and mdate >='2017-07-01') t2 JOIN (SELECT sum(t3.boxoffice) AS v FROM film44 t3 WHERE t3.c_Thailand=1 and mdate <= '2017-09-30'and mdate >='2017-07-01') t4'''"
   ]
  },
  {
   "cell_type": "code",
   "execution_count": 276,
   "metadata": {},
   "outputs": [],
   "source": [
    "exec_sql(sevent_tq_sql)"
   ]
  },
  {
   "cell_type": "code",
   "execution_count": 277,
   "metadata": {},
   "outputs": [],
   "source": [
    "del sevent_tq_sql"
   ]
  },
  {
   "cell_type": "code",
   "execution_count": 278,
   "metadata": {},
   "outputs": [],
   "source": [
    "sevent_foq_sql = '''SELECT 'c_Thailand',t2.v,'2017foq',t4.v FROM (SELECT max(t1.boxoffice) AS v FROM film44 t1 WHERE t1.c_Thailand=1 and mdate <= '2017-12-31'and mdate >='2017-10-01') t2 JOIN (SELECT sum(t3.boxoffice) AS v FROM film44 t3 WHERE t3.c_Thailand=1 and mdate <= '2017-12-31'and mdate >='2017-10-01') t4'''"
   ]
  },
  {
   "cell_type": "code",
   "execution_count": 279,
   "metadata": {},
   "outputs": [],
   "source": [
    "exec_sql(sevent_foq_sql)"
   ]
  },
  {
   "cell_type": "code",
   "execution_count": 280,
   "metadata": {},
   "outputs": [],
   "source": [
    "del sevent_foq_sql"
   ]
  },
  {
   "cell_type": "code",
   "execution_count": 281,
   "metadata": {},
   "outputs": [],
   "source": [
    "eighte_fq_sql= '''SELECT 'c_Thailand',t2.v,'2018fq',t4.v FROM (SELECT max(t1.boxoffice) AS v FROM film44 t1 WHERE t1.c_Thailand=1 and mdate <= '2018-03-31'and mdate >='2018-01-01') t2 JOIN (SELECT sum(t3.boxoffice) AS v FROM film44 t3 WHERE t3.c_Thailand=1 and mdate <= '2018-03-31'and mdate >='2018-01-01') t4'''"
   ]
  },
  {
   "cell_type": "code",
   "execution_count": 282,
   "metadata": {},
   "outputs": [],
   "source": [
    "exec_sql(eighte_fq_sql)"
   ]
  },
  {
   "cell_type": "code",
   "execution_count": 283,
   "metadata": {},
   "outputs": [],
   "source": [
    "del eighte_fq_sql"
   ]
  },
  {
   "cell_type": "code",
   "execution_count": 284,
   "metadata": {},
   "outputs": [],
   "source": [
    "eighte_sq_sql = '''SELECT 'c_Thailand',t2.v,'2018sq',t4.v FROM (SELECT max(t1.boxoffice) AS v FROM film44 t1 WHERE t1.c_Thailand=1 and mdate <= '2018-06-30'and mdate >='2018-04-01') t2 JOIN (SELECT sum(t3.boxoffice) AS v FROM film44 t3 WHERE t3.c_Thailand=1 and mdate <= '2018-06-30'and mdate >='2018-04-01') t4'''"
   ]
  },
  {
   "cell_type": "code",
   "execution_count": 286,
   "metadata": {},
   "outputs": [],
   "source": [
    "exec_sql(eighte_sq_sql)"
   ]
  },
  {
   "cell_type": "code",
   "execution_count": 287,
   "metadata": {},
   "outputs": [],
   "source": [
    "del eighte_sq_sql"
   ]
  },
  {
   "cell_type": "code",
   "execution_count": 288,
   "metadata": {},
   "outputs": [],
   "source": [
    "eighte_tq_sql = '''SELECT 'c_Thailand',t2.v,'2018tq',t4.v FROM (SELECT max(t1.boxoffice) AS v FROM film44 t1 WHERE t1.c_Thailand=1 and mdate <= '2018-09-30'and mdate >='2018-07-01') t2 JOIN (SELECT sum(t3.boxoffice) AS v FROM film44 t3 WHERE t3.c_Thailand=1 and mdate <= '2018-09-30'and mdate >='2018-07-01') t4'''\n",
    "exec_sql(eighte_tq_sql)"
   ]
  },
  {
   "cell_type": "code",
   "execution_count": 289,
   "metadata": {},
   "outputs": [],
   "source": [
    "del eighte_tq_sql"
   ]
  },
  {
   "cell_type": "code",
   "execution_count": 290,
   "metadata": {},
   "outputs": [],
   "source": [
    "eighte_foq_sql = '''SELECT 'c_Thailand',t2.v,'2018foq',t4.v FROM (SELECT max(t1.boxoffice) AS v FROM film44 t1 WHERE t1.c_Thailand=1 and mdate <= '2018-12-31'and mdate >='2018-10-01') t2 JOIN (SELECT sum(t3.boxoffice) AS v FROM film44 t3 WHERE t3.c_Thailand=1 and mdate <= '2018-12-31'and mdate >='2018-10-01') t4'''\n",
    "exec_sql(eighte_foq_sql)"
   ]
  },
  {
   "cell_type": "code",
   "execution_count": 291,
   "metadata": {},
   "outputs": [],
   "source": [
    "del eighte_foq_sql"
   ]
  },
  {
   "cell_type": "markdown",
   "metadata": {},
   "source": [
    "# 印度"
   ]
  },
  {
   "cell_type": "code",
   "execution_count": 292,
   "metadata": {},
   "outputs": [],
   "source": [
    "sixt_fq_sql = '''SELECT 'c_India',t2.v,'2016fq',t4.v FROM (SELECT max(t1.boxoffice) AS v FROM film44 t1 WHERE t1.c_India=1 and mdate <= '2016-03-31'and mdate >='2016-01-01') t2 JOIN (SELECT sum(t3.boxoffice) AS v FROM film44 t3 WHERE t3.c_India=1 and mdate <= '2016-03-31'and mdate >='2016-01-01') t4'''\n",
    "exec_sql(sixt_fq_sql)"
   ]
  },
  {
   "cell_type": "code",
   "execution_count": null,
   "metadata": {},
   "outputs": [],
   "source": [
    "del sixt_fq_sql"
   ]
  },
  {
   "cell_type": "code",
   "execution_count": 293,
   "metadata": {},
   "outputs": [],
   "source": [
    "sixt_sq_sql = '''SELECT 'c_India',t2.v,'2016sq',t4.v FROM (SELECT max(t1.boxoffice) AS v FROM film44 t1 WHERE t1.c_India=1 and mdate <= '2016-06-30'and mdate >='2016-04-01') t2 JOIN (SELECT sum(t3.boxoffice) AS v FROM film44 t3 WHERE t3.c_India=1 and mdate <= '2016-06-30'and mdate >='2016-04-01') t4'''\n",
    "exec_sql(sixt_sq_sql)"
   ]
  },
  {
   "cell_type": "code",
   "execution_count": null,
   "metadata": {},
   "outputs": [],
   "source": [
    "del sixt_sq_sql"
   ]
  },
  {
   "cell_type": "code",
   "execution_count": 294,
   "metadata": {},
   "outputs": [],
   "source": [
    "sixt_tq_sql = '''SELECT 'c_India',t2.v,'2016tq',t4.v FROM (SELECT max(t1.boxoffice) AS v FROM film44 t1 WHERE t1.c_India=1 and mdate <= '2016-09-30'and mdate >='2016-07-01') t2 JOIN (SELECT sum(t3.boxoffice) AS v FROM film44 t3 WHERE t3.c_India=1 and mdate <= '2016-09-30'and mdate >='2016-07-01') t4'''\n",
    "exec_sql(sixt_tq_sql)"
   ]
  },
  {
   "cell_type": "code",
   "execution_count": null,
   "metadata": {},
   "outputs": [],
   "source": [
    "del sixt_tq_sql"
   ]
  },
  {
   "cell_type": "code",
   "execution_count": 295,
   "metadata": {},
   "outputs": [],
   "source": [
    "sixt_foq_sql = '''SELECT 'c_India',t2.v,'2016foq',t4.v FROM (SELECT max(t1.boxoffice) AS v FROM film44 t1 WHERE t1.c_India=1 and mdate <= '2016-12-31'and mdate >='2016-10-01') t2 JOIN (SELECT sum(t3.boxoffice) AS v FROM film44 t3 WHERE t3.c_India=1 and mdate <= '2016-12-31'and mdate >='2016-10-01') t4'''\n",
    "exec_sql(sixt_foq_sql)"
   ]
  },
  {
   "cell_type": "code",
   "execution_count": null,
   "metadata": {},
   "outputs": [],
   "source": [
    "del sixt_foq_sql"
   ]
  },
  {
   "cell_type": "code",
   "execution_count": 296,
   "metadata": {},
   "outputs": [],
   "source": [
    "sevent_fq_sql = '''SELECT 'c_India',t2.v,'2017fq',t4.v FROM (SELECT max(t1.boxoffice) AS v FROM film44 t1 WHERE t1.c_India=1 and mdate <= '2017-03-31'and mdate >='2017-01-01') t2 JOIN (SELECT sum(t3.boxoffice) AS v FROM film44 t3 WHERE t3.c_India=1 and mdate <= '2017-03-31'and mdate >='2017-01-01') t4'''\n",
    "exec_sql(sevent_fq_sql)"
   ]
  },
  {
   "cell_type": "code",
   "execution_count": null,
   "metadata": {},
   "outputs": [],
   "source": [
    "del sevent_fq_sql"
   ]
  },
  {
   "cell_type": "code",
   "execution_count": 297,
   "metadata": {},
   "outputs": [],
   "source": [
    "sevent_sq_sql = '''SELECT 'c_India',t2.v,'2017sq',t4.v FROM (SELECT max(t1.boxoffice) AS v FROM film44 t1 WHERE t1.c_India=1 and mdate <= '2017-06-30'and mdate >='2017-04-01') t2 JOIN (SELECT sum(t3.boxoffice) AS v FROM film44 t3 WHERE t3.c_India=1 and mdate <= '2017-06-30'and mdate >='2017-04-01') t4'''\n",
    "exec_sql(sevent_sq_sql)"
   ]
  },
  {
   "cell_type": "code",
   "execution_count": null,
   "metadata": {},
   "outputs": [],
   "source": [
    "del sevent_sq_sql"
   ]
  },
  {
   "cell_type": "code",
   "execution_count": 298,
   "metadata": {},
   "outputs": [],
   "source": [
    "sevent_tq_sql = '''SELECT 'c_India',t2.v,'2017tq',t4.v FROM (SELECT max(t1.boxoffice) AS v FROM film44 t1 WHERE t1.c_India=1 and mdate <= '2017-09-30'and mdate >='2017-07-01') t2 JOIN (SELECT sum(t3.boxoffice) AS v FROM film44 t3 WHERE t3.c_India=1 and mdate <= '2017-09-30'and mdate >='2017-07-01') t4'''\n",
    "exec_sql(sevent_tq_sql)"
   ]
  },
  {
   "cell_type": "code",
   "execution_count": null,
   "metadata": {},
   "outputs": [],
   "source": [
    "del sevent_tq_sql"
   ]
  },
  {
   "cell_type": "code",
   "execution_count": 299,
   "metadata": {},
   "outputs": [],
   "source": [
    "sevent_foq_sql = '''SELECT 'c_India',t2.v,'2017foq',t4.v FROM (SELECT max(t1.boxoffice) AS v FROM film44 t1 WHERE t1.c_India=1 and mdate <= '2017-12-31'and mdate >='2017-10-01') t2 JOIN (SELECT sum(t3.boxoffice) AS v FROM film44 t3 WHERE t3.c_India=1 and mdate <= '2017-12-31'and mdate >='2017-10-01') t4'''\n",
    "exec_sql(sevent_foq_sql)"
   ]
  },
  {
   "cell_type": "code",
   "execution_count": null,
   "metadata": {},
   "outputs": [],
   "source": [
    "del sevent_foq_sql"
   ]
  },
  {
   "cell_type": "code",
   "execution_count": 300,
   "metadata": {},
   "outputs": [],
   "source": [
    "eighte_fq_sql= '''SELECT 'c_India',t2.v,'2018fq',t4.v FROM (SELECT max(t1.boxoffice) AS v FROM film44 t1 WHERE t1.c_India=1 and mdate <= '2018-03-31'and mdate >='2018-01-01') t2 JOIN (SELECT sum(t3.boxoffice) AS v FROM film44 t3 WHERE t3.c_India=1 and mdate <= '2018-03-31'and mdate >='2018-01-01') t4'''\n",
    "exec_sql(eighte_fq_sql)"
   ]
  },
  {
   "cell_type": "code",
   "execution_count": null,
   "metadata": {},
   "outputs": [],
   "source": [
    "del eighte_fq_sql"
   ]
  },
  {
   "cell_type": "code",
   "execution_count": 301,
   "metadata": {},
   "outputs": [],
   "source": [
    "eighte_sq_sql = '''SELECT 'c_India',t2.v,'2018sq',t4.v FROM (SELECT max(t1.boxoffice) AS v FROM film44 t1 WHERE t1.c_India=1 and mdate <= '2018-06-30'and mdate >='2018-04-01') t2 JOIN (SELECT sum(t3.boxoffice) AS v FROM film44 t3 WHERE t3.c_India=1 and mdate <= '2018-06-30'and mdate >='2018-04-01') t4'''\n",
    "exec_sql(eighte_sq_sql)"
   ]
  },
  {
   "cell_type": "code",
   "execution_count": null,
   "metadata": {},
   "outputs": [],
   "source": [
    "del eighte_sq_sql"
   ]
  },
  {
   "cell_type": "code",
   "execution_count": 302,
   "metadata": {},
   "outputs": [],
   "source": [
    "eighte_tq_sql = '''SELECT 'c_India',t2.v,'2018tq',t4.v FROM (SELECT max(t1.boxoffice) AS v FROM film44 t1 WHERE t1.c_India=1 and mdate <= '2018-09-30'and mdate >='2018-07-01') t2 JOIN (SELECT sum(t3.boxoffice) AS v FROM film44 t3 WHERE t3.c_India=1 and mdate <= '2018-09-30'and mdate >='2018-07-01') t4'''\n",
    "exec_sql(eighte_tq_sql)"
   ]
  },
  {
   "cell_type": "code",
   "execution_count": null,
   "metadata": {},
   "outputs": [],
   "source": [
    "del eighte_tq_sql"
   ]
  },
  {
   "cell_type": "code",
   "execution_count": 303,
   "metadata": {},
   "outputs": [],
   "source": [
    "eighte_foq_sql = '''SELECT 'c_India',t2.v,'2018foq',t4.v FROM (SELECT max(t1.boxoffice) AS v FROM film44 t1 WHERE t1.c_India=1 and mdate <= '2018-12-31'and mdate >='2018-10-01') t2 JOIN (SELECT sum(t3.boxoffice) AS v FROM film44 t3 WHERE t3.c_India=1 and mdate <= '2018-12-31'and mdate >='2018-10-01') t4'''\n",
    "exec_sql(eighte_foq_sql)"
   ]
  },
  {
   "cell_type": "code",
   "execution_count": null,
   "metadata": {},
   "outputs": [],
   "source": [
    "del eighte_foq_sql"
   ]
  },
  {
   "cell_type": "markdown",
   "metadata": {},
   "source": [
    "# 法国"
   ]
  },
  {
   "cell_type": "code",
   "execution_count": 307,
   "metadata": {},
   "outputs": [],
   "source": [
    "sixt_fq_sql = '''SELECT 'c_France',t2.v,'2016fq',t4.v FROM (SELECT max(t1.boxoffice) AS v FROM film44 t1 WHERE t1.c_France=1 and mdate <= '2016-03-31'and mdate >='2016-01-01') t2 JOIN (SELECT sum(t3.boxoffice) AS v FROM film44 t3 WHERE t3.c_France=1 and mdate <= '2016-03-31'and mdate >='2016-01-01') t4'''\n",
    "exec_sql(sixt_fq_sql)"
   ]
  },
  {
   "cell_type": "code",
   "execution_count": null,
   "metadata": {},
   "outputs": [],
   "source": [
    "del sixt_fq_sql"
   ]
  },
  {
   "cell_type": "code",
   "execution_count": 310,
   "metadata": {},
   "outputs": [],
   "source": [
    "sixt_sq_sql = '''SELECT 'c_France',t2.v,'2016sq',t4.v FROM (SELECT max(t1.boxoffice) AS v FROM film44 t1 WHERE t1.c_France=1 and mdate <= '2016-06-30'and mdate >='2016-04-01') t2 JOIN (SELECT sum(t3.boxoffice) AS v FROM film44 t3 WHERE t3.c_France=1 and mdate <= '2016-06-30'and mdate >='2016-04-01') t4'''\n",
    "exec_sql(sixt_sq_sql)"
   ]
  },
  {
   "cell_type": "code",
   "execution_count": null,
   "metadata": {},
   "outputs": [],
   "source": [
    "del sixt_sq_sql"
   ]
  },
  {
   "cell_type": "code",
   "execution_count": 311,
   "metadata": {},
   "outputs": [],
   "source": [
    "sixt_tq_sql = '''SELECT 'c_France',t2.v,'2016tq',t4.v FROM (SELECT max(t1.boxoffice) AS v FROM film44 t1 WHERE t1.c_France=1 and mdate <= '2016-09-30'and mdate >='2016-07-01') t2 JOIN (SELECT sum(t3.boxoffice) AS v FROM film44 t3 WHERE t3.c_France=1 and mdate <= '2016-09-30'and mdate >='2016-07-01') t4'''\n",
    "exec_sql(sixt_tq_sql)"
   ]
  },
  {
   "cell_type": "code",
   "execution_count": null,
   "metadata": {},
   "outputs": [],
   "source": [
    "del sixt_tq_sql"
   ]
  },
  {
   "cell_type": "code",
   "execution_count": 312,
   "metadata": {},
   "outputs": [],
   "source": [
    "sixt_foq_sql = '''SELECT 'c_France',t2.v,'2016foq',t4.v FROM (SELECT max(t1.boxoffice) AS v FROM film44 t1 WHERE t1.c_France=1 and mdate <= '2016-12-31'and mdate >='2016-10-01') t2 JOIN (SELECT sum(t3.boxoffice) AS v FROM film44 t3 WHERE t3.c_France=1 and mdate <= '2016-12-31'and mdate >='2016-10-01') t4'''\n",
    "exec_sql(sixt_foq_sql)"
   ]
  },
  {
   "cell_type": "code",
   "execution_count": null,
   "metadata": {},
   "outputs": [],
   "source": [
    "del sixt_foq_sql"
   ]
  },
  {
   "cell_type": "code",
   "execution_count": 313,
   "metadata": {},
   "outputs": [],
   "source": [
    "sevent_fq_sql = '''SELECT 'c_France',t2.v,'2017fq',t4.v FROM (SELECT max(t1.boxoffice) AS v FROM film44 t1 WHERE t1.c_France=1 and mdate <= '2017-03-31'and mdate >='2017-01-01') t2 JOIN (SELECT sum(t3.boxoffice) AS v FROM film44 t3 WHERE t3.c_France=1 and mdate <= '2017-03-31'and mdate >='2017-01-01') t4'''\n",
    "exec_sql(sevent_fq_sql)"
   ]
  },
  {
   "cell_type": "code",
   "execution_count": null,
   "metadata": {},
   "outputs": [],
   "source": [
    "del sevent_fq_sql"
   ]
  },
  {
   "cell_type": "code",
   "execution_count": 314,
   "metadata": {},
   "outputs": [],
   "source": [
    "sevent_sq_sql = '''SELECT 'c_France',t2.v,'2017sq',t4.v FROM (SELECT max(t1.boxoffice) AS v FROM film44 t1 WHERE t1.c_France=1 and mdate <= '2017-06-30'and mdate >='2017-04-01') t2 JOIN (SELECT sum(t3.boxoffice) AS v FROM film44 t3 WHERE t3.c_France=1 and mdate <= '2017-06-30'and mdate >='2017-04-01') t4'''\n",
    "exec_sql(sevent_sq_sql)"
   ]
  },
  {
   "cell_type": "code",
   "execution_count": null,
   "metadata": {},
   "outputs": [],
   "source": [
    "del sevent_sq_sql"
   ]
  },
  {
   "cell_type": "code",
   "execution_count": 315,
   "metadata": {},
   "outputs": [],
   "source": [
    "sevent_tq_sql = '''SELECT 'c_France',t2.v,'2017tq',t4.v FROM (SELECT max(t1.boxoffice) AS v FROM film44 t1 WHERE t1.c_France=1 and mdate <= '2017-09-30'and mdate >='2017-07-01') t2 JOIN (SELECT sum(t3.boxoffice) AS v FROM film44 t3 WHERE t3.c_France=1 and mdate <= '2017-09-30'and mdate >='2017-07-01') t4'''\n",
    "exec_sql(sevent_tq_sql)"
   ]
  },
  {
   "cell_type": "code",
   "execution_count": null,
   "metadata": {},
   "outputs": [],
   "source": [
    "del sevent_tq_sql"
   ]
  },
  {
   "cell_type": "code",
   "execution_count": 316,
   "metadata": {},
   "outputs": [],
   "source": [
    "sevent_foq_sql = '''SELECT 'c_France',t2.v,'2017foq',t4.v FROM (SELECT max(t1.boxoffice) AS v FROM film44 t1 WHERE t1.c_France=1 and mdate <= '2017-12-31'and mdate >='2017-10-01') t2 JOIN (SELECT sum(t3.boxoffice) AS v FROM film44 t3 WHERE t3.c_France=1 and mdate <= '2017-12-31'and mdate >='2017-10-01') t4'''\n",
    "exec_sql(sevent_foq_sql)"
   ]
  },
  {
   "cell_type": "code",
   "execution_count": null,
   "metadata": {},
   "outputs": [],
   "source": [
    "del sevent_foq_sql"
   ]
  },
  {
   "cell_type": "code",
   "execution_count": 317,
   "metadata": {},
   "outputs": [],
   "source": [
    "eighte_fq_sql= '''SELECT 'c_France',t2.v,'2018fq',t4.v FROM (SELECT max(t1.boxoffice) AS v FROM film44 t1 WHERE t1.c_France=1 and mdate <= '2018-03-31'and mdate >='2018-01-01') t2 JOIN (SELECT sum(t3.boxoffice) AS v FROM film44 t3 WHERE t3.c_France=1 and mdate <= '2018-03-31'and mdate >='2018-01-01') t4'''\n",
    "exec_sql(eighte_fq_sql)"
   ]
  },
  {
   "cell_type": "code",
   "execution_count": null,
   "metadata": {},
   "outputs": [],
   "source": [
    "del eighte_fq_sql"
   ]
  },
  {
   "cell_type": "code",
   "execution_count": 318,
   "metadata": {},
   "outputs": [],
   "source": [
    "eighte_sq_sql = '''SELECT 'c_France',t2.v,'2018sq',t4.v FROM (SELECT max(t1.boxoffice) AS v FROM film44 t1 WHERE t1.c_France=1 and mdate <= '2018-06-30'and mdate >='2018-04-01') t2 JOIN (SELECT sum(t3.boxoffice) AS v FROM film44 t3 WHERE t3.c_France=1 and mdate <= '2018-06-30'and mdate >='2018-04-01') t4'''\n",
    "exec_sql(eighte_sq_sql)"
   ]
  },
  {
   "cell_type": "code",
   "execution_count": null,
   "metadata": {},
   "outputs": [],
   "source": [
    "del eighte_sq_sql"
   ]
  },
  {
   "cell_type": "code",
   "execution_count": 319,
   "metadata": {},
   "outputs": [],
   "source": [
    "eighte_tq_sql = '''SELECT 'c_France',t2.v,'2018tq',t4.v FROM (SELECT max(t1.boxoffice) AS v FROM film44 t1 WHERE t1.c_France=1 and mdate <= '2018-09-30'and mdate >='2018-07-01') t2 JOIN (SELECT sum(t3.boxoffice) AS v FROM film44 t3 WHERE t3.c_France=1 and mdate <= '2018-09-30'and mdate >='2018-07-01') t4'''\n",
    "exec_sql(eighte_tq_sql)"
   ]
  },
  {
   "cell_type": "code",
   "execution_count": null,
   "metadata": {},
   "outputs": [],
   "source": [
    "del eighte_tq_sql"
   ]
  },
  {
   "cell_type": "code",
   "execution_count": 320,
   "metadata": {},
   "outputs": [],
   "source": [
    "eighte_foq_sql = '''SELECT 'c_France',t2.v,'2018foq',t4.v FROM (SELECT max(t1.boxoffice) AS v FROM film44 t1 WHERE t1.c_France=1 and mdate <= '2018-12-31'and mdate >='2018-10-01') t2 JOIN (SELECT sum(t3.boxoffice) AS v FROM film44 t3 WHERE t3.c_France=1 and mdate <= '2018-12-31'and mdate >='2018-10-01') t4'''\n",
    "exec_sql(eighte_foq_sql)"
   ]
  },
  {
   "cell_type": "code",
   "execution_count": null,
   "metadata": {},
   "outputs": [],
   "source": [
    "del eighte_foq_sql"
   ]
  },
  {
   "cell_type": "markdown",
   "metadata": {},
   "source": [
    "# 英国"
   ]
  },
  {
   "cell_type": "code",
   "execution_count": 321,
   "metadata": {},
   "outputs": [],
   "source": [
    "sixt_fq_sql = '''SELECT 'c_England',t2.v,'2016fq',t4.v FROM (SELECT max(t1.boxoffice) AS v FROM film44 t1 WHERE t1.c_England=1 and mdate <= '2016-03-31'and mdate >='2016-01-01') t2 JOIN (SELECT sum(t3.boxoffice) AS v FROM film44 t3 WHERE t3.c_England=1  and mdate <= '2016-03-31'and mdate >='2016-01-01') t4'''\n",
    "exec_sql(sixt_fq_sql)"
   ]
  },
  {
   "cell_type": "code",
   "execution_count": null,
   "metadata": {},
   "outputs": [],
   "source": [
    "del sixt_fq_sql"
   ]
  },
  {
   "cell_type": "code",
   "execution_count": 322,
   "metadata": {},
   "outputs": [],
   "source": [
    "sixt_sq_sql = '''SELECT 'c_England',t2.v,'2016sq',t4.v FROM (SELECT max(t1.boxoffice) AS v FROM film44 t1 WHERE t1.c_England=1 and mdate <= '2016-06-30'and mdate >='2016-04-01') t2 JOIN (SELECT sum(t3.boxoffice) AS v FROM film44 t3 WHERE t3.c_England=1  and mdate <= '2016-06-30'and mdate >='2016-04-01') t4'''\n",
    "exec_sql(sixt_sq_sql)"
   ]
  },
  {
   "cell_type": "code",
   "execution_count": null,
   "metadata": {},
   "outputs": [],
   "source": [
    "del sixt_sq_sql"
   ]
  },
  {
   "cell_type": "code",
   "execution_count": 323,
   "metadata": {},
   "outputs": [],
   "source": [
    "sixt_tq_sql = '''SELECT 'c_England',t2.v,'2016tq',t4.v FROM (SELECT max(t1.boxoffice) AS v FROM film44 t1 WHERE t1.c_England=1 and mdate <= '2016-09-30'and mdate >='2016-07-01') t2 JOIN (SELECT sum(t3.boxoffice) AS v FROM film44 t3 WHERE t3.c_England=1  and mdate <= '2016-09-30'and mdate >='2016-07-01') t4'''\n",
    "exec_sql(sixt_tq_sql)"
   ]
  },
  {
   "cell_type": "code",
   "execution_count": null,
   "metadata": {},
   "outputs": [],
   "source": [
    "del sixt_tq_sql"
   ]
  },
  {
   "cell_type": "code",
   "execution_count": 324,
   "metadata": {},
   "outputs": [],
   "source": [
    "sixt_foq_sql = '''SELECT 'c_England',t2.v,'2016foq',t4.v FROM (SELECT max(t1.boxoffice) AS v FROM film44 t1 WHERE t1.c_England=1 and mdate <= '2016-12-31'and mdate >='2016-10-01') t2 JOIN (SELECT sum(t3.boxoffice) AS v FROM film44 t3 WHERE t3.c_England=1  and mdate <= '2016-12-31'and mdate >='2016-10-01') t4'''\n",
    "exec_sql(sixt_foq_sql)"
   ]
  },
  {
   "cell_type": "code",
   "execution_count": null,
   "metadata": {},
   "outputs": [],
   "source": [
    "del sixt_foq_sql"
   ]
  },
  {
   "cell_type": "code",
   "execution_count": 325,
   "metadata": {},
   "outputs": [],
   "source": [
    "sevent_fq_sql = '''SELECT 'c_England',t2.v,'2017fq',t4.v FROM (SELECT max(t1.boxoffice) AS v FROM film44 t1 WHERE t1.c_England=1 and mdate <= '2017-03-31'and mdate >='2017-01-01') t2 JOIN (SELECT sum(t3.boxoffice) AS v FROM film44 t3 WHERE t3.c_England=1  and mdate <= '2017-03-31'and mdate >='2017-01-01') t4'''\n",
    "exec_sql(sevent_fq_sql)"
   ]
  },
  {
   "cell_type": "code",
   "execution_count": null,
   "metadata": {},
   "outputs": [],
   "source": [
    "del sevent_fq_sql"
   ]
  },
  {
   "cell_type": "code",
   "execution_count": 326,
   "metadata": {},
   "outputs": [],
   "source": [
    "sevent_sq_sql = '''SELECT 'c_England',t2.v,'2017sq',t4.v FROM (SELECT max(t1.boxoffice) AS v FROM film44 t1 WHERE t1.c_England=1 and mdate <= '2017-06-30'and mdate >='2017-04-01') t2 JOIN (SELECT sum(t3.boxoffice) AS v FROM film44 t3 WHERE t3.c_England=1  and mdate <= '2017-06-30'and mdate >='2017-04-01') t4'''\n",
    "exec_sql(sevent_sq_sql)"
   ]
  },
  {
   "cell_type": "code",
   "execution_count": null,
   "metadata": {},
   "outputs": [],
   "source": [
    "del sevent_sq_sql"
   ]
  },
  {
   "cell_type": "code",
   "execution_count": 327,
   "metadata": {},
   "outputs": [],
   "source": [
    "sevent_tq_sql = '''SELECT 'c_England',t2.v,'2017tq',t4.v FROM (SELECT max(t1.boxoffice) AS v FROM film44 t1 WHERE t1.c_England=1 and mdate <= '2017-09-30'and mdate >='2017-07-01') t2 JOIN (SELECT sum(t3.boxoffice) AS v FROM film44 t3 WHERE t3.c_England=1  and mdate <= '2017-09-30'and mdate >='2017-07-01') t4'''\n",
    "exec_sql(sevent_tq_sql)"
   ]
  },
  {
   "cell_type": "code",
   "execution_count": null,
   "metadata": {},
   "outputs": [],
   "source": [
    "del sevent_tq_sql"
   ]
  },
  {
   "cell_type": "code",
   "execution_count": 328,
   "metadata": {},
   "outputs": [],
   "source": [
    "sevent_foq_sql = '''SELECT 'c_England',t2.v,'2017foq',t4.v FROM (SELECT max(t1.boxoffice) AS v FROM film44 t1 WHERE t1.c_England=1 and mdate <= '2017-12-31'and mdate >='2017-10-01') t2 JOIN (SELECT sum(t3.boxoffice) AS v FROM film44 t3 WHERE t3.c_England=1  and mdate <= '2017-12-31'and mdate >='2017-10-01') t4'''\n",
    "exec_sql(sevent_foq_sql)"
   ]
  },
  {
   "cell_type": "code",
   "execution_count": null,
   "metadata": {},
   "outputs": [],
   "source": [
    "del sevent_foq_sql"
   ]
  },
  {
   "cell_type": "code",
   "execution_count": 329,
   "metadata": {},
   "outputs": [],
   "source": [
    "eighte_fq_sql= '''SELECT 'c_England',t2.v,'2018fq',t4.v FROM (SELECT max(t1.boxoffice) AS v FROM film44 t1 WHERE t1.c_England=1 and mdate <= '2018-03-31'and mdate >='2018-01-01') t2 JOIN (SELECT sum(t3.boxoffice) AS v FROM film44 t3 WHERE t3.c_England=1  and mdate <= '2018-03-31'and mdate >='2018-01-01') t4'''\n",
    "exec_sql(eighte_fq_sql)"
   ]
  },
  {
   "cell_type": "code",
   "execution_count": null,
   "metadata": {},
   "outputs": [],
   "source": [
    "del eighte_fq_sql"
   ]
  },
  {
   "cell_type": "code",
   "execution_count": 330,
   "metadata": {},
   "outputs": [],
   "source": [
    "eighte_sq_sql = '''SELECT 'c_England',t2.v,'2018sq',t4.v FROM (SELECT max(t1.boxoffice) AS v FROM film44 t1 WHERE t1.c_England=1 and mdate <= '2018-06-30'and mdate >='2018-04-01') t2 JOIN (SELECT sum(t3.boxoffice) AS v FROM film44 t3 WHERE t3.c_England=1  and mdate <= '2018-06-30'and mdate >='2018-04-01') t4'''\n",
    "exec_sql(eighte_sq_sql)"
   ]
  },
  {
   "cell_type": "code",
   "execution_count": null,
   "metadata": {},
   "outputs": [],
   "source": [
    "del eighte_sq_sql"
   ]
  },
  {
   "cell_type": "code",
   "execution_count": 2,
   "metadata": {},
   "outputs": [],
   "source": [
    "eighte_tq_sql = '''SELECT 'c_England',t2.v,'2018tq',t4.v FROM (SELECT max(t1.boxoffice) AS v FROM film44 t1 WHERE t1.c_England=1 and mdate <= '2018-09-30'and mdate >='2018-07-01') t2 JOIN (SELECT sum(t3.boxoffice) AS v FROM film44 t3 WHERE t3.c_England=1  and mdate <= '2018-09-30'and mdate >='2018-07-01') t4'''\n",
    "exec_sql(eighte_tq_sql)"
   ]
  },
  {
   "cell_type": "code",
   "execution_count": null,
   "metadata": {},
   "outputs": [],
   "source": [
    "del eighte_tq_sql"
   ]
  },
  {
   "cell_type": "code",
   "execution_count": 3,
   "metadata": {},
   "outputs": [],
   "source": [
    "eighte_foq_sql = '''SELECT 'c_England',t2.v,'2018foq',t4.v FROM (SELECT max(t1.boxoffice) AS v FROM film44 t1 WHERE t1.c_England=1 and mdate <= '2018-12-31'and mdate >='2018-10-01') t2 JOIN (SELECT sum(t3.boxoffice) AS v FROM film44 t3 WHERE t3.c_England=1  and mdate <= '2018-12-31'and mdate >='2018-10-01') t4'''\n",
    "exec_sql(eighte_foq_sql)"
   ]
  },
  {
   "cell_type": "code",
   "execution_count": null,
   "metadata": {},
   "outputs": [],
   "source": [
    "del eighte_foq_sql"
   ]
  },
  {
   "cell_type": "markdown",
   "metadata": {},
   "source": [
    "# 俄罗斯"
   ]
  },
  {
   "cell_type": "code",
   "execution_count": 4,
   "metadata": {},
   "outputs": [],
   "source": [
    "sixt_fq_sql = '''SELECT 'c_Russia',t2.v,'2016fq',t4.v FROM (SELECT max(t1.boxoffice) AS v FROM film44 t1 WHERE t1.c_Russia=1 and mdate <= '2016-03-31'and mdate >='2016-01-01') t2 JOIN (SELECT sum(t3.boxoffice) AS v FROM film44 t3 WHERE t3.c_Russia=1  and mdate <= '2016-03-31'and mdate >='2016-01-01') t4'''\n",
    "exec_sql(sixt_fq_sql)"
   ]
  },
  {
   "cell_type": "code",
   "execution_count": null,
   "metadata": {},
   "outputs": [],
   "source": [
    "del sixt_fq_sql"
   ]
  },
  {
   "cell_type": "code",
   "execution_count": 5,
   "metadata": {},
   "outputs": [],
   "source": [
    "sixt_sq_sql = '''SELECT 'c_Russia',t2.v,'2016sq',t4.v FROM (SELECT max(t1.boxoffice) AS v FROM film44 t1 WHERE t1.c_Russia=1 and mdate <= '2016-06-30'and mdate >='2016-04-01') t2 JOIN (SELECT sum(t3.boxoffice) AS v FROM film44 t3 WHERE t3.c_Russia=1  and mdate <= '2016-06-30'and mdate >='2016-04-01') t4'''\n",
    "exec_sql(sixt_sq_sql)"
   ]
  },
  {
   "cell_type": "code",
   "execution_count": null,
   "metadata": {},
   "outputs": [],
   "source": [
    "del sixt_sq_sql"
   ]
  },
  {
   "cell_type": "code",
   "execution_count": 6,
   "metadata": {},
   "outputs": [],
   "source": [
    "sixt_tq_sql = '''SELECT 'c_Russia',t2.v,'2016tq',t4.v FROM (SELECT max(t1.boxoffice) AS v FROM film44 t1 WHERE t1.c_Russia=1 and mdate <= '2016-09-30'and mdate >='2016-07-01') t2 JOIN (SELECT sum(t3.boxoffice) AS v FROM film44 t3 WHERE t3.c_Russia=1  and mdate <= '2016-09-30'and mdate >='2016-07-01') t4'''\n",
    "exec_sql(sixt_tq_sql)"
   ]
  },
  {
   "cell_type": "code",
   "execution_count": null,
   "metadata": {},
   "outputs": [],
   "source": [
    "del sixt_tq_sql"
   ]
  },
  {
   "cell_type": "code",
   "execution_count": 7,
   "metadata": {},
   "outputs": [],
   "source": [
    "sixt_foq_sql = '''SELECT 'c_Russia',t2.v,'2016foq',t4.v FROM (SELECT max(t1.boxoffice) AS v FROM film44 t1 WHERE t1.c_Russia=1 and mdate <= '2016-12-31'and mdate >='2016-10-01') t2 JOIN (SELECT sum(t3.boxoffice) AS v FROM film44 t3 WHERE t3.c_Russia=1  and mdate <= '2016-12-31'and mdate >='2016-10-01') t4'''\n",
    "exec_sql(sixt_foq_sql)"
   ]
  },
  {
   "cell_type": "code",
   "execution_count": null,
   "metadata": {},
   "outputs": [],
   "source": [
    "del sixt_foq_sql"
   ]
  },
  {
   "cell_type": "code",
   "execution_count": 8,
   "metadata": {},
   "outputs": [],
   "source": [
    "sevent_fq_sql = '''SELECT 'c_Russia',t2.v,'2017fq',t4.v FROM (SELECT max(t1.boxoffice) AS v FROM film44 t1 WHERE t1.c_Russia=1 and mdate <= '2017-03-31'and mdate >='2017-01-01') t2 JOIN (SELECT sum(t3.boxoffice) AS v FROM film44 t3 WHERE t3.c_Russia=1  and mdate <= '2017-03-31'and mdate >='2017-01-01') t4'''\n",
    "exec_sql(sevent_fq_sql)"
   ]
  },
  {
   "cell_type": "code",
   "execution_count": null,
   "metadata": {},
   "outputs": [],
   "source": [
    "del sevent_fq_sql"
   ]
  },
  {
   "cell_type": "code",
   "execution_count": 9,
   "metadata": {},
   "outputs": [],
   "source": [
    "sevent_sq_sql = '''SELECT 'c_Russia',t2.v,'2017sq',t4.v FROM (SELECT max(t1.boxoffice) AS v FROM film44 t1 WHERE t1.c_Russia=1 and mdate <= '2017-06-30'and mdate >='2017-04-01') t2 JOIN (SELECT sum(t3.boxoffice) AS v FROM film44 t3 WHERE t3.c_Russia=1  and mdate <= '2017-06-30'and mdate >='2017-04-01') t4'''\n",
    "exec_sql(sevent_sq_sql)"
   ]
  },
  {
   "cell_type": "code",
   "execution_count": null,
   "metadata": {},
   "outputs": [],
   "source": [
    "del sevent_sq_sql"
   ]
  },
  {
   "cell_type": "code",
   "execution_count": 10,
   "metadata": {},
   "outputs": [],
   "source": [
    "sevent_tq_sql = '''SELECT 'c_Russia',t2.v,'2017tq',t4.v FROM (SELECT max(t1.boxoffice) AS v FROM film44 t1 WHERE t1.c_Russia=1 and mdate <= '2017-09-30'and mdate >='2017-07-01') t2 JOIN (SELECT sum(t3.boxoffice) AS v FROM film44 t3 WHERE t3.c_Russia=1  and mdate <= '2017-09-30'and mdate >='2017-07-01') t4'''\n",
    "exec_sql(sevent_tq_sql)"
   ]
  },
  {
   "cell_type": "code",
   "execution_count": null,
   "metadata": {},
   "outputs": [],
   "source": [
    "del sevent_tq_sql"
   ]
  },
  {
   "cell_type": "code",
   "execution_count": 11,
   "metadata": {},
   "outputs": [],
   "source": [
    "sevent_foq_sql = '''SELECT 'c_Russia',t2.v,'2017foq',t4.v FROM (SELECT max(t1.boxoffice) AS v FROM film44 t1 WHERE t1.c_Russia=1 and mdate <= '2017-12-31'and mdate >='2017-10-01') t2 JOIN (SELECT sum(t3.boxoffice) AS v FROM film44 t3 WHERE t3.c_Russia=1  and mdate <= '2017-12-31'and mdate >='2017-10-01') t4'''\n",
    "exec_sql(sevent_foq_sql)"
   ]
  },
  {
   "cell_type": "code",
   "execution_count": null,
   "metadata": {},
   "outputs": [],
   "source": [
    "del sevent_foq_sql"
   ]
  },
  {
   "cell_type": "code",
   "execution_count": 12,
   "metadata": {},
   "outputs": [],
   "source": [
    "eighte_fq_sql= '''SELECT 'c_Russia',t2.v,'2018fq',t4.v FROM (SELECT max(t1.boxoffice) AS v FROM film44 t1 WHERE t1.c_Russia=1 and mdate <= '2018-03-31'and mdate >='2018-01-01') t2 JOIN (SELECT sum(t3.boxoffice) AS v FROM film44 t3 WHERE t3.c_Russia=1  and mdate <= '2018-03-31'and mdate >='2018-01-01') t4'''\n",
    "exec_sql(eighte_fq_sql)"
   ]
  },
  {
   "cell_type": "code",
   "execution_count": null,
   "metadata": {},
   "outputs": [],
   "source": [
    "del eighte_fq_sql"
   ]
  },
  {
   "cell_type": "code",
   "execution_count": 13,
   "metadata": {},
   "outputs": [],
   "source": [
    "eighte_sq_sql = '''SELECT 'c_Russia',t2.v,'2018sq',t4.v FROM (SELECT max(t1.boxoffice) AS v FROM film44 t1 WHERE t1.c_Russia=1 and mdate <= '2018-06-30'and mdate >='2018-04-01') t2 JOIN (SELECT sum(t3.boxoffice) AS v FROM film44 t3 WHERE t3.c_Russia=1  and mdate <= '2018-06-30'and mdate >='2018-04-01') t4'''\n",
    "exec_sql(eighte_sq_sql)"
   ]
  },
  {
   "cell_type": "code",
   "execution_count": null,
   "metadata": {},
   "outputs": [],
   "source": [
    "del eighte_sq_sql"
   ]
  },
  {
   "cell_type": "code",
   "execution_count": 14,
   "metadata": {},
   "outputs": [],
   "source": [
    "eighte_tq_sql = '''SELECT 'c_Russia',t2.v,'2018tq',t4.v FROM (SELECT max(t1.boxoffice) AS v FROM film44 t1 WHERE t1.c_Russia=1 and mdate <= '2018-09-30'and mdate >='2018-07-01') t2 JOIN (SELECT sum(t3.boxoffice) AS v FROM film44 t3 WHERE t3.c_Russia=1  and mdate <= '2018-09-30'and mdate >='2018-07-01') t4'''\n",
    "exec_sql(eighte_tq_sql)"
   ]
  },
  {
   "cell_type": "code",
   "execution_count": null,
   "metadata": {},
   "outputs": [],
   "source": [
    "del eighte_tq_sql"
   ]
  },
  {
   "cell_type": "code",
   "execution_count": 15,
   "metadata": {},
   "outputs": [],
   "source": [
    "eighte_foq_sql = '''SELECT 'c_Russia',t2.v,'2018foq',t4.v FROM (SELECT max(t1.boxoffice) AS v FROM film44 t1 WHERE t1.c_Russia=1 and mdate <= '2018-12-31'and mdate >='2018-10-01') t2 JOIN (SELECT sum(t3.boxoffice) AS v FROM film44 t3 WHERE t3.c_Russia=1  and mdate <= '2018-12-31'and mdate >='2018-10-01') t4'''\n",
    "exec_sql(eighte_foq_sql)"
   ]
  },
  {
   "cell_type": "code",
   "execution_count": null,
   "metadata": {},
   "outputs": [],
   "source": [
    "del eighte_foq_sql"
   ]
  },
  {
   "cell_type": "markdown",
   "metadata": {},
   "source": [
    "# 意大利"
   ]
  },
  {
   "cell_type": "code",
   "execution_count": 16,
   "metadata": {},
   "outputs": [],
   "source": [
    "sixt_fq_sql = '''SELECT 'c_Italy',t2.v,'2016fq',t4.v FROM (SELECT max(t1.boxoffice) AS v FROM film44 t1 WHERE t1.c_Italy=1 and mdate <= '2016-03-31'and mdate >='2016-01-01') t2 JOIN (SELECT sum(t3.boxoffice) AS v FROM film44 t3 WHERE t3.c_Italy=1  and mdate <= '2016-03-31'and mdate >='2016-01-01') t4'''\n",
    "exec_sql(sixt_fq_sql)"
   ]
  },
  {
   "cell_type": "code",
   "execution_count": null,
   "metadata": {},
   "outputs": [],
   "source": [
    "del sixt_fq_sql"
   ]
  },
  {
   "cell_type": "code",
   "execution_count": 17,
   "metadata": {},
   "outputs": [],
   "source": [
    "sixt_sq_sql = '''SELECT 'c_Italy',t2.v,'2016sq',t4.v FROM (SELECT max(t1.boxoffice) AS v FROM film44 t1 WHERE t1.c_Italy=1 and mdate <= '2016-06-30'and mdate >='2016-04-01') t2 JOIN (SELECT sum(t3.boxoffice) AS v FROM film44 t3 WHERE t3.c_Italy=1  and mdate <= '2016-06-30'and mdate >='2016-04-01') t4'''\n",
    "exec_sql(sixt_sq_sql)"
   ]
  },
  {
   "cell_type": "code",
   "execution_count": null,
   "metadata": {},
   "outputs": [],
   "source": [
    "del sixt_sq_sql"
   ]
  },
  {
   "cell_type": "code",
   "execution_count": 18,
   "metadata": {},
   "outputs": [],
   "source": [
    "sixt_tq_sql = '''SELECT 'c_Italy',t2.v,'2016tq',t4.v FROM (SELECT max(t1.boxoffice) AS v FROM film44 t1 WHERE t1.c_Italy=1 and mdate <= '2016-09-30'and mdate >='2016-07-01') t2 JOIN (SELECT sum(t3.boxoffice) AS v FROM film44 t3 WHERE t3.c_Italy=1  and mdate <= '2016-09-30'and mdate >='2016-07-01') t4'''\n",
    "exec_sql(sixt_tq_sql)"
   ]
  },
  {
   "cell_type": "code",
   "execution_count": null,
   "metadata": {},
   "outputs": [],
   "source": [
    "del sixt_tq_sql"
   ]
  },
  {
   "cell_type": "code",
   "execution_count": 19,
   "metadata": {},
   "outputs": [],
   "source": [
    "sixt_foq_sql = '''SELECT 'c_Italy',t2.v,'2016foq',t4.v FROM (SELECT max(t1.boxoffice) AS v FROM film44 t1 WHERE t1.c_Italy=1 and mdate <= '2016-12-31'and mdate >='2016-10-01') t2 JOIN (SELECT sum(t3.boxoffice) AS v FROM film44 t3 WHERE t3.c_Italy=1  and mdate <= '2016-12-31'and mdate >='2016-10-01') t4'''\n",
    "exec_sql(sixt_foq_sql)"
   ]
  },
  {
   "cell_type": "code",
   "execution_count": null,
   "metadata": {},
   "outputs": [],
   "source": [
    "del sixt_foq_sql"
   ]
  },
  {
   "cell_type": "code",
   "execution_count": 22,
   "metadata": {},
   "outputs": [],
   "source": [
    "sevent_fq_sql = '''SELECT 'c_Italy',t2.v,'2017fq',t4.v FROM (SELECT max(t1.boxoffice) AS v FROM film44 t1 WHERE t1.c_Italy=1 and mdate <= '2017-03-31'and mdate >='2017-01-01') t2 JOIN (SELECT sum(t3.boxoffice) AS v FROM film44 t3 WHERE t3.c_Italy=1  and mdate <= '2017-03-31'and mdate >='2017-01-01') t4'''\n",
    "exec_sql(sevent_fq_sql)"
   ]
  },
  {
   "cell_type": "code",
   "execution_count": null,
   "metadata": {},
   "outputs": [],
   "source": [
    "del sevent_fq_sql"
   ]
  },
  {
   "cell_type": "code",
   "execution_count": 23,
   "metadata": {},
   "outputs": [],
   "source": [
    "sevent_sq_sql = '''SELECT 'c_Italy',t2.v,'2017sq',t4.v FROM (SELECT max(t1.boxoffice) AS v FROM film44 t1 WHERE t1.c_Italy=1 and mdate <= '2017-06-30'and mdate >='2017-04-01') t2 JOIN (SELECT sum(t3.boxoffice) AS v FROM film44 t3 WHERE t3.c_Italy=1  and mdate <= '2017-06-30'and mdate >='2017-04-01') t4'''\n",
    "exec_sql(sevent_sq_sql)"
   ]
  },
  {
   "cell_type": "code",
   "execution_count": null,
   "metadata": {},
   "outputs": [],
   "source": [
    "del sevent_sq_sql"
   ]
  },
  {
   "cell_type": "code",
   "execution_count": 24,
   "metadata": {},
   "outputs": [],
   "source": [
    "sevent_tq_sql = '''SELECT 'c_Italy',t2.v,'2017tq',t4.v FROM (SELECT max(t1.boxoffice) AS v FROM film44 t1 WHERE t1.c_Italy=1 and mdate <= '2017-09-30'and mdate >='2017-07-01') t2 JOIN (SELECT sum(t3.boxoffice) AS v FROM film44 t3 WHERE t3.c_Italy=1  and mdate <= '2017-09-30'and mdate >='2017-07-01') t4'''\n",
    "exec_sql(sevent_tq_sql)"
   ]
  },
  {
   "cell_type": "code",
   "execution_count": null,
   "metadata": {},
   "outputs": [],
   "source": [
    "del sevent_tq_sql"
   ]
  },
  {
   "cell_type": "code",
   "execution_count": 25,
   "metadata": {},
   "outputs": [],
   "source": [
    "sevent_foq_sql = '''SELECT 'c_Italy',t2.v,'2017foq',t4.v FROM (SELECT max(t1.boxoffice) AS v FROM film44 t1 WHERE t1.c_Italy=1 and mdate <= '2017-12-31'and mdate >='2017-10-01') t2 JOIN (SELECT sum(t3.boxoffice) AS v FROM film44 t3 WHERE t3.c_Italy=1  and mdate <= '2017-12-31'and mdate >='2017-10-01') t4'''\n",
    "exec_sql(sevent_foq_sql)"
   ]
  },
  {
   "cell_type": "code",
   "execution_count": null,
   "metadata": {},
   "outputs": [],
   "source": [
    "del sevent_foq_sql"
   ]
  },
  {
   "cell_type": "code",
   "execution_count": 26,
   "metadata": {},
   "outputs": [],
   "source": [
    "eighte_fq_sql= '''SELECT 'c_Italy',t2.v,'2018fq',t4.v FROM (SELECT max(t1.boxoffice) AS v FROM film44 t1 WHERE t1.c_Italy=1 and mdate <= '2018-03-31'and mdate >='2018-01-01') t2 JOIN (SELECT sum(t3.boxoffice) AS v FROM film44 t3 WHERE t3.c_Italy=1  and mdate <= '2018-03-31'and mdate >='2018-01-01') t4'''\n",
    "exec_sqleighte_fq_sql)"
   ]
  },
  {
   "cell_type": "code",
   "execution_count": null,
   "metadata": {},
   "outputs": [],
   "source": [
    "del eighte_fq_sql"
   ]
  },
  {
   "cell_type": "code",
   "execution_count": 27,
   "metadata": {},
   "outputs": [],
   "source": [
    "eighte_sq_sql = '''SELECT 'c_Italy',t2.v,'2018sq',t4.v FROM (SELECT max(t1.boxoffice) AS v FROM film44 t1 WHERE t1.c_Italy=1 and mdate <= '2018-06-30'and mdate >='2018-04-01') t2 JOIN (SELECT sum(t3.boxoffice) AS v FROM film44 t3 WHERE t3.c_Italy=1  and mdate <= '2018-06-30'and mdate >='2018-04-01') t4'''\n",
    "exec_sql(eighte_sq_sql)"
   ]
  },
  {
   "cell_type": "code",
   "execution_count": null,
   "metadata": {},
   "outputs": [],
   "source": [
    "del eighte_sq_sql"
   ]
  },
  {
   "cell_type": "code",
   "execution_count": 28,
   "metadata": {},
   "outputs": [],
   "source": [
    "eighte_tq_sql = '''SELECT 'c_Italy',t2.v,'2018tq',t4.v FROM (SELECT max(t1.boxoffice) AS v FROM film44 t1 WHERE t1.c_Italy=1 and mdate <= '2018-09-30'and mdate >='2018-07-01') t2 JOIN (SELECT sum(t3.boxoffice) AS v FROM film44 t3 WHERE t3.c_Italy=1  and mdate <= '2018-09-30'and mdate >='2018-07-01') t4'''\n",
    "exec_sql(eighte_tq_sql)"
   ]
  },
  {
   "cell_type": "code",
   "execution_count": null,
   "metadata": {},
   "outputs": [],
   "source": [
    "del eighte_tq_sql"
   ]
  },
  {
   "cell_type": "code",
   "execution_count": 29,
   "metadata": {},
   "outputs": [],
   "source": [
    "eighte_foq_sql = '''SELECT 'c_Italy',t2.v,'2018foq',t4.v FROM (SELECT max(t1.boxoffice) AS v FROM film44 t1 WHERE t1.c_Italy=1 and mdate <= '2018-12-31'and mdate >='2018-10-01') t2 JOIN (SELECT sum(t3.boxoffice) AS v FROM film44 t3 WHERE t3.c_Italy=1  and mdate <= '2018-12-31'and mdate >='2018-10-01') t4'''\n",
    "exec_sql(eighte_foq_sql)"
   ]
  },
  {
   "cell_type": "code",
   "execution_count": null,
   "metadata": {},
   "outputs": [],
   "source": [
    "del eighte_foq_sql"
   ]
  },
  {
   "cell_type": "markdown",
   "metadata": {},
   "source": [
    "# 西班牙"
   ]
  },
  {
   "cell_type": "code",
   "execution_count": 30,
   "metadata": {},
   "outputs": [],
   "source": [
    "sixt_fq_sql = '''SELECT 'c_Spain',t2.v,'2016fq',t4.v FROM (SELECT max(t1.boxoffice) AS v FROM film44 t1 WHERE t1.c_Spain=1 and mdate <= '2016-03-31'and mdate >='2016-01-01') t2 JOIN (SELECT sum(t3.boxoffice) AS v FROM film44 t3 WHERE t3.c_Spain=1  and mdate <= '2016-03-31'and mdate >='2016-01-01') t4'''\n",
    "exec_sql(sixt_fq_sql)"
   ]
  },
  {
   "cell_type": "code",
   "execution_count": null,
   "metadata": {},
   "outputs": [],
   "source": [
    "del sixt_fq_sql"
   ]
  },
  {
   "cell_type": "code",
   "execution_count": 31,
   "metadata": {},
   "outputs": [],
   "source": [
    "sixt_sq_sql = '''SELECT 'c_Spain',t2.v,'2016sq',t4.v FROM (SELECT max(t1.boxoffice) AS v FROM film44 t1 WHERE t1.c_Spain=1 and mdate <= '2016-06-30'and mdate >='2016-04-01') t2 JOIN (SELECT sum(t3.boxoffice) AS v FROM film44 t3 WHERE t3.c_Spain=1  and mdate <= '2016-06-30'and mdate >='2016-04-01') t4'''\n",
    "exec_sql(sixt_sq_sql)"
   ]
  },
  {
   "cell_type": "code",
   "execution_count": null,
   "metadata": {},
   "outputs": [],
   "source": [
    "del sixt_sq_sql"
   ]
  },
  {
   "cell_type": "code",
   "execution_count": 32,
   "metadata": {},
   "outputs": [],
   "source": [
    "sixt_tq_sql = '''SELECT 'c_Spain',t2.v,'2016tq',t4.v FROM (SELECT max(t1.boxoffice) AS v FROM film44 t1 WHERE t1.c_Spain=1 and mdate <= '2016-09-30'and mdate >='2016-07-01') t2 JOIN (SELECT sum(t3.boxoffice) AS v FROM film44 t3 WHERE t3.c_Spain=1  and mdate <= '2016-09-30'and mdate >='2016-07-01') t4'''\n",
    "exec_sql(sixt_tq_sql)"
   ]
  },
  {
   "cell_type": "code",
   "execution_count": null,
   "metadata": {},
   "outputs": [],
   "source": [
    "del sixt_tq_sql"
   ]
  },
  {
   "cell_type": "code",
   "execution_count": 33,
   "metadata": {},
   "outputs": [],
   "source": [
    "sixt_foq_sql = '''SELECT 'c_Spain',t2.v,'2016foq',t4.v FROM (SELECT max(t1.boxoffice) AS v FROM film44 t1 WHERE t1.c_Spain=1 and mdate <= '2016-12-31'and mdate >='2016-10-01') t2 JOIN (SELECT sum(t3.boxoffice) AS v FROM film44 t3 WHERE t3.c_Spain=1  and mdate <= '2016-12-31'and mdate >='2016-10-01') t4'''\n",
    "exec_sql(sixt_foq_sql)"
   ]
  },
  {
   "cell_type": "code",
   "execution_count": null,
   "metadata": {},
   "outputs": [],
   "source": [
    "del sixt_foq_sql"
   ]
  },
  {
   "cell_type": "code",
   "execution_count": 34,
   "metadata": {},
   "outputs": [],
   "source": [
    "sevent_fq_sql = '''SELECT 'c_Spain',t2.v,'2017fq',t4.v FROM (SELECT max(t1.boxoffice) AS v FROM film44 t1 WHERE t1.c_Spain=1 and mdate <= '2017-03-31'and mdate >='2017-01-01') t2 JOIN (SELECT sum(t3.boxoffice) AS v FROM film44 t3 WHERE t3.c_Spain=1  and mdate <= '2017-03-31'and mdate >='2017-01-01') t4'''\n",
    "exec_sql(sevent_fq_sql)"
   ]
  },
  {
   "cell_type": "code",
   "execution_count": null,
   "metadata": {},
   "outputs": [],
   "source": [
    "del sevent_fq_sql"
   ]
  },
  {
   "cell_type": "code",
   "execution_count": 35,
   "metadata": {},
   "outputs": [],
   "source": [
    "sevent_sq_sql = '''SELECT 'c_Spain',t2.v,'2017sq',t4.v FROM (SELECT max(t1.boxoffice) AS v FROM film44 t1 WHERE t1.c_Spain=1 and mdate <= '2017-06-30'and mdate >='2017-04-01') t2 JOIN (SELECT sum(t3.boxoffice) AS v FROM film44 t3 WHERE t3.c_Spain=1  and mdate <= '2017-06-30'and mdate >='2017-04-01') t4'''\n",
    "exec_sql(sevent_sq_sql)"
   ]
  },
  {
   "cell_type": "code",
   "execution_count": null,
   "metadata": {},
   "outputs": [],
   "source": [
    "del sevent_sq_sql"
   ]
  },
  {
   "cell_type": "code",
   "execution_count": 36,
   "metadata": {},
   "outputs": [],
   "source": [
    "sevent_tq_sql = '''SELECT 'c_Spain',t2.v,'2017tq',t4.v FROM (SELECT max(t1.boxoffice) AS v FROM film44 t1 WHERE t1.c_Spain=1 and mdate <= '2017-09-30'and mdate >='2017-07-01') t2 JOIN (SELECT sum(t3.boxoffice) AS v FROM film44 t3 WHERE t3.c_Spain=1  and mdate <= '2017-09-30'and mdate >='2017-07-01') t4'''\n",
    "exec_sql(sevent_tq_sql)"
   ]
  },
  {
   "cell_type": "code",
   "execution_count": null,
   "metadata": {},
   "outputs": [],
   "source": [
    "del sevent_tq_sql"
   ]
  },
  {
   "cell_type": "code",
   "execution_count": 37,
   "metadata": {},
   "outputs": [],
   "source": [
    "sevent_foq_sql = '''SELECT 'c_Spain',t2.v,'2017foq',t4.v FROM (SELECT max(t1.boxoffice) AS v FROM film44 t1 WHERE t1.c_Spain=1 and mdate <= '2017-12-31'and mdate >='2017-10-01') t2 JOIN (SELECT sum(t3.boxoffice) AS v FROM film44 t3 WHERE t3.c_Spain=1  and mdate <= '2017-12-31'and mdate >='2017-10-01') t4'''\n",
    "exec_sql(sevent_foq_sql)"
   ]
  },
  {
   "cell_type": "code",
   "execution_count": null,
   "metadata": {},
   "outputs": [],
   "source": [
    "del sevent_foq_sql"
   ]
  },
  {
   "cell_type": "code",
   "execution_count": 38,
   "metadata": {},
   "outputs": [],
   "source": [
    "eighte_fq_sql= '''SELECT 'c_Spain',t2.v,'2018fq',t4.v FROM (SELECT max(t1.boxoffice) AS v FROM film44 t1 WHERE t1.c_Spain=1 and mdate <= '2018-03-31'and mdate >='2018-01-01') t2 JOIN (SELECT sum(t3.boxoffice) AS v FROM film44 t3 WHERE t3.c_Spain=1  and mdate <= '2018-03-31'and mdate >='2018-01-01') t4'''\n",
    "exec_sql(eighte_fq_sql)"
   ]
  },
  {
   "cell_type": "code",
   "execution_count": null,
   "metadata": {},
   "outputs": [],
   "source": [
    "del eighte_fq_sql"
   ]
  },
  {
   "cell_type": "code",
   "execution_count": 39,
   "metadata": {},
   "outputs": [],
   "source": [
    "eighte_sq_sql = '''SELECT 'c_Spain',t2.v,'2018sq',t4.v FROM (SELECT max(t1.boxoffice) AS v FROM film44 t1 WHERE t1.c_Spain=1 and mdate <= '2018-06-30'and mdate >='2018-04-01') t2 JOIN (SELECT sum(t3.boxoffice) AS v FROM film44 t3 WHERE t3.c_Spain=1  and mdate <= '2018-06-30'and mdate >='2018-04-01') \n",
    "t4'''\n",
    "exec_sql(eighte_sq_sql) "
   ]
  },
  {
   "cell_type": "code",
   "execution_count": null,
   "metadata": {},
   "outputs": [],
   "source": [
    "del eighte_sq_sql"
   ]
  },
  {
   "cell_type": "code",
   "execution_count": 40,
   "metadata": {},
   "outputs": [],
   "source": [
    "eighte_tq_sql = '''SELECT 'c_Spain',t2.v,'2018tq',t4.v FROM (SELECT max(t1.boxoffice) AS v FROM film44 t1 WHERE t1.c_Spain=1 and mdate <= '2018-09-30'and mdate >='2018-07-01') t2 JOIN (SELECT sum(t3.boxoffice) AS v FROM film44 t3 WHERE t3.c_Spain=1  and mdate <= '2018-09-30'and mdate >='2018-07-01') t4'''\n",
    "exec_sql(eighte_tq_sql)"
   ]
  },
  {
   "cell_type": "code",
   "execution_count": null,
   "metadata": {},
   "outputs": [],
   "source": [
    "del eighte_tq_sql"
   ]
  },
  {
   "cell_type": "code",
   "execution_count": 41,
   "metadata": {},
   "outputs": [],
   "source": [
    "eighte_foq_sql = '''SELECT 'c_Spain',t2.v,'2018foq',t4.v FROM (SELECT max(t1.boxoffice) AS v FROM film44 t1 WHERE t1.c_Spain=1 and mdate <= '2018-12-31'and mdate >='2018-10-01') t2 JOIN (SELECT sum(t3.boxoffice) AS v FROM film44 t3 WHERE t3.c_Spain=1  and mdate <= '2018-12-31'and mdate >='2018-10-01') t4'''\n",
    "exec_sql(eighte_foq_sql)"
   ]
  },
  {
   "cell_type": "code",
   "execution_count": null,
   "metadata": {},
   "outputs": [],
   "source": [
    "del eighte_foq_sql"
   ]
  },
  {
   "cell_type": "markdown",
   "metadata": {},
   "source": [
    "# 德国"
   ]
  },
  {
   "cell_type": "code",
   "execution_count": 44,
   "metadata": {},
   "outputs": [],
   "source": [
    "sixt_fq_sql = '''SELECT 'c_Germany',t2.v,'2016fq',t4.v FROM (SELECT max(t1.boxoffice) AS v FROM film44 t1 WHERE t1.c_Germany=1 and mdate <= '2016-03-31'and mdate >='2016-01-01') t2 JOIN (SELECT sum(t3.boxoffice) AS v FROM film44 t3 WHERE t3.c_Germany=1  and mdate <= '2016-03-31'and mdate >='2016-01-01') t4'''\n",
    "exec_sql(sixt_fq_sql)"
   ]
  },
  {
   "cell_type": "code",
   "execution_count": null,
   "metadata": {},
   "outputs": [],
   "source": [
    "del sixt_fq_sql"
   ]
  },
  {
   "cell_type": "code",
   "execution_count": 45,
   "metadata": {},
   "outputs": [],
   "source": [
    "sixt_sq_sql = '''SELECT 'c_Germany',t2.v,'2016sq',t4.v FROM (SELECT max(t1.boxoffice) AS v FROM film44 t1 WHERE t1.c_Germany=1 and mdate <= '2016-06-30'and mdate >='2016-04-01') t2 JOIN (SELECT sum(t3.boxoffice) AS v FROM film44 t3 WHERE t3.c_Germany=1  and mdate <= '2016-06-30'and mdate >='2016-04-01') t4'''\n",
    "exec_sql(sixt_sq_sql)"
   ]
  },
  {
   "cell_type": "code",
   "execution_count": null,
   "metadata": {},
   "outputs": [],
   "source": [
    "del sixt_sq_sql"
   ]
  },
  {
   "cell_type": "code",
   "execution_count": 46,
   "metadata": {},
   "outputs": [],
   "source": [
    "sixt_tq_sql = '''SELECT 'c_Germany',t2.v,'2016tq',t4.v FROM (SELECT max(t1.boxoffice) AS v FROM film44 t1 WHERE t1.c_Germany=1 and mdate <= '2016-09-30'and mdate >='2016-07-01') t2 JOIN (SELECT sum(t3.boxoffice) AS v FROM film44 t3 WHERE t3.c_Germany=1  and mdate <= '2016-09-30'and mdate >='2016-07-01') t4'''\n",
    "exec_sql(sixt_tq_sql)"
   ]
  },
  {
   "cell_type": "code",
   "execution_count": null,
   "metadata": {},
   "outputs": [],
   "source": [
    "del sixt_tq_sql"
   ]
  },
  {
   "cell_type": "code",
   "execution_count": 47,
   "metadata": {},
   "outputs": [],
   "source": [
    "sixt_foq_sql = '''SELECT 'c_Germany',t2.v,'2016foq',t4.v FROM (SELECT max(t1.boxoffice) AS v FROM film44 t1 WHERE t1.c_Germany=1 and mdate <= '2016-12-31'and mdate >='2016-10-01') t2 JOIN (SELECT sum(t3.boxoffice) AS v FROM film44 t3 WHERE t3.c_Germany=1  and mdate <= '2016-12-31'and mdate >='2016-10-01') t4'''\n",
    "exec_sql(sixt_foq_sql)"
   ]
  },
  {
   "cell_type": "code",
   "execution_count": null,
   "metadata": {},
   "outputs": [],
   "source": [
    "del sixt_foq_sql"
   ]
  },
  {
   "cell_type": "code",
   "execution_count": 48,
   "metadata": {},
   "outputs": [],
   "source": [
    "sevent_fq_sql = '''SELECT 'c_Germany',t2.v,'2017fq',t4.v FROM (SELECT max(t1.boxoffice) AS v FROM film44 t1 WHERE t1.c_Germany=1 and mdate <= '2017-03-31'and mdate >='2017-01-01') t2 JOIN (SELECT sum(t3.boxoffice) AS v FROM film44 t3 WHERE t3.c_Germany=1  and mdate <= '2017-03-31'and mdate >='2017-01-01') t4'''\n",
    "exec_sql(sevent_fq_sql)"
   ]
  },
  {
   "cell_type": "code",
   "execution_count": null,
   "metadata": {},
   "outputs": [],
   "source": [
    "del sevent_fq_sql"
   ]
  },
  {
   "cell_type": "code",
   "execution_count": 49,
   "metadata": {},
   "outputs": [],
   "source": [
    "sevent_sq_sql = '''SELECT 'c_Germany',t2.v,'2017sq',t4.v FROM (SELECT max(t1.boxoffice) AS v FROM film44 t1 WHERE t1.c_Germany=1 and mdate <= '2017-06-30'and mdate >='2017-04-01') t2 JOIN (SELECT sum(t3.boxoffice) AS v FROM film44 t3 WHERE t3.c_Germany=1  and mdate <= '2017-06-30'and mdate >='2017-04-01') t4'''\n",
    "exec_sql(sevent_sq_sql)"
   ]
  },
  {
   "cell_type": "code",
   "execution_count": null,
   "metadata": {},
   "outputs": [],
   "source": [
    "del sevent_sq_sql"
   ]
  },
  {
   "cell_type": "code",
   "execution_count": 50,
   "metadata": {},
   "outputs": [],
   "source": [
    "sevent_tq_sql = '''SELECT 'c_Germany',t2.v,'2017tq',t4.v FROM (SELECT max(t1.boxoffice) AS v FROM film44 t1 WHERE t1.c_Germany=1 and mdate <= '2017-09-30'and mdate >='2017-07-01') t2 JOIN (SELECT sum(t3.boxoffice) AS v FROM film44 t3 WHERE t3.c_Germany=1  and mdate <= '2017-09-30'and mdate >='2017-07-01') t4'''\n",
    "exec_sql(sevent_tq_sql)"
   ]
  },
  {
   "cell_type": "code",
   "execution_count": null,
   "metadata": {},
   "outputs": [],
   "source": [
    "del sevent_tq_sql"
   ]
  },
  {
   "cell_type": "code",
   "execution_count": 51,
   "metadata": {},
   "outputs": [],
   "source": [
    "sevent_foq_sql = '''SELECT 'c_Germany',t2.v,'2017foq',t4.v FROM (SELECT max(t1.boxoffice) AS v FROM film44 t1 WHERE t1.c_Germany=1 and mdate <= '2017-12-31'and mdate >='2017-10-01') t2 JOIN (SELECT sum(t3.boxoffice) AS v FROM film44 t3 WHERE t3.c_Germany=1  and mdate <= '2017-12-31'and mdate >='2017-10-01') t4'''\n",
    "exec_sql(sevent_foq_sql)"
   ]
  },
  {
   "cell_type": "code",
   "execution_count": null,
   "metadata": {},
   "outputs": [],
   "source": [
    "del sevent_foq_sql"
   ]
  },
  {
   "cell_type": "code",
   "execution_count": 52,
   "metadata": {},
   "outputs": [],
   "source": [
    "eighte_fq_sql= '''SELECT 'c_Germany',t2.v,'2018fq',t4.v FROM (SELECT max(t1.boxoffice) AS v FROM film44 t1 WHERE t1.c_Germany=1 and mdate <= '2018-03-31'and mdate >='2018-01-01') t2 JOIN (SELECT sum(t3.boxoffice) AS v FROM film44 t3 WHERE t3.c_Germany=1  and mdate <= '2018-03-31'and mdate >='2018-01-01') t4'''\n",
    "exec_sql(eighte_fq_sql)"
   ]
  },
  {
   "cell_type": "code",
   "execution_count": null,
   "metadata": {},
   "outputs": [],
   "source": [
    "del eighte_fq_sql"
   ]
  },
  {
   "cell_type": "code",
   "execution_count": 53,
   "metadata": {},
   "outputs": [],
   "source": [
    "eighte_sq_sql = '''SELECT 'c_Germany',t2.v,'2018sq',t4.v FROM (SELECT max(t1.boxoffice) AS v FROM film44 t1 WHERE t1.c_Germany=1 and mdate <= '2018-06-30'and mdate >='2018-04-01') t2 JOIN (SELECT sum(t3.boxoffice) AS v FROM film44 t3 WHERE t3.c_Germany=1  and mdate <= '2018-06-30'and mdate >='2018-04-01') t4''' \n",
    "exec_sql(eighte_sq_sql)"
   ]
  },
  {
   "cell_type": "code",
   "execution_count": null,
   "metadata": {},
   "outputs": [],
   "source": [
    "del eighte_sq_sql"
   ]
  },
  {
   "cell_type": "code",
   "execution_count": 54,
   "metadata": {},
   "outputs": [],
   "source": [
    "eighte_tq_sql = '''SELECT 'c_Germany',t2.v,'2018tq',t4.v FROM (SELECT max(t1.boxoffice) AS v FROM film44 t1 WHERE t1.c_Germany=1 and mdate <= '2018-09-30'and mdate >='2018-07-01') t2 JOIN (SELECT sum(t3.boxoffice) AS v FROM film44 t3 WHERE t3.c_Germany=1  and mdate <= '2018-09-30'and mdate >='2018-07-01') t4'''\n",
    "exec_sql(eighte_tq_sql)"
   ]
  },
  {
   "cell_type": "code",
   "execution_count": null,
   "metadata": {},
   "outputs": [],
   "source": [
    "del eighte_tq_sql"
   ]
  },
  {
   "cell_type": "code",
   "execution_count": 55,
   "metadata": {},
   "outputs": [],
   "source": [
    "eighte_foq_sql = '''SELECT 'c_Germany',t2.v,'2018foq',t4.v FROM (SELECT max(t1.boxoffice) AS v FROM film44 t1 WHERE t1.c_Germany=1 and mdate <= '2018-12-31'and mdate >='2018-10-01') t2 JOIN (SELECT sum(t3.boxoffice) AS v FROM film44 t3 WHERE t3.c_Germany=1  and mdate <= '2018-12-31'and mdate >='2018-10-01') t4'''\n",
    "exec_sql(eighte_foq_sql)"
   ]
  },
  {
   "cell_type": "code",
   "execution_count": null,
   "metadata": {},
   "outputs": [],
   "source": [
    "del eighte_foq_sql"
   ]
  },
  {
   "cell_type": "markdown",
   "metadata": {},
   "source": [
    "# 波兰"
   ]
  },
  {
   "cell_type": "code",
   "execution_count": 56,
   "metadata": {},
   "outputs": [],
   "source": [
    "sixt_fq_sql = '''SELECT 'c_Poland',t2.v,'2016fq',t4.v FROM (SELECT max(t1.boxoffice) AS v FROM film44 t1 WHERE t1.c_Poland=1 and mdate <= '2016-03-31'and mdate >='2016-01-01') t2 JOIN (SELECT sum(t3.boxoffice) AS v FROM film44 t3 WHERE t3.c_Poland=1  and mdate <= '2016-03-31'and mdate >='2016-01-01') t4'''\n",
    "exec_sqle(sixt_fq_sql)"
   ]
  },
  {
   "cell_type": "code",
   "execution_count": null,
   "metadata": {},
   "outputs": [],
   "source": [
    "del sixt_fq_sql"
   ]
  },
  {
   "cell_type": "code",
   "execution_count": 57,
   "metadata": {},
   "outputs": [],
   "source": [
    "sixt_sq_sql = '''SELECT 'c_Poland',t2.v,'2016sq',t4.v FROM (SELECT max(t1.boxoffice) AS v FROM film44 t1 WHERE t1.c_Poland=1 and mdate <= '2016-06-30'and mdate >='2016-04-01') t2 JOIN (SELECT sum(t3.boxoffice) AS v FROM film44 t3 WHERE t3.c_Poland=1  and mdate <= '2016-06-30'and mdate >='2016-04-01') t4'''\n",
    "exec_sql(sixt_sq_sql)"
   ]
  },
  {
   "cell_type": "code",
   "execution_count": null,
   "metadata": {},
   "outputs": [],
   "source": [
    "del sixt_sq_sql"
   ]
  },
  {
   "cell_type": "code",
   "execution_count": 58,
   "metadata": {},
   "outputs": [],
   "source": [
    "sixt_tq_sql = '''SELECT 'c_Poland',t2.v,'2016tq',t4.v FROM (SELECT max(t1.boxoffice) AS v FROM film44 t1 WHERE t1.c_Poland=1 and mdate <= '2016-09-30'and mdate >='2016-07-01') t2 JOIN (SELECT sum(t3.boxoffice) AS v FROM film44 t3 WHERE t3.c_Poland=1  and mdate <= '2016-09-30'and mdate >='2016-07-01') t4'''\n",
    "exec_sql(sixt_tq_sql)"
   ]
  },
  {
   "cell_type": "code",
   "execution_count": null,
   "metadata": {},
   "outputs": [],
   "source": [
    "del sixt_tq_sql"
   ]
  },
  {
   "cell_type": "code",
   "execution_count": 59,
   "metadata": {},
   "outputs": [],
   "source": [
    "sixt_foq_sql = '''SELECT 'c_Poland',t2.v,'2016foq',t4.v FROM (SELECT max(t1.boxoffice) AS v FROM film44 t1 WHERE t1.c_Poland=1 and mdate <= '2016-12-31'and mdate >='2016-10-01') t2 JOIN (SELECT sum(t3.boxoffice) AS v FROM film44 t3 WHERE t3.c_Poland=1  and mdate <= '2016-12-31'and mdate >='2016-10-01') t4'''\n",
    "exec_sql(sixt_foq_sql)"
   ]
  },
  {
   "cell_type": "code",
   "execution_count": null,
   "metadata": {},
   "outputs": [],
   "source": [
    "del sixt_foq_sql"
   ]
  },
  {
   "cell_type": "code",
   "execution_count": 60,
   "metadata": {},
   "outputs": [],
   "source": [
    "sevent_fq_sql = '''SELECT 'c_Poland',t2.v,'2017fq',t4.v FROM (SELECT max(t1.boxoffice) AS v FROM film44 t1 WHERE t1.c_Poland=1 and mdate <= '2017-03-31'and mdate >='2017-01-01') t2 JOIN (SELECT sum(t3.boxoffice) AS v FROM film44 t3 WHERE t3.c_Poland=1  and mdate <= '2017-03-31'and mdate >='2017-01-01') t4'''\n",
    "exec_sql(sevent_fq_sql)"
   ]
  },
  {
   "cell_type": "code",
   "execution_count": null,
   "metadata": {},
   "outputs": [],
   "source": [
    "del sevent_fq_sql"
   ]
  },
  {
   "cell_type": "code",
   "execution_count": 61,
   "metadata": {},
   "outputs": [],
   "source": [
    "sevent_sq_sql = '''SELECT 'c_Poland',t2.v,'2017sq',t4.v FROM (SELECT max(t1.boxoffice) AS v FROM film44 t1 WHERE t1.c_Poland=1 and mdate <= '2017-06-30'and mdate >='2017-04-01') t2 JOIN (SELECT sum(t3.boxoffice) AS v FROM film44 t3 WHERE t3.c_Poland=1  and mdate <= '2017-06-30'and mdate >='2017-04-01') t4'''\n",
    "exec_sql(sevent_sq_sql)"
   ]
  },
  {
   "cell_type": "code",
   "execution_count": null,
   "metadata": {},
   "outputs": [],
   "source": [
    "del sevent_sq_sql"
   ]
  },
  {
   "cell_type": "code",
   "execution_count": 62,
   "metadata": {},
   "outputs": [],
   "source": [
    "sevent_tq_sql = '''SELECT 'c_Poland',t2.v,'2017tq',t4.v FROM (SELECT max(t1.boxoffice) AS v FROM film44 t1 WHERE t1.c_Poland=1 and mdate <= '2017-09-30'and mdate >='2017-07-01') t2 JOIN (SELECT sum(t3.boxoffice) AS v FROM film44 t3 WHERE t3.c_Poland=1  and mdate <= '2017-09-30'and mdate >='2017-07-01') t4'''\n",
    "exec_sql(sevent_tq_sql)"
   ]
  },
  {
   "cell_type": "code",
   "execution_count": null,
   "metadata": {},
   "outputs": [],
   "source": [
    "del sevent_tq_sql"
   ]
  },
  {
   "cell_type": "code",
   "execution_count": 63,
   "metadata": {},
   "outputs": [],
   "source": [
    "sevent_foq_sql = '''SELECT 'c_Poland',t2.v,'2017foq',t4.v FROM (SELECT max(t1.boxoffice) AS v FROM film44 t1 WHERE t1.c_Poland=1 and mdate <= '2017-12-31'and mdate >='2017-10-01') t2 JOIN (SELECT sum(t3.boxoffice) AS v FROM film44 t3 WHERE t3.c_Poland=1  and mdate <= '2017-12-31'and mdate >='2017-10-01') t4'''\n",
    "exec_sql(sevent_foq_sql)"
   ]
  },
  {
   "cell_type": "code",
   "execution_count": null,
   "metadata": {},
   "outputs": [],
   "source": [
    "del sevent_foq_sql"
   ]
  },
  {
   "cell_type": "code",
   "execution_count": 66,
   "metadata": {},
   "outputs": [],
   "source": [
    "eighte_fq_sql= '''SELECT 'c_Poland',t2.v,'2018fq',t4.v FROM (SELECT max(t1.boxoffice) AS v FROM film44 t1 WHERE t1.c_Poland=1 and mdate <= '2018-03-31'and mdate >='2018-01-01') t2 JOIN (SELECT sum(t3.boxoffice) AS v FROM film44 t3 WHERE t3.c_Poland=1  and mdate <= '2018-03-31'and mdate >='2018-01-01') t4'''\n",
    "exec_sql(eighte_fq_sql)"
   ]
  },
  {
   "cell_type": "code",
   "execution_count": null,
   "metadata": {},
   "outputs": [],
   "source": [
    "del eighte_fq_sql"
   ]
  },
  {
   "cell_type": "code",
   "execution_count": 67,
   "metadata": {},
   "outputs": [],
   "source": [
    "eighte_sq_sql = '''SELECT 'c_Poland',t2.v,'2018sq',t4.v FROM (SELECT max(t1.boxoffice) AS v FROM film44 t1 WHERE t1.c_Poland=1 and mdate <= '2018-06-30'and mdate >='2018-04-01') t2 JOIN (SELECT sum(t3.boxoffice) AS v FROM film44 t3 WHERE t3.c_Poland=1  and mdate <= '2018-06-30'and mdate >='2018-04-01') \n",
    "t4'''\n",
    "exec_sql(eighte_sq_sql)"
   ]
  },
  {
   "cell_type": "code",
   "execution_count": null,
   "metadata": {},
   "outputs": [],
   "source": [
    "del eighte_sq_sql"
   ]
  },
  {
   "cell_type": "code",
   "execution_count": 68,
   "metadata": {},
   "outputs": [],
   "source": [
    "eighte_tq_sql = '''SELECT 'c_Poland',t2.v,'2018tq',t4.v FROM (SELECT max(t1.boxoffice) AS v FROM film44 t1 WHERE t1.c_Poland=1 and mdate <= '2018-09-30'and mdate >='2018-07-01') t2 JOIN (SELECT sum(t3.boxoffice) AS v FROM film44 t3 WHERE t3.c_Poland=1  and mdate <= '2018-09-30'and mdate >='2018-07-01') t4'''\n",
    "exec_sql(eighte_tq_sql)"
   ]
  },
  {
   "cell_type": "code",
   "execution_count": null,
   "metadata": {},
   "outputs": [],
   "source": [
    "del eighte_tq_sql"
   ]
  },
  {
   "cell_type": "code",
   "execution_count": 69,
   "metadata": {},
   "outputs": [],
   "source": [
    "eighte_foq_sql = '''SELECT 'c_Poland',t2.v,'2018foq',t4.v FROM (SELECT max(t1.boxoffice) AS v FROM film44 t1 WHERE t1.c_Poland=1 and mdate <= '2018-12-31'and mdate >='2018-10-01') t2 JOIN (SELECT sum(t3.boxoffice) AS v FROM film44 t3 WHERE t3.c_Poland=1  and mdate <= '2018-12-31'and mdate >='2018-10-01') t4'''\n",
    "exec_sql(eighte_foq_sql)"
   ]
  },
  {
   "cell_type": "code",
   "execution_count": null,
   "metadata": {},
   "outputs": [],
   "source": [
    "del eighte_foq_sql"
   ]
  },
  {
   "cell_type": "markdown",
   "metadata": {},
   "source": [
    "# 澳大利亚"
   ]
  },
  {
   "cell_type": "code",
   "execution_count": 70,
   "metadata": {},
   "outputs": [],
   "source": [
    "sixt_fq_sql = '''SELECT 'c_Australia',t2.v,'2016fq',t4.v FROM (SELECT max(t1.boxoffice) AS v FROM film44 t1 WHERE t1.c_Australia=1 and mdate <= '2016-03-31'and mdate >='2016-01-01') t2 JOIN (SELECT sum(t3.boxoffice) AS v FROM film44 t3 WHERE t3.c_Australia=1  and mdate <= '2016-03-31'and mdate >='2016-01-01') t4'''\n",
    "exec_sql(sixt_fq_sql)"
   ]
  },
  {
   "cell_type": "code",
   "execution_count": null,
   "metadata": {},
   "outputs": [],
   "source": [
    "del sixt_fq_sql"
   ]
  },
  {
   "cell_type": "code",
   "execution_count": 71,
   "metadata": {},
   "outputs": [],
   "source": [
    "sixt_sq_sql = '''SELECT 'c_Australia',t2.v,'2016sq',t4.v FROM (SELECT max(t1.boxoffice) AS v FROM film44 t1 WHERE t1.c_Australia=1 and mdate <= '2016-06-30'and mdate >='2016-04-01') t2 JOIN (SELECT sum(t3.boxoffice) AS v FROM film44 t3 WHERE t3.c_Australia=1  and mdate <= '2016-06-30'and mdate >='2016-04-01') t4'''\n",
    "exec_sql(sixt_sq_sql)"
   ]
  },
  {
   "cell_type": "code",
   "execution_count": null,
   "metadata": {},
   "outputs": [],
   "source": [
    "del sixt_sq_sql"
   ]
  },
  {
   "cell_type": "code",
   "execution_count": 72,
   "metadata": {},
   "outputs": [],
   "source": [
    "sixt_tq_sql = '''SELECT 'c_Australia',t2.v,'2016tq',t4.v FROM (SELECT max(t1.boxoffice) AS v FROM film44 t1 WHERE t1.c_Australia=1 and mdate <= '2016-09-30'and mdate >='2016-07-01') t2 JOIN (SELECT sum(t3.boxoffice) AS v FROM film44 t3 WHERE t3.c_Australia=1  and mdate <= '2016-09-30'and mdate >='2016-07-01') t4'''\n",
    "exec_sql(sixt_tq_sql)"
   ]
  },
  {
   "cell_type": "code",
   "execution_count": null,
   "metadata": {},
   "outputs": [],
   "source": [
    "del sixt_tq_sql"
   ]
  },
  {
   "cell_type": "code",
   "execution_count": 73,
   "metadata": {},
   "outputs": [],
   "source": [
    "sixt_foq_sql = '''SELECT 'c_Australia',t2.v,'2016foq',t4.v FROM (SELECT max(t1.boxoffice) AS v FROM film44 t1 WHERE t1.c_Australia=1 and mdate <= '2016-12-31'and mdate >='2016-10-01') t2 JOIN (SELECT sum(t3.boxoffice) AS v FROM film44 t3 WHERE t3.c_Australia=1  and mdate <= '2016-12-31'and mdate >='2016-10-01') t4'''\n",
    "exec_sql(sixt_foq_sql)"
   ]
  },
  {
   "cell_type": "code",
   "execution_count": null,
   "metadata": {},
   "outputs": [],
   "source": [
    "del sixt_foq_sql"
   ]
  },
  {
   "cell_type": "code",
   "execution_count": 74,
   "metadata": {},
   "outputs": [],
   "source": [
    "sevent_fq_sql = '''SELECT 'c_Australia',t2.v,'2017fq',t4.v FROM (SELECT max(t1.boxoffice) AS v FROM film44 t1 WHERE t1.c_Australia=1 and mdate <= '2017-03-31'and mdate >='2017-01-01') t2 JOIN (SELECT sum(t3.boxoffice) AS v FROM film44 t3 WHERE t3.c_Australia=1  and mdate <= '2017-03-31'and mdate >='2017-01-01') t4'''\n",
    "exec_sql(sevent_fq_sql)"
   ]
  },
  {
   "cell_type": "code",
   "execution_count": null,
   "metadata": {},
   "outputs": [],
   "source": [
    "del sevent_fq_sql"
   ]
  },
  {
   "cell_type": "code",
   "execution_count": 75,
   "metadata": {},
   "outputs": [],
   "source": [
    "sevent_sq_sql = '''SELECT 'c_Australia',t2.v,'2017sq',t4.v FROM (SELECT max(t1.boxoffice) AS v FROM film44 t1 WHERE t1.c_Australia=1 and mdate <= '2017-06-30'and mdate >='2017-04-01') t2 JOIN (SELECT sum(t3.boxoffice) AS v FROM film44 t3 WHERE t3.c_Australia=1  and mdate <= '2017-06-30'and mdate >='2017-04-01') t4'''\n",
    "exec_sql(sevent_sq_sql)"
   ]
  },
  {
   "cell_type": "code",
   "execution_count": null,
   "metadata": {},
   "outputs": [],
   "source": [
    "del sevent_sq_sql"
   ]
  },
  {
   "cell_type": "code",
   "execution_count": 76,
   "metadata": {},
   "outputs": [],
   "source": [
    "sevent_tq_sql = '''SELECT 'c_Australia',t2.v,'2017tq',t4.v FROM (SELECT max(t1.boxoffice) AS v FROM film44 t1 WHERE t1.c_Australia=1 and mdate <= '2017-09-30'and mdate >='2017-07-01') t2 JOIN (SELECT sum(t3.boxoffice) AS v FROM film44 t3 WHERE t3.c_Australia=1  and mdate <= '2017-09-30'and mdate >='2017-07-01') t4'''\n",
    "exec_sql(sevent_tq_sql)"
   ]
  },
  {
   "cell_type": "code",
   "execution_count": null,
   "metadata": {},
   "outputs": [],
   "source": [
    "del sevent_tq_sql"
   ]
  },
  {
   "cell_type": "code",
   "execution_count": 77,
   "metadata": {},
   "outputs": [],
   "source": [
    "sevent_foq_sql = '''SELECT 'c_Australia',t2.v,'2017foq',t4.v FROM (SELECT max(t1.boxoffice) AS v FROM film44 t1 WHERE t1.c_Australia=1 and mdate <= '2017-12-31'and mdate >='2017-10-01') t2 JOIN (SELECT sum(t3.boxoffice) AS v FROM film44 t3 WHERE t3.c_Australia=1  and mdate <= '2017-12-31'and mdate >='2017-10-01') t4'''\n",
    "exec_sql(sevent_foq_sql)"
   ]
  },
  {
   "cell_type": "code",
   "execution_count": null,
   "metadata": {},
   "outputs": [],
   "source": [
    "del sevent_foq_sql"
   ]
  },
  {
   "cell_type": "code",
   "execution_count": 78,
   "metadata": {},
   "outputs": [],
   "source": [
    "eighte_fq_sql= '''SELECT 'c_Australia',t2.v,'2018fq',t4.v FROM (SELECT max(t1.boxoffice) AS v FROM film44 t1 WHERE t1.c_Australia=1 and mdate <= '2018-03-31'and mdate >='2018-01-01') t2 JOIN (SELECT sum(t3.boxoffice) AS v FROM film44 t3 WHERE t3.c_Australia=1  and mdate <= '2018-03-31'and mdate >='2018-01-01') t4'''\n",
    "exec_sql(eighte_fq_sql)"
   ]
  },
  {
   "cell_type": "code",
   "execution_count": null,
   "metadata": {},
   "outputs": [],
   "source": [
    "del eighte_fq_sql"
   ]
  },
  {
   "cell_type": "code",
   "execution_count": 79,
   "metadata": {},
   "outputs": [],
   "source": [
    "eighte_sq_sql = '''SELECT 'c_Australia',t2.v,'2018sq',t4.v FROM (SELECT max(t1.boxoffice) AS v FROM film44 t1 WHERE t1.c_Australia=1 and mdate <= '2018-06-30'and mdate >='2018-04-01') t2 JOIN (SELECT sum(t3.boxoffice) AS v FROM film44 t3 WHERE t3.c_Australia=1  and mdate <= '2018-06-30'and mdate >='2018-04-01') t4''' \n",
    "exec_sql(eighte_sq_sql)"
   ]
  },
  {
   "cell_type": "code",
   "execution_count": null,
   "metadata": {},
   "outputs": [],
   "source": [
    "del eighte_sq_sql"
   ]
  },
  {
   "cell_type": "code",
   "execution_count": 80,
   "metadata": {},
   "outputs": [],
   "source": [
    "eighte_tq_sql = '''SELECT 'c_Australia',t2.v,'2018tq',t4.v FROM (SELECT max(t1.boxoffice) AS v FROM film44 t1 WHERE t1.c_Australia=1 and mdate <= '2018-09-30'and mdate >='2018-07-01') t2 JOIN (SELECT sum(t3.boxoffice) AS v FROM film44 t3 WHERE t3.c_Australia=1  and mdate <= '2018-09-30'and mdate >='2018-07-01') t4'''\n",
    "exec_sql(eighte_tq_sql)"
   ]
  },
  {
   "cell_type": "code",
   "execution_count": null,
   "metadata": {},
   "outputs": [],
   "source": [
    "del eighte_tq_sql"
   ]
  },
  {
   "cell_type": "code",
   "execution_count": 81,
   "metadata": {},
   "outputs": [],
   "source": [
    "eighte_foq_sql = '''SELECT 'c_Australia',t2.v,'2018foq',t4.v FROM (SELECT max(t1.boxoffice) AS v FROM film44 t1 WHERE t1.c_Australia=1 and mdate <= '2018-12-31'and mdate >='2018-10-01') t2 JOIN (SELECT sum(t3.boxoffice) AS v FROM film44 t3 WHERE t3.c_Australia=1  and mdate <= '2018-12-31'and mdate >='2018-10-01') t4'''\n",
    "exec_sql(eighte_foq_sql)"
   ]
  },
  {
   "cell_type": "code",
   "execution_count": null,
   "metadata": {},
   "outputs": [],
   "source": [
    "del eighte_foq_sql"
   ]
  },
  {
   "cell_type": "markdown",
   "metadata": {},
   "source": [
    "# 伊朗"
   ]
  },
  {
   "cell_type": "code",
   "execution_count": 82,
   "metadata": {},
   "outputs": [],
   "source": [
    "sixt_fq_sql = '''SELECT 'c_Iran',t2.v,'2016fq',t4.v FROM (SELECT max(t1.boxoffice) AS v FROM film44 t1 WHERE t1.c_Iran=1 and mdate <= '2016-03-31'and mdate >='2016-01-01') t2 JOIN (SELECT sum(t3.boxoffice) AS v FROM film44 t3 WHERE t3.c_Iran=1  and mdate <= '2016-03-31'and mdate >='2016-01-01') t4'''\n",
    "exec_sql(sixt_fq_sql)"
   ]
  },
  {
   "cell_type": "code",
   "execution_count": null,
   "metadata": {},
   "outputs": [],
   "source": [
    "del sixt_fq_sql"
   ]
  },
  {
   "cell_type": "code",
   "execution_count": 83,
   "metadata": {},
   "outputs": [],
   "source": [
    "sixt_sq_sql = '''SELECT 'c_Iran',t2.v,'2016sq',t4.v FROM (SELECT max(t1.boxoffice) AS v FROM film44 t1 WHERE t1.c_Iran=1 and mdate <= '2016-06-30'and mdate >='2016-04-01') t2 JOIN (SELECT sum(t3.boxoffice) AS v FROM film44 t3 WHERE t3.c_Iran=1  and mdate <= '2016-06-30'and mdate >='2016-04-01') t4'''\n",
    "exec_sql(sixt_sq_sql)"
   ]
  },
  {
   "cell_type": "code",
   "execution_count": null,
   "metadata": {},
   "outputs": [],
   "source": [
    "del sixt_sq_sql"
   ]
  },
  {
   "cell_type": "code",
   "execution_count": 84,
   "metadata": {},
   "outputs": [],
   "source": [
    "sixt_tq_sql = '''insert into table gross_boxo_and_top_boxo_changes SELECT 'c_Iran',t2.v,'2016tq',t4.v FROM (SELECT max(t1.boxoffice) AS v FROM film44 t1 WHERE t1.c_Iran=1 and mdate <= '2016-09-30'and mdate >='2016-07-01') t2 JOIN (SELECT sum(t3.boxoffice) AS v FROM film44 t3 WHERE t3.c_Iran=1  and mdate <= '2016-09-30'and mdate >='2016-07-01') t4'''\n",
    "exec_sql(sixt_tq_sql)"
   ]
  },
  {
   "cell_type": "code",
   "execution_count": null,
   "metadata": {},
   "outputs": [],
   "source": [
    "del sixt_tq_sql"
   ]
  },
  {
   "cell_type": "code",
   "execution_count": 87,
   "metadata": {},
   "outputs": [],
   "source": [
    "sixt_foq_sql = '''SELECT 'c_Iran',t2.v,'2016foq',t4.v FROM (SELECT max(t1.boxoffice) AS v FROM film44 t1 WHERE t1.c_Iran=1 and mdate <= '2016-12-31'and mdate >='2016-10-01') t2 JOIN (SELECT sum(t3.boxoffice) AS v FROM film44 t3 WHERE t3.c_Iran=1  and mdate <= '2016-12-31'and mdate >='2016-10-01') t4'''\n",
    "exec_sql(sixt_foq_sql)"
   ]
  },
  {
   "cell_type": "code",
   "execution_count": null,
   "metadata": {},
   "outputs": [],
   "source": [
    "del sixt_foq_sql"
   ]
  },
  {
   "cell_type": "code",
   "execution_count": 88,
   "metadata": {},
   "outputs": [],
   "source": [
    "sevent_fq_sql = '''SELECT 'c_Iran',t2.v,'2017fq',t4.v FROM (SELECT max(t1.boxoffice) AS v FROM film44 t1 WHERE t1.c_Iran=1 and mdate <= '2017-03-31'and mdate >='2017-01-01') t2 JOIN (SELECT sum(t3.boxoffice) AS v FROM film44 t3 WHERE t3.c_Iran=1  and mdate <= '2017-03-31'and mdate >='2017-01-01') t4'''\n",
    "exec_sql(sevent_fq_sql)"
   ]
  },
  {
   "cell_type": "code",
   "execution_count": null,
   "metadata": {},
   "outputs": [],
   "source": [
    "del sevent_fq_sql"
   ]
  },
  {
   "cell_type": "code",
   "execution_count": 89,
   "metadata": {},
   "outputs": [],
   "source": [
    "sevent_sq_sql = '''SELECT 'c_Iran',t2.v,'2017sq',t4.v FROM (SELECT max(t1.boxoffice) AS v FROM film44 t1 WHERE t1.c_Iran=1 and mdate <= '2017-06-30'and mdate >='2017-04-01') t2 JOIN (SELECT sum(t3.boxoffice) AS v FROM film44 t3 WHERE t3.c_Iran=1  and mdate <= '2017-06-30'and mdate >='2017-04-01') t4'''\n",
    "exec_sql(sevent_sq_sql)"
   ]
  },
  {
   "cell_type": "code",
   "execution_count": null,
   "metadata": {},
   "outputs": [],
   "source": [
    "del sevent_sq_sql"
   ]
  },
  {
   "cell_type": "code",
   "execution_count": 90,
   "metadata": {},
   "outputs": [],
   "source": [
    "sevent_tq_sql = '''SELECT 'c_Iran',t2.v,'2017tq',t4.v FROM (SELECT max(t1.boxoffice) AS v FROM film44 t1 WHERE t1.c_Iran=1 and mdate <= '2017-09-30'and mdate >='2017-07-01') t2 JOIN (SELECT sum(t3.boxoffice) AS v FROM film44 t3 WHERE t3.c_Iran=1  and mdate <= '2017-09-30'and mdate >='2017-07-01') t4'''\n",
    "exec_sql(sevent_tq_sql)"
   ]
  },
  {
   "cell_type": "code",
   "execution_count": null,
   "metadata": {},
   "outputs": [],
   "source": [
    "del sevent_tq_sql"
   ]
  },
  {
   "cell_type": "code",
   "execution_count": 91,
   "metadata": {},
   "outputs": [],
   "source": [
    "sevent_foq_sql = '''SELECT 'c_Iran',t2.v,'2017foq',t4.v FROM (SELECT max(t1.boxoffice) AS v FROM film44 t1 WHERE t1.c_Iran=1 and mdate <= '2017-12-31'and mdate >='2017-10-01') t2 JOIN (SELECT sum(t3.boxoffice) AS v FROM film44 t3 WHERE t3.c_Iran=1  and mdate <= '2017-12-31'and mdate >='2017-10-01') t4'''\n",
    "exec_sql(sevent_foq_sql)"
   ]
  },
  {
   "cell_type": "code",
   "execution_count": null,
   "metadata": {},
   "outputs": [],
   "source": [
    "del sevent_foq_sql"
   ]
  },
  {
   "cell_type": "code",
   "execution_count": 92,
   "metadata": {},
   "outputs": [],
   "source": [
    "eighte_fq_sql= '''SELECT 'c_Iran',t2.v,'2018fq',t4.v FROM (SELECT max(t1.boxoffice) AS v FROM film44 t1 WHERE t1.c_Iran=1 and mdate <= '2018-03-31'and mdate >='2018-01-01') t2 JOIN (SELECT sum(t3.boxoffice) AS v FROM film44 t3 WHERE t3.c_Iran=1  and mdate <= '2018-03-31'and mdate >='2018-01-01') t4'''\n",
    "exec_sql(eighte_fq_sql)"
   ]
  },
  {
   "cell_type": "code",
   "execution_count": null,
   "metadata": {},
   "outputs": [],
   "source": [
    "del eighte_fq_sql"
   ]
  },
  {
   "cell_type": "code",
   "execution_count": 93,
   "metadata": {},
   "outputs": [],
   "source": [
    "eighte_sq_sql = '''SELECT 'c_Iran',t2.v,'2018sq',t4.v FROM (SELECT max(t1.boxoffice) AS v FROM film44 t1 WHERE t1.c_Iran=1 and mdate <= '2018-06-30'and mdate >='2018-04-01') t2 JOIN (SELECT sum(t3.boxoffice) AS v FROM film44 t3 WHERE t3.c_Iran=1  and mdate <= '2018-06-30'and mdate >='2018-04-01') t4''' \n",
    "exec_sql(eighte_sq_sql)"
   ]
  },
  {
   "cell_type": "code",
   "execution_count": null,
   "metadata": {},
   "outputs": [],
   "source": [
    "del eighte_sq_sql"
   ]
  },
  {
   "cell_type": "code",
   "execution_count": 96,
   "metadata": {},
   "outputs": [],
   "source": [
    "eighte_tq_sql = '''SELECT 'c_Iran',t2.v,'2018tq',t4.v FROM (SELECT max(t1.boxoffice) AS v FROM film44 t1 WHERE t1.c_Iran=1 and mdate <= '2018-09-30'and mdate >='2018-07-01') t2 JOIN (SELECT sum(t3.boxoffice) AS v FROM film44 t3 WHERE t3.c_Iran=1  and mdate <= '2018-09-30'and mdate >='2018-07-01') t4'''\n",
    "exec_sql(eighte_tq_sql)"
   ]
  },
  {
   "cell_type": "code",
   "execution_count": null,
   "metadata": {},
   "outputs": [],
   "source": [
    "del eighte_tq_sql"
   ]
  },
  {
   "cell_type": "code",
   "execution_count": 97,
   "metadata": {},
   "outputs": [],
   "source": [
    "eighte_foq_sql = '''SELECT 'c_Iran',t2.v,'2018foq',t4.v FROM (SELECT max(t1.boxoffice) AS v FROM film44 t1 WHERE t1.c_Iran=1 and mdate <= '2018-12-31'and mdate >='2018-10-01') t2 JOIN (SELECT sum(t3.boxoffice) AS v FROM film44 t3 WHERE t3.c_Iran=1  and mdate <= '2018-12-31'and mdate >='2018-10-01') t4'''\n",
    "exec_sql(eighte_foq_sql)"
   ]
  },
  {
   "cell_type": "code",
   "execution_count": null,
   "metadata": {},
   "outputs": [],
   "source": [
    "del eighte_foq_sql"
   ]
  },
  {
   "cell_type": "markdown",
   "metadata": {},
   "source": [
    "# 其他国家"
   ]
  },
  {
   "cell_type": "code",
   "execution_count": 2,
   "metadata": {},
   "outputs": [],
   "source": [
    "sixt_fq_sql = '''SELECT 'c_Others',t2.v,'2016fq',t4.v FROM (SELECT max(t1.boxoffice) AS v FROM film44 t1 WHERE t1.c_Others=1 and mdate <= '2016-03-31'and mdate >='2016-01-01') t2 JOIN (SELECT sum(t3.boxoffice) AS v FROM film44 t3 WHERE t3.c_Others=1  and mdate <= '2016-03-31'and mdate >='2016-01-01') t4'''\n",
    "exec_sql(sixt_fq_sql)"
   ]
  },
  {
   "cell_type": "code",
   "execution_count": null,
   "metadata": {},
   "outputs": [],
   "source": [
    "del sixt_fq_sql"
   ]
  },
  {
   "cell_type": "code",
   "execution_count": 3,
   "metadata": {},
   "outputs": [],
   "source": [
    "sixt_sq_sql = '''SELECT 'c_Others',t2.v,'2016sq',t4.v FROM (SELECT max(t1.boxoffice) AS v FROM film44 t1 WHERE t1.c_Others=1 and mdate <= '2016-06-30'and mdate >='2016-04-01') t2 JOIN (SELECT sum(t3.boxoffice) AS v FROM film44 t3 WHERE t3.c_Others=1  and mdate <= '2016-06-30'and mdate >='2016-04-01') t4'''\n",
    "exec_sql(sixt_sq_sql)"
   ]
  },
  {
   "cell_type": "code",
   "execution_count": null,
   "metadata": {},
   "outputs": [],
   "source": [
    "del sixt_sq_sql"
   ]
  },
  {
   "cell_type": "code",
   "execution_count": 4,
   "metadata": {},
   "outputs": [],
   "source": [
    "sixt_tq_sql = '''SELECT 'c_Others',t2.v,'2016tq',t4.v FROM (SELECT max(t1.boxoffice) AS v FROM film44 t1 WHERE t1.c_Others=1 and mdate <= '2016-09-30'and mdate >='2016-07-01') t2 JOIN (SELECT sum(t3.boxoffice) AS v FROM film44 t3 WHERE t3.c_Others=1  and mdate <= '2016-09-30'and mdate >='2016-07-01') t4'''\n",
    "exec_sql(sixt_tq_sql)"
   ]
  },
  {
   "cell_type": "code",
   "execution_count": null,
   "metadata": {},
   "outputs": [],
   "source": [
    "del sixt_tq_sql"
   ]
  },
  {
   "cell_type": "code",
   "execution_count": 5,
   "metadata": {},
   "outputs": [],
   "source": [
    "sixt_foq_sql = '''SELECT 'c_Others',t2.v,'2016foq',t4.v FROM (SELECT max(t1.boxoffice) AS v FROM film44 t1 WHERE t1.c_Others=1 and mdate <= '2016-12-31'and mdate >='2016-10-01') t2 JOIN (SELECT sum(t3.boxoffice) AS v FROM film44 t3 WHERE t3.c_Others=1  and mdate <= '2016-12-31'and mdate >='2016-10-01') t4'''\n",
    "exec_sql(sixt_foq_sql)"
   ]
  },
  {
   "cell_type": "code",
   "execution_count": null,
   "metadata": {},
   "outputs": [],
   "source": [
    "del sixt_foq_sql"
   ]
  },
  {
   "cell_type": "code",
   "execution_count": 6,
   "metadata": {},
   "outputs": [],
   "source": [
    "sevent_fq_sql = '''SELECT 'c_Others',t2.v,'2017fq',t4.v FROM (SELECT max(t1.boxoffice) AS v FROM film44 t1 WHERE t1.c_Others=1 and mdate <= '2017-03-31'and mdate >='2017-01-01') t2 JOIN (SELECT sum(t3.boxoffice) AS v FROM film44 t3 WHERE t3.c_Others=1  and mdate <= '2017-03-31'and mdate >='2017-01-01') t4'''\n",
    "exec_sql(sevent_fq_sql)"
   ]
  },
  {
   "cell_type": "code",
   "execution_count": null,
   "metadata": {},
   "outputs": [],
   "source": [
    "del sevent_fq_sql"
   ]
  },
  {
   "cell_type": "code",
   "execution_count": 7,
   "metadata": {},
   "outputs": [],
   "source": [
    "sevent_sq_sql = '''SELECT 'c_Others',t2.v,'2017sq',t4.v FROM (SELECT max(t1.boxoffice) AS v FROM film44 t1 WHERE t1.c_Others=1 and mdate <= '2017-06-30'and mdate >='2017-04-01') t2 JOIN (SELECT sum(t3.boxoffice) AS v FROM film44 t3 WHERE t3.c_Others=1  and mdate <= '2017-06-30'and mdate >='2017-04-01') t4'''\n",
    "exec_sql(sevent_sq_sql)"
   ]
  },
  {
   "cell_type": "code",
   "execution_count": null,
   "metadata": {},
   "outputs": [],
   "source": [
    "del sevent_sq_sql"
   ]
  },
  {
   "cell_type": "code",
   "execution_count": 8,
   "metadata": {},
   "outputs": [],
   "source": [
    "sevent_tq_sql = '''SELECT 'c_Others',t2.v,'2017tq',t4.v FROM (SELECT max(t1.boxoffice) AS v FROM film44 t1 WHERE t1.c_Others=1 and mdate <= '2017-09-30'and mdate >='2017-07-01') t2 JOIN (SELECT sum(t3.boxoffice) AS v FROM film44 t3 WHERE t3.c_Others=1  and mdate <= '2017-09-30'and mdate >='2017-07-01') t4'''\n",
    "exec_sql(sevent_tq_sql)"
   ]
  },
  {
   "cell_type": "code",
   "execution_count": null,
   "metadata": {},
   "outputs": [],
   "source": [
    "del sevent_tq_sql"
   ]
  },
  {
   "cell_type": "code",
   "execution_count": 9,
   "metadata": {},
   "outputs": [],
   "source": [
    "sevent_foq_sql = '''SELECT 'c_Others',t2.v,'2017foq',t4.v FROM (SELECT max(t1.boxoffice) AS v FROM film44 t1 WHERE t1.c_Others=1 and mdate <= '2017-12-31'and mdate >='2017-10-01') t2 JOIN (SELECT sum(t3.boxoffice) AS v FROM film44 t3 WHERE t3.c_Others=1  and mdate <= '2017-12-31'and mdate >='2017-10-01') t4'''\n",
    "exec_sql(sevent_foq_sql)"
   ]
  },
  {
   "cell_type": "code",
   "execution_count": null,
   "metadata": {},
   "outputs": [],
   "source": [
    "del sevent_foq_sql"
   ]
  },
  {
   "cell_type": "code",
   "execution_count": 10,
   "metadata": {},
   "outputs": [],
   "source": [
    "eighte_fq_sql= '''SELECT 'c_Others',t2.v,'2018fq',t4.v FROM (SELECT max(t1.boxoffice) AS v FROM film44 t1 WHERE t1.c_Others=1 and mdate <= '2018-03-31'and mdate >='2018-01-01') t2 JOIN (SELECT sum(t3.boxoffice) AS v FROM film44 t3 WHERE t3.c_Others=1  and mdate <= '2018-03-31'and mdate >='2018-01-01') t4'''\n",
    "exec_sql(eighte_fq_sql)"
   ]
  },
  {
   "cell_type": "code",
   "execution_count": null,
   "metadata": {},
   "outputs": [],
   "source": [
    "del eighte_fq_sql"
   ]
  },
  {
   "cell_type": "code",
   "execution_count": 11,
   "metadata": {},
   "outputs": [],
   "source": [
    "eighte_sq_sql = '''SELECT 'c_Others',t2.v,'2018sq',t4.v FROM (SELECT max(t1.boxoffice) AS v FROM film44 t1 WHERE t1.c_Others=1 and mdate <= '2018-06-30'and mdate >='2018-04-01') t2 JOIN (SELECT sum(t3.boxoffice) AS v FROM film44 t3 WHERE t3.c_Others=1  and mdate <= '2018-06-30'and mdate >='2018-04-01') t4'''  \n",
    "exec_sql(eighte_sq_sql)"
   ]
  },
  {
   "cell_type": "code",
   "execution_count": null,
   "metadata": {},
   "outputs": [],
   "source": [
    "del eighte_sq_sql"
   ]
  },
  {
   "cell_type": "code",
   "execution_count": 12,
   "metadata": {},
   "outputs": [],
   "source": [
    "eighte_tq_sql = '''SELECT 'c_Others',t2.v,'2018tq',t4.v FROM (SELECT max(t1.boxoffice) AS v FROM film44 t1 WHERE t1.c_Others=1 and mdate <= '2018-09-30'and mdate >='2018-07-01') t2 JOIN (SELECT sum(t3.boxoffice) AS v FROM film44 t3 WHERE t3.c_Others=1  and mdate <= '2018-09-30'and mdate >='2018-07-01') t4'''\n",
    "exec_sql(eighte_tq_sql)"
   ]
  },
  {
   "cell_type": "code",
   "execution_count": null,
   "metadata": {},
   "outputs": [],
   "source": [
    "del eighte_tq_sql"
   ]
  },
  {
   "cell_type": "code",
   "execution_count": 13,
   "metadata": {},
   "outputs": [],
   "source": [
    "eighte_foq_sql = '''SELECT 'c_Others',t2.v,'2018foq',t4.v FROM (SELECT max(t1.boxoffice) AS v FROM film44 t1 WHERE t1.c_Others=1 and mdate <= '2018-12-31'and mdate >='2018-10-01') t2 JOIN (SELECT sum(t3.boxoffice) AS v FROM film44 t3 WHERE t3.c_Others=1  and mdate <= '2018-12-31'and mdate >='2018-10-01') t4'''\n",
    "exec_sql(eighte_foq_sql)"
   ]
  },
  {
   "cell_type": "code",
   "execution_count": null,
   "metadata": {},
   "outputs": [],
   "source": [
    "del eighte_foq_sql"
   ]
  },
  {
   "cell_type": "code",
   "execution_count": null,
   "metadata": {},
   "outputs": [],
   "source": []
  },
  {
   "cell_type": "code",
   "execution_count": null,
   "metadata": {},
   "outputs": [],
   "source": []
  },
  {
   "cell_type": "code",
   "execution_count": null,
   "metadata": {},
   "outputs": [],
   "source": []
  }
 ],
 "metadata": {
  "kernelspec": {
   "display_name": "Python 3",
   "language": "python",
   "name": "python3"
  },
  "language_info": {
   "codemirror_mode": {
    "name": "ipython",
    "version": 3
   },
   "file_extension": ".py",
   "mimetype": "text/x-python",
   "name": "python",
   "nbconvert_exporter": "python",
   "pygments_lexer": "ipython3",
   "version": "3.5.2"
  }
 },
 "nbformat": 4,
 "nbformat_minor": 2
}
