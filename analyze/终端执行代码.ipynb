{
 "cells": [
  {
   "cell_type": "raw",
   "metadata": {},
   "source": [
    "alter table personas SET SERDEPROPERTIES('serialization.null.format' = 'NULL'); "
   ]
  },
  {
   "cell_type": "markdown",
   "metadata": {},
   "source": [
    "#  create MySQL table "
   ]
  },
  {
   "cell_type": "raw",
   "metadata": {},
   "source": [
    "CREATE TABLE `comex`.`personas` (`id` varchar(20),`name` varchar(20),`man` varchar(20),`woman` varchar(20),`below20` varchar(20), `t_to_t4` varchar(20),`t5_to_t9` varchar(20),`th_to_th4` varchar(20),`th5_to_th9` varchar(20),`above40` varchar(20),`bachelor_degree_or_above` varchar(20),`undergraduate_and_below` varchar(20),`second_tier_city` varchar(20),`fourth_tier_city` varchar(20),`third_tier_citiy` varchar(20),`first_tier_city` varchar(20),`occupation1` varchar(20),`per1` varchar(20),`occupation2` varchar(20),`per2` varchar(20),`occupation3` varchar(20),`per3` varchar(20),`preference_film1` varchar(20),`pers1` varchar(20),`preference_film2` varchar(20),`pers2` varchar(20),`preference_film3` varchar(20),`pers3` varchar(20),`preference_film4` varchar(20),`pers4` varchar(20),`preference_film5` varchar(20),`pers5` varchar(20),`bought1` varchar(20),`bought2` varchar(20),`bought3` varchar(20),`bought4` varchar(20),`bought5` varchar(20),`bought6` varchar(20),`bought7` varchar(20),`bought8` varchar(20),`bought9` varchar(20),`bought10` varchar(20)) ENGINE=InnoDB DEFAULT CHARSET=utf8;"
   ]
  },
  {
   "cell_type": "markdown",
   "metadata": {},
   "source": [
    "# ceate Hive table"
   ]
  },
  {
   "cell_type": "raw",
   "metadata": {},
   "source": [
    "create table personas(id FLOAT,name STRING,man FLOAT,woman FLOAT,below20 FLOAT,t_to_t4 FLOAT,t5_to_t9 FLOAT,th_to_th4 FLOAT,th5_to_th9 FLOAT,above40 FLOAT,bachelor_degree_or_above FLOAT,undergraduate_and_below FLOAT,second_tier_city FLOAT,fourth_tier_city FLOAT,third_tier_citiy FLOAT,first_tier_city FLOAT,occupation1 STRING,per1 FLOAT,occupation2 STRING,per2 FLOAT,occupation3 STRING,per3 FLOAT,preference_film1 STRING,pers1 FLOAT,preference_film2 STRING,pers2 FLOAT,preference_film3 STRING,pers3 FLOAT,preference_film4 STRING,pers4 FLOAT,preference_film5 STRING,pers5 FLOAT,bought1 STRING,bought2 STRING,bought3 STRING,bought4 STRING,bought5 STRING,bought6 STRING,bought7 STRING,bought8 STRING,bought9 STRING,bought10 STRING) ROW format delimited fields terminated by ',' STORED AS TEXTFILE;"
   ]
  },
  {
   "cell_type": "raw",
   "metadata": {},
   "source": [
    "load data local inpath '/home/hadoop/Comex/personas.csv' into table personas;"
   ]
  },
  {
   "cell_type": "markdown",
   "metadata": {},
   "source": [
    "# after_prep"
   ]
  },
  {
   "cell_type": "raw",
   "metadata": {},
   "source": [
    "create table after_prep(id FLOAT,name STRING,man FLOAT,woman FLOAT,below20 FLOAT,t_to_t4 FLOAT,t5_to_t9 FLOAT,th_to_th4 FLOAT,th5_to_th9 FLOAT,above40 FLOAT,bachelor_degree_or_above FLOAT,undergraduate_and_below FLOAT,second_tier_city FLOAT,fourth_tier_city FLOAT,third_tier_citiy FLOAT,first_tier_city FLOAT,occupation1 STRING,per1 FLOAT,occupation2 STRING,per2 FLOAT,occupation3 STRING,per3 FLOAT,preference_film1 STRING,pers1 FLOAT,preference_film2 STRING,pers2 FLOAT,preference_film3 STRING,pers3 FLOAT,preference_film4 STRING,pers4 FLOAT,preference_film5 STRING,pers5 FLOAT,bought1 STRING,bought2 STRING,bought3 STRING,bought4 STRING,bought5 STRING,bought6 STRING,bought7 STRING,bought8 STRING,bought9 STRING,bought10 STRING) ROW format delimited fields terminated by ',' STORED AS TEXTFILE;"
   ]
  },
  {
   "cell_type": "raw",
   "metadata": {},
   "source": [
    "insert overwrite table after_prep select * from personas where id IS NOT NULL AND name IS NOT NULL AND man IS NOT NULL AND woman IS NOT NULL AND below20 IS NOT NULL AND t_to_t4 IS NOT NULL AND t5_to_t9 IS NOT NULL AND th_to_th4 IS NOT NULL AND th5_to_th9 IS NOT NULL AND above40 IS NOT NULL AND bachelor_degree_or_above IS NOT NULL AND undergraduate_and_below IS NOT NULL AND second_tier_city IS NOT NULL AND fourth_tier_city IS NOT NULL AND third_tier_citiy IS NOT NULL AND first_tier_city IS NOT NULL AND occupation1 IS NOT NULL AND per1 IS NOT NULL AND occupation2 IS NOT NULL AND per2 IS NOT NULL AND occupation3 IS NOT NULL AND per3 IS NOT NULL AND preference_film1 IS NOT NULL AND pers1 IS NOT NULL AND preference_film2 IS NOT NULL AND pers2 IS NOT NULL AND preference_film3 IS NOT NULL AND pers3 IS NOT NULL AND preference_film4 IS NOT NULL AND pers4 IS NOT NULL AND preference_film5 IS NOT NULL AND pers5 IS NOT NULL AND bought1 IS NOT NULL AND bought2 IS NOT NULL AND bought3 IS NOT NULL AND bought4 IS NOT NULL AND bought5 IS NOT NULL AND bought6 IS NOT NULL AND bought7 IS NOT NULL AND bought8 IS NOT NULL AND bought9 IS NOT NULL AND bought10 IS NOT NULL;"
   ]
  },
  {
   "cell_type": "raw",
   "metadata": {},
   "source": [
    "cd /usr/local/sqoop"
   ]
  },
  {
   "cell_type": "raw",
   "metadata": {},
   "source": [
    "bin/sqoop export --connect jdbc:mysql://localhost:3306/comex --username root --password 123456 --table personas --export-dir '/user/hive/warehouse/comex.db/after_prep' --fields-terminated-by ',';"
   ]
  }
 ],
 "metadata": {
  "kernelspec": {
   "display_name": "Python 3",
   "language": "python",
   "name": "python3"
  },
  "language_info": {
   "codemirror_mode": {
    "name": "ipython",
    "version": 3
   },
   "file_extension": ".py",
   "mimetype": "text/x-python",
   "name": "python",
   "nbconvert_exporter": "python",
   "pygments_lexer": "ipython3",
   "version": "3.5.2"
  }
 },
 "nbformat": 4,
 "nbformat_minor": 2
}
