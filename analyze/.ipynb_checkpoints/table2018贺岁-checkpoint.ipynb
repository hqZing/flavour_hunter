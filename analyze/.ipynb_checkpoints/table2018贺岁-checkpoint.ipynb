{
 "cells": [
  {
   "cell_type": "code",
   "execution_count": 1,
   "metadata": {
    "collapsed": true
   },
   "outputs": [],
   "source": [
    "from pyhive import hive\n",
    "import pymysql\n",
    "conn = hive.Connection(host='127.0.0.1', port=10000, username='root')\n",
    "cursor = conn.cursor()"
   ]
  },
  {
   "cell_type": "code",
   "execution_count": null,
   "metadata": {
    "collapsed": true
   },
   "outputs": [],
   "source": [
    "def exec_sql(sql):\n",
    "    cursor.execute(sql)\n",
    "    for result in cursor.fetchall():\n",
    "        print(result)"
   ]
  },
  {
   "cell_type": "markdown",
   "metadata": {},
   "source": [
    "# 2018贺岁档"
   ]
  },
  {
   "cell_type": "code",
   "execution_count": null,
   "metadata": {
    "collapsed": true
   },
   "outputs": [],
   "source": [
    "t_romance_sql = '''SELECT '2018he','t_romance',t2.v FROM (SELECT SUM(t1.boxoffice) AS v FROM film44 t1 WHERE t1.t_romance=1 and mdate  >='2018-02-15'and mdate  <='2018-02-21') t2'''\n",
    "exec_sql(t_romance_sql)\n",
    "del t_romance_sql"
   ]
  },
  {
   "cell_type": "code",
   "execution_count": null,
   "metadata": {
    "collapsed": true
   },
   "outputs": [],
   "source": [
    "t_comedy_sql = '''SELECT '2018he','t_comedy',t2.v FROM (SELECT SUM(t1.boxoffice) AS v FROM film44 t1 WHERE t1.t_comedy=1 and mdate  >='2018-02-15'and mdate  <='2018-02-21') t2'''\n",
    "exec_sql(t_comedy_sql)\n",
    "del t_comedy_sql"
   ]
  },
  {
   "cell_type": "code",
   "execution_count": null,
   "metadata": {
    "collapsed": true
   },
   "outputs": [],
   "source": [
    "t_animate_sql = '''SELECT '2018he','t_animate',t2.v FROM (SELECT SUM(t1.boxoffice) AS v FROM film44 t1 WHERE t1.t_animate=1 and mdate  >='2018-02-15'and mdate  <='2018-02-21') t2'''\n",
    "exec_sql(t_animate_sql)\n",
    "del t_animate_sql"
   ]
  },
  {
   "cell_type": "code",
   "execution_count": null,
   "metadata": {
    "collapsed": true
   },
   "outputs": [],
   "source": [
    "t_plot_sql = '''SELECT '2018he','t_plot',t2.v FROM (SELECT SUM(t1.boxoffice) AS v FROM film44 t1 WHERE t1.t_plot=1 and mdate  >='2018-02-15'and mdate  <='2018-02-21') t2'''\n",
    "exec_sql(t_plot_sql)\n",
    "del t_plot_sql"
   ]
  },
  {
   "cell_type": "code",
   "execution_count": null,
   "metadata": {
    "collapsed": true
   },
   "outputs": [],
   "source": [
    "t_horror_sql = '''ELECT '2018he','t_horror',t2.v FROM (SELECT SUM(t1.boxoffice) AS v FROM film44 t1 WHERE t1.t_horror=1 and mdate  >='2018-02-15'and mdate  <='2018-02-21') t2'''\n",
    "exec_sql(t_horror_sql)\n",
    "del t_horror_sql"
   ]
  },
  {
   "cell_type": "code",
   "execution_count": null,
   "metadata": {
    "collapsed": true
   },
   "outputs": [],
   "source": [
    "t_thriller_sql = '''SELECT '2018he','t_thriller',t2.v FROM (SELECT SUM(t1.boxoffice) AS v FROM film44 t1 WHERE t1.t_thriller=1 and mdate  >='2018-02-15'and mdate  <='2018-02-21') t2'''\n",
    "exec_sql(t_thriller_sql)\n",
    "del t_thriller_sql"
   ]
  },
  {
   "cell_type": "code",
   "execution_count": null,
   "metadata": {
    "collapsed": true
   },
   "outputs": [],
   "source": [
    "t_science_sql = '''SELECT '2018he','t_science',t2.v FROM (SELECT SUM(t1.boxoffice) AS v FROM film44 t1 WHERE t1.t_science=1 and mdate  >='2018-02-15'and mdate  <='2018-02-21') t2'''\n",
    "exec_sql(t_science_sql)\n",
    "del t_science_sql"
   ]
  },
  {
   "cell_type": "code",
   "execution_count": null,
   "metadata": {
    "collapsed": true
   },
   "outputs": [],
   "source": [
    "t_action_sql = '''SELECT '2018he','t_action',t2.v FROM (SELECT SUM(t1.boxoffice) AS v FROM film44 t1 WHERE t1.t_action=1 and mdate  >='2018-02-15'and mdate  <='2018-02-21') t2'''\n",
    "exec_sql(t_action_sql)\n",
    "del t_action_sql"
   ]
  },
  {
   "cell_type": "code",
   "execution_count": null,
   "metadata": {
    "collapsed": true
   },
   "outputs": [],
   "source": [
    "t_suspense_sql = '''SELECT '2018he','t_suspense',t2.v FROM (SELECT SUM(t1.boxoffice) AS v FROM film44 t1 WHERE t1.t_suspense=1 and mdate  >='2018-02-15'and mdate  <='2018-02-21') t2'''\n",
    "exec_sql(t_suspense_sql)\n",
    "del t_suspense_sql"
   ]
  },
  {
   "cell_type": "code",
   "execution_count": null,
   "metadata": {
    "collapsed": true
   },
   "outputs": [],
   "source": [
    "t_crime_sql = '''SELECT '2018he','t_crime',t2.v FROM (SELECT SUM(t1.boxoffice) AS v FROM film44 t1 WHERE t1.t_crime=1 and mdate  >='2018-02-15'and mdate  <='2018-02-21') t2'''\n",
    "exec_sql(t_crime_sql)\n",
    "del t_crime_sql"
   ]
  },
  {
   "cell_type": "code",
   "execution_count": null,
   "metadata": {
    "collapsed": true
   },
   "outputs": [],
   "source": [
    "t_adventure_sql = '''SELECT '2018he','t_adventure',t2.v FROM (SELECT SUM(t1.boxoffice) AS v FROM film44 t1 WHERE t1.t_adventure=1 and mdate  >='2018-02-15'and mdate  <='2018-02-21') t2'''\n",
    "exec_sql(t_adventure_sql)\n",
    "del t_adventure_sql"
   ]
  },
  {
   "cell_type": "code",
   "execution_count": null,
   "metadata": {
    "collapsed": true
   },
   "outputs": [],
   "source": [
    "t_war_sql = '''SELECT '2018he','t_war',t2.v FROM (SELECT SUM(t1.boxoffice) AS v FROM film44 t1 WHERE t1.t_war=1 and mdate  >='2018-02-15'and mdate  <='2018-02-21') t2'''\n",
    "exec_sql(t_war_sql)\n",
    "del t_war_sql"
   ]
  },
  {
   "cell_type": "code",
   "execution_count": null,
   "metadata": {
    "collapsed": true
   },
   "outputs": [],
   "source": [
    "t_fantasy_sql = '''SELECT '2018he','t_fantasy',t2.v FROM (SELECT SUM(t1.boxoffice) AS v FROM film44 t1 WHERE t1.t_fantasy=1 and mdate  >='2018-02-15'and mdate  <='2018-02-21') t2'''\n",
    "exec_sql(t_fantasy_sql)\n",
    "del t_fantasy_sql"
   ]
  },
  {
   "cell_type": "code",
   "execution_count": null,
   "metadata": {
    "collapsed": true
   },
   "outputs": [],
   "source": [
    "t_sports_sql = '''SELECT '2018he','t_sports',t2.v FROM (SELECT SUM(t1.boxoffice) AS v FROM film44 t1 WHERE t1.t_sports=1 and mdate  >='2018-02-15'and mdate  <='2018-02-21') t2'''\n",
    "exec_sql(t_sports_sql)\n",
    "del t_sports_sql"
   ]
  },
  {
   "cell_type": "code",
   "execution_count": null,
   "metadata": {
    "collapsed": true
   },
   "outputs": [],
   "source": [
    "t_family_sql ='''SELECT '2018he','t_family',t2.v FROM (SELECT SUM(t1.boxoffice) AS v FROM film44 t1 WHERE t1.t_family=1 and mdate  >='2018-02-15'and mdate  <='2018-02-21') t2'''\n",
    "exec_sql(t_family_sql)\n",
    "del t_family_sql"
   ]
  },
  {
   "cell_type": "code",
   "execution_count": null,
   "metadata": {
    "collapsed": true
   },
   "outputs": [],
   "source": [
    "t_costume_sql = '''SELECT '2018he','t_costume',t2.v FROM (SELECT SUM(t1.boxoffice) AS v FROM film44 t1 WHERE t1.t_costume=1 and mdate  >='2018-02-15'and mdate  <='2018-02-21') t2'''\n",
    "exec_sql(t_costume_sql)\n",
    "del t_costume_sql"
   ]
  },
  {
   "cell_type": "code",
   "execution_count": null,
   "metadata": {
    "collapsed": true
   },
   "outputs": [],
   "source": [
    "t_sword_sql = '''SELECT '2018he','t_sword',t2.v FROM (SELECT SUM(t1.boxoffice) AS v FROM film44 t1 WHERE t1.t_sword=1 and mdate  >='2018-02-15'and mdate  <='2018-02-21') t2'''\n",
    "exec_sql(t_sword_sql)\n",
    "del t_sword_sql"
   ]
  },
  {
   "cell_type": "code",
   "execution_count": null,
   "metadata": {
    "collapsed": true
   },
   "outputs": [],
   "source": [
    "t_cowboy_sql = '''SELECT '2018he','t_cowboy',t2.v FROM (SELECT SUM(t1.boxoffice) AS v FROM film44 t1 WHERE t1.t_cowboy=1 and mdate  >='2018-02-15'and mdate  <='2018-02-21') t2'''\n",
    "exec_sql(t_cowboy_sql)\n",
    "del t_cowboy_sql"
   ]
  },
  {
   "cell_type": "code",
   "execution_count": null,
   "metadata": {
    "collapsed": true
   },
   "outputs": [],
   "source": [
    "t_history_sql = '''SELECT '2018he','t_history',t2.v FROM (SELECT SUM(t1.boxoffice) AS v FROM film44 t1 WHERE t1.t_history=1 and mdate  >='2018-02-15'and mdate  <='2018-02-21') t2'''\n",
    "exec_sql(t_history_sql)\n",
    "del t_history_sql"
   ]
  },
  {
   "cell_type": "code",
   "execution_count": null,
   "metadata": {
    "collapsed": true
   },
   "outputs": [],
   "source": [
    "t_biography_sql ='''SELECT '2018he','t_biography',t2.v FROM (SELECT SUM(t1.boxoffice) AS v FROM film44 t1 WHERE t1.t_biography=1 and mdate  >='2018-02-15'and mdate  <='2018-02-21') t2'''\n",
    "exec_sql(t_biography_sql)\n",
    "del t_biography_sql"
   ]
  },
  {
   "cell_type": "code",
   "execution_count": null,
   "metadata": {
    "collapsed": true
   },
   "outputs": [],
   "source": [
    "t_dance_sql = '''SELECT '2018he','t_dance',t2.v FROM (SELECT SUM(t1.boxoffice) AS v FROM film44 t1 WHERE t1.t_dance=1 and mdate  >='2018-02-15'and mdate  <='2018-02-21') t2'''\n",
    "exec_sql(t_dance_sql)\n",
    "del t_dance_sql"
   ]
  },
  {
   "cell_type": "code",
   "execution_count": null,
   "metadata": {
    "collapsed": true
   },
   "outputs": [],
   "source": [
    "t_dark_sql = '''SELECT '2018he','t_dark',t2.v FROM (SELECT SUM(t1.boxoffice) AS v FROM film44 t1 WHERE t1.t_dark=1 and mdate  >='2018-02-15'and mdate  <='2018-02-21') t2'''\n",
    "exec_sql(t_dark_sql)\n",
    "del t_dark_sql"
   ]
  },
  {
   "cell_type": "code",
   "execution_count": null,
   "metadata": {
    "collapsed": true
   },
   "outputs": [],
   "source": [
    "t_short_sql = '''SELECT '2018he','t_short',t2.v FROM (SELECT SUM(t1.boxoffice) AS v FROM film44 t1 WHERE t1.t_short=1 and mdate  >='2018-02-15'and mdate  <='2018-02-21') t2'''\n",
    "exec_sql(t_short_sql)\n",
    "del t_short_sql"
   ]
  },
  {
   "cell_type": "code",
   "execution_count": null,
   "metadata": {
    "collapsed": true
   },
   "outputs": [],
   "source": [
    "t_documentary_sql = '''SELECT '2018he','t_documentary',t2.v FROM (SELECT SUM(t1.boxoffice) AS v FROM film44 t1 WHERE t1.t_documentary=1 and mdate  >='2018-02-15'and mdate  <='2018-02-21') t2'''\n",
    "exec_sql(t_documentary_sql)\n",
    "del t_documentary_sql"
   ]
  },
  {
   "cell_type": "code",
   "execution_count": null,
   "metadata": {
    "collapsed": true
   },
   "outputs": [],
   "source": [
    "t_others_sql = '''SELECT '2018he','t_others',t2.v FROM (SELECT SUM(t1.boxoffice) AS v FROM film44 t1 WHERE t1.t_others=1 and mdate  >='2018-02-15'and mdate  <='2018-02-21') t2'''\n",
    "exec_sql(t_others_sql)\n",
    "del t_others_sql"
   ]
  },
  {
   "cell_type": "code",
   "execution_count": null,
   "metadata": {
    "collapsed": true
   },
   "outputs": [],
   "source": [
    "c_Mainland_sql = '''SELECT '2018he','c_Mainland',t2.v FROM (SELECT SUM(t1.boxoffice) AS v FROM film44 t1 WHERE t1.c_Mainland=1 and mdate  >='2018-02-15'and mdate  <='2018-02-21') t2'''\n",
    "exec_sql(c_Mainland_sql)\n",
    "del c_Mainland_sql"
   ]
  },
  {
   "cell_type": "code",
   "execution_count": null,
   "metadata": {
    "collapsed": true
   },
   "outputs": [],
   "source": [
    "c_America_sql = '''SELECT '2018he','c_America',t2.v FROM (SELECT SUM(t1.boxoffice) AS v FROM film44 t1 WHERE t1.c_America=1 and mdate  >='2018-02-15'and mdate  <='2018-02-21') t2'''\n",
    "exec_sql(c_America_sql)\n",
    "del c_America_sql"
   ]
  },
  {
   "cell_type": "code",
   "execution_count": null,
   "metadata": {
    "collapsed": true
   },
   "outputs": [],
   "source": [
    "c_Korea_sql = '''SELECT '2018he','c_Korea',t2.v FROM (SELECT SUM(t1.boxoffice) AS v FROM film44 t1 WHERE t1.c_Korea=1 and mdate  >='2018-02-15'and mdate  <='2018-02-21') t2'''\n",
    "exec_sql(c_Korea_sql)\n",
    "del c_Korea_sql"
   ]
  },
  {
   "cell_type": "code",
   "execution_count": null,
   "metadata": {
    "collapsed": true
   },
   "outputs": [],
   "source": [
    "c_Japan_sql = '''SELECT '2018he','c_Japan',t2.v FROM (SELECT SUM(t1.boxoffice) AS v FROM film44 t1 WHERE t1.c_Japan=1 and mdate  >='2018-02-15'and mdate  <='2018-02-21') t2'''\n",
    "exec_sql(c_Japan_sql)\n",
    "del c_Japan_sql"
   ]
  },
  {
   "cell_type": "code",
   "execution_count": null,
   "metadata": {
    "collapsed": true
   },
   "outputs": [],
   "source": [
    "c_Hongkong_sql = '''SELECT '2018he','c_Hongkong',t2.v FROM (SELECT SUM(t1.boxoffice) AS v FROM film44 t1 WHERE t1.c_Hongkong=1 and mdate  >='2018-02-15'and mdate  <='2018-02-21') t2'''\n",
    "exec_sql(c_Hongkong_sql)\n",
    "del c_Hongkong_sql"
   ]
  },
  {
   "cell_type": "code",
   "execution_count": null,
   "metadata": {
    "collapsed": true
   },
   "outputs": [],
   "source": [
    "c_Taiwan_sql = '''SELECT '2018he','c_Taiwan',t2.v FROM (SELECT SUM(t1.boxoffice) AS v FROM film44 t1 WHERE t1.c_Taiwan=1 and mdate  >='2018-02-15'and mdate  <='2018-02-21') t2'''\n",
    "exec_sql(c_Taiwan_sql)\n",
    "del c_Taiwan_sql"
   ]
  },
  {
   "cell_type": "code",
   "execution_count": null,
   "metadata": {
    "collapsed": true
   },
   "outputs": [],
   "source": [
    "c_Thailand_sql = '''SELECT '2018he','c_Thailand',t2.v FROM (SELECT SUM(t1.boxoffice) AS v FROM film44 t1 WHERE t1.c_Thailand=1 and mdate  >='2018-02-15'and mdate  <='2018-02-21') t2'''\n",
    "exec_sql(c_Thailand_sql)\n",
    "del c_Thailand_sql"
   ]
  },
  {
   "cell_type": "code",
   "execution_count": null,
   "metadata": {
    "collapsed": true
   },
   "outputs": [],
   "source": [
    "c_India_sql = '''SELECT '2018he','c_India',t2.v FROM (SELECT SUM(t1.boxoffice) AS v FROM film44 t1 WHERE t1.c_India=1 and mdate  >='2018-02-15'and mdate  <='2018-02-21') t2'''\n",
    "exec_sql(c_India_sql)\n",
    "del c_India_sql"
   ]
  },
  {
   "cell_type": "code",
   "execution_count": null,
   "metadata": {
    "collapsed": true
   },
   "outputs": [],
   "source": [
    "c_France_sql = '''SELECT '2018he','c_France',t2.v FROM (SELECT SUM(t1.boxoffice) AS v FROM film44 t1 WHERE t1.c_France=1 and mdate  >='2018-02-15'and mdate  <='2018-02-21') t2'''\n",
    "exec_sql(c_France_sql)\n",
    "del c_France_sql"
   ]
  },
  {
   "cell_type": "code",
   "execution_count": null,
   "metadata": {
    "collapsed": true
   },
   "outputs": [],
   "source": [
    "c_England_sql = '''SELECT '2018he','c_England',t2.v FROM (SELECT SUM(t1.boxoffice) AS v FROM film44 t1 WHERE t1.c_England=1 and mdate  >='2018-02-15'and mdate  <='2018-02-21') t2'''\n",
    "exec_sql(c_England_sql)\n",
    "del c_England_sql"
   ]
  },
  {
   "cell_type": "code",
   "execution_count": null,
   "metadata": {
    "collapsed": true
   },
   "outputs": [],
   "source": [
    "c_Russia_sql = '''SELECT '2018he','c_Russia',t2.v FROM (SELECT SUM(t1.boxoffice) AS v FROM film44 t1 WHERE t1.c_Russia=1 and mdate  >='2018-02-15'and mdate  <='2018-02-21') t2'''\n",
    "exec_sql(c_Russia_sql)\n",
    "del c_Russia_sql"
   ]
  },
  {
   "cell_type": "code",
   "execution_count": null,
   "metadata": {
    "collapsed": true
   },
   "outputs": [],
   "source": [
    "c_Italy_sql = '''SELECT '2018he','c_Italy',t2.v FROM (SELECT SUM(t1.boxoffice) AS v FROM film44 t1 WHERE t1.c_Italy=1 and mdate  >='2018-02-15'and mdate  <='2018-02-21') t2'''\n",
    "exec_sql(c_Italy_sql)\n",
    "del c_Italy_sql"
   ]
  },
  {
   "cell_type": "code",
   "execution_count": null,
   "metadata": {
    "collapsed": true
   },
   "outputs": [],
   "source": [
    "c_Spain_sql = '''SELECT '2018he','c_Spain',t2.v FROM (SELECT SUM(t1.boxoffice) AS v FROM film44 t1 WHERE t1.c_Spain=1 and mdate  >='2018-02-15'and mdate  <='2018-02-21') t2'''\n",
    "exec_sql(c_Spain_sql)\n",
    "del c_Spain_sql"
   ]
  },
  {
   "cell_type": "code",
   "execution_count": null,
   "metadata": {
    "collapsed": true
   },
   "outputs": [],
   "source": [
    "c_Germany_sql = '''SELECT '2018he','c_Germany',t2.v FROM (SELECT SUM(t1.boxoffice) AS v FROM film44 t1 WHERE t1.c_Germany=1 and mdate  >='2018-02-15'and mdate  <='2018-02-21') t2'''\n",
    "exec_sql(c_Germany_sql)\n",
    "del c_Germany_sql"
   ]
  },
  {
   "cell_type": "code",
   "execution_count": null,
   "metadata": {
    "collapsed": true
   },
   "outputs": [],
   "source": [
    "c_Poland_sql = '''SELECT '2018he','c_Poland',t2.v FROM (SELECT SUM(t1.boxoffice) AS v FROM film44 t1 WHERE t1.c_Poland=1 and mdate  >='2018-02-15'and mdate  <='2018-02-21') t2'''\n",
    "exec_sql(c_Poland_sql)\n",
    "del c_Poland_sql"
   ]
  },
  {
   "cell_type": "code",
   "execution_count": null,
   "metadata": {
    "collapsed": true
   },
   "outputs": [],
   "source": [
    "c_Australia_sql = '''SELECT '2018he','c_Australia',t2.v FROM (SELECT SUM(t1.boxoffice) AS v FROM film44 t1 WHERE t1.c_Australia=1 and mdate  >='2018-02-15'and mdate  <='2018-02-21') t2'''\n",
    "exec_sql(c_Australia_sql)\n",
    "del c_Australia_sql"
   ]
  },
  {
   "cell_type": "code",
   "execution_count": null,
   "metadata": {
    "collapsed": true
   },
   "outputs": [],
   "source": [
    "c_Iran_sql = '''SELECT '2018he','c_Iran',t2.v FROM (SELECT SUM(t1.boxoffice) AS v FROM film44 t1 WHERE t1.c_Iran=1 and mdate  >='2018-02-15'and mdate  <='2018-02-21') t2'''\n",
    "exec_sql(c_Iran_sql)\n",
    "del c_Iran_sql"
   ]
  },
  {
   "cell_type": "code",
   "execution_count": null,
   "metadata": {
    "collapsed": true
   },
   "outputs": [],
   "source": [
    "c_Others_sql = '''SELECT '2018he','c_Others',t2.v FROM (SELECT SUM(t1.boxoffice) AS v FROM film44 t1 WHERE t1.c_Others=1 and mdate  >='2018-02-15'and mdate  <='2018-02-21') t2'''\n",
    "exec_sql(c_Others_sql)\n",
    "del c_Others_sql"
   ]
  }
 ],
 "metadata": {
  "kernelspec": {
   "display_name": "Python 3",
   "language": "python",
   "name": "python3"
  },
  "language_info": {
   "codemirror_mode": {
    "name": "ipython",
    "version": 3
   },
   "file_extension": ".py",
   "mimetype": "text/x-python",
   "name": "python",
   "nbconvert_exporter": "python",
   "pygments_lexer": "ipython3",
   "version": "3.5.4"
  }
 },
 "nbformat": 4,
 "nbformat_minor": 2
}
