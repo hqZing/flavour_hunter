{
 "cells": [
  {
   "cell_type": "code",
   "execution_count": 1,
   "metadata": {},
   "outputs": [],
   "source": [
    "import pymysql"
   ]
  },
  {
   "cell_type": "code",
   "execution_count": 2,
   "metadata": {},
   "outputs": [],
   "source": [
    "#打开数据库连接\n",
    "db= pymysql.connect(host=\"127.0.0.1\",user=\"root\",\n",
    "     password=\"123456\",db=\"comex\",port=3306)"
   ]
  },
  {
   "cell_type": "code",
   "execution_count": 3,
   "metadata": {},
   "outputs": [],
   "source": [
    "cursor = db.cursor()"
   ]
  },
  {
   "cell_type": "code",
   "execution_count": 4,
   "metadata": {},
   "outputs": [
    {
     "data": {
      "text/plain": [
       "0"
      ]
     },
     "execution_count": 4,
     "metadata": {},
     "output_type": "execute_result"
    }
   ],
   "source": [
    "cursor.execute(\"DROP TABLE IF EXISTS personas\")"
   ]
  },
  {
   "cell_type": "code",
   "execution_count": 5,
   "metadata": {},
   "outputs": [],
   "source": [
    "sql = '''CREATE TABLE `comex`.`personas` (`id` varchar(100),\n",
    "`name` varchar(20),\n",
    "`male` varchar(20),\n",
    "`female` varchar(20),\n",
    "`under20` varchar(20),\n",
    "`20to24` varchar(20),\n",
    "`25to29` varchar(20),\n",
    "`30to34` varchar(20),\n",
    "`35to39` varchar(20),\n",
    "`above40` varchar(20),\n",
    "`degree_high` varchar(20),\n",
    "`degree_low` varchar(20),\n",
    "`city1` varchar(20),\n",
    "`city2` varchar(20),\n",
    "`city3` varchar(20),\n",
    "`city4` varchar(20),\n",
    "`occupation_whitecollar` varchar(20),\n",
    "`occupation_student` varchar(20),\n",
    "`occupation_others` varchar(20),\n",
    "`preference_action` varchar(20),\n",
    "`preference_comedy` varchar(20),\n",
    "`preference_romance` varchar(20),\n",
    "`occupation_science` varchar(20),\n",
    "`occupation_animate` varchar(20)\n",
    ") ENGINE=InnoDB DEFAULT CHARSET=utf8\n",
    "'''"
   ]
  },
  {
   "cell_type": "code",
   "execution_count": 6,
   "metadata": {},
   "outputs": [
    {
     "data": {
      "text/plain": [
       "0"
      ]
     },
     "execution_count": 6,
     "metadata": {},
     "output_type": "execute_result"
    }
   ],
   "source": [
    "cursor.execute(sql)"
   ]
  },
  {
   "cell_type": "markdown",
   "metadata": {},
   "source": [
    "# 依据需求文档进行数据库建表"
   ]
  },
  {
   "cell_type": "markdown",
   "metadata": {},
   "source": [
    "# table_1_PUPsex"
   ]
  },
  {
   "cell_type": "code",
   "execution_count": 7,
   "metadata": {},
   "outputs": [
    {
     "data": {
      "text/plain": [
       "0"
      ]
     },
     "execution_count": 7,
     "metadata": {},
     "output_type": "execute_result"
    }
   ],
   "source": [
    "cursor.execute(\"DROP TABLE IF EXISTS table_1_PUPsex\")"
   ]
  },
  {
   "cell_type": "code",
   "execution_count": 5,
   "metadata": {},
   "outputs": [],
   "source": [
    "#piao,data待补充\n",
    "create_table_1_PUPsex_sql = '''CREATE TABLE `comex`.`table_1_PUPsex` (`id` varchar(100),\n",
    "`name` varchar(20),\n",
    "`male` varchar(20),\n",
    "`female` varchar(20)\n",
    ") ENGINE=InnoDB DEFAULT CHARSET=utf8\n",
    "'''"
   ]
  },
  {
   "cell_type": "code",
   "execution_count": 6,
   "metadata": {},
   "outputs": [
    {
     "data": {
      "text/plain": [
       "0"
      ]
     },
     "execution_count": 6,
     "metadata": {},
     "output_type": "execute_result"
    }
   ],
   "source": [
    "cursor.execute(create_table_1_PUPsex_sql)"
   ]
  },
  {
   "cell_type": "markdown",
   "metadata": {},
   "source": [
    "# table_2_CUPsex"
   ]
  },
  {
   "cell_type": "code",
   "execution_count": 11,
   "metadata": {},
   "outputs": [
    {
     "data": {
      "text/plain": [
       "0"
      ]
     },
     "execution_count": 11,
     "metadata": {},
     "output_type": "execute_result"
    }
   ],
   "source": [
    "cursor.execute(\"DROP TABLE IF EXISTS table_2_CUPsex\")"
   ]
  },
  {
   "cell_type": "code",
   "execution_count": 9,
   "metadata": {},
   "outputs": [],
   "source": [
    "#mclass,data待补充\n",
    "create_table_2_CUPsex_sql = '''CREATE TABLE `comex`.`table_2_CUPsex` (`id` varchar(100),\n",
    "`name` varchar(20),\n",
    "`male` varchar(20),\n",
    "`female` varchar(20)\n",
    ") ENGINE=InnoDB DEFAULT CHARSET=utf8\n",
    "'''"
   ]
  },
  {
   "cell_type": "code",
   "execution_count": 10,
   "metadata": {},
   "outputs": [
    {
     "data": {
      "text/plain": [
       "0"
      ]
     },
     "execution_count": 10,
     "metadata": {},
     "output_type": "execute_result"
    }
   ],
   "source": [
    "cursor.execute(create_table_2_CUPsex_sql)"
   ]
  },
  {
   "cell_type": "markdown",
   "metadata": {},
   "source": [
    "# table_3_PUPage"
   ]
  },
  {
   "cell_type": "code",
   "execution_count": 45,
   "metadata": {},
   "outputs": [
    {
     "data": {
      "text/plain": [
       "0"
      ]
     },
     "execution_count": 45,
     "metadata": {},
     "output_type": "execute_result"
    }
   ],
   "source": [
    "cursor.execute(\"DROP TABLE IF EXISTS table_3_PUPage\")"
   ]
  },
  {
   "cell_type": "code",
   "execution_count": 43,
   "metadata": {},
   "outputs": [],
   "source": [
    "#data,piao待补充\n",
    "create_table_3_PUPage_sql = '''CREATE TABLE `comex`.`table_3_PUPage` (`id` varchar(100),\n",
    "`name` varchar(20),\n",
    "`under20` varchar(20),\n",
    "`20to24` varchar(20),\n",
    "`25to29` varchar(20),\n",
    "`30to34` varchar(20),\n",
    "`above40` varchar(20)\n",
    ") ENGINE=InnoDB DEFAULT CHARSET=utf8\n",
    "'''"
   ]
  },
  {
   "cell_type": "code",
   "execution_count": 44,
   "metadata": {},
   "outputs": [
    {
     "data": {
      "text/plain": [
       "0"
      ]
     },
     "execution_count": 44,
     "metadata": {},
     "output_type": "execute_result"
    }
   ],
   "source": [
    "cursor.execute(create_table_3_PUPage_sql)"
   ]
  },
  {
   "cell_type": "markdown",
   "metadata": {},
   "source": [
    "# table_4_CUPage"
   ]
  },
  {
   "cell_type": "code",
   "execution_count": 50,
   "metadata": {},
   "outputs": [
    {
     "data": {
      "text/plain": [
       "0"
      ]
     },
     "execution_count": 50,
     "metadata": {},
     "output_type": "execute_result"
    }
   ],
   "source": [
    "cursor.execute(\"DROP TABLE IF EXISTS table_4_CUPage\")"
   ]
  },
  {
   "cell_type": "code",
   "execution_count": 48,
   "metadata": {},
   "outputs": [],
   "source": [
    "#data,mclass待补充\n",
    "create_table_4_CUPage_sql = '''CREATE TABLE `comex`.`table_4_CUPage` (`id` varchar(100),\n",
    "`name` varchar(20),\n",
    "`under20` varchar(20),\n",
    "`20to24` varchar(20),\n",
    "`25to29` varchar(20),\n",
    "`30to34` varchar(20),\n",
    "`above40` varchar(20)\n",
    ") ENGINE=InnoDB DEFAULT CHARSET=utf8\n",
    "'''"
   ]
  },
  {
   "cell_type": "code",
   "execution_count": 49,
   "metadata": {},
   "outputs": [
    {
     "data": {
      "text/plain": [
       "0"
      ]
     },
     "execution_count": 49,
     "metadata": {},
     "output_type": "execute_result"
    }
   ],
   "source": [
    "cursor.execute(create_table_4_CUPage_sql)"
   ]
  },
  {
   "cell_type": "markdown",
   "metadata": {},
   "source": [
    "# table_5_PUPedu"
   ]
  },
  {
   "cell_type": "code",
   "execution_count": 55,
   "metadata": {},
   "outputs": [
    {
     "data": {
      "text/plain": [
       "0"
      ]
     },
     "execution_count": 55,
     "metadata": {},
     "output_type": "execute_result"
    }
   ],
   "source": [
    "cursor.execute(\"DROP TABLE IF EXISTS table_5_PUPedu\")"
   ]
  },
  {
   "cell_type": "code",
   "execution_count": 53,
   "metadata": {},
   "outputs": [],
   "source": [
    "#data,piao待补充\n",
    "create_table_5_PUPedu_sql = '''CREATE TABLE `comex`.`table_5_PUPedu` (`id` varchar(100),\n",
    "`name` varchar(20),\n",
    "`degree_high` varchar(20),\n",
    "`degree_low` varchar(20)\n",
    ") ENGINE=InnoDB DEFAULT CHARSET=utf8\n",
    "'''"
   ]
  },
  {
   "cell_type": "code",
   "execution_count": 54,
   "metadata": {},
   "outputs": [
    {
     "data": {
      "text/plain": [
       "0"
      ]
     },
     "execution_count": 54,
     "metadata": {},
     "output_type": "execute_result"
    }
   ],
   "source": [
    "cursor.execute(create_table_5_PUPedu_sql)"
   ]
  },
  {
   "cell_type": "markdown",
   "metadata": {},
   "source": [
    "# table_6_PUPdistrict"
   ]
  },
  {
   "cell_type": "code",
   "execution_count": 61,
   "metadata": {},
   "outputs": [
    {
     "data": {
      "text/plain": [
       "0"
      ]
     },
     "execution_count": 61,
     "metadata": {},
     "output_type": "execute_result"
    }
   ],
   "source": [
    "cursor.execute(\"DROP TABLE IF EXISTS table_6_PUPdistrict\")"
   ]
  },
  {
   "cell_type": "code",
   "execution_count": 59,
   "metadata": {},
   "outputs": [],
   "source": [
    "#data,piao待补充\n",
    "create_table_6_PUPdistrict_sql = '''CREATE TABLE `comex`.`table_6_PUPdistrict` (`city1` varchar(20),\n",
    "`city2` varchar(20),\n",
    "`city3` varchar(20),\n",
    "`city4` varchar(20)\n",
    ") ENGINE=InnoDB DEFAULT CHARSET=utf8\n",
    "'''"
   ]
  },
  {
   "cell_type": "code",
   "execution_count": 60,
   "metadata": {},
   "outputs": [
    {
     "data": {
      "text/plain": [
       "0"
      ]
     },
     "execution_count": 60,
     "metadata": {},
     "output_type": "execute_result"
    }
   ],
   "source": [
    "cursor.execute(create_table_6_PUPdistrict_sql)"
   ]
  },
  {
   "cell_type": "markdown",
   "metadata": {},
   "source": [
    "# table_7_PMUjob"
   ]
  },
  {
   "cell_type": "code",
   "execution_count": 126,
   "metadata": {},
   "outputs": [
    {
     "data": {
      "text/plain": [
       "0"
      ]
     },
     "execution_count": 126,
     "metadata": {},
     "output_type": "execute_result"
    }
   ],
   "source": [
    "cursor.execute(\"DROP TABLE IF EXISTS table_7_PMUjob\")"
   ]
  },
  {
   "cell_type": "code",
   "execution_count": 127,
   "metadata": {},
   "outputs": [],
   "source": [
    "#data，piao待补充\n",
    "create_table_7_PMUjob_sql = '''CREATE TABLE `comex`.`table_7_PMUjob` (`id` varchar(100),\n",
    "`name` varchar(20),\n",
    "`occupation_whitecollar` varchar(20),\n",
    "`occupation_student` varchar(20),\n",
    "`occupation_others` varchar(20)\n",
    ") ENGINE=InnoDB DEFAULT CHARSET=utf8\n",
    "'''"
   ]
  },
  {
   "cell_type": "code",
   "execution_count": 128,
   "metadata": {},
   "outputs": [
    {
     "data": {
      "text/plain": [
       "0"
      ]
     },
     "execution_count": 128,
     "metadata": {},
     "output_type": "execute_result"
    }
   ],
   "source": [
    "cursor.execute(create_table_7_PMUjob_sql)"
   ]
  },
  {
   "cell_type": "markdown",
   "metadata": {},
   "source": [
    "# table_8_CMUjob"
   ]
  },
  {
   "cell_type": "code",
   "execution_count": 132,
   "metadata": {},
   "outputs": [
    {
     "data": {
      "text/plain": [
       "0"
      ]
     },
     "execution_count": 132,
     "metadata": {},
     "output_type": "execute_result"
    }
   ],
   "source": [
    "cursor.execute(\"DROP TABLE IF EXISTS table_8_CMUjob\")"
   ]
  },
  {
   "cell_type": "code",
   "execution_count": 130,
   "metadata": {},
   "outputs": [],
   "source": [
    "#data,mclass待补充\n",
    "create_table_8_CMUjob_sql = '''CREATE TABLE `comex`.`table_8_CMUjob` (`id` varchar(100),\n",
    "`name` varchar(20),\n",
    "`occupation_whitecollar` varchar(20),\n",
    "`occupation_student` varchar(20),\n",
    "`occupation_others` varchar(20)\n",
    ") ENGINE=InnoDB DEFAULT CHARSET=utf8\n",
    "'''"
   ]
  },
  {
   "cell_type": "code",
   "execution_count": 131,
   "metadata": {},
   "outputs": [
    {
     "data": {
      "text/plain": [
       "0"
      ]
     },
     "execution_count": 131,
     "metadata": {},
     "output_type": "execute_result"
    }
   ],
   "source": [
    "cursor.execute(create_table_8_CMUjob_sql)"
   ]
  },
  {
   "cell_type": "markdown",
   "metadata": {},
   "source": [
    "# table_9_DataPiao"
   ]
  },
  {
   "cell_type": "code",
   "execution_count": 136,
   "metadata": {},
   "outputs": [
    {
     "data": {
      "text/plain": [
       "0"
      ]
     },
     "execution_count": 136,
     "metadata": {},
     "output_type": "execute_result"
    }
   ],
   "source": [
    "cursor.execute(\"DROP TABLE IF EXISTS table_9_DataPiao\")"
   ]
  },
  {
   "cell_type": "code",
   "execution_count": 134,
   "metadata": {},
   "outputs": [],
   "source": [
    "#data,piao待补充\n",
    "create_table_9_DataPiao_sql = '''CREATE TABLE `comex`.`table_9_DataPiao` (`id` varchar(100),\n",
    "`name` varchar(20)\n",
    ") ENGINE=InnoDB DEFAULT CHARSET=utf8\n",
    "'''"
   ]
  },
  {
   "cell_type": "code",
   "execution_count": 135,
   "metadata": {},
   "outputs": [
    {
     "data": {
      "text/plain": [
       "0"
      ]
     },
     "execution_count": 135,
     "metadata": {},
     "output_type": "execute_result"
    }
   ],
   "source": [
    "cursor.execute(create_table_9_DataPiao_sql)"
   ]
  },
  {
   "cell_type": "markdown",
   "metadata": {},
   "source": [
    "# table_10_DataClass"
   ]
  },
  {
   "cell_type": "code",
   "execution_count": 140,
   "metadata": {},
   "outputs": [
    {
     "data": {
      "text/plain": [
       "0"
      ]
     },
     "execution_count": 140,
     "metadata": {},
     "output_type": "execute_result"
    }
   ],
   "source": [
    "cursor.execute(\"DROP TABLE IF EXISTS table_10_DataClass\")"
   ]
  },
  {
   "cell_type": "code",
   "execution_count": 141,
   "metadata": {},
   "outputs": [],
   "source": [
    "#data,mclass待补充\n",
    "create_table_10_DataClass_sql = '''CREATE TABLE `comex`.`table_10_DataClass` (`id` varchar(100),\n",
    "`name` varchar(20)\n",
    ") ENGINE=InnoDB DEFAULT CHARSET=utf8\n",
    "'''"
   ]
  },
  {
   "cell_type": "code",
   "execution_count": 139,
   "metadata": {},
   "outputs": [
    {
     "data": {
      "text/plain": [
       "0"
      ]
     },
     "execution_count": 139,
     "metadata": {},
     "output_type": "execute_result"
    }
   ],
   "source": [
    "cursor.execute(create_table_10_DataClass_sql)"
   ]
  },
  {
   "cell_type": "markdown",
   "metadata": {},
   "source": [
    "# table_11_PiaoClass"
   ]
  },
  {
   "cell_type": "code",
   "execution_count": 145,
   "metadata": {},
   "outputs": [
    {
     "data": {
      "text/plain": [
       "0"
      ]
     },
     "execution_count": 145,
     "metadata": {},
     "output_type": "execute_result"
    }
   ],
   "source": [
    "cursor.execute(\"DROP TABLE IF EXISTS table_11_PiaoClass\")"
   ]
  },
  {
   "cell_type": "code",
   "execution_count": 143,
   "metadata": {},
   "outputs": [],
   "source": [
    "#mclass,piao待补充\n",
    "create_table_11_PiaoClass_sql = '''CREATE TABLE `comex`.`table_11_PiaoClass` (`id` varchar(100),\n",
    "`name` varchar(20)\n",
    ") ENGINE=InnoDB DEFAULT CHARSET=utf8\n",
    "'''"
   ]
  },
  {
   "cell_type": "code",
   "execution_count": 144,
   "metadata": {},
   "outputs": [
    {
     "data": {
      "text/plain": [
       "0"
      ]
     },
     "execution_count": 144,
     "metadata": {},
     "output_type": "execute_result"
    }
   ],
   "source": [
    "cursor.execute(create_table_11_PiaoClass_sql)"
   ]
  },
  {
   "cell_type": "code",
   "execution_count": 146,
   "metadata": {},
   "outputs": [],
   "source": [
    "db.close()"
   ]
  },
  {
   "cell_type": "code",
   "execution_count": null,
   "metadata": {},
   "outputs": [],
   "source": []
  }
 ],
 "metadata": {
  "kernelspec": {
   "display_name": "Python 3",
   "language": "python",
   "name": "python3"
  },
  "language_info": {
   "codemirror_mode": {
    "name": "ipython",
    "version": 3
   },
   "file_extension": ".py",
   "mimetype": "text/x-python",
   "name": "python",
   "nbconvert_exporter": "python",
   "pygments_lexer": "ipython3",
   "version": "3.5.2"
  }
 },
 "nbformat": 4,
 "nbformat_minor": 2
}
