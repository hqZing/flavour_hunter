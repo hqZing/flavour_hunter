{
 "cells": [
  {
   "cell_type": "code",
   "execution_count": 25,
   "metadata": {},
   "outputs": [],
   "source": [
    "import pymysql"
   ]
  },
  {
   "cell_type": "code",
   "execution_count": 26,
   "metadata": {},
   "outputs": [],
   "source": [
    "#打开数据库连接\n",
    "db= pymysql.connect(host=\"127.0.0.1\",user=\"root\",\n",
    "     password=\"123456\",db=\"comex\",port=3306)"
   ]
  },
  {
   "cell_type": "code",
   "execution_count": 27,
   "metadata": {},
   "outputs": [],
   "source": [
    "cursor = db.cursor()"
   ]
  },
  {
   "cell_type": "code",
   "execution_count": 28,
   "metadata": {},
   "outputs": [
    {
     "name": "stderr",
     "output_type": "stream",
     "text": [
      "/home/hadoop/.local/lib/python3.5/site-packages/pymysql/cursors.py:170: Warning: (1051, \"Unknown table 'comex.test'\")\n",
      "  result = self._query(query)\n"
     ]
    },
    {
     "data": {
      "text/plain": [
       "0"
      ]
     },
     "execution_count": 28,
     "metadata": {},
     "output_type": "execute_result"
    }
   ],
   "source": [
    "#cursor.execute(\"DROP TABLE IF EXISTS personas\")"
   ]
  },
  {
   "cell_type": "code",
   "execution_count": 31,
   "metadata": {},
   "outputs": [],
   "source": [
    "sql ='''CREATE TABLE `comex`.`personas` (`id` varchar(20),\n",
    "`name` varchar(20),\n",
    "`man` varchar(20),\n",
    "`woman` varchar(20),\n",
    "`below20` varchar(20),\n",
    "`t_to_t4` varchar(20),\n",
    "`t5_to_t9` varchar(20),\n",
    "`th_to_th4` varchar(20),\n",
    "`th5_to_th9` varchar(20),\n",
    "`above40` varchar(20),\n",
    "`bachelor_degree_or_above` varchar(20),\n",
    "`undergraduate_and_below` varchar(20),\n",
    "`second_tier_city` varchar(20),\n",
    "`fourth_tier_city` varchar(20),\n",
    "`third_tier_citiy` varchar(20),\n",
    "`first_tier_city` varchar(20),\n",
    "`occupation1` varchar(20),\n",
    "`per1` varchar(20),\n",
    "`occupation2` varchar(20),\n",
    "`per2` varchar(20),\n",
    "`occupation3` varchar(20),\n",
    "`per3` varchar(20),\n",
    "`preference_film1` varchar(20),\n",
    "`pers1` varchar(20),\n",
    "`preference_film2` varchar(20),\n",
    "`pers2` varchar(20),\n",
    "`preference_film3` varchar(20),\n",
    "`pers3` varchar(20),\n",
    "`preference_film4` varchar(20),\n",
    "`pers4` varchar(20),\n",
    "`preference_film5` varchar(20),\n",
    "`pers5` varchar(20),\n",
    "`bought1` varchar(20),\n",
    "`bought2` varchar(20),\n",
    "`bought3` varchar(20),\n",
    "`bought4` varchar(20),\n",
    "`bought5` varchar(20),\n",
    "`bought6` varchar(20),\n",
    "`bought7` varchar(20),\n",
    "`bought8` varchar(20),\n",
    "`bought9` varchar(20),\n",
    "`bought10` varchar(20))\n",
    "ENGINE=InnoDB DEFAULT CHARSET=utf8;'''"
   ]
  },
  {
   "cell_type": "code",
   "execution_count": 32,
   "metadata": {},
   "outputs": [
    {
     "data": {
      "text/plain": [
       "0"
      ]
     },
     "execution_count": 32,
     "metadata": {},
     "output_type": "execute_result"
    }
   ],
   "source": [
    "cursor.execute(sql)"
   ]
  },
  {
   "cell_type": "code",
   "execution_count": 33,
   "metadata": {},
   "outputs": [],
   "source": [
    "db.close()"
   ]
  },
  {
   "cell_type": "code",
   "execution_count": null,
   "metadata": {},
   "outputs": [],
   "source": []
  }
 ],
 "metadata": {
  "kernelspec": {
   "display_name": "Python 3",
   "language": "python",
   "name": "python3"
  },
  "language_info": {
   "codemirror_mode": {
    "name": "ipython",
    "version": 3
   },
   "file_extension": ".py",
   "mimetype": "text/x-python",
   "name": "python",
   "nbconvert_exporter": "python",
   "pygments_lexer": "ipython3",
   "version": "3.5.2"
  }
 },
 "nbformat": 4,
 "nbformat_minor": 2
}
