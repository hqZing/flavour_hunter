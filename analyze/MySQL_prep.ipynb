{
 "cells": [
  {
   "cell_type": "code",
   "execution_count": 1,
   "metadata": {},
   "outputs": [],
   "source": [
    "import pymysql"
   ]
  },
  {
   "cell_type": "code",
   "execution_count": 2,
   "metadata": {},
   "outputs": [],
   "source": [
    "#打开数据库连接\n",
    "db= pymysql.connect(host=\"127.0.0.1\",user=\"root\",\n",
    "     password=\"123456\",db=\"comex\",port=3306)"
   ]
  },
  {
   "cell_type": "code",
   "execution_count": 3,
   "metadata": {},
   "outputs": [],
   "source": [
    "cursor = db.cursor()"
   ]
  },
  {
   "cell_type": "code",
   "execution_count": 4,
   "metadata": {},
   "outputs": [
    {
     "data": {
      "text/plain": [
       "0"
      ]
     },
     "execution_count": 4,
     "metadata": {},
     "output_type": "execute_result"
    }
   ],
   "source": [
    "cursor.execute(\"DROP TABLE IF EXISTS personas\")"
   ]
  },
  {
   "cell_type": "code",
   "execution_count": 5,
   "metadata": {},
   "outputs": [],
   "source": [
    "sql = '''CREATE TABLE `comex`.`personas` (`id` varchar(100),\n",
    "`name` varchar(20),\n",
    "`male` varchar(20),\n",
    "`female` varchar(20),\n",
    "`under20` varchar(20),\n",
    "`20to24` varchar(20),\n",
    "`25to29` varchar(20),\n",
    "`30to34` varchar(20),\n",
    "`35to39` varchar(20),\n",
    "`above40` varchar(20),\n",
    "`degree_high` varchar(20),\n",
    "`degree_low` varchar(20),\n",
    "`city1` varchar(20),\n",
    "`city2` varchar(20),\n",
    "`city3` varchar(20),\n",
    "`city4` varchar(20),\n",
    "`occupation_whitecollar` varchar(20),\n",
    "`occupation_student` varchar(20),\n",
    "`occupation_others` varchar(20),\n",
    "`preference_action` varchar(20),\n",
    "`preference_comedy` varchar(20),\n",
    "`preference_romance` varchar(20),\n",
    "`occupation_science` varchar(20),\n",
    "`occupation_animate` varchar(20)\n",
    ") ENGINE=InnoDB DEFAULT CHARSET=utf8\n",
    "'''"
   ]
  },
  {
   "cell_type": "code",
   "execution_count": 6,
   "metadata": {},
   "outputs": [
    {
     "data": {
      "text/plain": [
       "0"
      ]
     },
     "execution_count": 6,
     "metadata": {},
     "output_type": "execute_result"
    }
   ],
   "source": [
    "cursor.execute(sql)"
   ]
  },
  {
   "cell_type": "code",
   "execution_count": 7,
   "metadata": {},
   "outputs": [],
   "source": [
    "db.close()"
   ]
  },
  {
   "cell_type": "code",
   "execution_count": null,
   "metadata": {},
   "outputs": [],
   "source": []
  }
 ],
 "metadata": {
  "kernelspec": {
   "display_name": "Python 3",
   "language": "python",
   "name": "python3"
  },
  "language_info": {
   "codemirror_mode": {
    "name": "ipython",
    "version": 3
   },
   "file_extension": ".py",
   "mimetype": "text/x-python",
   "name": "python",
   "nbconvert_exporter": "python",
   "pygments_lexer": "ipython3",
   "version": "3.5.2"
  }
 },
 "nbformat": 4,
 "nbformat_minor": 2
}
