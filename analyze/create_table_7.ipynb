{
 "cells": [
  {
   "cell_type": "code",
   "execution_count": 1,
   "metadata": {},
   "outputs": [],
   "source": [
    "from pyhive import hive\n",
    "import pymysql\n",
    "conn = hive.Connection(host='127.0.0.1', port=10000, username='hadoop')\n",
    "cursor = conn.cursor()"
   ]
  },
  {
   "cell_type": "code",
   "execution_count": 2,
   "metadata": {},
   "outputs": [],
   "source": [
    "def exec_sql(sql):\n",
    "    cursor.execute(sql)\n",
    "    for result in cursor.fetchall():\n",
    "        print(result)"
   ]
  },
  {
   "cell_type": "markdown",
   "metadata": {},
   "source": [
    "# create_relation_bet_degree_and_class(学历和种类的关系)"
   ]
  },
  {
   "cell_type": "code",
   "execution_count": 3,
   "metadata": {},
   "outputs": [],
   "source": [
    "cursor.execute(\"DROP TABLE IF EXISTS relation_bet_degree_and_class\")"
   ]
  },
  {
   "cell_type": "code",
   "execution_count": 4,
   "metadata": {},
   "outputs": [],
   "source": [
    "create_relation_bet_degree_and_class_sql = '''create table relation_bet_degree_and_class(class string,degree_high float,degree_low float)'''"
   ]
  },
  {
   "cell_type": "code",
   "execution_count": 5,
   "metadata": {},
   "outputs": [],
   "source": [
    "cursor.execute(create_relation_bet_degree_and_class_sql)"
   ]
  },
  {
   "cell_type": "code",
   "execution_count": 6,
   "metadata": {},
   "outputs": [],
   "source": [
    "del create_relation_bet_degree_and_class_sql"
   ]
  },
  {
   "cell_type": "raw",
   "metadata": {},
   "source": [
    "爱情片"
   ]
  },
  {
   "cell_type": "code",
   "execution_count": 7,
   "metadata": {},
   "outputs": [],
   "source": [
    "t_romance_sql = '''insert into table relation_bet_degree_and_class SELECT 't_romance',(t2.v / t4.s) * 100.0,(t6.v / t8.s) * 100.0 FROM (SELECT SUM(t1.degree_high) AS v FROM film44 t1 WHERE t1.t_romance =1) t2 JOIN (SELECT count(t3.degree_high) as s FROM film44 t3 WHERE t3.t_romance =1) t4 JOIN (SELECT SUM(t5.degree_low) AS v FROM film44 t5 WHERE t5.t_romance =1) t6 JOIN (SELECT count(t7.degree_low) as s FROM film44 t7 WHERE t7.t_romance =1) t8'''"
   ]
  },
  {
   "cell_type": "code",
   "execution_count": 8,
   "metadata": {},
   "outputs": [],
   "source": [
    "cursor.execute(t_romance_sql)"
   ]
  },
  {
   "cell_type": "code",
   "execution_count": 9,
   "metadata": {},
   "outputs": [],
   "source": [
    "del t_romance_sql"
   ]
  },
  {
   "cell_type": "raw",
   "metadata": {},
   "source": [
    "喜剧"
   ]
  },
  {
   "cell_type": "code",
   "execution_count": 10,
   "metadata": {},
   "outputs": [],
   "source": [
    "t_comedy_sql = '''insert into table relation_bet_degree_and_class SELECT 't_comedy',(t2.v / t4.s) * 100.0,(t6.v / t8.s) * 100.0 FROM (SELECT SUM(t1.degree_high) AS v FROM film44 t1 WHERE t1.t_comedy =1) t2 JOIN (SELECT count(t3.degree_high) as s FROM film44 t3 WHERE t3.t_comedy =1) t4 JOIN (SELECT SUM(t5.degree_low) AS v FROM film44 t5 WHERE t5.t_comedy =1) t6 JOIN (SELECT count(t7.degree_low) as s FROM film44 t7 WHERE t7.t_comedy =1) t8'''"
   ]
  },
  {
   "cell_type": "code",
   "execution_count": 11,
   "metadata": {},
   "outputs": [],
   "source": [
    "cursor.execute(t_comedy_sql)"
   ]
  },
  {
   "cell_type": "code",
   "execution_count": 12,
   "metadata": {},
   "outputs": [],
   "source": [
    "del t_comedy_sql"
   ]
  },
  {
   "cell_type": "raw",
   "metadata": {},
   "source": [
    "动画"
   ]
  },
  {
   "cell_type": "code",
   "execution_count": 13,
   "metadata": {},
   "outputs": [],
   "source": [
    "t_animate_sql = '''insert into table relation_bet_degree_and_class SELECT 't_animate',(t2.v / t4.s) * 100.0,(t6.v / t8.s) * 100.0 FROM (SELECT SUM(t1.degree_high) AS v FROM film44 t1 WHERE t1.t_animate =1) t2 JOIN (SELECT count(t3.degree_high) as s FROM film44 t3 WHERE t3.t_animate =1) t4 JOIN (SELECT SUM(t5.degree_low) AS v FROM film44 t5 WHERE t5.t_animate =1) t6 JOIN (SELECT count(t7.degree_low) as s FROM film44 t7 WHERE t7.t_animate =1) t8'''"
   ]
  },
  {
   "cell_type": "code",
   "execution_count": 14,
   "metadata": {},
   "outputs": [],
   "source": [
    "cursor.execute(t_animate_sql)"
   ]
  },
  {
   "cell_type": "code",
   "execution_count": 15,
   "metadata": {},
   "outputs": [],
   "source": [
    "del t_animate_sql"
   ]
  },
  {
   "cell_type": "raw",
   "metadata": {},
   "source": [
    "剧情"
   ]
  },
  {
   "cell_type": "code",
   "execution_count": 16,
   "metadata": {},
   "outputs": [],
   "source": [
    "t_plot_sql = '''insert into table relation_bet_degree_and_class SELECT 't_plot',(t2.v / t4.s) * 100.0,(t6.v / t8.s) * 100.0 FROM (SELECT SUM(t1.degree_high) AS v FROM film44 t1 WHERE t1.t_plot =1) t2 JOIN (SELECT count(t3.degree_high) as s FROM film44 t3 WHERE t3.t_plot =1) t4 JOIN (SELECT SUM(t5.degree_low) AS v FROM film44 t5 WHERE t5.t_plot =1) t6 JOIN (SELECT count(t7.degree_low) as s FROM film44 t7 WHERE t7.t_plot =1) t8'''"
   ]
  },
  {
   "cell_type": "code",
   "execution_count": 17,
   "metadata": {},
   "outputs": [],
   "source": [
    "cursor.execute(t_plot_sql)"
   ]
  },
  {
   "cell_type": "code",
   "execution_count": 18,
   "metadata": {},
   "outputs": [],
   "source": [
    "del t_plot_sql"
   ]
  },
  {
   "cell_type": "raw",
   "metadata": {},
   "source": [
    "恐怖"
   ]
  },
  {
   "cell_type": "code",
   "execution_count": 19,
   "metadata": {},
   "outputs": [],
   "source": [
    "t_horror_sql = '''insert into table relation_bet_degree_and_class SELECT 't_horror',(t2.v / t4.s) * 100.0,(t6.v / t8.s) * 100.0 FROM (SELECT SUM(t1.degree_high) AS v FROM film44 t1 WHERE t1.t_horror =1) t2 JOIN (SELECT count(t3.degree_high) as s FROM film44 t3 WHERE t3.t_horror =1) t4 JOIN (SELECT SUM(t5.degree_low) AS v FROM film44 t5 WHERE t5.t_horror =1) t6 JOIN (SELECT count(t7.degree_low) as s FROM film44 t7 WHERE t7.t_horror =1) t8'''"
   ]
  },
  {
   "cell_type": "code",
   "execution_count": 20,
   "metadata": {},
   "outputs": [],
   "source": [
    "cursor.execute(t_horror_sql)"
   ]
  },
  {
   "cell_type": "code",
   "execution_count": 21,
   "metadata": {},
   "outputs": [],
   "source": [
    "del t_horror_sql"
   ]
  },
  {
   "cell_type": "raw",
   "metadata": {},
   "source": [
    "惊悚"
   ]
  },
  {
   "cell_type": "code",
   "execution_count": 22,
   "metadata": {},
   "outputs": [],
   "source": [
    "t_thriller_sql = '''insert into table relation_bet_degree_and_class SELECT 't_thriller',(t2.v / t4.s) * 100.0,(t6.v / t8.s) * 100.0 FROM (SELECT SUM(t1.degree_high) AS v FROM film44 t1 WHERE t1.t_thriller =1) t2 JOIN (SELECT count(t3.degree_high) as s FROM film44 t3 WHERE t3.t_thriller =1) t4 JOIN (SELECT SUM(t5.degree_low) AS v FROM film44 t5 WHERE t5.t_thriller =1) t6 JOIN (SELECT count(t7.degree_low) as s FROM film44 t7 WHERE t7.t_thriller =1) t8'''"
   ]
  },
  {
   "cell_type": "code",
   "execution_count": 23,
   "metadata": {},
   "outputs": [],
   "source": [
    "cursor.execute(t_thriller_sql)"
   ]
  },
  {
   "cell_type": "code",
   "execution_count": 24,
   "metadata": {},
   "outputs": [],
   "source": [
    "del t_thriller_sql"
   ]
  },
  {
   "cell_type": "raw",
   "metadata": {},
   "source": [
    "科幻"
   ]
  },
  {
   "cell_type": "code",
   "execution_count": 25,
   "metadata": {},
   "outputs": [],
   "source": [
    "t_science_sql = '''insert into table relation_bet_degree_and_class SELECT 't_science',(t2.v / t4.s) * 100.0,(t6.v / t8.s) * 100.0 FROM (SELECT SUM(t1.degree_high) AS v FROM film44 t1 WHERE t1.t_science =1) t2 JOIN (SELECT count(t3.degree_high) as s FROM film44 t3 WHERE t3.t_science =1) t4 JOIN (SELECT SUM(t5.degree_low) AS v FROM film44 t5 WHERE t5.t_science =1) t6 JOIN (SELECT count(t7.degree_low) as s FROM film44 t7 WHERE t7.t_science =1) t8'''"
   ]
  },
  {
   "cell_type": "code",
   "execution_count": 26,
   "metadata": {},
   "outputs": [],
   "source": [
    "cursor.execute(t_science_sql)"
   ]
  },
  {
   "cell_type": "code",
   "execution_count": 27,
   "metadata": {},
   "outputs": [],
   "source": [
    "del t_science_sql"
   ]
  },
  {
   "cell_type": "raw",
   "metadata": {},
   "source": [
    "动作"
   ]
  },
  {
   "cell_type": "code",
   "execution_count": 28,
   "metadata": {},
   "outputs": [],
   "source": [
    "t_action_sql = '''insert into table relation_bet_degree_and_class SELECT 't_action',(t2.v / t4.s) * 100.0,(t6.v / t8.s) * 100.0 FROM (SELECT SUM(t1.degree_high) AS v FROM film44 t1 WHERE t1.t_action =1) t2 JOIN (SELECT count(t3.degree_high) as s FROM film44 t3 WHERE t3.t_action =1) t4 JOIN (SELECT SUM(t5.degree_low) AS v FROM film44 t5 WHERE t5.t_action =1) t6 JOIN (SELECT count(t7.degree_low) as s FROM film44 t7 WHERE t7.t_action =1) t8'''"
   ]
  },
  {
   "cell_type": "code",
   "execution_count": 29,
   "metadata": {},
   "outputs": [],
   "source": [
    "cursor.execute(t_action_sql)"
   ]
  },
  {
   "cell_type": "code",
   "execution_count": 30,
   "metadata": {},
   "outputs": [],
   "source": [
    "del t_action_sql"
   ]
  },
  {
   "cell_type": "raw",
   "metadata": {},
   "source": [
    "悬疑"
   ]
  },
  {
   "cell_type": "code",
   "execution_count": 31,
   "metadata": {},
   "outputs": [],
   "source": [
    "t_suspense_sql = '''insert into table relation_bet_degree_and_class SELECT 't_suspense',(t2.v / t4.s) * 100.0,(t6.v / t8.s) * 100.0 FROM (SELECT SUM(t1.degree_high) AS v FROM film44 t1 WHERE t1.t_suspense =1) t2 JOIN (SELECT count(t3.degree_high) as s FROM film44 t3 WHERE t3.t_suspense =1) t4 JOIN (SELECT SUM(t5.degree_low) AS v FROM film44 t5 WHERE t5.t_suspense =1) t6 JOIN (SELECT count(t7.degree_low) as s FROM film44 t7 WHERE t7.t_suspense =1) t8'''"
   ]
  },
  {
   "cell_type": "code",
   "execution_count": 32,
   "metadata": {},
   "outputs": [],
   "source": [
    "cursor.execute(t_suspense_sql)"
   ]
  },
  {
   "cell_type": "code",
   "execution_count": 33,
   "metadata": {},
   "outputs": [],
   "source": [
    "del t_suspense_sql"
   ]
  },
  {
   "cell_type": "raw",
   "metadata": {},
   "source": [
    "犯罪"
   ]
  },
  {
   "cell_type": "code",
   "execution_count": 34,
   "metadata": {},
   "outputs": [],
   "source": [
    "t_crime_sql = '''insert into table relation_bet_degree_and_class SELECT 't_crime',(t2.v / t4.s) * 100.0,(t6.v / t8.s) * 100.0 FROM (SELECT SUM(t1.degree_high) AS v FROM film44 t1 WHERE t1.t_crime =1) t2 JOIN (SELECT count(t3.degree_high) as s FROM film44 t3 WHERE t3.t_crime =1) t4 JOIN (SELECT SUM(t5.degree_low) AS v FROM film44 t5 WHERE t5.t_crime =1) t6 JOIN (SELECT count(t7.degree_low) as s FROM film44 t7 WHERE t7.t_crime =1) t8'''"
   ]
  },
  {
   "cell_type": "code",
   "execution_count": 35,
   "metadata": {},
   "outputs": [],
   "source": [
    "cursor.execute(t_crime_sql)"
   ]
  },
  {
   "cell_type": "code",
   "execution_count": 36,
   "metadata": {},
   "outputs": [],
   "source": [
    "del t_crime_sql"
   ]
  },
  {
   "cell_type": "raw",
   "metadata": {},
   "source": [
    "冒险"
   ]
  },
  {
   "cell_type": "code",
   "execution_count": 37,
   "metadata": {},
   "outputs": [],
   "source": [
    "t_adventure_sql = '''insert into table relation_bet_degree_and_class SELECT 't_adventure',(t2.v / t4.s) * 100.0,(t6.v / t8.s) * 100.0 FROM (SELECT SUM(t1.degree_high) AS v FROM film44 t1 WHERE t1.t_adventure =1) t2 JOIN (SELECT count(t3.degree_high) as s FROM film44 t3 WHERE t3.t_adventure =1) t4 JOIN (SELECT SUM(t5.degree_low) AS v FROM film44 t5 WHERE t5.t_adventure =1) t6 JOIN (SELECT count(t7.degree_low) as s FROM film44 t7 WHERE t7.t_adventure =1) t8'''"
   ]
  },
  {
   "cell_type": "code",
   "execution_count": 38,
   "metadata": {},
   "outputs": [],
   "source": [
    "cursor.execute(t_adventure_sql)"
   ]
  },
  {
   "cell_type": "code",
   "execution_count": 39,
   "metadata": {},
   "outputs": [],
   "source": [
    "del t_adventure_sql"
   ]
  },
  {
   "cell_type": "raw",
   "metadata": {},
   "source": [
    "战争"
   ]
  },
  {
   "cell_type": "code",
   "execution_count": 40,
   "metadata": {},
   "outputs": [],
   "source": [
    "t_war_sql = '''insert into table relation_bet_degree_and_class SELECT 't_war',(t2.v / t4.s) * 100.0,(t6.v / t8.s) * 100.0 FROM (SELECT SUM(t1.degree_high) AS v FROM film44 t1 WHERE t1.t_war =1) t2 JOIN (SELECT count(t3.degree_high) as s FROM film44 t3 WHERE t3.t_war =1) t4 JOIN (SELECT SUM(t5.degree_low) AS v FROM film44 t5 WHERE t5.t_war =1) t6 JOIN (SELECT count(t7.degree_low) as s FROM film44 t7 WHERE t7.t_war =1) t8'''"
   ]
  },
  {
   "cell_type": "code",
   "execution_count": 41,
   "metadata": {},
   "outputs": [],
   "source": [
    "cursor.execute(t_war_sql)"
   ]
  },
  {
   "cell_type": "code",
   "execution_count": 42,
   "metadata": {},
   "outputs": [],
   "source": [
    "del t_war_sql"
   ]
  },
  {
   "cell_type": "raw",
   "metadata": {},
   "source": [
    "奇幻"
   ]
  },
  {
   "cell_type": "code",
   "execution_count": 43,
   "metadata": {},
   "outputs": [],
   "source": [
    "t_fantasy_sql = '''insert into table relation_bet_degree_and_class SELECT 't_fantasy',(t2.v / t4.s) * 100.0,(t6.v / t8.s) * 100.0 FROM (SELECT SUM(t1.degree_high) AS v FROM film44 t1 WHERE t1.t_fantasy =1) t2 JOIN (SELECT count(t3.degree_high) as s FROM film44 t3 WHERE t3.t_fantasy =1) t4 JOIN (SELECT SUM(t5.degree_low) AS v FROM film44 t5 WHERE t5.t_fantasy =1) t6 JOIN (SELECT count(t7.degree_low) as s FROM film44 t7 WHERE t7.t_fantasy =1) t8'''"
   ]
  },
  {
   "cell_type": "code",
   "execution_count": 44,
   "metadata": {},
   "outputs": [],
   "source": [
    "cursor.execute(t_fantasy_sql)"
   ]
  },
  {
   "cell_type": "code",
   "execution_count": 45,
   "metadata": {},
   "outputs": [],
   "source": [
    "del t_fantasy_sql"
   ]
  },
  {
   "cell_type": "raw",
   "metadata": {},
   "source": [
    "运动"
   ]
  },
  {
   "cell_type": "code",
   "execution_count": 46,
   "metadata": {},
   "outputs": [],
   "source": [
    "t_sports_sql = '''insert into table relation_bet_degree_and_class SELECT 't_sports',(t2.v / t4.s) * 100.0,(t6.v / t8.s) * 100.0 FROM (SELECT SUM(t1.degree_high) AS v FROM film44 t1 WHERE t1.t_sports =1) t2 JOIN (SELECT count(t3.degree_high) as s FROM film44 t3 WHERE t3.t_sports =1) t4 JOIN (SELECT SUM(t5.degree_low) AS v FROM film44 t5 WHERE t5.t_sports =1) t6 JOIN (SELECT count(t7.degree_low) as s FROM film44 t7 WHERE t7.t_sports =1) t8'''"
   ]
  },
  {
   "cell_type": "code",
   "execution_count": 47,
   "metadata": {},
   "outputs": [],
   "source": [
    "cursor.execute(t_sports_sql)"
   ]
  },
  {
   "cell_type": "code",
   "execution_count": 48,
   "metadata": {},
   "outputs": [],
   "source": [
    "del t_sports_sql"
   ]
  },
  {
   "cell_type": "raw",
   "metadata": {},
   "source": [
    "家庭"
   ]
  },
  {
   "cell_type": "code",
   "execution_count": 49,
   "metadata": {},
   "outputs": [],
   "source": [
    "t_family_sql = '''insert into table relation_bet_degree_and_class SELECT 't_family',(t2.v / t4.s) * 100.0,(t6.v / t8.s) * 100.0 FROM (SELECT SUM(t1.degree_high) AS v FROM film44 t1 WHERE t1.t_family =1) t2 JOIN (SELECT count(t3.degree_high) as s FROM film44 t3 WHERE t3.t_family =1) t4 JOIN (SELECT SUM(t5.degree_low) AS v FROM film44 t5 WHERE t5.t_family =1) t6 JOIN (SELECT count(t7.degree_low) as s FROM film44 t7 WHERE t7.t_family =1) t8'''"
   ]
  },
  {
   "cell_type": "code",
   "execution_count": 50,
   "metadata": {},
   "outputs": [],
   "source": [
    "cursor.execute(t_family_sql)"
   ]
  },
  {
   "cell_type": "code",
   "execution_count": 51,
   "metadata": {},
   "outputs": [],
   "source": [
    "del t_family_sql"
   ]
  },
  {
   "cell_type": "raw",
   "metadata": {},
   "source": [
    "古装"
   ]
  },
  {
   "cell_type": "code",
   "execution_count": 52,
   "metadata": {},
   "outputs": [],
   "source": [
    "t_costume_sql = '''insert into table relation_bet_degree_and_class SELECT 't_costume',(t2.v / t4.s) * 100.0,(t6.v / t8.s) * 100.0 FROM (SELECT SUM(t1.degree_high) AS v FROM film44 t1 WHERE t1.t_costume =1) t2 JOIN (SELECT count(t3.degree_high) as s FROM film44 t3 WHERE t3.t_costume =1) t4 JOIN (SELECT SUM(t5.degree_low) AS v FROM film44 t5 WHERE t5.t_costume =1) t6 JOIN (SELECT count(t7.degree_low) as s FROM film44 t7 WHERE t7.t_costume =1) t8'''"
   ]
  },
  {
   "cell_type": "code",
   "execution_count": 53,
   "metadata": {},
   "outputs": [],
   "source": [
    "cursor.execute(t_costume_sql)"
   ]
  },
  {
   "cell_type": "code",
   "execution_count": 54,
   "metadata": {},
   "outputs": [],
   "source": [
    "del t_costume_sql"
   ]
  },
  {
   "cell_type": "raw",
   "metadata": {},
   "source": [
    "武侠"
   ]
  },
  {
   "cell_type": "code",
   "execution_count": 55,
   "metadata": {},
   "outputs": [],
   "source": [
    "t_sword_sql = '''insert into table relation_bet_degree_and_class SELECT 't_sword',(t2.v / t4.s) * 100.0,(t6.v / t8.s) * 100.0 FROM (SELECT SUM(t1.degree_high) AS v FROM film44 t1 WHERE t1.t_sword =1) t2 JOIN (SELECT count(t3.degree_high) as s FROM film44 t3 WHERE t3.t_sword =1) t4 JOIN (SELECT SUM(t5.degree_low) AS v FROM film44 t5 WHERE t5.t_sword =1) t6 JOIN (SELECT count(t7.degree_low) as s FROM film44 t7 WHERE t7.t_sword =1) t8'''"
   ]
  },
  {
   "cell_type": "code",
   "execution_count": 56,
   "metadata": {},
   "outputs": [],
   "source": [
    "cursor.execute(t_sword_sql)"
   ]
  },
  {
   "cell_type": "code",
   "execution_count": 57,
   "metadata": {},
   "outputs": [],
   "source": [
    "del t_sword_sql"
   ]
  },
  {
   "cell_type": "raw",
   "metadata": {},
   "source": [
    "西部"
   ]
  },
  {
   "cell_type": "code",
   "execution_count": 58,
   "metadata": {},
   "outputs": [],
   "source": [
    "t_cowboy_sql = '''insert into table relation_bet_degree_and_class SELECT 't_cowboy',(t2.v / t4.s) * 100.0,(t6.v / t8.s) * 100.0 FROM (SELECT SUM(t1.degree_high) AS v FROM film44 t1 WHERE t1.t_cowboy =1) t2 JOIN (SELECT count(t3.degree_high) as s FROM film44 t3 WHERE t3.t_cowboy =1) t4 JOIN (SELECT SUM(t5.degree_low) AS v FROM film44 t5 WHERE t5.t_cowboy =1) t6 JOIN (SELECT count(t7.degree_low) as s FROM film44 t7 WHERE t7.t_cowboy =1) t8'''"
   ]
  },
  {
   "cell_type": "code",
   "execution_count": 59,
   "metadata": {},
   "outputs": [],
   "source": [
    "cursor.execute(t_cowboy_sql)"
   ]
  },
  {
   "cell_type": "code",
   "execution_count": 60,
   "metadata": {},
   "outputs": [],
   "source": [
    "del t_cowboy_sql"
   ]
  },
  {
   "cell_type": "raw",
   "metadata": {},
   "source": [
    "历史"
   ]
  },
  {
   "cell_type": "code",
   "execution_count": 61,
   "metadata": {},
   "outputs": [],
   "source": [
    "t_history_sql = '''insert into table relation_bet_degree_and_class SELECT 't_history',(t2.v / t4.s) * 100.0,(t6.v / t8.s) * 100.0 FROM (SELECT SUM(t1.degree_high) AS v FROM film44 t1 WHERE t1.t_history =1) t2 JOIN (SELECT count(t3.degree_high) as s FROM film44 t3 WHERE t3.t_history =1) t4 JOIN (SELECT SUM(t5.degree_low) AS v FROM film44 t5 WHERE t5.t_history =1) t6 JOIN (SELECT count(t7.degree_low) as s FROM film44 t7 WHERE t7.t_history =1) t8'''"
   ]
  },
  {
   "cell_type": "code",
   "execution_count": 62,
   "metadata": {},
   "outputs": [],
   "source": [
    "cursor.execute(t_history_sql)"
   ]
  },
  {
   "cell_type": "code",
   "execution_count": 63,
   "metadata": {},
   "outputs": [],
   "source": [
    "del t_history_sql"
   ]
  },
  {
   "cell_type": "raw",
   "metadata": {},
   "source": [
    "传记"
   ]
  },
  {
   "cell_type": "code",
   "execution_count": 64,
   "metadata": {},
   "outputs": [],
   "source": [
    "t_biography_sql = '''insert into table relation_bet_degree_and_class SELECT 't_biography',(t2.v / t4.s) * 100.0,(t6.v / t8.s) * 100.0 FROM (SELECT SUM(t1.degree_high) AS v FROM film44 t1 WHERE t1.t_biography =1) t2 JOIN (SELECT count(t3.degree_high) as s FROM film44 t3 WHERE t3.t_biography =1) t4 JOIN (SELECT SUM(t5.degree_low) AS v FROM film44 t5 WHERE t5.t_biography =1) t6 JOIN (SELECT count(t7.degree_low) as s FROM film44 t7 WHERE t7.t_biography =1) t8'''"
   ]
  },
  {
   "cell_type": "code",
   "execution_count": 65,
   "metadata": {},
   "outputs": [],
   "source": [
    "cursor.execute(t_biography_sql)"
   ]
  },
  {
   "cell_type": "code",
   "execution_count": 66,
   "metadata": {},
   "outputs": [],
   "source": [
    "del t_biography_sql"
   ]
  },
  {
   "cell_type": "raw",
   "metadata": {},
   "source": [
    "歌舞"
   ]
  },
  {
   "cell_type": "code",
   "execution_count": 67,
   "metadata": {},
   "outputs": [],
   "source": [
    "t_dance_sql = '''insert into table relation_bet_degree_and_class SELECT 't_dance',(t2.v / t4.s) * 100.0,(t6.v / t8.s) * 100.0 FROM (SELECT SUM(t1.degree_high) AS v FROM film44 t1 WHERE t1.t_dance =1) t2 JOIN (SELECT count(t3.degree_high) as s FROM film44 t3 WHERE t3.t_dance =1) t4 JOIN (SELECT SUM(t5.degree_low) AS v FROM film44 t5 WHERE t5.t_dance =1) t6 JOIN (SELECT count(t7.degree_low) as s FROM film44 t7 WHERE t7.t_dance =1) t8'''"
   ]
  },
  {
   "cell_type": "code",
   "execution_count": 68,
   "metadata": {},
   "outputs": [],
   "source": [
    "cursor.execute(t_dance_sql)"
   ]
  },
  {
   "cell_type": "code",
   "execution_count": 69,
   "metadata": {},
   "outputs": [],
   "source": [
    "del t_dance_sql"
   ]
  },
  {
   "cell_type": "raw",
   "metadata": {},
   "source": [
    "黑色电影"
   ]
  },
  {
   "cell_type": "code",
   "execution_count": 70,
   "metadata": {},
   "outputs": [],
   "source": [
    "t_dark_sql = '''insert into table relation_bet_degree_and_class SELECT 't_dark',(t2.v / t4.s) * 100.0,(t6.v / t8.s) * 100.0 FROM (SELECT SUM(t1.degree_high) AS v FROM film44 t1 WHERE t1.t_dark =1) t2 JOIN (SELECT count(t3.degree_high) as s FROM film44 t3 WHERE t3.t_dark =1) t4 JOIN (SELECT SUM(t5.degree_low) AS v FROM film44 t5 WHERE t5.t_dark =1) t6 JOIN (SELECT count(t7.degree_low) as s FROM film44 t7 WHERE t7.t_dark =1) t8'''"
   ]
  },
  {
   "cell_type": "code",
   "execution_count": 71,
   "metadata": {},
   "outputs": [],
   "source": [
    "cursor.execute(t_dark_sql)"
   ]
  },
  {
   "cell_type": "code",
   "execution_count": 72,
   "metadata": {},
   "outputs": [],
   "source": [
    "del t_dark_sql"
   ]
  },
  {
   "cell_type": "raw",
   "metadata": {},
   "source": [
    "短片"
   ]
  },
  {
   "cell_type": "code",
   "execution_count": 73,
   "metadata": {},
   "outputs": [],
   "source": [
    "t_short_sql = '''insert into table relation_bet_degree_and_class SELECT 't_short',(t2.v / t4.s) * 100.0,(t6.v / t8.s) * 100.0 FROM (SELECT SUM(t1.degree_high) AS v FROM film44 t1 WHERE t1.t_short =1) t2 JOIN (SELECT count(t3.degree_high) as s FROM film44 t3 WHERE t3.t_short=1) t4 JOIN (SELECT SUM(t5.degree_low) AS v FROM film44 t5 WHERE t5.t_short=1) t6 JOIN (SELECT count(t7.degree_low) as s FROM film44 t7 WHERE t7.t_short=1) t8'''"
   ]
  },
  {
   "cell_type": "code",
   "execution_count": 74,
   "metadata": {},
   "outputs": [],
   "source": [
    "cursor.execute(t_short_sql)"
   ]
  },
  {
   "cell_type": "code",
   "execution_count": 75,
   "metadata": {},
   "outputs": [],
   "source": [
    "del t_short_sql"
   ]
  },
  {
   "cell_type": "raw",
   "metadata": {},
   "source": [
    "纪录片"
   ]
  },
  {
   "cell_type": "code",
   "execution_count": 76,
   "metadata": {},
   "outputs": [],
   "source": [
    "t_documentary_sql = '''insert into table relation_bet_degree_and_class SELECT 't_documentary',(t2.v / t4.s) * 100.0,(t6.v / t8.s) * 100.0 FROM (SELECT SUM(t1.degree_high) AS v FROM film44 t1 WHERE t1.t_documentary =1) t2 JOIN (SELECT count(t3.degree_high) as s FROM film44 t3 WHERE t3.t_documentary=1) t4 JOIN (SELECT SUM(t5.degree_low) AS v FROM film44 t5 WHERE t5.t_documentary=1) t6 JOIN (SELECT count(t7.degree_low) as s FROM film44 t7 WHERE t7.t_documentary=1) t8'''"
   ]
  },
  {
   "cell_type": "code",
   "execution_count": 77,
   "metadata": {},
   "outputs": [],
   "source": [
    "cursor.execute(t_documentary_sql)"
   ]
  },
  {
   "cell_type": "code",
   "execution_count": 78,
   "metadata": {},
   "outputs": [],
   "source": [
    "del t_documentary_sql"
   ]
  },
  {
   "cell_type": "raw",
   "metadata": {},
   "source": [
    "其他"
   ]
  },
  {
   "cell_type": "code",
   "execution_count": 79,
   "metadata": {},
   "outputs": [],
   "source": [
    "t_others_sql = '''insert into table relation_bet_degree_and_class SELECT 't_others',(t2.v / t4.s) * 100.0,(t6.v / t8.s) * 100.0 FROM (SELECT SUM(t1.degree_high) AS v FROM film44 t1 WHERE t1.t_others =1) t2 JOIN (SELECT count(t3.degree_high) as s FROM film44 t3 WHERE t3.t_others=1) t4 JOIN (SELECT SUM(t5.degree_low) AS v FROM film44 t5 WHERE t5.t_others=1) t6 JOIN (SELECT count(t7.degree_low) as s FROM film44 t7 WHERE t7.t_others=1) t8'''"
   ]
  },
  {
   "cell_type": "code",
   "execution_count": 80,
   "metadata": {},
   "outputs": [],
   "source": [
    "cursor.execute(t_others_sql)"
   ]
  },
  {
   "cell_type": "code",
   "execution_count": 81,
   "metadata": {},
   "outputs": [],
   "source": [
    "del t_others_sql"
   ]
  },
  {
   "cell_type": "raw",
   "metadata": {},
   "source": [
    "大陆"
   ]
  },
  {
   "cell_type": "code",
   "execution_count": 82,
   "metadata": {},
   "outputs": [],
   "source": [
    "c_Mainland_sql = '''insert into table relation_bet_degree_and_class SELECT 'c_Mainland',(t2.v / t4.s) * 100.0,(t6.v / t8.s) * 100.0 FROM (SELECT SUM(t1.degree_high) AS v FROM film44 t1 WHERE t1.c_Mainland =1) t2 JOIN (SELECT count(t3.degree_high) as s FROM film44 t3 WHERE t3.c_Mainland=1) t4 JOIN (SELECT SUM(t5.degree_low) AS v FROM film44 t5 WHERE t5.c_Mainland=1) t6 JOIN (SELECT count(t7.degree_low) as s FROM film44 t7 WHERE t7.c_Mainland=1) t8'''"
   ]
  },
  {
   "cell_type": "code",
   "execution_count": 83,
   "metadata": {},
   "outputs": [],
   "source": [
    "cursor.execute(c_Mainland_sql)"
   ]
  },
  {
   "cell_type": "code",
   "execution_count": 84,
   "metadata": {},
   "outputs": [],
   "source": [
    "del c_Mainland_sql"
   ]
  },
  {
   "cell_type": "raw",
   "metadata": {},
   "source": [
    "美国"
   ]
  },
  {
   "cell_type": "code",
   "execution_count": 85,
   "metadata": {},
   "outputs": [],
   "source": [
    "c_America_sql = '''insert into table relation_bet_degree_and_class SELECT 'c_America',(t2.v / t4.s) * 100.0,(t6.v / t8.s) * 100.0 FROM (SELECT SUM(t1.degree_high) AS v FROM film44 t1 WHERE t1.c_America =1) t2 JOIN (SELECT count(t3.degree_high) as s FROM film44 t3 WHERE t3.c_America=1) t4 JOIN (SELECT SUM(t5.degree_low) AS v FROM film44 t5 WHERE t5.c_America=1) t6 JOIN (SELECT count(t7.degree_low) as s FROM film44 t7 WHERE t7.c_America=1) t8'''"
   ]
  },
  {
   "cell_type": "code",
   "execution_count": 86,
   "metadata": {},
   "outputs": [],
   "source": [
    "cursor.execute(c_America_sql)"
   ]
  },
  {
   "cell_type": "code",
   "execution_count": 87,
   "metadata": {},
   "outputs": [],
   "source": [
    "del c_America_sql"
   ]
  },
  {
   "cell_type": "raw",
   "metadata": {},
   "source": [
    "韩国"
   ]
  },
  {
   "cell_type": "code",
   "execution_count": 88,
   "metadata": {},
   "outputs": [],
   "source": [
    "c_Korea_sql ='''insert into table relation_bet_degree_and_class SELECT 'c_Korea',(t2.v / t4.s) * 100.0,(t6.v / t8.s) * 100.0 FROM (SELECT SUM(t1.degree_high) AS v FROM film44 t1 WHERE t1.c_Korea =1) t2 JOIN (SELECT count(t3.degree_high) as s FROM film44 t3 WHERE t3.c_Korea=1) t4 JOIN (SELECT SUM(t5.degree_low) AS v FROM film44 t5 WHERE t5.c_Korea=1) t6 JOIN (SELECT count(t7.degree_low) as s FROM film44 t7 WHERE t7.c_Korea=1) t8'''"
   ]
  },
  {
   "cell_type": "code",
   "execution_count": 89,
   "metadata": {},
   "outputs": [],
   "source": [
    "cursor.execute(c_Korea_sql)"
   ]
  },
  {
   "cell_type": "code",
   "execution_count": 90,
   "metadata": {},
   "outputs": [],
   "source": [
    "del c_Korea_sql"
   ]
  },
  {
   "cell_type": "raw",
   "metadata": {},
   "source": [
    "日本"
   ]
  },
  {
   "cell_type": "code",
   "execution_count": 91,
   "metadata": {},
   "outputs": [],
   "source": [
    "c_Japan_sql ='''insert into table relation_bet_degree_and_class SELECT 'c_Japan',(t2.v / t4.s) * 100.0,(t6.v / t8.s) * 100.0 FROM (SELECT SUM(t1.degree_high) AS v FROM film44 t1 WHERE t1.c_Japan =1) t2 JOIN (SELECT count(t3.degree_high) as s FROM film44 t3 WHERE t3.c_Japan=1) t4 JOIN (SELECT SUM(t5.degree_low) AS v FROM film44 t5 WHERE t5.c_Japan=1) t6 JOIN (SELECT count(t7.degree_low) as s FROM film44 t7 WHERE t7.c_Japan=1) t8'''"
   ]
  },
  {
   "cell_type": "code",
   "execution_count": 92,
   "metadata": {},
   "outputs": [],
   "source": [
    "cursor.execute(c_Japan_sql)"
   ]
  },
  {
   "cell_type": "code",
   "execution_count": 93,
   "metadata": {},
   "outputs": [],
   "source": [
    "del c_Japan_sql"
   ]
  },
  {
   "cell_type": "raw",
   "metadata": {},
   "source": [
    "香港"
   ]
  },
  {
   "cell_type": "code",
   "execution_count": 94,
   "metadata": {},
   "outputs": [],
   "source": [
    "c_Hongkong_sql = '''insert into table relation_bet_degree_and_class SELECT 'c_Hongkong',(t2.v / t4.s) * 100.0,(t6.v / t8.s) * 100.0 FROM (SELECT SUM(t1.degree_high) AS v FROM film44 t1 WHERE t1.c_Hongkong =1) t2 JOIN (SELECT count(t3.degree_high) as s FROM film44 t3 WHERE t3.c_Hongkong=1) t4 JOIN (SELECT SUM(t5.degree_low) AS v FROM film44 t5 WHERE t5.c_Hongkong=1) t6 JOIN (SELECT count(t7.degree_low) as s FROM film44 t7 WHERE t7.c_Hongkong=1) t8'''"
   ]
  },
  {
   "cell_type": "code",
   "execution_count": 95,
   "metadata": {},
   "outputs": [],
   "source": [
    "cursor.execute(c_Hongkong_sql)"
   ]
  },
  {
   "cell_type": "code",
   "execution_count": 96,
   "metadata": {},
   "outputs": [],
   "source": [
    "del c_Hongkong_sql"
   ]
  },
  {
   "cell_type": "raw",
   "metadata": {},
   "source": [
    "台湾"
   ]
  },
  {
   "cell_type": "code",
   "execution_count": 97,
   "metadata": {},
   "outputs": [],
   "source": [
    "c_Taiwan_sql = '''insert into table relation_bet_degree_and_class SELECT 'c_Taiwan',(t2.v / t4.s) * 100.0,(t6.v / t8.s) * 100.0 FROM (SELECT SUM(t1.degree_high) AS v FROM film44 t1 WHERE t1.c_Taiwan =1) t2 JOIN (SELECT count(t3.degree_high) as s FROM film44 t3 WHERE t3.c_Taiwan=1) t4 JOIN (SELECT SUM(t5.degree_low) AS v FROM film44 t5 WHERE t5.c_Taiwan=1) t6 JOIN (SELECT count(t7.degree_low) as s FROM film44 t7 WHERE t7.c_Taiwan=1) t8'''"
   ]
  },
  {
   "cell_type": "code",
   "execution_count": 98,
   "metadata": {},
   "outputs": [],
   "source": [
    "cursor.execute(c_Taiwan_sql)"
   ]
  },
  {
   "cell_type": "code",
   "execution_count": 99,
   "metadata": {},
   "outputs": [],
   "source": [
    "del c_Taiwan_sql"
   ]
  },
  {
   "cell_type": "raw",
   "metadata": {},
   "source": [
    "泰国"
   ]
  },
  {
   "cell_type": "code",
   "execution_count": 100,
   "metadata": {},
   "outputs": [],
   "source": [
    "c_Thailand_sql = '''insert into table relation_bet_degree_and_class SELECT 'c_Thailand',(t2.v / t4.s) * 100.0,(t6.v / t8.s) * 100.0 FROM (SELECT SUM(t1.degree_high) AS v FROM film44 t1 WHERE t1.c_Thailand =1) t2 JOIN (SELECT count(t3.degree_high) as s FROM film44 t3 WHERE t3.c_Thailand=1) t4 JOIN (SELECT SUM(t5.degree_low) AS v FROM film44 t5 WHERE t5.c_Thailand=1) t6 JOIN (SELECT count(t7.degree_low) as s FROM film44 t7 WHERE t7.c_Thailand=1) t8'''"
   ]
  },
  {
   "cell_type": "code",
   "execution_count": 101,
   "metadata": {},
   "outputs": [],
   "source": [
    "cursor.execute(c_Thailand_sql)"
   ]
  },
  {
   "cell_type": "code",
   "execution_count": 102,
   "metadata": {},
   "outputs": [],
   "source": [
    "del c_Thailand_sql"
   ]
  },
  {
   "cell_type": "raw",
   "metadata": {},
   "source": [
    "印度"
   ]
  },
  {
   "cell_type": "code",
   "execution_count": 103,
   "metadata": {},
   "outputs": [],
   "source": [
    "c_India_sql = '''insert into table relation_bet_degree_and_class SELECT 'c_India',(t2.v / t4.s) * 100.0,(t6.v / t8.s) * 100.0 FROM (SELECT SUM(t1.degree_high) AS v FROM film44 t1 WHERE t1.c_India =1) t2 JOIN (SELECT count(t3.degree_high) as s FROM film44 t3 WHERE t3.c_India=1) t4 JOIN (SELECT SUM(t5.degree_low) AS v FROM film44 t5 WHERE t5.c_India=1) t6 JOIN (SELECT count(t7.degree_low) as s FROM film44 t7 WHERE t7.c_India=1) t8'''"
   ]
  },
  {
   "cell_type": "code",
   "execution_count": 104,
   "metadata": {},
   "outputs": [],
   "source": [
    "cursor.execute(c_India_sql)"
   ]
  },
  {
   "cell_type": "code",
   "execution_count": 105,
   "metadata": {},
   "outputs": [],
   "source": [
    "del c_India_sql"
   ]
  },
  {
   "cell_type": "raw",
   "metadata": {},
   "source": [
    "法国"
   ]
  },
  {
   "cell_type": "code",
   "execution_count": 106,
   "metadata": {},
   "outputs": [],
   "source": [
    "c_France_sql = '''insert into table relation_bet_degree_and_class SELECT 'c_France',(t2.v / t4.s) * 100.0,(t6.v / t8.s) * 100.0 FROM (SELECT SUM(t1.degree_high) AS v FROM film44 t1 WHERE t1.c_France =1) t2 JOIN (SELECT count(t3.degree_high) as s FROM film44 t3 WHERE t3.c_France=1) t4 JOIN (SELECT SUM(t5.degree_low) AS v FROM film44 t5 WHERE t5.c_France=1) t6 JOIN (SELECT count(t7.degree_low) as s FROM film44 t7 WHERE t7.c_France=1) t8'''"
   ]
  },
  {
   "cell_type": "code",
   "execution_count": 107,
   "metadata": {},
   "outputs": [],
   "source": [
    "cursor.execute(c_France_sql)"
   ]
  },
  {
   "cell_type": "code",
   "execution_count": 108,
   "metadata": {},
   "outputs": [],
   "source": [
    "del c_France_sql"
   ]
  },
  {
   "cell_type": "raw",
   "metadata": {},
   "source": [
    "英国"
   ]
  },
  {
   "cell_type": "code",
   "execution_count": 109,
   "metadata": {},
   "outputs": [],
   "source": [
    "c_England_sql = '''insert into table relation_bet_degree_and_class SELECT 'c_England',(t2.v / t4.s) * 100.0,(t6.v / t8.s) * 100.0 FROM (SELECT SUM(t1.degree_high) AS v FROM film44 t1 WHERE t1.c_England =1) t2 JOIN (SELECT count(t3.degree_high) as s FROM film44 t3 WHERE t3.c_England=1) t4 JOIN (SELECT SUM(t5.degree_low) AS v FROM film44 t5 WHERE t5.c_England=1) t6 JOIN (SELECT count(t7.degree_low) as s FROM film44 t7 WHERE t7.c_England=1) t8'''"
   ]
  },
  {
   "cell_type": "code",
   "execution_count": 110,
   "metadata": {},
   "outputs": [],
   "source": [
    "cursor.execute(c_England_sql)"
   ]
  },
  {
   "cell_type": "code",
   "execution_count": 111,
   "metadata": {},
   "outputs": [],
   "source": [
    "del c_England_sql"
   ]
  },
  {
   "cell_type": "raw",
   "metadata": {},
   "source": [
    "俄罗斯"
   ]
  },
  {
   "cell_type": "code",
   "execution_count": 112,
   "metadata": {},
   "outputs": [],
   "source": [
    "c_Russia_sql = '''insert into table relation_bet_degree_and_class SELECT 'c_Russia',(t2.v / t4.s) * 100.0,(t6.v / t8.s) * 100.0 FROM (SELECT SUM(t1.degree_high) AS v FROM film44 t1 WHERE t1.c_Russia =1) t2 JOIN (SELECT count(t3.degree_high) as s FROM film44 t3 WHERE t3.c_Russia=1) t4 JOIN (SELECT SUM(t5.degree_low) AS v FROM film44 t5 WHERE t5.c_Russia=1) t6 JOIN (SELECT count(t7.degree_low) as s FROM film44 t7 WHERE t7.c_Russia=1) t8'''"
   ]
  },
  {
   "cell_type": "code",
   "execution_count": 113,
   "metadata": {},
   "outputs": [],
   "source": [
    "cursor.execute(c_Russia_sql)"
   ]
  },
  {
   "cell_type": "code",
   "execution_count": 114,
   "metadata": {},
   "outputs": [],
   "source": [
    "del c_Russia_sql"
   ]
  },
  {
   "cell_type": "raw",
   "metadata": {},
   "source": [
    "意大利"
   ]
  },
  {
   "cell_type": "code",
   "execution_count": 115,
   "metadata": {},
   "outputs": [],
   "source": [
    "c_Italy_sql = '''insert into table relation_bet_degree_and_class SELECT 'c_Italy',(t2.v / t4.s) * 100.0,(t6.v / t8.s) * 100.0 FROM (SELECT SUM(t1.degree_high) AS v FROM film44 t1 WHERE t1.c_Italy =1) t2 JOIN (SELECT count(t3.degree_high) as s FROM film44 t3 WHERE t3.c_Italy =1) t4 JOIN (SELECT SUM(t5.degree_low) AS v FROM film44 t5 WHERE t5.c_Italy =1) t6 JOIN (SELECT count(t7.degree_low) as s FROM film44 t7 WHERE t7.c_Italy =1) t8'''"
   ]
  },
  {
   "cell_type": "code",
   "execution_count": 116,
   "metadata": {},
   "outputs": [],
   "source": [
    "cursor.execute(c_Italy_sql)"
   ]
  },
  {
   "cell_type": "code",
   "execution_count": 117,
   "metadata": {},
   "outputs": [],
   "source": [
    "del c_Italy_sql"
   ]
  },
  {
   "cell_type": "raw",
   "metadata": {},
   "source": [
    "西班牙"
   ]
  },
  {
   "cell_type": "code",
   "execution_count": 118,
   "metadata": {},
   "outputs": [],
   "source": [
    "c_Spain_sql = '''insert into table relation_bet_degree_and_class SELECT 'c_Spain',(t2.v / t4.s) * 100.0,(t6.v / t8.s) * 100.0 FROM (SELECT SUM(t1.degree_high) AS v FROM film44 t1 WHERE t1.c_Spain =1) t2 JOIN (SELECT count(t3.degree_high) as s FROM film44 t3 WHERE t3.c_Spain=1) t4 JOIN (SELECT SUM(t5.degree_low) AS v FROM film44 t5 WHERE t5.c_Spain=1) t6 JOIN (SELECT count(t7.degree_low) as s FROM film44 t7 WHERE t7.c_Spain =1) t8'''"
   ]
  },
  {
   "cell_type": "code",
   "execution_count": 119,
   "metadata": {},
   "outputs": [],
   "source": [
    "cursor.execute(c_Spain_sql)"
   ]
  },
  {
   "cell_type": "code",
   "execution_count": 120,
   "metadata": {},
   "outputs": [],
   "source": [
    "del c_Spain_sql"
   ]
  },
  {
   "cell_type": "raw",
   "metadata": {},
   "source": [
    "德国"
   ]
  },
  {
   "cell_type": "code",
   "execution_count": 121,
   "metadata": {},
   "outputs": [],
   "source": [
    "c_Germany_sql = '''insert into table relation_bet_degree_and_class SELECT 'c_Germany',(t2.v / t4.s) * 100.0,(t6.v / t8.s) * 100.0 FROM (SELECT SUM(t1.degree_high) AS v FROM film44 t1 WHERE t1.c_Germany=1) t2 JOIN (SELECT count(t3.degree_high) as s FROM film44 t3 WHERE t3.c_Germany=1) t4 JOIN (SELECT SUM(t5.degree_low) AS v FROM film44 t5 WHERE t5.c_Germany=1) t6 JOIN (SELECT count(t7.degree_low) as s FROM film44 t7 WHERE t7.c_Germany=1) t8'''"
   ]
  },
  {
   "cell_type": "code",
   "execution_count": 122,
   "metadata": {},
   "outputs": [],
   "source": [
    "cursor.execute(c_Germany_sql)"
   ]
  },
  {
   "cell_type": "code",
   "execution_count": 123,
   "metadata": {},
   "outputs": [],
   "source": [
    "del c_Germany_sql"
   ]
  },
  {
   "cell_type": "raw",
   "metadata": {},
   "source": [
    "波兰"
   ]
  },
  {
   "cell_type": "code",
   "execution_count": 124,
   "metadata": {},
   "outputs": [],
   "source": [
    "c_Poland_sql = '''insert into table relation_bet_degree_and_class SELECT 'c_Poland',(t2.v / t4.s) * 100.0,(t6.v / t8.s) * 100.0 FROM (SELECT SUM(t1.degree_high) AS v FROM film44 t1 WHERE t1.c_Poland=1) t2 JOIN (SELECT count(t3.degree_high) as s FROM film44 t3 WHERE t3.c_Poland=1) t4 JOIN (SELECT SUM(t5.degree_low) AS v FROM film44 t5 WHERE t5.c_Poland=1) t6 JOIN (SELECT count(t7.degree_low) as s FROM film44 t7 WHERE t7.c_Poland=1) t8'''"
   ]
  },
  {
   "cell_type": "code",
   "execution_count": 125,
   "metadata": {},
   "outputs": [],
   "source": [
    "cursor.execute(c_Poland_sql)"
   ]
  },
  {
   "cell_type": "code",
   "execution_count": 126,
   "metadata": {},
   "outputs": [],
   "source": [
    "del c_Poland_sql"
   ]
  },
  {
   "cell_type": "raw",
   "metadata": {},
   "source": [
    "澳大利亚"
   ]
  },
  {
   "cell_type": "code",
   "execution_count": 127,
   "metadata": {},
   "outputs": [],
   "source": [
    "c_Australia_sql = '''insert into table relation_bet_degree_and_class SELECT 'c_Australia',(t2.v / t4.s) * 100.0,(t6.v / t8.s) * 100.0 FROM (SELECT SUM(t1.degree_high) AS v FROM film44 t1 WHERE t1.c_Australia=1) t2 JOIN (SELECT count(t3.degree_high) as s FROM film44 t3 WHERE t3.c_Australia=1) t4 JOIN (SELECT SUM(t5.degree_low) AS v FROM film44 t5 WHERE t5.c_Australia=1) t6 JOIN (SELECT count(t7.degree_low) as s FROM film44 t7 WHERE t7.c_Australia=1) t8'''"
   ]
  },
  {
   "cell_type": "code",
   "execution_count": 128,
   "metadata": {},
   "outputs": [],
   "source": [
    "cursor.execute(c_Australia_sql)"
   ]
  },
  {
   "cell_type": "code",
   "execution_count": 129,
   "metadata": {},
   "outputs": [],
   "source": [
    "del c_Australia_sql"
   ]
  },
  {
   "cell_type": "raw",
   "metadata": {},
   "source": [
    "伊朗"
   ]
  },
  {
   "cell_type": "code",
   "execution_count": 132,
   "metadata": {},
   "outputs": [],
   "source": [
    "c_Iran_sql = '''insert into table relation_bet_degree_and_class SELECT 'c_Iran',(t2.v / t4.s) * 100.0,(t6.v / t8.s) * 100.0 FROM (SELECT SUM(t1.degree_high) AS v FROM film44 t1 WHERE t1.c_Iran=1) t2 JOIN (SELECT count(t3.degree_high) as s FROM film44 t3 WHERE t3.c_Iran=1) t4 JOIN (SELECT SUM(t5.degree_low) AS v FROM film44 t5 WHERE t5.c_Iran=1) t6 JOIN (SELECT count(t7.degree_low) as s FROM film44 t7 WHERE t7.c_Iran=1) t8'''"
   ]
  },
  {
   "cell_type": "code",
   "execution_count": 133,
   "metadata": {},
   "outputs": [],
   "source": [
    "cursor.execute(c_Iran_sql)"
   ]
  },
  {
   "cell_type": "code",
   "execution_count": 134,
   "metadata": {},
   "outputs": [],
   "source": [
    "del c_Iran_sql"
   ]
  },
  {
   "cell_type": "raw",
   "metadata": {},
   "source": [
    "其他"
   ]
  },
  {
   "cell_type": "code",
   "execution_count": 135,
   "metadata": {},
   "outputs": [],
   "source": [
    "c_Others_sql = '''insert into table relation_bet_degree_and_class SELECT 'c_Others',(t2.v / t4.s) * 100.0,(t6.v / t8.s) * 100.0 FROM (SELECT SUM(t1.degree_high) AS v FROM film44 t1 WHERE t1.c_Others=1) t2 JOIN (SELECT count(t3.degree_high) as s FROM film44 t3 WHERE t3.c_Others=1) t4 JOIN (SELECT SUM(t5.degree_low) AS v FROM film44 t5 WHERE t5.c_Others=1) t6 JOIN (SELECT count(t7.degree_low) as s FROM film44 t7 WHERE t7.c_Others=1) t8'''"
   ]
  },
  {
   "cell_type": "code",
   "execution_count": 136,
   "metadata": {},
   "outputs": [],
   "source": [
    "cursor.execute(c_Others_sql)"
   ]
  },
  {
   "cell_type": "code",
   "execution_count": 137,
   "metadata": {},
   "outputs": [],
   "source": [
    "del c_Others_sql"
   ]
  },
  {
   "cell_type": "code",
   "execution_count": null,
   "metadata": {},
   "outputs": [],
   "source": []
  }
 ],
 "metadata": {
  "kernelspec": {
   "display_name": "Python 3",
   "language": "python",
   "name": "python3"
  },
  "language_info": {
   "codemirror_mode": {
    "name": "ipython",
    "version": 3
   },
   "file_extension": ".py",
   "mimetype": "text/x-python",
   "name": "python",
   "nbconvert_exporter": "python",
   "pygments_lexer": "ipython3",
   "version": "3.5.2"
  }
 },
 "nbformat": 4,
 "nbformat_minor": 2
}
