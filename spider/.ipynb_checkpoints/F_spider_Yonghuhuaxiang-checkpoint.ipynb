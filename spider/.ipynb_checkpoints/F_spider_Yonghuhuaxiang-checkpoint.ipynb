{
 "cells": [
  {
   "cell_type": "code",
   "execution_count": 2,
   "metadata": {
    "collapsed": true
   },
   "outputs": [],
   "source": [
    "#coding = utf-8\n",
    "from requests.exceptions import RequestException\n",
    "from bs4 import BeautifulSoup\n",
    "import requests\n",
    "import re\n",
    "import time\n",
    "from multiprocessing import Pool\n",
    "import csv"
   ]
  },
  {
   "cell_type": "code",
   "execution_count": 3,
   "metadata": {
    "collapsed": false
   },
   "outputs": [
    {
     "name": "stdout",
     "output_type": "stream",
     "text": [
      "['78461', '阿凡达2', '67%', '33%', '5.3%', '29.9%', '26.9%', '15.7%', '10.5%', '11.6%', '40.2%', '59.8%', '43.5%', '23.1%', '20%', '13.3%', '白领 53.3%', '其他 31.9%', '学生 14.7%', '动作 52.9%', '科幻 12.2%', '爱情 10.4%', '喜剧 9.4%', '动画 6%', '复仇者联盟3：无限战争', '唐人街探案2', '侏罗纪世界2', '我不是药神', '海王', '红海行动', '毒液：致命守护者', '头号玩家', '流浪地球', '西虹市首富']\n",
      "write over\n",
      "['343034', '速度与激情9', '72.9%', '27%', '5.3%', '29.2%', '28.7%', '14.6%', '10%', '12.3%', '43.6%', '56.4%', '43.1%', '21.2%', '20.4%', '15.3%', '白领 54.5%', '其他 33.6%', '学生 11.9%', '动作 60.5%', '喜剧 10.6%', '爱情 9.5%', '科幻 8.7%', '动画 4.1%', '复仇者联盟3：无限战争', '唐人街探案2', '毒液：致命守护者', '红海行动', '海王', '侏罗纪世界2', '我不是药神', '西虹市首富', '流浪地球', '碟中谍6：全面瓦解']\n",
      "write over\n",
      "['1217023', '唐人街探案3', '57.9%', '42.1%', '5.2%', '25.9%', '23.1%', '15.3%', '14.5%', '16%', '44.4%', '55.6%', '41.8%', '24.5%', '20.7%', '12.9%', '白领 50.2%', '其他 36.1%', '学生 13.7%', '动作 48.6%', '爱情 13.3%', '喜剧 12.6%', '科幻 8.3%', '动画 8.2%', '唐人街探案2', '复仇者联盟3：无限战争', '我不是药神', '西虹市首富', '捉妖记2', '流浪地球', '红海行动', '毒液：致命守护者', '疯狂的外星人', '飞驰人生']\n",
      "write over\n",
      "['1251639', '毒液2', '51.1%', '48.9%', '10.2%', '15.7%', '17.1%', '17.1%', '21.6%', '18.3%', '46.8%', '53.2%', '44.3%', '19%', '18.4%', '18.4%', '白领 50.9%', '其他 39.8%', '学生 9.3%', '动作 47.1%', '动画 13.2%', '喜剧 10.7%', '爱情 9.7%', '科幻 9.6%', '毒液：致命守护者', '复仇者联盟3：无限战争', '流浪地球', '海王', '大黄蜂', '侏罗纪世界2', '蚁人2：黄蜂女现身', '唐人街探案2', '捉妖记2', '西虹市首富']\n",
      "write over\n",
      "['343035', '速度与激情10', '70.6%', '29.4%', '5.2%', '26.8%', '26.5%', '14.6%', '13.2%', '13.8%', '45.2%', '54.8%', '42.6%', '21.8%', '20.8%', '14.8%', '白领 54.2%', '其他 34.9%', '学生 10.8%', '动作 59.9%', '喜剧 10.2%', '爱情 9.8%', '科幻 8.6%', '动画 4.8%', '复仇者联盟3：无限战争', '唐人街探案2', '毒液：致命守护者', '红海行动', '海王', '侏罗纪世界2', '我不是药神', '西虹市首富', '流浪地球', '碟中谍6：全面瓦解']\n",
      "write over\n",
      "['343568', '哥斯拉大战金刚', '70%', '30%', '4%', '25.4%', '27.3%', '16.2%', '13.3%', '13.7%', '39.7%', '60.3%', '44.7%', '19.6%', '19.4%', '16.3%', '白领 56.9%', '其他 31.7%', '学生 11.4%', '动作 54%', '科幻 12.3%', '喜剧 9.9%', '爱情 9.3%', '动画 6%', '复仇者联盟3：无限战争', '侏罗纪世界2', '毒液：致命守护者', '海王', '狂暴巨兽', '环太平洋：雷霆再起', '头号玩家', '黑豹', '蚁人2：黄蜂女现身', '唐人街探案2']\n",
      "write over\n",
      "['78463', '阿凡达3：带种者', '71.9%', '28%', '4.5%', '25.4%', '25.7%', '17.5%', '13%', '13.9%', '38.3%', '61.7%', '44.1%', '21.7%', '19.2%', '15.1%', '白领 57.6%', '其他 29.4%', '学生 13%', '动作 54.1%', '科幻 13.2%', '喜剧 9.2%', '爱情 9%', '动画 5.6%', '复仇者联盟3：无限战争', '海王', '头号玩家', '毒液：致命守护者', '侏罗纪世界2', '红海行动', '唐人街探案2', '黑豹', '流浪地球', '我不是药神']\n",
      "write over\n",
      "['1226930', '十二金刚', '77.7%', '22.2%', '6.6%', '41.5%', '32.6%', '11.1%', '3.8%', '4.4%', '43.7%', '56.3%', '42.5%', '22.3%', '20.7%', '14.5%', '白领 53%', '其他 34.5%', '学生 12.5%', '动作 53.8%', '喜剧 13.7%', '爱情 13.3%', '科幻 8.1%', '动画 3.5%', '西虹市首富', '复仇者联盟3：无限战争', '我不是药神', '唐人街探案2', '毒液：致命守护者', '红海行动', '流浪地球', '后来的我们', '一出好戏', '海王']\n",
      "write over\n",
      "['1205713', '狂怒沙暴']\n",
      "write over\n",
      "['1200478', '死侍3', '59.4%', '40.6%', '6.3%', '27.9%', '22.4%', '13.6%', '13.7%', '16.1%', '39.5%', '60.5%', '44.4%', '19.9%', '19%', '16.7%', '白领 50.7%', '其他 33.1%', '学生 16.2%', '动作 51.5%', '爱情 11.1%', '喜剧 10.8%', '科幻 10.5%', '动画 7.8%', '复仇者联盟3：无限战争', '毒液：致命守护者', '海王', '蚁人2：黄蜂女现身', '唐人街探案2', '流浪地球', '侏罗纪世界2', '西虹市首富', '我不是药神', '大黄蜂']\n",
      "write over\n",
      "['346600', '阿凡达5：追寻伊娃', '70.8%', '29.2%', '4.1%', '25.2%', '26.6%', '16.9%', '14.1%', '13.1%', '36.1%', '63.9%', '44.7%', '21.3%', '18.7%', '15.4%', '白领 58%', '其他 29.1%', '学生 12.9%', '动作 53.7%', '科幻 12.4%', '喜剧 9.3%', '爱情 9.2%', '动画 6%', '复仇者联盟3：无限战争', '海王', '毒液：致命守护者', '侏罗纪世界2', '头号玩家', '流浪地球', '唐人街探案2', '红海行动', '黑豹', '我不是药神']\n",
      "write over\n",
      "['341208', '阿凡达4：祖古骑士', '66.8%', '33.2%', '4.1%', '24.1%', '26%', '18.2%', '13.8%', '13.8%', '38.5%', '61.5%', '44.5%', '21.5%', '19%', '15.1%', '白领 57.7%', '其他 30.5%', '学生 11.8%', '动作 53.1%', '科幻 12.5%', '爱情 9.6%', '喜剧 9%', '动画 6.3%', '复仇者联盟3：无限战争', '海王', '毒液：致命守护者', '侏罗纪世界2', '头号玩家', '唐人街探案2', '流浪地球', '红海行动', '我不是药神', '黑豹']\n",
      "write over\n",
      "['1203739', '美人鱼2', '72.5%', '27.5%', '9.3%', '25.5%', '29%', '15.6%', '10.6%', '10%', '44.9%', '55.1%', '42%', '20.6%', '18.7%', '18.7%', '白领 48%', '其他 32.4%', '学生 19.6%', '动作 52.3%', '喜剧 12.7%', '爱情 12.2%', '科幻 8.6%', '动画 5.6%', '唐人街探案2', '复仇者联盟3：无限战争', '我不是药神', '西虹市首富', '流浪地球', '红海行动', '侏罗纪世界2', '毒液：致命守护者', '海王', '捉妖记2']\n",
      "write over\n",
      "['341204', '黑寡妇', '67.5%', '32.5%', '5%', '28%', '25.4%', '15.4%', '12.1%', '14.1%', '37%', '63%', '43.7%', '21.5%', '19.9%', '14.9%', '白领 55.3%', '其他 29.5%', '学生 15.2%', '动作 53.8%', '科幻 11.8%', '爱情 10.3%', '喜剧 9.7%', '动画 6%', '复仇者联盟3：无限战争', '毒液：致命守护者', '黑豹', '蚁人2：黄蜂女现身', '海王', '头号玩家', '侏罗纪世界2', '唐人街探案2', '我不是药神', '流浪地球']\n",
      "write over\n",
      "['672148', '从21世纪安全撤离', '20.1%', '79.9%', '23.6%', '29.4%', '11.3%', '5.9%', '11.2%', '18.5%', '65.8%', '34.2%', '38.2%', '24%', '21.6%', '16.3%', '其他 47.8%', '学生 36.6%', '白领 15.6%', '动作 41.5%', '爱情 19.5%', '喜剧 14.4%', '科幻 8.5%', '动画 5.9%', '爱情公寓', '唐人街探案2', '流浪地球', '飞驰人生', '西虹市首富', '疯狂的外星人', '快把我哥带走', '后来的我们', '捉妖记2', '我不是药神']\n",
      "write over\n",
      "['1250716', '奇异博士2']\n",
      "write over\n"
     ]
    },
    {
     "ename": "KeyboardInterrupt",
     "evalue": "",
     "output_type": "error",
     "traceback": [
      "\u001b[1;31m---------------------------------------------------------------------------\u001b[0m",
      "\u001b[1;31mKeyboardInterrupt\u001b[0m                         Traceback (most recent call last)",
      "\u001b[1;32m<ipython-input-3-f59046f53803>\u001b[0m in \u001b[0;36m<module>\u001b[1;34m()\u001b[0m\n\u001b[0;32m     63\u001b[0m \u001b[1;32mif\u001b[0m \u001b[0m__name__\u001b[0m \u001b[1;33m==\u001b[0m \u001b[1;34m'__main__'\u001b[0m\u001b[1;33m:\u001b[0m\u001b[1;33m\u001b[0m\u001b[0m\n\u001b[0;32m     64\u001b[0m     \u001b[1;32mfor\u001b[0m \u001b[0mline\u001b[0m \u001b[1;32min\u001b[0m \u001b[0mopen\u001b[0m\u001b[1;33m(\u001b[0m\u001b[1;34m\"2020id.txt\"\u001b[0m\u001b[1;33m)\u001b[0m\u001b[1;33m:\u001b[0m\u001b[1;33m\u001b[0m\u001b[0m\n\u001b[1;32m---> 65\u001b[1;33m         \u001b[0mmain\u001b[0m\u001b[1;33m(\u001b[0m\u001b[0mline\u001b[0m\u001b[1;33m.\u001b[0m\u001b[0mreplace\u001b[0m\u001b[1;33m(\u001b[0m\u001b[1;34m\"\\n\"\u001b[0m\u001b[1;33m,\u001b[0m\u001b[1;34m\"\"\u001b[0m\u001b[1;33m)\u001b[0m\u001b[1;33m)\u001b[0m\u001b[1;33m\u001b[0m\u001b[0m\n\u001b[0m\u001b[0;32m     66\u001b[0m         \u001b[0mtime\u001b[0m\u001b[1;33m.\u001b[0m\u001b[0msleep\u001b[0m\u001b[1;33m(\u001b[0m\u001b[1;36m1\u001b[0m\u001b[1;33m)\u001b[0m\u001b[1;33m\u001b[0m\u001b[0m\n\u001b[0;32m     67\u001b[0m \u001b[1;31m#     for i in range(0,1):\u001b[0m\u001b[1;33m\u001b[0m\u001b[1;33m\u001b[0m\u001b[0m\n",
      "\u001b[1;32m<ipython-input-3-f59046f53803>\u001b[0m in \u001b[0;36mmain\u001b[1;34m(offset)\u001b[0m\n\u001b[0;32m     57\u001b[0m \u001b[1;32mdef\u001b[0m \u001b[0mmain\u001b[0m\u001b[1;33m(\u001b[0m\u001b[0moffset\u001b[0m\u001b[1;33m)\u001b[0m\u001b[1;33m:\u001b[0m\u001b[1;33m\u001b[0m\u001b[0m\n\u001b[0;32m     58\u001b[0m     \u001b[0murl\u001b[0m \u001b[1;33m=\u001b[0m \u001b[1;34m'https://piaofang.maoyan.com/movie/'\u001b[0m\u001b[1;33m+\u001b[0m\u001b[0mstr\u001b[0m\u001b[1;33m(\u001b[0m\u001b[0moffset\u001b[0m\u001b[1;33m)\u001b[0m\u001b[1;33m+\u001b[0m\u001b[1;34m'/wantindex?'\u001b[0m\u001b[1;33m\u001b[0m\u001b[0m\n\u001b[1;32m---> 59\u001b[1;33m     \u001b[0mhtml\u001b[0m \u001b[1;33m=\u001b[0m \u001b[0mget_one_page\u001b[0m\u001b[1;33m(\u001b[0m\u001b[0murl\u001b[0m\u001b[1;33m)\u001b[0m\u001b[1;33m\u001b[0m\u001b[0m\n\u001b[0m\u001b[0;32m     60\u001b[0m     \u001b[0mresult\u001b[0m \u001b[1;33m=\u001b[0m \u001b[0mparse_one_page\u001b[0m\u001b[1;33m(\u001b[0m\u001b[0mhtml\u001b[0m\u001b[1;33m,\u001b[0m\u001b[0moffset\u001b[0m\u001b[1;33m)\u001b[0m\u001b[1;33m\u001b[0m\u001b[0m\n\u001b[0;32m     61\u001b[0m     \u001b[0mwritein\u001b[0m\u001b[1;33m(\u001b[0m\u001b[0mresult\u001b[0m\u001b[1;33m)\u001b[0m\u001b[1;33m\u001b[0m\u001b[0m\n",
      "\u001b[1;32m<ipython-input-3-f59046f53803>\u001b[0m in \u001b[0;36mget_one_page\u001b[1;34m(url)\u001b[0m\n\u001b[0;32m      4\u001b[0m             \u001b[1;34m'User-Agent'\u001b[0m\u001b[1;33m:\u001b[0m\u001b[1;34m'Mozilla/5.0 (Windows NT 10.0; Win64; x64) AppleWebKit/537.36 (KHTML, like Gecko) Chrome/72.0.3626.96 Safari/537.36'\u001b[0m\u001b[1;33m\u001b[0m\u001b[0m\n\u001b[0;32m      5\u001b[0m         }\n\u001b[1;32m----> 6\u001b[1;33m         \u001b[0mresponse\u001b[0m \u001b[1;33m=\u001b[0m \u001b[0mrequests\u001b[0m\u001b[1;33m.\u001b[0m\u001b[0mget\u001b[0m\u001b[1;33m(\u001b[0m\u001b[0murl\u001b[0m\u001b[1;33m,\u001b[0m\u001b[0mheaders\u001b[0m\u001b[1;33m=\u001b[0m\u001b[0mheader\u001b[0m\u001b[1;33m)\u001b[0m\u001b[1;33m\u001b[0m\u001b[0m\n\u001b[0m\u001b[0;32m      7\u001b[0m         \u001b[1;32mif\u001b[0m \u001b[0mresponse\u001b[0m\u001b[1;33m.\u001b[0m\u001b[0mstatus_code\u001b[0m \u001b[1;33m==\u001b[0m \u001b[1;36m200\u001b[0m\u001b[1;33m:\u001b[0m\u001b[1;33m\u001b[0m\u001b[0m\n\u001b[0;32m      8\u001b[0m             \u001b[1;32mreturn\u001b[0m \u001b[0mresponse\u001b[0m\u001b[1;33m.\u001b[0m\u001b[0mtext\u001b[0m\u001b[1;33m\u001b[0m\u001b[0m\n",
      "\u001b[1;32mc:\\users\\huangqi\\appdata\\local\\programs\\python\\python35\\lib\\site-packages\\requests\\api.py\u001b[0m in \u001b[0;36mget\u001b[1;34m(url, params, **kwargs)\u001b[0m\n\u001b[0;32m     70\u001b[0m \u001b[1;33m\u001b[0m\u001b[0m\n\u001b[0;32m     71\u001b[0m     \u001b[0mkwargs\u001b[0m\u001b[1;33m.\u001b[0m\u001b[0msetdefault\u001b[0m\u001b[1;33m(\u001b[0m\u001b[1;34m'allow_redirects'\u001b[0m\u001b[1;33m,\u001b[0m \u001b[1;32mTrue\u001b[0m\u001b[1;33m)\u001b[0m\u001b[1;33m\u001b[0m\u001b[0m\n\u001b[1;32m---> 72\u001b[1;33m     \u001b[1;32mreturn\u001b[0m \u001b[0mrequest\u001b[0m\u001b[1;33m(\u001b[0m\u001b[1;34m'get'\u001b[0m\u001b[1;33m,\u001b[0m \u001b[0murl\u001b[0m\u001b[1;33m,\u001b[0m \u001b[0mparams\u001b[0m\u001b[1;33m=\u001b[0m\u001b[0mparams\u001b[0m\u001b[1;33m,\u001b[0m \u001b[1;33m**\u001b[0m\u001b[0mkwargs\u001b[0m\u001b[1;33m)\u001b[0m\u001b[1;33m\u001b[0m\u001b[0m\n\u001b[0m\u001b[0;32m     73\u001b[0m \u001b[1;33m\u001b[0m\u001b[0m\n\u001b[0;32m     74\u001b[0m \u001b[1;33m\u001b[0m\u001b[0m\n",
      "\u001b[1;32mc:\\users\\huangqi\\appdata\\local\\programs\\python\\python35\\lib\\site-packages\\requests\\api.py\u001b[0m in \u001b[0;36mrequest\u001b[1;34m(method, url, **kwargs)\u001b[0m\n\u001b[0;32m     56\u001b[0m     \u001b[1;31m# cases, and look like a memory leak in others.\u001b[0m\u001b[1;33m\u001b[0m\u001b[1;33m\u001b[0m\u001b[0m\n\u001b[0;32m     57\u001b[0m     \u001b[1;32mwith\u001b[0m \u001b[0msessions\u001b[0m\u001b[1;33m.\u001b[0m\u001b[0mSession\u001b[0m\u001b[1;33m(\u001b[0m\u001b[1;33m)\u001b[0m \u001b[1;32mas\u001b[0m \u001b[0msession\u001b[0m\u001b[1;33m:\u001b[0m\u001b[1;33m\u001b[0m\u001b[0m\n\u001b[1;32m---> 58\u001b[1;33m         \u001b[1;32mreturn\u001b[0m \u001b[0msession\u001b[0m\u001b[1;33m.\u001b[0m\u001b[0mrequest\u001b[0m\u001b[1;33m(\u001b[0m\u001b[0mmethod\u001b[0m\u001b[1;33m=\u001b[0m\u001b[0mmethod\u001b[0m\u001b[1;33m,\u001b[0m \u001b[0murl\u001b[0m\u001b[1;33m=\u001b[0m\u001b[0murl\u001b[0m\u001b[1;33m,\u001b[0m \u001b[1;33m**\u001b[0m\u001b[0mkwargs\u001b[0m\u001b[1;33m)\u001b[0m\u001b[1;33m\u001b[0m\u001b[0m\n\u001b[0m\u001b[0;32m     59\u001b[0m \u001b[1;33m\u001b[0m\u001b[0m\n\u001b[0;32m     60\u001b[0m \u001b[1;33m\u001b[0m\u001b[0m\n",
      "\u001b[1;32mc:\\users\\huangqi\\appdata\\local\\programs\\python\\python35\\lib\\site-packages\\requests\\sessions.py\u001b[0m in \u001b[0;36mrequest\u001b[1;34m(self, method, url, params, data, headers, cookies, files, auth, timeout, allow_redirects, proxies, hooks, stream, verify, cert, json)\u001b[0m\n\u001b[0;32m    506\u001b[0m         }\n\u001b[0;32m    507\u001b[0m         \u001b[0msend_kwargs\u001b[0m\u001b[1;33m.\u001b[0m\u001b[0mupdate\u001b[0m\u001b[1;33m(\u001b[0m\u001b[0msettings\u001b[0m\u001b[1;33m)\u001b[0m\u001b[1;33m\u001b[0m\u001b[0m\n\u001b[1;32m--> 508\u001b[1;33m         \u001b[0mresp\u001b[0m \u001b[1;33m=\u001b[0m \u001b[0mself\u001b[0m\u001b[1;33m.\u001b[0m\u001b[0msend\u001b[0m\u001b[1;33m(\u001b[0m\u001b[0mprep\u001b[0m\u001b[1;33m,\u001b[0m \u001b[1;33m**\u001b[0m\u001b[0msend_kwargs\u001b[0m\u001b[1;33m)\u001b[0m\u001b[1;33m\u001b[0m\u001b[0m\n\u001b[0m\u001b[0;32m    509\u001b[0m \u001b[1;33m\u001b[0m\u001b[0m\n\u001b[0;32m    510\u001b[0m         \u001b[1;32mreturn\u001b[0m \u001b[0mresp\u001b[0m\u001b[1;33m\u001b[0m\u001b[0m\n",
      "\u001b[1;32mc:\\users\\huangqi\\appdata\\local\\programs\\python\\python35\\lib\\site-packages\\requests\\sessions.py\u001b[0m in \u001b[0;36msend\u001b[1;34m(self, request, **kwargs)\u001b[0m\n\u001b[0;32m    616\u001b[0m \u001b[1;33m\u001b[0m\u001b[0m\n\u001b[0;32m    617\u001b[0m         \u001b[1;31m# Send the request\u001b[0m\u001b[1;33m\u001b[0m\u001b[1;33m\u001b[0m\u001b[0m\n\u001b[1;32m--> 618\u001b[1;33m         \u001b[0mr\u001b[0m \u001b[1;33m=\u001b[0m \u001b[0madapter\u001b[0m\u001b[1;33m.\u001b[0m\u001b[0msend\u001b[0m\u001b[1;33m(\u001b[0m\u001b[0mrequest\u001b[0m\u001b[1;33m,\u001b[0m \u001b[1;33m**\u001b[0m\u001b[0mkwargs\u001b[0m\u001b[1;33m)\u001b[0m\u001b[1;33m\u001b[0m\u001b[0m\n\u001b[0m\u001b[0;32m    619\u001b[0m \u001b[1;33m\u001b[0m\u001b[0m\n\u001b[0;32m    620\u001b[0m         \u001b[1;31m# Total elapsed time of the request (approximately)\u001b[0m\u001b[1;33m\u001b[0m\u001b[1;33m\u001b[0m\u001b[0m\n",
      "\u001b[1;32mc:\\users\\huangqi\\appdata\\local\\programs\\python\\python35\\lib\\site-packages\\requests\\adapters.py\u001b[0m in \u001b[0;36msend\u001b[1;34m(self, request, stream, timeout, verify, cert, proxies)\u001b[0m\n\u001b[0;32m    438\u001b[0m                     \u001b[0mdecode_content\u001b[0m\u001b[1;33m=\u001b[0m\u001b[1;32mFalse\u001b[0m\u001b[1;33m,\u001b[0m\u001b[1;33m\u001b[0m\u001b[0m\n\u001b[0;32m    439\u001b[0m                     \u001b[0mretries\u001b[0m\u001b[1;33m=\u001b[0m\u001b[0mself\u001b[0m\u001b[1;33m.\u001b[0m\u001b[0mmax_retries\u001b[0m\u001b[1;33m,\u001b[0m\u001b[1;33m\u001b[0m\u001b[0m\n\u001b[1;32m--> 440\u001b[1;33m                     \u001b[0mtimeout\u001b[0m\u001b[1;33m=\u001b[0m\u001b[0mtimeout\u001b[0m\u001b[1;33m\u001b[0m\u001b[0m\n\u001b[0m\u001b[0;32m    441\u001b[0m                 )\n\u001b[0;32m    442\u001b[0m \u001b[1;33m\u001b[0m\u001b[0m\n",
      "\u001b[1;32mc:\\users\\huangqi\\appdata\\local\\programs\\python\\python35\\lib\\site-packages\\urllib3\\connectionpool.py\u001b[0m in \u001b[0;36murlopen\u001b[1;34m(self, method, url, body, headers, retries, redirect, assert_same_host, timeout, pool_timeout, release_conn, chunked, body_pos, **response_kw)\u001b[0m\n\u001b[0;32m    599\u001b[0m                                                   \u001b[0mtimeout\u001b[0m\u001b[1;33m=\u001b[0m\u001b[0mtimeout_obj\u001b[0m\u001b[1;33m,\u001b[0m\u001b[1;33m\u001b[0m\u001b[0m\n\u001b[0;32m    600\u001b[0m                                                   \u001b[0mbody\u001b[0m\u001b[1;33m=\u001b[0m\u001b[0mbody\u001b[0m\u001b[1;33m,\u001b[0m \u001b[0mheaders\u001b[0m\u001b[1;33m=\u001b[0m\u001b[0mheaders\u001b[0m\u001b[1;33m,\u001b[0m\u001b[1;33m\u001b[0m\u001b[0m\n\u001b[1;32m--> 601\u001b[1;33m                                                   chunked=chunked)\n\u001b[0m\u001b[0;32m    602\u001b[0m \u001b[1;33m\u001b[0m\u001b[0m\n\u001b[0;32m    603\u001b[0m             \u001b[1;31m# If we're going to release the connection in ``finally:``, then\u001b[0m\u001b[1;33m\u001b[0m\u001b[1;33m\u001b[0m\u001b[0m\n",
      "\u001b[1;32mc:\\users\\huangqi\\appdata\\local\\programs\\python\\python35\\lib\\site-packages\\urllib3\\connectionpool.py\u001b[0m in \u001b[0;36m_make_request\u001b[1;34m(self, conn, method, url, timeout, chunked, **httplib_request_kw)\u001b[0m\n\u001b[0;32m    344\u001b[0m         \u001b[1;31m# Trigger any extra validation we need to do.\u001b[0m\u001b[1;33m\u001b[0m\u001b[1;33m\u001b[0m\u001b[0m\n\u001b[0;32m    345\u001b[0m         \u001b[1;32mtry\u001b[0m\u001b[1;33m:\u001b[0m\u001b[1;33m\u001b[0m\u001b[0m\n\u001b[1;32m--> 346\u001b[1;33m             \u001b[0mself\u001b[0m\u001b[1;33m.\u001b[0m\u001b[0m_validate_conn\u001b[0m\u001b[1;33m(\u001b[0m\u001b[0mconn\u001b[0m\u001b[1;33m)\u001b[0m\u001b[1;33m\u001b[0m\u001b[0m\n\u001b[0m\u001b[0;32m    347\u001b[0m         \u001b[1;32mexcept\u001b[0m \u001b[1;33m(\u001b[0m\u001b[0mSocketTimeout\u001b[0m\u001b[1;33m,\u001b[0m \u001b[0mBaseSSLError\u001b[0m\u001b[1;33m)\u001b[0m \u001b[1;32mas\u001b[0m \u001b[0me\u001b[0m\u001b[1;33m:\u001b[0m\u001b[1;33m\u001b[0m\u001b[0m\n\u001b[0;32m    348\u001b[0m             \u001b[1;31m# Py2 raises this as a BaseSSLError, Py3 raises it as socket timeout.\u001b[0m\u001b[1;33m\u001b[0m\u001b[1;33m\u001b[0m\u001b[0m\n",
      "\u001b[1;32mc:\\users\\huangqi\\appdata\\local\\programs\\python\\python35\\lib\\site-packages\\urllib3\\connectionpool.py\u001b[0m in \u001b[0;36m_validate_conn\u001b[1;34m(self, conn)\u001b[0m\n\u001b[0;32m    848\u001b[0m         \u001b[1;31m# Force connect early to allow us to validate the connection.\u001b[0m\u001b[1;33m\u001b[0m\u001b[1;33m\u001b[0m\u001b[0m\n\u001b[0;32m    849\u001b[0m         \u001b[1;32mif\u001b[0m \u001b[1;32mnot\u001b[0m \u001b[0mgetattr\u001b[0m\u001b[1;33m(\u001b[0m\u001b[0mconn\u001b[0m\u001b[1;33m,\u001b[0m \u001b[1;34m'sock'\u001b[0m\u001b[1;33m,\u001b[0m \u001b[1;32mNone\u001b[0m\u001b[1;33m)\u001b[0m\u001b[1;33m:\u001b[0m  \u001b[1;31m# AppEngine might not have  `.sock`\u001b[0m\u001b[1;33m\u001b[0m\u001b[0m\n\u001b[1;32m--> 850\u001b[1;33m             \u001b[0mconn\u001b[0m\u001b[1;33m.\u001b[0m\u001b[0mconnect\u001b[0m\u001b[1;33m(\u001b[0m\u001b[1;33m)\u001b[0m\u001b[1;33m\u001b[0m\u001b[0m\n\u001b[0m\u001b[0;32m    851\u001b[0m \u001b[1;33m\u001b[0m\u001b[0m\n\u001b[0;32m    852\u001b[0m         \u001b[1;32mif\u001b[0m \u001b[1;32mnot\u001b[0m \u001b[0mconn\u001b[0m\u001b[1;33m.\u001b[0m\u001b[0mis_verified\u001b[0m\u001b[1;33m:\u001b[0m\u001b[1;33m\u001b[0m\u001b[0m\n",
      "\u001b[1;32mc:\\users\\huangqi\\appdata\\local\\programs\\python\\python35\\lib\\site-packages\\urllib3\\connection.py\u001b[0m in \u001b[0;36mconnect\u001b[1;34m(self)\u001b[0m\n\u001b[0;32m    282\u001b[0m     \u001b[1;32mdef\u001b[0m \u001b[0mconnect\u001b[0m\u001b[1;33m(\u001b[0m\u001b[0mself\u001b[0m\u001b[1;33m)\u001b[0m\u001b[1;33m:\u001b[0m\u001b[1;33m\u001b[0m\u001b[0m\n\u001b[0;32m    283\u001b[0m         \u001b[1;31m# Add certificate verification\u001b[0m\u001b[1;33m\u001b[0m\u001b[1;33m\u001b[0m\u001b[0m\n\u001b[1;32m--> 284\u001b[1;33m         \u001b[0mconn\u001b[0m \u001b[1;33m=\u001b[0m \u001b[0mself\u001b[0m\u001b[1;33m.\u001b[0m\u001b[0m_new_conn\u001b[0m\u001b[1;33m(\u001b[0m\u001b[1;33m)\u001b[0m\u001b[1;33m\u001b[0m\u001b[0m\n\u001b[0m\u001b[0;32m    285\u001b[0m \u001b[1;33m\u001b[0m\u001b[0m\n\u001b[0;32m    286\u001b[0m         \u001b[0mhostname\u001b[0m \u001b[1;33m=\u001b[0m \u001b[0mself\u001b[0m\u001b[1;33m.\u001b[0m\u001b[0mhost\u001b[0m\u001b[1;33m\u001b[0m\u001b[0m\n",
      "\u001b[1;32mc:\\users\\huangqi\\appdata\\local\\programs\\python\\python35\\lib\\site-packages\\urllib3\\connection.py\u001b[0m in \u001b[0;36m_new_conn\u001b[1;34m(self)\u001b[0m\n\u001b[0;32m    139\u001b[0m         \u001b[1;32mtry\u001b[0m\u001b[1;33m:\u001b[0m\u001b[1;33m\u001b[0m\u001b[0m\n\u001b[0;32m    140\u001b[0m             conn = connection.create_connection(\n\u001b[1;32m--> 141\u001b[1;33m                 (self.host, self.port), self.timeout, **extra_kw)\n\u001b[0m\u001b[0;32m    142\u001b[0m \u001b[1;33m\u001b[0m\u001b[0m\n\u001b[0;32m    143\u001b[0m         \u001b[1;32mexcept\u001b[0m \u001b[0mSocketTimeout\u001b[0m \u001b[1;32mas\u001b[0m \u001b[0me\u001b[0m\u001b[1;33m:\u001b[0m\u001b[1;33m\u001b[0m\u001b[0m\n",
      "\u001b[1;32mc:\\users\\huangqi\\appdata\\local\\programs\\python\\python35\\lib\\site-packages\\urllib3\\util\\connection.py\u001b[0m in \u001b[0;36mcreate_connection\u001b[1;34m(address, timeout, source_address, socket_options)\u001b[0m\n\u001b[0;32m     71\u001b[0m             \u001b[1;32mif\u001b[0m \u001b[0msource_address\u001b[0m\u001b[1;33m:\u001b[0m\u001b[1;33m\u001b[0m\u001b[0m\n\u001b[0;32m     72\u001b[0m                 \u001b[0msock\u001b[0m\u001b[1;33m.\u001b[0m\u001b[0mbind\u001b[0m\u001b[1;33m(\u001b[0m\u001b[0msource_address\u001b[0m\u001b[1;33m)\u001b[0m\u001b[1;33m\u001b[0m\u001b[0m\n\u001b[1;32m---> 73\u001b[1;33m             \u001b[0msock\u001b[0m\u001b[1;33m.\u001b[0m\u001b[0mconnect\u001b[0m\u001b[1;33m(\u001b[0m\u001b[0msa\u001b[0m\u001b[1;33m)\u001b[0m\u001b[1;33m\u001b[0m\u001b[0m\n\u001b[0m\u001b[0;32m     74\u001b[0m             \u001b[1;32mreturn\u001b[0m \u001b[0msock\u001b[0m\u001b[1;33m\u001b[0m\u001b[0m\n\u001b[0;32m     75\u001b[0m \u001b[1;33m\u001b[0m\u001b[0m\n",
      "\u001b[1;31mKeyboardInterrupt\u001b[0m: "
     ]
    }
   ],
   "source": [
    "def get_one_page(url):\n",
    "    try:\n",
    "        header ={\n",
    "            'User-Agent':'Mozilla/5.0 (Windows NT 10.0; Win64; x64) AppleWebKit/537.36 (KHTML, like Gecko) Chrome/72.0.3626.96 Safari/537.36'\n",
    "        }\n",
    "        response = requests.get(url,headers=header)\n",
    "        if response.status_code == 200:\n",
    "            return response.text\n",
    "        return None\n",
    "    except RequestException:\n",
    "        return None\n",
    "\n",
    "    \n",
    "def parse_one_page(html,offset):\n",
    "#     result = ['id','name','man','woman','below20','20~24','25~29','30~34','35~39','above40','bachelor degree or above',\n",
    "#               'undergraduate and below','second-tier city','fourth-tier city','third-tier citiy','first-tier city','occupation','',''\n",
    "#              'preference-film','','','','','bought']\n",
    "    result = []\n",
    "    soup = BeautifulSoup(str(html),'lxml')\n",
    "    result.append(offset)\n",
    "    \n",
    "    name = soup.select('#pageData')\n",
    "    name = re.findall('movieName\":\"(.*?)\"',str(name),re.S)\n",
    "    result.append(str(name).replace(\"['\",\"\").replace(\"']\",\"\"))\n",
    "    \n",
    "    for sex in soup.select('.stackcolumn-bar')[:2]:\n",
    "        result.append(sex.attrs['style'].replace(\"width: \",\"\"))\n",
    "    for text in soup.select('.bar-group g'):\n",
    "        result.append(text.get_text())\n",
    "    for sex in soup.select('.stackcolumn-bar')[2:]:\n",
    "        result.append(sex.attrs['style'].replace(\"width: \",\"\"))\n",
    "    for text in soup.select('.linebars-value'):\n",
    "        result.append(text.get_text())\n",
    "    for text in soup.select('.pie-label-line text')[:1]:\n",
    "        result.append(text.get_text())\n",
    "    for text in soup.select('.pie-label-line text')[1:]:\n",
    "        result.append(text.get_text())\n",
    "    for text in soup.select('.scroll-title'):\n",
    "        result.append(text.get_text())\n",
    "    print(result)\n",
    "    return result\n",
    "\n",
    "\n",
    "\n",
    "def writein(result):\n",
    "    #打开文件，追加a\n",
    "    try:\n",
    "        out = open('yonghuhuaxiang.csv','a', newline='')\n",
    "        #设定写入模式\n",
    "        csv_write = csv.writer(out,dialect = 'excel')\n",
    "        #写入具体内容\n",
    "        csv_write.writerow(result)\n",
    "        print (\"write over\")\n",
    "    except UnicodeError:\n",
    "        print(\"go on\")\n",
    "\n",
    "def main(offset):\n",
    "    url = 'https://piaofang.maoyan.com/movie/'+str(offset)+'/wantindex?'\n",
    "    html = get_one_page(url)\n",
    "    result = parse_one_page(html,offset)\n",
    "    writein(result)\n",
    "\n",
    "if __name__ == '__main__':    \n",
    "    for line in open(\"2020id.txt\"):\n",
    "        main(line.replace(\"\\n\",\"\"))\n",
    "        time.sleep(1)\n",
    "#     for i in range(0,1):\n",
    "#         main(0)"
   ]
  },
  {
   "cell_type": "code",
   "execution_count": 4,
   "metadata": {
    "collapsed": false
   },
   "outputs": [],
   "source": [
    "# 这里是md5加密的函数\n",
    "\n",
    "import hashlib\n",
    "\n",
    "def to_md5(arg_str):\n",
    "    hash = hashlib.md5()\n",
    "    hash.update(bytes(arg_str,encoding='utf-8'))\n",
    "    # print(hash.hexdigest())\\\n",
    "    return hash.hexdigest()\n"
   ]
  },
  {
   "cell_type": "code",
   "execution_count": null,
   "metadata": {
    "collapsed": true
   },
   "outputs": [],
   "source": []
  },
  {
   "cell_type": "code",
   "execution_count": null,
   "metadata": {
    "collapsed": true
   },
   "outputs": [],
   "source": []
  }
 ],
 "metadata": {
  "kernelspec": {
   "display_name": "Python 3",
   "language": "python",
   "name": "python3"
  },
  "language_info": {
   "codemirror_mode": {
    "name": "ipython",
    "version": 3
   },
   "file_extension": ".py",
   "mimetype": "text/x-python",
   "name": "python",
   "nbconvert_exporter": "python",
   "pygments_lexer": "ipython3",
   "version": "3.5.4"
  }
 },
 "nbformat": 4,
 "nbformat_minor": 2
}
